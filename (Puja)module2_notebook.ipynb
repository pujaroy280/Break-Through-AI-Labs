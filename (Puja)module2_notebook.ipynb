{
  "nbformat": 4,
  "nbformat_minor": 5,
  "metadata": {
    "jupytext": {
      "cell_metadata_filter": "-all"
    },
    "kernelspec": {
      "display_name": "myenv",
      "language": "python",
      "name": "myenv"
    },
    "language_info": {
      "codemirror_mode": {
        "name": "ipython",
        "version": 3
      },
      "file_extension": ".py",
      "mimetype": "text/x-python",
      "name": "python",
      "nbconvert_exporter": "python",
      "pygments_lexer": "ipython3",
      "version": "3.8.5"
    },
    "colab": {
      "name": "(Puja)module2.notebook.ipynb",
      "provenance": [],
      "collapsed_sections": [
        "ba333977"
      ]
    }
  },
  "cells": [
    {
      "cell_type": "markdown",
      "source": [
        "# Lab 2 - Working with Structured Data"
      ],
      "metadata": {
        "id": "7163d8b9"
      }
    },
    {
      "cell_type": "markdown",
      "source": [
        "The target of this lab session is to analyze and understand a large\n",
        "datasets. The data we will work with today is a dataset of\n",
        "cities in the US and their climates. The module will\n",
        "discuss the challenges of loading data, finding the parts we are\n",
        "interested in, and visualizing data output."
      ],
      "metadata": {
        "id": "0c9e23ae"
      }
    },
    {
      "cell_type": "markdown",
      "source": [
        "![pandas](data:image/jpeg;base64,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)"
      ],
      "metadata": {
        "id": "1899dc25"
      }
    },
    {
      "cell_type": "markdown",
      "source": [
        "The main technical tool we will be working with is a library known\n",
        "as `Pandas`. Despite the silly name, Pandas is a super popular\n",
        "library for data analysis. It is used in many technology companies\n",
        "for loading and manipulating data. "
      ],
      "metadata": {
        "lines_to_next_cell": 2,
        "id": "6a4e00e2"
      }
    },
    {
      "cell_type": "markdown",
      "source": [
        "# Review"
      ],
      "metadata": {
        "id": "325d6afd"
      }
    },
    {
      "cell_type": "markdown",
      "source": [
        "Before we get started let us review some of the Python code that we saw last class. "
      ],
      "metadata": {
        "id": "f5d8be38"
      }
    },
    {
      "cell_type": "markdown",
      "source": [
        "![python](https://upload.wikimedia.org/wikipedia/commons/c/c3/Python-logo-notext.svg)"
      ],
      "metadata": {
        "id": "50698770"
      }
    },
    {
      "cell_type": "markdown",
      "source": [
        "We first saw a bunch of different types such as numbers, strings, and lists"
      ],
      "metadata": {
        "id": "79e63944"
      }
    },
    {
      "cell_type": "code",
      "execution_count": 1,
      "source": [
        "number1 = 50.5\r\n",
        "string1 = \"New York\"\r\n",
        "list1 = [\"Queens\", \"Brooklyn\", \"Manhattan\", \"Staten Island\", \"The Bronx\"]"
      ],
      "outputs": [],
      "metadata": {
        "execution": {
          "iopub.execute_input": "2021-06-21T19:17:17.909468Z",
          "iopub.status.busy": "2021-06-21T19:17:17.908399Z",
          "iopub.status.idle": "2021-06-21T19:17:17.912507Z",
          "shell.execute_reply": "2021-06-21T19:17:17.911469Z"
        },
        "id": "93ffbe3a"
      }
    },
    {
      "cell_type": "markdown",
      "source": [
        "We then saw some more complex types likes dates and counters."
      ],
      "metadata": {
        "id": "f245b935"
      }
    },
    {
      "cell_type": "code",
      "execution_count": 2,
      "source": [
        "import datetime\r\n",
        "date1 = datetime.datetime.now()\r\n",
        "date1"
      ],
      "outputs": [
        {
          "output_type": "execute_result",
          "data": {
            "text/plain": [
              "datetime.datetime(2021, 9, 26, 8, 36, 5, 190758)"
            ]
          },
          "metadata": {},
          "execution_count": 2
        }
      ],
      "metadata": {
        "execution": {
          "iopub.execute_input": "2021-06-21T19:17:17.927215Z",
          "iopub.status.busy": "2021-06-21T19:17:17.926274Z",
          "iopub.status.idle": "2021-06-21T19:17:17.930692Z",
          "shell.execute_reply": "2021-06-21T19:17:17.931440Z"
        },
        "id": "9153121b",
        "colab": {
          "base_uri": "https://localhost:8080/",
          "height": 0
        },
        "outputId": "cbc971c4-488e-467d-bfe2-1b9c29bb4cad"
      }
    },
    {
      "cell_type": "markdown",
      "source": [
        "As there are so many different types in Python, we discussed how\n",
        "important it was to use Google and StackOverflow to find examples."
      ],
      "metadata": {
        "id": "b5c5d1e5"
      }
    },
    {
      "cell_type": "code",
      "execution_count": 3,
      "source": [
        "from collections import Counter\r\n",
        "counter = Counter([\"A\", \"B\", \"A\", \"A\", \"C\", \"C\", \"B\", \"A\", \"A\", \"A\"])\r\n",
        "counter.most_common()"
      ],
      "outputs": [
        {
          "output_type": "execute_result",
          "data": {
            "text/plain": [
              "[('A', 6), ('B', 2), ('C', 2)]"
            ]
          },
          "metadata": {},
          "execution_count": 3
        }
      ],
      "metadata": {
        "execution": {
          "iopub.execute_input": "2021-06-21T19:17:17.938547Z",
          "iopub.status.busy": "2021-06-21T19:17:17.937643Z",
          "iopub.status.idle": "2021-06-21T19:17:17.940849Z",
          "shell.execute_reply": "2021-06-21T19:17:17.941559Z"
        },
        "id": "b2d5a4b2",
        "colab": {
          "base_uri": "https://localhost:8080/",
          "height": 0
        },
        "outputId": "dc63a1a3-f8f6-441e-f0ec-257df4d258a8"
      }
    },
    {
      "cell_type": "markdown",
      "source": [
        "Next, we focused on `if` and `for` the two most important control\n",
        "elements in python."
      ],
      "metadata": {
        "id": "bad3ce0e"
      }
    },
    {
      "cell_type": "markdown",
      "source": [
        "* `if` lets us decide which block of code to run\n",
        "* `for` lets us run the same code for each element in a list"
      ],
      "metadata": {
        "id": "90cff625"
      }
    },
    {
      "cell_type": "code",
      "execution_count": 4,
      "source": [
        "for val in range(10):\r\n",
        "    print(val)"
      ],
      "outputs": [
        {
          "output_type": "stream",
          "name": "stdout",
          "text": [
            "0\n",
            "1\n",
            "2\n",
            "3\n",
            "4\n",
            "5\n",
            "6\n",
            "7\n",
            "8\n",
            "9\n"
          ]
        }
      ],
      "metadata": {
        "execution": {
          "iopub.execute_input": "2021-06-21T19:17:17.947927Z",
          "iopub.status.busy": "2021-06-21T19:17:17.947040Z",
          "iopub.status.idle": "2021-06-21T19:17:17.951787Z",
          "shell.execute_reply": "2021-06-21T19:17:17.952508Z"
        },
        "id": "3fd18931",
        "colab": {
          "base_uri": "https://localhost:8080/",
          "height": 0
        },
        "outputId": "eae2429c-8761-46fb-f9a0-6e4b8cccfca5"
      }
    },
    {
      "cell_type": "markdown",
      "source": [
        "Finally we discussed the special case of strings. There are\n",
        "many useful ways to find values in strings and create new strings."
      ],
      "metadata": {
        "id": "8b218cbf"
      }
    },
    {
      "cell_type": "code",
      "execution_count": 5,
      "source": [
        "\"first \" + \"second\""
      ],
      "outputs": [
        {
          "output_type": "execute_result",
          "data": {
            "application/vnd.google.colaboratory.intrinsic+json": {
              "type": "string"
            },
            "text/plain": [
              "'first second'"
            ]
          },
          "metadata": {},
          "execution_count": 5
        }
      ],
      "metadata": {
        "execution": {
          "iopub.execute_input": "2021-06-21T19:17:17.959449Z",
          "iopub.status.busy": "2021-06-21T19:17:17.958429Z",
          "iopub.status.idle": "2021-06-21T19:17:17.961901Z",
          "shell.execute_reply": "2021-06-21T19:17:17.962677Z"
        },
        "id": "f319a206",
        "colab": {
          "base_uri": "https://localhost:8080/",
          "height": 35
        },
        "outputId": "97719d1e-2f62-45b5-e51a-48cf59ea8c20"
      }
    },
    {
      "cell_type": "code",
      "execution_count": 6,
      "source": [
        "str1 = \"first|second\""
      ],
      "outputs": [],
      "metadata": {
        "execution": {
          "iopub.execute_input": "2021-06-21T19:17:17.968644Z",
          "iopub.status.busy": "2021-06-21T19:17:17.967701Z",
          "iopub.status.idle": "2021-06-21T19:17:17.970916Z",
          "shell.execute_reply": "2021-06-21T19:17:17.970137Z"
        },
        "id": "8adbac35"
      }
    },
    {
      "cell_type": "code",
      "execution_count": 7,
      "source": [
        "str1.split(\"|\")"
      ],
      "outputs": [
        {
          "output_type": "execute_result",
          "data": {
            "text/plain": [
              "['first', 'second']"
            ]
          },
          "metadata": {},
          "execution_count": 7
        }
      ],
      "metadata": {
        "execution": {
          "iopub.execute_input": "2021-06-21T19:17:17.977258Z",
          "iopub.status.busy": "2021-06-21T19:17:17.976377Z",
          "iopub.status.idle": "2021-06-21T19:17:17.979836Z",
          "shell.execute_reply": "2021-06-21T19:17:17.980558Z"
        },
        "lines_to_next_cell": 2,
        "id": "e17091e3",
        "colab": {
          "base_uri": "https://localhost:8080/",
          "height": 0
        },
        "outputId": "efa549cf-d98c-4687-adb4-017b473d7c21"
      }
    },
    {
      "cell_type": "markdown",
      "source": [
        "## Questions from the previous lab?\n",
        "\n"
      ],
      "metadata": {
        "id": "ba333977"
      }
    },
    {
      "cell_type": "markdown",
      "source": [
        "## Review Exercise "
      ],
      "metadata": {
        "id": "f6c3bdfe"
      }
    },
    {
      "cell_type": "markdown",
      "source": [
        "Print only the values in this list that are greater than 20."
      ],
      "metadata": {
        "id": "cc1a620f"
      }
    },
    {
      "cell_type": "code",
      "execution_count": 8,
      "source": [
        "list1 = [5, 50, 15, 60, 4, 80]"
      ],
      "outputs": [],
      "metadata": {
        "execution": {
          "iopub.execute_input": "2021-06-21T19:17:17.986835Z",
          "iopub.status.busy": "2021-06-21T19:17:17.985956Z",
          "iopub.status.idle": "2021-06-21T19:17:17.989601Z",
          "shell.execute_reply": "2021-06-21T19:17:17.988669Z"
        },
        "id": "d77be3a9"
      }
    },
    {
      "cell_type": "code",
      "execution_count": 9,
      "source": [
        "#📝📝📝📝 FILLME\r\n",
        "print(all(x >= 20 for x in list1)) "
      ],
      "outputs": [
        {
          "output_type": "stream",
          "name": "stdout",
          "text": [
            "False\n"
          ]
        }
      ],
      "metadata": {
        "execution": {
          "iopub.execute_input": "2021-06-21T19:17:17.994945Z",
          "iopub.status.busy": "2021-06-21T19:17:17.994061Z",
          "iopub.status.idle": "2021-06-21T19:17:17.998174Z",
          "shell.execute_reply": "2021-06-21T19:17:17.997243Z"
        },
        "id": "918cddba",
        "colab": {
          "base_uri": "https://localhost:8080/",
          "height": 0
        },
        "outputId": "f40e38a2-2e9c-466d-86fe-381964268798"
      }
    },
    {
      "cell_type": "markdown",
      "source": [
        "# Unit A"
      ],
      "metadata": {
        "id": "da7c889a"
      }
    },
    {
      "cell_type": "markdown",
      "source": [
        "This week is all about `datatables`, also known as\n",
        "`dataframes`. Data tables are a common way of representing facts\n",
        "anywhere from newspaper articles to scientific studies."
      ],
      "metadata": {
        "id": "e7003d7c"
      }
    },
    {
      "cell_type": "markdown",
      "source": [
        "For instance, as a running example let us consider this table from Wikipedia."
      ],
      "metadata": {
        "id": "0a61e982"
      }
    },
    {
      "cell_type": "markdown",
      "source": [
        "![new york](https://upload.wikimedia.org/wikipedia/commons/thumb/5/57/LA_Skyline_Mountains2.jpg/120px-LA_Skyline_Mountains2.jpg)"
      ],
      "metadata": {
        "id": "46a73351"
      }
    },
    {
      "cell_type": "markdown",
      "source": [
        "https://en.wikipedia.org/wiki/List_of_North_American_cities_by_population"
      ],
      "metadata": {
        "id": "e32ae44d"
      }
    },
    {
      "cell_type": "markdown",
      "source": [
        "You may have used datatables before in spreadsheets. For example we can put that\n",
        "wikipedia table in a spreadsheet."
      ],
      "metadata": {
        "id": "baafb376"
      }
    },
    {
      "cell_type": "markdown",
      "source": [
        "https://docs.google.com/spreadsheets/d/1Jwcr6IBJbOT1G4Vq7VqaZ7S1V9gRmUb5ALkJPaG5fxI/edit?usp=sharing"
      ],
      "metadata": {
        "id": "f4cb7a25"
      }
    },
    {
      "cell_type": "markdown",
      "source": [
        "In this spreadsheet we can do lots of things."
      ],
      "metadata": {
        "id": "5508ffa7"
      }
    },
    {
      "cell_type": "markdown",
      "source": [
        "👩‍🎓**Student question: Do you know how to do the following?**"
      ],
      "metadata": {
        "id": "8ca2a98b"
      }
    },
    {
      "cell_type": "markdown",
      "source": [
        "* Change the column names\n",
        "* Delete a row\n",
        "* Make a graph\n",
        "* Add a new column"
      ],
      "metadata": {
        "id": "9c308bb9"
      }
    },
    {
      "cell_type": "markdown",
      "source": [
        "What about more advanced ideas. Can you?"
      ],
      "metadata": {
        "id": "a7ad316f"
      }
    },
    {
      "cell_type": "markdown",
      "source": [
        "* Sort by a column?\n",
        "* Add a new column that changes the previous column?\n",
        "* Take the sum of a row?\n",
        "* Find the highest value in a row?"
      ],
      "metadata": {
        "id": "e9cd69b9"
      }
    },
    {
      "cell_type": "markdown",
      "source": [
        "In this lab we will work with real-world data to learn how to\n",
        "calculate important properties."
      ],
      "metadata": {
        "id": "fab0d1de"
      }
    },
    {
      "cell_type": "markdown",
      "source": [
        "## Pandas"
      ],
      "metadata": {
        "id": "69123276"
      }
    },
    {
      "cell_type": "markdown",
      "source": [
        "The data that we are working with is located in the file \"Cities.csv\".\n",
        "This file is raw data as a text file. We can see the output in raw form."
      ],
      "metadata": {
        "id": "14ce1fc7"
      }
    },
    {
      "cell_type": "markdown",
      "source": [
        "https://srush.github.io/BT-AI/notebooks/Cities.csv"
      ],
      "metadata": {
        "id": "5b389e40"
      }
    },
    {
      "cell_type": "markdown",
      "source": [
        "We can see that \"csv\" stands for \"comma separated values\" as each element\n",
        "of the file is split using a comma. "
      ],
      "metadata": {
        "id": "b2e6f96d"
      }
    },
    {
      "cell_type": "markdown",
      "source": [
        "Pandas is as a super-powered spreadsheet."
      ],
      "metadata": {
        "id": "2d0e0970"
      }
    },
    {
      "cell_type": "code",
      "execution_count": 10,
      "source": [
        "import pandas as pd"
      ],
      "outputs": [],
      "metadata": {
        "execution": {
          "iopub.execute_input": "2021-06-21T19:17:18.006028Z",
          "iopub.status.busy": "2021-06-21T19:17:18.004814Z",
          "iopub.status.idle": "2021-06-21T19:17:18.181610Z",
          "shell.execute_reply": "2021-06-21T19:17:18.181044Z"
        },
        "id": "e675160d"
      }
    },
    {
      "cell_type": "markdown",
      "source": [
        "To load data in the library we use the following command. Here `df`\n",
        "refers to the \"DataFrame\" which is what Pandas calls a spreadsheet."
      ],
      "metadata": {
        "id": "c043f418"
      }
    },
    {
      "cell_type": "code",
      "execution_count": 11,
      "source": [
        "df = pd.read_csv(\"https://srush.github.io/BT-AI/notebooks/Cities.csv\")\r\n",
        "df"
      ],
      "outputs": [
        {
          "output_type": "execute_result",
          "data": {
            "text/html": [
              "<div>\n",
              "<style scoped>\n",
              "    .dataframe tbody tr th:only-of-type {\n",
              "        vertical-align: middle;\n",
              "    }\n",
              "\n",
              "    .dataframe tbody tr th {\n",
              "        vertical-align: top;\n",
              "    }\n",
              "\n",
              "    .dataframe thead th {\n",
              "        text-align: right;\n",
              "    }\n",
              "</style>\n",
              "<table border=\"1\" class=\"dataframe\">\n",
              "  <thead>\n",
              "    <tr style=\"text-align: right;\">\n",
              "      <th></th>\n",
              "      <th>Rank</th>\n",
              "      <th>City</th>\n",
              "      <th>Country</th>\n",
              "      <th>Population</th>\n",
              "    </tr>\n",
              "  </thead>\n",
              "  <tbody>\n",
              "    <tr>\n",
              "      <th>0</th>\n",
              "      <td>0</td>\n",
              "      <td>Mexico City</td>\n",
              "      <td>Mexico</td>\n",
              "      <td>8918653</td>\n",
              "    </tr>\n",
              "    <tr>\n",
              "      <th>1</th>\n",
              "      <td>1</td>\n",
              "      <td>New York City</td>\n",
              "      <td>United States</td>\n",
              "      <td>8550405</td>\n",
              "    </tr>\n",
              "    <tr>\n",
              "      <th>2</th>\n",
              "      <td>2</td>\n",
              "      <td>Los Angeles</td>\n",
              "      <td>United States</td>\n",
              "      <td>3971883</td>\n",
              "    </tr>\n",
              "    <tr>\n",
              "      <th>3</th>\n",
              "      <td>3</td>\n",
              "      <td>Toronto</td>\n",
              "      <td>Canada</td>\n",
              "      <td>2826498</td>\n",
              "    </tr>\n",
              "    <tr>\n",
              "      <th>4</th>\n",
              "      <td>4</td>\n",
              "      <td>Chicago</td>\n",
              "      <td>United States</td>\n",
              "      <td>2720546</td>\n",
              "    </tr>\n",
              "    <tr>\n",
              "      <th>...</th>\n",
              "      <td>...</td>\n",
              "      <td>...</td>\n",
              "      <td>...</td>\n",
              "      <td>...</td>\n",
              "    </tr>\n",
              "    <tr>\n",
              "      <th>90</th>\n",
              "      <td>90</td>\n",
              "      <td>Surrey</td>\n",
              "      <td>Canada</td>\n",
              "      <td>526004</td>\n",
              "    </tr>\n",
              "    <tr>\n",
              "      <th>91</th>\n",
              "      <td>91</td>\n",
              "      <td>Ciudad López Mateos</td>\n",
              "      <td>Mexico</td>\n",
              "      <td>523296</td>\n",
              "    </tr>\n",
              "    <tr>\n",
              "      <th>92</th>\n",
              "      <td>92</td>\n",
              "      <td>Tultitlán</td>\n",
              "      <td>Mexico</td>\n",
              "      <td>520557</td>\n",
              "    </tr>\n",
              "    <tr>\n",
              "      <th>93</th>\n",
              "      <td>93</td>\n",
              "      <td>Fresno</td>\n",
              "      <td>United States</td>\n",
              "      <td>520052</td>\n",
              "    </tr>\n",
              "    <tr>\n",
              "      <th>94</th>\n",
              "      <td>94</td>\n",
              "      <td>Carrefour</td>\n",
              "      <td>Haiti</td>\n",
              "      <td>501768</td>\n",
              "    </tr>\n",
              "  </tbody>\n",
              "</table>\n",
              "<p>95 rows × 4 columns</p>\n",
              "</div>"
            ],
            "text/plain": [
              "    Rank                 City        Country  Population\n",
              "0      0          Mexico City         Mexico     8918653\n",
              "1      1        New York City  United States     8550405\n",
              "2      2          Los Angeles  United States     3971883\n",
              "3      3              Toronto         Canada     2826498\n",
              "4      4              Chicago  United States     2720546\n",
              "..   ...                  ...            ...         ...\n",
              "90    90               Surrey         Canada      526004\n",
              "91    91  Ciudad López Mateos         Mexico      523296\n",
              "92    92            Tultitlán         Mexico      520557\n",
              "93    93               Fresno  United States      520052\n",
              "94    94            Carrefour          Haiti      501768\n",
              "\n",
              "[95 rows x 4 columns]"
            ]
          },
          "metadata": {},
          "execution_count": 11
        }
      ],
      "metadata": {
        "execution": {
          "iopub.execute_input": "2021-06-21T19:17:18.185783Z",
          "iopub.status.busy": "2021-06-21T19:17:18.185171Z",
          "iopub.status.idle": "2021-06-21T19:17:18.248921Z",
          "shell.execute_reply": "2021-06-21T19:17:18.248123Z"
        },
        "id": "36261121",
        "colab": {
          "base_uri": "https://localhost:8080/",
          "height": 417
        },
        "outputId": "c758555d-6780-4b77-e1d9-679336a3c786"
      }
    },
    {
      "cell_type": "markdown",
      "source": [
        "Just like in a spreadsheet Pandas has multiple columns representing\n",
        "the underlying elements in the data. These each have a name here."
      ],
      "metadata": {
        "id": "cda99e1b"
      }
    },
    {
      "cell_type": "code",
      "execution_count": 12,
      "source": [
        "df.columns"
      ],
      "outputs": [
        {
          "output_type": "execute_result",
          "data": {
            "text/plain": [
              "Index(['Rank', 'City', 'Country', 'Population'], dtype='object')"
            ]
          },
          "metadata": {},
          "execution_count": 12
        }
      ],
      "metadata": {
        "execution": {
          "iopub.execute_input": "2021-06-21T19:17:18.253923Z",
          "iopub.status.busy": "2021-06-21T19:17:18.253084Z",
          "iopub.status.idle": "2021-06-21T19:17:18.256099Z",
          "shell.execute_reply": "2021-06-21T19:17:18.256798Z"
        },
        "id": "1148df60",
        "colab": {
          "base_uri": "https://localhost:8080/",
          "height": 0
        },
        "outputId": "e18ad8dd-e14f-450d-dee8-c767e3f151da"
      }
    },
    {
      "cell_type": "markdown",
      "source": [
        "To see just the elements in a single column we can use square\n",
        "brackets to see just only column."
      ],
      "metadata": {
        "id": "c5a4aaba"
      }
    },
    {
      "cell_type": "code",
      "execution_count": 13,
      "source": [
        "df[\"City\"]"
      ],
      "outputs": [
        {
          "output_type": "execute_result",
          "data": {
            "text/plain": [
              "0             Mexico City\n",
              "1           New York City\n",
              "2             Los Angeles\n",
              "3                 Toronto\n",
              "4                 Chicago\n",
              "             ...         \n",
              "90                 Surrey\n",
              "91    Ciudad López Mateos\n",
              "92              Tultitlán\n",
              "93                 Fresno\n",
              "94              Carrefour\n",
              "Name: City, Length: 95, dtype: object"
            ]
          },
          "metadata": {},
          "execution_count": 13
        }
      ],
      "metadata": {
        "execution": {
          "iopub.execute_input": "2021-06-21T19:17:18.263366Z",
          "iopub.status.busy": "2021-06-21T19:17:18.262592Z",
          "iopub.status.idle": "2021-06-21T19:17:18.265572Z",
          "shell.execute_reply": "2021-06-21T19:17:18.266178Z"
        },
        "id": "b564febc",
        "colab": {
          "base_uri": "https://localhost:8080/",
          "height": 0
        },
        "outputId": "e924a486-7cd5-4351-a064-32324306375e"
      }
    },
    {
      "cell_type": "markdown",
      "source": [
        "👩‍🎓**Student Question: Can you print out another column in the table?**"
      ],
      "metadata": {
        "id": "71723d6e"
      }
    },
    {
      "cell_type": "code",
      "execution_count": 14,
      "source": [
        "#📝📝📝📝 FILLME\r\n",
        "df[\"Country\"]"
      ],
      "outputs": [
        {
          "output_type": "execute_result",
          "data": {
            "text/plain": [
              "0            Mexico\n",
              "1     United States\n",
              "2     United States\n",
              "3            Canada\n",
              "4     United States\n",
              "          ...      \n",
              "90           Canada\n",
              "91           Mexico\n",
              "92           Mexico\n",
              "93    United States\n",
              "94            Haiti\n",
              "Name: Country, Length: 95, dtype: object"
            ]
          },
          "metadata": {},
          "execution_count": 14
        }
      ],
      "metadata": {
        "execution": {
          "iopub.execute_input": "2021-06-21T19:17:18.270856Z",
          "iopub.status.busy": "2021-06-21T19:17:18.270066Z",
          "iopub.status.idle": "2021-06-21T19:17:18.272786Z",
          "shell.execute_reply": "2021-06-21T19:17:18.273419Z"
        },
        "id": "cf4cd87f",
        "colab": {
          "base_uri": "https://localhost:8080/",
          "height": 0
        },
        "outputId": "305564bc-6e6f-476b-d355-8e131b679766"
      }
    },
    {
      "cell_type": "markdown",
      "source": [
        "Alternatively if we want to see just a single row we can use the `loc`\n",
        "command. "
      ],
      "metadata": {
        "id": "6fdbbe04"
      }
    },
    {
      "cell_type": "code",
      "execution_count": 15,
      "source": [
        "df.loc[1]"
      ],
      "outputs": [
        {
          "output_type": "execute_result",
          "data": {
            "text/plain": [
              "Rank                      1\n",
              "City          New York City\n",
              "Country       United States\n",
              "Population          8550405\n",
              "Name: 1, dtype: object"
            ]
          },
          "metadata": {},
          "execution_count": 15
        }
      ],
      "metadata": {
        "execution": {
          "iopub.execute_input": "2021-06-21T19:17:18.281144Z",
          "iopub.status.busy": "2021-06-21T19:17:18.280310Z",
          "iopub.status.idle": "2021-06-21T19:17:18.283568Z",
          "shell.execute_reply": "2021-06-21T19:17:18.284271Z"
        },
        "id": "785c7dee",
        "colab": {
          "base_uri": "https://localhost:8080/",
          "height": 0
        },
        "outputId": "b0f4bac6-4881-43b8-f54c-e8b867fedb8d"
      }
    },
    {
      "cell_type": "markdown",
      "source": [
        "If we want to select several rows we can also pass in a list."
      ],
      "metadata": {
        "id": "ef4f3ad3"
      }
    },
    {
      "cell_type": "code",
      "execution_count": 16,
      "source": [
        "list_of_rows = [1, 5, 6]\r\n",
        "df.loc[list_of_rows]"
      ],
      "outputs": [
        {
          "output_type": "execute_result",
          "data": {
            "text/html": [
              "<div>\n",
              "<style scoped>\n",
              "    .dataframe tbody tr th:only-of-type {\n",
              "        vertical-align: middle;\n",
              "    }\n",
              "\n",
              "    .dataframe tbody tr th {\n",
              "        vertical-align: top;\n",
              "    }\n",
              "\n",
              "    .dataframe thead th {\n",
              "        text-align: right;\n",
              "    }\n",
              "</style>\n",
              "<table border=\"1\" class=\"dataframe\">\n",
              "  <thead>\n",
              "    <tr style=\"text-align: right;\">\n",
              "      <th></th>\n",
              "      <th>Rank</th>\n",
              "      <th>City</th>\n",
              "      <th>Country</th>\n",
              "      <th>Population</th>\n",
              "    </tr>\n",
              "  </thead>\n",
              "  <tbody>\n",
              "    <tr>\n",
              "      <th>1</th>\n",
              "      <td>1</td>\n",
              "      <td>New York City</td>\n",
              "      <td>United States</td>\n",
              "      <td>8550405</td>\n",
              "    </tr>\n",
              "    <tr>\n",
              "      <th>5</th>\n",
              "      <td>5</td>\n",
              "      <td>Houston</td>\n",
              "      <td>United States</td>\n",
              "      <td>2296224</td>\n",
              "    </tr>\n",
              "    <tr>\n",
              "      <th>6</th>\n",
              "      <td>6</td>\n",
              "      <td>Havana</td>\n",
              "      <td>Cuba</td>\n",
              "      <td>2117625</td>\n",
              "    </tr>\n",
              "  </tbody>\n",
              "</table>\n",
              "</div>"
            ],
            "text/plain": [
              "   Rank           City        Country  Population\n",
              "1     1  New York City  United States     8550405\n",
              "5     5        Houston  United States     2296224\n",
              "6     6         Havana           Cuba     2117625"
            ]
          },
          "metadata": {},
          "execution_count": 16
        }
      ],
      "metadata": {
        "execution": {
          "iopub.execute_input": "2021-06-21T19:17:18.297978Z",
          "iopub.status.busy": "2021-06-21T19:17:18.297045Z",
          "iopub.status.idle": "2021-06-21T19:17:18.301177Z",
          "shell.execute_reply": "2021-06-21T19:17:18.300307Z"
        },
        "id": "f98b037a",
        "colab": {
          "base_uri": "https://localhost:8080/",
          "height": 142
        },
        "outputId": "c558d122-2c90-405e-ebcf-03f72bfcf1e6"
      }
    },
    {
      "cell_type": "markdown",
      "source": [
        "👩‍🎓**Student Question: Can you print out the rows of Philadelphia and Los Angeles?**"
      ],
      "metadata": {
        "id": "0ac158ec"
      }
    },
    {
      "cell_type": "code",
      "execution_count": 17,
      "source": [
        "#📝📝📝📝 FILLME\r\n",
        "df.loc[[5,9]]"
      ],
      "outputs": [
        {
          "output_type": "execute_result",
          "data": {
            "text/html": [
              "<div>\n",
              "<style scoped>\n",
              "    .dataframe tbody tr th:only-of-type {\n",
              "        vertical-align: middle;\n",
              "    }\n",
              "\n",
              "    .dataframe tbody tr th {\n",
              "        vertical-align: top;\n",
              "    }\n",
              "\n",
              "    .dataframe thead th {\n",
              "        text-align: right;\n",
              "    }\n",
              "</style>\n",
              "<table border=\"1\" class=\"dataframe\">\n",
              "  <thead>\n",
              "    <tr style=\"text-align: right;\">\n",
              "      <th></th>\n",
              "      <th>Rank</th>\n",
              "      <th>City</th>\n",
              "      <th>Country</th>\n",
              "      <th>Population</th>\n",
              "    </tr>\n",
              "  </thead>\n",
              "  <tbody>\n",
              "    <tr>\n",
              "      <th>5</th>\n",
              "      <td>5</td>\n",
              "      <td>Houston</td>\n",
              "      <td>United States</td>\n",
              "      <td>2296224</td>\n",
              "    </tr>\n",
              "    <tr>\n",
              "      <th>9</th>\n",
              "      <td>9</td>\n",
              "      <td>Philadelphia</td>\n",
              "      <td>United States</td>\n",
              "      <td>1567442</td>\n",
              "    </tr>\n",
              "  </tbody>\n",
              "</table>\n",
              "</div>"
            ],
            "text/plain": [
              "   Rank          City        Country  Population\n",
              "5     5       Houston  United States     2296224\n",
              "9     9  Philadelphia  United States     1567442"
            ]
          },
          "metadata": {},
          "execution_count": 17
        }
      ],
      "metadata": {
        "execution": {
          "iopub.execute_input": "2021-06-21T19:17:18.306309Z",
          "iopub.status.busy": "2021-06-21T19:17:18.305466Z",
          "iopub.status.idle": "2021-06-21T19:17:18.308041Z",
          "shell.execute_reply": "2021-06-21T19:17:18.308648Z"
        },
        "id": "b6e105c7",
        "colab": {
          "base_uri": "https://localhost:8080/",
          "height": 110
        },
        "outputId": "b8e263ac-2f1a-4083-870e-e630b23443df"
      }
    },
    {
      "cell_type": "markdown",
      "source": [
        "## Filters"
      ],
      "metadata": {
        "id": "e15f4bdc"
      }
    },
    {
      "cell_type": "markdown",
      "source": [
        "These commands are relatively basic though and easy to do in a\n",
        "standard spreadsheet. The main power of Pandas comes from the\n",
        "ability to select rows based on complex filters."
      ],
      "metadata": {
        "id": "69c8f1bd"
      }
    },
    {
      "cell_type": "markdown",
      "source": [
        "For instance, if you were in a spreadsheet, how would you select only the\n",
        "rows that correspond to cities in *Mexico*? It's possible but a bit challenging. "
      ],
      "metadata": {
        "id": "01b8f22c"
      }
    },
    {
      "cell_type": "markdown",
      "source": [
        "In Pandas, we first create a filter. This is kind of like an if statement that gets\n",
        "applied to every row. It creates a variable that remembers which rows passed the filter test."
      ],
      "metadata": {
        "id": "c055be17"
      }
    },
    {
      "cell_type": "markdown",
      "source": [
        "**Filtering**\n",
        "\n",
        "1. Decide on the conditional statements in your filter.\n",
        "2. Define a `filter` varaible for your dataframe .\n",
        "3. Apply filter and rename the dataframe."
      ],
      "metadata": {
        "lines_to_next_cell": 2,
        "id": "913d2579"
      }
    },
    {
      "cell_type": "markdown",
      "source": [
        "Step 1. Our filter is that we want the Country column to be Mexico"
      ],
      "metadata": {
        "id": "66d3636d"
      }
    },
    {
      "cell_type": "markdown",
      "source": [
        "Step 2. We create a filter variable with this conditional. Notice\n",
        "that the filter has a 1 for every city in Mexico and a 0 otherwise."
      ],
      "metadata": {
        "id": "93012ad4"
      }
    },
    {
      "cell_type": "code",
      "execution_count": 18,
      "source": [
        "filter = df[\"Country\"] == \"Mexico\"\r\n",
        "filter"
      ],
      "outputs": [
        {
          "output_type": "execute_result",
          "data": {
            "text/plain": [
              "0      True\n",
              "1     False\n",
              "2     False\n",
              "3     False\n",
              "4     False\n",
              "      ...  \n",
              "90    False\n",
              "91     True\n",
              "92     True\n",
              "93    False\n",
              "94    False\n",
              "Name: Country, Length: 95, dtype: bool"
            ]
          },
          "metadata": {},
          "execution_count": 18
        }
      ],
      "metadata": {
        "execution": {
          "iopub.execute_input": "2021-06-21T19:17:18.317177Z",
          "iopub.status.busy": "2021-06-21T19:17:18.316375Z",
          "iopub.status.idle": "2021-06-21T19:17:18.319646Z",
          "shell.execute_reply": "2021-06-21T19:17:18.320341Z"
        },
        "id": "b0daf338",
        "colab": {
          "base_uri": "https://localhost:8080/",
          "height": 0
        },
        "outputId": "38ac64b0-cfc1-478d-cd39-a6c4b314718f"
      }
    },
    {
      "cell_type": "markdown",
      "source": [
        "Step 3. We then apply the filter to select the rows that we would like to\n",
        "keep around."
      ],
      "metadata": {
        "id": "85e933e7"
      }
    },
    {
      "cell_type": "code",
      "execution_count": 19,
      "source": [
        "cities_in_mexico_df = df.loc[filter]\r\n",
        "cities_in_mexico_df"
      ],
      "outputs": [
        {
          "output_type": "execute_result",
          "data": {
            "text/html": [
              "<div>\n",
              "<style scoped>\n",
              "    .dataframe tbody tr th:only-of-type {\n",
              "        vertical-align: middle;\n",
              "    }\n",
              "\n",
              "    .dataframe tbody tr th {\n",
              "        vertical-align: top;\n",
              "    }\n",
              "\n",
              "    .dataframe thead th {\n",
              "        text-align: right;\n",
              "    }\n",
              "</style>\n",
              "<table border=\"1\" class=\"dataframe\">\n",
              "  <thead>\n",
              "    <tr style=\"text-align: right;\">\n",
              "      <th></th>\n",
              "      <th>Rank</th>\n",
              "      <th>City</th>\n",
              "      <th>Country</th>\n",
              "      <th>Population</th>\n",
              "    </tr>\n",
              "  </thead>\n",
              "  <tbody>\n",
              "    <tr>\n",
              "      <th>0</th>\n",
              "      <td>0</td>\n",
              "      <td>Mexico City</td>\n",
              "      <td>Mexico</td>\n",
              "      <td>8918653</td>\n",
              "    </tr>\n",
              "    <tr>\n",
              "      <th>8</th>\n",
              "      <td>8</td>\n",
              "      <td>Ecatepec de Morelos</td>\n",
              "      <td>Mexico</td>\n",
              "      <td>1677678</td>\n",
              "    </tr>\n",
              "    <tr>\n",
              "      <th>12</th>\n",
              "      <td>12</td>\n",
              "      <td>Guadalajara</td>\n",
              "      <td>Mexico</td>\n",
              "      <td>1460148</td>\n",
              "    </tr>\n",
              "    <tr>\n",
              "      <th>13</th>\n",
              "      <td>13</td>\n",
              "      <td>Puebla</td>\n",
              "      <td>Mexico</td>\n",
              "      <td>1437939</td>\n",
              "    </tr>\n",
              "    <tr>\n",
              "      <th>15</th>\n",
              "      <td>15</td>\n",
              "      <td>Juárez</td>\n",
              "      <td>Mexico</td>\n",
              "      <td>1382753</td>\n",
              "    </tr>\n",
              "    <tr>\n",
              "      <th>16</th>\n",
              "      <td>16</td>\n",
              "      <td>León</td>\n",
              "      <td>Mexico</td>\n",
              "      <td>1349224</td>\n",
              "    </tr>\n",
              "    <tr>\n",
              "      <th>18</th>\n",
              "      <td>18</td>\n",
              "      <td>Tijuana</td>\n",
              "      <td>Mexico</td>\n",
              "      <td>1298475</td>\n",
              "    </tr>\n",
              "    <tr>\n",
              "      <th>21</th>\n",
              "      <td>21</td>\n",
              "      <td>Zapopan</td>\n",
              "      <td>Mexico</td>\n",
              "      <td>1179681</td>\n",
              "    </tr>\n",
              "    <tr>\n",
              "      <th>22</th>\n",
              "      <td>22</td>\n",
              "      <td>Monterrey</td>\n",
              "      <td>Mexico</td>\n",
              "      <td>1109171</td>\n",
              "    </tr>\n",
              "    <tr>\n",
              "      <th>24</th>\n",
              "      <td>24</td>\n",
              "      <td>Nezahualcóyotl</td>\n",
              "      <td>Mexico</td>\n",
              "      <td>1039867</td>\n",
              "    </tr>\n",
              "    <tr>\n",
              "      <th>29</th>\n",
              "      <td>29</td>\n",
              "      <td>Naucalpan</td>\n",
              "      <td>Mexico</td>\n",
              "      <td>970012</td>\n",
              "    </tr>\n",
              "    <tr>\n",
              "      <th>33</th>\n",
              "      <td>33</td>\n",
              "      <td>Mérida</td>\n",
              "      <td>Mexico</td>\n",
              "      <td>892363</td>\n",
              "    </tr>\n",
              "    <tr>\n",
              "      <th>34</th>\n",
              "      <td>34</td>\n",
              "      <td>Querétaro</td>\n",
              "      <td>Mexico</td>\n",
              "      <td>878931</td>\n",
              "    </tr>\n",
              "    <tr>\n",
              "      <th>35</th>\n",
              "      <td>35</td>\n",
              "      <td>Toluca</td>\n",
              "      <td>Mexico</td>\n",
              "      <td>873536</td>\n",
              "    </tr>\n",
              "    <tr>\n",
              "      <th>37</th>\n",
              "      <td>37</td>\n",
              "      <td>Chihuahua</td>\n",
              "      <td>Mexico</td>\n",
              "      <td>867736</td>\n",
              "    </tr>\n",
              "    <tr>\n",
              "      <th>43</th>\n",
              "      <td>43</td>\n",
              "      <td>Hermosillo</td>\n",
              "      <td>Mexico</td>\n",
              "      <td>819999</td>\n",
              "    </tr>\n",
              "    <tr>\n",
              "      <th>44</th>\n",
              "      <td>44</td>\n",
              "      <td>Saltillo</td>\n",
              "      <td>Mexico</td>\n",
              "      <td>791074</td>\n",
              "    </tr>\n",
              "    <tr>\n",
              "      <th>45</th>\n",
              "      <td>45</td>\n",
              "      <td>Aguascalientes</td>\n",
              "      <td>Mexico</td>\n",
              "      <td>785942</td>\n",
              "    </tr>\n",
              "    <tr>\n",
              "      <th>47</th>\n",
              "      <td>47</td>\n",
              "      <td>San Luis Potosí</td>\n",
              "      <td>Mexico</td>\n",
              "      <td>759854</td>\n",
              "    </tr>\n",
              "    <tr>\n",
              "      <th>48</th>\n",
              "      <td>48</td>\n",
              "      <td>Veracruz</td>\n",
              "      <td>Mexico</td>\n",
              "      <td>752171</td>\n",
              "    </tr>\n",
              "    <tr>\n",
              "      <th>51</th>\n",
              "      <td>51</td>\n",
              "      <td>Culiacán</td>\n",
              "      <td>Mexico</td>\n",
              "      <td>720798</td>\n",
              "    </tr>\n",
              "    <tr>\n",
              "      <th>53</th>\n",
              "      <td>53</td>\n",
              "      <td>Mexicali</td>\n",
              "      <td>Mexico</td>\n",
              "      <td>717628</td>\n",
              "    </tr>\n",
              "    <tr>\n",
              "      <th>54</th>\n",
              "      <td>54</td>\n",
              "      <td>Cancún</td>\n",
              "      <td>Mexico</td>\n",
              "      <td>711682</td>\n",
              "    </tr>\n",
              "    <tr>\n",
              "      <th>55</th>\n",
              "      <td>55</td>\n",
              "      <td>Acapulco</td>\n",
              "      <td>Mexico</td>\n",
              "      <td>710261</td>\n",
              "    </tr>\n",
              "    <tr>\n",
              "      <th>56</th>\n",
              "      <td>56</td>\n",
              "      <td>Tlalnepantla</td>\n",
              "      <td>Mexico</td>\n",
              "      <td>700734</td>\n",
              "    </tr>\n",
              "    <tr>\n",
              "      <th>58</th>\n",
              "      <td>58</td>\n",
              "      <td>Guadalupe</td>\n",
              "      <td>Mexico</td>\n",
              "      <td>682880</td>\n",
              "    </tr>\n",
              "    <tr>\n",
              "      <th>61</th>\n",
              "      <td>61</td>\n",
              "      <td>Chimalhuacán</td>\n",
              "      <td>Mexico</td>\n",
              "      <td>679811</td>\n",
              "    </tr>\n",
              "    <tr>\n",
              "      <th>66</th>\n",
              "      <td>66</td>\n",
              "      <td>Tlaquepaque</td>\n",
              "      <td>Mexico</td>\n",
              "      <td>664193</td>\n",
              "    </tr>\n",
              "    <tr>\n",
              "      <th>69</th>\n",
              "      <td>69</td>\n",
              "      <td>Torreón</td>\n",
              "      <td>Mexico</td>\n",
              "      <td>653150</td>\n",
              "    </tr>\n",
              "    <tr>\n",
              "      <th>72</th>\n",
              "      <td>72</td>\n",
              "      <td>Reynosa</td>\n",
              "      <td>Mexico</td>\n",
              "      <td>631611</td>\n",
              "    </tr>\n",
              "    <tr>\n",
              "      <th>78</th>\n",
              "      <td>78</td>\n",
              "      <td>Morelia</td>\n",
              "      <td>Mexico</td>\n",
              "      <td>608190</td>\n",
              "    </tr>\n",
              "    <tr>\n",
              "      <th>80</th>\n",
              "      <td>80</td>\n",
              "      <td>Tuxtla Gutiérrez</td>\n",
              "      <td>Mexico</td>\n",
              "      <td>598710</td>\n",
              "    </tr>\n",
              "    <tr>\n",
              "      <th>81</th>\n",
              "      <td>81</td>\n",
              "      <td>Apodaca</td>\n",
              "      <td>Mexico</td>\n",
              "      <td>597207</td>\n",
              "    </tr>\n",
              "    <tr>\n",
              "      <th>82</th>\n",
              "      <td>82</td>\n",
              "      <td>Durango</td>\n",
              "      <td>Mexico</td>\n",
              "      <td>590893</td>\n",
              "    </tr>\n",
              "    <tr>\n",
              "      <th>87</th>\n",
              "      <td>87</td>\n",
              "      <td>Tonalá</td>\n",
              "      <td>Mexico</td>\n",
              "      <td>536111</td>\n",
              "    </tr>\n",
              "    <tr>\n",
              "      <th>89</th>\n",
              "      <td>89</td>\n",
              "      <td>Cuautitlán Izcalli</td>\n",
              "      <td>Mexico</td>\n",
              "      <td>531041</td>\n",
              "    </tr>\n",
              "    <tr>\n",
              "      <th>91</th>\n",
              "      <td>91</td>\n",
              "      <td>Ciudad López Mateos</td>\n",
              "      <td>Mexico</td>\n",
              "      <td>523296</td>\n",
              "    </tr>\n",
              "    <tr>\n",
              "      <th>92</th>\n",
              "      <td>92</td>\n",
              "      <td>Tultitlán</td>\n",
              "      <td>Mexico</td>\n",
              "      <td>520557</td>\n",
              "    </tr>\n",
              "  </tbody>\n",
              "</table>\n",
              "</div>"
            ],
            "text/plain": [
              "    Rank                 City Country  Population\n",
              "0      0          Mexico City  Mexico     8918653\n",
              "8      8  Ecatepec de Morelos  Mexico     1677678\n",
              "12    12          Guadalajara  Mexico     1460148\n",
              "13    13               Puebla  Mexico     1437939\n",
              "15    15               Juárez  Mexico     1382753\n",
              "16    16                 León  Mexico     1349224\n",
              "18    18              Tijuana  Mexico     1298475\n",
              "21    21              Zapopan  Mexico     1179681\n",
              "22    22            Monterrey  Mexico     1109171\n",
              "24    24       Nezahualcóyotl  Mexico     1039867\n",
              "29    29            Naucalpan  Mexico      970012\n",
              "33    33               Mérida  Mexico      892363\n",
              "34    34            Querétaro  Mexico      878931\n",
              "35    35               Toluca  Mexico      873536\n",
              "37    37            Chihuahua  Mexico      867736\n",
              "43    43           Hermosillo  Mexico      819999\n",
              "44    44             Saltillo  Mexico      791074\n",
              "45    45       Aguascalientes  Mexico      785942\n",
              "47    47      San Luis Potosí  Mexico      759854\n",
              "48    48             Veracruz  Mexico      752171\n",
              "51    51             Culiacán  Mexico      720798\n",
              "53    53             Mexicali  Mexico      717628\n",
              "54    54               Cancún  Mexico      711682\n",
              "55    55             Acapulco  Mexico      710261\n",
              "56    56         Tlalnepantla  Mexico      700734\n",
              "58    58            Guadalupe  Mexico      682880\n",
              "61    61         Chimalhuacán  Mexico      679811\n",
              "66    66          Tlaquepaque  Mexico      664193\n",
              "69    69              Torreón  Mexico      653150\n",
              "72    72              Reynosa  Mexico      631611\n",
              "78    78              Morelia  Mexico      608190\n",
              "80    80     Tuxtla Gutiérrez  Mexico      598710\n",
              "81    81              Apodaca  Mexico      597207\n",
              "82    82              Durango  Mexico      590893\n",
              "87    87               Tonalá  Mexico      536111\n",
              "89    89   Cuautitlán Izcalli  Mexico      531041\n",
              "91    91  Ciudad López Mateos  Mexico      523296\n",
              "92    92            Tultitlán  Mexico      520557"
            ]
          },
          "metadata": {},
          "execution_count": 19
        }
      ],
      "metadata": {
        "execution": {
          "iopub.execute_input": "2021-06-21T19:17:18.339699Z",
          "iopub.status.busy": "2021-06-21T19:17:18.338820Z",
          "iopub.status.idle": "2021-06-21T19:17:18.342290Z",
          "shell.execute_reply": "2021-06-21T19:17:18.343027Z"
        },
        "id": "7efd1521",
        "colab": {
          "base_uri": "https://localhost:8080/",
          "height": 1219
        },
        "outputId": "060c1769-d136-4f6d-e369-341efead4b32"
      }
    },
    {
      "cell_type": "markdown",
      "source": [
        "We need to be careful to give this a new name. It does not change the original\n",
        "dataframe it just shows us the rows we asked for. "
      ],
      "metadata": {
        "id": "9fda0893"
      }
    },
    {
      "cell_type": "markdown",
      "source": [
        "Filtering is a really important step because it lets us calculate other properties."
      ],
      "metadata": {
        "id": "601e1fc0"
      }
    },
    {
      "cell_type": "markdown",
      "source": [
        "For example, we can then count the number of cities in Mexico."
      ],
      "metadata": {
        "id": "094de205"
      }
    },
    {
      "cell_type": "code",
      "execution_count": 20,
      "source": [
        "total_cities_in_mexico = cities_in_mexico_df[\"City\"].count()\r\n",
        "total_cities_in_mexico"
      ],
      "outputs": [
        {
          "output_type": "execute_result",
          "data": {
            "text/plain": [
              "38"
            ]
          },
          "metadata": {},
          "execution_count": 20
        }
      ],
      "metadata": {
        "execution": {
          "iopub.execute_input": "2021-06-21T19:17:18.348570Z",
          "iopub.status.busy": "2021-06-21T19:17:18.347704Z",
          "iopub.status.idle": "2021-06-21T19:17:18.350741Z",
          "shell.execute_reply": "2021-06-21T19:17:18.351469Z"
        },
        "id": "91a1d225",
        "colab": {
          "base_uri": "https://localhost:8080/",
          "height": 0
        },
        "outputId": "7f80625c-da0a-4909-89a6-b4b11fc126e0"
      }
    },
    {
      "cell_type": "markdown",
      "source": [
        "Or we can count the population of the biggest cities in Mexico."
      ],
      "metadata": {
        "id": "83a6e54d"
      }
    },
    {
      "cell_type": "code",
      "execution_count": 21,
      "source": [
        "total_population_in_mexico = cities_in_mexico_df[\"Population\"].sum()\r\n",
        "total_population_in_mexico"
      ],
      "outputs": [
        {
          "output_type": "execute_result",
          "data": {
            "text/plain": [
              "40623960"
            ]
          },
          "metadata": {},
          "execution_count": 21
        }
      ],
      "metadata": {
        "execution": {
          "iopub.execute_input": "2021-06-21T19:17:18.357487Z",
          "iopub.status.busy": "2021-06-21T19:17:18.356596Z",
          "iopub.status.idle": "2021-06-21T19:17:18.359626Z",
          "shell.execute_reply": "2021-06-21T19:17:18.360282Z"
        },
        "lines_to_next_cell": 2,
        "id": "e56df413",
        "colab": {
          "base_uri": "https://localhost:8080/",
          "height": 0
        },
        "outputId": "be59eb33-8d45-4f14-89be-4483b774036f"
      }
    },
    {
      "cell_type": "markdown",
      "source": [
        "Filters can also be more complex. You can check for any of the  different properties\n",
        "you might check for in a standard if statement."
      ],
      "metadata": {
        "id": "83b862a4"
      }
    },
    {
      "cell_type": "markdown",
      "source": [
        "For instance, here we want to keep both cities in the US and in Canada. The\n",
        "symbol `|` means `either-or`. "
      ],
      "metadata": {
        "id": "bd73147e"
      }
    },
    {
      "cell_type": "code",
      "execution_count": 22,
      "source": [
        "filter = (df[\"Country\"] == \"United States\") | (df[\"Country\"] == \"Canada\")\r\n",
        "us_or_canada_df = df.loc[filter]\r\n",
        "us_or_canada_df"
      ],
      "outputs": [
        {
          "output_type": "execute_result",
          "data": {
            "text/html": [
              "<div>\n",
              "<style scoped>\n",
              "    .dataframe tbody tr th:only-of-type {\n",
              "        vertical-align: middle;\n",
              "    }\n",
              "\n",
              "    .dataframe tbody tr th {\n",
              "        vertical-align: top;\n",
              "    }\n",
              "\n",
              "    .dataframe thead th {\n",
              "        text-align: right;\n",
              "    }\n",
              "</style>\n",
              "<table border=\"1\" class=\"dataframe\">\n",
              "  <thead>\n",
              "    <tr style=\"text-align: right;\">\n",
              "      <th></th>\n",
              "      <th>Rank</th>\n",
              "      <th>City</th>\n",
              "      <th>Country</th>\n",
              "      <th>Population</th>\n",
              "    </tr>\n",
              "  </thead>\n",
              "  <tbody>\n",
              "    <tr>\n",
              "      <th>1</th>\n",
              "      <td>1</td>\n",
              "      <td>New York City</td>\n",
              "      <td>United States</td>\n",
              "      <td>8550405</td>\n",
              "    </tr>\n",
              "    <tr>\n",
              "      <th>2</th>\n",
              "      <td>2</td>\n",
              "      <td>Los Angeles</td>\n",
              "      <td>United States</td>\n",
              "      <td>3971883</td>\n",
              "    </tr>\n",
              "    <tr>\n",
              "      <th>3</th>\n",
              "      <td>3</td>\n",
              "      <td>Toronto</td>\n",
              "      <td>Canada</td>\n",
              "      <td>2826498</td>\n",
              "    </tr>\n",
              "    <tr>\n",
              "      <th>4</th>\n",
              "      <td>4</td>\n",
              "      <td>Chicago</td>\n",
              "      <td>United States</td>\n",
              "      <td>2720546</td>\n",
              "    </tr>\n",
              "    <tr>\n",
              "      <th>5</th>\n",
              "      <td>5</td>\n",
              "      <td>Houston</td>\n",
              "      <td>United States</td>\n",
              "      <td>2296224</td>\n",
              "    </tr>\n",
              "    <tr>\n",
              "      <th>7</th>\n",
              "      <td>7</td>\n",
              "      <td>Montreal</td>\n",
              "      <td>Canada</td>\n",
              "      <td>1753034</td>\n",
              "    </tr>\n",
              "    <tr>\n",
              "      <th>9</th>\n",
              "      <td>9</td>\n",
              "      <td>Philadelphia</td>\n",
              "      <td>United States</td>\n",
              "      <td>1567442</td>\n",
              "    </tr>\n",
              "    <tr>\n",
              "      <th>10</th>\n",
              "      <td>10</td>\n",
              "      <td>Phoenix</td>\n",
              "      <td>United States</td>\n",
              "      <td>1563025</td>\n",
              "    </tr>\n",
              "    <tr>\n",
              "      <th>11</th>\n",
              "      <td>11</td>\n",
              "      <td>San Antonio</td>\n",
              "      <td>United States</td>\n",
              "      <td>1469845</td>\n",
              "    </tr>\n",
              "    <tr>\n",
              "      <th>14</th>\n",
              "      <td>14</td>\n",
              "      <td>San Diego</td>\n",
              "      <td>United States</td>\n",
              "      <td>1394928</td>\n",
              "    </tr>\n",
              "    <tr>\n",
              "      <th>17</th>\n",
              "      <td>17</td>\n",
              "      <td>Dallas</td>\n",
              "      <td>United States</td>\n",
              "      <td>1300092</td>\n",
              "    </tr>\n",
              "    <tr>\n",
              "      <th>19</th>\n",
              "      <td>19</td>\n",
              "      <td>Calgary</td>\n",
              "      <td>Canada</td>\n",
              "      <td>1230915</td>\n",
              "    </tr>\n",
              "    <tr>\n",
              "      <th>25</th>\n",
              "      <td>25</td>\n",
              "      <td>San Jose</td>\n",
              "      <td>United States</td>\n",
              "      <td>1026908</td>\n",
              "    </tr>\n",
              "    <tr>\n",
              "      <th>30</th>\n",
              "      <td>30</td>\n",
              "      <td>Ottawa</td>\n",
              "      <td>Canada</td>\n",
              "      <td>956710</td>\n",
              "    </tr>\n",
              "    <tr>\n",
              "      <th>31</th>\n",
              "      <td>31</td>\n",
              "      <td>Austin</td>\n",
              "      <td>United States</td>\n",
              "      <td>931830</td>\n",
              "    </tr>\n",
              "    <tr>\n",
              "      <th>32</th>\n",
              "      <td>32</td>\n",
              "      <td>Edmonton</td>\n",
              "      <td>Canada</td>\n",
              "      <td>899447</td>\n",
              "    </tr>\n",
              "    <tr>\n",
              "      <th>36</th>\n",
              "      <td>36</td>\n",
              "      <td>Jacksonville</td>\n",
              "      <td>United States</td>\n",
              "      <td>868031</td>\n",
              "    </tr>\n",
              "    <tr>\n",
              "      <th>38</th>\n",
              "      <td>38</td>\n",
              "      <td>San Francisco</td>\n",
              "      <td>United States</td>\n",
              "      <td>864816</td>\n",
              "    </tr>\n",
              "    <tr>\n",
              "      <th>39</th>\n",
              "      <td>39</td>\n",
              "      <td>Indianapolis</td>\n",
              "      <td>United States</td>\n",
              "      <td>853173</td>\n",
              "    </tr>\n",
              "    <tr>\n",
              "      <th>40</th>\n",
              "      <td>40</td>\n",
              "      <td>Columbus</td>\n",
              "      <td>United States</td>\n",
              "      <td>850106</td>\n",
              "    </tr>\n",
              "    <tr>\n",
              "      <th>41</th>\n",
              "      <td>41</td>\n",
              "      <td>Fort Worth</td>\n",
              "      <td>United States</td>\n",
              "      <td>833319</td>\n",
              "    </tr>\n",
              "    <tr>\n",
              "      <th>42</th>\n",
              "      <td>42</td>\n",
              "      <td>Charlotte</td>\n",
              "      <td>United States</td>\n",
              "      <td>827097</td>\n",
              "    </tr>\n",
              "    <tr>\n",
              "      <th>46</th>\n",
              "      <td>46</td>\n",
              "      <td>Mississauga</td>\n",
              "      <td>Canada</td>\n",
              "      <td>761300</td>\n",
              "    </tr>\n",
              "    <tr>\n",
              "      <th>52</th>\n",
              "      <td>52</td>\n",
              "      <td>Winnipeg</td>\n",
              "      <td>Canada</td>\n",
              "      <td>718400</td>\n",
              "    </tr>\n",
              "    <tr>\n",
              "      <th>57</th>\n",
              "      <td>57</td>\n",
              "      <td>Seattle</td>\n",
              "      <td>United States</td>\n",
              "      <td>684451</td>\n",
              "    </tr>\n",
              "    <tr>\n",
              "      <th>59</th>\n",
              "      <td>59</td>\n",
              "      <td>Denver</td>\n",
              "      <td>United States</td>\n",
              "      <td>682545</td>\n",
              "    </tr>\n",
              "    <tr>\n",
              "      <th>60</th>\n",
              "      <td>60</td>\n",
              "      <td>El Paso</td>\n",
              "      <td>United States</td>\n",
              "      <td>681124</td>\n",
              "    </tr>\n",
              "    <tr>\n",
              "      <th>62</th>\n",
              "      <td>62</td>\n",
              "      <td>Detroit</td>\n",
              "      <td>United States</td>\n",
              "      <td>677116</td>\n",
              "    </tr>\n",
              "    <tr>\n",
              "      <th>63</th>\n",
              "      <td>63</td>\n",
              "      <td>Washington, D.C.</td>\n",
              "      <td>United States</td>\n",
              "      <td>672228</td>\n",
              "    </tr>\n",
              "    <tr>\n",
              "      <th>65</th>\n",
              "      <td>65</td>\n",
              "      <td>Boston</td>\n",
              "      <td>United States</td>\n",
              "      <td>667137</td>\n",
              "    </tr>\n",
              "    <tr>\n",
              "      <th>67</th>\n",
              "      <td>67</td>\n",
              "      <td>Memphis</td>\n",
              "      <td>United States</td>\n",
              "      <td>655770</td>\n",
              "    </tr>\n",
              "    <tr>\n",
              "      <th>68</th>\n",
              "      <td>68</td>\n",
              "      <td>Nashville</td>\n",
              "      <td>United States</td>\n",
              "      <td>654610</td>\n",
              "    </tr>\n",
              "    <tr>\n",
              "      <th>70</th>\n",
              "      <td>70</td>\n",
              "      <td>Vancouver</td>\n",
              "      <td>Canada</td>\n",
              "      <td>648608</td>\n",
              "    </tr>\n",
              "    <tr>\n",
              "      <th>71</th>\n",
              "      <td>71</td>\n",
              "      <td>Portland</td>\n",
              "      <td>United States</td>\n",
              "      <td>632309</td>\n",
              "    </tr>\n",
              "    <tr>\n",
              "      <th>73</th>\n",
              "      <td>73</td>\n",
              "      <td>Oklahoma City</td>\n",
              "      <td>United States</td>\n",
              "      <td>631346</td>\n",
              "    </tr>\n",
              "    <tr>\n",
              "      <th>74</th>\n",
              "      <td>74</td>\n",
              "      <td>Las Vegas</td>\n",
              "      <td>United States</td>\n",
              "      <td>623747</td>\n",
              "    </tr>\n",
              "    <tr>\n",
              "      <th>75</th>\n",
              "      <td>75</td>\n",
              "      <td>Baltimore</td>\n",
              "      <td>United States</td>\n",
              "      <td>621849</td>\n",
              "    </tr>\n",
              "    <tr>\n",
              "      <th>76</th>\n",
              "      <td>76</td>\n",
              "      <td>Brampton</td>\n",
              "      <td>Canada</td>\n",
              "      <td>620700</td>\n",
              "    </tr>\n",
              "    <tr>\n",
              "      <th>77</th>\n",
              "      <td>77</td>\n",
              "      <td>Louisville</td>\n",
              "      <td>United States</td>\n",
              "      <td>615366</td>\n",
              "    </tr>\n",
              "    <tr>\n",
              "      <th>79</th>\n",
              "      <td>79</td>\n",
              "      <td>Milwaukee</td>\n",
              "      <td>United States</td>\n",
              "      <td>600155</td>\n",
              "    </tr>\n",
              "    <tr>\n",
              "      <th>84</th>\n",
              "      <td>84</td>\n",
              "      <td>Albuquerque</td>\n",
              "      <td>United States</td>\n",
              "      <td>559121</td>\n",
              "    </tr>\n",
              "    <tr>\n",
              "      <th>85</th>\n",
              "      <td>85</td>\n",
              "      <td>Hamilton</td>\n",
              "      <td>Canada</td>\n",
              "      <td>556359</td>\n",
              "    </tr>\n",
              "    <tr>\n",
              "      <th>86</th>\n",
              "      <td>86</td>\n",
              "      <td>Quebec City</td>\n",
              "      <td>Canada</td>\n",
              "      <td>540994</td>\n",
              "    </tr>\n",
              "    <tr>\n",
              "      <th>88</th>\n",
              "      <td>88</td>\n",
              "      <td>Tucson</td>\n",
              "      <td>United States</td>\n",
              "      <td>531641</td>\n",
              "    </tr>\n",
              "    <tr>\n",
              "      <th>90</th>\n",
              "      <td>90</td>\n",
              "      <td>Surrey</td>\n",
              "      <td>Canada</td>\n",
              "      <td>526004</td>\n",
              "    </tr>\n",
              "    <tr>\n",
              "      <th>93</th>\n",
              "      <td>93</td>\n",
              "      <td>Fresno</td>\n",
              "      <td>United States</td>\n",
              "      <td>520052</td>\n",
              "    </tr>\n",
              "  </tbody>\n",
              "</table>\n",
              "</div>"
            ],
            "text/plain": [
              "    Rank              City        Country  Population\n",
              "1      1     New York City  United States     8550405\n",
              "2      2       Los Angeles  United States     3971883\n",
              "3      3           Toronto         Canada     2826498\n",
              "4      4           Chicago  United States     2720546\n",
              "5      5           Houston  United States     2296224\n",
              "7      7          Montreal         Canada     1753034\n",
              "9      9      Philadelphia  United States     1567442\n",
              "10    10           Phoenix  United States     1563025\n",
              "11    11       San Antonio  United States     1469845\n",
              "14    14         San Diego  United States     1394928\n",
              "17    17            Dallas  United States     1300092\n",
              "19    19           Calgary         Canada     1230915\n",
              "25    25          San Jose  United States     1026908\n",
              "30    30            Ottawa         Canada      956710\n",
              "31    31            Austin  United States      931830\n",
              "32    32          Edmonton         Canada      899447\n",
              "36    36      Jacksonville  United States      868031\n",
              "38    38     San Francisco  United States      864816\n",
              "39    39      Indianapolis  United States      853173\n",
              "40    40          Columbus  United States      850106\n",
              "41    41        Fort Worth  United States      833319\n",
              "42    42         Charlotte  United States      827097\n",
              "46    46       Mississauga         Canada      761300\n",
              "52    52          Winnipeg         Canada      718400\n",
              "57    57           Seattle  United States      684451\n",
              "59    59            Denver  United States      682545\n",
              "60    60           El Paso  United States      681124\n",
              "62    62           Detroit  United States      677116\n",
              "63    63  Washington, D.C.  United States      672228\n",
              "65    65            Boston  United States      667137\n",
              "67    67           Memphis  United States      655770\n",
              "68    68         Nashville  United States      654610\n",
              "70    70         Vancouver         Canada      648608\n",
              "71    71          Portland  United States      632309\n",
              "73    73     Oklahoma City  United States      631346\n",
              "74    74         Las Vegas  United States      623747\n",
              "75    75         Baltimore  United States      621849\n",
              "76    76          Brampton         Canada      620700\n",
              "77    77        Louisville  United States      615366\n",
              "79    79         Milwaukee  United States      600155\n",
              "84    84       Albuquerque  United States      559121\n",
              "85    85          Hamilton         Canada      556359\n",
              "86    86       Quebec City         Canada      540994\n",
              "88    88            Tucson  United States      531641\n",
              "90    90            Surrey         Canada      526004\n",
              "93    93            Fresno  United States      520052"
            ]
          },
          "metadata": {},
          "execution_count": 22
        }
      ],
      "metadata": {
        "execution": {
          "iopub.execute_input": "2021-06-21T19:17:18.381777Z",
          "iopub.status.busy": "2021-06-21T19:17:18.380875Z",
          "iopub.status.idle": "2021-06-21T19:17:18.384502Z",
          "shell.execute_reply": "2021-06-21T19:17:18.385214Z"
        },
        "id": "dcfb3900",
        "colab": {
          "base_uri": "https://localhost:8080/",
          "height": 1466
        },
        "outputId": "47067fa1-191e-4cf1-85b9-e0a697722f38"
      }
    },
    {
      "cell_type": "markdown",
      "source": [
        "👩‍🎓**Student Question: How many of the cities are in the US or Canada?**"
      ],
      "metadata": {
        "id": "67f63990"
      }
    },
    {
      "cell_type": "code",
      "execution_count": 23,
      "source": [
        "#📝📝📝📝 FILLME\r\n",
        "us_or_canada_df[\"City\"].count()"
      ],
      "outputs": [
        {
          "output_type": "execute_result",
          "data": {
            "text/plain": [
              "46"
            ]
          },
          "metadata": {},
          "execution_count": 23
        }
      ],
      "metadata": {
        "execution": {
          "iopub.execute_input": "2021-06-21T19:17:18.389964Z",
          "iopub.status.busy": "2021-06-21T19:17:18.389086Z",
          "iopub.status.idle": "2021-06-21T19:17:18.392116Z",
          "shell.execute_reply": "2021-06-21T19:17:18.391232Z"
        },
        "id": "189f5a67",
        "colab": {
          "base_uri": "https://localhost:8080/",
          "height": 0
        },
        "outputId": "d1f344a6-b32d-46b0-d46d-d669254b7543"
      }
    },
    {
      "cell_type": "markdown",
      "source": [
        "Here is a list of the different statements that we commonly use."
      ],
      "metadata": {
        "id": "9d464aff"
      }
    },
    {
      "cell_type": "markdown",
      "source": [
        "| Filter | Symbol |\n",
        "|--------|--------|\n",
        "| Or     | \\|     |\n",
        "| And    | &      |\n",
        "| Not    | ~      |\n",
        "| Equal  | ==     |\n",
        "| Less   | <      |\n",
        "| Greater| >      |\n",
        "| Greater| >      |\n",
        "| In     | .str.contains      |\n",
        "| Is one of     | .isin      |"
      ],
      "metadata": {
        "id": "7e570e08"
      }
    },
    {
      "cell_type": "markdown",
      "source": [
        "Note: I didn't know many of these by heart.\n",
        "Don't be afraid to google \"how to filter by ... in pandas\" if you get stuck."
      ],
      "metadata": {
        "id": "2b4da14e"
      }
    },
    {
      "cell_type": "markdown",
      "source": [
        "# Group Exercise A"
      ],
      "metadata": {
        "id": "86a7cd8a"
      }
    },
    {
      "cell_type": "markdown",
      "source": [
        "## Question 1 "
      ],
      "metadata": {
        "id": "f639d337"
      }
    },
    {
      "cell_type": "markdown",
      "source": [
        "Filters can be of many different types. For instance, when working\n",
        "with numerical fields we can have filters based on greater-than and\n",
        "less-than comparisons."
      ],
      "metadata": {
        "id": "fa926bc1"
      }
    },
    {
      "cell_type": "markdown",
      "source": [
        "Write a filter that keeps only cities with greater than a\n",
        "million people."
      ],
      "metadata": {
        "id": "24ee614c"
      }
    },
    {
      "cell_type": "code",
      "execution_count": 24,
      "source": [
        "#📝📝📝📝 FILLME\r\n",
        "filter = df[\"Population\"] > 1000000\r\n",
        "cities_count = df.loc[filter]\r\n",
        "cities_count"
      ],
      "outputs": [
        {
          "output_type": "execute_result",
          "data": {
            "text/html": [
              "<div>\n",
              "<style scoped>\n",
              "    .dataframe tbody tr th:only-of-type {\n",
              "        vertical-align: middle;\n",
              "    }\n",
              "\n",
              "    .dataframe tbody tr th {\n",
              "        vertical-align: top;\n",
              "    }\n",
              "\n",
              "    .dataframe thead th {\n",
              "        text-align: right;\n",
              "    }\n",
              "</style>\n",
              "<table border=\"1\" class=\"dataframe\">\n",
              "  <thead>\n",
              "    <tr style=\"text-align: right;\">\n",
              "      <th></th>\n",
              "      <th>Rank</th>\n",
              "      <th>City</th>\n",
              "      <th>Country</th>\n",
              "      <th>Population</th>\n",
              "    </tr>\n",
              "  </thead>\n",
              "  <tbody>\n",
              "    <tr>\n",
              "      <th>0</th>\n",
              "      <td>0</td>\n",
              "      <td>Mexico City</td>\n",
              "      <td>Mexico</td>\n",
              "      <td>8918653</td>\n",
              "    </tr>\n",
              "    <tr>\n",
              "      <th>1</th>\n",
              "      <td>1</td>\n",
              "      <td>New York City</td>\n",
              "      <td>United States</td>\n",
              "      <td>8550405</td>\n",
              "    </tr>\n",
              "    <tr>\n",
              "      <th>2</th>\n",
              "      <td>2</td>\n",
              "      <td>Los Angeles</td>\n",
              "      <td>United States</td>\n",
              "      <td>3971883</td>\n",
              "    </tr>\n",
              "    <tr>\n",
              "      <th>3</th>\n",
              "      <td>3</td>\n",
              "      <td>Toronto</td>\n",
              "      <td>Canada</td>\n",
              "      <td>2826498</td>\n",
              "    </tr>\n",
              "    <tr>\n",
              "      <th>4</th>\n",
              "      <td>4</td>\n",
              "      <td>Chicago</td>\n",
              "      <td>United States</td>\n",
              "      <td>2720546</td>\n",
              "    </tr>\n",
              "    <tr>\n",
              "      <th>5</th>\n",
              "      <td>5</td>\n",
              "      <td>Houston</td>\n",
              "      <td>United States</td>\n",
              "      <td>2296224</td>\n",
              "    </tr>\n",
              "    <tr>\n",
              "      <th>6</th>\n",
              "      <td>6</td>\n",
              "      <td>Havana</td>\n",
              "      <td>Cuba</td>\n",
              "      <td>2117625</td>\n",
              "    </tr>\n",
              "    <tr>\n",
              "      <th>7</th>\n",
              "      <td>7</td>\n",
              "      <td>Montreal</td>\n",
              "      <td>Canada</td>\n",
              "      <td>1753034</td>\n",
              "    </tr>\n",
              "    <tr>\n",
              "      <th>8</th>\n",
              "      <td>8</td>\n",
              "      <td>Ecatepec de Morelos</td>\n",
              "      <td>Mexico</td>\n",
              "      <td>1677678</td>\n",
              "    </tr>\n",
              "    <tr>\n",
              "      <th>9</th>\n",
              "      <td>9</td>\n",
              "      <td>Philadelphia</td>\n",
              "      <td>United States</td>\n",
              "      <td>1567442</td>\n",
              "    </tr>\n",
              "    <tr>\n",
              "      <th>10</th>\n",
              "      <td>10</td>\n",
              "      <td>Phoenix</td>\n",
              "      <td>United States</td>\n",
              "      <td>1563025</td>\n",
              "    </tr>\n",
              "    <tr>\n",
              "      <th>11</th>\n",
              "      <td>11</td>\n",
              "      <td>San Antonio</td>\n",
              "      <td>United States</td>\n",
              "      <td>1469845</td>\n",
              "    </tr>\n",
              "    <tr>\n",
              "      <th>12</th>\n",
              "      <td>12</td>\n",
              "      <td>Guadalajara</td>\n",
              "      <td>Mexico</td>\n",
              "      <td>1460148</td>\n",
              "    </tr>\n",
              "    <tr>\n",
              "      <th>13</th>\n",
              "      <td>13</td>\n",
              "      <td>Puebla</td>\n",
              "      <td>Mexico</td>\n",
              "      <td>1437939</td>\n",
              "    </tr>\n",
              "    <tr>\n",
              "      <th>14</th>\n",
              "      <td>14</td>\n",
              "      <td>San Diego</td>\n",
              "      <td>United States</td>\n",
              "      <td>1394928</td>\n",
              "    </tr>\n",
              "    <tr>\n",
              "      <th>15</th>\n",
              "      <td>15</td>\n",
              "      <td>Juárez</td>\n",
              "      <td>Mexico</td>\n",
              "      <td>1382753</td>\n",
              "    </tr>\n",
              "    <tr>\n",
              "      <th>16</th>\n",
              "      <td>16</td>\n",
              "      <td>León</td>\n",
              "      <td>Mexico</td>\n",
              "      <td>1349224</td>\n",
              "    </tr>\n",
              "    <tr>\n",
              "      <th>17</th>\n",
              "      <td>17</td>\n",
              "      <td>Dallas</td>\n",
              "      <td>United States</td>\n",
              "      <td>1300092</td>\n",
              "    </tr>\n",
              "    <tr>\n",
              "      <th>18</th>\n",
              "      <td>18</td>\n",
              "      <td>Tijuana</td>\n",
              "      <td>Mexico</td>\n",
              "      <td>1298475</td>\n",
              "    </tr>\n",
              "    <tr>\n",
              "      <th>19</th>\n",
              "      <td>19</td>\n",
              "      <td>Calgary</td>\n",
              "      <td>Canada</td>\n",
              "      <td>1230915</td>\n",
              "    </tr>\n",
              "    <tr>\n",
              "      <th>20</th>\n",
              "      <td>20</td>\n",
              "      <td>Tegucigalpa</td>\n",
              "      <td>Honduras</td>\n",
              "      <td>1190230</td>\n",
              "    </tr>\n",
              "    <tr>\n",
              "      <th>21</th>\n",
              "      <td>21</td>\n",
              "      <td>Zapopan</td>\n",
              "      <td>Mexico</td>\n",
              "      <td>1179681</td>\n",
              "    </tr>\n",
              "    <tr>\n",
              "      <th>22</th>\n",
              "      <td>22</td>\n",
              "      <td>Monterrey</td>\n",
              "      <td>Mexico</td>\n",
              "      <td>1109171</td>\n",
              "    </tr>\n",
              "    <tr>\n",
              "      <th>23</th>\n",
              "      <td>23</td>\n",
              "      <td>Managua</td>\n",
              "      <td>Nicaragua</td>\n",
              "      <td>1048134</td>\n",
              "    </tr>\n",
              "    <tr>\n",
              "      <th>24</th>\n",
              "      <td>24</td>\n",
              "      <td>Nezahualcóyotl</td>\n",
              "      <td>Mexico</td>\n",
              "      <td>1039867</td>\n",
              "    </tr>\n",
              "    <tr>\n",
              "      <th>25</th>\n",
              "      <td>25</td>\n",
              "      <td>San Jose</td>\n",
              "      <td>United States</td>\n",
              "      <td>1026908</td>\n",
              "    </tr>\n",
              "    <tr>\n",
              "      <th>26</th>\n",
              "      <td>26</td>\n",
              "      <td>Santo Domingo</td>\n",
              "      <td>Dominican Republic</td>\n",
              "      <td>1007997</td>\n",
              "    </tr>\n",
              "  </tbody>\n",
              "</table>\n",
              "</div>"
            ],
            "text/plain": [
              "    Rank                 City             Country  Population\n",
              "0      0          Mexico City              Mexico     8918653\n",
              "1      1        New York City       United States     8550405\n",
              "2      2          Los Angeles       United States     3971883\n",
              "3      3              Toronto              Canada     2826498\n",
              "4      4              Chicago       United States     2720546\n",
              "5      5              Houston       United States     2296224\n",
              "6      6               Havana                Cuba     2117625\n",
              "7      7             Montreal              Canada     1753034\n",
              "8      8  Ecatepec de Morelos              Mexico     1677678\n",
              "9      9         Philadelphia       United States     1567442\n",
              "10    10              Phoenix       United States     1563025\n",
              "11    11          San Antonio       United States     1469845\n",
              "12    12          Guadalajara              Mexico     1460148\n",
              "13    13               Puebla              Mexico     1437939\n",
              "14    14            San Diego       United States     1394928\n",
              "15    15               Juárez              Mexico     1382753\n",
              "16    16                 León              Mexico     1349224\n",
              "17    17               Dallas       United States     1300092\n",
              "18    18              Tijuana              Mexico     1298475\n",
              "19    19              Calgary              Canada     1230915\n",
              "20    20          Tegucigalpa            Honduras     1190230\n",
              "21    21              Zapopan              Mexico     1179681\n",
              "22    22            Monterrey              Mexico     1109171\n",
              "23    23              Managua           Nicaragua     1048134\n",
              "24    24       Nezahualcóyotl              Mexico     1039867\n",
              "25    25             San Jose       United States     1026908\n",
              "26    26        Santo Domingo  Dominican Republic     1007997"
            ]
          },
          "metadata": {},
          "execution_count": 24
        }
      ],
      "metadata": {
        "execution": {
          "iopub.execute_input": "2021-06-21T19:17:18.397452Z",
          "iopub.status.busy": "2021-06-21T19:17:18.396559Z",
          "iopub.status.idle": "2021-06-21T19:17:18.400187Z",
          "shell.execute_reply": "2021-06-21T19:17:18.399451Z"
        },
        "id": "846c3252",
        "colab": {
          "base_uri": "https://localhost:8080/",
          "height": 881
        },
        "outputId": "1979b3d6-ba0c-4fa9-e7e9-3e3f0de88e3c"
      }
    },
    {
      "cell_type": "markdown",
      "source": [
        "How many are there?"
      ],
      "metadata": {
        "id": "115228ed"
      }
    },
    {
      "cell_type": "code",
      "execution_count": 25,
      "source": [
        "#📝📝📝📝 FILLME\r\n",
        "row_index = df[\"Population\"].argmin()\r\n",
        "df.loc[row_index]"
      ],
      "outputs": [
        {
          "output_type": "execute_result",
          "data": {
            "text/plain": [
              "Rank                 94\n",
              "City          Carrefour\n",
              "Country           Haiti\n",
              "Population       501768\n",
              "Name: 94, dtype: object"
            ]
          },
          "metadata": {},
          "execution_count": 25
        }
      ],
      "metadata": {
        "execution": {
          "iopub.execute_input": "2021-06-21T19:17:18.405575Z",
          "iopub.status.busy": "2021-06-21T19:17:18.404746Z",
          "iopub.status.idle": "2021-06-21T19:17:18.408315Z",
          "shell.execute_reply": "2021-06-21T19:17:18.407439Z"
        },
        "id": "b196b275",
        "colab": {
          "base_uri": "https://localhost:8080/",
          "height": 0
        },
        "outputId": "0362184c-f5f9-4941-8c26-08f0abcbfb4e"
      }
    },
    {
      "cell_type": "markdown",
      "source": [
        "(Be sure to print it out to check that it worked!)"
      ],
      "metadata": {
        "id": "358145b7"
      }
    },
    {
      "cell_type": "markdown",
      "source": [
        "## Question 2"
      ],
      "metadata": {
        "id": "d5ca355b"
      }
    },
    {
      "cell_type": "markdown",
      "source": [
        "Several cities in North America include the word \"City\" in their name. \n",
        "Write a filter to find the cities that have \"City\" in their name. "
      ],
      "metadata": {
        "id": "95f3a232"
      }
    },
    {
      "cell_type": "code",
      "execution_count": 26,
      "source": [
        "#📝📝📝📝 FILLME\r\n",
        "filter = df[\"City\"].str.contains(\"City\") \r\n",
        "city_name = df.loc[filter]\r\n",
        "city_name"
      ],
      "outputs": [
        {
          "output_type": "execute_result",
          "data": {
            "text/html": [
              "<div>\n",
              "<style scoped>\n",
              "    .dataframe tbody tr th:only-of-type {\n",
              "        vertical-align: middle;\n",
              "    }\n",
              "\n",
              "    .dataframe tbody tr th {\n",
              "        vertical-align: top;\n",
              "    }\n",
              "\n",
              "    .dataframe thead th {\n",
              "        text-align: right;\n",
              "    }\n",
              "</style>\n",
              "<table border=\"1\" class=\"dataframe\">\n",
              "  <thead>\n",
              "    <tr style=\"text-align: right;\">\n",
              "      <th></th>\n",
              "      <th>Rank</th>\n",
              "      <th>City</th>\n",
              "      <th>Country</th>\n",
              "      <th>Population</th>\n",
              "    </tr>\n",
              "  </thead>\n",
              "  <tbody>\n",
              "    <tr>\n",
              "      <th>0</th>\n",
              "      <td>0</td>\n",
              "      <td>Mexico City</td>\n",
              "      <td>Mexico</td>\n",
              "      <td>8918653</td>\n",
              "    </tr>\n",
              "    <tr>\n",
              "      <th>1</th>\n",
              "      <td>1</td>\n",
              "      <td>New York City</td>\n",
              "      <td>United States</td>\n",
              "      <td>8550405</td>\n",
              "    </tr>\n",
              "    <tr>\n",
              "      <th>27</th>\n",
              "      <td>27</td>\n",
              "      <td>Guatemala City</td>\n",
              "      <td>Guatemala</td>\n",
              "      <td>994078</td>\n",
              "    </tr>\n",
              "    <tr>\n",
              "      <th>73</th>\n",
              "      <td>73</td>\n",
              "      <td>Oklahoma City</td>\n",
              "      <td>United States</td>\n",
              "      <td>631346</td>\n",
              "    </tr>\n",
              "    <tr>\n",
              "      <th>86</th>\n",
              "      <td>86</td>\n",
              "      <td>Quebec City</td>\n",
              "      <td>Canada</td>\n",
              "      <td>540994</td>\n",
              "    </tr>\n",
              "  </tbody>\n",
              "</table>\n",
              "</div>"
            ],
            "text/plain": [
              "    Rank            City        Country  Population\n",
              "0      0     Mexico City         Mexico     8918653\n",
              "1      1   New York City  United States     8550405\n",
              "27    27  Guatemala City      Guatemala      994078\n",
              "73    73   Oklahoma City  United States      631346\n",
              "86    86     Quebec City         Canada      540994"
            ]
          },
          "metadata": {},
          "execution_count": 26
        }
      ],
      "metadata": {
        "execution": {
          "iopub.execute_input": "2021-06-21T19:17:18.413893Z",
          "iopub.status.busy": "2021-06-21T19:17:18.413054Z",
          "iopub.status.idle": "2021-06-21T19:17:18.416623Z",
          "shell.execute_reply": "2021-06-21T19:17:18.415928Z"
        },
        "id": "70e6ad39",
        "colab": {
          "base_uri": "https://localhost:8080/",
          "height": 203
        },
        "outputId": "978e1545-1300-4fd8-de5a-38bf02da21da"
      }
    },
    {
      "cell_type": "markdown",
      "source": [
        "What is the smallest city on this list?"
      ],
      "metadata": {
        "id": "5c2fb999"
      }
    },
    {
      "cell_type": "code",
      "execution_count": 27,
      "source": [
        "#📝📝📝📝 FILLME\r\n",
        "df.nsmallest"
      ],
      "outputs": [
        {
          "output_type": "execute_result",
          "data": {
            "text/plain": [
              "<bound method DataFrame.nsmallest of     Rank                 City        Country  Population\n",
              "0      0          Mexico City         Mexico     8918653\n",
              "1      1        New York City  United States     8550405\n",
              "2      2          Los Angeles  United States     3971883\n",
              "3      3              Toronto         Canada     2826498\n",
              "4      4              Chicago  United States     2720546\n",
              "..   ...                  ...            ...         ...\n",
              "90    90               Surrey         Canada      526004\n",
              "91    91  Ciudad López Mateos         Mexico      523296\n",
              "92    92            Tultitlán         Mexico      520557\n",
              "93    93               Fresno  United States      520052\n",
              "94    94            Carrefour          Haiti      501768\n",
              "\n",
              "[95 rows x 4 columns]>"
            ]
          },
          "metadata": {},
          "execution_count": 27
        }
      ],
      "metadata": {
        "execution": {
          "iopub.execute_input": "2021-06-21T19:17:18.421970Z",
          "iopub.status.busy": "2021-06-21T19:17:18.421178Z",
          "iopub.status.idle": "2021-06-21T19:17:18.424639Z",
          "shell.execute_reply": "2021-06-21T19:17:18.423939Z"
        },
        "id": "034405ce",
        "colab": {
          "base_uri": "https://localhost:8080/",
          "height": 0
        },
        "outputId": "e0ca0653-17d5-4ec2-f8b8-1f071902e7a7"
      }
    },
    {
      "cell_type": "markdown",
      "source": [
        "## Question 3"
      ],
      "metadata": {
        "id": "0d1ec52d"
      }
    },
    {
      "cell_type": "markdown",
      "source": [
        "Most of the cities on the list are in Canada, Mexico or the US."
      ],
      "metadata": {
        "id": "49943642"
      }
    },
    {
      "cell_type": "markdown",
      "source": [
        "Can you write a filter to find the cities that are not in any of these countries?"
      ],
      "metadata": {
        "id": "94584813"
      }
    },
    {
      "cell_type": "code",
      "execution_count": 28,
      "source": [
        "#📝📝📝📝 FILLME\r\n",
        "filter = df[\"City\"].isnull()\r\n",
        "city_name = df.loc[filter]\r\n",
        "city_name "
      ],
      "outputs": [
        {
          "output_type": "execute_result",
          "data": {
            "text/html": [
              "<div>\n",
              "<style scoped>\n",
              "    .dataframe tbody tr th:only-of-type {\n",
              "        vertical-align: middle;\n",
              "    }\n",
              "\n",
              "    .dataframe tbody tr th {\n",
              "        vertical-align: top;\n",
              "    }\n",
              "\n",
              "    .dataframe thead th {\n",
              "        text-align: right;\n",
              "    }\n",
              "</style>\n",
              "<table border=\"1\" class=\"dataframe\">\n",
              "  <thead>\n",
              "    <tr style=\"text-align: right;\">\n",
              "      <th></th>\n",
              "      <th>Rank</th>\n",
              "      <th>City</th>\n",
              "      <th>Country</th>\n",
              "      <th>Population</th>\n",
              "    </tr>\n",
              "  </thead>\n",
              "  <tbody>\n",
              "  </tbody>\n",
              "</table>\n",
              "</div>"
            ],
            "text/plain": [
              "Empty DataFrame\n",
              "Columns: [Rank, City, Country, Population]\n",
              "Index: []"
            ]
          },
          "metadata": {},
          "execution_count": 28
        }
      ],
      "metadata": {
        "execution": {
          "iopub.execute_input": "2021-06-21T19:17:18.430261Z",
          "iopub.status.busy": "2021-06-21T19:17:18.429372Z",
          "iopub.status.idle": "2021-06-21T19:17:18.432929Z",
          "shell.execute_reply": "2021-06-21T19:17:18.432180Z"
        },
        "id": "fa0d0239",
        "colab": {
          "base_uri": "https://localhost:8080/",
          "height": 49
        },
        "outputId": "402e461a-a823-4170-c03d-0771c0425411"
      }
    },
    {
      "cell_type": "markdown",
      "source": [
        "What is the largest city in this list?"
      ],
      "metadata": {
        "id": "8369fe4c"
      }
    },
    {
      "cell_type": "code",
      "execution_count": 56,
      "source": [
        "#📝📝📝📝 FILLME\r\n",
        "df.nlargest()"
      ],
      "outputs": [
        {
          "output_type": "error",
          "ename": "TypeError",
          "evalue": "ignored",
          "traceback": [
            "\u001b[0;31m---------------------------------------------------------------------------\u001b[0m",
            "\u001b[0;31mTypeError\u001b[0m                                 Traceback (most recent call last)",
            "\u001b[0;32m<ipython-input-56-ff3a02ce0ebe>\u001b[0m in \u001b[0;36m<module>\u001b[0;34m()\u001b[0m\n\u001b[1;32m      1\u001b[0m \u001b[0;31m#📝📝📝📝 FILLME\u001b[0m\u001b[0;34m\u001b[0m\u001b[0;34m\u001b[0m\u001b[0;34m\u001b[0m\u001b[0m\n\u001b[0;32m----> 2\u001b[0;31m \u001b[0mdf\u001b[0m\u001b[0;34m.\u001b[0m\u001b[0mnlargest\u001b[0m\u001b[0;34m(\u001b[0m\u001b[0;34m)\u001b[0m\u001b[0;34m\u001b[0m\u001b[0;34m\u001b[0m\u001b[0m\n\u001b[0m",
            "\u001b[0;31mTypeError\u001b[0m: nlargest() missing 2 required positional arguments: 'n' and 'columns'"
          ]
        }
      ],
      "metadata": {
        "execution": {
          "iopub.execute_input": "2021-06-21T19:17:18.438567Z",
          "iopub.status.busy": "2021-06-21T19:17:18.437672Z",
          "iopub.status.idle": "2021-06-21T19:17:18.441302Z",
          "shell.execute_reply": "2021-06-21T19:17:18.440405Z"
        },
        "id": "f8d6666d",
        "colab": {
          "base_uri": "https://localhost:8080/",
          "height": 178
        },
        "outputId": "23de7061-0354-4262-8e90-4cd5404a8061"
      }
    },
    {
      "cell_type": "markdown",
      "source": [
        "## Question 4"
      ],
      "metadata": {
        "id": "7137aeb0"
      }
    },
    {
      "cell_type": "markdown",
      "source": [
        "We can also apply filters that look for two properties at the same time. "
      ],
      "metadata": {
        "id": "76f2abae"
      }
    },
    {
      "cell_type": "markdown",
      "source": [
        "Can you write a filter to find the cities in the US of over a million people?"
      ],
      "metadata": {
        "id": "c19b96f8"
      }
    },
    {
      "cell_type": "code",
      "execution_count": 57,
      "source": [
        "#📝📝📝📝 FILLME\r\n",
        "filter2 = df[\"Population\"] > 1,000,000\r\n",
        "filter2"
      ],
      "outputs": [
        {
          "output_type": "execute_result",
          "data": {
            "text/plain": [
              "(0     True\n",
              " 1     True\n",
              " 2     True\n",
              " 3     True\n",
              " 4     True\n",
              "       ... \n",
              " 90    True\n",
              " 91    True\n",
              " 92    True\n",
              " 93    True\n",
              " 94    True\n",
              " Name: Population, Length: 95, dtype: bool, 0, 0)"
            ]
          },
          "metadata": {},
          "execution_count": 57
        }
      ],
      "metadata": {
        "execution": {
          "iopub.execute_input": "2021-06-21T19:17:18.447061Z",
          "iopub.status.busy": "2021-06-21T19:17:18.446151Z",
          "iopub.status.idle": "2021-06-21T19:17:18.449743Z",
          "shell.execute_reply": "2021-06-21T19:17:18.448956Z"
        },
        "id": "43967799",
        "colab": {
          "base_uri": "https://localhost:8080/",
          "height": 0
        },
        "outputId": "0df92777-54c8-4bcb-a59f-dfde7cc86e39"
      }
    },
    {
      "cell_type": "markdown",
      "source": [
        "How many are there?"
      ],
      "metadata": {
        "id": "74409343"
      }
    },
    {
      "cell_type": "code",
      "execution_count": 58,
      "source": [
        "#📝📝📝📝 FILLME\r\n",
        "populations_num_df = df.loc[filter3]\r\n",
        "print(populations_num_df.iloc[-1])"
      ],
      "outputs": [
        {
          "output_type": "error",
          "ename": "NameError",
          "evalue": "ignored",
          "traceback": [
            "\u001b[0;31m---------------------------------------------------------------------------\u001b[0m",
            "\u001b[0;31mNameError\u001b[0m                                 Traceback (most recent call last)",
            "\u001b[0;32m<ipython-input-58-12225f912f34>\u001b[0m in \u001b[0;36m<module>\u001b[0;34m()\u001b[0m\n\u001b[1;32m      1\u001b[0m \u001b[0;31m#📝📝📝📝 FILLME\u001b[0m\u001b[0;34m\u001b[0m\u001b[0;34m\u001b[0m\u001b[0;34m\u001b[0m\u001b[0m\n\u001b[0;32m----> 2\u001b[0;31m \u001b[0mpopulations_num_df\u001b[0m \u001b[0;34m=\u001b[0m \u001b[0mdf\u001b[0m\u001b[0;34m.\u001b[0m\u001b[0mloc\u001b[0m\u001b[0;34m[\u001b[0m\u001b[0mfilter3\u001b[0m\u001b[0;34m]\u001b[0m\u001b[0;34m\u001b[0m\u001b[0;34m\u001b[0m\u001b[0m\n\u001b[0m\u001b[1;32m      3\u001b[0m \u001b[0mprint\u001b[0m\u001b[0;34m(\u001b[0m\u001b[0mpopulations_num_df\u001b[0m\u001b[0;34m.\u001b[0m\u001b[0miloc\u001b[0m\u001b[0;34m[\u001b[0m\u001b[0;34m-\u001b[0m\u001b[0;36m1\u001b[0m\u001b[0;34m]\u001b[0m\u001b[0;34m)\u001b[0m\u001b[0;34m\u001b[0m\u001b[0;34m\u001b[0m\u001b[0m\n",
            "\u001b[0;31mNameError\u001b[0m: name 'filter3' is not defined"
          ]
        }
      ],
      "metadata": {
        "execution": {
          "iopub.execute_input": "2021-06-21T19:17:18.455538Z",
          "iopub.status.busy": "2021-06-21T19:17:18.454614Z",
          "iopub.status.idle": "2021-06-21T19:17:18.458275Z",
          "shell.execute_reply": "2021-06-21T19:17:18.457533Z"
        },
        "id": "6627ba7a",
        "colab": {
          "base_uri": "https://localhost:8080/",
          "height": 195
        },
        "outputId": "f265d68a-b33c-44f4-a775-cbeb10ec914a"
      }
    },
    {
      "cell_type": "markdown",
      "source": [
        "# Unit B"
      ],
      "metadata": {
        "id": "30f834b0"
      }
    },
    {
      "cell_type": "markdown",
      "source": [
        "In this unit we will look at three more advanced Pandas functions.\n",
        "Unlike filters, which just remove rows, these will allow use to manipute\n",
        "our data to compute new properties and even new columns. "
      ],
      "metadata": {
        "id": "d58a6d40"
      }
    },
    {
      "cell_type": "markdown",
      "source": [
        "## Group By's"
      ],
      "metadata": {
        "id": "8eebfd1e"
      }
    },
    {
      "cell_type": "markdown",
      "source": [
        "We saw above how to compute the total number of cities in Mexico on\n",
        "our list. We did this by first filtering and then \"aggregating\" by\n",
        "calling `count()`. Here is a reminder. "
      ],
      "metadata": {
        "id": "ed2ba4fc"
      }
    },
    {
      "cell_type": "code",
      "execution_count": 59,
      "source": [
        "filter = df[\"Country\"] == \"Mexico\"\r\n",
        "cities_in_mexico_df = df.loc[filter]\r\n",
        "total_cities_in_mexico = cities_in_mexico_df[\"City\"].count()\r\n",
        "total_cities_in_mexico"
      ],
      "outputs": [
        {
          "output_type": "execute_result",
          "data": {
            "text/plain": [
              "38"
            ]
          },
          "metadata": {},
          "execution_count": 59
        }
      ],
      "metadata": {
        "execution": {
          "iopub.execute_input": "2021-06-21T19:17:18.467075Z",
          "iopub.status.busy": "2021-06-21T19:17:18.466145Z",
          "iopub.status.idle": "2021-06-21T19:17:18.469479Z",
          "shell.execute_reply": "2021-06-21T19:17:18.470201Z"
        },
        "id": "d3a90e29",
        "colab": {
          "base_uri": "https://localhost:8080/",
          "height": 0
        },
        "outputId": "6852e05d-dd8e-4130-d252-ae4a3c287cec"
      }
    },
    {
      "cell_type": "markdown",
      "source": [
        "However, what if we also want to know the number of cities\n",
        "in Canada and US and all the other countries on our list.\n",
        "We can do this with a group-by operation"
      ],
      "metadata": {
        "id": "73b4e912"
      }
    },
    {
      "cell_type": "markdown",
      "source": [
        "**GroupBy**\n",
        "\n",
        "1. GroupBy - Determine the subset of data to use\n",
        "2. Aggregation - Compute a property over the group"
      ],
      "metadata": {
        "id": "0a88330f"
      }
    },
    {
      "cell_type": "markdown",
      "source": [
        "Step 1. Group By"
      ],
      "metadata": {
        "id": "9f847775"
      }
    },
    {
      "cell_type": "code",
      "execution_count": 60,
      "source": [
        "grouped = df.groupby([\"Country\"], as_index=False)"
      ],
      "outputs": [],
      "metadata": {
        "execution": {
          "iopub.execute_input": "2021-06-21T19:17:18.476337Z",
          "iopub.status.busy": "2021-06-21T19:17:18.475441Z",
          "iopub.status.idle": "2021-06-21T19:17:18.479072Z",
          "shell.execute_reply": "2021-06-21T19:17:18.478249Z"
        },
        "id": "7d07b4a5"
      }
    },
    {
      "cell_type": "markdown",
      "source": [
        "Step 2. Aggregate"
      ],
      "metadata": {
        "id": "4c2310b2"
      }
    },
    {
      "cell_type": "code",
      "execution_count": 61,
      "source": [
        "count_of_cities = grouped[\"City\"].count()\n",
        "count_of_cities"
      ],
      "outputs": [
        {
          "output_type": "execute_result",
          "data": {
            "text/html": [
              "<div>\n",
              "<style scoped>\n",
              "    .dataframe tbody tr th:only-of-type {\n",
              "        vertical-align: middle;\n",
              "    }\n",
              "\n",
              "    .dataframe tbody tr th {\n",
              "        vertical-align: top;\n",
              "    }\n",
              "\n",
              "    .dataframe thead th {\n",
              "        text-align: right;\n",
              "    }\n",
              "</style>\n",
              "<table border=\"1\" class=\"dataframe\">\n",
              "  <thead>\n",
              "    <tr style=\"text-align: right;\">\n",
              "      <th></th>\n",
              "      <th>Country</th>\n",
              "      <th>City</th>\n",
              "    </tr>\n",
              "  </thead>\n",
              "  <tbody>\n",
              "    <tr>\n",
              "      <th>0</th>\n",
              "      <td>Canada</td>\n",
              "      <td>12</td>\n",
              "    </tr>\n",
              "    <tr>\n",
              "      <th>1</th>\n",
              "      <td>Cuba</td>\n",
              "      <td>1</td>\n",
              "    </tr>\n",
              "    <tr>\n",
              "      <th>2</th>\n",
              "      <td>Dominican Republic</td>\n",
              "      <td>2</td>\n",
              "    </tr>\n",
              "    <tr>\n",
              "      <th>3</th>\n",
              "      <td>Guatemala</td>\n",
              "      <td>2</td>\n",
              "    </tr>\n",
              "    <tr>\n",
              "      <th>4</th>\n",
              "      <td>Haiti</td>\n",
              "      <td>2</td>\n",
              "    </tr>\n",
              "    <tr>\n",
              "      <th>5</th>\n",
              "      <td>Honduras</td>\n",
              "      <td>2</td>\n",
              "    </tr>\n",
              "    <tr>\n",
              "      <th>6</th>\n",
              "      <td>Jamaica</td>\n",
              "      <td>1</td>\n",
              "    </tr>\n",
              "    <tr>\n",
              "      <th>7</th>\n",
              "      <td>Mexico</td>\n",
              "      <td>38</td>\n",
              "    </tr>\n",
              "    <tr>\n",
              "      <th>8</th>\n",
              "      <td>Nicaragua</td>\n",
              "      <td>1</td>\n",
              "    </tr>\n",
              "    <tr>\n",
              "      <th>9</th>\n",
              "      <td>United States</td>\n",
              "      <td>34</td>\n",
              "    </tr>\n",
              "  </tbody>\n",
              "</table>\n",
              "</div>"
            ],
            "text/plain": [
              "              Country  City\n",
              "0              Canada    12\n",
              "1                Cuba     1\n",
              "2  Dominican Republic     2\n",
              "3           Guatemala     2\n",
              "4               Haiti     2\n",
              "5            Honduras     2\n",
              "6             Jamaica     1\n",
              "7              Mexico    38\n",
              "8           Nicaragua     1\n",
              "9       United States    34"
            ]
          },
          "metadata": {},
          "execution_count": 61
        }
      ],
      "metadata": {
        "execution": {
          "iopub.execute_input": "2021-06-21T19:17:18.489729Z",
          "iopub.status.busy": "2021-06-21T19:17:18.488837Z",
          "iopub.status.idle": "2021-06-21T19:17:18.492904Z",
          "shell.execute_reply": "2021-06-21T19:17:18.493589Z"
        },
        "id": "f2866f47",
        "colab": {
          "base_uri": "https://localhost:8080/",
          "height": 357
        },
        "outputId": "80a1db46-fc3b-43c1-e6b5-5b37c56754ed"
      }
    },
    {
      "cell_type": "markdown",
      "source": [
        "Here is another example. This one computes the population of the\n",
        "largest city in each country. "
      ],
      "metadata": {
        "id": "3a16999c"
      }
    },
    {
      "cell_type": "code",
      "execution_count": 62,
      "source": [
        "max_pop = grouped[\"Population\"].max()\r\n",
        "max_pop"
      ],
      "outputs": [
        {
          "output_type": "execute_result",
          "data": {
            "text/html": [
              "<div>\n",
              "<style scoped>\n",
              "    .dataframe tbody tr th:only-of-type {\n",
              "        vertical-align: middle;\n",
              "    }\n",
              "\n",
              "    .dataframe tbody tr th {\n",
              "        vertical-align: top;\n",
              "    }\n",
              "\n",
              "    .dataframe thead th {\n",
              "        text-align: right;\n",
              "    }\n",
              "</style>\n",
              "<table border=\"1\" class=\"dataframe\">\n",
              "  <thead>\n",
              "    <tr style=\"text-align: right;\">\n",
              "      <th></th>\n",
              "      <th>Country</th>\n",
              "      <th>Population</th>\n",
              "    </tr>\n",
              "  </thead>\n",
              "  <tbody>\n",
              "    <tr>\n",
              "      <th>0</th>\n",
              "      <td>Canada</td>\n",
              "      <td>2826498</td>\n",
              "    </tr>\n",
              "    <tr>\n",
              "      <th>1</th>\n",
              "      <td>Cuba</td>\n",
              "      <td>2117625</td>\n",
              "    </tr>\n",
              "    <tr>\n",
              "      <th>2</th>\n",
              "      <td>Dominican Republic</td>\n",
              "      <td>1007997</td>\n",
              "    </tr>\n",
              "    <tr>\n",
              "      <th>3</th>\n",
              "      <td>Guatemala</td>\n",
              "      <td>994078</td>\n",
              "    </tr>\n",
              "    <tr>\n",
              "      <th>4</th>\n",
              "      <td>Haiti</td>\n",
              "      <td>987310</td>\n",
              "    </tr>\n",
              "    <tr>\n",
              "      <th>5</th>\n",
              "      <td>Honduras</td>\n",
              "      <td>1190230</td>\n",
              "    </tr>\n",
              "    <tr>\n",
              "      <th>6</th>\n",
              "      <td>Jamaica</td>\n",
              "      <td>669627</td>\n",
              "    </tr>\n",
              "    <tr>\n",
              "      <th>7</th>\n",
              "      <td>Mexico</td>\n",
              "      <td>8918653</td>\n",
              "    </tr>\n",
              "    <tr>\n",
              "      <th>8</th>\n",
              "      <td>Nicaragua</td>\n",
              "      <td>1048134</td>\n",
              "    </tr>\n",
              "    <tr>\n",
              "      <th>9</th>\n",
              "      <td>United States</td>\n",
              "      <td>8550405</td>\n",
              "    </tr>\n",
              "  </tbody>\n",
              "</table>\n",
              "</div>"
            ],
            "text/plain": [
              "              Country  Population\n",
              "0              Canada     2826498\n",
              "1                Cuba     2117625\n",
              "2  Dominican Republic     1007997\n",
              "3           Guatemala      994078\n",
              "4               Haiti      987310\n",
              "5            Honduras     1190230\n",
              "6             Jamaica      669627\n",
              "7              Mexico     8918653\n",
              "8           Nicaragua     1048134\n",
              "9       United States     8550405"
            ]
          },
          "metadata": {},
          "execution_count": 62
        }
      ],
      "metadata": {
        "execution": {
          "iopub.execute_input": "2021-06-21T19:17:18.501455Z",
          "iopub.status.busy": "2021-06-21T19:17:18.500583Z",
          "iopub.status.idle": "2021-06-21T19:17:18.505036Z",
          "shell.execute_reply": "2021-06-21T19:17:18.504133Z"
        },
        "id": "b32006aa",
        "colab": {
          "base_uri": "https://localhost:8080/",
          "height": 357
        },
        "outputId": "7f683c35-0412-4b57-b249-980800e5491c"
      }
    },
    {
      "cell_type": "markdown",
      "source": [
        "👩‍🎓 ** Student Question: Can you compute the city with the minimum population on the list for each country? **"
      ],
      "metadata": {
        "id": "8d8489c1"
      }
    },
    {
      "cell_type": "code",
      "execution_count": 63,
      "source": [
        "#📝📝📝📝 FILLME\r\n",
        "min_pop = grouped[\"Population\"].min()\r\n",
        "min_pop"
      ],
      "outputs": [
        {
          "output_type": "execute_result",
          "data": {
            "text/html": [
              "<div>\n",
              "<style scoped>\n",
              "    .dataframe tbody tr th:only-of-type {\n",
              "        vertical-align: middle;\n",
              "    }\n",
              "\n",
              "    .dataframe tbody tr th {\n",
              "        vertical-align: top;\n",
              "    }\n",
              "\n",
              "    .dataframe thead th {\n",
              "        text-align: right;\n",
              "    }\n",
              "</style>\n",
              "<table border=\"1\" class=\"dataframe\">\n",
              "  <thead>\n",
              "    <tr style=\"text-align: right;\">\n",
              "      <th></th>\n",
              "      <th>Country</th>\n",
              "      <th>Population</th>\n",
              "    </tr>\n",
              "  </thead>\n",
              "  <tbody>\n",
              "    <tr>\n",
              "      <th>0</th>\n",
              "      <td>Canada</td>\n",
              "      <td>526004</td>\n",
              "    </tr>\n",
              "    <tr>\n",
              "      <th>1</th>\n",
              "      <td>Cuba</td>\n",
              "      <td>2117625</td>\n",
              "    </tr>\n",
              "    <tr>\n",
              "      <th>2</th>\n",
              "      <td>Dominican Republic</td>\n",
              "      <td>723162</td>\n",
              "    </tr>\n",
              "    <tr>\n",
              "      <th>3</th>\n",
              "      <td>Guatemala</td>\n",
              "      <td>564686</td>\n",
              "    </tr>\n",
              "    <tr>\n",
              "      <th>4</th>\n",
              "      <td>Haiti</td>\n",
              "      <td>501768</td>\n",
              "    </tr>\n",
              "    <tr>\n",
              "      <th>5</th>\n",
              "      <td>Honduras</td>\n",
              "      <td>742118</td>\n",
              "    </tr>\n",
              "    <tr>\n",
              "      <th>6</th>\n",
              "      <td>Jamaica</td>\n",
              "      <td>669627</td>\n",
              "    </tr>\n",
              "    <tr>\n",
              "      <th>7</th>\n",
              "      <td>Mexico</td>\n",
              "      <td>520557</td>\n",
              "    </tr>\n",
              "    <tr>\n",
              "      <th>8</th>\n",
              "      <td>Nicaragua</td>\n",
              "      <td>1048134</td>\n",
              "    </tr>\n",
              "    <tr>\n",
              "      <th>9</th>\n",
              "      <td>United States</td>\n",
              "      <td>520052</td>\n",
              "    </tr>\n",
              "  </tbody>\n",
              "</table>\n",
              "</div>"
            ],
            "text/plain": [
              "              Country  Population\n",
              "0              Canada      526004\n",
              "1                Cuba     2117625\n",
              "2  Dominican Republic      723162\n",
              "3           Guatemala      564686\n",
              "4               Haiti      501768\n",
              "5            Honduras      742118\n",
              "6             Jamaica      669627\n",
              "7              Mexico      520557\n",
              "8           Nicaragua     1048134\n",
              "9       United States      520052"
            ]
          },
          "metadata": {},
          "execution_count": 63
        }
      ],
      "metadata": {
        "execution": {
          "iopub.execute_input": "2021-06-21T19:17:18.510183Z",
          "iopub.status.busy": "2021-06-21T19:17:18.509290Z",
          "iopub.status.idle": "2021-06-21T19:17:18.512775Z",
          "shell.execute_reply": "2021-06-21T19:17:18.512043Z"
        },
        "lines_to_next_cell": 1,
        "id": "7507a092",
        "colab": {
          "base_uri": "https://localhost:8080/",
          "height": 357
        },
        "outputId": "538bd017-8b03-4669-d060-e02640b96b02"
      }
    },
    {
      "cell_type": "markdown",
      "source": [
        "## Manipulating Tables"
      ],
      "metadata": {
        "id": "49cf4ee5"
      }
    },
    {
      "cell_type": "markdown",
      "source": [
        "Another useful aspect of tables is is to add in new columns.\n",
        "Adding new columns allows us to group by additional properties,\n",
        "create advanced filters, or make pretty graphs."
      ],
      "metadata": {
        "id": "9511af8c"
      }
    },
    {
      "cell_type": "markdown",
      "source": [
        "The easiest way to add a new column in pandas is to write a function\n",
        "that tells us how to create the new column from the other columns in\n",
        "the table."
      ],
      "metadata": {
        "id": "ef146c46"
      }
    },
    {
      "cell_type": "markdown",
      "source": [
        "In order to add a new column, we need to write a function.\n",
        "If you remember last class, a function looked something like this."
      ],
      "metadata": {
        "id": "c74ca76e"
      }
    },
    {
      "cell_type": "code",
      "execution_count": 64,
      "source": [
        "# Returns if the country is in US or Canada\r\n",
        "def in_us_or_canada(country):\r\n",
        "    if country == \"United States\":\r\n",
        "        return \"US/Canada\"\r\n",
        "    if country == \"Canada\":\r\n",
        "        return \"US/Canada\"\r\n",
        "    return \"Not US/Canada\"\r\n",
        "\r\n",
        "print(in_us_or_canada(\"Mexico\"))\r\n",
        "print(in_us_or_canada(\"Canada\"))"
      ],
      "outputs": [
        {
          "output_type": "stream",
          "name": "stdout",
          "text": [
            "Not US/Canada\n",
            "US/Canada\n"
          ]
        }
      ],
      "metadata": {
        "execution": {
          "iopub.execute_input": "2021-06-21T19:17:18.519526Z",
          "iopub.status.busy": "2021-06-21T19:17:18.518612Z",
          "iopub.status.idle": "2021-06-21T19:17:18.522480Z",
          "shell.execute_reply": "2021-06-21T19:17:18.521507Z"
        },
        "lines_to_next_cell": 1,
        "id": "109f5837",
        "colab": {
          "base_uri": "https://localhost:8080/",
          "height": 0
        },
        "outputId": "25369277-0a22-493b-f001-5bf597d84764"
      }
    },
    {
      "cell_type": "markdown",
      "source": [
        "Now we can add a new column by setting that column equal to\n",
        "the country. We do this by calling Pandas `map` with the function\n",
        "and the column of interest. This line of code will call our function\n",
        "for each row of the Country column. Notice how it creates a new column."
      ],
      "metadata": {
        "id": "71a339ea"
      }
    },
    {
      "cell_type": "code",
      "execution_count": 65,
      "source": [
        "df[\"US_or_Canada\"] = df[\"Country\"].map(in_us_or_canada)\r\n",
        "df"
      ],
      "outputs": [
        {
          "output_type": "execute_result",
          "data": {
            "text/html": [
              "<div>\n",
              "<style scoped>\n",
              "    .dataframe tbody tr th:only-of-type {\n",
              "        vertical-align: middle;\n",
              "    }\n",
              "\n",
              "    .dataframe tbody tr th {\n",
              "        vertical-align: top;\n",
              "    }\n",
              "\n",
              "    .dataframe thead th {\n",
              "        text-align: right;\n",
              "    }\n",
              "</style>\n",
              "<table border=\"1\" class=\"dataframe\">\n",
              "  <thead>\n",
              "    <tr style=\"text-align: right;\">\n",
              "      <th></th>\n",
              "      <th>Rank</th>\n",
              "      <th>City</th>\n",
              "      <th>Country</th>\n",
              "      <th>Population</th>\n",
              "      <th>US_or_Canada</th>\n",
              "    </tr>\n",
              "  </thead>\n",
              "  <tbody>\n",
              "    <tr>\n",
              "      <th>0</th>\n",
              "      <td>0</td>\n",
              "      <td>Mexico City</td>\n",
              "      <td>Mexico</td>\n",
              "      <td>8918653</td>\n",
              "      <td>Not US/Canada</td>\n",
              "    </tr>\n",
              "    <tr>\n",
              "      <th>1</th>\n",
              "      <td>1</td>\n",
              "      <td>New York City</td>\n",
              "      <td>United States</td>\n",
              "      <td>8550405</td>\n",
              "      <td>US/Canada</td>\n",
              "    </tr>\n",
              "    <tr>\n",
              "      <th>2</th>\n",
              "      <td>2</td>\n",
              "      <td>Los Angeles</td>\n",
              "      <td>United States</td>\n",
              "      <td>3971883</td>\n",
              "      <td>US/Canada</td>\n",
              "    </tr>\n",
              "    <tr>\n",
              "      <th>3</th>\n",
              "      <td>3</td>\n",
              "      <td>Toronto</td>\n",
              "      <td>Canada</td>\n",
              "      <td>2826498</td>\n",
              "      <td>US/Canada</td>\n",
              "    </tr>\n",
              "    <tr>\n",
              "      <th>4</th>\n",
              "      <td>4</td>\n",
              "      <td>Chicago</td>\n",
              "      <td>United States</td>\n",
              "      <td>2720546</td>\n",
              "      <td>US/Canada</td>\n",
              "    </tr>\n",
              "    <tr>\n",
              "      <th>...</th>\n",
              "      <td>...</td>\n",
              "      <td>...</td>\n",
              "      <td>...</td>\n",
              "      <td>...</td>\n",
              "      <td>...</td>\n",
              "    </tr>\n",
              "    <tr>\n",
              "      <th>90</th>\n",
              "      <td>90</td>\n",
              "      <td>Surrey</td>\n",
              "      <td>Canada</td>\n",
              "      <td>526004</td>\n",
              "      <td>US/Canada</td>\n",
              "    </tr>\n",
              "    <tr>\n",
              "      <th>91</th>\n",
              "      <td>91</td>\n",
              "      <td>Ciudad López Mateos</td>\n",
              "      <td>Mexico</td>\n",
              "      <td>523296</td>\n",
              "      <td>Not US/Canada</td>\n",
              "    </tr>\n",
              "    <tr>\n",
              "      <th>92</th>\n",
              "      <td>92</td>\n",
              "      <td>Tultitlán</td>\n",
              "      <td>Mexico</td>\n",
              "      <td>520557</td>\n",
              "      <td>Not US/Canada</td>\n",
              "    </tr>\n",
              "    <tr>\n",
              "      <th>93</th>\n",
              "      <td>93</td>\n",
              "      <td>Fresno</td>\n",
              "      <td>United States</td>\n",
              "      <td>520052</td>\n",
              "      <td>US/Canada</td>\n",
              "    </tr>\n",
              "    <tr>\n",
              "      <th>94</th>\n",
              "      <td>94</td>\n",
              "      <td>Carrefour</td>\n",
              "      <td>Haiti</td>\n",
              "      <td>501768</td>\n",
              "      <td>Not US/Canada</td>\n",
              "    </tr>\n",
              "  </tbody>\n",
              "</table>\n",
              "<p>95 rows × 5 columns</p>\n",
              "</div>"
            ],
            "text/plain": [
              "    Rank                 City        Country  Population   US_or_Canada\n",
              "0      0          Mexico City         Mexico     8918653  Not US/Canada\n",
              "1      1        New York City  United States     8550405      US/Canada\n",
              "2      2          Los Angeles  United States     3971883      US/Canada\n",
              "3      3              Toronto         Canada     2826498      US/Canada\n",
              "4      4              Chicago  United States     2720546      US/Canada\n",
              "..   ...                  ...            ...         ...            ...\n",
              "90    90               Surrey         Canada      526004      US/Canada\n",
              "91    91  Ciudad López Mateos         Mexico      523296  Not US/Canada\n",
              "92    92            Tultitlán         Mexico      520557  Not US/Canada\n",
              "93    93               Fresno  United States      520052      US/Canada\n",
              "94    94            Carrefour          Haiti      501768  Not US/Canada\n",
              "\n",
              "[95 rows x 5 columns]"
            ]
          },
          "metadata": {},
          "execution_count": 65
        }
      ],
      "metadata": {
        "execution": {
          "iopub.execute_input": "2021-06-21T19:17:18.547360Z",
          "iopub.status.busy": "2021-06-21T19:17:18.546445Z",
          "iopub.status.idle": "2021-06-21T19:17:18.550903Z",
          "shell.execute_reply": "2021-06-21T19:17:18.550002Z"
        },
        "id": "b99e184d",
        "colab": {
          "base_uri": "https://localhost:8080/",
          "height": 417
        },
        "outputId": "7ed804b6-ac45-41d5-c475-cc7bc67190a1"
      }
    },
    {
      "cell_type": "code",
      "execution_count": 66,
      "source": [
        "df.columns"
      ],
      "outputs": [
        {
          "output_type": "execute_result",
          "data": {
            "text/plain": [
              "Index(['Rank', 'City', 'Country', 'Population', 'US_or_Canada'], dtype='object')"
            ]
          },
          "metadata": {},
          "execution_count": 66
        }
      ],
      "metadata": {
        "execution": {
          "iopub.execute_input": "2021-06-21T19:17:18.556623Z",
          "iopub.status.busy": "2021-06-21T19:17:18.555755Z",
          "iopub.status.idle": "2021-06-21T19:17:18.558815Z",
          "shell.execute_reply": "2021-06-21T19:17:18.559549Z"
        },
        "id": "da12ded1",
        "colab": {
          "base_uri": "https://localhost:8080/",
          "height": 0
        },
        "outputId": "e3842ec7-0186-408b-8fcf-287c3c45fe92"
      }
    },
    {
      "cell_type": "markdown",
      "source": [
        "We can then use this column in a group by."
      ],
      "metadata": {
        "id": "a5a2291d"
      }
    },
    {
      "cell_type": "code",
      "execution_count": 67,
      "source": [
        "grouped = df.groupby([\"US_or_Canada\"])\r\n",
        "count_of_cities = grouped[\"City\"].count()\r\n",
        "count_of_cities"
      ],
      "outputs": [
        {
          "output_type": "execute_result",
          "data": {
            "text/plain": [
              "US_or_Canada\n",
              "Not US/Canada    49\n",
              "US/Canada        46\n",
              "Name: City, dtype: int64"
            ]
          },
          "metadata": {},
          "execution_count": 67
        }
      ],
      "metadata": {
        "execution": {
          "iopub.execute_input": "2021-06-21T19:17:18.567720Z",
          "iopub.status.busy": "2021-06-21T19:17:18.565001Z",
          "iopub.status.idle": "2021-06-21T19:17:18.571279Z",
          "shell.execute_reply": "2021-06-21T19:17:18.572035Z"
        },
        "lines_to_next_cell": 1,
        "id": "3950c26d",
        "colab": {
          "base_uri": "https://localhost:8080/",
          "height": 0
        },
        "outputId": "2508c29c-199c-49dd-b596-5e2fb0066819"
      }
    },
    {
      "cell_type": "markdown",
      "source": [
        "A similar technique can be used to manipulate the data in a\n",
        "column to change certain values. For instance, we might want to\n",
        "remove the final \" City\" from cities like \"New York\" "
      ],
      "metadata": {
        "id": "1533e4c4"
      }
    },
    {
      "cell_type": "code",
      "execution_count": 68,
      "source": [
        "def change_name(str1):\r\n",
        "    return str1.replace(\" City\", \"\")\r\n",
        "change_name(\"New York City\")"
      ],
      "outputs": [
        {
          "output_type": "execute_result",
          "data": {
            "application/vnd.google.colaboratory.intrinsic+json": {
              "type": "string"
            },
            "text/plain": [
              "'New York'"
            ]
          },
          "metadata": {},
          "execution_count": 68
        }
      ],
      "metadata": {
        "execution": {
          "iopub.execute_input": "2021-06-21T19:17:18.578080Z",
          "iopub.status.busy": "2021-06-21T19:17:18.577197Z",
          "iopub.status.idle": "2021-06-21T19:17:18.580958Z",
          "shell.execute_reply": "2021-06-21T19:17:18.580195Z"
        },
        "lines_to_next_cell": 1,
        "id": "e4e77a14",
        "colab": {
          "base_uri": "https://localhost:8080/",
          "height": 35
        },
        "outputId": "1359a90f-5963-4786-c37e-c2ddb1ed13a7"
      }
    },
    {
      "cell_type": "code",
      "execution_count": 69,
      "source": [
        "df[\"City\"] = df[\"City\"].map(change_name)\r\n",
        "df"
      ],
      "outputs": [
        {
          "output_type": "execute_result",
          "data": {
            "text/html": [
              "<div>\n",
              "<style scoped>\n",
              "    .dataframe tbody tr th:only-of-type {\n",
              "        vertical-align: middle;\n",
              "    }\n",
              "\n",
              "    .dataframe tbody tr th {\n",
              "        vertical-align: top;\n",
              "    }\n",
              "\n",
              "    .dataframe thead th {\n",
              "        text-align: right;\n",
              "    }\n",
              "</style>\n",
              "<table border=\"1\" class=\"dataframe\">\n",
              "  <thead>\n",
              "    <tr style=\"text-align: right;\">\n",
              "      <th></th>\n",
              "      <th>Rank</th>\n",
              "      <th>City</th>\n",
              "      <th>Country</th>\n",
              "      <th>Population</th>\n",
              "      <th>US_or_Canada</th>\n",
              "    </tr>\n",
              "  </thead>\n",
              "  <tbody>\n",
              "    <tr>\n",
              "      <th>0</th>\n",
              "      <td>0</td>\n",
              "      <td>Mexico</td>\n",
              "      <td>Mexico</td>\n",
              "      <td>8918653</td>\n",
              "      <td>Not US/Canada</td>\n",
              "    </tr>\n",
              "    <tr>\n",
              "      <th>1</th>\n",
              "      <td>1</td>\n",
              "      <td>New York</td>\n",
              "      <td>United States</td>\n",
              "      <td>8550405</td>\n",
              "      <td>US/Canada</td>\n",
              "    </tr>\n",
              "    <tr>\n",
              "      <th>2</th>\n",
              "      <td>2</td>\n",
              "      <td>Los Angeles</td>\n",
              "      <td>United States</td>\n",
              "      <td>3971883</td>\n",
              "      <td>US/Canada</td>\n",
              "    </tr>\n",
              "    <tr>\n",
              "      <th>3</th>\n",
              "      <td>3</td>\n",
              "      <td>Toronto</td>\n",
              "      <td>Canada</td>\n",
              "      <td>2826498</td>\n",
              "      <td>US/Canada</td>\n",
              "    </tr>\n",
              "    <tr>\n",
              "      <th>4</th>\n",
              "      <td>4</td>\n",
              "      <td>Chicago</td>\n",
              "      <td>United States</td>\n",
              "      <td>2720546</td>\n",
              "      <td>US/Canada</td>\n",
              "    </tr>\n",
              "    <tr>\n",
              "      <th>...</th>\n",
              "      <td>...</td>\n",
              "      <td>...</td>\n",
              "      <td>...</td>\n",
              "      <td>...</td>\n",
              "      <td>...</td>\n",
              "    </tr>\n",
              "    <tr>\n",
              "      <th>90</th>\n",
              "      <td>90</td>\n",
              "      <td>Surrey</td>\n",
              "      <td>Canada</td>\n",
              "      <td>526004</td>\n",
              "      <td>US/Canada</td>\n",
              "    </tr>\n",
              "    <tr>\n",
              "      <th>91</th>\n",
              "      <td>91</td>\n",
              "      <td>Ciudad López Mateos</td>\n",
              "      <td>Mexico</td>\n",
              "      <td>523296</td>\n",
              "      <td>Not US/Canada</td>\n",
              "    </tr>\n",
              "    <tr>\n",
              "      <th>92</th>\n",
              "      <td>92</td>\n",
              "      <td>Tultitlán</td>\n",
              "      <td>Mexico</td>\n",
              "      <td>520557</td>\n",
              "      <td>Not US/Canada</td>\n",
              "    </tr>\n",
              "    <tr>\n",
              "      <th>93</th>\n",
              "      <td>93</td>\n",
              "      <td>Fresno</td>\n",
              "      <td>United States</td>\n",
              "      <td>520052</td>\n",
              "      <td>US/Canada</td>\n",
              "    </tr>\n",
              "    <tr>\n",
              "      <th>94</th>\n",
              "      <td>94</td>\n",
              "      <td>Carrefour</td>\n",
              "      <td>Haiti</td>\n",
              "      <td>501768</td>\n",
              "      <td>Not US/Canada</td>\n",
              "    </tr>\n",
              "  </tbody>\n",
              "</table>\n",
              "<p>95 rows × 5 columns</p>\n",
              "</div>"
            ],
            "text/plain": [
              "    Rank                 City        Country  Population   US_or_Canada\n",
              "0      0               Mexico         Mexico     8918653  Not US/Canada\n",
              "1      1             New York  United States     8550405      US/Canada\n",
              "2      2          Los Angeles  United States     3971883      US/Canada\n",
              "3      3              Toronto         Canada     2826498      US/Canada\n",
              "4      4              Chicago  United States     2720546      US/Canada\n",
              "..   ...                  ...            ...         ...            ...\n",
              "90    90               Surrey         Canada      526004      US/Canada\n",
              "91    91  Ciudad López Mateos         Mexico      523296  Not US/Canada\n",
              "92    92            Tultitlán         Mexico      520557  Not US/Canada\n",
              "93    93               Fresno  United States      520052      US/Canada\n",
              "94    94            Carrefour          Haiti      501768  Not US/Canada\n",
              "\n",
              "[95 rows x 5 columns]"
            ]
          },
          "metadata": {},
          "execution_count": 69
        }
      ],
      "metadata": {
        "execution": {
          "iopub.execute_input": "2021-06-21T19:17:18.605093Z",
          "iopub.status.busy": "2021-06-21T19:17:18.604218Z",
          "iopub.status.idle": "2021-06-21T19:17:18.608758Z",
          "shell.execute_reply": "2021-06-21T19:17:18.607986Z"
        },
        "id": "99f0a722",
        "colab": {
          "base_uri": "https://localhost:8080/",
          "height": 417
        },
        "outputId": "98592c5f-f1c2-4699-c659-25afedc771bb"
      }
    },
    {
      "cell_type": "markdown",
      "source": [
        "## Joining Together Tables"
      ],
      "metadata": {
        "id": "b0879fa2"
      }
    },
    {
      "cell_type": "markdown",
      "source": [
        "Pandas becomes much more powerful when we start to have many\n",
        "different tables that relate to each other. For this example we will\n",
        "consider another table that provides the locations about these\n",
        "cities. You can see that here: "
      ],
      "metadata": {
        "id": "e23745ea"
      }
    },
    {
      "cell_type": "markdown",
      "source": [
        "[City Location Spreadsheet](https://docs.google.com/spreadsheets/d/1Jwcr6IBJbOT1G4Vq7VqaZ7S1V9gRmUb5ALkJPaG5fxI/edit?usp=sharing)"
      ],
      "metadata": {
        "id": "143d2cd0"
      }
    },
    {
      "cell_type": "markdown",
      "source": [
        "Lets load this table into a new variable."
      ],
      "metadata": {
        "id": "6ccf0570"
      }
    },
    {
      "cell_type": "code",
      "execution_count": 70,
      "source": [
        "all_cities_df = pd.read_csv(\"https://srush.github.io/BT-AI/notebooks/AllCities.csv\")\r\n",
        "all_cities_df"
      ],
      "outputs": [
        {
          "output_type": "execute_result",
          "data": {
            "text/html": [
              "<div>\n",
              "<style scoped>\n",
              "    .dataframe tbody tr th:only-of-type {\n",
              "        vertical-align: middle;\n",
              "    }\n",
              "\n",
              "    .dataframe tbody tr th {\n",
              "        vertical-align: top;\n",
              "    }\n",
              "\n",
              "    .dataframe thead th {\n",
              "        text-align: right;\n",
              "    }\n",
              "</style>\n",
              "<table border=\"1\" class=\"dataframe\">\n",
              "  <thead>\n",
              "    <tr style=\"text-align: right;\">\n",
              "      <th></th>\n",
              "      <th>Id</th>\n",
              "      <th>City</th>\n",
              "      <th>Country</th>\n",
              "      <th>Longitude</th>\n",
              "      <th>Latitude</th>\n",
              "    </tr>\n",
              "  </thead>\n",
              "  <tbody>\n",
              "    <tr>\n",
              "      <th>0</th>\n",
              "      <td>0</td>\n",
              "      <td>A Coruña</td>\n",
              "      <td>Spain</td>\n",
              "      <td>8.73W</td>\n",
              "      <td>42.59N</td>\n",
              "    </tr>\n",
              "    <tr>\n",
              "      <th>1</th>\n",
              "      <td>1</td>\n",
              "      <td>Aachen</td>\n",
              "      <td>Germany</td>\n",
              "      <td>6.34E</td>\n",
              "      <td>50.63N</td>\n",
              "    </tr>\n",
              "    <tr>\n",
              "      <th>2</th>\n",
              "      <td>2</td>\n",
              "      <td>Aalborg</td>\n",
              "      <td>Denmark</td>\n",
              "      <td>10.33E</td>\n",
              "      <td>57.05N</td>\n",
              "    </tr>\n",
              "    <tr>\n",
              "      <th>3</th>\n",
              "      <td>3</td>\n",
              "      <td>Aba</td>\n",
              "      <td>Nigeria</td>\n",
              "      <td>8.07E</td>\n",
              "      <td>5.63N</td>\n",
              "    </tr>\n",
              "    <tr>\n",
              "      <th>4</th>\n",
              "      <td>4</td>\n",
              "      <td>Abadan</td>\n",
              "      <td>Iran</td>\n",
              "      <td>48.00E</td>\n",
              "      <td>29.74N</td>\n",
              "    </tr>\n",
              "    <tr>\n",
              "      <th>...</th>\n",
              "      <td>...</td>\n",
              "      <td>...</td>\n",
              "      <td>...</td>\n",
              "      <td>...</td>\n",
              "      <td>...</td>\n",
              "    </tr>\n",
              "    <tr>\n",
              "      <th>3505</th>\n",
              "      <td>3505</td>\n",
              "      <td>Århus</td>\n",
              "      <td>Denmark</td>\n",
              "      <td>10.33E</td>\n",
              "      <td>57.05N</td>\n",
              "    </tr>\n",
              "    <tr>\n",
              "      <th>3506</th>\n",
              "      <td>3506</td>\n",
              "      <td>Çorlu</td>\n",
              "      <td>Turkey</td>\n",
              "      <td>27.69E</td>\n",
              "      <td>40.99N</td>\n",
              "    </tr>\n",
              "    <tr>\n",
              "      <th>3507</th>\n",
              "      <td>3507</td>\n",
              "      <td>Çorum</td>\n",
              "      <td>Turkey</td>\n",
              "      <td>34.08E</td>\n",
              "      <td>40.99N</td>\n",
              "    </tr>\n",
              "    <tr>\n",
              "      <th>3508</th>\n",
              "      <td>3508</td>\n",
              "      <td>Öskemen</td>\n",
              "      <td>Kazakhstan</td>\n",
              "      <td>82.39E</td>\n",
              "      <td>50.63N</td>\n",
              "    </tr>\n",
              "    <tr>\n",
              "      <th>3509</th>\n",
              "      <td>3509</td>\n",
              "      <td>Ürümqi</td>\n",
              "      <td>China</td>\n",
              "      <td>87.20E</td>\n",
              "      <td>44.20N</td>\n",
              "    </tr>\n",
              "  </tbody>\n",
              "</table>\n",
              "<p>3510 rows × 5 columns</p>\n",
              "</div>"
            ],
            "text/plain": [
              "        Id      City     Country Longitude Latitude\n",
              "0        0  A Coruña       Spain     8.73W   42.59N\n",
              "1        1    Aachen     Germany     6.34E   50.63N\n",
              "2        2   Aalborg     Denmark    10.33E   57.05N\n",
              "3        3       Aba     Nigeria     8.07E    5.63N\n",
              "4        4    Abadan        Iran    48.00E   29.74N\n",
              "...    ...       ...         ...       ...      ...\n",
              "3505  3505     Århus     Denmark    10.33E   57.05N\n",
              "3506  3506     Çorlu      Turkey    27.69E   40.99N\n",
              "3507  3507     Çorum      Turkey    34.08E   40.99N\n",
              "3508  3508   Öskemen  Kazakhstan    82.39E   50.63N\n",
              "3509  3509    Ürümqi       China    87.20E   44.20N\n",
              "\n",
              "[3510 rows x 5 columns]"
            ]
          },
          "metadata": {},
          "execution_count": 70
        }
      ],
      "metadata": {
        "execution": {
          "iopub.execute_input": "2021-06-21T19:17:18.615810Z",
          "iopub.status.busy": "2021-06-21T19:17:18.614872Z",
          "iopub.status.idle": "2021-06-21T19:17:18.705837Z",
          "shell.execute_reply": "2021-06-21T19:17:18.705051Z"
        },
        "id": "46e50596",
        "colab": {
          "base_uri": "https://localhost:8080/",
          "height": 417
        },
        "outputId": "a94eb645-2fe8-4f2e-fef7-d97ad7a9944b"
      }
    },
    {
      "cell_type": "markdown",
      "source": [
        "This table has most of the cities in our dataset.\n",
        "But there are also a lot of other cities in this table outside of North America. "
      ],
      "metadata": {
        "id": "a0d81d41"
      }
    },
    {
      "cell_type": "code",
      "execution_count": 71,
      "source": [
        "filter = all_cities_df[\"Country\"] == \"Germany\" \r\n",
        "europe_df = all_cities_df.loc[filter]\r\n",
        "europe_df"
      ],
      "outputs": [
        {
          "output_type": "execute_result",
          "data": {
            "text/html": [
              "<div>\n",
              "<style scoped>\n",
              "    .dataframe tbody tr th:only-of-type {\n",
              "        vertical-align: middle;\n",
              "    }\n",
              "\n",
              "    .dataframe tbody tr th {\n",
              "        vertical-align: top;\n",
              "    }\n",
              "\n",
              "    .dataframe thead th {\n",
              "        text-align: right;\n",
              "    }\n",
              "</style>\n",
              "<table border=\"1\" class=\"dataframe\">\n",
              "  <thead>\n",
              "    <tr style=\"text-align: right;\">\n",
              "      <th></th>\n",
              "      <th>Id</th>\n",
              "      <th>City</th>\n",
              "      <th>Country</th>\n",
              "      <th>Longitude</th>\n",
              "      <th>Latitude</th>\n",
              "    </tr>\n",
              "  </thead>\n",
              "  <tbody>\n",
              "    <tr>\n",
              "      <th>1</th>\n",
              "      <td>1</td>\n",
              "      <td>Aachen</td>\n",
              "      <td>Germany</td>\n",
              "      <td>6.34E</td>\n",
              "      <td>50.63N</td>\n",
              "    </tr>\n",
              "    <tr>\n",
              "      <th>187</th>\n",
              "      <td>187</td>\n",
              "      <td>Augsburg</td>\n",
              "      <td>Germany</td>\n",
              "      <td>10.66E</td>\n",
              "      <td>47.42N</td>\n",
              "    </tr>\n",
              "    <tr>\n",
              "      <th>338</th>\n",
              "      <td>338</td>\n",
              "      <td>Bergisch Gladbach</td>\n",
              "      <td>Germany</td>\n",
              "      <td>6.34E</td>\n",
              "      <td>50.63N</td>\n",
              "    </tr>\n",
              "    <tr>\n",
              "      <th>340</th>\n",
              "      <td>340</td>\n",
              "      <td>Berlin</td>\n",
              "      <td>Germany</td>\n",
              "      <td>13.14E</td>\n",
              "      <td>52.24N</td>\n",
              "    </tr>\n",
              "    <tr>\n",
              "      <th>370</th>\n",
              "      <td>370</td>\n",
              "      <td>Bielefeld</td>\n",
              "      <td>Germany</td>\n",
              "      <td>7.88E</td>\n",
              "      <td>52.24N</td>\n",
              "    </tr>\n",
              "    <tr>\n",
              "      <th>...</th>\n",
              "      <td>...</td>\n",
              "      <td>...</td>\n",
              "      <td>...</td>\n",
              "      <td>...</td>\n",
              "      <td>...</td>\n",
              "    </tr>\n",
              "    <tr>\n",
              "      <th>3343</th>\n",
              "      <td>3343</td>\n",
              "      <td>Wiesbaden</td>\n",
              "      <td>Germany</td>\n",
              "      <td>8.87E</td>\n",
              "      <td>50.63N</td>\n",
              "    </tr>\n",
              "    <tr>\n",
              "      <th>3349</th>\n",
              "      <td>3349</td>\n",
              "      <td>Witten</td>\n",
              "      <td>Germany</td>\n",
              "      <td>7.88E</td>\n",
              "      <td>52.24N</td>\n",
              "    </tr>\n",
              "    <tr>\n",
              "      <th>3351</th>\n",
              "      <td>3351</td>\n",
              "      <td>Wolfsburg</td>\n",
              "      <td>Germany</td>\n",
              "      <td>10.51E</td>\n",
              "      <td>52.24N</td>\n",
              "    </tr>\n",
              "    <tr>\n",
              "      <th>3364</th>\n",
              "      <td>3364</td>\n",
              "      <td>Wuppertal</td>\n",
              "      <td>Germany</td>\n",
              "      <td>6.34E</td>\n",
              "      <td>50.63N</td>\n",
              "    </tr>\n",
              "    <tr>\n",
              "      <th>3369</th>\n",
              "      <td>3369</td>\n",
              "      <td>Würzburg</td>\n",
              "      <td>Germany</td>\n",
              "      <td>9.80E</td>\n",
              "      <td>49.03N</td>\n",
              "    </tr>\n",
              "  </tbody>\n",
              "</table>\n",
              "<p>81 rows × 5 columns</p>\n",
              "</div>"
            ],
            "text/plain": [
              "        Id               City  Country Longitude Latitude\n",
              "1        1             Aachen  Germany     6.34E   50.63N\n",
              "187    187           Augsburg  Germany    10.66E   47.42N\n",
              "338    338  Bergisch Gladbach  Germany     6.34E   50.63N\n",
              "340    340             Berlin  Germany    13.14E   52.24N\n",
              "370    370          Bielefeld  Germany     7.88E   52.24N\n",
              "...    ...                ...      ...       ...      ...\n",
              "3343  3343          Wiesbaden  Germany     8.87E   50.63N\n",
              "3349  3349             Witten  Germany     7.88E   52.24N\n",
              "3351  3351          Wolfsburg  Germany    10.51E   52.24N\n",
              "3364  3364          Wuppertal  Germany     6.34E   50.63N\n",
              "3369  3369           Würzburg  Germany     9.80E   49.03N\n",
              "\n",
              "[81 rows x 5 columns]"
            ]
          },
          "metadata": {},
          "execution_count": 71
        }
      ],
      "metadata": {
        "execution": {
          "iopub.execute_input": "2021-06-21T19:17:18.725755Z",
          "iopub.status.busy": "2021-06-21T19:17:18.712057Z",
          "iopub.status.idle": "2021-06-21T19:17:18.729033Z",
          "shell.execute_reply": "2021-06-21T19:17:18.729761Z"
        },
        "id": "b5258c41",
        "colab": {
          "base_uri": "https://localhost:8080/",
          "height": 417
        },
        "outputId": "c8a12a20-e096-45bf-f757-e25d91e7f078"
      }
    },
    {
      "cell_type": "markdown",
      "source": [
        "In order to use this new information let's merge since it in to our table. \n",
        "We just need to tell pandas which are the shared columns\n",
        "between the two tables. "
      ],
      "metadata": {
        "id": "5d1a86ff"
      }
    },
    {
      "cell_type": "code",
      "execution_count": 72,
      "source": [
        "df = df.merge(all_cities_df, on=[\"City\", \"Country\"])\r\n",
        "df"
      ],
      "outputs": [
        {
          "output_type": "execute_result",
          "data": {
            "text/html": [
              "<div>\n",
              "<style scoped>\n",
              "    .dataframe tbody tr th:only-of-type {\n",
              "        vertical-align: middle;\n",
              "    }\n",
              "\n",
              "    .dataframe tbody tr th {\n",
              "        vertical-align: top;\n",
              "    }\n",
              "\n",
              "    .dataframe thead th {\n",
              "        text-align: right;\n",
              "    }\n",
              "</style>\n",
              "<table border=\"1\" class=\"dataframe\">\n",
              "  <thead>\n",
              "    <tr style=\"text-align: right;\">\n",
              "      <th></th>\n",
              "      <th>Rank</th>\n",
              "      <th>City</th>\n",
              "      <th>Country</th>\n",
              "      <th>Population</th>\n",
              "      <th>US_or_Canada</th>\n",
              "      <th>Id</th>\n",
              "      <th>Longitude</th>\n",
              "      <th>Latitude</th>\n",
              "    </tr>\n",
              "  </thead>\n",
              "  <tbody>\n",
              "    <tr>\n",
              "      <th>0</th>\n",
              "      <td>0</td>\n",
              "      <td>Mexico</td>\n",
              "      <td>Mexico</td>\n",
              "      <td>8918653</td>\n",
              "      <td>Not US/Canada</td>\n",
              "      <td>1955</td>\n",
              "      <td>98.96W</td>\n",
              "      <td>20.09N</td>\n",
              "    </tr>\n",
              "    <tr>\n",
              "      <th>1</th>\n",
              "      <td>1</td>\n",
              "      <td>New York</td>\n",
              "      <td>United States</td>\n",
              "      <td>8550405</td>\n",
              "      <td>US/Canada</td>\n",
              "      <td>2126</td>\n",
              "      <td>74.56W</td>\n",
              "      <td>40.99N</td>\n",
              "    </tr>\n",
              "    <tr>\n",
              "      <th>2</th>\n",
              "      <td>2</td>\n",
              "      <td>Los Angeles</td>\n",
              "      <td>United States</td>\n",
              "      <td>3971883</td>\n",
              "      <td>US/Canada</td>\n",
              "      <td>1775</td>\n",
              "      <td>118.70W</td>\n",
              "      <td>34.56N</td>\n",
              "    </tr>\n",
              "    <tr>\n",
              "      <th>3</th>\n",
              "      <td>3</td>\n",
              "      <td>Toronto</td>\n",
              "      <td>Canada</td>\n",
              "      <td>2826498</td>\n",
              "      <td>US/Canada</td>\n",
              "      <td>3140</td>\n",
              "      <td>80.50W</td>\n",
              "      <td>44.20N</td>\n",
              "    </tr>\n",
              "    <tr>\n",
              "      <th>4</th>\n",
              "      <td>4</td>\n",
              "      <td>Chicago</td>\n",
              "      <td>United States</td>\n",
              "      <td>2720546</td>\n",
              "      <td>US/Canada</td>\n",
              "      <td>608</td>\n",
              "      <td>87.27W</td>\n",
              "      <td>42.59N</td>\n",
              "    </tr>\n",
              "    <tr>\n",
              "      <th>...</th>\n",
              "      <td>...</td>\n",
              "      <td>...</td>\n",
              "      <td>...</td>\n",
              "      <td>...</td>\n",
              "      <td>...</td>\n",
              "      <td>...</td>\n",
              "      <td>...</td>\n",
              "      <td>...</td>\n",
              "    </tr>\n",
              "    <tr>\n",
              "      <th>79</th>\n",
              "      <td>87</td>\n",
              "      <td>Tonalá</td>\n",
              "      <td>Mexico</td>\n",
              "      <td>536111</td>\n",
              "      <td>Not US/Canada</td>\n",
              "      <td>3132</td>\n",
              "      <td>104.08W</td>\n",
              "      <td>20.09N</td>\n",
              "    </tr>\n",
              "    <tr>\n",
              "      <th>80</th>\n",
              "      <td>88</td>\n",
              "      <td>Tucson</td>\n",
              "      <td>United States</td>\n",
              "      <td>531641</td>\n",
              "      <td>US/Canada</td>\n",
              "      <td>3171</td>\n",
              "      <td>111.20W</td>\n",
              "      <td>31.35N</td>\n",
              "    </tr>\n",
              "    <tr>\n",
              "      <th>81</th>\n",
              "      <td>89</td>\n",
              "      <td>Cuautitlán Izcalli</td>\n",
              "      <td>Mexico</td>\n",
              "      <td>531041</td>\n",
              "      <td>Not US/Canada</td>\n",
              "      <td>719</td>\n",
              "      <td>98.96W</td>\n",
              "      <td>20.09N</td>\n",
              "    </tr>\n",
              "    <tr>\n",
              "      <th>82</th>\n",
              "      <td>93</td>\n",
              "      <td>Fresno</td>\n",
              "      <td>United States</td>\n",
              "      <td>520052</td>\n",
              "      <td>US/Canada</td>\n",
              "      <td>960</td>\n",
              "      <td>119.34W</td>\n",
              "      <td>36.17N</td>\n",
              "    </tr>\n",
              "    <tr>\n",
              "      <th>83</th>\n",
              "      <td>94</td>\n",
              "      <td>Carrefour</td>\n",
              "      <td>Haiti</td>\n",
              "      <td>501768</td>\n",
              "      <td>Not US/Canada</td>\n",
              "      <td>542</td>\n",
              "      <td>72.68W</td>\n",
              "      <td>18.48N</td>\n",
              "    </tr>\n",
              "  </tbody>\n",
              "</table>\n",
              "<p>84 rows × 8 columns</p>\n",
              "</div>"
            ],
            "text/plain": [
              "    Rank                City        Country  ...    Id Longitude  Latitude\n",
              "0      0              Mexico         Mexico  ...  1955    98.96W    20.09N\n",
              "1      1            New York  United States  ...  2126    74.56W    40.99N\n",
              "2      2         Los Angeles  United States  ...  1775   118.70W    34.56N\n",
              "3      3             Toronto         Canada  ...  3140    80.50W    44.20N\n",
              "4      4             Chicago  United States  ...   608    87.27W    42.59N\n",
              "..   ...                 ...            ...  ...   ...       ...       ...\n",
              "79    87              Tonalá         Mexico  ...  3132   104.08W    20.09N\n",
              "80    88              Tucson  United States  ...  3171   111.20W    31.35N\n",
              "81    89  Cuautitlán Izcalli         Mexico  ...   719    98.96W    20.09N\n",
              "82    93              Fresno  United States  ...   960   119.34W    36.17N\n",
              "83    94           Carrefour          Haiti  ...   542    72.68W    18.48N\n",
              "\n",
              "[84 rows x 8 columns]"
            ]
          },
          "metadata": {},
          "execution_count": 72
        }
      ],
      "metadata": {
        "execution": {
          "iopub.execute_input": "2021-06-21T19:17:18.739835Z",
          "iopub.status.busy": "2021-06-21T19:17:18.738930Z",
          "iopub.status.idle": "2021-06-21T19:17:18.768849Z",
          "shell.execute_reply": "2021-06-21T19:17:18.767929Z"
        },
        "id": "b521f997",
        "colab": {
          "base_uri": "https://localhost:8080/",
          "height": 417
        },
        "outputId": "db934452-bd51-4d36-8576-3aef87abc47a"
      }
    },
    {
      "cell_type": "markdown",
      "source": [
        "# Group Exercise B"
      ],
      "metadata": {
        "id": "cf4cdb04"
      }
    },
    {
      "cell_type": "markdown",
      "source": [
        "## Question 1"
      ],
      "metadata": {
        "id": "ff7b63a0"
      }
    },
    {
      "cell_type": "markdown",
      "source": [
        "The following website has the official abbreviation codes for all countries.\n",
        "https://en.wikipedia.org/wiki/List_of_ISO_3166_country_codes"
      ],
      "metadata": {
        "id": "58f2c3b5"
      }
    },
    {
      "cell_type": "markdown",
      "source": [
        "To get all of the unique entries of a series you can use https://pandas.pydata.org/docs/reference/api/pandas.unique.html"
      ],
      "metadata": {
        "id": "d216535a"
      }
    },
    {
      "cell_type": "markdown",
      "source": [
        "Using a table mapping countries to their codes.  Can you add a new column to the table called \"Abbrev\" that lists the abbreviation code for that city?"
      ],
      "metadata": {
        "id": "82d4dd18"
      }
    },
    {
      "cell_type": "code",
      "execution_count": 73,
      "source": [
        "#📝📝📝📝 FILLME\r\n",
        "def abbreviate(country):\r\n",
        "    if country == \"United States\":\r\n",
        "        return \"US\"\r\n",
        "    if country == \"Canada\":\r\n",
        "        return \"CA\"\r\n",
        "    if country == \"Mexico\":\r\n",
        "        return \"MX\"\r\n",
        "    if country == \"Cuba\":\r\n",
        "        return \"CU\"\r\n",
        "    if country == \"Dominican Republic\":\r\n",
        "        return \"DR\"\r\n",
        "    if country == \"Guatemala\":\r\n",
        "        return \"GT\"\r\n",
        "    if country == \"Haiti\":\r\n",
        "        return \"HT\"\r\n",
        "    if country == \"Honduras\":\r\n",
        "        return \"HN\"\r\n",
        "    if country == \"Jamaica\":\r\n",
        "        return \"JM\"\r\n",
        "    if country == \"Nicaragua\":\r\n",
        "        return \"NI\""
      ],
      "outputs": [],
      "metadata": {
        "execution": {
          "iopub.execute_input": "2021-06-21T19:17:18.774224Z",
          "iopub.status.busy": "2021-06-21T19:17:18.773324Z",
          "iopub.status.idle": "2021-06-21T19:17:18.776518Z",
          "shell.execute_reply": "2021-06-21T19:17:18.775615Z"
        },
        "lines_to_next_cell": 1,
        "id": "cbd38897"
      }
    },
    {
      "cell_type": "markdown",
      "source": [
        "## Question 2"
      ],
      "metadata": {
        "id": "ff61dbc7"
      }
    },
    {
      "cell_type": "markdown",
      "source": [
        "Our table has the Latitude and Longitude of all the major North American Cities. "
      ],
      "metadata": {
        "id": "1b1e9e6c"
      }
    },
    {
      "cell_type": "markdown",
      "source": [
        "Can you find out where New York is located? How about Detroit, Las Vegas, and Portland?"
      ],
      "metadata": {
        "id": "c49b03b0"
      }
    },
    {
      "cell_type": "code",
      "execution_count": 73,
      "source": [],
      "outputs": [],
      "metadata": {
        "id": "GW8BukT2XVdd"
      }
    },
    {
      "cell_type": "markdown",
      "source": [
        "## Question 3"
      ],
      "metadata": {
        "id": "6dadb980"
      }
    },
    {
      "cell_type": "markdown",
      "source": [
        "Currently in the table the latitude and longitude are represented as string types, because they\n",
        "have N / S and E / W in their values."
      ],
      "metadata": {
        "id": "2300919a"
      }
    },
    {
      "cell_type": "markdown",
      "source": [
        "Instead we would for longitude E to be positive and W negative, for example 100W -> -100\n",
        "For latitude we would like N to be positive and S to be negative, for example 100N -> 100  "
      ],
      "metadata": {
        "id": "1914976e"
      }
    },
    {
      "cell_type": "code",
      "execution_count": 74,
      "source": [
        "def latitude_to_number(latitude_string):\r\n",
        "    if \"N\" in latitude_string:\r\n",
        "      latitude_string = latitude_string.replace(\"N\", \"\")\r\n",
        "      return int(latitude_string)\r\n",
        "    if \"S\" in latitude_string :\r\n",
        "      latitude_string = latitude_string.replace(\"S\", \"\")\r\n",
        "      return 0-int(latitude_string)\r\n",
        "def longitude_to_number(longitude_string):\r\n",
        "    if \"E\" in latitude_string:\r\n",
        "      latitude_string = latitude_string.replace(\"E\", \"\")\r\n",
        "      return int(latitude_string)\r\n",
        "    if \"W\" in latitude_string :\r\n",
        "      latitude_string = latitude_string.replace(\"W\", \"\")\r\n",
        "      return 0-int(latitude_string)"
      ],
      "outputs": [],
      "metadata": {
        "execution": {
          "iopub.execute_input": "2021-06-21T19:17:18.782546Z",
          "iopub.status.busy": "2021-06-21T19:17:18.781654Z",
          "iopub.status.idle": "2021-06-21T19:17:18.784839Z",
          "shell.execute_reply": "2021-06-21T19:17:18.783962Z"
        },
        "lines_to_next_cell": 1,
        "id": "cdc6e15f"
      }
    },
    {
      "cell_type": "code",
      "execution_count": 75,
      "source": [
        "lat = latitude_to_number(\"190N\")\r\n",
        "lat"
      ],
      "outputs": [
        {
          "output_type": "execute_result",
          "data": {
            "text/plain": [
              "190"
            ]
          },
          "metadata": {},
          "execution_count": 75
        }
      ],
      "metadata": {
        "execution": {
          "iopub.execute_input": "2021-06-21T19:17:18.790500Z",
          "iopub.status.busy": "2021-06-21T19:17:18.789615Z",
          "iopub.status.idle": "2021-06-21T19:17:18.793197Z",
          "shell.execute_reply": "2021-06-21T19:17:18.792360Z"
        },
        "id": "bc28dbda",
        "colab": {
          "base_uri": "https://localhost:8080/",
          "height": 0
        },
        "outputId": "03aff761-81b8-42c8-c467-f17a8ad1bbe5"
      }
    },
    {
      "cell_type": "markdown",
      "source": [
        "Can you use these functions to fix the Latitude and Longitude columns to instead use numeric values?"
      ],
      "metadata": {
        "id": "560101ae"
      }
    },
    {
      "cell_type": "code",
      "execution_count": 76,
      "source": [
        "#📝📝📝📝 FILLME\r\n",
        "df.groupby(['Latitude', 'Longitude']).sum()"
      ],
      "outputs": [
        {
          "output_type": "execute_result",
          "data": {
            "text/html": [
              "<div>\n",
              "<style scoped>\n",
              "    .dataframe tbody tr th:only-of-type {\n",
              "        vertical-align: middle;\n",
              "    }\n",
              "\n",
              "    .dataframe tbody tr th {\n",
              "        vertical-align: top;\n",
              "    }\n",
              "\n",
              "    .dataframe thead th {\n",
              "        text-align: right;\n",
              "    }\n",
              "</style>\n",
              "<table border=\"1\" class=\"dataframe\">\n",
              "  <thead>\n",
              "    <tr style=\"text-align: right;\">\n",
              "      <th></th>\n",
              "      <th></th>\n",
              "      <th>Rank</th>\n",
              "      <th>Population</th>\n",
              "      <th>Id</th>\n",
              "    </tr>\n",
              "    <tr>\n",
              "      <th>Latitude</th>\n",
              "      <th>Longitude</th>\n",
              "      <th></th>\n",
              "      <th></th>\n",
              "      <th></th>\n",
              "    </tr>\n",
              "  </thead>\n",
              "  <tbody>\n",
              "    <tr>\n",
              "      <th>12.05N</th>\n",
              "      <th>85.48W</th>\n",
              "      <td>23</td>\n",
              "      <td>1048134</td>\n",
              "      <td>1862</td>\n",
              "    </tr>\n",
              "    <tr>\n",
              "      <th>13.66N</th>\n",
              "      <th>86.70W</th>\n",
              "      <td>20</td>\n",
              "      <td>1190230</td>\n",
              "      <td>3062</td>\n",
              "    </tr>\n",
              "    <tr>\n",
              "      <th rowspan=\"2\" valign=\"top\">15.27N</th>\n",
              "      <th>87.50W</th>\n",
              "      <td>49</td>\n",
              "      <td>742118</td>\n",
              "      <td>2710</td>\n",
              "    </tr>\n",
              "    <tr>\n",
              "      <th>90.83W</th>\n",
              "      <td>110</td>\n",
              "      <td>1558764</td>\n",
              "      <td>4350</td>\n",
              "    </tr>\n",
              "    <tr>\n",
              "      <th>16.87N</th>\n",
              "      <th>100.47W</th>\n",
              "      <td>55</td>\n",
              "      <td>710261</td>\n",
              "      <td>19</td>\n",
              "    </tr>\n",
              "    <tr>\n",
              "      <th>...</th>\n",
              "      <th>...</th>\n",
              "      <td>...</td>\n",
              "      <td>...</td>\n",
              "      <td>...</td>\n",
              "    </tr>\n",
              "    <tr>\n",
              "      <th>47.42N</th>\n",
              "      <th>72.24W</th>\n",
              "      <td>86</td>\n",
              "      <td>540994</td>\n",
              "      <td>2513</td>\n",
              "    </tr>\n",
              "    <tr>\n",
              "      <th>49.03N</th>\n",
              "      <th>122.45W</th>\n",
              "      <td>70</td>\n",
              "      <td>648608</td>\n",
              "      <td>3243</td>\n",
              "    </tr>\n",
              "    <tr>\n",
              "      <th rowspan=\"2\" valign=\"top\">50.63N</th>\n",
              "      <th>112.82W</th>\n",
              "      <td>19</td>\n",
              "      <td>1230915</td>\n",
              "      <td>512</td>\n",
              "    </tr>\n",
              "    <tr>\n",
              "      <th>97.61W</th>\n",
              "      <td>52</td>\n",
              "      <td>718400</td>\n",
              "      <td>3346</td>\n",
              "    </tr>\n",
              "    <tr>\n",
              "      <th>53.84N</th>\n",
              "      <th>113.18W</th>\n",
              "      <td>32</td>\n",
              "      <td>899447</td>\n",
              "      <td>869</td>\n",
              "    </tr>\n",
              "  </tbody>\n",
              "</table>\n",
              "<p>66 rows × 3 columns</p>\n",
              "</div>"
            ],
            "text/plain": [
              "                    Rank  Population    Id\n",
              "Latitude Longitude                        \n",
              "12.05N   85.48W       23     1048134  1862\n",
              "13.66N   86.70W       20     1190230  3062\n",
              "15.27N   87.50W       49      742118  2710\n",
              "         90.83W      110     1558764  4350\n",
              "16.87N   100.47W      55      710261    19\n",
              "...                  ...         ...   ...\n",
              "47.42N   72.24W       86      540994  2513\n",
              "49.03N   122.45W      70      648608  3243\n",
              "50.63N   112.82W      19     1230915   512\n",
              "         97.61W       52      718400  3346\n",
              "53.84N   113.18W      32      899447   869\n",
              "\n",
              "[66 rows x 3 columns]"
            ]
          },
          "metadata": {},
          "execution_count": 76
        }
      ],
      "metadata": {
        "execution": {
          "iopub.execute_input": "2021-06-21T19:17:18.798738Z",
          "iopub.status.busy": "2021-06-21T19:17:18.797842Z",
          "iopub.status.idle": "2021-06-21T19:17:18.800210Z",
          "shell.execute_reply": "2021-06-21T19:17:18.800931Z"
        },
        "id": "3373da7f",
        "colab": {
          "base_uri": "https://localhost:8080/",
          "height": 447
        },
        "outputId": "34024287-dacf-40f3-f740-ce5ac077f5de"
      }
    },
    {
      "cell_type": "markdown",
      "source": [
        "## Question 4"
      ],
      "metadata": {
        "id": "f8ec8ec9"
      }
    },
    {
      "cell_type": "markdown",
      "source": [
        "After completing question 3 use group by and compute the Latitude of \n",
        "most southern city in each country of the table."
      ],
      "metadata": {
        "id": "e50b1630"
      }
    },
    {
      "cell_type": "code",
      "execution_count": 77,
      "source": [
        "#📝📝📝📝 FILLME\r\n",
        "df.groupby(['Latitude']).min()"
      ],
      "outputs": [
        {
          "output_type": "execute_result",
          "data": {
            "text/html": [
              "<div>\n",
              "<style scoped>\n",
              "    .dataframe tbody tr th:only-of-type {\n",
              "        vertical-align: middle;\n",
              "    }\n",
              "\n",
              "    .dataframe tbody tr th {\n",
              "        vertical-align: top;\n",
              "    }\n",
              "\n",
              "    .dataframe thead th {\n",
              "        text-align: right;\n",
              "    }\n",
              "</style>\n",
              "<table border=\"1\" class=\"dataframe\">\n",
              "  <thead>\n",
              "    <tr style=\"text-align: right;\">\n",
              "      <th></th>\n",
              "      <th>Rank</th>\n",
              "      <th>City</th>\n",
              "      <th>Country</th>\n",
              "      <th>Population</th>\n",
              "      <th>US_or_Canada</th>\n",
              "      <th>Id</th>\n",
              "      <th>Longitude</th>\n",
              "    </tr>\n",
              "    <tr>\n",
              "      <th>Latitude</th>\n",
              "      <th></th>\n",
              "      <th></th>\n",
              "      <th></th>\n",
              "      <th></th>\n",
              "      <th></th>\n",
              "      <th></th>\n",
              "      <th></th>\n",
              "    </tr>\n",
              "  </thead>\n",
              "  <tbody>\n",
              "    <tr>\n",
              "      <th>12.05N</th>\n",
              "      <td>23</td>\n",
              "      <td>Managua</td>\n",
              "      <td>Nicaragua</td>\n",
              "      <td>1048134</td>\n",
              "      <td>Not US/Canada</td>\n",
              "      <td>1862</td>\n",
              "      <td>85.48W</td>\n",
              "    </tr>\n",
              "    <tr>\n",
              "      <th>13.66N</th>\n",
              "      <td>20</td>\n",
              "      <td>Tegucigalpa</td>\n",
              "      <td>Honduras</td>\n",
              "      <td>1190230</td>\n",
              "      <td>Not US/Canada</td>\n",
              "      <td>3062</td>\n",
              "      <td>86.70W</td>\n",
              "    </tr>\n",
              "    <tr>\n",
              "      <th>15.27N</th>\n",
              "      <td>27</td>\n",
              "      <td>Guatemala</td>\n",
              "      <td>Guatemala</td>\n",
              "      <td>564686</td>\n",
              "      <td>Not US/Canada</td>\n",
              "      <td>1079</td>\n",
              "      <td>87.50W</td>\n",
              "    </tr>\n",
              "    <tr>\n",
              "      <th>16.87N</th>\n",
              "      <td>55</td>\n",
              "      <td>Acapulco</td>\n",
              "      <td>Mexico</td>\n",
              "      <td>598710</td>\n",
              "      <td>Not US/Canada</td>\n",
              "      <td>19</td>\n",
              "      <td>100.47W</td>\n",
              "    </tr>\n",
              "    <tr>\n",
              "      <th>18.48N</th>\n",
              "      <td>13</td>\n",
              "      <td>Carrefour</td>\n",
              "      <td>Dominican Republic</td>\n",
              "      <td>501768</td>\n",
              "      <td>Not US/Canada</td>\n",
              "      <td>542</td>\n",
              "      <td>69.30W</td>\n",
              "    </tr>\n",
              "    <tr>\n",
              "      <th>20.09N</th>\n",
              "      <td>0</td>\n",
              "      <td>Chimalhuacán</td>\n",
              "      <td>Mexico</td>\n",
              "      <td>531041</td>\n",
              "      <td>Not US/Canada</td>\n",
              "      <td>616</td>\n",
              "      <td>100.66W</td>\n",
              "    </tr>\n",
              "    <tr>\n",
              "      <th>21.70N</th>\n",
              "      <td>16</td>\n",
              "      <td>Aguascalientes</td>\n",
              "      <td>Mexico</td>\n",
              "      <td>711682</td>\n",
              "      <td>Not US/Canada</td>\n",
              "      <td>39</td>\n",
              "      <td>101.25W</td>\n",
              "    </tr>\n",
              "    <tr>\n",
              "      <th>24.92N</th>\n",
              "      <td>44</td>\n",
              "      <td>Culiacán</td>\n",
              "      <td>Mexico</td>\n",
              "      <td>590893</td>\n",
              "      <td>Not US/Canada</td>\n",
              "      <td>726</td>\n",
              "      <td>101.08W</td>\n",
              "    </tr>\n",
              "    <tr>\n",
              "      <th>26.52N</th>\n",
              "      <td>22</td>\n",
              "      <td>Apodaca</td>\n",
              "      <td>Mexico</td>\n",
              "      <td>597207</td>\n",
              "      <td>Not US/Canada</td>\n",
              "      <td>137</td>\n",
              "      <td>100.30W</td>\n",
              "    </tr>\n",
              "    <tr>\n",
              "      <th>28.13N</th>\n",
              "      <td>37</td>\n",
              "      <td>Chihuahua</td>\n",
              "      <td>Mexico</td>\n",
              "      <td>867736</td>\n",
              "      <td>Not US/Canada</td>\n",
              "      <td>612</td>\n",
              "      <td>106.36W</td>\n",
              "    </tr>\n",
              "    <tr>\n",
              "      <th>29.74N</th>\n",
              "      <td>5</td>\n",
              "      <td>Austin</td>\n",
              "      <td>Mexico</td>\n",
              "      <td>819999</td>\n",
              "      <td>Not US/Canada</td>\n",
              "      <td>191</td>\n",
              "      <td>110.77W</td>\n",
              "    </tr>\n",
              "    <tr>\n",
              "      <th>31.35N</th>\n",
              "      <td>60</td>\n",
              "      <td>El Paso</td>\n",
              "      <td>United States</td>\n",
              "      <td>531641</td>\n",
              "      <td>US/Canada</td>\n",
              "      <td>879</td>\n",
              "      <td>105.55W</td>\n",
              "    </tr>\n",
              "    <tr>\n",
              "      <th>32.95N</th>\n",
              "      <td>10</td>\n",
              "      <td>Columbus</td>\n",
              "      <td>Mexico</td>\n",
              "      <td>717628</td>\n",
              "      <td>Not US/Canada</td>\n",
              "      <td>688</td>\n",
              "      <td>112.02W</td>\n",
              "    </tr>\n",
              "    <tr>\n",
              "      <th>34.56N</th>\n",
              "      <td>2</td>\n",
              "      <td>Albuquerque</td>\n",
              "      <td>United States</td>\n",
              "      <td>559121</td>\n",
              "      <td>US/Canada</td>\n",
              "      <td>64</td>\n",
              "      <td>107.03W</td>\n",
              "    </tr>\n",
              "    <tr>\n",
              "      <th>36.17N</th>\n",
              "      <td>68</td>\n",
              "      <td>Fresno</td>\n",
              "      <td>United States</td>\n",
              "      <td>520052</td>\n",
              "      <td>US/Canada</td>\n",
              "      <td>960</td>\n",
              "      <td>115.36W</td>\n",
              "    </tr>\n",
              "    <tr>\n",
              "      <th>37.78N</th>\n",
              "      <td>25</td>\n",
              "      <td>Louisville</td>\n",
              "      <td>United States</td>\n",
              "      <td>615366</td>\n",
              "      <td>US/Canada</td>\n",
              "      <td>1781</td>\n",
              "      <td>122.03W</td>\n",
              "    </tr>\n",
              "    <tr>\n",
              "      <th>39.38N</th>\n",
              "      <td>9</td>\n",
              "      <td>Baltimore</td>\n",
              "      <td>United States</td>\n",
              "      <td>621849</td>\n",
              "      <td>US/Canada</td>\n",
              "      <td>236</td>\n",
              "      <td>104.05W</td>\n",
              "    </tr>\n",
              "    <tr>\n",
              "      <th>40.99N</th>\n",
              "      <td>1</td>\n",
              "      <td>New York</td>\n",
              "      <td>United States</td>\n",
              "      <td>8550405</td>\n",
              "      <td>US/Canada</td>\n",
              "      <td>2126</td>\n",
              "      <td>74.56W</td>\n",
              "    </tr>\n",
              "    <tr>\n",
              "      <th>42.59N</th>\n",
              "      <td>4</td>\n",
              "      <td>Boston</td>\n",
              "      <td>Canada</td>\n",
              "      <td>556359</td>\n",
              "      <td>US/Canada</td>\n",
              "      <td>419</td>\n",
              "      <td>72.00W</td>\n",
              "    </tr>\n",
              "    <tr>\n",
              "      <th>44.20N</th>\n",
              "      <td>3</td>\n",
              "      <td>Toronto</td>\n",
              "      <td>Canada</td>\n",
              "      <td>2826498</td>\n",
              "      <td>US/Canada</td>\n",
              "      <td>3140</td>\n",
              "      <td>80.50W</td>\n",
              "    </tr>\n",
              "    <tr>\n",
              "      <th>45.81N</th>\n",
              "      <td>7</td>\n",
              "      <td>Montreal</td>\n",
              "      <td>Canada</td>\n",
              "      <td>632309</td>\n",
              "      <td>US/Canada</td>\n",
              "      <td>2005</td>\n",
              "      <td>123.46W</td>\n",
              "    </tr>\n",
              "    <tr>\n",
              "      <th>47.42N</th>\n",
              "      <td>57</td>\n",
              "      <td>Quebec</td>\n",
              "      <td>Canada</td>\n",
              "      <td>540994</td>\n",
              "      <td>US/Canada</td>\n",
              "      <td>2513</td>\n",
              "      <td>121.97W</td>\n",
              "    </tr>\n",
              "    <tr>\n",
              "      <th>49.03N</th>\n",
              "      <td>70</td>\n",
              "      <td>Vancouver</td>\n",
              "      <td>Canada</td>\n",
              "      <td>648608</td>\n",
              "      <td>US/Canada</td>\n",
              "      <td>3243</td>\n",
              "      <td>122.45W</td>\n",
              "    </tr>\n",
              "    <tr>\n",
              "      <th>50.63N</th>\n",
              "      <td>19</td>\n",
              "      <td>Calgary</td>\n",
              "      <td>Canada</td>\n",
              "      <td>718400</td>\n",
              "      <td>US/Canada</td>\n",
              "      <td>512</td>\n",
              "      <td>112.82W</td>\n",
              "    </tr>\n",
              "    <tr>\n",
              "      <th>53.84N</th>\n",
              "      <td>32</td>\n",
              "      <td>Edmonton</td>\n",
              "      <td>Canada</td>\n",
              "      <td>899447</td>\n",
              "      <td>US/Canada</td>\n",
              "      <td>869</td>\n",
              "      <td>113.18W</td>\n",
              "    </tr>\n",
              "  </tbody>\n",
              "</table>\n",
              "</div>"
            ],
            "text/plain": [
              "          Rank            City  ...    Id  Longitude\n",
              "Latitude                        ...                 \n",
              "12.05N      23         Managua  ...  1862     85.48W\n",
              "13.66N      20     Tegucigalpa  ...  3062     86.70W\n",
              "15.27N      27       Guatemala  ...  1079     87.50W\n",
              "16.87N      55        Acapulco  ...    19    100.47W\n",
              "18.48N      13       Carrefour  ...   542     69.30W\n",
              "20.09N       0    Chimalhuacán  ...   616    100.66W\n",
              "21.70N      16  Aguascalientes  ...    39    101.25W\n",
              "24.92N      44        Culiacán  ...   726    101.08W\n",
              "26.52N      22         Apodaca  ...   137    100.30W\n",
              "28.13N      37       Chihuahua  ...   612    106.36W\n",
              "29.74N       5          Austin  ...   191    110.77W\n",
              "31.35N      60         El Paso  ...   879    105.55W\n",
              "32.95N      10        Columbus  ...   688    112.02W\n",
              "34.56N       2     Albuquerque  ...    64    107.03W\n",
              "36.17N      68          Fresno  ...   960    115.36W\n",
              "37.78N      25      Louisville  ...  1781    122.03W\n",
              "39.38N       9       Baltimore  ...   236    104.05W\n",
              "40.99N       1        New York  ...  2126     74.56W\n",
              "42.59N       4          Boston  ...   419     72.00W\n",
              "44.20N       3         Toronto  ...  3140     80.50W\n",
              "45.81N       7        Montreal  ...  2005    123.46W\n",
              "47.42N      57          Quebec  ...  2513    121.97W\n",
              "49.03N      70       Vancouver  ...  3243    122.45W\n",
              "50.63N      19         Calgary  ...   512    112.82W\n",
              "53.84N      32        Edmonton  ...   869    113.18W\n",
              "\n",
              "[25 rows x 7 columns]"
            ]
          },
          "metadata": {},
          "execution_count": 77
        }
      ],
      "metadata": {
        "execution": {
          "iopub.execute_input": "2021-06-21T19:17:18.806507Z",
          "iopub.status.busy": "2021-06-21T19:17:18.805661Z",
          "iopub.status.idle": "2021-06-21T19:17:18.809215Z",
          "shell.execute_reply": "2021-06-21T19:17:18.808513Z"
        },
        "id": "23824536",
        "colab": {
          "base_uri": "https://localhost:8080/",
          "height": 850
        },
        "outputId": "5b06d420-748f-4a7d-b7df-5c867ab0ee29"
      }
    },
    {
      "cell_type": "markdown",
      "source": [
        "# Visualization"
      ],
      "metadata": {
        "id": "af867bbb"
      }
    },
    {
      "cell_type": "markdown",
      "source": [
        "Next class we will dive deeper into plotting and visualization. But\n",
        "let's finish with a little demo to show off all the tables we created."
      ],
      "metadata": {
        "id": "a07a27fb"
      }
    },
    {
      "cell_type": "markdown",
      "source": [
        "First we import some libraries"
      ],
      "metadata": {
        "id": "9e78eb2c"
      }
    },
    {
      "cell_type": "code",
      "execution_count": 78,
      "source": [
        "import altair as alt\r\n",
        "from vega_datasets import data"
      ],
      "outputs": [],
      "metadata": {
        "execution": {
          "iopub.execute_input": "2021-06-21T19:17:18.815149Z",
          "iopub.status.busy": "2021-06-21T19:17:18.814236Z",
          "iopub.status.idle": "2021-06-21T19:17:18.928598Z",
          "shell.execute_reply": "2021-06-21T19:17:18.929311Z"
        },
        "id": "c4dab054"
      }
    },
    {
      "cell_type": "code",
      "execution_count": 79,
      "source": [
        "states = alt.topo_feature(data.us_10m.url, feature='states')\r\n",
        "background = alt.Chart(states).mark_geoshape().project('albersUsa')"
      ],
      "outputs": [],
      "metadata": {
        "execution": {
          "iopub.execute_input": "2021-06-21T19:17:18.934855Z",
          "iopub.status.busy": "2021-06-21T19:17:18.933983Z",
          "iopub.status.idle": "2021-06-21T19:17:18.935783Z",
          "shell.execute_reply": "2021-06-21T19:17:18.936471Z"
        },
        "id": "65a94fce"
      }
    },
    {
      "cell_type": "markdown",
      "source": [
        "Now we can plot"
      ],
      "metadata": {
        "id": "2a8ae5ec"
      }
    },
    {
      "cell_type": "code",
      "execution_count": 80,
      "source": [
        "states = alt.topo_feature(data.world_110m.url, feature='countries')\r\n",
        "chart = alt.Chart(states).mark_geoshape(\r\n",
        "        fill='lightgray',\r\n",
        "        stroke='white'\r\n",
        "    ).properties(\r\n",
        "        width=500,\r\n",
        "        height=300\r\n",
        "    ).project('orthographic', rotate= [95, -42, 0])\r\n",
        "if True:\r\n",
        "    points = alt.Chart(df).mark_circle().encode(\r\n",
        "        longitude='Longitude',\r\n",
        "        latitude='Latitude',\r\n",
        "        size=\"Population\",\r\n",
        "        tooltip=['City','Population']\r\n",
        "    )\r\n",
        "    chart += points\r\n",
        "chart"
      ],
      "outputs": [
        {
          "output_type": "error",
          "ename": "SchemaValidationError",
          "evalue": "ignored",
          "traceback": [
            "\u001b[0;31m---------------------------------------------------------------------------\u001b[0m",
            "\u001b[0;31mSchemaValidationError\u001b[0m                     Traceback (most recent call last)",
            "\u001b[0;32m/usr/local/lib/python3.7/dist-packages/altair/vegalite/v4/api.py\u001b[0m in \u001b[0;36mto_dict\u001b[0;34m(self, *args, **kwargs)\u001b[0m\n\u001b[1;32m    380\u001b[0m         \u001b[0;32mif\u001b[0m \u001b[0mdct\u001b[0m \u001b[0;32mis\u001b[0m \u001b[0;32mNone\u001b[0m\u001b[0;34m:\u001b[0m\u001b[0;34m\u001b[0m\u001b[0;34m\u001b[0m\u001b[0m\n\u001b[1;32m    381\u001b[0m             \u001b[0mkwargs\u001b[0m\u001b[0;34m[\u001b[0m\u001b[0;34m\"validate\"\u001b[0m\u001b[0;34m]\u001b[0m \u001b[0;34m=\u001b[0m \u001b[0;34m\"deep\"\u001b[0m\u001b[0;34m\u001b[0m\u001b[0;34m\u001b[0m\u001b[0m\n\u001b[0;32m--> 382\u001b[0;31m             \u001b[0mdct\u001b[0m \u001b[0;34m=\u001b[0m \u001b[0msuper\u001b[0m\u001b[0;34m(\u001b[0m\u001b[0mTopLevelMixin\u001b[0m\u001b[0;34m,\u001b[0m \u001b[0mcopy\u001b[0m\u001b[0;34m)\u001b[0m\u001b[0;34m.\u001b[0m\u001b[0mto_dict\u001b[0m\u001b[0;34m(\u001b[0m\u001b[0;34m*\u001b[0m\u001b[0margs\u001b[0m\u001b[0;34m,\u001b[0m \u001b[0;34m**\u001b[0m\u001b[0mkwargs\u001b[0m\u001b[0;34m)\u001b[0m\u001b[0;34m\u001b[0m\u001b[0;34m\u001b[0m\u001b[0m\n\u001b[0m\u001b[1;32m    383\u001b[0m \u001b[0;34m\u001b[0m\u001b[0m\n\u001b[1;32m    384\u001b[0m         \u001b[0;31m# TODO: following entries are added after validation. Should they be validated?\u001b[0m\u001b[0;34m\u001b[0m\u001b[0;34m\u001b[0m\u001b[0;34m\u001b[0m\u001b[0m\n",
            "\u001b[0;32m/usr/local/lib/python3.7/dist-packages/altair/utils/schemapi.py\u001b[0m in \u001b[0;36mto_dict\u001b[0;34m(self, validate, ignore, context)\u001b[0m\n\u001b[1;32m    326\u001b[0m                 \u001b[0;34m{\u001b[0m\u001b[0mk\u001b[0m\u001b[0;34m:\u001b[0m \u001b[0mv\u001b[0m \u001b[0;32mfor\u001b[0m \u001b[0mk\u001b[0m\u001b[0;34m,\u001b[0m \u001b[0mv\u001b[0m \u001b[0;32min\u001b[0m \u001b[0mself\u001b[0m\u001b[0;34m.\u001b[0m\u001b[0m_kwds\u001b[0m\u001b[0;34m.\u001b[0m\u001b[0mitems\u001b[0m\u001b[0;34m(\u001b[0m\u001b[0;34m)\u001b[0m \u001b[0;32mif\u001b[0m \u001b[0mk\u001b[0m \u001b[0;32mnot\u001b[0m \u001b[0;32min\u001b[0m \u001b[0mignore\u001b[0m\u001b[0;34m}\u001b[0m\u001b[0;34m,\u001b[0m\u001b[0;34m\u001b[0m\u001b[0;34m\u001b[0m\u001b[0m\n\u001b[1;32m    327\u001b[0m                 \u001b[0mvalidate\u001b[0m\u001b[0;34m=\u001b[0m\u001b[0msub_validate\u001b[0m\u001b[0;34m,\u001b[0m\u001b[0;34m\u001b[0m\u001b[0;34m\u001b[0m\u001b[0m\n\u001b[0;32m--> 328\u001b[0;31m                 \u001b[0mcontext\u001b[0m\u001b[0;34m=\u001b[0m\u001b[0mcontext\u001b[0m\u001b[0;34m,\u001b[0m\u001b[0;34m\u001b[0m\u001b[0;34m\u001b[0m\u001b[0m\n\u001b[0m\u001b[1;32m    329\u001b[0m             )\n\u001b[1;32m    330\u001b[0m         \u001b[0;32melse\u001b[0m\u001b[0;34m:\u001b[0m\u001b[0;34m\u001b[0m\u001b[0;34m\u001b[0m\u001b[0m\n",
            "\u001b[0;32m/usr/local/lib/python3.7/dist-packages/altair/utils/schemapi.py\u001b[0m in \u001b[0;36m_todict\u001b[0;34m(obj, validate, context)\u001b[0m\n\u001b[1;32m     60\u001b[0m         return {\n\u001b[1;32m     61\u001b[0m             \u001b[0mk\u001b[0m\u001b[0;34m:\u001b[0m \u001b[0m_todict\u001b[0m\u001b[0;34m(\u001b[0m\u001b[0mv\u001b[0m\u001b[0;34m,\u001b[0m \u001b[0mvalidate\u001b[0m\u001b[0;34m,\u001b[0m \u001b[0mcontext\u001b[0m\u001b[0;34m)\u001b[0m\u001b[0;34m\u001b[0m\u001b[0;34m\u001b[0m\u001b[0m\n\u001b[0;32m---> 62\u001b[0;31m             \u001b[0;32mfor\u001b[0m \u001b[0mk\u001b[0m\u001b[0;34m,\u001b[0m \u001b[0mv\u001b[0m \u001b[0;32min\u001b[0m \u001b[0mobj\u001b[0m\u001b[0;34m.\u001b[0m\u001b[0mitems\u001b[0m\u001b[0;34m(\u001b[0m\u001b[0;34m)\u001b[0m\u001b[0;34m\u001b[0m\u001b[0;34m\u001b[0m\u001b[0m\n\u001b[0m\u001b[1;32m     63\u001b[0m             \u001b[0;32mif\u001b[0m \u001b[0mv\u001b[0m \u001b[0;32mis\u001b[0m \u001b[0;32mnot\u001b[0m \u001b[0mUndefined\u001b[0m\u001b[0;34m\u001b[0m\u001b[0;34m\u001b[0m\u001b[0m\n\u001b[1;32m     64\u001b[0m         }\n",
            "\u001b[0;32m/usr/local/lib/python3.7/dist-packages/altair/utils/schemapi.py\u001b[0m in \u001b[0;36m<dictcomp>\u001b[0;34m(.0)\u001b[0m\n\u001b[1;32m     61\u001b[0m             \u001b[0mk\u001b[0m\u001b[0;34m:\u001b[0m \u001b[0m_todict\u001b[0m\u001b[0;34m(\u001b[0m\u001b[0mv\u001b[0m\u001b[0;34m,\u001b[0m \u001b[0mvalidate\u001b[0m\u001b[0;34m,\u001b[0m \u001b[0mcontext\u001b[0m\u001b[0;34m)\u001b[0m\u001b[0;34m\u001b[0m\u001b[0;34m\u001b[0m\u001b[0m\n\u001b[1;32m     62\u001b[0m             \u001b[0;32mfor\u001b[0m \u001b[0mk\u001b[0m\u001b[0;34m,\u001b[0m \u001b[0mv\u001b[0m \u001b[0;32min\u001b[0m \u001b[0mobj\u001b[0m\u001b[0;34m.\u001b[0m\u001b[0mitems\u001b[0m\u001b[0;34m(\u001b[0m\u001b[0;34m)\u001b[0m\u001b[0;34m\u001b[0m\u001b[0;34m\u001b[0m\u001b[0m\n\u001b[0;32m---> 63\u001b[0;31m             \u001b[0;32mif\u001b[0m \u001b[0mv\u001b[0m \u001b[0;32mis\u001b[0m \u001b[0;32mnot\u001b[0m \u001b[0mUndefined\u001b[0m\u001b[0;34m\u001b[0m\u001b[0;34m\u001b[0m\u001b[0m\n\u001b[0m\u001b[1;32m     64\u001b[0m         }\n\u001b[1;32m     65\u001b[0m     \u001b[0;32melif\u001b[0m \u001b[0mhasattr\u001b[0m\u001b[0;34m(\u001b[0m\u001b[0mobj\u001b[0m\u001b[0;34m,\u001b[0m \u001b[0;34m\"to_dict\"\u001b[0m\u001b[0;34m)\u001b[0m\u001b[0;34m:\u001b[0m\u001b[0;34m\u001b[0m\u001b[0;34m\u001b[0m\u001b[0m\n",
            "\u001b[0;32m/usr/local/lib/python3.7/dist-packages/altair/utils/schemapi.py\u001b[0m in \u001b[0;36m_todict\u001b[0;34m(obj, validate, context)\u001b[0m\n\u001b[1;32m     56\u001b[0m         \u001b[0;32mreturn\u001b[0m \u001b[0mobj\u001b[0m\u001b[0;34m.\u001b[0m\u001b[0mto_dict\u001b[0m\u001b[0;34m(\u001b[0m\u001b[0mvalidate\u001b[0m\u001b[0;34m=\u001b[0m\u001b[0mvalidate\u001b[0m\u001b[0;34m,\u001b[0m \u001b[0mcontext\u001b[0m\u001b[0;34m=\u001b[0m\u001b[0mcontext\u001b[0m\u001b[0;34m)\u001b[0m\u001b[0;34m\u001b[0m\u001b[0;34m\u001b[0m\u001b[0m\n\u001b[1;32m     57\u001b[0m     \u001b[0;32melif\u001b[0m \u001b[0misinstance\u001b[0m\u001b[0;34m(\u001b[0m\u001b[0mobj\u001b[0m\u001b[0;34m,\u001b[0m \u001b[0;34m(\u001b[0m\u001b[0mlist\u001b[0m\u001b[0;34m,\u001b[0m \u001b[0mtuple\u001b[0m\u001b[0;34m,\u001b[0m \u001b[0mnp\u001b[0m\u001b[0;34m.\u001b[0m\u001b[0mndarray\u001b[0m\u001b[0;34m)\u001b[0m\u001b[0;34m)\u001b[0m\u001b[0;34m:\u001b[0m\u001b[0;34m\u001b[0m\u001b[0;34m\u001b[0m\u001b[0m\n\u001b[0;32m---> 58\u001b[0;31m         \u001b[0;32mreturn\u001b[0m \u001b[0;34m[\u001b[0m\u001b[0m_todict\u001b[0m\u001b[0;34m(\u001b[0m\u001b[0mv\u001b[0m\u001b[0;34m,\u001b[0m \u001b[0mvalidate\u001b[0m\u001b[0;34m,\u001b[0m \u001b[0mcontext\u001b[0m\u001b[0;34m)\u001b[0m \u001b[0;32mfor\u001b[0m \u001b[0mv\u001b[0m \u001b[0;32min\u001b[0m \u001b[0mobj\u001b[0m\u001b[0;34m]\u001b[0m\u001b[0;34m\u001b[0m\u001b[0;34m\u001b[0m\u001b[0m\n\u001b[0m\u001b[1;32m     59\u001b[0m     \u001b[0;32melif\u001b[0m \u001b[0misinstance\u001b[0m\u001b[0;34m(\u001b[0m\u001b[0mobj\u001b[0m\u001b[0;34m,\u001b[0m \u001b[0mdict\u001b[0m\u001b[0;34m)\u001b[0m\u001b[0;34m:\u001b[0m\u001b[0;34m\u001b[0m\u001b[0;34m\u001b[0m\u001b[0m\n\u001b[1;32m     60\u001b[0m         return {\n",
            "\u001b[0;32m/usr/local/lib/python3.7/dist-packages/altair/utils/schemapi.py\u001b[0m in \u001b[0;36m<listcomp>\u001b[0;34m(.0)\u001b[0m\n\u001b[1;32m     56\u001b[0m         \u001b[0;32mreturn\u001b[0m \u001b[0mobj\u001b[0m\u001b[0;34m.\u001b[0m\u001b[0mto_dict\u001b[0m\u001b[0;34m(\u001b[0m\u001b[0mvalidate\u001b[0m\u001b[0;34m=\u001b[0m\u001b[0mvalidate\u001b[0m\u001b[0;34m,\u001b[0m \u001b[0mcontext\u001b[0m\u001b[0;34m=\u001b[0m\u001b[0mcontext\u001b[0m\u001b[0;34m)\u001b[0m\u001b[0;34m\u001b[0m\u001b[0;34m\u001b[0m\u001b[0m\n\u001b[1;32m     57\u001b[0m     \u001b[0;32melif\u001b[0m \u001b[0misinstance\u001b[0m\u001b[0;34m(\u001b[0m\u001b[0mobj\u001b[0m\u001b[0;34m,\u001b[0m \u001b[0;34m(\u001b[0m\u001b[0mlist\u001b[0m\u001b[0;34m,\u001b[0m \u001b[0mtuple\u001b[0m\u001b[0;34m,\u001b[0m \u001b[0mnp\u001b[0m\u001b[0;34m.\u001b[0m\u001b[0mndarray\u001b[0m\u001b[0;34m)\u001b[0m\u001b[0;34m)\u001b[0m\u001b[0;34m:\u001b[0m\u001b[0;34m\u001b[0m\u001b[0;34m\u001b[0m\u001b[0m\n\u001b[0;32m---> 58\u001b[0;31m         \u001b[0;32mreturn\u001b[0m \u001b[0;34m[\u001b[0m\u001b[0m_todict\u001b[0m\u001b[0;34m(\u001b[0m\u001b[0mv\u001b[0m\u001b[0;34m,\u001b[0m \u001b[0mvalidate\u001b[0m\u001b[0;34m,\u001b[0m \u001b[0mcontext\u001b[0m\u001b[0;34m)\u001b[0m \u001b[0;32mfor\u001b[0m \u001b[0mv\u001b[0m \u001b[0;32min\u001b[0m \u001b[0mobj\u001b[0m\u001b[0;34m]\u001b[0m\u001b[0;34m\u001b[0m\u001b[0;34m\u001b[0m\u001b[0m\n\u001b[0m\u001b[1;32m     59\u001b[0m     \u001b[0;32melif\u001b[0m \u001b[0misinstance\u001b[0m\u001b[0;34m(\u001b[0m\u001b[0mobj\u001b[0m\u001b[0;34m,\u001b[0m \u001b[0mdict\u001b[0m\u001b[0;34m)\u001b[0m\u001b[0;34m:\u001b[0m\u001b[0;34m\u001b[0m\u001b[0;34m\u001b[0m\u001b[0m\n\u001b[1;32m     60\u001b[0m         return {\n",
            "\u001b[0;32m/usr/local/lib/python3.7/dist-packages/altair/utils/schemapi.py\u001b[0m in \u001b[0;36m_todict\u001b[0;34m(obj, validate, context)\u001b[0m\n\u001b[1;32m     54\u001b[0m     \u001b[0;34m\"\"\"Convert an object to a dict representation.\"\"\"\u001b[0m\u001b[0;34m\u001b[0m\u001b[0;34m\u001b[0m\u001b[0m\n\u001b[1;32m     55\u001b[0m     \u001b[0;32mif\u001b[0m \u001b[0misinstance\u001b[0m\u001b[0;34m(\u001b[0m\u001b[0mobj\u001b[0m\u001b[0;34m,\u001b[0m \u001b[0mSchemaBase\u001b[0m\u001b[0;34m)\u001b[0m\u001b[0;34m:\u001b[0m\u001b[0;34m\u001b[0m\u001b[0;34m\u001b[0m\u001b[0m\n\u001b[0;32m---> 56\u001b[0;31m         \u001b[0;32mreturn\u001b[0m \u001b[0mobj\u001b[0m\u001b[0;34m.\u001b[0m\u001b[0mto_dict\u001b[0m\u001b[0;34m(\u001b[0m\u001b[0mvalidate\u001b[0m\u001b[0;34m=\u001b[0m\u001b[0mvalidate\u001b[0m\u001b[0;34m,\u001b[0m \u001b[0mcontext\u001b[0m\u001b[0;34m=\u001b[0m\u001b[0mcontext\u001b[0m\u001b[0;34m)\u001b[0m\u001b[0;34m\u001b[0m\u001b[0;34m\u001b[0m\u001b[0m\n\u001b[0m\u001b[1;32m     57\u001b[0m     \u001b[0;32melif\u001b[0m \u001b[0misinstance\u001b[0m\u001b[0;34m(\u001b[0m\u001b[0mobj\u001b[0m\u001b[0;34m,\u001b[0m \u001b[0;34m(\u001b[0m\u001b[0mlist\u001b[0m\u001b[0;34m,\u001b[0m \u001b[0mtuple\u001b[0m\u001b[0;34m,\u001b[0m \u001b[0mnp\u001b[0m\u001b[0;34m.\u001b[0m\u001b[0mndarray\u001b[0m\u001b[0;34m)\u001b[0m\u001b[0;34m)\u001b[0m\u001b[0;34m:\u001b[0m\u001b[0;34m\u001b[0m\u001b[0;34m\u001b[0m\u001b[0m\n\u001b[1;32m     58\u001b[0m         \u001b[0;32mreturn\u001b[0m \u001b[0;34m[\u001b[0m\u001b[0m_todict\u001b[0m\u001b[0;34m(\u001b[0m\u001b[0mv\u001b[0m\u001b[0;34m,\u001b[0m \u001b[0mvalidate\u001b[0m\u001b[0;34m,\u001b[0m \u001b[0mcontext\u001b[0m\u001b[0;34m)\u001b[0m \u001b[0;32mfor\u001b[0m \u001b[0mv\u001b[0m \u001b[0;32min\u001b[0m \u001b[0mobj\u001b[0m\u001b[0;34m]\u001b[0m\u001b[0;34m\u001b[0m\u001b[0;34m\u001b[0m\u001b[0m\n",
            "\u001b[0;32m/usr/local/lib/python3.7/dist-packages/altair/vegalite/v4/api.py\u001b[0m in \u001b[0;36mto_dict\u001b[0;34m(self, *args, **kwargs)\u001b[0m\n\u001b[1;32m    380\u001b[0m         \u001b[0;32mif\u001b[0m \u001b[0mdct\u001b[0m \u001b[0;32mis\u001b[0m \u001b[0;32mNone\u001b[0m\u001b[0;34m:\u001b[0m\u001b[0;34m\u001b[0m\u001b[0;34m\u001b[0m\u001b[0m\n\u001b[1;32m    381\u001b[0m             \u001b[0mkwargs\u001b[0m\u001b[0;34m[\u001b[0m\u001b[0;34m\"validate\"\u001b[0m\u001b[0;34m]\u001b[0m \u001b[0;34m=\u001b[0m \u001b[0;34m\"deep\"\u001b[0m\u001b[0;34m\u001b[0m\u001b[0;34m\u001b[0m\u001b[0m\n\u001b[0;32m--> 382\u001b[0;31m             \u001b[0mdct\u001b[0m \u001b[0;34m=\u001b[0m \u001b[0msuper\u001b[0m\u001b[0;34m(\u001b[0m\u001b[0mTopLevelMixin\u001b[0m\u001b[0;34m,\u001b[0m \u001b[0mcopy\u001b[0m\u001b[0;34m)\u001b[0m\u001b[0;34m.\u001b[0m\u001b[0mto_dict\u001b[0m\u001b[0;34m(\u001b[0m\u001b[0;34m*\u001b[0m\u001b[0margs\u001b[0m\u001b[0;34m,\u001b[0m \u001b[0;34m**\u001b[0m\u001b[0mkwargs\u001b[0m\u001b[0;34m)\u001b[0m\u001b[0;34m\u001b[0m\u001b[0;34m\u001b[0m\u001b[0m\n\u001b[0m\u001b[1;32m    383\u001b[0m \u001b[0;34m\u001b[0m\u001b[0m\n\u001b[1;32m    384\u001b[0m         \u001b[0;31m# TODO: following entries are added after validation. Should they be validated?\u001b[0m\u001b[0;34m\u001b[0m\u001b[0;34m\u001b[0m\u001b[0;34m\u001b[0m\u001b[0m\n",
            "\u001b[0;32m/usr/local/lib/python3.7/dist-packages/altair/utils/schemapi.py\u001b[0m in \u001b[0;36mto_dict\u001b[0;34m(self, validate, ignore, context)\u001b[0m\n\u001b[1;32m    326\u001b[0m                 \u001b[0;34m{\u001b[0m\u001b[0mk\u001b[0m\u001b[0;34m:\u001b[0m \u001b[0mv\u001b[0m \u001b[0;32mfor\u001b[0m \u001b[0mk\u001b[0m\u001b[0;34m,\u001b[0m \u001b[0mv\u001b[0m \u001b[0;32min\u001b[0m \u001b[0mself\u001b[0m\u001b[0;34m.\u001b[0m\u001b[0m_kwds\u001b[0m\u001b[0;34m.\u001b[0m\u001b[0mitems\u001b[0m\u001b[0;34m(\u001b[0m\u001b[0;34m)\u001b[0m \u001b[0;32mif\u001b[0m \u001b[0mk\u001b[0m \u001b[0;32mnot\u001b[0m \u001b[0;32min\u001b[0m \u001b[0mignore\u001b[0m\u001b[0;34m}\u001b[0m\u001b[0;34m,\u001b[0m\u001b[0;34m\u001b[0m\u001b[0;34m\u001b[0m\u001b[0m\n\u001b[1;32m    327\u001b[0m                 \u001b[0mvalidate\u001b[0m\u001b[0;34m=\u001b[0m\u001b[0msub_validate\u001b[0m\u001b[0;34m,\u001b[0m\u001b[0;34m\u001b[0m\u001b[0;34m\u001b[0m\u001b[0m\n\u001b[0;32m--> 328\u001b[0;31m                 \u001b[0mcontext\u001b[0m\u001b[0;34m=\u001b[0m\u001b[0mcontext\u001b[0m\u001b[0;34m,\u001b[0m\u001b[0;34m\u001b[0m\u001b[0;34m\u001b[0m\u001b[0m\n\u001b[0m\u001b[1;32m    329\u001b[0m             )\n\u001b[1;32m    330\u001b[0m         \u001b[0;32melse\u001b[0m\u001b[0;34m:\u001b[0m\u001b[0;34m\u001b[0m\u001b[0;34m\u001b[0m\u001b[0m\n",
            "\u001b[0;32m/usr/local/lib/python3.7/dist-packages/altair/utils/schemapi.py\u001b[0m in \u001b[0;36m_todict\u001b[0;34m(obj, validate, context)\u001b[0m\n\u001b[1;32m     60\u001b[0m         return {\n\u001b[1;32m     61\u001b[0m             \u001b[0mk\u001b[0m\u001b[0;34m:\u001b[0m \u001b[0m_todict\u001b[0m\u001b[0;34m(\u001b[0m\u001b[0mv\u001b[0m\u001b[0;34m,\u001b[0m \u001b[0mvalidate\u001b[0m\u001b[0;34m,\u001b[0m \u001b[0mcontext\u001b[0m\u001b[0;34m)\u001b[0m\u001b[0;34m\u001b[0m\u001b[0;34m\u001b[0m\u001b[0m\n\u001b[0;32m---> 62\u001b[0;31m             \u001b[0;32mfor\u001b[0m \u001b[0mk\u001b[0m\u001b[0;34m,\u001b[0m \u001b[0mv\u001b[0m \u001b[0;32min\u001b[0m \u001b[0mobj\u001b[0m\u001b[0;34m.\u001b[0m\u001b[0mitems\u001b[0m\u001b[0;34m(\u001b[0m\u001b[0;34m)\u001b[0m\u001b[0;34m\u001b[0m\u001b[0;34m\u001b[0m\u001b[0m\n\u001b[0m\u001b[1;32m     63\u001b[0m             \u001b[0;32mif\u001b[0m \u001b[0mv\u001b[0m \u001b[0;32mis\u001b[0m \u001b[0;32mnot\u001b[0m \u001b[0mUndefined\u001b[0m\u001b[0;34m\u001b[0m\u001b[0;34m\u001b[0m\u001b[0m\n\u001b[1;32m     64\u001b[0m         }\n",
            "\u001b[0;32m/usr/local/lib/python3.7/dist-packages/altair/utils/schemapi.py\u001b[0m in \u001b[0;36m<dictcomp>\u001b[0;34m(.0)\u001b[0m\n\u001b[1;32m     61\u001b[0m             \u001b[0mk\u001b[0m\u001b[0;34m:\u001b[0m \u001b[0m_todict\u001b[0m\u001b[0;34m(\u001b[0m\u001b[0mv\u001b[0m\u001b[0;34m,\u001b[0m \u001b[0mvalidate\u001b[0m\u001b[0;34m,\u001b[0m \u001b[0mcontext\u001b[0m\u001b[0;34m)\u001b[0m\u001b[0;34m\u001b[0m\u001b[0;34m\u001b[0m\u001b[0m\n\u001b[1;32m     62\u001b[0m             \u001b[0;32mfor\u001b[0m \u001b[0mk\u001b[0m\u001b[0;34m,\u001b[0m \u001b[0mv\u001b[0m \u001b[0;32min\u001b[0m \u001b[0mobj\u001b[0m\u001b[0;34m.\u001b[0m\u001b[0mitems\u001b[0m\u001b[0;34m(\u001b[0m\u001b[0;34m)\u001b[0m\u001b[0;34m\u001b[0m\u001b[0;34m\u001b[0m\u001b[0m\n\u001b[0;32m---> 63\u001b[0;31m             \u001b[0;32mif\u001b[0m \u001b[0mv\u001b[0m \u001b[0;32mis\u001b[0m \u001b[0;32mnot\u001b[0m \u001b[0mUndefined\u001b[0m\u001b[0;34m\u001b[0m\u001b[0;34m\u001b[0m\u001b[0m\n\u001b[0m\u001b[1;32m     64\u001b[0m         }\n\u001b[1;32m     65\u001b[0m     \u001b[0;32melif\u001b[0m \u001b[0mhasattr\u001b[0m\u001b[0;34m(\u001b[0m\u001b[0mobj\u001b[0m\u001b[0;34m,\u001b[0m \u001b[0;34m\"to_dict\"\u001b[0m\u001b[0;34m)\u001b[0m\u001b[0;34m:\u001b[0m\u001b[0;34m\u001b[0m\u001b[0;34m\u001b[0m\u001b[0m\n",
            "\u001b[0;32m/usr/local/lib/python3.7/dist-packages/altair/utils/schemapi.py\u001b[0m in \u001b[0;36m_todict\u001b[0;34m(obj, validate, context)\u001b[0m\n\u001b[1;32m     54\u001b[0m     \u001b[0;34m\"\"\"Convert an object to a dict representation.\"\"\"\u001b[0m\u001b[0;34m\u001b[0m\u001b[0;34m\u001b[0m\u001b[0m\n\u001b[1;32m     55\u001b[0m     \u001b[0;32mif\u001b[0m \u001b[0misinstance\u001b[0m\u001b[0;34m(\u001b[0m\u001b[0mobj\u001b[0m\u001b[0;34m,\u001b[0m \u001b[0mSchemaBase\u001b[0m\u001b[0;34m)\u001b[0m\u001b[0;34m:\u001b[0m\u001b[0;34m\u001b[0m\u001b[0;34m\u001b[0m\u001b[0m\n\u001b[0;32m---> 56\u001b[0;31m         \u001b[0;32mreturn\u001b[0m \u001b[0mobj\u001b[0m\u001b[0;34m.\u001b[0m\u001b[0mto_dict\u001b[0m\u001b[0;34m(\u001b[0m\u001b[0mvalidate\u001b[0m\u001b[0;34m=\u001b[0m\u001b[0mvalidate\u001b[0m\u001b[0;34m,\u001b[0m \u001b[0mcontext\u001b[0m\u001b[0;34m=\u001b[0m\u001b[0mcontext\u001b[0m\u001b[0;34m)\u001b[0m\u001b[0;34m\u001b[0m\u001b[0;34m\u001b[0m\u001b[0m\n\u001b[0m\u001b[1;32m     57\u001b[0m     \u001b[0;32melif\u001b[0m \u001b[0misinstance\u001b[0m\u001b[0;34m(\u001b[0m\u001b[0mobj\u001b[0m\u001b[0;34m,\u001b[0m \u001b[0;34m(\u001b[0m\u001b[0mlist\u001b[0m\u001b[0;34m,\u001b[0m \u001b[0mtuple\u001b[0m\u001b[0;34m,\u001b[0m \u001b[0mnp\u001b[0m\u001b[0;34m.\u001b[0m\u001b[0mndarray\u001b[0m\u001b[0;34m)\u001b[0m\u001b[0;34m)\u001b[0m\u001b[0;34m:\u001b[0m\u001b[0;34m\u001b[0m\u001b[0;34m\u001b[0m\u001b[0m\n\u001b[1;32m     58\u001b[0m         \u001b[0;32mreturn\u001b[0m \u001b[0;34m[\u001b[0m\u001b[0m_todict\u001b[0m\u001b[0;34m(\u001b[0m\u001b[0mv\u001b[0m\u001b[0;34m,\u001b[0m \u001b[0mvalidate\u001b[0m\u001b[0;34m,\u001b[0m \u001b[0mcontext\u001b[0m\u001b[0;34m)\u001b[0m \u001b[0;32mfor\u001b[0m \u001b[0mv\u001b[0m \u001b[0;32min\u001b[0m \u001b[0mobj\u001b[0m\u001b[0;34m]\u001b[0m\u001b[0;34m\u001b[0m\u001b[0;34m\u001b[0m\u001b[0m\n",
            "\u001b[0;32m/usr/local/lib/python3.7/dist-packages/altair/utils/schemapi.py\u001b[0m in \u001b[0;36mto_dict\u001b[0;34m(self, validate, ignore, context)\u001b[0m\n\u001b[1;32m    326\u001b[0m                 \u001b[0;34m{\u001b[0m\u001b[0mk\u001b[0m\u001b[0;34m:\u001b[0m \u001b[0mv\u001b[0m \u001b[0;32mfor\u001b[0m \u001b[0mk\u001b[0m\u001b[0;34m,\u001b[0m \u001b[0mv\u001b[0m \u001b[0;32min\u001b[0m \u001b[0mself\u001b[0m\u001b[0;34m.\u001b[0m\u001b[0m_kwds\u001b[0m\u001b[0;34m.\u001b[0m\u001b[0mitems\u001b[0m\u001b[0;34m(\u001b[0m\u001b[0;34m)\u001b[0m \u001b[0;32mif\u001b[0m \u001b[0mk\u001b[0m \u001b[0;32mnot\u001b[0m \u001b[0;32min\u001b[0m \u001b[0mignore\u001b[0m\u001b[0;34m}\u001b[0m\u001b[0;34m,\u001b[0m\u001b[0;34m\u001b[0m\u001b[0;34m\u001b[0m\u001b[0m\n\u001b[1;32m    327\u001b[0m                 \u001b[0mvalidate\u001b[0m\u001b[0;34m=\u001b[0m\u001b[0msub_validate\u001b[0m\u001b[0;34m,\u001b[0m\u001b[0;34m\u001b[0m\u001b[0;34m\u001b[0m\u001b[0m\n\u001b[0;32m--> 328\u001b[0;31m                 \u001b[0mcontext\u001b[0m\u001b[0;34m=\u001b[0m\u001b[0mcontext\u001b[0m\u001b[0;34m,\u001b[0m\u001b[0;34m\u001b[0m\u001b[0;34m\u001b[0m\u001b[0m\n\u001b[0m\u001b[1;32m    329\u001b[0m             )\n\u001b[1;32m    330\u001b[0m         \u001b[0;32melse\u001b[0m\u001b[0;34m:\u001b[0m\u001b[0;34m\u001b[0m\u001b[0;34m\u001b[0m\u001b[0m\n",
            "\u001b[0;32m/usr/local/lib/python3.7/dist-packages/altair/utils/schemapi.py\u001b[0m in \u001b[0;36m_todict\u001b[0;34m(obj, validate, context)\u001b[0m\n\u001b[1;32m     60\u001b[0m         return {\n\u001b[1;32m     61\u001b[0m             \u001b[0mk\u001b[0m\u001b[0;34m:\u001b[0m \u001b[0m_todict\u001b[0m\u001b[0;34m(\u001b[0m\u001b[0mv\u001b[0m\u001b[0;34m,\u001b[0m \u001b[0mvalidate\u001b[0m\u001b[0;34m,\u001b[0m \u001b[0mcontext\u001b[0m\u001b[0;34m)\u001b[0m\u001b[0;34m\u001b[0m\u001b[0;34m\u001b[0m\u001b[0m\n\u001b[0;32m---> 62\u001b[0;31m             \u001b[0;32mfor\u001b[0m \u001b[0mk\u001b[0m\u001b[0;34m,\u001b[0m \u001b[0mv\u001b[0m \u001b[0;32min\u001b[0m \u001b[0mobj\u001b[0m\u001b[0;34m.\u001b[0m\u001b[0mitems\u001b[0m\u001b[0;34m(\u001b[0m\u001b[0;34m)\u001b[0m\u001b[0;34m\u001b[0m\u001b[0;34m\u001b[0m\u001b[0m\n\u001b[0m\u001b[1;32m     63\u001b[0m             \u001b[0;32mif\u001b[0m \u001b[0mv\u001b[0m \u001b[0;32mis\u001b[0m \u001b[0;32mnot\u001b[0m \u001b[0mUndefined\u001b[0m\u001b[0;34m\u001b[0m\u001b[0;34m\u001b[0m\u001b[0m\n\u001b[1;32m     64\u001b[0m         }\n",
            "\u001b[0;32m/usr/local/lib/python3.7/dist-packages/altair/utils/schemapi.py\u001b[0m in \u001b[0;36m<dictcomp>\u001b[0;34m(.0)\u001b[0m\n\u001b[1;32m     61\u001b[0m             \u001b[0mk\u001b[0m\u001b[0;34m:\u001b[0m \u001b[0m_todict\u001b[0m\u001b[0;34m(\u001b[0m\u001b[0mv\u001b[0m\u001b[0;34m,\u001b[0m \u001b[0mvalidate\u001b[0m\u001b[0;34m,\u001b[0m \u001b[0mcontext\u001b[0m\u001b[0;34m)\u001b[0m\u001b[0;34m\u001b[0m\u001b[0;34m\u001b[0m\u001b[0m\n\u001b[1;32m     62\u001b[0m             \u001b[0;32mfor\u001b[0m \u001b[0mk\u001b[0m\u001b[0;34m,\u001b[0m \u001b[0mv\u001b[0m \u001b[0;32min\u001b[0m \u001b[0mobj\u001b[0m\u001b[0;34m.\u001b[0m\u001b[0mitems\u001b[0m\u001b[0;34m(\u001b[0m\u001b[0;34m)\u001b[0m\u001b[0;34m\u001b[0m\u001b[0;34m\u001b[0m\u001b[0m\n\u001b[0;32m---> 63\u001b[0;31m             \u001b[0;32mif\u001b[0m \u001b[0mv\u001b[0m \u001b[0;32mis\u001b[0m \u001b[0;32mnot\u001b[0m \u001b[0mUndefined\u001b[0m\u001b[0;34m\u001b[0m\u001b[0;34m\u001b[0m\u001b[0m\n\u001b[0m\u001b[1;32m     64\u001b[0m         }\n\u001b[1;32m     65\u001b[0m     \u001b[0;32melif\u001b[0m \u001b[0mhasattr\u001b[0m\u001b[0;34m(\u001b[0m\u001b[0mobj\u001b[0m\u001b[0;34m,\u001b[0m \u001b[0;34m\"to_dict\"\u001b[0m\u001b[0;34m)\u001b[0m\u001b[0;34m:\u001b[0m\u001b[0;34m\u001b[0m\u001b[0;34m\u001b[0m\u001b[0m\n",
            "\u001b[0;32m/usr/local/lib/python3.7/dist-packages/altair/utils/schemapi.py\u001b[0m in \u001b[0;36m_todict\u001b[0;34m(obj, validate, context)\u001b[0m\n\u001b[1;32m     54\u001b[0m     \u001b[0;34m\"\"\"Convert an object to a dict representation.\"\"\"\u001b[0m\u001b[0;34m\u001b[0m\u001b[0;34m\u001b[0m\u001b[0m\n\u001b[1;32m     55\u001b[0m     \u001b[0;32mif\u001b[0m \u001b[0misinstance\u001b[0m\u001b[0;34m(\u001b[0m\u001b[0mobj\u001b[0m\u001b[0;34m,\u001b[0m \u001b[0mSchemaBase\u001b[0m\u001b[0;34m)\u001b[0m\u001b[0;34m:\u001b[0m\u001b[0;34m\u001b[0m\u001b[0;34m\u001b[0m\u001b[0m\n\u001b[0;32m---> 56\u001b[0;31m         \u001b[0;32mreturn\u001b[0m \u001b[0mobj\u001b[0m\u001b[0;34m.\u001b[0m\u001b[0mto_dict\u001b[0m\u001b[0;34m(\u001b[0m\u001b[0mvalidate\u001b[0m\u001b[0;34m=\u001b[0m\u001b[0mvalidate\u001b[0m\u001b[0;34m,\u001b[0m \u001b[0mcontext\u001b[0m\u001b[0;34m=\u001b[0m\u001b[0mcontext\u001b[0m\u001b[0;34m)\u001b[0m\u001b[0;34m\u001b[0m\u001b[0;34m\u001b[0m\u001b[0m\n\u001b[0m\u001b[1;32m     57\u001b[0m     \u001b[0;32melif\u001b[0m \u001b[0misinstance\u001b[0m\u001b[0;34m(\u001b[0m\u001b[0mobj\u001b[0m\u001b[0;34m,\u001b[0m \u001b[0;34m(\u001b[0m\u001b[0mlist\u001b[0m\u001b[0;34m,\u001b[0m \u001b[0mtuple\u001b[0m\u001b[0;34m,\u001b[0m \u001b[0mnp\u001b[0m\u001b[0;34m.\u001b[0m\u001b[0mndarray\u001b[0m\u001b[0;34m)\u001b[0m\u001b[0;34m)\u001b[0m\u001b[0;34m:\u001b[0m\u001b[0;34m\u001b[0m\u001b[0;34m\u001b[0m\u001b[0m\n\u001b[1;32m     58\u001b[0m         \u001b[0;32mreturn\u001b[0m \u001b[0;34m[\u001b[0m\u001b[0m_todict\u001b[0m\u001b[0;34m(\u001b[0m\u001b[0mv\u001b[0m\u001b[0;34m,\u001b[0m \u001b[0mvalidate\u001b[0m\u001b[0;34m,\u001b[0m \u001b[0mcontext\u001b[0m\u001b[0;34m)\u001b[0m \u001b[0;32mfor\u001b[0m \u001b[0mv\u001b[0m \u001b[0;32min\u001b[0m \u001b[0mobj\u001b[0m\u001b[0;34m]\u001b[0m\u001b[0;34m\u001b[0m\u001b[0;34m\u001b[0m\u001b[0m\n",
            "\u001b[0;32m/usr/local/lib/python3.7/dist-packages/altair/vegalite/v4/schema/channels.py\u001b[0m in \u001b[0;36mto_dict\u001b[0;34m(self, validate, ignore, context)\u001b[0m\n\u001b[1;32m     58\u001b[0m             \u001b[0mvalidate\u001b[0m\u001b[0;34m=\u001b[0m\u001b[0mvalidate\u001b[0m\u001b[0;34m,\u001b[0m\u001b[0;34m\u001b[0m\u001b[0;34m\u001b[0m\u001b[0m\n\u001b[1;32m     59\u001b[0m             \u001b[0mignore\u001b[0m\u001b[0;34m=\u001b[0m\u001b[0mignore\u001b[0m\u001b[0;34m,\u001b[0m\u001b[0;34m\u001b[0m\u001b[0;34m\u001b[0m\u001b[0m\n\u001b[0;32m---> 60\u001b[0;31m             \u001b[0mcontext\u001b[0m\u001b[0;34m=\u001b[0m\u001b[0mcontext\u001b[0m\u001b[0;34m\u001b[0m\u001b[0;34m\u001b[0m\u001b[0m\n\u001b[0m\u001b[1;32m     61\u001b[0m         )\n\u001b[1;32m     62\u001b[0m \u001b[0;34m\u001b[0m\u001b[0m\n",
            "\u001b[0;32m/usr/local/lib/python3.7/dist-packages/altair/utils/schemapi.py\u001b[0m in \u001b[0;36mto_dict\u001b[0;34m(self, validate, ignore, context)\u001b[0m\n\u001b[1;32m    337\u001b[0m                 \u001b[0mself\u001b[0m\u001b[0;34m.\u001b[0m\u001b[0mvalidate\u001b[0m\u001b[0;34m(\u001b[0m\u001b[0mresult\u001b[0m\u001b[0;34m)\u001b[0m\u001b[0;34m\u001b[0m\u001b[0;34m\u001b[0m\u001b[0m\n\u001b[1;32m    338\u001b[0m             \u001b[0;32mexcept\u001b[0m \u001b[0mjsonschema\u001b[0m\u001b[0;34m.\u001b[0m\u001b[0mValidationError\u001b[0m \u001b[0;32mas\u001b[0m \u001b[0merr\u001b[0m\u001b[0;34m:\u001b[0m\u001b[0;34m\u001b[0m\u001b[0;34m\u001b[0m\u001b[0m\n\u001b[0;32m--> 339\u001b[0;31m                 \u001b[0;32mraise\u001b[0m \u001b[0mSchemaValidationError\u001b[0m\u001b[0;34m(\u001b[0m\u001b[0mself\u001b[0m\u001b[0;34m,\u001b[0m \u001b[0merr\u001b[0m\u001b[0;34m)\u001b[0m\u001b[0;34m\u001b[0m\u001b[0;34m\u001b[0m\u001b[0m\n\u001b[0m\u001b[1;32m    340\u001b[0m         \u001b[0;32mreturn\u001b[0m \u001b[0mresult\u001b[0m\u001b[0;34m\u001b[0m\u001b[0;34m\u001b[0m\u001b[0m\n\u001b[1;32m    341\u001b[0m \u001b[0;34m\u001b[0m\u001b[0m\n",
            "\u001b[0;31mSchemaValidationError\u001b[0m: Invalid specification\n\n        altair.vegalite.v4.schema.channels.Latitude->type, validating 'enum'\n\n        'nominal' is not one of ['quantitative']\n        "
          ]
        },
        {
          "output_type": "execute_result",
          "data": {
            "text/plain": [
              "alt.LayerChart(...)"
            ]
          },
          "metadata": {},
          "execution_count": 80
        }
      ],
      "metadata": {
        "execution": {
          "iopub.execute_input": "2021-06-21T19:17:18.946267Z",
          "iopub.status.busy": "2021-06-21T19:17:18.945349Z",
          "iopub.status.idle": "2021-06-21T19:17:18.948680Z",
          "shell.execute_reply": "2021-06-21T19:17:18.949399Z"
        },
        "id": "6da1d0dc",
        "colab": {
          "base_uri": "https://localhost:8080/",
          "height": 589
        },
        "outputId": "49afc5b6-add2-481b-c2eb-e9392b35eed0"
      }
    }
  ]
}