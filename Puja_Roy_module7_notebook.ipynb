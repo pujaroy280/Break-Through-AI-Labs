{
  "nbformat": 4,
  "nbformat_minor": 5,
  "metadata": {
    "jupytext": {
      "cell_metadata_filter": "-all"
    },
    "kernelspec": {
      "display_name": "myenv",
      "language": "python",
      "name": "myenv"
    },
    "language_info": {
      "codemirror_mode": {
        "name": "ipython",
        "version": 3
      },
      "file_extension": ".py",
      "mimetype": "text/x-python",
      "name": "python",
      "nbconvert_exporter": "python",
      "pygments_lexer": "ipython3",
      "version": "3.8.5"
    },
    "colab": {
      "name": "Puja Roy module7.notebook.ipynb",
      "provenance": [],
      "collapsed_sections": []
    },
    "accelerator": "GPU"
  },
  "cells": [
    {
      "cell_type": "markdown",
      "metadata": {
        "id": "52a14ce9"
      },
      "source": [
        "# Lab 7 - Deep Learning 2"
      ],
      "id": "52a14ce9"
    },
    {
      "cell_type": "markdown",
      "metadata": {
        "id": "83580a2c"
      },
      "source": [
        "The goal of this week's lab is to learn to use a widely-used neural\n",
        "network modules: convolutional neural networks (CNNs). We can use\n",
        "them to learn features from images and even text."
      ],
      "id": "83580a2c"
    },
    {
      "cell_type": "markdown",
      "metadata": {
        "id": "4507c379"
      },
      "source": [
        "![image](https://upload.wikimedia.org/wikipedia/commons/6/63/Typical_cnn.png)"
      ],
      "id": "4507c379"
    },
    {
      "cell_type": "markdown",
      "metadata": {
        "id": "ad1079ba"
      },
      "source": [
        "Images and text are common data modalities we encounter in\n",
        "classification tasks. While we can directly apply the\n",
        "linear or multi-layer modules we learned in the past few weeks to\n",
        "those modalities, there are neural network modules specifically\n",
        "designed for processing them, namely CNNs and RNNs."
      ],
      "id": "ad1079ba"
    },
    {
      "cell_type": "markdown",
      "metadata": {
        "id": "a5b84809"
      },
      "source": [
        "This week we will walk through the basics of CNNs and RNNs."
      ],
      "id": "a5b84809"
    },
    {
      "cell_type": "markdown",
      "metadata": {
        "id": "aa6d4eb3"
      },
      "source": [
        "* **Review**: Training and Multi-Layer Models (NNs)\n",
        "* **Unit A**: Image Processing and Convolutions\n",
        "* **Unit B**: Convolution Neural Networks (CNNs)"
      ],
      "id": "aa6d4eb3"
    },
    {
      "cell_type": "markdown",
      "metadata": {
        "id": "9877362b"
      },
      "source": [
        "## Review"
      ],
      "id": "9877362b"
    },
    {
      "cell_type": "markdown",
      "metadata": {
        "id": "20689659"
      },
      "source": [
        "Last time we took a look at what's happening inside training when we\n",
        "call `model.fit`. We did this by implementing `model.fit` ourselves."
      ],
      "id": "20689659"
    },
    {
      "cell_type": "code",
      "metadata": {
        "execution": {
          "iopub.execute_input": "2021-08-02T20:00:38.556236Z",
          "iopub.status.busy": "2021-08-02T20:00:38.555142Z",
          "iopub.status.idle": "2021-08-02T20:00:40.950429Z",
          "shell.execute_reply": "2021-08-02T20:00:40.949353Z"
        },
        "id": "f7e31703"
      },
      "source": [
        "# For Tables\n",
        "import pandas as pd\n",
        "# For Visualization\n",
        "import altair as alt\n",
        "# For Scikit-Learn\n",
        "import sklearn\n",
        "from keras.wrappers.scikit_learn import KerasClassifier\n",
        "# For Neural Networks\n",
        "import tensorflow as tf\n",
        "import keras\n",
        "from keras.models import Sequential\n",
        "from keras.layers import Dense"
      ],
      "id": "f7e31703",
      "execution_count": null,
      "outputs": []
    },
    {
      "cell_type": "markdown",
      "metadata": {
        "id": "a8a1c78a"
      },
      "source": [
        "We will also turn off warnings."
      ],
      "id": "a8a1c78a"
    },
    {
      "cell_type": "code",
      "metadata": {
        "execution": {
          "iopub.execute_input": "2021-08-02T20:00:40.956572Z",
          "iopub.status.busy": "2021-08-02T20:00:40.955633Z",
          "iopub.status.idle": "2021-08-02T20:00:40.957866Z",
          "shell.execute_reply": "2021-08-02T20:00:40.958627Z"
        },
        "id": "b6822266"
      },
      "source": [
        "import warnings\n",
        "warnings.filterwarnings('ignore')"
      ],
      "id": "b6822266",
      "execution_count": null,
      "outputs": []
    },
    {
      "cell_type": "markdown",
      "metadata": {
        "id": "4095a277"
      },
      "source": [
        "As we have seen in past weeks we load our structured data in\n",
        "Pandas format."
      ],
      "id": "4095a277"
    },
    {
      "cell_type": "code",
      "metadata": {
        "execution": {
          "iopub.execute_input": "2021-08-02T20:00:40.967011Z",
          "iopub.status.busy": "2021-08-02T20:00:40.966061Z",
          "iopub.status.idle": "2021-08-02T20:00:41.053182Z",
          "shell.execute_reply": "2021-08-02T20:00:41.052279Z"
        },
        "id": "65c0f988"
      },
      "source": [
        "df = pd.read_csv(\"https://srush.github.io/BT-AI/notebooks/circle.csv\")\n",
        "all_df = pd.read_csv(\"https://srush.github.io/BT-AI/notebooks/all_points.csv\")"
      ],
      "id": "65c0f988",
      "execution_count": null,
      "outputs": []
    },
    {
      "cell_type": "markdown",
      "metadata": {
        "id": "459d7471"
      },
      "source": [
        "Next, we need to define a function that creates our model. This will\n",
        "determine the range or different feature shapes the model can learn."
      ],
      "id": "459d7471"
    },
    {
      "cell_type": "markdown",
      "metadata": {
        "id": "dbb23c2e"
      },
      "source": [
        "[TensorFlow Playground](https://playground.tensorflow.org/)"
      ],
      "id": "dbb23c2e"
    },
    {
      "cell_type": "markdown",
      "metadata": {
        "id": "a16a28eb"
      },
      "source": [
        "Depending on the complexity of the data we may select a model that\n",
        "is linear or one with multiple layers."
      ],
      "id": "a16a28eb"
    },
    {
      "cell_type": "markdown",
      "metadata": {
        "id": "113afb27"
      },
      "source": [
        "Here is what a linear model looks like."
      ],
      "id": "113afb27"
    },
    {
      "cell_type": "code",
      "metadata": {
        "execution": {
          "iopub.execute_input": "2021-08-02T20:00:41.062081Z",
          "iopub.status.busy": "2021-08-02T20:00:41.061108Z",
          "iopub.status.idle": "2021-08-02T20:00:41.064740Z",
          "shell.execute_reply": "2021-08-02T20:00:41.063751Z"
        },
        "lines_to_next_cell": 1,
        "id": "4a906fe5"
      },
      "source": [
        "def create_linear_model(learning_rate=1.0):\n",
        "    # Makes it the same for everyone in class\n",
        "    tf.random.set_seed(2)\n",
        "\n",
        "    # Create model\n",
        "    model = Sequential()\n",
        "    model.add(Dense(1, activation=\"sigmoid\"))\n",
        "\n",
        "    # Compile model\n",
        "    optimizer = tf.keras.optimizers.SGD(\n",
        "        learning_rate=learning_rate\n",
        "    )\n",
        "    model.compile(loss=\"binary_crossentropy\",\n",
        "                  optimizer=optimizer,\n",
        "                  metrics=[\"accuracy\"])\n",
        "    return model"
      ],
      "id": "4a906fe5",
      "execution_count": null,
      "outputs": []
    },
    {
      "cell_type": "markdown",
      "metadata": {
        "id": "ea7abce1"
      },
      "source": [
        "Here is what a more complex multi-layer model looks like."
      ],
      "id": "ea7abce1"
    },
    {
      "cell_type": "code",
      "metadata": {
        "execution": {
          "iopub.execute_input": "2021-08-02T20:00:41.073493Z",
          "iopub.status.busy": "2021-08-02T20:00:41.072497Z",
          "iopub.status.idle": "2021-08-02T20:00:41.076336Z",
          "shell.execute_reply": "2021-08-02T20:00:41.075484Z"
        },
        "lines_to_next_cell": 1,
        "id": "49a4de33"
      },
      "source": [
        "def create_model(learning_rate=0.05):\n",
        "    tf.random.set_seed(2)\n",
        "    # create model\n",
        "    model = Sequential()\n",
        "    model.add(Dense(8, activation=\"relu\"))\n",
        "    model.add(Dense(8, activation=\"relu\"))\n",
        "    model.add(Dense(1, activation=\"sigmoid\"))\n",
        "    # Compile model\n",
        "    optimizer = tf.keras.optimizers.SGD(\n",
        "        learning_rate=learning_rate\n",
        "    )\n",
        "\n",
        "    model.compile(loss=\"binary_crossentropy\",\n",
        "                  optimizer=optimizer,\n",
        "                  metrics=[\"accuracy\"])\n",
        "    return model"
      ],
      "id": "49a4de33",
      "execution_count": null,
      "outputs": []
    },
    {
      "cell_type": "markdown",
      "metadata": {
        "id": "1977adda"
      },
      "source": [
        "Generally, we will use \"ReLU\" for the inner layers and \"sigmoid\" for\n",
        "the final layer. The reasons for this are beyond the class, and mostly\n",
        "have to do with computational simplicity and standard practice."
      ],
      "id": "1977adda"
    },
    {
      "cell_type": "markdown",
      "metadata": {
        "id": "238872f2"
      },
      "source": [
        "Once we have described the shape of our model we can turn it into a classifier\n",
        "and train it on data."
      ],
      "id": "238872f2"
    },
    {
      "cell_type": "code",
      "metadata": {
        "execution": {
          "iopub.execute_input": "2021-08-02T20:00:41.083371Z",
          "iopub.status.busy": "2021-08-02T20:00:41.082398Z",
          "iopub.status.idle": "2021-08-02T20:00:41.085873Z",
          "shell.execute_reply": "2021-08-02T20:00:41.084912Z"
        },
        "lines_to_next_cell": 2,
        "id": "b2e2943b"
      },
      "source": [
        "model = KerasClassifier(build_fn=create_model,\n",
        "                        epochs=20,\n",
        "                        batch_size=20,\n",
        "                        verbose=0)"
      ],
      "id": "b2e2943b",
      "execution_count": null,
      "outputs": []
    },
    {
      "cell_type": "markdown",
      "metadata": {
        "id": "e14c1280"
      },
      "source": [
        "The neural network is used just like the classifiers from Week 4 and 5. The only\n",
        "difference is that we got to design its internal shape."
      ],
      "id": "e14c1280"
    },
    {
      "cell_type": "code",
      "metadata": {
        "execution": {
          "iopub.execute_input": "2021-08-02T20:00:41.099302Z",
          "iopub.status.busy": "2021-08-02T20:00:41.098309Z",
          "iopub.status.idle": "2021-08-02T20:00:42.483894Z",
          "shell.execute_reply": "2021-08-02T20:00:42.484200Z"
        },
        "lines_to_next_cell": 2,
        "id": "c6bbc122"
      },
      "source": [
        "model.fit(x=df[[\"feature1\", \"feature2\"]],\n",
        "          y=(df[\"class\"] == \"red\"))\n",
        "df[\"predict\"] = model.predict(df[[\"feature1\", \"feature2\"]])"
      ],
      "id": "c6bbc122",
      "execution_count": null,
      "outputs": []
    },
    {
      "cell_type": "markdown",
      "metadata": {
        "id": "81b38438"
      },
      "source": [
        "The output of the `model.fit` command tells us a lot of information about\n",
        "how the approach is doing."
      ],
      "id": "81b38438"
    },
    {
      "cell_type": "markdown",
      "metadata": {
        "id": "50d83a67"
      },
      "source": [
        "In particular if it is working the `loss` should go down and the `accuracy` should\n",
        "go up. This implies that the model is learning to fit to the data that we provided it."
      ],
      "id": "50d83a67"
    },
    {
      "cell_type": "markdown",
      "metadata": {
        "id": "81f04077"
      },
      "source": [
        "We can view how the model determines the separation of the data."
      ],
      "id": "81f04077"
    },
    {
      "cell_type": "code",
      "metadata": {
        "execution": {
          "iopub.execute_input": "2021-08-02T20:00:42.490559Z",
          "iopub.status.busy": "2021-08-02T20:00:42.490198Z",
          "iopub.status.idle": "2021-08-02T20:00:42.519478Z",
          "shell.execute_reply": "2021-08-02T20:00:42.519205Z"
        },
        "lines_to_next_cell": 2,
        "id": "64327fda",
        "colab": {
          "base_uri": "https://localhost:8080/",
          "height": 368
        },
        "outputId": "012061ea-ceba-4805-8c12-656fc8ebf64e"
      },
      "source": [
        "chart = (alt.Chart(df)\n",
        "    .mark_point()\n",
        "    .encode(\n",
        "        x=\"feature1\",\n",
        "        y=\"feature2\",\n",
        "        color=\"class\",\n",
        "        fill=\"predict\",\n",
        "    ))\n",
        "chart"
      ],
      "id": "64327fda",
      "execution_count": null,
      "outputs": [
        {
          "output_type": "execute_result",
          "data": {
            "text/plain": [
              "alt.Chart(...)"
            ],
            "text/html": [
              "\n",
              "<div id=\"altair-viz-dc681f5b86e0410698acd1b453bd0ad2\"></div>\n",
              "<script type=\"text/javascript\">\n",
              "  (function(spec, embedOpt){\n",
              "    let outputDiv = document.currentScript.previousElementSibling;\n",
              "    if (outputDiv.id !== \"altair-viz-dc681f5b86e0410698acd1b453bd0ad2\") {\n",
              "      outputDiv = document.getElementById(\"altair-viz-dc681f5b86e0410698acd1b453bd0ad2\");\n",
              "    }\n",
              "    const paths = {\n",
              "      \"vega\": \"https://cdn.jsdelivr.net/npm//vega@5?noext\",\n",
              "      \"vega-lib\": \"https://cdn.jsdelivr.net/npm//vega-lib?noext\",\n",
              "      \"vega-lite\": \"https://cdn.jsdelivr.net/npm//vega-lite@4.8.1?noext\",\n",
              "      \"vega-embed\": \"https://cdn.jsdelivr.net/npm//vega-embed@6?noext\",\n",
              "    };\n",
              "\n",
              "    function loadScript(lib) {\n",
              "      return new Promise(function(resolve, reject) {\n",
              "        var s = document.createElement('script');\n",
              "        s.src = paths[lib];\n",
              "        s.async = true;\n",
              "        s.onload = () => resolve(paths[lib]);\n",
              "        s.onerror = () => reject(`Error loading script: ${paths[lib]}`);\n",
              "        document.getElementsByTagName(\"head\")[0].appendChild(s);\n",
              "      });\n",
              "    }\n",
              "\n",
              "    function showError(err) {\n",
              "      outputDiv.innerHTML = `<div class=\"error\" style=\"color:red;\">${err}</div>`;\n",
              "      throw err;\n",
              "    }\n",
              "\n",
              "    function displayChart(vegaEmbed) {\n",
              "      vegaEmbed(outputDiv, spec, embedOpt)\n",
              "        .catch(err => showError(`Javascript Error: ${err.message}<br>This usually means there's a typo in your chart specification. See the javascript console for the full traceback.`));\n",
              "    }\n",
              "\n",
              "    if(typeof define === \"function\" && define.amd) {\n",
              "      requirejs.config({paths});\n",
              "      require([\"vega-embed\"], displayChart, err => showError(`Error loading script: ${err.message}`));\n",
              "    } else if (typeof vegaEmbed === \"function\") {\n",
              "      displayChart(vegaEmbed);\n",
              "    } else {\n",
              "      loadScript(\"vega\")\n",
              "        .then(() => loadScript(\"vega-lite\"))\n",
              "        .then(() => loadScript(\"vega-embed\"))\n",
              "        .catch(showError)\n",
              "        .then(() => displayChart(vegaEmbed));\n",
              "    }\n",
              "  })({\"config\": {\"view\": {\"continuousWidth\": 400, \"continuousHeight\": 300}}, \"data\": {\"name\": \"data-58ff922e45d48458b07a6843654e07f4\"}, \"mark\": \"point\", \"encoding\": {\"color\": {\"type\": \"nominal\", \"field\": \"class\"}, \"fill\": {\"type\": \"nominal\", \"field\": \"predict\"}, \"x\": {\"type\": \"quantitative\", \"field\": \"feature1\"}, \"y\": {\"type\": \"quantitative\", \"field\": \"feature2\"}}, \"$schema\": \"https://vega.github.io/schema/vega-lite/v4.8.1.json\", \"datasets\": {\"data-58ff922e45d48458b07a6843654e07f4\": [{\"class\": \"red\", \"split\": \"train\", \"feature1\": 0.7110592717512667, \"feature2\": 0.9925910638907959, \"predict\": true}, {\"class\": \"red\", \"split\": \"train\", \"feature1\": 0.7666750348309379, \"feature2\": 0.8798978045529617, \"predict\": true}, {\"class\": \"red\", \"split\": \"train\", \"feature1\": 0.7933926856185717, \"feature2\": 0.0992325959991318, \"predict\": true}, {\"class\": \"red\", \"split\": \"train\", \"feature1\": 0.8784215716627152, \"feature2\": 0.6153364103631352, \"predict\": true}, {\"class\": \"red\", \"split\": \"train\", \"feature1\": 0.4809006123965466, \"feature2\": 0.8957707036916862, \"predict\": true}, {\"class\": \"red\", \"split\": \"train\", \"feature1\": 0.034267767184579016, \"feature2\": 0.7286788716363081, \"predict\": true}, {\"class\": \"blue\", \"split\": \"train\", \"feature1\": 0.182790685370964, \"feature2\": 0.5207164507831515, \"predict\": true}, {\"class\": \"red\", \"split\": \"train\", \"feature1\": 0.11708784992704467, \"feature2\": 0.07128237192722198, \"predict\": true}, {\"class\": \"red\", \"split\": \"train\", \"feature1\": 0.7183823447912975, \"feature2\": 0.33693888461721005, \"predict\": true}, {\"class\": \"blue\", \"split\": \"train\", \"feature1\": 0.4591510558676121, \"feature2\": 0.5590737157827383, \"predict\": true}, {\"class\": \"blue\", \"split\": \"train\", \"feature1\": 0.3041172601264125, \"feature2\": 0.6598568041530839, \"predict\": true}, {\"class\": \"blue\", \"split\": \"train\", \"feature1\": 0.43840427243451785, \"feature2\": 0.2494049023317473, \"predict\": true}, {\"class\": \"red\", \"split\": \"train\", \"feature1\": 0.3178138336940959, \"feature2\": 0.8636058709567319, \"predict\": true}, {\"class\": \"blue\", \"split\": \"train\", \"feature1\": 0.296334902992742, \"feature2\": 0.4827148182693645, \"predict\": true}, {\"class\": \"red\", \"split\": \"train\", \"feature1\": 0.7977212604988742, \"feature2\": 0.7798446022407809, \"predict\": true}, {\"class\": \"red\", \"split\": \"train\", \"feature1\": 0.5719711144456039, \"feature2\": 0.8626019633158952, \"predict\": true}, {\"class\": \"red\", \"split\": \"train\", \"feature1\": 0.2750407658134403, \"feature2\": 0.8928909986663129, \"predict\": true}, {\"class\": \"red\", \"split\": \"train\", \"feature1\": 0.3321202712936463, \"feature2\": 0.8915651510044181, \"predict\": true}, {\"class\": \"red\", \"split\": \"train\", \"feature1\": 0.8610733246138829, \"feature2\": 0.8763966900513118, \"predict\": true}, {\"class\": \"red\", \"split\": \"train\", \"feature1\": 0.4649296024658265, \"feature2\": 0.7644825104787528, \"predict\": true}, {\"class\": \"blue\", \"split\": \"train\", \"feature1\": 0.5827654088606802, \"feature2\": 0.615765888411093, \"predict\": true}, {\"class\": \"red\", \"split\": \"train\", \"feature1\": 0.4594377398732159, \"feature2\": 0.9835595494438316, \"predict\": true}, {\"class\": \"blue\", \"split\": \"train\", \"feature1\": 0.4627835476972418, \"feature2\": 0.4892371938913289, \"predict\": true}, {\"class\": \"blue\", \"split\": \"train\", \"feature1\": 0.5841206790567738, \"feature2\": 0.1830632277941694, \"predict\": true}, {\"class\": \"blue\", \"split\": \"train\", \"feature1\": 0.3409026938678006, \"feature2\": 0.20389846926017552, \"predict\": true}, {\"class\": \"red\", \"split\": \"train\", \"feature1\": 0.4594395104162601, \"feature2\": 0.08731049448223616, \"predict\": true}, {\"class\": \"red\", \"split\": \"train\", \"feature1\": 0.7646546031084133, \"feature2\": 0.14731131549446175, \"predict\": true}, {\"class\": \"red\", \"split\": \"train\", \"feature1\": 0.93823534829787, \"feature2\": 0.24034506497923055, \"predict\": true}, {\"class\": \"red\", \"split\": \"train\", \"feature1\": 0.7862369643682291, \"feature2\": 0.03244986221353341, \"predict\": true}, {\"class\": \"blue\", \"split\": \"train\", \"feature1\": 0.6767734426701824, \"feature2\": 0.37709274994989217, \"predict\": true}, {\"class\": \"red\", \"split\": \"train\", \"feature1\": 0.4219077677421982, \"feature2\": 0.7362670474636037, \"predict\": true}, {\"class\": \"blue\", \"split\": \"train\", \"feature1\": 0.5806019366498368, \"feature2\": 0.4071930314177695, \"predict\": true}, {\"class\": \"red\", \"split\": \"train\", \"feature1\": 0.05217867923134079, \"feature2\": 0.30897734560510404, \"predict\": true}, {\"class\": \"red\", \"split\": \"train\", \"feature1\": 0.1894103309098919, \"feature2\": 0.9419005126116092, \"predict\": true}, {\"class\": \"blue\", \"split\": \"train\", \"feature1\": 0.4007820841675385, \"feature2\": 0.6226850319758688, \"predict\": true}, {\"class\": \"red\", \"split\": \"train\", \"feature1\": 0.9408503810800788, \"feature2\": 0.7348680114236471, \"predict\": true}, {\"class\": \"red\", \"split\": \"train\", \"feature1\": 0.6929847369709171, \"feature2\": 0.5201638786665757, \"predict\": true}, {\"class\": \"blue\", \"split\": \"train\", \"feature1\": 0.3433992328917178, \"feature2\": 0.12748784277267955, \"predict\": true}, {\"class\": \"blue\", \"split\": \"train\", \"feature1\": 0.18258964930495314, \"feature2\": 0.5117367958700768, \"predict\": true}, {\"class\": \"red\", \"split\": \"train\", \"feature1\": 0.3686318322506754, \"feature2\": 0.7279470321970577, \"predict\": true}, {\"class\": \"red\", \"split\": \"train\", \"feature1\": 0.14356922608694933, \"feature2\": 0.6000880578941434, \"predict\": true}, {\"class\": \"blue\", \"split\": \"train\", \"feature1\": 0.2736167569121827, \"feature2\": 0.5904979553425337, \"predict\": true}, {\"class\": \"blue\", \"split\": \"train\", \"feature1\": 0.6794081015314227, \"feature2\": 0.4001657284717237, \"predict\": true}, {\"class\": \"red\", \"split\": \"train\", \"feature1\": 0.9540054049661472, \"feature2\": 0.32424050267025883, \"predict\": true}, {\"class\": \"red\", \"split\": \"train\", \"feature1\": 0.011558613631342696, \"feature2\": 0.4310894403538231, \"predict\": true}, {\"class\": \"red\", \"split\": \"train\", \"feature1\": 0.6405830468947243, \"feature2\": 0.18592405183633465, \"predict\": true}, {\"class\": \"red\", \"split\": \"train\", \"feature1\": 0.7450014885843542, \"feature2\": 0.38851593830639386, \"predict\": true}, {\"class\": \"red\", \"split\": \"train\", \"feature1\": 0.9928287486915574, \"feature2\": 0.3943608836013264, \"predict\": true}, {\"class\": \"red\", \"split\": \"train\", \"feature1\": 0.2511152868153762, \"feature2\": 0.7289546861449617, \"predict\": true}, {\"class\": \"blue\", \"split\": \"train\", \"feature1\": 0.20438533208063855, \"feature2\": 0.4902740829257617, \"predict\": true}, {\"class\": \"red\", \"split\": \"train\", \"feature1\": 0.9206104637326028, \"feature2\": 0.8472183743399321, \"predict\": true}, {\"class\": \"red\", \"split\": \"train\", \"feature1\": 0.4045215505607728, \"feature2\": 0.9711135171607134, \"predict\": true}, {\"class\": \"red\", \"split\": \"train\", \"feature1\": 0.632752642553079, \"feature2\": 0.6300058505989461, \"predict\": true}, {\"class\": \"blue\", \"split\": \"train\", \"feature1\": 0.6194523540145501, \"feature2\": 0.405750909286405, \"predict\": true}, {\"class\": \"blue\", \"split\": \"train\", \"feature1\": 0.30473205159614736, \"feature2\": 0.36997755961195145, \"predict\": true}, {\"class\": \"red\", \"split\": \"train\", \"feature1\": 0.2166329198920132, \"feature2\": 0.7431338746182417, \"predict\": true}, {\"class\": \"blue\", \"split\": \"train\", \"feature1\": 0.5967719058070097, \"feature2\": 0.5350276893442241, \"predict\": true}, {\"class\": \"red\", \"split\": \"train\", \"feature1\": 0.5836002105792122, \"feature2\": 0.6718437268052039, \"predict\": true}, {\"class\": \"blue\", \"split\": \"train\", \"feature1\": 0.16920414187696375, \"feature2\": 0.5589044181817682, \"predict\": true}, {\"class\": \"red\", \"split\": \"train\", \"feature1\": 0.654694817430204, \"feature2\": 0.7312573733160171, \"predict\": true}, {\"class\": \"red\", \"split\": \"train\", \"feature1\": 0.6637180787516418, \"feature2\": 0.7549669109491718, \"predict\": true}, {\"class\": \"red\", \"split\": \"train\", \"feature1\": 0.3469948519899633, \"feature2\": 0.015684924976288258, \"predict\": true}, {\"class\": \"blue\", \"split\": \"train\", \"feature1\": 0.5980195533242539, \"feature2\": 0.5779533480145616, \"predict\": true}, {\"class\": \"red\", \"split\": \"train\", \"feature1\": 0.12132245711197374, \"feature2\": 0.6221750706969829, \"predict\": true}, {\"class\": \"red\", \"split\": \"train\", \"feature1\": 0.8483831649531053, \"feature2\": 0.7567150039984659, \"predict\": true}, {\"class\": \"blue\", \"split\": \"train\", \"feature1\": 0.2135251241216176, \"feature2\": 0.3197397905896323, \"predict\": true}, {\"class\": \"red\", \"split\": \"train\", \"feature1\": 0.7669963105721076, \"feature2\": 0.5552541904875713, \"predict\": true}, {\"class\": \"red\", \"split\": \"train\", \"feature1\": 0.719409799487475, \"feature2\": 0.7396196734431415, \"predict\": true}, {\"class\": \"red\", \"split\": \"train\", \"feature1\": 0.10458163016174916, \"feature2\": 0.26889785582728504, \"predict\": true}, {\"class\": \"red\", \"split\": \"train\", \"feature1\": 0.16225615055594955, \"feature2\": 0.17582880165978054, \"predict\": true}, {\"class\": \"red\", \"split\": \"train\", \"feature1\": 0.15740021113887026, \"feature2\": 0.8816229654001139, \"predict\": true}, {\"class\": \"red\", \"split\": \"train\", \"feature1\": 0.2726600808628903, \"feature2\": 0.02587341224840101, \"predict\": true}, {\"class\": \"red\", \"split\": \"train\", \"feature1\": 0.9560002731134041, \"feature2\": 0.4807373902934558, \"predict\": true}, {\"class\": \"red\", \"split\": \"train\", \"feature1\": 0.9834528024159366, \"feature2\": 0.6825543290324901, \"predict\": true}, {\"class\": \"red\", \"split\": \"train\", \"feature1\": 0.17069660546651289, \"feature2\": 0.9973126555051004, \"predict\": true}, {\"class\": \"blue\", \"split\": \"train\", \"feature1\": 0.4160850686822842, \"feature2\": 0.3556952827946117, \"predict\": true}, {\"class\": \"red\", \"split\": \"train\", \"feature1\": 0.8685953836958201, \"feature2\": 0.06772530280110811, \"predict\": true}, {\"class\": \"red\", \"split\": \"train\", \"feature1\": 0.7127820765017636, \"feature2\": 0.83020177357036, \"predict\": true}, {\"class\": \"blue\", \"split\": \"train\", \"feature1\": 0.3516846422722165, \"feature2\": 0.5685016439294832, \"predict\": true}, {\"class\": \"red\", \"split\": \"train\", \"feature1\": 0.6889923521083186, \"feature2\": 0.11414671116163674, \"predict\": true}, {\"class\": \"red\", \"split\": \"train\", \"feature1\": 0.7462510599292403, \"feature2\": 0.6244013271417537, \"predict\": true}, {\"class\": \"red\", \"split\": \"train\", \"feature1\": 0.8434473667893255, \"feature2\": 0.4653153636251126, \"predict\": true}, {\"class\": \"red\", \"split\": \"train\", \"feature1\": 0.6820519230458811, \"feature2\": 0.7728681187594798, \"predict\": true}, {\"class\": \"red\", \"split\": \"train\", \"feature1\": 0.132765784542895, \"feature2\": 0.2276037311880121, \"predict\": true}, {\"class\": \"red\", \"split\": \"train\", \"feature1\": 0.9751762337053403, \"feature2\": 0.6318981161257168, \"predict\": true}, {\"class\": \"red\", \"split\": \"train\", \"feature1\": 0.7692976172875942, \"feature2\": 0.039968695023419036, \"predict\": true}, {\"class\": \"red\", \"split\": \"train\", \"feature1\": 0.8669444026398921, \"feature2\": 0.8739539662146332, \"predict\": true}, {\"class\": \"red\", \"split\": \"train\", \"feature1\": 0.4841616908253914, \"feature2\": 0.7930720974120743, \"predict\": true}, {\"class\": \"blue\", \"split\": \"train\", \"feature1\": 0.5982370783760755, \"feature2\": 0.2496691013001565, \"predict\": true}, {\"class\": \"blue\", \"split\": \"train\", \"feature1\": 0.3488106977206193, \"feature2\": 0.23264998983545734, \"predict\": true}, {\"class\": \"blue\", \"split\": \"train\", \"feature1\": 0.26167178982923056, \"feature2\": 0.2796565869452972, \"predict\": true}, {\"class\": \"red\", \"split\": \"train\", \"feature1\": 0.05498542488248859, \"feature2\": 0.29918839368477945, \"predict\": true}, {\"class\": \"red\", \"split\": \"train\", \"feature1\": 0.1217649603176696, \"feature2\": 0.07759209227148389, \"predict\": true}, {\"class\": \"red\", \"split\": \"train\", \"feature1\": 0.6199131586232773, \"feature2\": 0.9373491916033628, \"predict\": true}, {\"class\": \"red\", \"split\": \"train\", \"feature1\": 0.8945584436465921, \"feature2\": 0.8281040598223058, \"predict\": true}, {\"class\": \"blue\", \"split\": \"train\", \"feature1\": 0.4839568563487458, \"feature2\": 0.1324953001202348, \"predict\": true}, {\"class\": \"red\", \"split\": \"train\", \"feature1\": 0.13233875169821074, \"feature2\": 0.9776310804795446, \"predict\": true}, {\"class\": \"red\", \"split\": \"train\", \"feature1\": 0.18345391260963007, \"feature2\": 0.9990729403325156, \"predict\": true}, {\"class\": \"blue\", \"split\": \"train\", \"feature1\": 0.27354675056459155, \"feature2\": 0.34720930781727544, \"predict\": true}, {\"class\": \"red\", \"split\": \"train\", \"feature1\": 0.7917722748032672, \"feature2\": 0.8479275234760162, \"predict\": true}, {\"class\": \"red\", \"split\": \"train\", \"feature1\": 0.7038204035519422, \"feature2\": 0.7361123645874463, \"predict\": true}, {\"class\": \"red\", \"split\": \"train\", \"feature1\": 0.0899986762683459, \"feature2\": 0.4738552353244616, \"predict\": true}, {\"class\": \"red\", \"split\": \"train\", \"feature1\": 0.05377720761732119, \"feature2\": 0.8082237056704542, \"predict\": true}, {\"class\": \"red\", \"split\": \"train\", \"feature1\": 0.758356268624698, \"feature2\": 0.1713973088614622, \"predict\": true}, {\"class\": \"blue\", \"split\": \"train\", \"feature1\": 0.5111238976536862, \"feature2\": 0.2491453475372648, \"predict\": true}, {\"class\": \"red\", \"split\": \"train\", \"feature1\": 0.8300116144849753, \"feature2\": 0.4303488230235444, \"predict\": true}, {\"class\": \"red\", \"split\": \"train\", \"feature1\": 0.460609384314332, \"feature2\": 0.020375317081455343, \"predict\": true}, {\"class\": \"red\", \"split\": \"train\", \"feature1\": 0.01515131652805568, \"feature2\": 0.7483757582269783, \"predict\": true}, {\"class\": \"blue\", \"split\": \"train\", \"feature1\": 0.5885260876679725, \"feature2\": 0.4041926989481892, \"predict\": true}, {\"class\": \"red\", \"split\": \"train\", \"feature1\": 0.9381944880708986, \"feature2\": 0.8409299493547472, \"predict\": true}, {\"class\": \"red\", \"split\": \"train\", \"feature1\": 0.6258817182520922, \"feature2\": 0.8983465038247691, \"predict\": true}, {\"class\": \"blue\", \"split\": \"train\", \"feature1\": 0.4734817922144322, \"feature2\": 0.3705608378795249, \"predict\": true}, {\"class\": \"blue\", \"split\": \"train\", \"feature1\": 0.554489819389164, \"feature2\": 0.6502450210767348, \"predict\": true}, {\"class\": \"red\", \"split\": \"train\", \"feature1\": 0.10840434185158132, \"feature2\": 0.9801255396820115, \"predict\": true}, {\"class\": \"red\", \"split\": \"train\", \"feature1\": 0.7740059941082273, \"feature2\": 0.6034461651682845, \"predict\": true}, {\"class\": \"red\", \"split\": \"train\", \"feature1\": 0.6132488234102236, \"feature2\": 0.08927023707020154, \"predict\": true}, {\"class\": \"blue\", \"split\": \"train\", \"feature1\": 0.406225327220536, \"feature2\": 0.4558964372666288, \"predict\": true}, {\"class\": \"red\", \"split\": \"train\", \"feature1\": 0.8955503259700192, \"feature2\": 0.6930067388572838, \"predict\": true}, {\"class\": \"red\", \"split\": \"train\", \"feature1\": 0.09262340588187756, \"feature2\": 0.28273704093566865, \"predict\": true}, {\"class\": \"blue\", \"split\": \"train\", \"feature1\": 0.4127132404562692, \"feature2\": 0.6534179607239107, \"predict\": true}, {\"class\": \"red\", \"split\": \"train\", \"feature1\": 0.16333925433198834, \"feature2\": 0.033733247994545364, \"predict\": true}, {\"class\": \"red\", \"split\": \"train\", \"feature1\": 0.9770584079124676, \"feature2\": 0.993859138159606, \"predict\": true}, {\"class\": \"red\", \"split\": \"train\", \"feature1\": 0.01962568247448504, \"feature2\": 0.1407116303153777, \"predict\": true}, {\"class\": \"red\", \"split\": \"train\", \"feature1\": 0.8906318495523029, \"feature2\": 0.568906277487542, \"predict\": true}, {\"class\": \"red\", \"split\": \"train\", \"feature1\": 0.3491340727564505, \"feature2\": 0.7381275554852482, \"predict\": true}, {\"class\": \"red\", \"split\": \"train\", \"feature1\": 0.9621372121026888, \"feature2\": 0.8876493812943934, \"predict\": true}, {\"class\": \"red\", \"split\": \"train\", \"feature1\": 0.7252342891994178, \"feature2\": 0.5780712071279831, \"predict\": true}, {\"class\": \"blue\", \"split\": \"train\", \"feature1\": 0.2549491373541981, \"feature2\": 0.625760229738655, \"predict\": true}, {\"class\": \"red\", \"split\": \"train\", \"feature1\": 0.9893214025441066, \"feature2\": 0.3593882939048806, \"predict\": true}, {\"class\": \"blue\", \"split\": \"train\", \"feature1\": 0.4320182765915079, \"feature2\": 0.4353975801280733, \"predict\": true}, {\"class\": \"red\", \"split\": \"train\", \"feature1\": 0.7874212314049915, \"feature2\": 0.36836018741965104, \"predict\": true}, {\"class\": \"red\", \"split\": \"train\", \"feature1\": 0.6345028551846337, \"feature2\": 0.0584388890869878, \"predict\": true}, {\"class\": \"blue\", \"split\": \"train\", \"feature1\": 0.2389762051422818, \"feature2\": 0.3658765856044751, \"predict\": true}, {\"class\": \"red\", \"split\": \"train\", \"feature1\": 0.9093093228436564, \"feature2\": 0.10954181574583187, \"predict\": true}, {\"class\": \"blue\", \"split\": \"train\", \"feature1\": 0.2933034490861421, \"feature2\": 0.14766311371911855, \"predict\": true}, {\"class\": \"red\", \"split\": \"train\", \"feature1\": 0.028208933531673638, \"feature2\": 0.19331966331560732, \"predict\": true}, {\"class\": \"blue\", \"split\": \"train\", \"feature1\": 0.2578578001773546, \"feature2\": 0.40169910148356025, \"predict\": true}, {\"class\": \"red\", \"split\": \"train\", \"feature1\": 0.977123550932102, \"feature2\": 0.42035809520688416, \"predict\": true}, {\"class\": \"red\", \"split\": \"train\", \"feature1\": 0.7262853104201381, \"feature2\": 0.3644351145230073, \"predict\": true}, {\"class\": \"blue\", \"split\": \"train\", \"feature1\": 0.2544064707113036, \"feature2\": 0.23467018270418216, \"predict\": true}, {\"class\": \"red\", \"split\": \"train\", \"feature1\": 0.7604137053302052, \"feature2\": 0.0767859736443266, \"predict\": true}, {\"class\": \"blue\", \"split\": \"train\", \"feature1\": 0.13113726357121314, \"feature2\": 0.32404307627181883, \"predict\": true}, {\"class\": \"blue\", \"split\": \"train\", \"feature1\": 0.6116623888772078, \"feature2\": 0.3701186200766272, \"predict\": true}, {\"class\": \"blue\", \"split\": \"train\", \"feature1\": 0.5209669647394108, \"feature2\": 0.23819776751754615, \"predict\": true}, {\"class\": \"red\", \"split\": \"train\", \"feature1\": 0.6705775895235508, \"feature2\": 0.20900079059947885, \"predict\": true}, {\"class\": \"red\", \"split\": \"train\", \"feature1\": 0.9419850914797292, \"feature2\": 0.9377799510517708, \"predict\": true}, {\"class\": \"red\", \"split\": \"train\", \"feature1\": 0.010512372509723256, \"feature2\": 0.10971060024350232, \"predict\": true}, {\"class\": \"blue\", \"split\": \"train\", \"feature1\": 0.5020900614189598, \"feature2\": 0.22378949696708986, \"predict\": true}, {\"class\": \"blue\", \"split\": \"train\", \"feature1\": 0.23696596544686355, \"feature2\": 0.3847267138367773, \"predict\": true}, {\"class\": \"red\", \"split\": \"train\", \"feature1\": 0.1559956656471342, \"feature2\": 0.051833213846576236, \"predict\": true}, {\"class\": \"red\", \"split\": \"train\", \"feature1\": 0.7267571011903717, \"feature2\": 0.2992923782260365, \"predict\": true}, {\"class\": \"blue\", \"split\": \"train\", \"feature1\": 0.3509835641246728, \"feature2\": 0.31713106488852616, \"predict\": true}, {\"class\": \"red\", \"split\": \"train\", \"feature1\": 0.7932308008351008, \"feature2\": 0.742223266915952, \"predict\": true}, {\"class\": \"blue\", \"split\": \"train\", \"feature1\": 0.6307831731339761, \"feature2\": 0.4244393267988357, \"predict\": true}, {\"class\": \"blue\", \"split\": \"train\", \"feature1\": 0.4035151843577254, \"feature2\": 0.2864297833509025, \"predict\": true}, {\"class\": \"blue\", \"split\": \"train\", \"feature1\": 0.702490782604281, \"feature2\": 0.4872961317099949, \"predict\": true}, {\"class\": \"red\", \"split\": \"train\", \"feature1\": 0.8243296283644149, \"feature2\": 0.8376338058961066, \"predict\": true}, {\"class\": \"red\", \"split\": \"train\", \"feature1\": 0.9422787499740772, \"feature2\": 0.5031048058677682, \"predict\": true}, {\"class\": \"blue\", \"split\": \"train\", \"feature1\": 0.3960064775027494, \"feature2\": 0.3442139877781166, \"predict\": true}, {\"class\": \"red\", \"split\": \"train\", \"feature1\": 0.7680853953781075, \"feature2\": 0.6296832978801863, \"predict\": true}, {\"class\": \"red\", \"split\": \"train\", \"feature1\": 0.7591701612528005, \"feature2\": 0.03086999767977017, \"predict\": true}, {\"class\": \"blue\", \"split\": \"train\", \"feature1\": 0.31272510562820865, \"feature2\": 0.6705698178218822, \"predict\": true}, {\"class\": \"red\", \"split\": \"train\", \"feature1\": 0.3604745798996626, \"feature2\": 0.7912115614685082, \"predict\": true}, {\"class\": \"red\", \"split\": \"train\", \"feature1\": 0.5817424069863261, \"feature2\": 0.9385333051577828, \"predict\": true}, {\"class\": \"red\", \"split\": \"train\", \"feature1\": 0.7175944332239056, \"feature2\": 0.8204635896644787, \"predict\": true}, {\"class\": \"blue\", \"split\": \"train\", \"feature1\": 0.6853495406618506, \"feature2\": 0.5147726868768373, \"predict\": true}, {\"class\": \"blue\", \"split\": \"train\", \"feature1\": 0.5423359442398544, \"feature2\": 0.6139122551951279, \"predict\": true}, {\"class\": \"red\", \"split\": \"train\", \"feature1\": 0.8722833074920403, \"feature2\": 0.13505934970778874, \"predict\": true}, {\"class\": \"blue\", \"split\": \"train\", \"feature1\": 0.5514973903637209, \"feature2\": 0.3996722235370648, \"predict\": true}, {\"class\": \"red\", \"split\": \"train\", \"feature1\": 0.9297763375262506, \"feature2\": 0.9308401249339742, \"predict\": true}, {\"class\": \"red\", \"split\": \"train\", \"feature1\": 0.5176053542863321, \"feature2\": 0.7998230785789141, \"predict\": true}, {\"class\": \"blue\", \"split\": \"train\", \"feature1\": 0.2842078917094793, \"feature2\": 0.3484585373434995, \"predict\": true}, {\"class\": \"red\", \"split\": \"train\", \"feature1\": 0.9884040069562292, \"feature2\": 0.9377393759103132, \"predict\": true}, {\"class\": \"blue\", \"split\": \"train\", \"feature1\": 0.13145068322210265, \"feature2\": 0.5209801029232749, \"predict\": true}, {\"class\": \"red\", \"split\": \"train\", \"feature1\": 0.7012119724490752, \"feature2\": 0.9864019690690404, \"predict\": true}, {\"class\": \"red\", \"split\": \"train\", \"feature1\": 0.021088272772436637, \"feature2\": 0.7546152257981875, \"predict\": true}, {\"class\": \"blue\", \"split\": \"train\", \"feature1\": 0.24381202791518586, \"feature2\": 0.6570865898507042, \"predict\": true}, {\"class\": \"red\", \"split\": \"train\", \"feature1\": 0.6854853120550365, \"feature2\": 0.8715398867998368, \"predict\": true}, {\"class\": \"blue\", \"split\": \"train\", \"feature1\": 0.4879888288930528, \"feature2\": 0.4809705366138902, \"predict\": true}, {\"class\": \"blue\", \"split\": \"train\", \"feature1\": 0.10712932393904673, \"feature2\": 0.4926129077880928, \"predict\": true}, {\"class\": \"red\", \"split\": \"train\", \"feature1\": 0.7814178544112106, \"feature2\": 0.502773244694578, \"predict\": true}, {\"class\": \"red\", \"split\": \"train\", \"feature1\": 0.918623668477618, \"feature2\": 0.02230083093356594, \"predict\": true}, {\"class\": \"blue\", \"split\": \"train\", \"feature1\": 0.4097861671360854, \"feature2\": 0.1058534785086781, \"predict\": true}, {\"class\": \"red\", \"split\": \"train\", \"feature1\": 0.8154877467588777, \"feature2\": 0.8866773764750173, \"predict\": true}, {\"class\": \"blue\", \"split\": \"train\", \"feature1\": 0.6287644781891342, \"feature2\": 0.2831457228730857, \"predict\": true}, {\"class\": \"red\", \"split\": \"train\", \"feature1\": 0.7611748504188579, \"feature2\": 0.5529861063526736, \"predict\": true}, {\"class\": \"red\", \"split\": \"train\", \"feature1\": 0.217902185240632, \"feature2\": 0.03217310444825339, \"predict\": true}, {\"class\": \"blue\", \"split\": \"train\", \"feature1\": 0.6245620245950579, \"feature2\": 0.5549635066587972, \"predict\": true}, {\"class\": \"red\", \"split\": \"train\", \"feature1\": 0.8015116663290884, \"feature2\": 0.7799534016980704, \"predict\": true}, {\"class\": \"red\", \"split\": \"train\", \"feature1\": 0.21610273384262546, \"feature2\": 0.13672565536973158, \"predict\": true}, {\"class\": \"red\", \"split\": \"train\", \"feature1\": 0.9383544535314636, \"feature2\": 0.027617101218987417, \"predict\": true}, {\"class\": \"red\", \"split\": \"train\", \"feature1\": 0.0660264740881703, \"feature2\": 0.3118821828319113, \"predict\": true}, {\"class\": \"blue\", \"split\": \"train\", \"feature1\": 0.0958940406087826, \"feature2\": 0.4251517102608826, \"predict\": true}, {\"class\": \"red\", \"split\": \"train\", \"feature1\": 0.0306737707651481, \"feature2\": 0.7749897991418644, \"predict\": true}, {\"class\": \"red\", \"split\": \"train\", \"feature1\": 0.2397065502739197, \"feature2\": 0.7156553490413404, \"predict\": true}, {\"class\": \"red\", \"split\": \"train\", \"feature1\": 0.953752967851876, \"feature2\": 0.4033602604928808, \"predict\": true}, {\"class\": \"red\", \"split\": \"train\", \"feature1\": 0.17875899736098222, \"feature2\": 0.142286649409741, \"predict\": true}, {\"class\": \"red\", \"split\": \"train\", \"feature1\": 0.020249053401211192, \"feature2\": 0.7462586814219102, \"predict\": true}, {\"class\": \"blue\", \"split\": \"train\", \"feature1\": 0.6333343829706277, \"feature2\": 0.5338292339980262, \"predict\": true}, {\"class\": \"red\", \"split\": \"train\", \"feature1\": 0.4882924234055612, \"feature2\": 0.9763796714087788, \"predict\": true}, {\"class\": \"red\", \"split\": \"train\", \"feature1\": 0.5946419026419341, \"feature2\": 0.08856570219002058, \"predict\": true}, {\"class\": \"red\", \"split\": \"train\", \"feature1\": 0.9409175892571472, \"feature2\": 0.9214802732148536, \"predict\": true}, {\"class\": \"blue\", \"split\": \"train\", \"feature1\": 0.4276838236939101, \"feature2\": 0.6648435503046448, \"predict\": true}, {\"class\": \"red\", \"split\": \"train\", \"feature1\": 0.1105799286078044, \"feature2\": 0.9017206866902902, \"predict\": true}, {\"class\": \"red\", \"split\": \"train\", \"feature1\": 0.08927945104527668, \"feature2\": 0.2783512133412477, \"predict\": true}, {\"class\": \"red\", \"split\": \"train\", \"feature1\": 0.4753676146229332, \"feature2\": 0.03820854871853574, \"predict\": true}, {\"class\": \"red\", \"split\": \"train\", \"feature1\": 0.8968109740604747, \"feature2\": 0.01293960532397187, \"predict\": true}, {\"class\": \"blue\", \"split\": \"train\", \"feature1\": 0.6090716349277118, \"feature2\": 0.3348071025254288, \"predict\": true}, {\"class\": \"red\", \"split\": \"train\", \"feature1\": 0.006704150285785526, \"feature2\": 0.8354556195942036, \"predict\": true}, {\"class\": \"red\", \"split\": \"train\", \"feature1\": 0.29402894446475225, \"feature2\": 0.8577729239899138, \"predict\": true}, {\"class\": \"red\", \"split\": \"train\", \"feature1\": 0.04117318218636224, \"feature2\": 0.9333935244290438, \"predict\": true}, {\"class\": \"blue\", \"split\": \"train\", \"feature1\": 0.4236715782132632, \"feature2\": 0.6979864537340578, \"predict\": true}, {\"class\": \"red\", \"split\": \"train\", \"feature1\": 0.619489057120169, \"feature2\": 0.7440909734719212, \"predict\": true}, {\"class\": \"red\", \"split\": \"train\", \"feature1\": 0.1962172888673409, \"feature2\": 0.7771357149250189, \"predict\": true}, {\"class\": \"red\", \"split\": \"train\", \"feature1\": 0.020272902181414976, \"feature2\": 0.7908921152156776, \"predict\": true}, {\"class\": \"blue\", \"split\": \"train\", \"feature1\": 0.2976896762961244, \"feature2\": 0.5671802670974634, \"predict\": true}, {\"class\": \"red\", \"split\": \"train\", \"feature1\": 0.5709398503386288, \"feature2\": 0.7235231473437348, \"predict\": true}, {\"class\": \"blue\", \"split\": \"train\", \"feature1\": 0.5045112867536565, \"feature2\": 0.4741474534211405, \"predict\": true}, {\"class\": \"blue\", \"split\": \"train\", \"feature1\": 0.3293685835183342, \"feature2\": 0.5478599877169918, \"predict\": true}, {\"class\": \"blue\", \"split\": \"train\", \"feature1\": 0.22892380130706425, \"feature2\": 0.6382496824580499, \"predict\": true}, {\"class\": \"red\", \"split\": \"train\", \"feature1\": 0.2642441785742595, \"feature2\": 0.8287916016548994, \"predict\": true}, {\"class\": \"blue\", \"split\": \"train\", \"feature1\": 0.5396803787444413, \"feature2\": 0.32287388858121024, \"predict\": true}, {\"class\": \"red\", \"split\": \"train\", \"feature1\": 0.4000907382634674, \"feature2\": 0.003419849218453508, \"predict\": true}, {\"class\": \"red\", \"split\": \"train\", \"feature1\": 0.8937440712151659, \"feature2\": 0.7813276028267606, \"predict\": true}, {\"class\": \"blue\", \"split\": \"train\", \"feature1\": 0.5430465804503153, \"feature2\": 0.5712853625315024, \"predict\": true}, {\"class\": \"red\", \"split\": \"train\", \"feature1\": 0.4151001265257431, \"feature2\": 0.7293595662039528, \"predict\": true}, {\"class\": \"red\", \"split\": \"train\", \"feature1\": 0.034538540777279025, \"feature2\": 0.10324821980263944, \"predict\": true}, {\"class\": \"red\", \"split\": \"train\", \"feature1\": 0.922477448086874, \"feature2\": 0.4782271504023175, \"predict\": true}, {\"class\": \"red\", \"split\": \"train\", \"feature1\": 0.8281096025665392, \"feature2\": 0.7958318758438755, \"predict\": true}, {\"class\": \"red\", \"split\": \"train\", \"feature1\": 0.9052549196083574, \"feature2\": 0.2562671601298272, \"predict\": true}, {\"class\": \"red\", \"split\": \"train\", \"feature1\": 0.9480890335846424, \"feature2\": 0.5055521016049144, \"predict\": true}, {\"class\": \"red\", \"split\": \"train\", \"feature1\": 0.17521510500019544, \"feature2\": 0.9285890301887954, \"predict\": true}, {\"class\": \"red\", \"split\": \"train\", \"feature1\": 0.0956513189757473, \"feature2\": 0.2960802804279211, \"predict\": true}, {\"class\": \"red\", \"split\": \"train\", \"feature1\": 0.916533001790932, \"feature2\": 0.962289209945824, \"predict\": true}, {\"class\": \"red\", \"split\": \"train\", \"feature1\": 0.6603299594538016, \"feature2\": 0.0277603443424026, \"predict\": true}, {\"class\": \"red\", \"split\": \"train\", \"feature1\": 0.9699995306438236, \"feature2\": 0.5359215568116881, \"predict\": true}, {\"class\": \"blue\", \"split\": \"train\", \"feature1\": 0.5497664695608036, \"feature2\": 0.1456703831703826, \"predict\": true}, {\"class\": \"red\", \"split\": \"train\", \"feature1\": 0.34682142679655725, \"feature2\": 0.046199702363741824, \"predict\": true}, {\"class\": \"red\", \"split\": \"train\", \"feature1\": 0.6622602452101607, \"feature2\": 0.6698227711213001, \"predict\": true}, {\"class\": \"red\", \"split\": \"train\", \"feature1\": 0.3723237911888199, \"feature2\": 0.7698811185702584, \"predict\": true}, {\"class\": \"red\", \"split\": \"train\", \"feature1\": 0.8263153580955926, \"feature2\": 0.553882781291093, \"predict\": true}, {\"class\": \"red\", \"split\": \"train\", \"feature1\": 0.8700760485901199, \"feature2\": 0.13204830819012106, \"predict\": true}, {\"class\": \"blue\", \"split\": \"train\", \"feature1\": 0.3362428827009075, \"feature2\": 0.1262596479893774, \"predict\": true}, {\"class\": \"red\", \"split\": \"train\", \"feature1\": 0.7347193560419291, \"feature2\": 0.7415784988356301, \"predict\": true}, {\"class\": \"red\", \"split\": \"train\", \"feature1\": 0.811245075553914, \"feature2\": 0.27879302011934715, \"predict\": true}, {\"class\": \"red\", \"split\": \"train\", \"feature1\": 0.1310644318983648, \"feature2\": 0.15750311534780947, \"predict\": true}, {\"class\": \"red\", \"split\": \"train\", \"feature1\": 0.43187435797574747, \"feature2\": 0.981190149023344, \"predict\": true}, {\"class\": \"red\", \"split\": \"train\", \"feature1\": 0.9640705116370952, \"feature2\": 0.24301820718381265, \"predict\": true}, {\"class\": \"red\", \"split\": \"train\", \"feature1\": 0.7983829669615609, \"feature2\": 0.6404930910644607, \"predict\": true}, {\"class\": \"blue\", \"split\": \"train\", \"feature1\": 0.5154831630779103, \"feature2\": 0.2910392713133291, \"predict\": true}, {\"class\": \"red\", \"split\": \"train\", \"feature1\": 0.3002823500916313, \"feature2\": 0.09496703106900994, \"predict\": true}, {\"class\": \"red\", \"split\": \"train\", \"feature1\": 0.060517627717623035, \"feature2\": 0.8010855364643649, \"predict\": true}, {\"class\": \"blue\", \"split\": \"train\", \"feature1\": 0.3668192015356973, \"feature2\": 0.1650290877741275, \"predict\": true}, {\"class\": \"red\", \"split\": \"train\", \"feature1\": 0.7034094829096169, \"feature2\": 0.5766927729547672, \"predict\": true}, {\"class\": \"red\", \"split\": \"train\", \"feature1\": 0.9739639109299376, \"feature2\": 0.6537416136552393, \"predict\": true}, {\"class\": \"red\", \"split\": \"train\", \"feature1\": 0.3969386326091783, \"feature2\": 0.9289569661641404, \"predict\": true}, {\"class\": \"blue\", \"split\": \"train\", \"feature1\": 0.3227375033947366, \"feature2\": 0.17780164610503435, \"predict\": true}, {\"class\": \"red\", \"split\": \"train\", \"feature1\": 0.21957722142634428, \"feature2\": 0.8500246357533721, \"predict\": true}, {\"class\": \"red\", \"split\": \"train\", \"feature1\": 0.6540167677067078, \"feature2\": 0.16851480489408666, \"predict\": true}, {\"class\": \"blue\", \"split\": \"train\", \"feature1\": 0.2941176776189306, \"feature2\": 0.3230168974644484, \"predict\": true}, {\"class\": \"blue\", \"split\": \"train\", \"feature1\": 0.4226424794900515, \"feature2\": 0.5168725703369589, \"predict\": true}, {\"class\": \"red\", \"split\": \"train\", \"feature1\": 0.032051772271918244, \"feature2\": 0.32634711843281883, \"predict\": true}, {\"class\": \"blue\", \"split\": \"train\", \"feature1\": 0.5471021407796169, \"feature2\": 0.4314165363265239, \"predict\": true}, {\"class\": \"blue\", \"split\": \"train\", \"feature1\": 0.3778578405825716, \"feature2\": 0.6854090631957319, \"predict\": true}, {\"class\": \"blue\", \"split\": \"train\", \"feature1\": 0.3275507540225926, \"feature2\": 0.14989785827324076, \"predict\": true}, {\"class\": \"blue\", \"split\": \"train\", \"feature1\": 0.5263521317808958, \"feature2\": 0.20309349604311666, \"predict\": true}, {\"class\": \"red\", \"split\": \"train\", \"feature1\": 0.7536640226155404, \"feature2\": 0.32024023095634313, \"predict\": true}, {\"class\": \"red\", \"split\": \"train\", \"feature1\": 0.9764651266137078, \"feature2\": 0.8665687606643637, \"predict\": true}, {\"class\": \"red\", \"split\": \"train\", \"feature1\": 0.7778713017144059, \"feature2\": 0.7166812725728612, \"predict\": true}, {\"class\": \"blue\", \"split\": \"train\", \"feature1\": 0.2361231926882981, \"feature2\": 0.5439878891408875, \"predict\": true}, {\"class\": \"red\", \"split\": \"train\", \"feature1\": 0.494936659684771, \"feature2\": 0.9134493887856155, \"predict\": true}, {\"class\": \"red\", \"split\": \"train\", \"feature1\": 0.5815099252478809, \"feature2\": 0.7667257744391228, \"predict\": true}, {\"class\": \"red\", \"split\": \"train\", \"feature1\": 0.07235185907011321, \"feature2\": 0.3691205040777826, \"predict\": true}, {\"class\": \"red\", \"split\": \"train\", \"feature1\": 0.08147898030800915, \"feature2\": 0.3604779104983876, \"predict\": true}, {\"class\": \"blue\", \"split\": \"train\", \"feature1\": 0.15539252673123705, \"feature2\": 0.4282669178494427, \"predict\": true}, {\"class\": \"red\", \"split\": \"train\", \"feature1\": 0.8495968176464542, \"feature2\": 0.4443582579374189, \"predict\": true}, {\"class\": \"red\", \"split\": \"train\", \"feature1\": 0.4186702792696396, \"feature2\": 0.9106008540369656, \"predict\": true}, {\"class\": \"red\", \"split\": \"train\", \"feature1\": 0.5144158782283484, \"feature2\": 0.05706928183438997, \"predict\": true}, {\"class\": \"blue\", \"split\": \"train\", \"feature1\": 0.42137371556689984, \"feature2\": 0.30751711521745617, \"predict\": true}, {\"class\": \"red\", \"split\": \"train\", \"feature1\": 0.9548194792842776, \"feature2\": 0.8707905003663716, \"predict\": true}, {\"class\": \"blue\", \"split\": \"train\", \"feature1\": 0.4677088846542313, \"feature2\": 0.18128995509669046, \"predict\": true}, {\"class\": \"red\", \"split\": \"train\", \"feature1\": 0.13933293721366435, \"feature2\": 0.8857761853197028, \"predict\": true}, {\"class\": \"red\", \"split\": \"train\", \"feature1\": 0.8739591810042147, \"feature2\": 0.8271455173250261, \"predict\": true}, {\"class\": \"blue\", \"split\": \"train\", \"feature1\": 0.4949353447866864, \"feature2\": 0.4617779352179015, \"predict\": true}, {\"class\": \"blue\", \"split\": \"train\", \"feature1\": 0.18748128593207847, \"feature2\": 0.20849495267933493, \"predict\": true}, {\"class\": \"red\", \"split\": \"train\", \"feature1\": 0.8996153289455504, \"feature2\": 0.761762226884668, \"predict\": true}, {\"class\": \"blue\", \"split\": \"train\", \"feature1\": 0.33485970410916954, \"feature2\": 0.21572590554196347, \"predict\": true}, {\"class\": \"blue\", \"split\": \"train\", \"feature1\": 0.2666429916905806, \"feature2\": 0.12935643795676402, \"predict\": true}, {\"class\": \"blue\", \"split\": \"train\", \"feature1\": 0.4444346858370669, \"feature2\": 0.5002909652885857, \"predict\": true}, {\"class\": \"red\", \"split\": \"train\", \"feature1\": 0.28263521137124303, \"feature2\": 0.0935761173804578, \"predict\": true}, {\"class\": \"red\", \"split\": \"train\", \"feature1\": 0.9902457916256217, \"feature2\": 0.8997274186292741, \"predict\": true}, {\"class\": \"blue\", \"split\": \"train\", \"feature1\": 0.4319760812454303, \"feature2\": 0.4268700978168839, \"predict\": true}, {\"class\": \"red\", \"split\": \"train\", \"feature1\": 0.4311052531160754, \"feature2\": 0.9923519650912012, \"predict\": true}, {\"class\": \"red\", \"split\": \"train\", \"feature1\": 0.09180095124552544, \"feature2\": 0.9373269960822452, \"predict\": true}, {\"class\": \"red\", \"split\": \"train\", \"feature1\": 0.011748891075033518, \"feature2\": 0.8484800916549479, \"predict\": true}, {\"class\": \"red\", \"split\": \"train\", \"feature1\": 0.9658833112812848, \"feature2\": 0.9241992954560716, \"predict\": true}, {\"class\": \"blue\", \"split\": \"train\", \"feature1\": 0.23636017927822076, \"feature2\": 0.17452547337942914, \"predict\": true}, {\"class\": \"blue\", \"split\": \"train\", \"feature1\": 0.4950008629729561, \"feature2\": 0.6210669979870912, \"predict\": true}, {\"class\": \"red\", \"split\": \"train\", \"feature1\": 0.6237776403084496, \"feature2\": 0.7003130332648002, \"predict\": true}, {\"class\": \"red\", \"split\": \"train\", \"feature1\": 0.6729060365979418, \"feature2\": 0.9673518055955904, \"predict\": true}, {\"class\": \"red\", \"split\": \"train\", \"feature1\": 0.0388460951294004, \"feature2\": 0.9892178216632008, \"predict\": true}, {\"class\": \"red\", \"split\": \"train\", \"feature1\": 0.0909819771528828, \"feature2\": 0.3077565010261192, \"predict\": true}, {\"class\": \"red\", \"split\": \"train\", \"feature1\": 0.2924939443684353, \"feature2\": 0.819005426590644, \"predict\": true}, {\"class\": \"red\", \"split\": \"train\", \"feature1\": 0.3902824242744192, \"feature2\": 0.8161761033375705, \"predict\": true}, {\"class\": \"red\", \"split\": \"train\", \"feature1\": 0.7485225428160283, \"feature2\": 0.7032800782983388, \"predict\": true}, {\"class\": \"red\", \"split\": \"train\", \"feature1\": 0.8188524534039027, \"feature2\": 0.6632163819540573, \"predict\": true}, {\"class\": \"red\", \"split\": \"train\", \"feature1\": 0.2831381859847201, \"feature2\": 0.9376641205220451, \"predict\": true}, {\"class\": \"red\", \"split\": \"train\", \"feature1\": 0.6138669478749466, \"feature2\": 0.1322612987435452, \"predict\": true}, {\"class\": \"red\", \"split\": \"train\", \"feature1\": 0.15969844919621712, \"feature2\": 0.8716201228224771, \"predict\": true}, {\"class\": \"blue\", \"split\": \"train\", \"feature1\": 0.21527708906498624, \"feature2\": 0.5843648413920144, \"predict\": true}, {\"class\": \"blue\", \"split\": \"train\", \"feature1\": 0.3658748475801679, \"feature2\": 0.2418133650773189, \"predict\": true}, {\"class\": \"blue\", \"split\": \"train\", \"feature1\": 0.5480587543280189, \"feature2\": 0.2936170787257317, \"predict\": true}, {\"class\": \"red\", \"split\": \"train\", \"feature1\": 0.1447210520564739, \"feature2\": 0.926959804187122, \"predict\": true}, {\"class\": \"red\", \"split\": \"train\", \"feature1\": 0.11721199443397212, \"feature2\": 0.5559519437430105, \"predict\": true}, {\"class\": \"blue\", \"split\": \"train\", \"feature1\": 0.4395593654355585, \"feature2\": 0.5458974878862014, \"predict\": true}, {\"class\": \"red\", \"split\": \"train\", \"feature1\": 0.39731192368840107, \"feature2\": 0.8018504491945477, \"predict\": true}, {\"class\": \"red\", \"split\": \"train\", \"feature1\": 0.7340849705662754, \"feature2\": 0.6645991334638589, \"predict\": true}, {\"class\": \"blue\", \"split\": \"train\", \"feature1\": 0.5546772699396102, \"feature2\": 0.6708705338225339, \"predict\": true}, {\"class\": \"blue\", \"split\": \"train\", \"feature1\": 0.70819568017984, \"feature2\": 0.4345382340447814, \"predict\": true}, {\"class\": \"red\", \"split\": \"train\", \"feature1\": 0.3285280969898929, \"feature2\": 0.7455572186424625, \"predict\": true}, {\"class\": \"blue\", \"split\": \"train\", \"feature1\": 0.0902658653006031, \"feature2\": 0.3378911393381057, \"predict\": true}, {\"class\": \"red\", \"split\": \"train\", \"feature1\": 0.15942342958809794, \"feature2\": 0.6317383077847507, \"predict\": true}, {\"class\": \"red\", \"split\": \"train\", \"feature1\": 0.3835686903490588, \"feature2\": 0.9939965141694659, \"predict\": true}, {\"class\": \"red\", \"split\": \"train\", \"feature1\": 0.3717326268365818, \"feature2\": 0.00729755236925722, \"predict\": true}, {\"class\": \"blue\", \"split\": \"train\", \"feature1\": 0.5812366906450147, \"feature2\": 0.21052659370368065, \"predict\": true}, {\"class\": \"red\", \"split\": \"train\", \"feature1\": 0.10714901376585872, \"feature2\": 0.7622767880744952, \"predict\": true}, {\"class\": \"red\", \"split\": \"train\", \"feature1\": 0.8830531951420121, \"feature2\": 0.3315197451638233, \"predict\": true}, {\"class\": \"red\", \"split\": \"train\", \"feature1\": 0.19374457593011152, \"feature2\": 0.12307853055208562, \"predict\": true}, {\"class\": \"red\", \"split\": \"train\", \"feature1\": 0.9328016937722649, \"feature2\": 0.25537577432567404, \"predict\": true}, {\"class\": \"red\", \"split\": \"train\", \"feature1\": 0.8974739760109461, \"feature2\": 0.3364866486921673, \"predict\": true}, {\"class\": \"red\", \"split\": \"train\", \"feature1\": 0.05284144166247074, \"feature2\": 0.5637906271903801, \"predict\": true}, {\"class\": \"red\", \"split\": \"train\", \"feature1\": 0.8019046578708456, \"feature2\": 0.20192246217551732, \"predict\": true}, {\"class\": \"red\", \"split\": \"train\", \"feature1\": 0.4548431359614152, \"feature2\": 0.9372260524618296, \"predict\": true}, {\"class\": \"red\", \"split\": \"train\", \"feature1\": 0.08920826663986592, \"feature2\": 0.4933125309275274, \"predict\": true}, {\"class\": \"red\", \"split\": \"train\", \"feature1\": 0.4248798460654993, \"feature2\": 0.9243165405074693, \"predict\": true}, {\"class\": \"blue\", \"split\": \"train\", \"feature1\": 0.5561889389121716, \"feature2\": 0.4865997721689804, \"predict\": true}, {\"class\": \"blue\", \"split\": \"train\", \"feature1\": 0.6367037106179776, \"feature2\": 0.2136872839793309, \"predict\": true}, {\"class\": \"red\", \"split\": \"train\", \"feature1\": 0.9809746574678692, \"feature2\": 0.505809917505059, \"predict\": true}, {\"class\": \"red\", \"split\": \"train\", \"feature1\": 0.7312893930212863, \"feature2\": 0.2711645869680745, \"predict\": true}, {\"class\": \"red\", \"split\": \"train\", \"feature1\": 0.4947696982067169, \"feature2\": 0.8408709658665643, \"predict\": true}, {\"class\": \"blue\", \"split\": \"train\", \"feature1\": 0.14640976619341114, \"feature2\": 0.23324231964273445, \"predict\": true}, {\"class\": \"red\", \"split\": \"train\", \"feature1\": 0.3810939778662876, \"feature2\": 0.7692561034733135, \"predict\": true}, {\"class\": \"red\", \"split\": \"train\", \"feature1\": 0.605659499956832, \"feature2\": 0.010660902330980382, \"predict\": true}, {\"class\": \"blue\", \"split\": \"train\", \"feature1\": 0.2603914727429474, \"feature2\": 0.5333825619438893, \"predict\": true}, {\"class\": \"red\", \"split\": \"train\", \"feature1\": 0.7957924596572065, \"feature2\": 0.05578197722599088, \"predict\": true}, {\"class\": \"red\", \"split\": \"train\", \"feature1\": 0.567242303211672, \"feature2\": 0.8453723326889899, \"predict\": true}, {\"class\": \"blue\", \"split\": \"train\", \"feature1\": 0.3411350338864272, \"feature2\": 0.6543597816254411, \"predict\": true}, {\"class\": \"red\", \"split\": \"train\", \"feature1\": 0.8670329971663719, \"feature2\": 0.01858928252420211, \"predict\": true}, {\"class\": \"red\", \"split\": \"train\", \"feature1\": 0.6936108740589277, \"feature2\": 0.11520812296925342, \"predict\": true}, {\"class\": \"red\", \"split\": \"train\", \"feature1\": 0.1419457341169036, \"feature2\": 0.04557592960948775, \"predict\": true}, {\"class\": \"red\", \"split\": \"train\", \"feature1\": 0.9934518707699126, \"feature2\": 0.8112686040372596, \"predict\": true}, {\"class\": \"blue\", \"split\": \"train\", \"feature1\": 0.502791794076176, \"feature2\": 0.2706487336889461, \"predict\": true}, {\"class\": \"red\", \"split\": \"train\", \"feature1\": 0.5378762843465428, \"feature2\": 0.9134724828509284, \"predict\": true}, {\"class\": \"blue\", \"split\": \"train\", \"feature1\": 0.5465287786421291, \"feature2\": 0.2306550352802991, \"predict\": true}, {\"class\": \"red\", \"split\": \"train\", \"feature1\": 0.8140687448966841, \"feature2\": 0.6573472780309629, \"predict\": true}, {\"class\": \"red\", \"split\": \"train\", \"feature1\": 0.8345571051645139, \"feature2\": 0.00667505892910769, \"predict\": true}, {\"class\": \"blue\", \"split\": \"train\", \"feature1\": 0.4359734095682617, \"feature2\": 0.4899514689929698, \"predict\": true}, {\"class\": \"blue\", \"split\": \"train\", \"feature1\": 0.19188317423733606, \"feature2\": 0.6136367140900623, \"predict\": true}, {\"class\": \"red\", \"split\": \"train\", \"feature1\": 0.4449515992047055, \"feature2\": 0.8992929327619408, \"predict\": true}, {\"class\": \"red\", \"split\": \"train\", \"feature1\": 0.6631698715162199, \"feature2\": 0.7630115105305999, \"predict\": true}, {\"class\": \"red\", \"split\": \"train\", \"feature1\": 0.6093442929537344, \"feature2\": 0.09781774791879504, \"predict\": true}, {\"class\": \"blue\", \"split\": \"train\", \"feature1\": 0.3152127865070461, \"feature2\": 0.13333030191789585, \"predict\": true}, {\"class\": \"blue\", \"split\": \"train\", \"feature1\": 0.4371754325105095, \"feature2\": 0.6786552280436257, \"predict\": true}, {\"class\": \"red\", \"split\": \"train\", \"feature1\": 0.8637281057656266, \"feature2\": 0.8608767774299166, \"predict\": true}, {\"class\": \"red\", \"split\": \"train\", \"feature1\": 0.7783955302863746, \"feature2\": 0.13187563989047635, \"predict\": true}, {\"class\": \"blue\", \"split\": \"train\", \"feature1\": 0.14150303170428954, \"feature2\": 0.5313850782152744, \"predict\": true}, {\"class\": \"blue\", \"split\": \"train\", \"feature1\": 0.4296450276410829, \"feature2\": 0.10741979515363154, \"predict\": true}, {\"class\": \"red\", \"split\": \"train\", \"feature1\": 0.7680006519473819, \"feature2\": 0.663003987428848, \"predict\": true}, {\"class\": \"red\", \"split\": \"train\", \"feature1\": 0.9830230518389884, \"feature2\": 0.24288912873550386, \"predict\": true}, {\"class\": \"red\", \"split\": \"train\", \"feature1\": 0.5601256529897728, \"feature2\": 0.7918461034294703, \"predict\": true}, {\"class\": \"red\", \"split\": \"train\", \"feature1\": 0.18872701173026465, \"feature2\": 0.7311492481253674, \"predict\": true}, {\"class\": \"red\", \"split\": \"train\", \"feature1\": 0.8778512268825059, \"feature2\": 0.4292010707027841, \"predict\": true}, {\"class\": \"red\", \"split\": \"train\", \"feature1\": 0.061644425701769874, \"feature2\": 0.05818438577817753, \"predict\": true}, {\"class\": \"blue\", \"split\": \"train\", \"feature1\": 0.4031574019080387, \"feature2\": 0.08664682732003326, \"predict\": true}, {\"class\": \"blue\", \"split\": \"train\", \"feature1\": 0.3502213284356782, \"feature2\": 0.160101609895012, \"predict\": true}, {\"class\": \"red\", \"split\": \"train\", \"feature1\": 0.05053791930060059, \"feature2\": 0.16136506308693074, \"predict\": true}, {\"class\": \"blue\", \"split\": \"train\", \"feature1\": 0.22017794267115945, \"feature2\": 0.35484961722788233, \"predict\": true}, {\"class\": \"red\", \"split\": \"train\", \"feature1\": 0.8611479894891686, \"feature2\": 0.8561407716975609, \"predict\": true}, {\"class\": \"red\", \"split\": \"train\", \"feature1\": 0.07451947962238781, \"feature2\": 0.8199091225718175, \"predict\": true}, {\"class\": \"red\", \"split\": \"train\", \"feature1\": 0.4736073773843189, \"feature2\": 0.08246495992260516, \"predict\": true}, {\"class\": \"red\", \"split\": \"train\", \"feature1\": 0.11986652597888492, \"feature2\": 0.5881917061796866, \"predict\": true}, {\"class\": \"blue\", \"split\": \"train\", \"feature1\": 0.6037215499274547, \"feature2\": 0.5809764851238415, \"predict\": true}, {\"class\": \"red\", \"split\": \"train\", \"feature1\": 0.18536445608354624, \"feature2\": 0.6805441394106682, \"predict\": true}, {\"class\": \"blue\", \"split\": \"train\", \"feature1\": 0.5897393332148626, \"feature2\": 0.16943587590764053, \"predict\": true}, {\"class\": \"blue\", \"split\": \"train\", \"feature1\": 0.4908264356371989, \"feature2\": 0.6911313297977618, \"predict\": true}, {\"class\": \"red\", \"split\": \"train\", \"feature1\": 0.9790507198141056, \"feature2\": 0.5552699430980779, \"predict\": true}, {\"class\": \"blue\", \"split\": \"train\", \"feature1\": 0.5134526635679177, \"feature2\": 0.5316863560869574, \"predict\": true}, {\"class\": \"red\", \"split\": \"train\", \"feature1\": 0.7709239354007718, \"feature2\": 0.3878304923769993, \"predict\": true}, {\"class\": \"red\", \"split\": \"train\", \"feature1\": 0.8870887913120429, \"feature2\": 0.8772318775072901, \"predict\": true}, {\"class\": \"red\", \"split\": \"train\", \"feature1\": 0.9818692465890502, \"feature2\": 0.7571920634398117, \"predict\": true}, {\"class\": \"red\", \"split\": \"train\", \"feature1\": 0.8095623700976485, \"feature2\": 0.5457873448248493, \"predict\": true}, {\"class\": \"red\", \"split\": \"train\", \"feature1\": 0.5644693537345344, \"feature2\": 0.7819679334750773, \"predict\": true}, {\"class\": \"blue\", \"split\": \"train\", \"feature1\": 0.2745556884865015, \"feature2\": 0.5497030824883595, \"predict\": true}, {\"class\": \"blue\", \"split\": \"train\", \"feature1\": 0.46339378153984395, \"feature2\": 0.11306741959565968, \"predict\": true}, {\"class\": \"blue\", \"split\": \"train\", \"feature1\": 0.5460376181087707, \"feature2\": 0.6079263252245206, \"predict\": true}, {\"class\": \"red\", \"split\": \"train\", \"feature1\": 0.9980835215512244, \"feature2\": 0.7084168044695959, \"predict\": true}, {\"class\": \"red\", \"split\": \"train\", \"feature1\": 0.7022361797976148, \"feature2\": 0.2929409770491104, \"predict\": true}, {\"class\": \"red\", \"split\": \"train\", \"feature1\": 0.4332243367788439, \"feature2\": 0.06940593693885623, \"predict\": true}, {\"class\": \"blue\", \"split\": \"train\", \"feature1\": 0.33867175745379186, \"feature2\": 0.3687973433104518, \"predict\": true}, {\"class\": \"blue\", \"split\": \"train\", \"feature1\": 0.4395954367932001, \"feature2\": 0.13018427246425124, \"predict\": true}, {\"class\": \"red\", \"split\": \"train\", \"feature1\": 0.1344466101025925, \"feature2\": 0.7909123357528195, \"predict\": true}, {\"class\": \"red\", \"split\": \"train\", \"feature1\": 0.9479265644641848, \"feature2\": 0.9900618097039244, \"predict\": true}, {\"class\": \"red\", \"split\": \"train\", \"feature1\": 0.8459191862157606, \"feature2\": 0.4778936750529824, \"predict\": true}, {\"class\": \"red\", \"split\": \"train\", \"feature1\": 0.17748221609693704, \"feature2\": 0.13805659690562774, \"predict\": true}, {\"class\": \"red\", \"split\": \"train\", \"feature1\": 0.6091235831330788, \"feature2\": 0.8559256007064474, \"predict\": true}, {\"class\": \"red\", \"split\": \"train\", \"feature1\": 0.032620662955456625, \"feature2\": 0.7006284546449857, \"predict\": true}, {\"class\": \"red\", \"split\": \"train\", \"feature1\": 0.9816006258006608, \"feature2\": 0.13220885778925018, \"predict\": true}, {\"class\": \"red\", \"split\": \"train\", \"feature1\": 0.6176906548808362, \"feature2\": 0.14233405248086872, \"predict\": true}, {\"class\": \"red\", \"split\": \"train\", \"feature1\": 0.7487785742794756, \"feature2\": 0.7010043537052839, \"predict\": true}, {\"class\": \"blue\", \"split\": \"train\", \"feature1\": 0.3551863347203198, \"feature2\": 0.6357382968056278, \"predict\": true}, {\"class\": \"red\", \"split\": \"train\", \"feature1\": 0.43457134422197097, \"feature2\": 0.9920234026374356, \"predict\": true}, {\"class\": \"red\", \"split\": \"train\", \"feature1\": 0.040344149764666826, \"feature2\": 0.3703824474871649, \"predict\": true}, {\"class\": \"blue\", \"split\": \"train\", \"feature1\": 0.5494504333047252, \"feature2\": 0.6268310940537474, \"predict\": true}, {\"class\": \"blue\", \"split\": \"train\", \"feature1\": 0.3276176564035061, \"feature2\": 0.6257230388291658, \"predict\": true}, {\"class\": \"red\", \"split\": \"train\", \"feature1\": 0.402439015556544, \"feature2\": 0.9222953651587552, \"predict\": true}, {\"class\": \"red\", \"split\": \"train\", \"feature1\": 0.112228621535421, \"feature2\": 0.6365855006890905, \"predict\": true}, {\"class\": \"red\", \"split\": \"train\", \"feature1\": 0.8802438970651785, \"feature2\": 0.9000299466851134, \"predict\": true}, {\"class\": \"red\", \"split\": \"train\", \"feature1\": 0.7652686782439544, \"feature2\": 0.3716859782480492, \"predict\": true}, {\"class\": \"red\", \"split\": \"train\", \"feature1\": 0.05266998949457469, \"feature2\": 0.7642997103045953, \"predict\": true}, {\"class\": \"red\", \"split\": \"train\", \"feature1\": 0.8715428782370718, \"feature2\": 0.2666096310027638, \"predict\": true}, {\"class\": \"red\", \"split\": \"train\", \"feature1\": 0.6047146763779608, \"feature2\": 0.7168242776967387, \"predict\": true}, {\"class\": \"blue\", \"split\": \"train\", \"feature1\": 0.5606386644203907, \"feature2\": 0.4926502579275754, \"predict\": true}, {\"class\": \"red\", \"split\": \"train\", \"feature1\": 0.7361518228231234, \"feature2\": 0.18592643966232605, \"predict\": true}, {\"class\": \"red\", \"split\": \"train\", \"feature1\": 0.8304252228792244, \"feature2\": 0.017545952938729292, \"predict\": true}, {\"class\": \"blue\", \"split\": \"train\", \"feature1\": 0.2160256755972549, \"feature2\": 0.1714667870790917, \"predict\": true}, {\"class\": \"red\", \"split\": \"train\", \"feature1\": 0.9272266877692804, \"feature2\": 0.4596439873301348, \"predict\": true}, {\"class\": \"blue\", \"split\": \"train\", \"feature1\": 0.5169740545620681, \"feature2\": 0.5073064762827487, \"predict\": true}, {\"class\": \"red\", \"split\": \"train\", \"feature1\": 0.7865423424436213, \"feature2\": 0.29549400200949005, \"predict\": true}, {\"class\": \"red\", \"split\": \"train\", \"feature1\": 0.06714979097490592, \"feature2\": 0.2681970366198124, \"predict\": true}, {\"class\": \"red\", \"split\": \"train\", \"feature1\": 0.7322602401736842, \"feature2\": 0.3905919003663689, \"predict\": true}, {\"class\": \"red\", \"split\": \"train\", \"feature1\": 0.31331383074488617, \"feature2\": 0.9040978162031428, \"predict\": true}, {\"class\": \"red\", \"split\": \"train\", \"feature1\": 0.30443663040249513, \"feature2\": 0.7025947499518709, \"predict\": true}, {\"class\": \"blue\", \"split\": \"train\", \"feature1\": 0.3311976228687709, \"feature2\": 0.4808222952449414, \"predict\": true}, {\"class\": \"blue\", \"split\": \"train\", \"feature1\": 0.6871364013596052, \"feature2\": 0.3496966722110393, \"predict\": true}, {\"class\": \"red\", \"split\": \"train\", \"feature1\": 0.9200300689489408, \"feature2\": 0.2874781022072309, \"predict\": true}, {\"class\": \"red\", \"split\": \"train\", \"feature1\": 0.013093662693001051, \"feature2\": 0.5809531468914719, \"predict\": true}, {\"class\": \"blue\", \"split\": \"train\", \"feature1\": 0.6186774128122512, \"feature2\": 0.38055318147223616, \"predict\": true}, {\"class\": \"red\", \"split\": \"train\", \"feature1\": 0.8218616930907537, \"feature2\": 0.3693380610410029, \"predict\": true}, {\"class\": \"red\", \"split\": \"train\", \"feature1\": 0.7289502891992055, \"feature2\": 0.9594075138105604, \"predict\": true}, {\"class\": \"red\", \"split\": \"train\", \"feature1\": 0.5651990648218543, \"feature2\": 0.83913045376798, \"predict\": true}, {\"class\": \"blue\", \"split\": \"train\", \"feature1\": 0.4510818276920353, \"feature2\": 0.17616721980609173, \"predict\": true}, {\"class\": \"red\", \"split\": \"train\", \"feature1\": 0.7205045520353154, \"feature2\": 0.9214709017925892, \"predict\": true}, {\"class\": \"red\", \"split\": \"train\", \"feature1\": 0.9070298093713056, \"feature2\": 0.08734620362210876, \"predict\": true}, {\"class\": \"red\", \"split\": \"train\", \"feature1\": 0.8766928552945127, \"feature2\": 0.2879391913542707, \"predict\": true}, {\"class\": \"blue\", \"split\": \"train\", \"feature1\": 0.31729750263728385, \"feature2\": 0.490012573019657, \"predict\": true}, {\"class\": \"red\", \"split\": \"train\", \"feature1\": 0.7374978916129236, \"feature2\": 0.5901384754054927, \"predict\": true}, {\"class\": \"red\", \"split\": \"train\", \"feature1\": 0.8224382865484032, \"feature2\": 0.09315703864978864, \"predict\": true}, {\"class\": \"blue\", \"split\": \"train\", \"feature1\": 0.60579012201161, \"feature2\": 0.5066256103243146, \"predict\": true}, {\"class\": \"blue\", \"split\": \"train\", \"feature1\": 0.4443858920247639, \"feature2\": 0.12283184062834075, \"predict\": true}, {\"class\": \"blue\", \"split\": \"train\", \"feature1\": 0.6308571788939716, \"feature2\": 0.5269085149571686, \"predict\": true}, {\"class\": \"blue\", \"split\": \"train\", \"feature1\": 0.10273089201367536, \"feature2\": 0.3711338788894515, \"predict\": true}, {\"class\": \"blue\", \"split\": \"train\", \"feature1\": 0.2799025236861322, \"feature2\": 0.22895385329692694, \"predict\": true}, {\"class\": \"blue\", \"split\": \"train\", \"feature1\": 0.4531752560530955, \"feature2\": 0.12905700995856195, \"predict\": true}, {\"class\": \"red\", \"split\": \"train\", \"feature1\": 0.4019728860191494, \"feature2\": 0.930904933780154, \"predict\": true}, {\"class\": \"red\", \"split\": \"train\", \"feature1\": 0.6600858468418823, \"feature2\": 0.18641436285805732, \"predict\": true}, {\"class\": \"blue\", \"split\": \"train\", \"feature1\": 0.5189900306231449, \"feature2\": 0.3263637373263315, \"predict\": true}, {\"class\": \"blue\", \"split\": \"train\", \"feature1\": 0.3970283548407624, \"feature2\": 0.3944842215499703, \"predict\": true}, {\"class\": \"blue\", \"split\": \"train\", \"feature1\": 0.11892926818536953, \"feature2\": 0.2575156504997388, \"predict\": true}, {\"class\": \"blue\", \"split\": \"train\", \"feature1\": 0.3329105051991976, \"feature2\": 0.5214115266080575, \"predict\": true}, {\"class\": \"red\", \"split\": \"train\", \"feature1\": 0.7120935285985807, \"feature2\": 0.22302682157313147, \"predict\": true}, {\"class\": \"red\", \"split\": \"train\", \"feature1\": 0.08783568927852015, \"feature2\": 0.8885732101384242, \"predict\": true}, {\"class\": \"blue\", \"split\": \"train\", \"feature1\": 0.3680794618491866, \"feature2\": 0.3345597564668995, \"predict\": true}, {\"class\": \"red\", \"split\": \"train\", \"feature1\": 0.9793312998145574, \"feature2\": 0.027138488404992108, \"predict\": true}, {\"class\": \"red\", \"split\": \"train\", \"feature1\": 0.8052723183504573, \"feature2\": 0.01191322437005471, \"predict\": true}, {\"class\": \"red\", \"split\": \"train\", \"feature1\": 0.8845076394880103, \"feature2\": 0.9965587819250128, \"predict\": true}, {\"class\": \"blue\", \"split\": \"train\", \"feature1\": 0.27147999503704834, \"feature2\": 0.2507405248936011, \"predict\": true}, {\"class\": \"red\", \"split\": \"train\", \"feature1\": 0.5851713901939841, \"feature2\": 0.710981324784337, \"predict\": true}, {\"class\": \"red\", \"split\": \"train\", \"feature1\": 0.849092108947318, \"feature2\": 0.658055658477647, \"predict\": true}, {\"class\": \"red\", \"split\": \"train\", \"feature1\": 0.4702850435585991, \"feature2\": 0.8071757169696651, \"predict\": true}, {\"class\": \"red\", \"split\": \"train\", \"feature1\": 0.7431846867229175, \"feature2\": 0.4815181495196605, \"predict\": true}, {\"class\": \"red\", \"split\": \"train\", \"feature1\": 0.07171621307971843, \"feature2\": 0.4072998218457463, \"predict\": true}, {\"class\": \"red\", \"split\": \"train\", \"feature1\": 0.9209617377389544, \"feature2\": 0.19385098210645324, \"predict\": true}, {\"class\": \"red\", \"split\": \"train\", \"feature1\": 0.6946835650390504, \"feature2\": 0.14241865307545487, \"predict\": true}, {\"class\": \"blue\", \"split\": \"train\", \"feature1\": 0.6155034130122163, \"feature2\": 0.533483972865124, \"predict\": true}, {\"class\": \"red\", \"split\": \"train\", \"feature1\": 0.7137734931040804, \"feature2\": 0.8667983112494825, \"predict\": true}, {\"class\": \"red\", \"split\": \"train\", \"feature1\": 0.10853726556083687, \"feature2\": 0.8946357767975642, \"predict\": true}, {\"class\": \"red\", \"split\": \"train\", \"feature1\": 0.8400673366944509, \"feature2\": 0.33291479822252823, \"predict\": true}, {\"class\": \"blue\", \"split\": \"train\", \"feature1\": 0.6443317800803859, \"feature2\": 0.5379921604166934, \"predict\": true}, {\"class\": \"red\", \"split\": \"train\", \"feature1\": 0.12280750700968812, \"feature2\": 0.8442656887929291, \"predict\": true}, {\"class\": \"blue\", \"split\": \"train\", \"feature1\": 0.491499251056347, \"feature2\": 0.3494572450549124, \"predict\": true}, {\"class\": \"red\", \"split\": \"train\", \"feature1\": 0.6866304286894317, \"feature2\": 0.951305773504344, \"predict\": true}, {\"class\": \"red\", \"split\": \"train\", \"feature1\": 0.418528011548384, \"feature2\": 0.7413346568536417, \"predict\": true}, {\"class\": \"red\", \"split\": \"train\", \"feature1\": 0.0755904615676537, \"feature2\": 0.4982070156691041, \"predict\": true}, {\"class\": \"blue\", \"split\": \"train\", \"feature1\": 0.4315818373925403, \"feature2\": 0.4721280176300092, \"predict\": true}, {\"class\": \"red\", \"split\": \"train\", \"feature1\": 0.9498129018588176, \"feature2\": 0.48237621283177207, \"predict\": true}, {\"class\": \"red\", \"split\": \"train\", \"feature1\": 0.6440022241360615, \"feature2\": 0.7250547382205166, \"predict\": true}, {\"class\": \"red\", \"split\": \"train\", \"feature1\": 0.09301171693094899, \"feature2\": 0.9643014356367168, \"predict\": true}, {\"class\": \"red\", \"split\": \"train\", \"feature1\": 0.06500971288144886, \"feature2\": 0.9072225638169712, \"predict\": true}, {\"class\": \"red\", \"split\": \"train\", \"feature1\": 0.05186649328117077, \"feature2\": 0.05868423822764635, \"predict\": true}, {\"class\": \"red\", \"split\": \"train\", \"feature1\": 0.07411915653259983, \"feature2\": 0.8987623540904244, \"predict\": true}, {\"class\": \"blue\", \"split\": \"train\", \"feature1\": 0.1913119427776866, \"feature2\": 0.5511593643531247, \"predict\": true}, {\"class\": \"red\", \"split\": \"train\", \"feature1\": 0.8743547336824805, \"feature2\": 0.9771283820937048, \"predict\": true}, {\"class\": \"red\", \"split\": \"train\", \"feature1\": 0.6146613340082038, \"feature2\": 0.025320293728713583, \"predict\": true}, {\"class\": \"red\", \"split\": \"train\", \"feature1\": 0.13168810385051322, \"feature2\": 0.13498500963467674, \"predict\": true}, {\"class\": \"red\", \"split\": \"train\", \"feature1\": 0.7016356466008596, \"feature2\": 0.2742528730343964, \"predict\": true}, {\"class\": \"blue\", \"split\": \"train\", \"feature1\": 0.3897474563552902, \"feature2\": 0.5310909557693105, \"predict\": true}, {\"class\": \"blue\", \"split\": \"train\", \"feature1\": 0.3800670963218261, \"feature2\": 0.38943490124083735, \"predict\": true}, {\"class\": \"blue\", \"split\": \"train\", \"feature1\": 0.606068053003426, \"feature2\": 0.3166390999238423, \"predict\": true}, {\"class\": \"red\", \"split\": \"train\", \"feature1\": 0.7441165333565083, \"feature2\": 0.12275548762895938, \"predict\": true}, {\"class\": \"red\", \"split\": \"train\", \"feature1\": 0.9795337729412484, \"feature2\": 0.9206287997407062, \"predict\": true}, {\"class\": \"blue\", \"split\": \"test\", \"feature1\": 0.5947123779364972, \"feature2\": 0.4184431984224212, \"predict\": true}, {\"class\": \"red\", \"split\": \"test\", \"feature1\": 0.10212089595866948, \"feature2\": 0.8470915197535394, \"predict\": true}, {\"class\": \"red\", \"split\": \"test\", \"feature1\": 0.08241793424527177, \"feature2\": 0.4749600634064892, \"predict\": true}, {\"class\": \"red\", \"split\": \"test\", \"feature1\": 0.1972404719838915, \"feature2\": 0.7809036079056232, \"predict\": true}, {\"class\": \"red\", \"split\": \"test\", \"feature1\": 0.7895927515473876, \"feature2\": 0.2972487447789878, \"predict\": true}, {\"class\": \"blue\", \"split\": \"test\", \"feature1\": 0.4627427704014141, \"feature2\": 0.22853552328783802, \"predict\": true}, {\"class\": \"red\", \"split\": \"test\", \"feature1\": 0.12639931348363198, \"feature2\": 0.99193671267224, \"predict\": true}, {\"class\": \"blue\", \"split\": \"test\", \"feature1\": 0.3918610364673208, \"feature2\": 0.7134522980269807, \"predict\": true}, {\"class\": \"blue\", \"split\": \"test\", \"feature1\": 0.6338292943524457, \"feature2\": 0.3647996203002681, \"predict\": true}, {\"class\": \"blue\", \"split\": \"test\", \"feature1\": 0.38283547222641795, \"feature2\": 0.4331657129987857, \"predict\": true}, {\"class\": \"red\", \"split\": \"test\", \"feature1\": 0.5275016606981965, \"feature2\": 0.10826363023078256, \"predict\": true}, {\"class\": \"red\", \"split\": \"test\", \"feature1\": 0.719390005647892, \"feature2\": 0.18023887585442974, \"predict\": true}, {\"class\": \"red\", \"split\": \"test\", \"feature1\": 0.7936431820568299, \"feature2\": 0.7658960412353872, \"predict\": true}, {\"class\": \"red\", \"split\": \"test\", \"feature1\": 0.05219800072149328, \"feature2\": 0.9142200457947152, \"predict\": true}, {\"class\": \"red\", \"split\": \"test\", \"feature1\": 0.9637750047837168, \"feature2\": 0.17607520472557858, \"predict\": true}, {\"class\": \"blue\", \"split\": \"test\", \"feature1\": 0.4370352779062219, \"feature2\": 0.40932143113614894, \"predict\": true}, {\"class\": \"red\", \"split\": \"test\", \"feature1\": 0.3756547788429472, \"feature2\": 0.7336637045744713, \"predict\": true}, {\"class\": \"red\", \"split\": \"test\", \"feature1\": 0.6750039694014645, \"feature2\": 0.8325578560027729, \"predict\": true}, {\"class\": \"blue\", \"split\": \"test\", \"feature1\": 0.1854554126295409, \"feature2\": 0.6043391989680429, \"predict\": true}, {\"class\": \"blue\", \"split\": \"test\", \"feature1\": 0.35515091958160183, \"feature2\": 0.2566116401933306, \"predict\": true}, {\"class\": \"blue\", \"split\": \"test\", \"feature1\": 0.4519637727597766, \"feature2\": 0.28051914044606474, \"predict\": true}, {\"class\": \"red\", \"split\": \"test\", \"feature1\": 0.329906954342145, \"feature2\": 0.7094267581868646, \"predict\": true}, {\"class\": \"red\", \"split\": \"test\", \"feature1\": 0.92721048771271, \"feature2\": 0.5330494824027734, \"predict\": true}, {\"class\": \"red\", \"split\": \"test\", \"feature1\": 0.027352429567828133, \"feature2\": 0.3132967526594679, \"predict\": true}, {\"class\": \"red\", \"split\": \"test\", \"feature1\": 0.8864985577815218, \"feature2\": 0.07947789245265713, \"predict\": true}, {\"class\": \"red\", \"split\": \"test\", \"feature1\": 0.9216576407588104, \"feature2\": 0.6352143281768561, \"predict\": true}, {\"class\": \"red\", \"split\": \"test\", \"feature1\": 0.09863670483748588, \"feature2\": 0.6986373510476397, \"predict\": true}, {\"class\": \"red\", \"split\": \"test\", \"feature1\": 0.7923754659910697, \"feature2\": 0.8926014016285445, \"predict\": true}, {\"class\": \"red\", \"split\": \"test\", \"feature1\": 0.2950409417082733, \"feature2\": 0.7499201915858024, \"predict\": true}, {\"class\": \"red\", \"split\": \"test\", \"feature1\": 0.7474401830225059, \"feature2\": 0.0744640910990434, \"predict\": true}, {\"class\": \"blue\", \"split\": \"test\", \"feature1\": 0.3990631753299725, \"feature2\": 0.5282763668695706, \"predict\": true}, {\"class\": \"blue\", \"split\": \"test\", \"feature1\": 0.3737802975726896, \"feature2\": 0.30063106080092583, \"predict\": true}, {\"class\": \"red\", \"split\": \"test\", \"feature1\": 0.9217654576783272, \"feature2\": 0.5456981989851489, \"predict\": true}, {\"class\": \"red\", \"split\": \"test\", \"feature1\": 0.8161130903533922, \"feature2\": 0.7506640038330163, \"predict\": true}, {\"class\": \"red\", \"split\": \"test\", \"feature1\": 0.5885448419354444, \"feature2\": 0.046874331932943325, \"predict\": true}, {\"class\": \"red\", \"split\": \"test\", \"feature1\": 0.05516924386432065, \"feature2\": 0.6701680992527638, \"predict\": true}, {\"class\": \"red\", \"split\": \"test\", \"feature1\": 0.03506912316162025, \"feature2\": 0.4572453497256137, \"predict\": true}, {\"class\": \"red\", \"split\": \"test\", \"feature1\": 0.8510523177487439, \"feature2\": 0.9096062472893536, \"predict\": true}, {\"class\": \"red\", \"split\": \"test\", \"feature1\": 0.9437689195449004, \"feature2\": 0.32075670157860625, \"predict\": true}, {\"class\": \"red\", \"split\": \"test\", \"feature1\": 0.5548100014520638, \"feature2\": 0.8162882070209203, \"predict\": true}, {\"class\": \"red\", \"split\": \"test\", \"feature1\": 0.7186266637198724, \"feature2\": 0.8570926954934965, \"predict\": true}, {\"class\": \"red\", \"split\": \"test\", \"feature1\": 0.7998723298433006, \"feature2\": 0.7893965362366465, \"predict\": true}, {\"class\": \"blue\", \"split\": \"test\", \"feature1\": 0.4449447444218621, \"feature2\": 0.21464777346933092, \"predict\": true}, {\"class\": \"blue\", \"split\": \"test\", \"feature1\": 0.5932944928012519, \"feature2\": 0.5174794109348828, \"predict\": true}, {\"class\": \"red\", \"split\": \"test\", \"feature1\": 0.7202471854066825, \"feature2\": 0.6073235353884741, \"predict\": true}, {\"class\": \"red\", \"split\": \"test\", \"feature1\": 0.4546583763017882, \"feature2\": 0.8732331539630903, \"predict\": true}, {\"class\": \"red\", \"split\": \"test\", \"feature1\": 0.3113424645815732, \"feature2\": 0.09034273972733298, \"predict\": true}, {\"class\": \"red\", \"split\": \"test\", \"feature1\": 0.2472599109965312, \"feature2\": 0.7350235540149609, \"predict\": true}, {\"class\": \"red\", \"split\": \"test\", \"feature1\": 0.9875057327051636, \"feature2\": 0.5450498088682809, \"predict\": true}, {\"class\": \"red\", \"split\": \"test\", \"feature1\": 0.08228760062980545, \"feature2\": 0.7342463192246313, \"predict\": true}]}}, {\"mode\": \"vega-lite\"});\n",
              "</script>"
            ]
          },
          "metadata": {
            "tags": []
          },
          "execution_count": 8
        }
      ]
    },
    {
      "cell_type": "markdown",
      "metadata": {
        "id": "d78a0eba"
      },
      "source": [
        "### Review Exercise"
      ],
      "id": "d78a0eba"
    },
    {
      "cell_type": "markdown",
      "metadata": {
        "id": "9d57a950"
      },
      "source": [
        "Change the model above to have three inner layers with the first having size 10, the second size 5, and the third having size 5. How well does this do on our problem?"
      ],
      "id": "9d57a950"
    },
    {
      "cell_type": "code",
      "metadata": {
        "execution": {
          "iopub.execute_input": "2021-08-02T20:00:42.523048Z",
          "iopub.status.busy": "2021-08-02T20:00:42.522773Z",
          "iopub.status.idle": "2021-08-02T20:00:42.525308Z",
          "shell.execute_reply": "2021-08-02T20:00:42.525524Z"
        },
        "id": "a81a3837"
      },
      "source": [
        "#📝📝📝📝 FILLME\n"
      ],
      "id": "a81a3837",
      "execution_count": null,
      "outputs": []
    },
    {
      "cell_type": "markdown",
      "metadata": {
        "id": "be8c2301"
      },
      "source": [
        "## Unit A"
      ],
      "id": "be8c2301"
    },
    {
      "cell_type": "markdown",
      "metadata": {
        "id": "5479eb27"
      },
      "source": [
        "### Image Classification"
      ],
      "id": "5479eb27"
    },
    {
      "cell_type": "markdown",
      "metadata": {
        "id": "f16ec38b"
      },
      "source": [
        "Today's focus will be the problem of image classification. The goal is to take an\n",
        "image and predict the image class. So instead of predicting whether a point is\n",
        "red or blue we will now be predicting whether an image is a cat or a dog, or a\n",
        "house or a plane."
      ],
      "id": "f16ec38b"
    },
    {
      "cell_type": "markdown",
      "metadata": {
        "id": "04ed9b2f"
      },
      "source": [
        "We are going to start with a famous simple image classification tasks known as\n",
        "MNist. This dataset consists of pictures of hand-written numbers. The goal is to\n",
        "look at the handwriting and determine what the number is."
      ],
      "id": "04ed9b2f"
    },
    {
      "cell_type": "markdown",
      "metadata": {
        "id": "3faf224f"
      },
      "source": [
        "Let's start with an image classification task. We will be using the [MNIST dataset](http://yann.lecun.com/exdb/mnist/), where the goal is to recognize handwritten digits."
      ],
      "id": "3faf224f"
    },
    {
      "cell_type": "code",
      "metadata": {
        "execution": {
          "iopub.execute_input": "2021-08-02T20:00:42.530731Z",
          "iopub.status.busy": "2021-08-02T20:00:42.530383Z",
          "iopub.status.idle": "2021-08-02T20:00:45.396240Z",
          "shell.execute_reply": "2021-08-02T20:00:45.397025Z"
        },
        "id": "5d0e46b3",
        "colab": {
          "base_uri": "https://localhost:8080/",
          "height": 437
        },
        "outputId": "cd468659-72bd-448c-8296-1fd3096ff395"
      },
      "source": [
        "df_train = pd.read_csv('https://srush.github.io/BT-AI/notebooks/mnist_train.csv.gz', compression='gzip')\n",
        "df_test = pd.read_csv('https://srush.github.io/BT-AI/notebooks/mnist_test.csv.gz', compression='gzip')\n",
        "df_train[:100]"
      ],
      "id": "5d0e46b3",
      "execution_count": null,
      "outputs": [
        {
          "output_type": "execute_result",
          "data": {
            "text/html": [
              "<div>\n",
              "<style scoped>\n",
              "    .dataframe tbody tr th:only-of-type {\n",
              "        vertical-align: middle;\n",
              "    }\n",
              "\n",
              "    .dataframe tbody tr th {\n",
              "        vertical-align: top;\n",
              "    }\n",
              "\n",
              "    .dataframe thead th {\n",
              "        text-align: right;\n",
              "    }\n",
              "</style>\n",
              "<table border=\"1\" class=\"dataframe\">\n",
              "  <thead>\n",
              "    <tr style=\"text-align: right;\">\n",
              "      <th></th>\n",
              "      <th>class</th>\n",
              "      <th>1x1</th>\n",
              "      <th>1x2</th>\n",
              "      <th>1x3</th>\n",
              "      <th>1x4</th>\n",
              "      <th>1x5</th>\n",
              "      <th>1x6</th>\n",
              "      <th>1x7</th>\n",
              "      <th>1x8</th>\n",
              "      <th>1x9</th>\n",
              "      <th>1x10</th>\n",
              "      <th>1x11</th>\n",
              "      <th>1x12</th>\n",
              "      <th>1x13</th>\n",
              "      <th>1x14</th>\n",
              "      <th>1x15</th>\n",
              "      <th>1x16</th>\n",
              "      <th>1x17</th>\n",
              "      <th>1x18</th>\n",
              "      <th>1x19</th>\n",
              "      <th>1x20</th>\n",
              "      <th>1x21</th>\n",
              "      <th>1x22</th>\n",
              "      <th>1x23</th>\n",
              "      <th>1x24</th>\n",
              "      <th>1x25</th>\n",
              "      <th>1x26</th>\n",
              "      <th>1x27</th>\n",
              "      <th>1x28</th>\n",
              "      <th>2x1</th>\n",
              "      <th>2x2</th>\n",
              "      <th>2x3</th>\n",
              "      <th>2x4</th>\n",
              "      <th>2x5</th>\n",
              "      <th>2x6</th>\n",
              "      <th>2x7</th>\n",
              "      <th>2x8</th>\n",
              "      <th>2x9</th>\n",
              "      <th>2x10</th>\n",
              "      <th>2x11</th>\n",
              "      <th>...</th>\n",
              "      <th>27x17</th>\n",
              "      <th>27x18</th>\n",
              "      <th>27x19</th>\n",
              "      <th>27x20</th>\n",
              "      <th>27x21</th>\n",
              "      <th>27x22</th>\n",
              "      <th>27x23</th>\n",
              "      <th>27x24</th>\n",
              "      <th>27x25</th>\n",
              "      <th>27x26</th>\n",
              "      <th>27x27</th>\n",
              "      <th>27x28</th>\n",
              "      <th>28x1</th>\n",
              "      <th>28x2</th>\n",
              "      <th>28x3</th>\n",
              "      <th>28x4</th>\n",
              "      <th>28x5</th>\n",
              "      <th>28x6</th>\n",
              "      <th>28x7</th>\n",
              "      <th>28x8</th>\n",
              "      <th>28x9</th>\n",
              "      <th>28x10</th>\n",
              "      <th>28x11</th>\n",
              "      <th>28x12</th>\n",
              "      <th>28x13</th>\n",
              "      <th>28x14</th>\n",
              "      <th>28x15</th>\n",
              "      <th>28x16</th>\n",
              "      <th>28x17</th>\n",
              "      <th>28x18</th>\n",
              "      <th>28x19</th>\n",
              "      <th>28x20</th>\n",
              "      <th>28x21</th>\n",
              "      <th>28x22</th>\n",
              "      <th>28x23</th>\n",
              "      <th>28x24</th>\n",
              "      <th>28x25</th>\n",
              "      <th>28x26</th>\n",
              "      <th>28x27</th>\n",
              "      <th>28x28</th>\n",
              "    </tr>\n",
              "  </thead>\n",
              "  <tbody>\n",
              "    <tr>\n",
              "      <th>0</th>\n",
              "      <td>5</td>\n",
              "      <td>0</td>\n",
              "      <td>0</td>\n",
              "      <td>0</td>\n",
              "      <td>0</td>\n",
              "      <td>0</td>\n",
              "      <td>0</td>\n",
              "      <td>0</td>\n",
              "      <td>0</td>\n",
              "      <td>0</td>\n",
              "      <td>0</td>\n",
              "      <td>0</td>\n",
              "      <td>0</td>\n",
              "      <td>0</td>\n",
              "      <td>0</td>\n",
              "      <td>0</td>\n",
              "      <td>0</td>\n",
              "      <td>0</td>\n",
              "      <td>0</td>\n",
              "      <td>0</td>\n",
              "      <td>0</td>\n",
              "      <td>0</td>\n",
              "      <td>0</td>\n",
              "      <td>0</td>\n",
              "      <td>0</td>\n",
              "      <td>0</td>\n",
              "      <td>0</td>\n",
              "      <td>0</td>\n",
              "      <td>0</td>\n",
              "      <td>0</td>\n",
              "      <td>0</td>\n",
              "      <td>0</td>\n",
              "      <td>0</td>\n",
              "      <td>0</td>\n",
              "      <td>0</td>\n",
              "      <td>0</td>\n",
              "      <td>0</td>\n",
              "      <td>0</td>\n",
              "      <td>0</td>\n",
              "      <td>0</td>\n",
              "      <td>...</td>\n",
              "      <td>0</td>\n",
              "      <td>0</td>\n",
              "      <td>0</td>\n",
              "      <td>0</td>\n",
              "      <td>0</td>\n",
              "      <td>0</td>\n",
              "      <td>0</td>\n",
              "      <td>0</td>\n",
              "      <td>0</td>\n",
              "      <td>0</td>\n",
              "      <td>0</td>\n",
              "      <td>0</td>\n",
              "      <td>0</td>\n",
              "      <td>0</td>\n",
              "      <td>0</td>\n",
              "      <td>0</td>\n",
              "      <td>0</td>\n",
              "      <td>0</td>\n",
              "      <td>0</td>\n",
              "      <td>0</td>\n",
              "      <td>0</td>\n",
              "      <td>0</td>\n",
              "      <td>0</td>\n",
              "      <td>0</td>\n",
              "      <td>0</td>\n",
              "      <td>0</td>\n",
              "      <td>0</td>\n",
              "      <td>0</td>\n",
              "      <td>0</td>\n",
              "      <td>0</td>\n",
              "      <td>0</td>\n",
              "      <td>0</td>\n",
              "      <td>0</td>\n",
              "      <td>0</td>\n",
              "      <td>0</td>\n",
              "      <td>0</td>\n",
              "      <td>0</td>\n",
              "      <td>0</td>\n",
              "      <td>0</td>\n",
              "      <td>0</td>\n",
              "    </tr>\n",
              "    <tr>\n",
              "      <th>1</th>\n",
              "      <td>0</td>\n",
              "      <td>0</td>\n",
              "      <td>0</td>\n",
              "      <td>0</td>\n",
              "      <td>0</td>\n",
              "      <td>0</td>\n",
              "      <td>0</td>\n",
              "      <td>0</td>\n",
              "      <td>0</td>\n",
              "      <td>0</td>\n",
              "      <td>0</td>\n",
              "      <td>0</td>\n",
              "      <td>0</td>\n",
              "      <td>0</td>\n",
              "      <td>0</td>\n",
              "      <td>0</td>\n",
              "      <td>0</td>\n",
              "      <td>0</td>\n",
              "      <td>0</td>\n",
              "      <td>0</td>\n",
              "      <td>0</td>\n",
              "      <td>0</td>\n",
              "      <td>0</td>\n",
              "      <td>0</td>\n",
              "      <td>0</td>\n",
              "      <td>0</td>\n",
              "      <td>0</td>\n",
              "      <td>0</td>\n",
              "      <td>0</td>\n",
              "      <td>0</td>\n",
              "      <td>0</td>\n",
              "      <td>0</td>\n",
              "      <td>0</td>\n",
              "      <td>0</td>\n",
              "      <td>0</td>\n",
              "      <td>0</td>\n",
              "      <td>0</td>\n",
              "      <td>0</td>\n",
              "      <td>0</td>\n",
              "      <td>0</td>\n",
              "      <td>...</td>\n",
              "      <td>0</td>\n",
              "      <td>0</td>\n",
              "      <td>0</td>\n",
              "      <td>0</td>\n",
              "      <td>0</td>\n",
              "      <td>0</td>\n",
              "      <td>0</td>\n",
              "      <td>0</td>\n",
              "      <td>0</td>\n",
              "      <td>0</td>\n",
              "      <td>0</td>\n",
              "      <td>0</td>\n",
              "      <td>0</td>\n",
              "      <td>0</td>\n",
              "      <td>0</td>\n",
              "      <td>0</td>\n",
              "      <td>0</td>\n",
              "      <td>0</td>\n",
              "      <td>0</td>\n",
              "      <td>0</td>\n",
              "      <td>0</td>\n",
              "      <td>0</td>\n",
              "      <td>0</td>\n",
              "      <td>0</td>\n",
              "      <td>0</td>\n",
              "      <td>0</td>\n",
              "      <td>0</td>\n",
              "      <td>0</td>\n",
              "      <td>0</td>\n",
              "      <td>0</td>\n",
              "      <td>0</td>\n",
              "      <td>0</td>\n",
              "      <td>0</td>\n",
              "      <td>0</td>\n",
              "      <td>0</td>\n",
              "      <td>0</td>\n",
              "      <td>0</td>\n",
              "      <td>0</td>\n",
              "      <td>0</td>\n",
              "      <td>0</td>\n",
              "    </tr>\n",
              "    <tr>\n",
              "      <th>2</th>\n",
              "      <td>4</td>\n",
              "      <td>0</td>\n",
              "      <td>0</td>\n",
              "      <td>0</td>\n",
              "      <td>0</td>\n",
              "      <td>0</td>\n",
              "      <td>0</td>\n",
              "      <td>0</td>\n",
              "      <td>0</td>\n",
              "      <td>0</td>\n",
              "      <td>0</td>\n",
              "      <td>0</td>\n",
              "      <td>0</td>\n",
              "      <td>0</td>\n",
              "      <td>0</td>\n",
              "      <td>0</td>\n",
              "      <td>0</td>\n",
              "      <td>0</td>\n",
              "      <td>0</td>\n",
              "      <td>0</td>\n",
              "      <td>0</td>\n",
              "      <td>0</td>\n",
              "      <td>0</td>\n",
              "      <td>0</td>\n",
              "      <td>0</td>\n",
              "      <td>0</td>\n",
              "      <td>0</td>\n",
              "      <td>0</td>\n",
              "      <td>0</td>\n",
              "      <td>0</td>\n",
              "      <td>0</td>\n",
              "      <td>0</td>\n",
              "      <td>0</td>\n",
              "      <td>0</td>\n",
              "      <td>0</td>\n",
              "      <td>0</td>\n",
              "      <td>0</td>\n",
              "      <td>0</td>\n",
              "      <td>0</td>\n",
              "      <td>0</td>\n",
              "      <td>...</td>\n",
              "      <td>0</td>\n",
              "      <td>0</td>\n",
              "      <td>0</td>\n",
              "      <td>0</td>\n",
              "      <td>0</td>\n",
              "      <td>0</td>\n",
              "      <td>0</td>\n",
              "      <td>0</td>\n",
              "      <td>0</td>\n",
              "      <td>0</td>\n",
              "      <td>0</td>\n",
              "      <td>0</td>\n",
              "      <td>0</td>\n",
              "      <td>0</td>\n",
              "      <td>0</td>\n",
              "      <td>0</td>\n",
              "      <td>0</td>\n",
              "      <td>0</td>\n",
              "      <td>0</td>\n",
              "      <td>0</td>\n",
              "      <td>0</td>\n",
              "      <td>0</td>\n",
              "      <td>0</td>\n",
              "      <td>0</td>\n",
              "      <td>0</td>\n",
              "      <td>0</td>\n",
              "      <td>0</td>\n",
              "      <td>0</td>\n",
              "      <td>0</td>\n",
              "      <td>0</td>\n",
              "      <td>0</td>\n",
              "      <td>0</td>\n",
              "      <td>0</td>\n",
              "      <td>0</td>\n",
              "      <td>0</td>\n",
              "      <td>0</td>\n",
              "      <td>0</td>\n",
              "      <td>0</td>\n",
              "      <td>0</td>\n",
              "      <td>0</td>\n",
              "    </tr>\n",
              "    <tr>\n",
              "      <th>3</th>\n",
              "      <td>1</td>\n",
              "      <td>0</td>\n",
              "      <td>0</td>\n",
              "      <td>0</td>\n",
              "      <td>0</td>\n",
              "      <td>0</td>\n",
              "      <td>0</td>\n",
              "      <td>0</td>\n",
              "      <td>0</td>\n",
              "      <td>0</td>\n",
              "      <td>0</td>\n",
              "      <td>0</td>\n",
              "      <td>0</td>\n",
              "      <td>0</td>\n",
              "      <td>0</td>\n",
              "      <td>0</td>\n",
              "      <td>0</td>\n",
              "      <td>0</td>\n",
              "      <td>0</td>\n",
              "      <td>0</td>\n",
              "      <td>0</td>\n",
              "      <td>0</td>\n",
              "      <td>0</td>\n",
              "      <td>0</td>\n",
              "      <td>0</td>\n",
              "      <td>0</td>\n",
              "      <td>0</td>\n",
              "      <td>0</td>\n",
              "      <td>0</td>\n",
              "      <td>0</td>\n",
              "      <td>0</td>\n",
              "      <td>0</td>\n",
              "      <td>0</td>\n",
              "      <td>0</td>\n",
              "      <td>0</td>\n",
              "      <td>0</td>\n",
              "      <td>0</td>\n",
              "      <td>0</td>\n",
              "      <td>0</td>\n",
              "      <td>0</td>\n",
              "      <td>...</td>\n",
              "      <td>0</td>\n",
              "      <td>0</td>\n",
              "      <td>0</td>\n",
              "      <td>0</td>\n",
              "      <td>0</td>\n",
              "      <td>0</td>\n",
              "      <td>0</td>\n",
              "      <td>0</td>\n",
              "      <td>0</td>\n",
              "      <td>0</td>\n",
              "      <td>0</td>\n",
              "      <td>0</td>\n",
              "      <td>0</td>\n",
              "      <td>0</td>\n",
              "      <td>0</td>\n",
              "      <td>0</td>\n",
              "      <td>0</td>\n",
              "      <td>0</td>\n",
              "      <td>0</td>\n",
              "      <td>0</td>\n",
              "      <td>0</td>\n",
              "      <td>0</td>\n",
              "      <td>0</td>\n",
              "      <td>0</td>\n",
              "      <td>0</td>\n",
              "      <td>0</td>\n",
              "      <td>0</td>\n",
              "      <td>0</td>\n",
              "      <td>0</td>\n",
              "      <td>0</td>\n",
              "      <td>0</td>\n",
              "      <td>0</td>\n",
              "      <td>0</td>\n",
              "      <td>0</td>\n",
              "      <td>0</td>\n",
              "      <td>0</td>\n",
              "      <td>0</td>\n",
              "      <td>0</td>\n",
              "      <td>0</td>\n",
              "      <td>0</td>\n",
              "    </tr>\n",
              "    <tr>\n",
              "      <th>4</th>\n",
              "      <td>9</td>\n",
              "      <td>0</td>\n",
              "      <td>0</td>\n",
              "      <td>0</td>\n",
              "      <td>0</td>\n",
              "      <td>0</td>\n",
              "      <td>0</td>\n",
              "      <td>0</td>\n",
              "      <td>0</td>\n",
              "      <td>0</td>\n",
              "      <td>0</td>\n",
              "      <td>0</td>\n",
              "      <td>0</td>\n",
              "      <td>0</td>\n",
              "      <td>0</td>\n",
              "      <td>0</td>\n",
              "      <td>0</td>\n",
              "      <td>0</td>\n",
              "      <td>0</td>\n",
              "      <td>0</td>\n",
              "      <td>0</td>\n",
              "      <td>0</td>\n",
              "      <td>0</td>\n",
              "      <td>0</td>\n",
              "      <td>0</td>\n",
              "      <td>0</td>\n",
              "      <td>0</td>\n",
              "      <td>0</td>\n",
              "      <td>0</td>\n",
              "      <td>0</td>\n",
              "      <td>0</td>\n",
              "      <td>0</td>\n",
              "      <td>0</td>\n",
              "      <td>0</td>\n",
              "      <td>0</td>\n",
              "      <td>0</td>\n",
              "      <td>0</td>\n",
              "      <td>0</td>\n",
              "      <td>0</td>\n",
              "      <td>0</td>\n",
              "      <td>...</td>\n",
              "      <td>147</td>\n",
              "      <td>252</td>\n",
              "      <td>42</td>\n",
              "      <td>0</td>\n",
              "      <td>0</td>\n",
              "      <td>0</td>\n",
              "      <td>0</td>\n",
              "      <td>0</td>\n",
              "      <td>0</td>\n",
              "      <td>0</td>\n",
              "      <td>0</td>\n",
              "      <td>0</td>\n",
              "      <td>0</td>\n",
              "      <td>0</td>\n",
              "      <td>0</td>\n",
              "      <td>0</td>\n",
              "      <td>0</td>\n",
              "      <td>0</td>\n",
              "      <td>0</td>\n",
              "      <td>0</td>\n",
              "      <td>0</td>\n",
              "      <td>0</td>\n",
              "      <td>0</td>\n",
              "      <td>0</td>\n",
              "      <td>0</td>\n",
              "      <td>0</td>\n",
              "      <td>0</td>\n",
              "      <td>0</td>\n",
              "      <td>0</td>\n",
              "      <td>0</td>\n",
              "      <td>0</td>\n",
              "      <td>0</td>\n",
              "      <td>0</td>\n",
              "      <td>0</td>\n",
              "      <td>0</td>\n",
              "      <td>0</td>\n",
              "      <td>0</td>\n",
              "      <td>0</td>\n",
              "      <td>0</td>\n",
              "      <td>0</td>\n",
              "    </tr>\n",
              "    <tr>\n",
              "      <th>...</th>\n",
              "      <td>...</td>\n",
              "      <td>...</td>\n",
              "      <td>...</td>\n",
              "      <td>...</td>\n",
              "      <td>...</td>\n",
              "      <td>...</td>\n",
              "      <td>...</td>\n",
              "      <td>...</td>\n",
              "      <td>...</td>\n",
              "      <td>...</td>\n",
              "      <td>...</td>\n",
              "      <td>...</td>\n",
              "      <td>...</td>\n",
              "      <td>...</td>\n",
              "      <td>...</td>\n",
              "      <td>...</td>\n",
              "      <td>...</td>\n",
              "      <td>...</td>\n",
              "      <td>...</td>\n",
              "      <td>...</td>\n",
              "      <td>...</td>\n",
              "      <td>...</td>\n",
              "      <td>...</td>\n",
              "      <td>...</td>\n",
              "      <td>...</td>\n",
              "      <td>...</td>\n",
              "      <td>...</td>\n",
              "      <td>...</td>\n",
              "      <td>...</td>\n",
              "      <td>...</td>\n",
              "      <td>...</td>\n",
              "      <td>...</td>\n",
              "      <td>...</td>\n",
              "      <td>...</td>\n",
              "      <td>...</td>\n",
              "      <td>...</td>\n",
              "      <td>...</td>\n",
              "      <td>...</td>\n",
              "      <td>...</td>\n",
              "      <td>...</td>\n",
              "      <td>...</td>\n",
              "      <td>...</td>\n",
              "      <td>...</td>\n",
              "      <td>...</td>\n",
              "      <td>...</td>\n",
              "      <td>...</td>\n",
              "      <td>...</td>\n",
              "      <td>...</td>\n",
              "      <td>...</td>\n",
              "      <td>...</td>\n",
              "      <td>...</td>\n",
              "      <td>...</td>\n",
              "      <td>...</td>\n",
              "      <td>...</td>\n",
              "      <td>...</td>\n",
              "      <td>...</td>\n",
              "      <td>...</td>\n",
              "      <td>...</td>\n",
              "      <td>...</td>\n",
              "      <td>...</td>\n",
              "      <td>...</td>\n",
              "      <td>...</td>\n",
              "      <td>...</td>\n",
              "      <td>...</td>\n",
              "      <td>...</td>\n",
              "      <td>...</td>\n",
              "      <td>...</td>\n",
              "      <td>...</td>\n",
              "      <td>...</td>\n",
              "      <td>...</td>\n",
              "      <td>...</td>\n",
              "      <td>...</td>\n",
              "      <td>...</td>\n",
              "      <td>...</td>\n",
              "      <td>...</td>\n",
              "      <td>...</td>\n",
              "      <td>...</td>\n",
              "      <td>...</td>\n",
              "      <td>...</td>\n",
              "      <td>...</td>\n",
              "      <td>...</td>\n",
              "    </tr>\n",
              "    <tr>\n",
              "      <th>95</th>\n",
              "      <td>0</td>\n",
              "      <td>0</td>\n",
              "      <td>0</td>\n",
              "      <td>0</td>\n",
              "      <td>0</td>\n",
              "      <td>0</td>\n",
              "      <td>0</td>\n",
              "      <td>0</td>\n",
              "      <td>0</td>\n",
              "      <td>0</td>\n",
              "      <td>0</td>\n",
              "      <td>0</td>\n",
              "      <td>0</td>\n",
              "      <td>0</td>\n",
              "      <td>0</td>\n",
              "      <td>0</td>\n",
              "      <td>0</td>\n",
              "      <td>0</td>\n",
              "      <td>0</td>\n",
              "      <td>0</td>\n",
              "      <td>0</td>\n",
              "      <td>0</td>\n",
              "      <td>0</td>\n",
              "      <td>0</td>\n",
              "      <td>0</td>\n",
              "      <td>0</td>\n",
              "      <td>0</td>\n",
              "      <td>0</td>\n",
              "      <td>0</td>\n",
              "      <td>0</td>\n",
              "      <td>0</td>\n",
              "      <td>0</td>\n",
              "      <td>0</td>\n",
              "      <td>0</td>\n",
              "      <td>0</td>\n",
              "      <td>0</td>\n",
              "      <td>0</td>\n",
              "      <td>0</td>\n",
              "      <td>0</td>\n",
              "      <td>0</td>\n",
              "      <td>...</td>\n",
              "      <td>0</td>\n",
              "      <td>0</td>\n",
              "      <td>0</td>\n",
              "      <td>0</td>\n",
              "      <td>0</td>\n",
              "      <td>0</td>\n",
              "      <td>0</td>\n",
              "      <td>0</td>\n",
              "      <td>0</td>\n",
              "      <td>0</td>\n",
              "      <td>0</td>\n",
              "      <td>0</td>\n",
              "      <td>0</td>\n",
              "      <td>0</td>\n",
              "      <td>0</td>\n",
              "      <td>0</td>\n",
              "      <td>0</td>\n",
              "      <td>0</td>\n",
              "      <td>0</td>\n",
              "      <td>0</td>\n",
              "      <td>0</td>\n",
              "      <td>0</td>\n",
              "      <td>0</td>\n",
              "      <td>0</td>\n",
              "      <td>0</td>\n",
              "      <td>0</td>\n",
              "      <td>0</td>\n",
              "      <td>0</td>\n",
              "      <td>0</td>\n",
              "      <td>0</td>\n",
              "      <td>0</td>\n",
              "      <td>0</td>\n",
              "      <td>0</td>\n",
              "      <td>0</td>\n",
              "      <td>0</td>\n",
              "      <td>0</td>\n",
              "      <td>0</td>\n",
              "      <td>0</td>\n",
              "      <td>0</td>\n",
              "      <td>0</td>\n",
              "    </tr>\n",
              "    <tr>\n",
              "      <th>96</th>\n",
              "      <td>7</td>\n",
              "      <td>0</td>\n",
              "      <td>0</td>\n",
              "      <td>0</td>\n",
              "      <td>0</td>\n",
              "      <td>0</td>\n",
              "      <td>0</td>\n",
              "      <td>0</td>\n",
              "      <td>0</td>\n",
              "      <td>0</td>\n",
              "      <td>0</td>\n",
              "      <td>0</td>\n",
              "      <td>0</td>\n",
              "      <td>0</td>\n",
              "      <td>0</td>\n",
              "      <td>0</td>\n",
              "      <td>0</td>\n",
              "      <td>0</td>\n",
              "      <td>0</td>\n",
              "      <td>0</td>\n",
              "      <td>0</td>\n",
              "      <td>0</td>\n",
              "      <td>0</td>\n",
              "      <td>0</td>\n",
              "      <td>0</td>\n",
              "      <td>0</td>\n",
              "      <td>0</td>\n",
              "      <td>0</td>\n",
              "      <td>0</td>\n",
              "      <td>0</td>\n",
              "      <td>0</td>\n",
              "      <td>0</td>\n",
              "      <td>0</td>\n",
              "      <td>0</td>\n",
              "      <td>0</td>\n",
              "      <td>0</td>\n",
              "      <td>0</td>\n",
              "      <td>0</td>\n",
              "      <td>0</td>\n",
              "      <td>0</td>\n",
              "      <td>...</td>\n",
              "      <td>0</td>\n",
              "      <td>0</td>\n",
              "      <td>0</td>\n",
              "      <td>0</td>\n",
              "      <td>0</td>\n",
              "      <td>0</td>\n",
              "      <td>0</td>\n",
              "      <td>0</td>\n",
              "      <td>0</td>\n",
              "      <td>0</td>\n",
              "      <td>0</td>\n",
              "      <td>0</td>\n",
              "      <td>0</td>\n",
              "      <td>0</td>\n",
              "      <td>0</td>\n",
              "      <td>0</td>\n",
              "      <td>0</td>\n",
              "      <td>0</td>\n",
              "      <td>0</td>\n",
              "      <td>0</td>\n",
              "      <td>0</td>\n",
              "      <td>0</td>\n",
              "      <td>0</td>\n",
              "      <td>0</td>\n",
              "      <td>0</td>\n",
              "      <td>0</td>\n",
              "      <td>0</td>\n",
              "      <td>0</td>\n",
              "      <td>0</td>\n",
              "      <td>0</td>\n",
              "      <td>0</td>\n",
              "      <td>0</td>\n",
              "      <td>0</td>\n",
              "      <td>0</td>\n",
              "      <td>0</td>\n",
              "      <td>0</td>\n",
              "      <td>0</td>\n",
              "      <td>0</td>\n",
              "      <td>0</td>\n",
              "      <td>0</td>\n",
              "    </tr>\n",
              "    <tr>\n",
              "      <th>97</th>\n",
              "      <td>8</td>\n",
              "      <td>0</td>\n",
              "      <td>0</td>\n",
              "      <td>0</td>\n",
              "      <td>0</td>\n",
              "      <td>0</td>\n",
              "      <td>0</td>\n",
              "      <td>0</td>\n",
              "      <td>0</td>\n",
              "      <td>0</td>\n",
              "      <td>0</td>\n",
              "      <td>0</td>\n",
              "      <td>0</td>\n",
              "      <td>0</td>\n",
              "      <td>0</td>\n",
              "      <td>0</td>\n",
              "      <td>0</td>\n",
              "      <td>0</td>\n",
              "      <td>0</td>\n",
              "      <td>0</td>\n",
              "      <td>0</td>\n",
              "      <td>0</td>\n",
              "      <td>0</td>\n",
              "      <td>0</td>\n",
              "      <td>0</td>\n",
              "      <td>0</td>\n",
              "      <td>0</td>\n",
              "      <td>0</td>\n",
              "      <td>0</td>\n",
              "      <td>0</td>\n",
              "      <td>0</td>\n",
              "      <td>0</td>\n",
              "      <td>0</td>\n",
              "      <td>0</td>\n",
              "      <td>0</td>\n",
              "      <td>0</td>\n",
              "      <td>0</td>\n",
              "      <td>0</td>\n",
              "      <td>0</td>\n",
              "      <td>0</td>\n",
              "      <td>...</td>\n",
              "      <td>0</td>\n",
              "      <td>0</td>\n",
              "      <td>0</td>\n",
              "      <td>0</td>\n",
              "      <td>0</td>\n",
              "      <td>0</td>\n",
              "      <td>0</td>\n",
              "      <td>0</td>\n",
              "      <td>0</td>\n",
              "      <td>0</td>\n",
              "      <td>0</td>\n",
              "      <td>0</td>\n",
              "      <td>0</td>\n",
              "      <td>0</td>\n",
              "      <td>0</td>\n",
              "      <td>0</td>\n",
              "      <td>0</td>\n",
              "      <td>0</td>\n",
              "      <td>0</td>\n",
              "      <td>0</td>\n",
              "      <td>0</td>\n",
              "      <td>0</td>\n",
              "      <td>0</td>\n",
              "      <td>0</td>\n",
              "      <td>0</td>\n",
              "      <td>0</td>\n",
              "      <td>0</td>\n",
              "      <td>0</td>\n",
              "      <td>0</td>\n",
              "      <td>0</td>\n",
              "      <td>0</td>\n",
              "      <td>0</td>\n",
              "      <td>0</td>\n",
              "      <td>0</td>\n",
              "      <td>0</td>\n",
              "      <td>0</td>\n",
              "      <td>0</td>\n",
              "      <td>0</td>\n",
              "      <td>0</td>\n",
              "      <td>0</td>\n",
              "    </tr>\n",
              "    <tr>\n",
              "      <th>98</th>\n",
              "      <td>3</td>\n",
              "      <td>0</td>\n",
              "      <td>0</td>\n",
              "      <td>0</td>\n",
              "      <td>0</td>\n",
              "      <td>0</td>\n",
              "      <td>0</td>\n",
              "      <td>0</td>\n",
              "      <td>0</td>\n",
              "      <td>0</td>\n",
              "      <td>0</td>\n",
              "      <td>0</td>\n",
              "      <td>0</td>\n",
              "      <td>0</td>\n",
              "      <td>0</td>\n",
              "      <td>0</td>\n",
              "      <td>0</td>\n",
              "      <td>0</td>\n",
              "      <td>0</td>\n",
              "      <td>0</td>\n",
              "      <td>0</td>\n",
              "      <td>0</td>\n",
              "      <td>0</td>\n",
              "      <td>0</td>\n",
              "      <td>0</td>\n",
              "      <td>0</td>\n",
              "      <td>0</td>\n",
              "      <td>0</td>\n",
              "      <td>0</td>\n",
              "      <td>0</td>\n",
              "      <td>0</td>\n",
              "      <td>0</td>\n",
              "      <td>0</td>\n",
              "      <td>0</td>\n",
              "      <td>0</td>\n",
              "      <td>0</td>\n",
              "      <td>0</td>\n",
              "      <td>0</td>\n",
              "      <td>0</td>\n",
              "      <td>0</td>\n",
              "      <td>...</td>\n",
              "      <td>0</td>\n",
              "      <td>0</td>\n",
              "      <td>0</td>\n",
              "      <td>0</td>\n",
              "      <td>0</td>\n",
              "      <td>0</td>\n",
              "      <td>0</td>\n",
              "      <td>0</td>\n",
              "      <td>0</td>\n",
              "      <td>0</td>\n",
              "      <td>0</td>\n",
              "      <td>0</td>\n",
              "      <td>0</td>\n",
              "      <td>0</td>\n",
              "      <td>0</td>\n",
              "      <td>0</td>\n",
              "      <td>0</td>\n",
              "      <td>0</td>\n",
              "      <td>0</td>\n",
              "      <td>0</td>\n",
              "      <td>0</td>\n",
              "      <td>0</td>\n",
              "      <td>0</td>\n",
              "      <td>0</td>\n",
              "      <td>0</td>\n",
              "      <td>0</td>\n",
              "      <td>0</td>\n",
              "      <td>0</td>\n",
              "      <td>0</td>\n",
              "      <td>0</td>\n",
              "      <td>0</td>\n",
              "      <td>0</td>\n",
              "      <td>0</td>\n",
              "      <td>0</td>\n",
              "      <td>0</td>\n",
              "      <td>0</td>\n",
              "      <td>0</td>\n",
              "      <td>0</td>\n",
              "      <td>0</td>\n",
              "      <td>0</td>\n",
              "    </tr>\n",
              "    <tr>\n",
              "      <th>99</th>\n",
              "      <td>1</td>\n",
              "      <td>0</td>\n",
              "      <td>0</td>\n",
              "      <td>0</td>\n",
              "      <td>0</td>\n",
              "      <td>0</td>\n",
              "      <td>0</td>\n",
              "      <td>0</td>\n",
              "      <td>0</td>\n",
              "      <td>0</td>\n",
              "      <td>0</td>\n",
              "      <td>0</td>\n",
              "      <td>0</td>\n",
              "      <td>0</td>\n",
              "      <td>0</td>\n",
              "      <td>0</td>\n",
              "      <td>0</td>\n",
              "      <td>0</td>\n",
              "      <td>0</td>\n",
              "      <td>0</td>\n",
              "      <td>0</td>\n",
              "      <td>0</td>\n",
              "      <td>0</td>\n",
              "      <td>0</td>\n",
              "      <td>0</td>\n",
              "      <td>0</td>\n",
              "      <td>0</td>\n",
              "      <td>0</td>\n",
              "      <td>0</td>\n",
              "      <td>0</td>\n",
              "      <td>0</td>\n",
              "      <td>0</td>\n",
              "      <td>0</td>\n",
              "      <td>0</td>\n",
              "      <td>0</td>\n",
              "      <td>0</td>\n",
              "      <td>0</td>\n",
              "      <td>0</td>\n",
              "      <td>0</td>\n",
              "      <td>0</td>\n",
              "      <td>...</td>\n",
              "      <td>0</td>\n",
              "      <td>0</td>\n",
              "      <td>0</td>\n",
              "      <td>0</td>\n",
              "      <td>0</td>\n",
              "      <td>0</td>\n",
              "      <td>0</td>\n",
              "      <td>0</td>\n",
              "      <td>0</td>\n",
              "      <td>0</td>\n",
              "      <td>0</td>\n",
              "      <td>0</td>\n",
              "      <td>0</td>\n",
              "      <td>0</td>\n",
              "      <td>0</td>\n",
              "      <td>0</td>\n",
              "      <td>0</td>\n",
              "      <td>0</td>\n",
              "      <td>0</td>\n",
              "      <td>0</td>\n",
              "      <td>0</td>\n",
              "      <td>0</td>\n",
              "      <td>0</td>\n",
              "      <td>0</td>\n",
              "      <td>0</td>\n",
              "      <td>0</td>\n",
              "      <td>0</td>\n",
              "      <td>0</td>\n",
              "      <td>0</td>\n",
              "      <td>0</td>\n",
              "      <td>0</td>\n",
              "      <td>0</td>\n",
              "      <td>0</td>\n",
              "      <td>0</td>\n",
              "      <td>0</td>\n",
              "      <td>0</td>\n",
              "      <td>0</td>\n",
              "      <td>0</td>\n",
              "      <td>0</td>\n",
              "      <td>0</td>\n",
              "    </tr>\n",
              "  </tbody>\n",
              "</table>\n",
              "<p>100 rows × 785 columns</p>\n",
              "</div>"
            ],
            "text/plain": [
              "    class  1x1  1x2  1x3  1x4  1x5  ...  28x23  28x24  28x25  28x26  28x27  28x28\n",
              "0       5    0    0    0    0    0  ...      0      0      0      0      0      0\n",
              "1       0    0    0    0    0    0  ...      0      0      0      0      0      0\n",
              "2       4    0    0    0    0    0  ...      0      0      0      0      0      0\n",
              "3       1    0    0    0    0    0  ...      0      0      0      0      0      0\n",
              "4       9    0    0    0    0    0  ...      0      0      0      0      0      0\n",
              "..    ...  ...  ...  ...  ...  ...  ...    ...    ...    ...    ...    ...    ...\n",
              "95      0    0    0    0    0    0  ...      0      0      0      0      0      0\n",
              "96      7    0    0    0    0    0  ...      0      0      0      0      0      0\n",
              "97      8    0    0    0    0    0  ...      0      0      0      0      0      0\n",
              "98      3    0    0    0    0    0  ...      0      0      0      0      0      0\n",
              "99      1    0    0    0    0    0  ...      0      0      0      0      0      0\n",
              "\n",
              "[100 rows x 785 columns]"
            ]
          },
          "metadata": {
            "tags": []
          },
          "execution_count": 11
        }
      ]
    },
    {
      "cell_type": "markdown",
      "metadata": {
        "id": "53c80f29"
      },
      "source": [
        "This data is in the same format that we have been using so far."
      ],
      "id": "53c80f29"
    },
    {
      "cell_type": "markdown",
      "metadata": {
        "id": "c673498d"
      },
      "source": [
        "The column `class` stores the class of each image, which is a number between 0 and 9."
      ],
      "id": "c673498d"
    },
    {
      "cell_type": "code",
      "metadata": {
        "execution": {
          "iopub.execute_input": "2021-08-02T20:00:45.403628Z",
          "iopub.status.busy": "2021-08-02T20:00:45.402684Z",
          "iopub.status.idle": "2021-08-02T20:00:45.405938Z",
          "shell.execute_reply": "2021-08-02T20:00:45.406703Z"
        },
        "id": "122d6138",
        "colab": {
          "base_uri": "https://localhost:8080/"
        },
        "outputId": "cae8d0c9-7a28-4cd0-a25e-f12382d80bf6"
      },
      "source": [
        "df_train[:100][\"class\"].unique()"
      ],
      "id": "122d6138",
      "execution_count": null,
      "outputs": [
        {
          "output_type": "execute_result",
          "data": {
            "text/plain": [
              "array([5, 0, 4, 1, 9, 2, 3, 6, 7, 8])"
            ]
          },
          "metadata": {
            "tags": []
          },
          "execution_count": 12
        }
      ]
    },
    {
      "cell_type": "markdown",
      "metadata": {
        "id": "41263d3d"
      },
      "source": [
        "The rest of columns store the features. However there are many more features than before!"
      ],
      "id": "41263d3d"
    },
    {
      "cell_type": "markdown",
      "metadata": {
        "id": "399fed79"
      },
      "source": [
        "In particular the images are 28x28 pixels which means we have 784 features.\n",
        "To make later processing easier, we store the names of pixel value columns in a list `features`."
      ],
      "id": "399fed79"
    },
    {
      "cell_type": "code",
      "metadata": {
        "execution": {
          "iopub.execute_input": "2021-08-02T20:00:45.414216Z",
          "iopub.status.busy": "2021-08-02T20:00:45.413292Z",
          "iopub.status.idle": "2021-08-02T20:00:45.416534Z",
          "shell.execute_reply": "2021-08-02T20:00:45.417298Z"
        },
        "id": "f19d3fff",
        "colab": {
          "base_uri": "https://localhost:8080/"
        },
        "outputId": "0ede19b3-5b5a-4b34-a68a-83d1c6c5aea3"
      },
      "source": [
        "features = []\n",
        "for i in range(1, 29):\n",
        "    for j in range(1, 29):\n",
        "        features.append(str(i) + \"x\" + str(j))\n",
        "len(features)"
      ],
      "id": "f19d3fff",
      "execution_count": null,
      "outputs": [
        {
          "output_type": "execute_result",
          "data": {
            "text/plain": [
              "784"
            ]
          },
          "metadata": {
            "tags": []
          },
          "execution_count": 13
        }
      ]
    },
    {
      "cell_type": "markdown",
      "metadata": {
        "id": "c072558e"
      },
      "source": [
        "These features are the intensity at each pixel : for instance, the column \"3x4\" stores the pixel value at the 3rd row and the 4th column. Since the size of each image is 28x28, there are 28 rows and 28 columns."
      ],
      "id": "c072558e"
    },
    {
      "cell_type": "markdown",
      "metadata": {
        "id": "c71f4ff0"
      },
      "source": [
        "We can use pandas apply to graph these values for one image."
      ],
      "id": "c71f4ff0"
    },
    {
      "cell_type": "markdown",
      "metadata": {
        "id": "24a3b04b"
      },
      "source": [
        "Convert feature to x, y, and value."
      ],
      "id": "24a3b04b"
    },
    {
      "cell_type": "code",
      "metadata": {
        "execution": {
          "iopub.execute_input": "2021-08-02T20:00:45.423956Z",
          "iopub.status.busy": "2021-08-02T20:00:45.423010Z",
          "iopub.status.idle": "2021-08-02T20:00:45.426561Z",
          "shell.execute_reply": "2021-08-02T20:00:45.425788Z"
        },
        "lines_to_next_cell": 1,
        "id": "9d57d7dd"
      },
      "source": [
        "def position(row):\n",
        "    y, x = row[\"index\"].split(\"x\")\n",
        "    return {\"x\":int(x),\n",
        "            \"y\":int(y),\n",
        "            \"val\":row[\"val\"]}"
      ],
      "id": "9d57d7dd",
      "execution_count": null,
      "outputs": []
    },
    {
      "cell_type": "markdown",
      "metadata": {
        "id": "de24d55e"
      },
      "source": [
        "Draw a heat map showing the image."
      ],
      "id": "de24d55e"
    },
    {
      "cell_type": "code",
      "metadata": {
        "execution": {
          "iopub.execute_input": "2021-08-02T20:00:45.436405Z",
          "iopub.status.busy": "2021-08-02T20:00:45.435498Z",
          "iopub.status.idle": "2021-08-02T20:00:45.438522Z",
          "shell.execute_reply": "2021-08-02T20:00:45.437785Z"
        },
        "lines_to_next_cell": 1,
        "id": "94fdf970"
      },
      "source": [
        "def draw_image(i, shuffle=False):\n",
        "    t = df_train[i:i+1].T.reset_index().rename(columns={i: \"val\"})\n",
        "    out = t.loc[t[\"index\"] != \"class\"].apply(position, axis=1, result_type=\"expand\")\n",
        "\n",
        "    label = df_train.loc[i][\"class\"]\n",
        "    title = \"Image of a \" + str(label)\n",
        "    if shuffle:\n",
        "        out[\"val\"] = sklearn.utils.shuffle(out[\"val\"], random_state=1234).reset_index()[\"val\"]\n",
        "        title = \"Shuffled Image of a \" + str(label)\n",
        "        \n",
        "    return (alt.Chart(out)\n",
        "            .mark_rect()\n",
        "            .properties(title=title)\n",
        "            .encode(\n",
        "                x=\"x:O\",\n",
        "                y=\"y:O\",\n",
        "                fill=\"val:Q\",\n",
        "                color=\"val:Q\",\n",
        "                tooltip=(\"x\", \"y\", \"val\")\n",
        "            ))"
      ],
      "id": "94fdf970",
      "execution_count": null,
      "outputs": []
    },
    {
      "cell_type": "markdown",
      "metadata": {
        "id": "001fa690"
      },
      "source": [
        "Here are some example images."
      ],
      "id": "001fa690"
    },
    {
      "cell_type": "code",
      "metadata": {
        "execution": {
          "iopub.execute_input": "2021-08-02T20:00:45.447512Z",
          "iopub.status.busy": "2021-08-02T20:00:45.446670Z",
          "iopub.status.idle": "2021-08-02T20:00:45.514442Z",
          "shell.execute_reply": "2021-08-02T20:00:45.515163Z"
        },
        "id": "20c784c9",
        "colab": {
          "base_uri": "https://localhost:8080/",
          "height": 642
        },
        "outputId": "827b1653-416c-4565-cab4-37b80fa64226"
      },
      "source": [
        "im = draw_image(0)\n",
        "im"
      ],
      "id": "20c784c9",
      "execution_count": null,
      "outputs": [
        {
          "output_type": "execute_result",
          "data": {
            "text/plain": [
              "alt.Chart(...)"
            ],
            "text/html": [
              "\n",
              "<div id=\"altair-viz-856620364eab4b6b9fb5768845b9576d\"></div>\n",
              "<script type=\"text/javascript\">\n",
              "  (function(spec, embedOpt){\n",
              "    let outputDiv = document.currentScript.previousElementSibling;\n",
              "    if (outputDiv.id !== \"altair-viz-856620364eab4b6b9fb5768845b9576d\") {\n",
              "      outputDiv = document.getElementById(\"altair-viz-856620364eab4b6b9fb5768845b9576d\");\n",
              "    }\n",
              "    const paths = {\n",
              "      \"vega\": \"https://cdn.jsdelivr.net/npm//vega@5?noext\",\n",
              "      \"vega-lib\": \"https://cdn.jsdelivr.net/npm//vega-lib?noext\",\n",
              "      \"vega-lite\": \"https://cdn.jsdelivr.net/npm//vega-lite@4.8.1?noext\",\n",
              "      \"vega-embed\": \"https://cdn.jsdelivr.net/npm//vega-embed@6?noext\",\n",
              "    };\n",
              "\n",
              "    function loadScript(lib) {\n",
              "      return new Promise(function(resolve, reject) {\n",
              "        var s = document.createElement('script');\n",
              "        s.src = paths[lib];\n",
              "        s.async = true;\n",
              "        s.onload = () => resolve(paths[lib]);\n",
              "        s.onerror = () => reject(`Error loading script: ${paths[lib]}`);\n",
              "        document.getElementsByTagName(\"head\")[0].appendChild(s);\n",
              "      });\n",
              "    }\n",
              "\n",
              "    function showError(err) {\n",
              "      outputDiv.innerHTML = `<div class=\"error\" style=\"color:red;\">${err}</div>`;\n",
              "      throw err;\n",
              "    }\n",
              "\n",
              "    function displayChart(vegaEmbed) {\n",
              "      vegaEmbed(outputDiv, spec, embedOpt)\n",
              "        .catch(err => showError(`Javascript Error: ${err.message}<br>This usually means there's a typo in your chart specification. See the javascript console for the full traceback.`));\n",
              "    }\n",
              "\n",
              "    if(typeof define === \"function\" && define.amd) {\n",
              "      requirejs.config({paths});\n",
              "      require([\"vega-embed\"], displayChart, err => showError(`Error loading script: ${err.message}`));\n",
              "    } else if (typeof vegaEmbed === \"function\") {\n",
              "      displayChart(vegaEmbed);\n",
              "    } else {\n",
              "      loadScript(\"vega\")\n",
              "        .then(() => loadScript(\"vega-lite\"))\n",
              "        .then(() => loadScript(\"vega-embed\"))\n",
              "        .catch(showError)\n",
              "        .then(() => displayChart(vegaEmbed));\n",
              "    }\n",
              "  })({\"config\": {\"view\": {\"continuousWidth\": 400, \"continuousHeight\": 300}}, \"data\": {\"name\": \"data-9c050b0a06c628e9c182165982d596c4\"}, \"mark\": \"rect\", \"encoding\": {\"color\": {\"type\": \"quantitative\", \"field\": \"val\"}, \"fill\": {\"type\": \"quantitative\", \"field\": \"val\"}, \"tooltip\": [{\"type\": \"quantitative\", \"field\": \"x\"}, {\"type\": \"quantitative\", \"field\": \"y\"}, {\"type\": \"quantitative\", \"field\": \"val\"}], \"x\": {\"type\": \"ordinal\", \"field\": \"x\"}, \"y\": {\"type\": \"ordinal\", \"field\": \"y\"}}, \"title\": \"Image of a 5\", \"$schema\": \"https://vega.github.io/schema/vega-lite/v4.8.1.json\", \"datasets\": {\"data-9c050b0a06c628e9c182165982d596c4\": [{\"x\": 1, \"y\": 1, \"val\": 0}, {\"x\": 2, \"y\": 1, \"val\": 0}, {\"x\": 3, \"y\": 1, \"val\": 0}, {\"x\": 4, \"y\": 1, \"val\": 0}, {\"x\": 5, \"y\": 1, \"val\": 0}, {\"x\": 6, \"y\": 1, \"val\": 0}, {\"x\": 7, \"y\": 1, \"val\": 0}, {\"x\": 8, \"y\": 1, \"val\": 0}, {\"x\": 9, \"y\": 1, \"val\": 0}, {\"x\": 10, \"y\": 1, \"val\": 0}, {\"x\": 11, \"y\": 1, \"val\": 0}, {\"x\": 12, \"y\": 1, \"val\": 0}, {\"x\": 13, \"y\": 1, \"val\": 0}, {\"x\": 14, \"y\": 1, \"val\": 0}, {\"x\": 15, \"y\": 1, \"val\": 0}, {\"x\": 16, \"y\": 1, \"val\": 0}, {\"x\": 17, \"y\": 1, \"val\": 0}, {\"x\": 18, \"y\": 1, \"val\": 0}, {\"x\": 19, \"y\": 1, \"val\": 0}, {\"x\": 20, \"y\": 1, \"val\": 0}, {\"x\": 21, \"y\": 1, \"val\": 0}, {\"x\": 22, \"y\": 1, \"val\": 0}, {\"x\": 23, \"y\": 1, \"val\": 0}, {\"x\": 24, \"y\": 1, \"val\": 0}, {\"x\": 25, \"y\": 1, \"val\": 0}, {\"x\": 26, \"y\": 1, \"val\": 0}, {\"x\": 27, \"y\": 1, \"val\": 0}, {\"x\": 28, \"y\": 1, \"val\": 0}, {\"x\": 1, \"y\": 2, \"val\": 0}, {\"x\": 2, \"y\": 2, \"val\": 0}, {\"x\": 3, \"y\": 2, \"val\": 0}, {\"x\": 4, \"y\": 2, \"val\": 0}, {\"x\": 5, \"y\": 2, \"val\": 0}, {\"x\": 6, \"y\": 2, \"val\": 0}, {\"x\": 7, \"y\": 2, \"val\": 0}, {\"x\": 8, \"y\": 2, \"val\": 0}, {\"x\": 9, \"y\": 2, \"val\": 0}, {\"x\": 10, \"y\": 2, \"val\": 0}, {\"x\": 11, \"y\": 2, \"val\": 0}, {\"x\": 12, \"y\": 2, \"val\": 0}, {\"x\": 13, \"y\": 2, \"val\": 0}, {\"x\": 14, \"y\": 2, \"val\": 0}, {\"x\": 15, \"y\": 2, \"val\": 0}, {\"x\": 16, \"y\": 2, \"val\": 0}, {\"x\": 17, \"y\": 2, \"val\": 0}, {\"x\": 18, \"y\": 2, \"val\": 0}, {\"x\": 19, \"y\": 2, \"val\": 0}, {\"x\": 20, \"y\": 2, \"val\": 0}, {\"x\": 21, \"y\": 2, \"val\": 0}, {\"x\": 22, \"y\": 2, \"val\": 0}, {\"x\": 23, \"y\": 2, \"val\": 0}, {\"x\": 24, \"y\": 2, \"val\": 0}, {\"x\": 25, \"y\": 2, \"val\": 0}, {\"x\": 26, \"y\": 2, \"val\": 0}, {\"x\": 27, \"y\": 2, \"val\": 0}, {\"x\": 28, \"y\": 2, \"val\": 0}, {\"x\": 1, \"y\": 3, \"val\": 0}, {\"x\": 2, \"y\": 3, \"val\": 0}, {\"x\": 3, \"y\": 3, \"val\": 0}, {\"x\": 4, \"y\": 3, \"val\": 0}, {\"x\": 5, \"y\": 3, \"val\": 0}, {\"x\": 6, \"y\": 3, \"val\": 0}, {\"x\": 7, \"y\": 3, \"val\": 0}, {\"x\": 8, \"y\": 3, \"val\": 0}, {\"x\": 9, \"y\": 3, \"val\": 0}, {\"x\": 10, \"y\": 3, \"val\": 0}, {\"x\": 11, \"y\": 3, \"val\": 0}, {\"x\": 12, \"y\": 3, \"val\": 0}, {\"x\": 13, \"y\": 3, \"val\": 0}, {\"x\": 14, \"y\": 3, \"val\": 0}, {\"x\": 15, \"y\": 3, \"val\": 0}, {\"x\": 16, \"y\": 3, \"val\": 0}, {\"x\": 17, \"y\": 3, \"val\": 0}, {\"x\": 18, \"y\": 3, \"val\": 0}, {\"x\": 19, \"y\": 3, \"val\": 0}, {\"x\": 20, \"y\": 3, \"val\": 0}, {\"x\": 21, \"y\": 3, \"val\": 0}, {\"x\": 22, \"y\": 3, \"val\": 0}, {\"x\": 23, \"y\": 3, \"val\": 0}, {\"x\": 24, \"y\": 3, \"val\": 0}, {\"x\": 25, \"y\": 3, \"val\": 0}, {\"x\": 26, \"y\": 3, \"val\": 0}, {\"x\": 27, \"y\": 3, \"val\": 0}, {\"x\": 28, \"y\": 3, \"val\": 0}, {\"x\": 1, \"y\": 4, \"val\": 0}, {\"x\": 2, \"y\": 4, \"val\": 0}, {\"x\": 3, \"y\": 4, \"val\": 0}, {\"x\": 4, \"y\": 4, \"val\": 0}, {\"x\": 5, \"y\": 4, \"val\": 0}, {\"x\": 6, \"y\": 4, \"val\": 0}, {\"x\": 7, \"y\": 4, \"val\": 0}, {\"x\": 8, \"y\": 4, \"val\": 0}, {\"x\": 9, \"y\": 4, \"val\": 0}, {\"x\": 10, \"y\": 4, \"val\": 0}, {\"x\": 11, \"y\": 4, \"val\": 0}, {\"x\": 12, \"y\": 4, \"val\": 0}, {\"x\": 13, \"y\": 4, \"val\": 0}, {\"x\": 14, \"y\": 4, \"val\": 0}, {\"x\": 15, \"y\": 4, \"val\": 0}, {\"x\": 16, \"y\": 4, \"val\": 0}, {\"x\": 17, \"y\": 4, \"val\": 0}, {\"x\": 18, \"y\": 4, \"val\": 0}, {\"x\": 19, \"y\": 4, \"val\": 0}, {\"x\": 20, \"y\": 4, \"val\": 0}, {\"x\": 21, \"y\": 4, \"val\": 0}, {\"x\": 22, \"y\": 4, \"val\": 0}, {\"x\": 23, \"y\": 4, \"val\": 0}, {\"x\": 24, \"y\": 4, \"val\": 0}, {\"x\": 25, \"y\": 4, \"val\": 0}, {\"x\": 26, \"y\": 4, \"val\": 0}, {\"x\": 27, \"y\": 4, \"val\": 0}, {\"x\": 28, \"y\": 4, \"val\": 0}, {\"x\": 1, \"y\": 5, \"val\": 0}, {\"x\": 2, \"y\": 5, \"val\": 0}, {\"x\": 3, \"y\": 5, \"val\": 0}, {\"x\": 4, \"y\": 5, \"val\": 0}, {\"x\": 5, \"y\": 5, \"val\": 0}, {\"x\": 6, \"y\": 5, \"val\": 0}, {\"x\": 7, \"y\": 5, \"val\": 0}, {\"x\": 8, \"y\": 5, \"val\": 0}, {\"x\": 9, \"y\": 5, \"val\": 0}, {\"x\": 10, \"y\": 5, \"val\": 0}, {\"x\": 11, \"y\": 5, \"val\": 0}, {\"x\": 12, \"y\": 5, \"val\": 0}, {\"x\": 13, \"y\": 5, \"val\": 0}, {\"x\": 14, \"y\": 5, \"val\": 0}, {\"x\": 15, \"y\": 5, \"val\": 0}, {\"x\": 16, \"y\": 5, \"val\": 0}, {\"x\": 17, \"y\": 5, \"val\": 0}, {\"x\": 18, \"y\": 5, \"val\": 0}, {\"x\": 19, \"y\": 5, \"val\": 0}, {\"x\": 20, \"y\": 5, \"val\": 0}, {\"x\": 21, \"y\": 5, \"val\": 0}, {\"x\": 22, \"y\": 5, \"val\": 0}, {\"x\": 23, \"y\": 5, \"val\": 0}, {\"x\": 24, \"y\": 5, \"val\": 0}, {\"x\": 25, \"y\": 5, \"val\": 0}, {\"x\": 26, \"y\": 5, \"val\": 0}, {\"x\": 27, \"y\": 5, \"val\": 0}, {\"x\": 28, \"y\": 5, \"val\": 0}, {\"x\": 1, \"y\": 6, \"val\": 0}, {\"x\": 2, \"y\": 6, \"val\": 0}, {\"x\": 3, \"y\": 6, \"val\": 0}, {\"x\": 4, \"y\": 6, \"val\": 0}, {\"x\": 5, \"y\": 6, \"val\": 0}, {\"x\": 6, \"y\": 6, \"val\": 0}, {\"x\": 7, \"y\": 6, \"val\": 0}, {\"x\": 8, \"y\": 6, \"val\": 0}, {\"x\": 9, \"y\": 6, \"val\": 0}, {\"x\": 10, \"y\": 6, \"val\": 0}, {\"x\": 11, \"y\": 6, \"val\": 0}, {\"x\": 12, \"y\": 6, \"val\": 0}, {\"x\": 13, \"y\": 6, \"val\": 3}, {\"x\": 14, \"y\": 6, \"val\": 18}, {\"x\": 15, \"y\": 6, \"val\": 18}, {\"x\": 16, \"y\": 6, \"val\": 18}, {\"x\": 17, \"y\": 6, \"val\": 126}, {\"x\": 18, \"y\": 6, \"val\": 136}, {\"x\": 19, \"y\": 6, \"val\": 175}, {\"x\": 20, \"y\": 6, \"val\": 26}, {\"x\": 21, \"y\": 6, \"val\": 166}, {\"x\": 22, \"y\": 6, \"val\": 255}, {\"x\": 23, \"y\": 6, \"val\": 247}, {\"x\": 24, \"y\": 6, \"val\": 127}, {\"x\": 25, \"y\": 6, \"val\": 0}, {\"x\": 26, \"y\": 6, \"val\": 0}, {\"x\": 27, \"y\": 6, \"val\": 0}, {\"x\": 28, \"y\": 6, \"val\": 0}, {\"x\": 1, \"y\": 7, \"val\": 0}, {\"x\": 2, \"y\": 7, \"val\": 0}, {\"x\": 3, \"y\": 7, \"val\": 0}, {\"x\": 4, \"y\": 7, \"val\": 0}, {\"x\": 5, \"y\": 7, \"val\": 0}, {\"x\": 6, \"y\": 7, \"val\": 0}, {\"x\": 7, \"y\": 7, \"val\": 0}, {\"x\": 8, \"y\": 7, \"val\": 0}, {\"x\": 9, \"y\": 7, \"val\": 30}, {\"x\": 10, \"y\": 7, \"val\": 36}, {\"x\": 11, \"y\": 7, \"val\": 94}, {\"x\": 12, \"y\": 7, \"val\": 154}, {\"x\": 13, \"y\": 7, \"val\": 170}, {\"x\": 14, \"y\": 7, \"val\": 253}, {\"x\": 15, \"y\": 7, \"val\": 253}, {\"x\": 16, \"y\": 7, \"val\": 253}, {\"x\": 17, \"y\": 7, \"val\": 253}, {\"x\": 18, \"y\": 7, \"val\": 253}, {\"x\": 19, \"y\": 7, \"val\": 225}, {\"x\": 20, \"y\": 7, \"val\": 172}, {\"x\": 21, \"y\": 7, \"val\": 253}, {\"x\": 22, \"y\": 7, \"val\": 242}, {\"x\": 23, \"y\": 7, \"val\": 195}, {\"x\": 24, \"y\": 7, \"val\": 64}, {\"x\": 25, \"y\": 7, \"val\": 0}, {\"x\": 26, \"y\": 7, \"val\": 0}, {\"x\": 27, \"y\": 7, \"val\": 0}, {\"x\": 28, \"y\": 7, \"val\": 0}, {\"x\": 1, \"y\": 8, \"val\": 0}, {\"x\": 2, \"y\": 8, \"val\": 0}, {\"x\": 3, \"y\": 8, \"val\": 0}, {\"x\": 4, \"y\": 8, \"val\": 0}, {\"x\": 5, \"y\": 8, \"val\": 0}, {\"x\": 6, \"y\": 8, \"val\": 0}, {\"x\": 7, \"y\": 8, \"val\": 0}, {\"x\": 8, \"y\": 8, \"val\": 49}, {\"x\": 9, \"y\": 8, \"val\": 238}, {\"x\": 10, \"y\": 8, \"val\": 253}, {\"x\": 11, \"y\": 8, \"val\": 253}, {\"x\": 12, \"y\": 8, \"val\": 253}, {\"x\": 13, \"y\": 8, \"val\": 253}, {\"x\": 14, \"y\": 8, \"val\": 253}, {\"x\": 15, \"y\": 8, \"val\": 253}, {\"x\": 16, \"y\": 8, \"val\": 253}, {\"x\": 17, \"y\": 8, \"val\": 253}, {\"x\": 18, \"y\": 8, \"val\": 251}, {\"x\": 19, \"y\": 8, \"val\": 93}, {\"x\": 20, \"y\": 8, \"val\": 82}, {\"x\": 21, \"y\": 8, \"val\": 82}, {\"x\": 22, \"y\": 8, \"val\": 56}, {\"x\": 23, \"y\": 8, \"val\": 39}, {\"x\": 24, \"y\": 8, \"val\": 0}, {\"x\": 25, \"y\": 8, \"val\": 0}, {\"x\": 26, \"y\": 8, \"val\": 0}, {\"x\": 27, \"y\": 8, \"val\": 0}, {\"x\": 28, \"y\": 8, \"val\": 0}, {\"x\": 1, \"y\": 9, \"val\": 0}, {\"x\": 2, \"y\": 9, \"val\": 0}, {\"x\": 3, \"y\": 9, \"val\": 0}, {\"x\": 4, \"y\": 9, \"val\": 0}, {\"x\": 5, \"y\": 9, \"val\": 0}, {\"x\": 6, \"y\": 9, \"val\": 0}, {\"x\": 7, \"y\": 9, \"val\": 0}, {\"x\": 8, \"y\": 9, \"val\": 18}, {\"x\": 9, \"y\": 9, \"val\": 219}, {\"x\": 10, \"y\": 9, \"val\": 253}, {\"x\": 11, \"y\": 9, \"val\": 253}, {\"x\": 12, \"y\": 9, \"val\": 253}, {\"x\": 13, \"y\": 9, \"val\": 253}, {\"x\": 14, \"y\": 9, \"val\": 253}, {\"x\": 15, \"y\": 9, \"val\": 198}, {\"x\": 16, \"y\": 9, \"val\": 182}, {\"x\": 17, \"y\": 9, \"val\": 247}, {\"x\": 18, \"y\": 9, \"val\": 241}, {\"x\": 19, \"y\": 9, \"val\": 0}, {\"x\": 20, \"y\": 9, \"val\": 0}, {\"x\": 21, \"y\": 9, \"val\": 0}, {\"x\": 22, \"y\": 9, \"val\": 0}, {\"x\": 23, \"y\": 9, \"val\": 0}, {\"x\": 24, \"y\": 9, \"val\": 0}, {\"x\": 25, \"y\": 9, \"val\": 0}, {\"x\": 26, \"y\": 9, \"val\": 0}, {\"x\": 27, \"y\": 9, \"val\": 0}, {\"x\": 28, \"y\": 9, \"val\": 0}, {\"x\": 1, \"y\": 10, \"val\": 0}, {\"x\": 2, \"y\": 10, \"val\": 0}, {\"x\": 3, \"y\": 10, \"val\": 0}, {\"x\": 4, \"y\": 10, \"val\": 0}, {\"x\": 5, \"y\": 10, \"val\": 0}, {\"x\": 6, \"y\": 10, \"val\": 0}, {\"x\": 7, \"y\": 10, \"val\": 0}, {\"x\": 8, \"y\": 10, \"val\": 0}, {\"x\": 9, \"y\": 10, \"val\": 80}, {\"x\": 10, \"y\": 10, \"val\": 156}, {\"x\": 11, \"y\": 10, \"val\": 107}, {\"x\": 12, \"y\": 10, \"val\": 253}, {\"x\": 13, \"y\": 10, \"val\": 253}, {\"x\": 14, \"y\": 10, \"val\": 205}, {\"x\": 15, \"y\": 10, \"val\": 11}, {\"x\": 16, \"y\": 10, \"val\": 0}, {\"x\": 17, \"y\": 10, \"val\": 43}, {\"x\": 18, \"y\": 10, \"val\": 154}, {\"x\": 19, \"y\": 10, \"val\": 0}, {\"x\": 20, \"y\": 10, \"val\": 0}, {\"x\": 21, \"y\": 10, \"val\": 0}, {\"x\": 22, \"y\": 10, \"val\": 0}, {\"x\": 23, \"y\": 10, \"val\": 0}, {\"x\": 24, \"y\": 10, \"val\": 0}, {\"x\": 25, \"y\": 10, \"val\": 0}, {\"x\": 26, \"y\": 10, \"val\": 0}, {\"x\": 27, \"y\": 10, \"val\": 0}, {\"x\": 28, \"y\": 10, \"val\": 0}, {\"x\": 1, \"y\": 11, \"val\": 0}, {\"x\": 2, \"y\": 11, \"val\": 0}, {\"x\": 3, \"y\": 11, \"val\": 0}, {\"x\": 4, \"y\": 11, \"val\": 0}, {\"x\": 5, \"y\": 11, \"val\": 0}, {\"x\": 6, \"y\": 11, \"val\": 0}, {\"x\": 7, \"y\": 11, \"val\": 0}, {\"x\": 8, \"y\": 11, \"val\": 0}, {\"x\": 9, \"y\": 11, \"val\": 0}, {\"x\": 10, \"y\": 11, \"val\": 14}, {\"x\": 11, \"y\": 11, \"val\": 1}, {\"x\": 12, \"y\": 11, \"val\": 154}, {\"x\": 13, \"y\": 11, \"val\": 253}, {\"x\": 14, \"y\": 11, \"val\": 90}, {\"x\": 15, \"y\": 11, \"val\": 0}, {\"x\": 16, \"y\": 11, \"val\": 0}, {\"x\": 17, \"y\": 11, \"val\": 0}, {\"x\": 18, \"y\": 11, \"val\": 0}, {\"x\": 19, \"y\": 11, \"val\": 0}, {\"x\": 20, \"y\": 11, \"val\": 0}, {\"x\": 21, \"y\": 11, \"val\": 0}, {\"x\": 22, \"y\": 11, \"val\": 0}, {\"x\": 23, \"y\": 11, \"val\": 0}, {\"x\": 24, \"y\": 11, \"val\": 0}, {\"x\": 25, \"y\": 11, \"val\": 0}, {\"x\": 26, \"y\": 11, \"val\": 0}, {\"x\": 27, \"y\": 11, \"val\": 0}, {\"x\": 28, \"y\": 11, \"val\": 0}, {\"x\": 1, \"y\": 12, \"val\": 0}, {\"x\": 2, \"y\": 12, \"val\": 0}, {\"x\": 3, \"y\": 12, \"val\": 0}, {\"x\": 4, \"y\": 12, \"val\": 0}, {\"x\": 5, \"y\": 12, \"val\": 0}, {\"x\": 6, \"y\": 12, \"val\": 0}, {\"x\": 7, \"y\": 12, \"val\": 0}, {\"x\": 8, \"y\": 12, \"val\": 0}, {\"x\": 9, \"y\": 12, \"val\": 0}, {\"x\": 10, \"y\": 12, \"val\": 0}, {\"x\": 11, \"y\": 12, \"val\": 0}, {\"x\": 12, \"y\": 12, \"val\": 139}, {\"x\": 13, \"y\": 12, \"val\": 253}, {\"x\": 14, \"y\": 12, \"val\": 190}, {\"x\": 15, \"y\": 12, \"val\": 2}, {\"x\": 16, \"y\": 12, \"val\": 0}, {\"x\": 17, \"y\": 12, \"val\": 0}, {\"x\": 18, \"y\": 12, \"val\": 0}, {\"x\": 19, \"y\": 12, \"val\": 0}, {\"x\": 20, \"y\": 12, \"val\": 0}, {\"x\": 21, \"y\": 12, \"val\": 0}, {\"x\": 22, \"y\": 12, \"val\": 0}, {\"x\": 23, \"y\": 12, \"val\": 0}, {\"x\": 24, \"y\": 12, \"val\": 0}, {\"x\": 25, \"y\": 12, \"val\": 0}, {\"x\": 26, \"y\": 12, \"val\": 0}, {\"x\": 27, \"y\": 12, \"val\": 0}, {\"x\": 28, \"y\": 12, \"val\": 0}, {\"x\": 1, \"y\": 13, \"val\": 0}, {\"x\": 2, \"y\": 13, \"val\": 0}, {\"x\": 3, \"y\": 13, \"val\": 0}, {\"x\": 4, \"y\": 13, \"val\": 0}, {\"x\": 5, \"y\": 13, \"val\": 0}, {\"x\": 6, \"y\": 13, \"val\": 0}, {\"x\": 7, \"y\": 13, \"val\": 0}, {\"x\": 8, \"y\": 13, \"val\": 0}, {\"x\": 9, \"y\": 13, \"val\": 0}, {\"x\": 10, \"y\": 13, \"val\": 0}, {\"x\": 11, \"y\": 13, \"val\": 0}, {\"x\": 12, \"y\": 13, \"val\": 11}, {\"x\": 13, \"y\": 13, \"val\": 190}, {\"x\": 14, \"y\": 13, \"val\": 253}, {\"x\": 15, \"y\": 13, \"val\": 70}, {\"x\": 16, \"y\": 13, \"val\": 0}, {\"x\": 17, \"y\": 13, \"val\": 0}, {\"x\": 18, \"y\": 13, \"val\": 0}, {\"x\": 19, \"y\": 13, \"val\": 0}, {\"x\": 20, \"y\": 13, \"val\": 0}, {\"x\": 21, \"y\": 13, \"val\": 0}, {\"x\": 22, \"y\": 13, \"val\": 0}, {\"x\": 23, \"y\": 13, \"val\": 0}, {\"x\": 24, \"y\": 13, \"val\": 0}, {\"x\": 25, \"y\": 13, \"val\": 0}, {\"x\": 26, \"y\": 13, \"val\": 0}, {\"x\": 27, \"y\": 13, \"val\": 0}, {\"x\": 28, \"y\": 13, \"val\": 0}, {\"x\": 1, \"y\": 14, \"val\": 0}, {\"x\": 2, \"y\": 14, \"val\": 0}, {\"x\": 3, \"y\": 14, \"val\": 0}, {\"x\": 4, \"y\": 14, \"val\": 0}, {\"x\": 5, \"y\": 14, \"val\": 0}, {\"x\": 6, \"y\": 14, \"val\": 0}, {\"x\": 7, \"y\": 14, \"val\": 0}, {\"x\": 8, \"y\": 14, \"val\": 0}, {\"x\": 9, \"y\": 14, \"val\": 0}, {\"x\": 10, \"y\": 14, \"val\": 0}, {\"x\": 11, \"y\": 14, \"val\": 0}, {\"x\": 12, \"y\": 14, \"val\": 0}, {\"x\": 13, \"y\": 14, \"val\": 35}, {\"x\": 14, \"y\": 14, \"val\": 241}, {\"x\": 15, \"y\": 14, \"val\": 225}, {\"x\": 16, \"y\": 14, \"val\": 160}, {\"x\": 17, \"y\": 14, \"val\": 108}, {\"x\": 18, \"y\": 14, \"val\": 1}, {\"x\": 19, \"y\": 14, \"val\": 0}, {\"x\": 20, \"y\": 14, \"val\": 0}, {\"x\": 21, \"y\": 14, \"val\": 0}, {\"x\": 22, \"y\": 14, \"val\": 0}, {\"x\": 23, \"y\": 14, \"val\": 0}, {\"x\": 24, \"y\": 14, \"val\": 0}, {\"x\": 25, \"y\": 14, \"val\": 0}, {\"x\": 26, \"y\": 14, \"val\": 0}, {\"x\": 27, \"y\": 14, \"val\": 0}, {\"x\": 28, \"y\": 14, \"val\": 0}, {\"x\": 1, \"y\": 15, \"val\": 0}, {\"x\": 2, \"y\": 15, \"val\": 0}, {\"x\": 3, \"y\": 15, \"val\": 0}, {\"x\": 4, \"y\": 15, \"val\": 0}, {\"x\": 5, \"y\": 15, \"val\": 0}, {\"x\": 6, \"y\": 15, \"val\": 0}, {\"x\": 7, \"y\": 15, \"val\": 0}, {\"x\": 8, \"y\": 15, \"val\": 0}, {\"x\": 9, \"y\": 15, \"val\": 0}, {\"x\": 10, \"y\": 15, \"val\": 0}, {\"x\": 11, \"y\": 15, \"val\": 0}, {\"x\": 12, \"y\": 15, \"val\": 0}, {\"x\": 13, \"y\": 15, \"val\": 0}, {\"x\": 14, \"y\": 15, \"val\": 81}, {\"x\": 15, \"y\": 15, \"val\": 240}, {\"x\": 16, \"y\": 15, \"val\": 253}, {\"x\": 17, \"y\": 15, \"val\": 253}, {\"x\": 18, \"y\": 15, \"val\": 119}, {\"x\": 19, \"y\": 15, \"val\": 25}, {\"x\": 20, \"y\": 15, \"val\": 0}, {\"x\": 21, \"y\": 15, \"val\": 0}, {\"x\": 22, \"y\": 15, \"val\": 0}, {\"x\": 23, \"y\": 15, \"val\": 0}, {\"x\": 24, \"y\": 15, \"val\": 0}, {\"x\": 25, \"y\": 15, \"val\": 0}, {\"x\": 26, \"y\": 15, \"val\": 0}, {\"x\": 27, \"y\": 15, \"val\": 0}, {\"x\": 28, \"y\": 15, \"val\": 0}, {\"x\": 1, \"y\": 16, \"val\": 0}, {\"x\": 2, \"y\": 16, \"val\": 0}, {\"x\": 3, \"y\": 16, \"val\": 0}, {\"x\": 4, \"y\": 16, \"val\": 0}, {\"x\": 5, \"y\": 16, \"val\": 0}, {\"x\": 6, \"y\": 16, \"val\": 0}, {\"x\": 7, \"y\": 16, \"val\": 0}, {\"x\": 8, \"y\": 16, \"val\": 0}, {\"x\": 9, \"y\": 16, \"val\": 0}, {\"x\": 10, \"y\": 16, \"val\": 0}, {\"x\": 11, \"y\": 16, \"val\": 0}, {\"x\": 12, \"y\": 16, \"val\": 0}, {\"x\": 13, \"y\": 16, \"val\": 0}, {\"x\": 14, \"y\": 16, \"val\": 0}, {\"x\": 15, \"y\": 16, \"val\": 45}, {\"x\": 16, \"y\": 16, \"val\": 186}, {\"x\": 17, \"y\": 16, \"val\": 253}, {\"x\": 18, \"y\": 16, \"val\": 253}, {\"x\": 19, \"y\": 16, \"val\": 150}, {\"x\": 20, \"y\": 16, \"val\": 27}, {\"x\": 21, \"y\": 16, \"val\": 0}, {\"x\": 22, \"y\": 16, \"val\": 0}, {\"x\": 23, \"y\": 16, \"val\": 0}, {\"x\": 24, \"y\": 16, \"val\": 0}, {\"x\": 25, \"y\": 16, \"val\": 0}, {\"x\": 26, \"y\": 16, \"val\": 0}, {\"x\": 27, \"y\": 16, \"val\": 0}, {\"x\": 28, \"y\": 16, \"val\": 0}, {\"x\": 1, \"y\": 17, \"val\": 0}, {\"x\": 2, \"y\": 17, \"val\": 0}, {\"x\": 3, \"y\": 17, \"val\": 0}, {\"x\": 4, \"y\": 17, \"val\": 0}, {\"x\": 5, \"y\": 17, \"val\": 0}, {\"x\": 6, \"y\": 17, \"val\": 0}, {\"x\": 7, \"y\": 17, \"val\": 0}, {\"x\": 8, \"y\": 17, \"val\": 0}, {\"x\": 9, \"y\": 17, \"val\": 0}, {\"x\": 10, \"y\": 17, \"val\": 0}, {\"x\": 11, \"y\": 17, \"val\": 0}, {\"x\": 12, \"y\": 17, \"val\": 0}, {\"x\": 13, \"y\": 17, \"val\": 0}, {\"x\": 14, \"y\": 17, \"val\": 0}, {\"x\": 15, \"y\": 17, \"val\": 0}, {\"x\": 16, \"y\": 17, \"val\": 16}, {\"x\": 17, \"y\": 17, \"val\": 93}, {\"x\": 18, \"y\": 17, \"val\": 252}, {\"x\": 19, \"y\": 17, \"val\": 253}, {\"x\": 20, \"y\": 17, \"val\": 187}, {\"x\": 21, \"y\": 17, \"val\": 0}, {\"x\": 22, \"y\": 17, \"val\": 0}, {\"x\": 23, \"y\": 17, \"val\": 0}, {\"x\": 24, \"y\": 17, \"val\": 0}, {\"x\": 25, \"y\": 17, \"val\": 0}, {\"x\": 26, \"y\": 17, \"val\": 0}, {\"x\": 27, \"y\": 17, \"val\": 0}, {\"x\": 28, \"y\": 17, \"val\": 0}, {\"x\": 1, \"y\": 18, \"val\": 0}, {\"x\": 2, \"y\": 18, \"val\": 0}, {\"x\": 3, \"y\": 18, \"val\": 0}, {\"x\": 4, \"y\": 18, \"val\": 0}, {\"x\": 5, \"y\": 18, \"val\": 0}, {\"x\": 6, \"y\": 18, \"val\": 0}, {\"x\": 7, \"y\": 18, \"val\": 0}, {\"x\": 8, \"y\": 18, \"val\": 0}, {\"x\": 9, \"y\": 18, \"val\": 0}, {\"x\": 10, \"y\": 18, \"val\": 0}, {\"x\": 11, \"y\": 18, \"val\": 0}, {\"x\": 12, \"y\": 18, \"val\": 0}, {\"x\": 13, \"y\": 18, \"val\": 0}, {\"x\": 14, \"y\": 18, \"val\": 0}, {\"x\": 15, \"y\": 18, \"val\": 0}, {\"x\": 16, \"y\": 18, \"val\": 0}, {\"x\": 17, \"y\": 18, \"val\": 0}, {\"x\": 18, \"y\": 18, \"val\": 249}, {\"x\": 19, \"y\": 18, \"val\": 253}, {\"x\": 20, \"y\": 18, \"val\": 249}, {\"x\": 21, \"y\": 18, \"val\": 64}, {\"x\": 22, \"y\": 18, \"val\": 0}, {\"x\": 23, \"y\": 18, \"val\": 0}, {\"x\": 24, \"y\": 18, \"val\": 0}, {\"x\": 25, \"y\": 18, \"val\": 0}, {\"x\": 26, \"y\": 18, \"val\": 0}, {\"x\": 27, \"y\": 18, \"val\": 0}, {\"x\": 28, \"y\": 18, \"val\": 0}, {\"x\": 1, \"y\": 19, \"val\": 0}, {\"x\": 2, \"y\": 19, \"val\": 0}, {\"x\": 3, \"y\": 19, \"val\": 0}, {\"x\": 4, \"y\": 19, \"val\": 0}, {\"x\": 5, \"y\": 19, \"val\": 0}, {\"x\": 6, \"y\": 19, \"val\": 0}, {\"x\": 7, \"y\": 19, \"val\": 0}, {\"x\": 8, \"y\": 19, \"val\": 0}, {\"x\": 9, \"y\": 19, \"val\": 0}, {\"x\": 10, \"y\": 19, \"val\": 0}, {\"x\": 11, \"y\": 19, \"val\": 0}, {\"x\": 12, \"y\": 19, \"val\": 0}, {\"x\": 13, \"y\": 19, \"val\": 0}, {\"x\": 14, \"y\": 19, \"val\": 0}, {\"x\": 15, \"y\": 19, \"val\": 46}, {\"x\": 16, \"y\": 19, \"val\": 130}, {\"x\": 17, \"y\": 19, \"val\": 183}, {\"x\": 18, \"y\": 19, \"val\": 253}, {\"x\": 19, \"y\": 19, \"val\": 253}, {\"x\": 20, \"y\": 19, \"val\": 207}, {\"x\": 21, \"y\": 19, \"val\": 2}, {\"x\": 22, \"y\": 19, \"val\": 0}, {\"x\": 23, \"y\": 19, \"val\": 0}, {\"x\": 24, \"y\": 19, \"val\": 0}, {\"x\": 25, \"y\": 19, \"val\": 0}, {\"x\": 26, \"y\": 19, \"val\": 0}, {\"x\": 27, \"y\": 19, \"val\": 0}, {\"x\": 28, \"y\": 19, \"val\": 0}, {\"x\": 1, \"y\": 20, \"val\": 0}, {\"x\": 2, \"y\": 20, \"val\": 0}, {\"x\": 3, \"y\": 20, \"val\": 0}, {\"x\": 4, \"y\": 20, \"val\": 0}, {\"x\": 5, \"y\": 20, \"val\": 0}, {\"x\": 6, \"y\": 20, \"val\": 0}, {\"x\": 7, \"y\": 20, \"val\": 0}, {\"x\": 8, \"y\": 20, \"val\": 0}, {\"x\": 9, \"y\": 20, \"val\": 0}, {\"x\": 10, \"y\": 20, \"val\": 0}, {\"x\": 11, \"y\": 20, \"val\": 0}, {\"x\": 12, \"y\": 20, \"val\": 0}, {\"x\": 13, \"y\": 20, \"val\": 39}, {\"x\": 14, \"y\": 20, \"val\": 148}, {\"x\": 15, \"y\": 20, \"val\": 229}, {\"x\": 16, \"y\": 20, \"val\": 253}, {\"x\": 17, \"y\": 20, \"val\": 253}, {\"x\": 18, \"y\": 20, \"val\": 253}, {\"x\": 19, \"y\": 20, \"val\": 250}, {\"x\": 20, \"y\": 20, \"val\": 182}, {\"x\": 21, \"y\": 20, \"val\": 0}, {\"x\": 22, \"y\": 20, \"val\": 0}, {\"x\": 23, \"y\": 20, \"val\": 0}, {\"x\": 24, \"y\": 20, \"val\": 0}, {\"x\": 25, \"y\": 20, \"val\": 0}, {\"x\": 26, \"y\": 20, \"val\": 0}, {\"x\": 27, \"y\": 20, \"val\": 0}, {\"x\": 28, \"y\": 20, \"val\": 0}, {\"x\": 1, \"y\": 21, \"val\": 0}, {\"x\": 2, \"y\": 21, \"val\": 0}, {\"x\": 3, \"y\": 21, \"val\": 0}, {\"x\": 4, \"y\": 21, \"val\": 0}, {\"x\": 5, \"y\": 21, \"val\": 0}, {\"x\": 6, \"y\": 21, \"val\": 0}, {\"x\": 7, \"y\": 21, \"val\": 0}, {\"x\": 8, \"y\": 21, \"val\": 0}, {\"x\": 9, \"y\": 21, \"val\": 0}, {\"x\": 10, \"y\": 21, \"val\": 0}, {\"x\": 11, \"y\": 21, \"val\": 24}, {\"x\": 12, \"y\": 21, \"val\": 114}, {\"x\": 13, \"y\": 21, \"val\": 221}, {\"x\": 14, \"y\": 21, \"val\": 253}, {\"x\": 15, \"y\": 21, \"val\": 253}, {\"x\": 16, \"y\": 21, \"val\": 253}, {\"x\": 17, \"y\": 21, \"val\": 253}, {\"x\": 18, \"y\": 21, \"val\": 201}, {\"x\": 19, \"y\": 21, \"val\": 78}, {\"x\": 20, \"y\": 21, \"val\": 0}, {\"x\": 21, \"y\": 21, \"val\": 0}, {\"x\": 22, \"y\": 21, \"val\": 0}, {\"x\": 23, \"y\": 21, \"val\": 0}, {\"x\": 24, \"y\": 21, \"val\": 0}, {\"x\": 25, \"y\": 21, \"val\": 0}, {\"x\": 26, \"y\": 21, \"val\": 0}, {\"x\": 27, \"y\": 21, \"val\": 0}, {\"x\": 28, \"y\": 21, \"val\": 0}, {\"x\": 1, \"y\": 22, \"val\": 0}, {\"x\": 2, \"y\": 22, \"val\": 0}, {\"x\": 3, \"y\": 22, \"val\": 0}, {\"x\": 4, \"y\": 22, \"val\": 0}, {\"x\": 5, \"y\": 22, \"val\": 0}, {\"x\": 6, \"y\": 22, \"val\": 0}, {\"x\": 7, \"y\": 22, \"val\": 0}, {\"x\": 8, \"y\": 22, \"val\": 0}, {\"x\": 9, \"y\": 22, \"val\": 23}, {\"x\": 10, \"y\": 22, \"val\": 66}, {\"x\": 11, \"y\": 22, \"val\": 213}, {\"x\": 12, \"y\": 22, \"val\": 253}, {\"x\": 13, \"y\": 22, \"val\": 253}, {\"x\": 14, \"y\": 22, \"val\": 253}, {\"x\": 15, \"y\": 22, \"val\": 253}, {\"x\": 16, \"y\": 22, \"val\": 198}, {\"x\": 17, \"y\": 22, \"val\": 81}, {\"x\": 18, \"y\": 22, \"val\": 2}, {\"x\": 19, \"y\": 22, \"val\": 0}, {\"x\": 20, \"y\": 22, \"val\": 0}, {\"x\": 21, \"y\": 22, \"val\": 0}, {\"x\": 22, \"y\": 22, \"val\": 0}, {\"x\": 23, \"y\": 22, \"val\": 0}, {\"x\": 24, \"y\": 22, \"val\": 0}, {\"x\": 25, \"y\": 22, \"val\": 0}, {\"x\": 26, \"y\": 22, \"val\": 0}, {\"x\": 27, \"y\": 22, \"val\": 0}, {\"x\": 28, \"y\": 22, \"val\": 0}, {\"x\": 1, \"y\": 23, \"val\": 0}, {\"x\": 2, \"y\": 23, \"val\": 0}, {\"x\": 3, \"y\": 23, \"val\": 0}, {\"x\": 4, \"y\": 23, \"val\": 0}, {\"x\": 5, \"y\": 23, \"val\": 0}, {\"x\": 6, \"y\": 23, \"val\": 0}, {\"x\": 7, \"y\": 23, \"val\": 18}, {\"x\": 8, \"y\": 23, \"val\": 171}, {\"x\": 9, \"y\": 23, \"val\": 219}, {\"x\": 10, \"y\": 23, \"val\": 253}, {\"x\": 11, \"y\": 23, \"val\": 253}, {\"x\": 12, \"y\": 23, \"val\": 253}, {\"x\": 13, \"y\": 23, \"val\": 253}, {\"x\": 14, \"y\": 23, \"val\": 195}, {\"x\": 15, \"y\": 23, \"val\": 80}, {\"x\": 16, \"y\": 23, \"val\": 9}, {\"x\": 17, \"y\": 23, \"val\": 0}, {\"x\": 18, \"y\": 23, \"val\": 0}, {\"x\": 19, \"y\": 23, \"val\": 0}, {\"x\": 20, \"y\": 23, \"val\": 0}, {\"x\": 21, \"y\": 23, \"val\": 0}, {\"x\": 22, \"y\": 23, \"val\": 0}, {\"x\": 23, \"y\": 23, \"val\": 0}, {\"x\": 24, \"y\": 23, \"val\": 0}, {\"x\": 25, \"y\": 23, \"val\": 0}, {\"x\": 26, \"y\": 23, \"val\": 0}, {\"x\": 27, \"y\": 23, \"val\": 0}, {\"x\": 28, \"y\": 23, \"val\": 0}, {\"x\": 1, \"y\": 24, \"val\": 0}, {\"x\": 2, \"y\": 24, \"val\": 0}, {\"x\": 3, \"y\": 24, \"val\": 0}, {\"x\": 4, \"y\": 24, \"val\": 0}, {\"x\": 5, \"y\": 24, \"val\": 55}, {\"x\": 6, \"y\": 24, \"val\": 172}, {\"x\": 7, \"y\": 24, \"val\": 226}, {\"x\": 8, \"y\": 24, \"val\": 253}, {\"x\": 9, \"y\": 24, \"val\": 253}, {\"x\": 10, \"y\": 24, \"val\": 253}, {\"x\": 11, \"y\": 24, \"val\": 253}, {\"x\": 12, \"y\": 24, \"val\": 244}, {\"x\": 13, \"y\": 24, \"val\": 133}, {\"x\": 14, \"y\": 24, \"val\": 11}, {\"x\": 15, \"y\": 24, \"val\": 0}, {\"x\": 16, \"y\": 24, \"val\": 0}, {\"x\": 17, \"y\": 24, \"val\": 0}, {\"x\": 18, \"y\": 24, \"val\": 0}, {\"x\": 19, \"y\": 24, \"val\": 0}, {\"x\": 20, \"y\": 24, \"val\": 0}, {\"x\": 21, \"y\": 24, \"val\": 0}, {\"x\": 22, \"y\": 24, \"val\": 0}, {\"x\": 23, \"y\": 24, \"val\": 0}, {\"x\": 24, \"y\": 24, \"val\": 0}, {\"x\": 25, \"y\": 24, \"val\": 0}, {\"x\": 26, \"y\": 24, \"val\": 0}, {\"x\": 27, \"y\": 24, \"val\": 0}, {\"x\": 28, \"y\": 24, \"val\": 0}, {\"x\": 1, \"y\": 25, \"val\": 0}, {\"x\": 2, \"y\": 25, \"val\": 0}, {\"x\": 3, \"y\": 25, \"val\": 0}, {\"x\": 4, \"y\": 25, \"val\": 0}, {\"x\": 5, \"y\": 25, \"val\": 136}, {\"x\": 6, \"y\": 25, \"val\": 253}, {\"x\": 7, \"y\": 25, \"val\": 253}, {\"x\": 8, \"y\": 25, \"val\": 253}, {\"x\": 9, \"y\": 25, \"val\": 212}, {\"x\": 10, \"y\": 25, \"val\": 135}, {\"x\": 11, \"y\": 25, \"val\": 132}, {\"x\": 12, \"y\": 25, \"val\": 16}, {\"x\": 13, \"y\": 25, \"val\": 0}, {\"x\": 14, \"y\": 25, \"val\": 0}, {\"x\": 15, \"y\": 25, \"val\": 0}, {\"x\": 16, \"y\": 25, \"val\": 0}, {\"x\": 17, \"y\": 25, \"val\": 0}, {\"x\": 18, \"y\": 25, \"val\": 0}, {\"x\": 19, \"y\": 25, \"val\": 0}, {\"x\": 20, \"y\": 25, \"val\": 0}, {\"x\": 21, \"y\": 25, \"val\": 0}, {\"x\": 22, \"y\": 25, \"val\": 0}, {\"x\": 23, \"y\": 25, \"val\": 0}, {\"x\": 24, \"y\": 25, \"val\": 0}, {\"x\": 25, \"y\": 25, \"val\": 0}, {\"x\": 26, \"y\": 25, \"val\": 0}, {\"x\": 27, \"y\": 25, \"val\": 0}, {\"x\": 28, \"y\": 25, \"val\": 0}, {\"x\": 1, \"y\": 26, \"val\": 0}, {\"x\": 2, \"y\": 26, \"val\": 0}, {\"x\": 3, \"y\": 26, \"val\": 0}, {\"x\": 4, \"y\": 26, \"val\": 0}, {\"x\": 5, \"y\": 26, \"val\": 0}, {\"x\": 6, \"y\": 26, \"val\": 0}, {\"x\": 7, \"y\": 26, \"val\": 0}, {\"x\": 8, \"y\": 26, \"val\": 0}, {\"x\": 9, \"y\": 26, \"val\": 0}, {\"x\": 10, \"y\": 26, \"val\": 0}, {\"x\": 11, \"y\": 26, \"val\": 0}, {\"x\": 12, \"y\": 26, \"val\": 0}, {\"x\": 13, \"y\": 26, \"val\": 0}, {\"x\": 14, \"y\": 26, \"val\": 0}, {\"x\": 15, \"y\": 26, \"val\": 0}, {\"x\": 16, \"y\": 26, \"val\": 0}, {\"x\": 17, \"y\": 26, \"val\": 0}, {\"x\": 18, \"y\": 26, \"val\": 0}, {\"x\": 19, \"y\": 26, \"val\": 0}, {\"x\": 20, \"y\": 26, \"val\": 0}, {\"x\": 21, \"y\": 26, \"val\": 0}, {\"x\": 22, \"y\": 26, \"val\": 0}, {\"x\": 23, \"y\": 26, \"val\": 0}, {\"x\": 24, \"y\": 26, \"val\": 0}, {\"x\": 25, \"y\": 26, \"val\": 0}, {\"x\": 26, \"y\": 26, \"val\": 0}, {\"x\": 27, \"y\": 26, \"val\": 0}, {\"x\": 28, \"y\": 26, \"val\": 0}, {\"x\": 1, \"y\": 27, \"val\": 0}, {\"x\": 2, \"y\": 27, \"val\": 0}, {\"x\": 3, \"y\": 27, \"val\": 0}, {\"x\": 4, \"y\": 27, \"val\": 0}, {\"x\": 5, \"y\": 27, \"val\": 0}, {\"x\": 6, \"y\": 27, \"val\": 0}, {\"x\": 7, \"y\": 27, \"val\": 0}, {\"x\": 8, \"y\": 27, \"val\": 0}, {\"x\": 9, \"y\": 27, \"val\": 0}, {\"x\": 10, \"y\": 27, \"val\": 0}, {\"x\": 11, \"y\": 27, \"val\": 0}, {\"x\": 12, \"y\": 27, \"val\": 0}, {\"x\": 13, \"y\": 27, \"val\": 0}, {\"x\": 14, \"y\": 27, \"val\": 0}, {\"x\": 15, \"y\": 27, \"val\": 0}, {\"x\": 16, \"y\": 27, \"val\": 0}, {\"x\": 17, \"y\": 27, \"val\": 0}, {\"x\": 18, \"y\": 27, \"val\": 0}, {\"x\": 19, \"y\": 27, \"val\": 0}, {\"x\": 20, \"y\": 27, \"val\": 0}, {\"x\": 21, \"y\": 27, \"val\": 0}, {\"x\": 22, \"y\": 27, \"val\": 0}, {\"x\": 23, \"y\": 27, \"val\": 0}, {\"x\": 24, \"y\": 27, \"val\": 0}, {\"x\": 25, \"y\": 27, \"val\": 0}, {\"x\": 26, \"y\": 27, \"val\": 0}, {\"x\": 27, \"y\": 27, \"val\": 0}, {\"x\": 28, \"y\": 27, \"val\": 0}, {\"x\": 1, \"y\": 28, \"val\": 0}, {\"x\": 2, \"y\": 28, \"val\": 0}, {\"x\": 3, \"y\": 28, \"val\": 0}, {\"x\": 4, \"y\": 28, \"val\": 0}, {\"x\": 5, \"y\": 28, \"val\": 0}, {\"x\": 6, \"y\": 28, \"val\": 0}, {\"x\": 7, \"y\": 28, \"val\": 0}, {\"x\": 8, \"y\": 28, \"val\": 0}, {\"x\": 9, \"y\": 28, \"val\": 0}, {\"x\": 10, \"y\": 28, \"val\": 0}, {\"x\": 11, \"y\": 28, \"val\": 0}, {\"x\": 12, \"y\": 28, \"val\": 0}, {\"x\": 13, \"y\": 28, \"val\": 0}, {\"x\": 14, \"y\": 28, \"val\": 0}, {\"x\": 15, \"y\": 28, \"val\": 0}, {\"x\": 16, \"y\": 28, \"val\": 0}, {\"x\": 17, \"y\": 28, \"val\": 0}, {\"x\": 18, \"y\": 28, \"val\": 0}, {\"x\": 19, \"y\": 28, \"val\": 0}, {\"x\": 20, \"y\": 28, \"val\": 0}, {\"x\": 21, \"y\": 28, \"val\": 0}, {\"x\": 22, \"y\": 28, \"val\": 0}, {\"x\": 23, \"y\": 28, \"val\": 0}, {\"x\": 24, \"y\": 28, \"val\": 0}, {\"x\": 25, \"y\": 28, \"val\": 0}, {\"x\": 26, \"y\": 28, \"val\": 0}, {\"x\": 27, \"y\": 28, \"val\": 0}, {\"x\": 28, \"y\": 28, \"val\": 0}]}}, {\"mode\": \"vega-lite\"});\n",
              "</script>"
            ]
          },
          "metadata": {
            "tags": []
          },
          "execution_count": 16
        }
      ]
    },
    {
      "cell_type": "code",
      "metadata": {
        "execution": {
          "iopub.execute_input": "2021-08-02T20:00:45.523806Z",
          "iopub.status.busy": "2021-08-02T20:00:45.520546Z",
          "iopub.status.idle": "2021-08-02T20:00:45.593788Z",
          "shell.execute_reply": "2021-08-02T20:00:45.593501Z"
        },
        "id": "e1bc35cf",
        "colab": {
          "base_uri": "https://localhost:8080/",
          "height": 642
        },
        "outputId": "fc030198-6b30-4997-f3b8-099c07f92917"
      },
      "source": [
        "im = draw_image(4)\n",
        "im"
      ],
      "id": "e1bc35cf",
      "execution_count": null,
      "outputs": [
        {
          "output_type": "execute_result",
          "data": {
            "text/plain": [
              "alt.Chart(...)"
            ],
            "text/html": [
              "\n",
              "<div id=\"altair-viz-7aa32c977928478f896dab4b9856191a\"></div>\n",
              "<script type=\"text/javascript\">\n",
              "  (function(spec, embedOpt){\n",
              "    let outputDiv = document.currentScript.previousElementSibling;\n",
              "    if (outputDiv.id !== \"altair-viz-7aa32c977928478f896dab4b9856191a\") {\n",
              "      outputDiv = document.getElementById(\"altair-viz-7aa32c977928478f896dab4b9856191a\");\n",
              "    }\n",
              "    const paths = {\n",
              "      \"vega\": \"https://cdn.jsdelivr.net/npm//vega@5?noext\",\n",
              "      \"vega-lib\": \"https://cdn.jsdelivr.net/npm//vega-lib?noext\",\n",
              "      \"vega-lite\": \"https://cdn.jsdelivr.net/npm//vega-lite@4.8.1?noext\",\n",
              "      \"vega-embed\": \"https://cdn.jsdelivr.net/npm//vega-embed@6?noext\",\n",
              "    };\n",
              "\n",
              "    function loadScript(lib) {\n",
              "      return new Promise(function(resolve, reject) {\n",
              "        var s = document.createElement('script');\n",
              "        s.src = paths[lib];\n",
              "        s.async = true;\n",
              "        s.onload = () => resolve(paths[lib]);\n",
              "        s.onerror = () => reject(`Error loading script: ${paths[lib]}`);\n",
              "        document.getElementsByTagName(\"head\")[0].appendChild(s);\n",
              "      });\n",
              "    }\n",
              "\n",
              "    function showError(err) {\n",
              "      outputDiv.innerHTML = `<div class=\"error\" style=\"color:red;\">${err}</div>`;\n",
              "      throw err;\n",
              "    }\n",
              "\n",
              "    function displayChart(vegaEmbed) {\n",
              "      vegaEmbed(outputDiv, spec, embedOpt)\n",
              "        .catch(err => showError(`Javascript Error: ${err.message}<br>This usually means there's a typo in your chart specification. See the javascript console for the full traceback.`));\n",
              "    }\n",
              "\n",
              "    if(typeof define === \"function\" && define.amd) {\n",
              "      requirejs.config({paths});\n",
              "      require([\"vega-embed\"], displayChart, err => showError(`Error loading script: ${err.message}`));\n",
              "    } else if (typeof vegaEmbed === \"function\") {\n",
              "      displayChart(vegaEmbed);\n",
              "    } else {\n",
              "      loadScript(\"vega\")\n",
              "        .then(() => loadScript(\"vega-lite\"))\n",
              "        .then(() => loadScript(\"vega-embed\"))\n",
              "        .catch(showError)\n",
              "        .then(() => displayChart(vegaEmbed));\n",
              "    }\n",
              "  })({\"config\": {\"view\": {\"continuousWidth\": 400, \"continuousHeight\": 300}}, \"data\": {\"name\": \"data-e15d90ef0381d5ab543871ea7ca8ba5f\"}, \"mark\": \"rect\", \"encoding\": {\"color\": {\"type\": \"quantitative\", \"field\": \"val\"}, \"fill\": {\"type\": \"quantitative\", \"field\": \"val\"}, \"tooltip\": [{\"type\": \"quantitative\", \"field\": \"x\"}, {\"type\": \"quantitative\", \"field\": \"y\"}, {\"type\": \"quantitative\", \"field\": \"val\"}], \"x\": {\"type\": \"ordinal\", \"field\": \"x\"}, \"y\": {\"type\": \"ordinal\", \"field\": \"y\"}}, \"title\": \"Image of a 9\", \"$schema\": \"https://vega.github.io/schema/vega-lite/v4.8.1.json\", \"datasets\": {\"data-e15d90ef0381d5ab543871ea7ca8ba5f\": [{\"x\": 1, \"y\": 1, \"val\": 0}, {\"x\": 2, \"y\": 1, \"val\": 0}, {\"x\": 3, \"y\": 1, \"val\": 0}, {\"x\": 4, \"y\": 1, \"val\": 0}, {\"x\": 5, \"y\": 1, \"val\": 0}, {\"x\": 6, \"y\": 1, \"val\": 0}, {\"x\": 7, \"y\": 1, \"val\": 0}, {\"x\": 8, \"y\": 1, \"val\": 0}, {\"x\": 9, \"y\": 1, \"val\": 0}, {\"x\": 10, \"y\": 1, \"val\": 0}, {\"x\": 11, \"y\": 1, \"val\": 0}, {\"x\": 12, \"y\": 1, \"val\": 0}, {\"x\": 13, \"y\": 1, \"val\": 0}, {\"x\": 14, \"y\": 1, \"val\": 0}, {\"x\": 15, \"y\": 1, \"val\": 0}, {\"x\": 16, \"y\": 1, \"val\": 0}, {\"x\": 17, \"y\": 1, \"val\": 0}, {\"x\": 18, \"y\": 1, \"val\": 0}, {\"x\": 19, \"y\": 1, \"val\": 0}, {\"x\": 20, \"y\": 1, \"val\": 0}, {\"x\": 21, \"y\": 1, \"val\": 0}, {\"x\": 22, \"y\": 1, \"val\": 0}, {\"x\": 23, \"y\": 1, \"val\": 0}, {\"x\": 24, \"y\": 1, \"val\": 0}, {\"x\": 25, \"y\": 1, \"val\": 0}, {\"x\": 26, \"y\": 1, \"val\": 0}, {\"x\": 27, \"y\": 1, \"val\": 0}, {\"x\": 28, \"y\": 1, \"val\": 0}, {\"x\": 1, \"y\": 2, \"val\": 0}, {\"x\": 2, \"y\": 2, \"val\": 0}, {\"x\": 3, \"y\": 2, \"val\": 0}, {\"x\": 4, \"y\": 2, \"val\": 0}, {\"x\": 5, \"y\": 2, \"val\": 0}, {\"x\": 6, \"y\": 2, \"val\": 0}, {\"x\": 7, \"y\": 2, \"val\": 0}, {\"x\": 8, \"y\": 2, \"val\": 0}, {\"x\": 9, \"y\": 2, \"val\": 0}, {\"x\": 10, \"y\": 2, \"val\": 0}, {\"x\": 11, \"y\": 2, \"val\": 0}, {\"x\": 12, \"y\": 2, \"val\": 0}, {\"x\": 13, \"y\": 2, \"val\": 0}, {\"x\": 14, \"y\": 2, \"val\": 0}, {\"x\": 15, \"y\": 2, \"val\": 0}, {\"x\": 16, \"y\": 2, \"val\": 0}, {\"x\": 17, \"y\": 2, \"val\": 0}, {\"x\": 18, \"y\": 2, \"val\": 0}, {\"x\": 19, \"y\": 2, \"val\": 0}, {\"x\": 20, \"y\": 2, \"val\": 0}, {\"x\": 21, \"y\": 2, \"val\": 0}, {\"x\": 22, \"y\": 2, \"val\": 0}, {\"x\": 23, \"y\": 2, \"val\": 0}, {\"x\": 24, \"y\": 2, \"val\": 0}, {\"x\": 25, \"y\": 2, \"val\": 0}, {\"x\": 26, \"y\": 2, \"val\": 0}, {\"x\": 27, \"y\": 2, \"val\": 0}, {\"x\": 28, \"y\": 2, \"val\": 0}, {\"x\": 1, \"y\": 3, \"val\": 0}, {\"x\": 2, \"y\": 3, \"val\": 0}, {\"x\": 3, \"y\": 3, \"val\": 0}, {\"x\": 4, \"y\": 3, \"val\": 0}, {\"x\": 5, \"y\": 3, \"val\": 0}, {\"x\": 6, \"y\": 3, \"val\": 0}, {\"x\": 7, \"y\": 3, \"val\": 0}, {\"x\": 8, \"y\": 3, \"val\": 0}, {\"x\": 9, \"y\": 3, \"val\": 0}, {\"x\": 10, \"y\": 3, \"val\": 0}, {\"x\": 11, \"y\": 3, \"val\": 0}, {\"x\": 12, \"y\": 3, \"val\": 0}, {\"x\": 13, \"y\": 3, \"val\": 0}, {\"x\": 14, \"y\": 3, \"val\": 0}, {\"x\": 15, \"y\": 3, \"val\": 0}, {\"x\": 16, \"y\": 3, \"val\": 0}, {\"x\": 17, \"y\": 3, \"val\": 0}, {\"x\": 18, \"y\": 3, \"val\": 0}, {\"x\": 19, \"y\": 3, \"val\": 0}, {\"x\": 20, \"y\": 3, \"val\": 0}, {\"x\": 21, \"y\": 3, \"val\": 0}, {\"x\": 22, \"y\": 3, \"val\": 0}, {\"x\": 23, \"y\": 3, \"val\": 0}, {\"x\": 24, \"y\": 3, \"val\": 0}, {\"x\": 25, \"y\": 3, \"val\": 0}, {\"x\": 26, \"y\": 3, \"val\": 0}, {\"x\": 27, \"y\": 3, \"val\": 0}, {\"x\": 28, \"y\": 3, \"val\": 0}, {\"x\": 1, \"y\": 4, \"val\": 0}, {\"x\": 2, \"y\": 4, \"val\": 0}, {\"x\": 3, \"y\": 4, \"val\": 0}, {\"x\": 4, \"y\": 4, \"val\": 0}, {\"x\": 5, \"y\": 4, \"val\": 0}, {\"x\": 6, \"y\": 4, \"val\": 0}, {\"x\": 7, \"y\": 4, \"val\": 0}, {\"x\": 8, \"y\": 4, \"val\": 0}, {\"x\": 9, \"y\": 4, \"val\": 0}, {\"x\": 10, \"y\": 4, \"val\": 0}, {\"x\": 11, \"y\": 4, \"val\": 0}, {\"x\": 12, \"y\": 4, \"val\": 0}, {\"x\": 13, \"y\": 4, \"val\": 0}, {\"x\": 14, \"y\": 4, \"val\": 0}, {\"x\": 15, \"y\": 4, \"val\": 0}, {\"x\": 16, \"y\": 4, \"val\": 0}, {\"x\": 17, \"y\": 4, \"val\": 0}, {\"x\": 18, \"y\": 4, \"val\": 0}, {\"x\": 19, \"y\": 4, \"val\": 0}, {\"x\": 20, \"y\": 4, \"val\": 0}, {\"x\": 21, \"y\": 4, \"val\": 0}, {\"x\": 22, \"y\": 4, \"val\": 0}, {\"x\": 23, \"y\": 4, \"val\": 0}, {\"x\": 24, \"y\": 4, \"val\": 0}, {\"x\": 25, \"y\": 4, \"val\": 0}, {\"x\": 26, \"y\": 4, \"val\": 0}, {\"x\": 27, \"y\": 4, \"val\": 0}, {\"x\": 28, \"y\": 4, \"val\": 0}, {\"x\": 1, \"y\": 5, \"val\": 0}, {\"x\": 2, \"y\": 5, \"val\": 0}, {\"x\": 3, \"y\": 5, \"val\": 0}, {\"x\": 4, \"y\": 5, \"val\": 0}, {\"x\": 5, \"y\": 5, \"val\": 0}, {\"x\": 6, \"y\": 5, \"val\": 0}, {\"x\": 7, \"y\": 5, \"val\": 0}, {\"x\": 8, \"y\": 5, \"val\": 0}, {\"x\": 9, \"y\": 5, \"val\": 0}, {\"x\": 10, \"y\": 5, \"val\": 0}, {\"x\": 11, \"y\": 5, \"val\": 0}, {\"x\": 12, \"y\": 5, \"val\": 0}, {\"x\": 13, \"y\": 5, \"val\": 0}, {\"x\": 14, \"y\": 5, \"val\": 0}, {\"x\": 15, \"y\": 5, \"val\": 0}, {\"x\": 16, \"y\": 5, \"val\": 0}, {\"x\": 17, \"y\": 5, \"val\": 0}, {\"x\": 18, \"y\": 5, \"val\": 0}, {\"x\": 19, \"y\": 5, \"val\": 0}, {\"x\": 20, \"y\": 5, \"val\": 0}, {\"x\": 21, \"y\": 5, \"val\": 0}, {\"x\": 22, \"y\": 5, \"val\": 0}, {\"x\": 23, \"y\": 5, \"val\": 0}, {\"x\": 24, \"y\": 5, \"val\": 0}, {\"x\": 25, \"y\": 5, \"val\": 0}, {\"x\": 26, \"y\": 5, \"val\": 0}, {\"x\": 27, \"y\": 5, \"val\": 0}, {\"x\": 28, \"y\": 5, \"val\": 0}, {\"x\": 1, \"y\": 6, \"val\": 0}, {\"x\": 2, \"y\": 6, \"val\": 0}, {\"x\": 3, \"y\": 6, \"val\": 0}, {\"x\": 4, \"y\": 6, \"val\": 0}, {\"x\": 5, \"y\": 6, \"val\": 0}, {\"x\": 6, \"y\": 6, \"val\": 0}, {\"x\": 7, \"y\": 6, \"val\": 0}, {\"x\": 8, \"y\": 6, \"val\": 0}, {\"x\": 9, \"y\": 6, \"val\": 0}, {\"x\": 10, \"y\": 6, \"val\": 0}, {\"x\": 11, \"y\": 6, \"val\": 0}, {\"x\": 12, \"y\": 6, \"val\": 0}, {\"x\": 13, \"y\": 6, \"val\": 0}, {\"x\": 14, \"y\": 6, \"val\": 0}, {\"x\": 15, \"y\": 6, \"val\": 0}, {\"x\": 16, \"y\": 6, \"val\": 0}, {\"x\": 17, \"y\": 6, \"val\": 0}, {\"x\": 18, \"y\": 6, \"val\": 0}, {\"x\": 19, \"y\": 6, \"val\": 0}, {\"x\": 20, \"y\": 6, \"val\": 0}, {\"x\": 21, \"y\": 6, \"val\": 0}, {\"x\": 22, \"y\": 6, \"val\": 0}, {\"x\": 23, \"y\": 6, \"val\": 0}, {\"x\": 24, \"y\": 6, \"val\": 0}, {\"x\": 25, \"y\": 6, \"val\": 0}, {\"x\": 26, \"y\": 6, \"val\": 0}, {\"x\": 27, \"y\": 6, \"val\": 0}, {\"x\": 28, \"y\": 6, \"val\": 0}, {\"x\": 1, \"y\": 7, \"val\": 0}, {\"x\": 2, \"y\": 7, \"val\": 0}, {\"x\": 3, \"y\": 7, \"val\": 0}, {\"x\": 4, \"y\": 7, \"val\": 0}, {\"x\": 5, \"y\": 7, \"val\": 0}, {\"x\": 6, \"y\": 7, \"val\": 0}, {\"x\": 7, \"y\": 7, \"val\": 0}, {\"x\": 8, \"y\": 7, \"val\": 0}, {\"x\": 9, \"y\": 7, \"val\": 0}, {\"x\": 10, \"y\": 7, \"val\": 0}, {\"x\": 11, \"y\": 7, \"val\": 0}, {\"x\": 12, \"y\": 7, \"val\": 0}, {\"x\": 13, \"y\": 7, \"val\": 0}, {\"x\": 14, \"y\": 7, \"val\": 0}, {\"x\": 15, \"y\": 7, \"val\": 0}, {\"x\": 16, \"y\": 7, \"val\": 0}, {\"x\": 17, \"y\": 7, \"val\": 0}, {\"x\": 18, \"y\": 7, \"val\": 0}, {\"x\": 19, \"y\": 7, \"val\": 0}, {\"x\": 20, \"y\": 7, \"val\": 0}, {\"x\": 21, \"y\": 7, \"val\": 0}, {\"x\": 22, \"y\": 7, \"val\": 0}, {\"x\": 23, \"y\": 7, \"val\": 0}, {\"x\": 24, \"y\": 7, \"val\": 0}, {\"x\": 25, \"y\": 7, \"val\": 0}, {\"x\": 26, \"y\": 7, \"val\": 0}, {\"x\": 27, \"y\": 7, \"val\": 0}, {\"x\": 28, \"y\": 7, \"val\": 0}, {\"x\": 1, \"y\": 8, \"val\": 0}, {\"x\": 2, \"y\": 8, \"val\": 0}, {\"x\": 3, \"y\": 8, \"val\": 0}, {\"x\": 4, \"y\": 8, \"val\": 0}, {\"x\": 5, \"y\": 8, \"val\": 0}, {\"x\": 6, \"y\": 8, \"val\": 0}, {\"x\": 7, \"y\": 8, \"val\": 0}, {\"x\": 8, \"y\": 8, \"val\": 0}, {\"x\": 9, \"y\": 8, \"val\": 0}, {\"x\": 10, \"y\": 8, \"val\": 0}, {\"x\": 11, \"y\": 8, \"val\": 0}, {\"x\": 12, \"y\": 8, \"val\": 0}, {\"x\": 13, \"y\": 8, \"val\": 55}, {\"x\": 14, \"y\": 8, \"val\": 148}, {\"x\": 15, \"y\": 8, \"val\": 210}, {\"x\": 16, \"y\": 8, \"val\": 253}, {\"x\": 17, \"y\": 8, \"val\": 253}, {\"x\": 18, \"y\": 8, \"val\": 113}, {\"x\": 19, \"y\": 8, \"val\": 87}, {\"x\": 20, \"y\": 8, \"val\": 148}, {\"x\": 21, \"y\": 8, \"val\": 55}, {\"x\": 22, \"y\": 8, \"val\": 0}, {\"x\": 23, \"y\": 8, \"val\": 0}, {\"x\": 24, \"y\": 8, \"val\": 0}, {\"x\": 25, \"y\": 8, \"val\": 0}, {\"x\": 26, \"y\": 8, \"val\": 0}, {\"x\": 27, \"y\": 8, \"val\": 0}, {\"x\": 28, \"y\": 8, \"val\": 0}, {\"x\": 1, \"y\": 9, \"val\": 0}, {\"x\": 2, \"y\": 9, \"val\": 0}, {\"x\": 3, \"y\": 9, \"val\": 0}, {\"x\": 4, \"y\": 9, \"val\": 0}, {\"x\": 5, \"y\": 9, \"val\": 0}, {\"x\": 6, \"y\": 9, \"val\": 0}, {\"x\": 7, \"y\": 9, \"val\": 0}, {\"x\": 8, \"y\": 9, \"val\": 0}, {\"x\": 9, \"y\": 9, \"val\": 0}, {\"x\": 10, \"y\": 9, \"val\": 0}, {\"x\": 11, \"y\": 9, \"val\": 0}, {\"x\": 12, \"y\": 9, \"val\": 87}, {\"x\": 13, \"y\": 9, \"val\": 232}, {\"x\": 14, \"y\": 9, \"val\": 252}, {\"x\": 15, \"y\": 9, \"val\": 253}, {\"x\": 16, \"y\": 9, \"val\": 189}, {\"x\": 17, \"y\": 9, \"val\": 210}, {\"x\": 18, \"y\": 9, \"val\": 252}, {\"x\": 19, \"y\": 9, \"val\": 252}, {\"x\": 20, \"y\": 9, \"val\": 253}, {\"x\": 21, \"y\": 9, \"val\": 168}, {\"x\": 22, \"y\": 9, \"val\": 0}, {\"x\": 23, \"y\": 9, \"val\": 0}, {\"x\": 24, \"y\": 9, \"val\": 0}, {\"x\": 25, \"y\": 9, \"val\": 0}, {\"x\": 26, \"y\": 9, \"val\": 0}, {\"x\": 27, \"y\": 9, \"val\": 0}, {\"x\": 28, \"y\": 9, \"val\": 0}, {\"x\": 1, \"y\": 10, \"val\": 0}, {\"x\": 2, \"y\": 10, \"val\": 0}, {\"x\": 3, \"y\": 10, \"val\": 0}, {\"x\": 4, \"y\": 10, \"val\": 0}, {\"x\": 5, \"y\": 10, \"val\": 0}, {\"x\": 6, \"y\": 10, \"val\": 0}, {\"x\": 7, \"y\": 10, \"val\": 0}, {\"x\": 8, \"y\": 10, \"val\": 0}, {\"x\": 9, \"y\": 10, \"val\": 0}, {\"x\": 10, \"y\": 10, \"val\": 4}, {\"x\": 11, \"y\": 10, \"val\": 57}, {\"x\": 12, \"y\": 10, \"val\": 242}, {\"x\": 13, \"y\": 10, \"val\": 252}, {\"x\": 14, \"y\": 10, \"val\": 190}, {\"x\": 15, \"y\": 10, \"val\": 65}, {\"x\": 16, \"y\": 10, \"val\": 5}, {\"x\": 17, \"y\": 10, \"val\": 12}, {\"x\": 18, \"y\": 10, \"val\": 182}, {\"x\": 19, \"y\": 10, \"val\": 252}, {\"x\": 20, \"y\": 10, \"val\": 253}, {\"x\": 21, \"y\": 10, \"val\": 116}, {\"x\": 22, \"y\": 10, \"val\": 0}, {\"x\": 23, \"y\": 10, \"val\": 0}, {\"x\": 24, \"y\": 10, \"val\": 0}, {\"x\": 25, \"y\": 10, \"val\": 0}, {\"x\": 26, \"y\": 10, \"val\": 0}, {\"x\": 27, \"y\": 10, \"val\": 0}, {\"x\": 28, \"y\": 10, \"val\": 0}, {\"x\": 1, \"y\": 11, \"val\": 0}, {\"x\": 2, \"y\": 11, \"val\": 0}, {\"x\": 3, \"y\": 11, \"val\": 0}, {\"x\": 4, \"y\": 11, \"val\": 0}, {\"x\": 5, \"y\": 11, \"val\": 0}, {\"x\": 6, \"y\": 11, \"val\": 0}, {\"x\": 7, \"y\": 11, \"val\": 0}, {\"x\": 8, \"y\": 11, \"val\": 0}, {\"x\": 9, \"y\": 11, \"val\": 0}, {\"x\": 10, \"y\": 11, \"val\": 96}, {\"x\": 11, \"y\": 11, \"val\": 252}, {\"x\": 12, \"y\": 11, \"val\": 252}, {\"x\": 13, \"y\": 11, \"val\": 183}, {\"x\": 14, \"y\": 11, \"val\": 14}, {\"x\": 15, \"y\": 11, \"val\": 0}, {\"x\": 16, \"y\": 11, \"val\": 0}, {\"x\": 17, \"y\": 11, \"val\": 92}, {\"x\": 18, \"y\": 11, \"val\": 252}, {\"x\": 19, \"y\": 11, \"val\": 252}, {\"x\": 20, \"y\": 11, \"val\": 225}, {\"x\": 21, \"y\": 11, \"val\": 21}, {\"x\": 22, \"y\": 11, \"val\": 0}, {\"x\": 23, \"y\": 11, \"val\": 0}, {\"x\": 24, \"y\": 11, \"val\": 0}, {\"x\": 25, \"y\": 11, \"val\": 0}, {\"x\": 26, \"y\": 11, \"val\": 0}, {\"x\": 27, \"y\": 11, \"val\": 0}, {\"x\": 28, \"y\": 11, \"val\": 0}, {\"x\": 1, \"y\": 12, \"val\": 0}, {\"x\": 2, \"y\": 12, \"val\": 0}, {\"x\": 3, \"y\": 12, \"val\": 0}, {\"x\": 4, \"y\": 12, \"val\": 0}, {\"x\": 5, \"y\": 12, \"val\": 0}, {\"x\": 6, \"y\": 12, \"val\": 0}, {\"x\": 7, \"y\": 12, \"val\": 0}, {\"x\": 8, \"y\": 12, \"val\": 0}, {\"x\": 9, \"y\": 12, \"val\": 132}, {\"x\": 10, \"y\": 12, \"val\": 253}, {\"x\": 11, \"y\": 12, \"val\": 252}, {\"x\": 12, \"y\": 12, \"val\": 146}, {\"x\": 13, \"y\": 12, \"val\": 14}, {\"x\": 14, \"y\": 12, \"val\": 0}, {\"x\": 15, \"y\": 12, \"val\": 0}, {\"x\": 16, \"y\": 12, \"val\": 0}, {\"x\": 17, \"y\": 12, \"val\": 215}, {\"x\": 18, \"y\": 12, \"val\": 252}, {\"x\": 19, \"y\": 12, \"val\": 252}, {\"x\": 20, \"y\": 12, \"val\": 79}, {\"x\": 21, \"y\": 12, \"val\": 0}, {\"x\": 22, \"y\": 12, \"val\": 0}, {\"x\": 23, \"y\": 12, \"val\": 0}, {\"x\": 24, \"y\": 12, \"val\": 0}, {\"x\": 25, \"y\": 12, \"val\": 0}, {\"x\": 26, \"y\": 12, \"val\": 0}, {\"x\": 27, \"y\": 12, \"val\": 0}, {\"x\": 28, \"y\": 12, \"val\": 0}, {\"x\": 1, \"y\": 13, \"val\": 0}, {\"x\": 2, \"y\": 13, \"val\": 0}, {\"x\": 3, \"y\": 13, \"val\": 0}, {\"x\": 4, \"y\": 13, \"val\": 0}, {\"x\": 5, \"y\": 13, \"val\": 0}, {\"x\": 6, \"y\": 13, \"val\": 0}, {\"x\": 7, \"y\": 13, \"val\": 0}, {\"x\": 8, \"y\": 13, \"val\": 126}, {\"x\": 9, \"y\": 13, \"val\": 253}, {\"x\": 10, \"y\": 13, \"val\": 247}, {\"x\": 11, \"y\": 13, \"val\": 176}, {\"x\": 12, \"y\": 13, \"val\": 9}, {\"x\": 13, \"y\": 13, \"val\": 0}, {\"x\": 14, \"y\": 13, \"val\": 0}, {\"x\": 15, \"y\": 13, \"val\": 8}, {\"x\": 16, \"y\": 13, \"val\": 78}, {\"x\": 17, \"y\": 13, \"val\": 245}, {\"x\": 18, \"y\": 13, \"val\": 253}, {\"x\": 19, \"y\": 13, \"val\": 129}, {\"x\": 20, \"y\": 13, \"val\": 0}, {\"x\": 21, \"y\": 13, \"val\": 0}, {\"x\": 22, \"y\": 13, \"val\": 0}, {\"x\": 23, \"y\": 13, \"val\": 0}, {\"x\": 24, \"y\": 13, \"val\": 0}, {\"x\": 25, \"y\": 13, \"val\": 0}, {\"x\": 26, \"y\": 13, \"val\": 0}, {\"x\": 27, \"y\": 13, \"val\": 0}, {\"x\": 28, \"y\": 13, \"val\": 0}, {\"x\": 1, \"y\": 14, \"val\": 0}, {\"x\": 2, \"y\": 14, \"val\": 0}, {\"x\": 3, \"y\": 14, \"val\": 0}, {\"x\": 4, \"y\": 14, \"val\": 0}, {\"x\": 5, \"y\": 14, \"val\": 0}, {\"x\": 6, \"y\": 14, \"val\": 0}, {\"x\": 7, \"y\": 14, \"val\": 16}, {\"x\": 8, \"y\": 14, \"val\": 232}, {\"x\": 9, \"y\": 14, \"val\": 252}, {\"x\": 10, \"y\": 14, \"val\": 176}, {\"x\": 11, \"y\": 14, \"val\": 0}, {\"x\": 12, \"y\": 14, \"val\": 0}, {\"x\": 13, \"y\": 14, \"val\": 0}, {\"x\": 14, \"y\": 14, \"val\": 36}, {\"x\": 15, \"y\": 14, \"val\": 201}, {\"x\": 16, \"y\": 14, \"val\": 252}, {\"x\": 17, \"y\": 14, \"val\": 252}, {\"x\": 18, \"y\": 14, \"val\": 169}, {\"x\": 19, \"y\": 14, \"val\": 11}, {\"x\": 20, \"y\": 14, \"val\": 0}, {\"x\": 21, \"y\": 14, \"val\": 0}, {\"x\": 22, \"y\": 14, \"val\": 0}, {\"x\": 23, \"y\": 14, \"val\": 0}, {\"x\": 24, \"y\": 14, \"val\": 0}, {\"x\": 25, \"y\": 14, \"val\": 0}, {\"x\": 26, \"y\": 14, \"val\": 0}, {\"x\": 27, \"y\": 14, \"val\": 0}, {\"x\": 28, \"y\": 14, \"val\": 0}, {\"x\": 1, \"y\": 15, \"val\": 0}, {\"x\": 2, \"y\": 15, \"val\": 0}, {\"x\": 3, \"y\": 15, \"val\": 0}, {\"x\": 4, \"y\": 15, \"val\": 0}, {\"x\": 5, \"y\": 15, \"val\": 0}, {\"x\": 6, \"y\": 15, \"val\": 0}, {\"x\": 7, \"y\": 15, \"val\": 22}, {\"x\": 8, \"y\": 15, \"val\": 252}, {\"x\": 9, \"y\": 15, \"val\": 252}, {\"x\": 10, \"y\": 15, \"val\": 30}, {\"x\": 11, \"y\": 15, \"val\": 22}, {\"x\": 12, \"y\": 15, \"val\": 119}, {\"x\": 13, \"y\": 15, \"val\": 197}, {\"x\": 14, \"y\": 15, \"val\": 241}, {\"x\": 15, \"y\": 15, \"val\": 253}, {\"x\": 16, \"y\": 15, \"val\": 252}, {\"x\": 17, \"y\": 15, \"val\": 251}, {\"x\": 18, \"y\": 15, \"val\": 77}, {\"x\": 19, \"y\": 15, \"val\": 0}, {\"x\": 20, \"y\": 15, \"val\": 0}, {\"x\": 21, \"y\": 15, \"val\": 0}, {\"x\": 22, \"y\": 15, \"val\": 0}, {\"x\": 23, \"y\": 15, \"val\": 0}, {\"x\": 24, \"y\": 15, \"val\": 0}, {\"x\": 25, \"y\": 15, \"val\": 0}, {\"x\": 26, \"y\": 15, \"val\": 0}, {\"x\": 27, \"y\": 15, \"val\": 0}, {\"x\": 28, \"y\": 15, \"val\": 0}, {\"x\": 1, \"y\": 16, \"val\": 0}, {\"x\": 2, \"y\": 16, \"val\": 0}, {\"x\": 3, \"y\": 16, \"val\": 0}, {\"x\": 4, \"y\": 16, \"val\": 0}, {\"x\": 5, \"y\": 16, \"val\": 0}, {\"x\": 6, \"y\": 16, \"val\": 0}, {\"x\": 7, \"y\": 16, \"val\": 16}, {\"x\": 8, \"y\": 16, \"val\": 231}, {\"x\": 9, \"y\": 16, \"val\": 252}, {\"x\": 10, \"y\": 16, \"val\": 253}, {\"x\": 11, \"y\": 16, \"val\": 252}, {\"x\": 12, \"y\": 16, \"val\": 252}, {\"x\": 13, \"y\": 16, \"val\": 252}, {\"x\": 14, \"y\": 16, \"val\": 226}, {\"x\": 15, \"y\": 16, \"val\": 227}, {\"x\": 16, \"y\": 16, \"val\": 252}, {\"x\": 17, \"y\": 16, \"val\": 231}, {\"x\": 18, \"y\": 16, \"val\": 0}, {\"x\": 19, \"y\": 16, \"val\": 0}, {\"x\": 20, \"y\": 16, \"val\": 0}, {\"x\": 21, \"y\": 16, \"val\": 0}, {\"x\": 22, \"y\": 16, \"val\": 0}, {\"x\": 23, \"y\": 16, \"val\": 0}, {\"x\": 24, \"y\": 16, \"val\": 0}, {\"x\": 25, \"y\": 16, \"val\": 0}, {\"x\": 26, \"y\": 16, \"val\": 0}, {\"x\": 27, \"y\": 16, \"val\": 0}, {\"x\": 28, \"y\": 16, \"val\": 0}, {\"x\": 1, \"y\": 17, \"val\": 0}, {\"x\": 2, \"y\": 17, \"val\": 0}, {\"x\": 3, \"y\": 17, \"val\": 0}, {\"x\": 4, \"y\": 17, \"val\": 0}, {\"x\": 5, \"y\": 17, \"val\": 0}, {\"x\": 6, \"y\": 17, \"val\": 0}, {\"x\": 7, \"y\": 17, \"val\": 0}, {\"x\": 8, \"y\": 17, \"val\": 55}, {\"x\": 9, \"y\": 17, \"val\": 235}, {\"x\": 10, \"y\": 17, \"val\": 253}, {\"x\": 11, \"y\": 17, \"val\": 217}, {\"x\": 12, \"y\": 17, \"val\": 138}, {\"x\": 13, \"y\": 17, \"val\": 42}, {\"x\": 14, \"y\": 17, \"val\": 24}, {\"x\": 15, \"y\": 17, \"val\": 192}, {\"x\": 16, \"y\": 17, \"val\": 252}, {\"x\": 17, \"y\": 17, \"val\": 143}, {\"x\": 18, \"y\": 17, \"val\": 0}, {\"x\": 19, \"y\": 17, \"val\": 0}, {\"x\": 20, \"y\": 17, \"val\": 0}, {\"x\": 21, \"y\": 17, \"val\": 0}, {\"x\": 22, \"y\": 17, \"val\": 0}, {\"x\": 23, \"y\": 17, \"val\": 0}, {\"x\": 24, \"y\": 17, \"val\": 0}, {\"x\": 25, \"y\": 17, \"val\": 0}, {\"x\": 26, \"y\": 17, \"val\": 0}, {\"x\": 27, \"y\": 17, \"val\": 0}, {\"x\": 28, \"y\": 17, \"val\": 0}, {\"x\": 1, \"y\": 18, \"val\": 0}, {\"x\": 2, \"y\": 18, \"val\": 0}, {\"x\": 3, \"y\": 18, \"val\": 0}, {\"x\": 4, \"y\": 18, \"val\": 0}, {\"x\": 5, \"y\": 18, \"val\": 0}, {\"x\": 6, \"y\": 18, \"val\": 0}, {\"x\": 7, \"y\": 18, \"val\": 0}, {\"x\": 8, \"y\": 18, \"val\": 0}, {\"x\": 9, \"y\": 18, \"val\": 0}, {\"x\": 10, \"y\": 18, \"val\": 0}, {\"x\": 11, \"y\": 18, \"val\": 0}, {\"x\": 12, \"y\": 18, \"val\": 0}, {\"x\": 13, \"y\": 18, \"val\": 0}, {\"x\": 14, \"y\": 18, \"val\": 62}, {\"x\": 15, \"y\": 18, \"val\": 255}, {\"x\": 16, \"y\": 18, \"val\": 253}, {\"x\": 17, \"y\": 18, \"val\": 109}, {\"x\": 18, \"y\": 18, \"val\": 0}, {\"x\": 19, \"y\": 18, \"val\": 0}, {\"x\": 20, \"y\": 18, \"val\": 0}, {\"x\": 21, \"y\": 18, \"val\": 0}, {\"x\": 22, \"y\": 18, \"val\": 0}, {\"x\": 23, \"y\": 18, \"val\": 0}, {\"x\": 24, \"y\": 18, \"val\": 0}, {\"x\": 25, \"y\": 18, \"val\": 0}, {\"x\": 26, \"y\": 18, \"val\": 0}, {\"x\": 27, \"y\": 18, \"val\": 0}, {\"x\": 28, \"y\": 18, \"val\": 0}, {\"x\": 1, \"y\": 19, \"val\": 0}, {\"x\": 2, \"y\": 19, \"val\": 0}, {\"x\": 3, \"y\": 19, \"val\": 0}, {\"x\": 4, \"y\": 19, \"val\": 0}, {\"x\": 5, \"y\": 19, \"val\": 0}, {\"x\": 6, \"y\": 19, \"val\": 0}, {\"x\": 7, \"y\": 19, \"val\": 0}, {\"x\": 8, \"y\": 19, \"val\": 0}, {\"x\": 9, \"y\": 19, \"val\": 0}, {\"x\": 10, \"y\": 19, \"val\": 0}, {\"x\": 11, \"y\": 19, \"val\": 0}, {\"x\": 12, \"y\": 19, \"val\": 0}, {\"x\": 13, \"y\": 19, \"val\": 0}, {\"x\": 14, \"y\": 19, \"val\": 71}, {\"x\": 15, \"y\": 19, \"val\": 253}, {\"x\": 16, \"y\": 19, \"val\": 252}, {\"x\": 17, \"y\": 19, \"val\": 21}, {\"x\": 18, \"y\": 19, \"val\": 0}, {\"x\": 19, \"y\": 19, \"val\": 0}, {\"x\": 20, \"y\": 19, \"val\": 0}, {\"x\": 21, \"y\": 19, \"val\": 0}, {\"x\": 22, \"y\": 19, \"val\": 0}, {\"x\": 23, \"y\": 19, \"val\": 0}, {\"x\": 24, \"y\": 19, \"val\": 0}, {\"x\": 25, \"y\": 19, \"val\": 0}, {\"x\": 26, \"y\": 19, \"val\": 0}, {\"x\": 27, \"y\": 19, \"val\": 0}, {\"x\": 28, \"y\": 19, \"val\": 0}, {\"x\": 1, \"y\": 20, \"val\": 0}, {\"x\": 2, \"y\": 20, \"val\": 0}, {\"x\": 3, \"y\": 20, \"val\": 0}, {\"x\": 4, \"y\": 20, \"val\": 0}, {\"x\": 5, \"y\": 20, \"val\": 0}, {\"x\": 6, \"y\": 20, \"val\": 0}, {\"x\": 7, \"y\": 20, \"val\": 0}, {\"x\": 8, \"y\": 20, \"val\": 0}, {\"x\": 9, \"y\": 20, \"val\": 0}, {\"x\": 10, \"y\": 20, \"val\": 0}, {\"x\": 11, \"y\": 20, \"val\": 0}, {\"x\": 12, \"y\": 20, \"val\": 0}, {\"x\": 13, \"y\": 20, \"val\": 0}, {\"x\": 14, \"y\": 20, \"val\": 0}, {\"x\": 15, \"y\": 20, \"val\": 253}, {\"x\": 16, \"y\": 20, \"val\": 252}, {\"x\": 17, \"y\": 20, \"val\": 21}, {\"x\": 18, \"y\": 20, \"val\": 0}, {\"x\": 19, \"y\": 20, \"val\": 0}, {\"x\": 20, \"y\": 20, \"val\": 0}, {\"x\": 21, \"y\": 20, \"val\": 0}, {\"x\": 22, \"y\": 20, \"val\": 0}, {\"x\": 23, \"y\": 20, \"val\": 0}, {\"x\": 24, \"y\": 20, \"val\": 0}, {\"x\": 25, \"y\": 20, \"val\": 0}, {\"x\": 26, \"y\": 20, \"val\": 0}, {\"x\": 27, \"y\": 20, \"val\": 0}, {\"x\": 28, \"y\": 20, \"val\": 0}, {\"x\": 1, \"y\": 21, \"val\": 0}, {\"x\": 2, \"y\": 21, \"val\": 0}, {\"x\": 3, \"y\": 21, \"val\": 0}, {\"x\": 4, \"y\": 21, \"val\": 0}, {\"x\": 5, \"y\": 21, \"val\": 0}, {\"x\": 6, \"y\": 21, \"val\": 0}, {\"x\": 7, \"y\": 21, \"val\": 0}, {\"x\": 8, \"y\": 21, \"val\": 0}, {\"x\": 9, \"y\": 21, \"val\": 0}, {\"x\": 10, \"y\": 21, \"val\": 0}, {\"x\": 11, \"y\": 21, \"val\": 0}, {\"x\": 12, \"y\": 21, \"val\": 0}, {\"x\": 13, \"y\": 21, \"val\": 0}, {\"x\": 14, \"y\": 21, \"val\": 71}, {\"x\": 15, \"y\": 21, \"val\": 253}, {\"x\": 16, \"y\": 21, \"val\": 252}, {\"x\": 17, \"y\": 21, \"val\": 21}, {\"x\": 18, \"y\": 21, \"val\": 0}, {\"x\": 19, \"y\": 21, \"val\": 0}, {\"x\": 20, \"y\": 21, \"val\": 0}, {\"x\": 21, \"y\": 21, \"val\": 0}, {\"x\": 22, \"y\": 21, \"val\": 0}, {\"x\": 23, \"y\": 21, \"val\": 0}, {\"x\": 24, \"y\": 21, \"val\": 0}, {\"x\": 25, \"y\": 21, \"val\": 0}, {\"x\": 26, \"y\": 21, \"val\": 0}, {\"x\": 27, \"y\": 21, \"val\": 0}, {\"x\": 28, \"y\": 21, \"val\": 0}, {\"x\": 1, \"y\": 22, \"val\": 0}, {\"x\": 2, \"y\": 22, \"val\": 0}, {\"x\": 3, \"y\": 22, \"val\": 0}, {\"x\": 4, \"y\": 22, \"val\": 0}, {\"x\": 5, \"y\": 22, \"val\": 0}, {\"x\": 6, \"y\": 22, \"val\": 0}, {\"x\": 7, \"y\": 22, \"val\": 0}, {\"x\": 8, \"y\": 22, \"val\": 0}, {\"x\": 9, \"y\": 22, \"val\": 0}, {\"x\": 10, \"y\": 22, \"val\": 0}, {\"x\": 11, \"y\": 22, \"val\": 0}, {\"x\": 12, \"y\": 22, \"val\": 0}, {\"x\": 13, \"y\": 22, \"val\": 0}, {\"x\": 14, \"y\": 22, \"val\": 106}, {\"x\": 15, \"y\": 22, \"val\": 253}, {\"x\": 16, \"y\": 22, \"val\": 252}, {\"x\": 17, \"y\": 22, \"val\": 21}, {\"x\": 18, \"y\": 22, \"val\": 0}, {\"x\": 19, \"y\": 22, \"val\": 0}, {\"x\": 20, \"y\": 22, \"val\": 0}, {\"x\": 21, \"y\": 22, \"val\": 0}, {\"x\": 22, \"y\": 22, \"val\": 0}, {\"x\": 23, \"y\": 22, \"val\": 0}, {\"x\": 24, \"y\": 22, \"val\": 0}, {\"x\": 25, \"y\": 22, \"val\": 0}, {\"x\": 26, \"y\": 22, \"val\": 0}, {\"x\": 27, \"y\": 22, \"val\": 0}, {\"x\": 28, \"y\": 22, \"val\": 0}, {\"x\": 1, \"y\": 23, \"val\": 0}, {\"x\": 2, \"y\": 23, \"val\": 0}, {\"x\": 3, \"y\": 23, \"val\": 0}, {\"x\": 4, \"y\": 23, \"val\": 0}, {\"x\": 5, \"y\": 23, \"val\": 0}, {\"x\": 6, \"y\": 23, \"val\": 0}, {\"x\": 7, \"y\": 23, \"val\": 0}, {\"x\": 8, \"y\": 23, \"val\": 0}, {\"x\": 9, \"y\": 23, \"val\": 0}, {\"x\": 10, \"y\": 23, \"val\": 0}, {\"x\": 11, \"y\": 23, \"val\": 0}, {\"x\": 12, \"y\": 23, \"val\": 0}, {\"x\": 13, \"y\": 23, \"val\": 0}, {\"x\": 14, \"y\": 23, \"val\": 45}, {\"x\": 15, \"y\": 23, \"val\": 255}, {\"x\": 16, \"y\": 23, \"val\": 253}, {\"x\": 17, \"y\": 23, \"val\": 21}, {\"x\": 18, \"y\": 23, \"val\": 0}, {\"x\": 19, \"y\": 23, \"val\": 0}, {\"x\": 20, \"y\": 23, \"val\": 0}, {\"x\": 21, \"y\": 23, \"val\": 0}, {\"x\": 22, \"y\": 23, \"val\": 0}, {\"x\": 23, \"y\": 23, \"val\": 0}, {\"x\": 24, \"y\": 23, \"val\": 0}, {\"x\": 25, \"y\": 23, \"val\": 0}, {\"x\": 26, \"y\": 23, \"val\": 0}, {\"x\": 27, \"y\": 23, \"val\": 0}, {\"x\": 28, \"y\": 23, \"val\": 0}, {\"x\": 1, \"y\": 24, \"val\": 0}, {\"x\": 2, \"y\": 24, \"val\": 0}, {\"x\": 3, \"y\": 24, \"val\": 0}, {\"x\": 4, \"y\": 24, \"val\": 0}, {\"x\": 5, \"y\": 24, \"val\": 0}, {\"x\": 6, \"y\": 24, \"val\": 0}, {\"x\": 7, \"y\": 24, \"val\": 0}, {\"x\": 8, \"y\": 24, \"val\": 0}, {\"x\": 9, \"y\": 24, \"val\": 0}, {\"x\": 10, \"y\": 24, \"val\": 0}, {\"x\": 11, \"y\": 24, \"val\": 0}, {\"x\": 12, \"y\": 24, \"val\": 0}, {\"x\": 13, \"y\": 24, \"val\": 0}, {\"x\": 14, \"y\": 24, \"val\": 0}, {\"x\": 15, \"y\": 24, \"val\": 218}, {\"x\": 16, \"y\": 24, \"val\": 252}, {\"x\": 17, \"y\": 24, \"val\": 56}, {\"x\": 18, \"y\": 24, \"val\": 0}, {\"x\": 19, \"y\": 24, \"val\": 0}, {\"x\": 20, \"y\": 24, \"val\": 0}, {\"x\": 21, \"y\": 24, \"val\": 0}, {\"x\": 22, \"y\": 24, \"val\": 0}, {\"x\": 23, \"y\": 24, \"val\": 0}, {\"x\": 24, \"y\": 24, \"val\": 0}, {\"x\": 25, \"y\": 24, \"val\": 0}, {\"x\": 26, \"y\": 24, \"val\": 0}, {\"x\": 27, \"y\": 24, \"val\": 0}, {\"x\": 28, \"y\": 24, \"val\": 0}, {\"x\": 1, \"y\": 25, \"val\": 0}, {\"x\": 2, \"y\": 25, \"val\": 0}, {\"x\": 3, \"y\": 25, \"val\": 0}, {\"x\": 4, \"y\": 25, \"val\": 0}, {\"x\": 5, \"y\": 25, \"val\": 0}, {\"x\": 6, \"y\": 25, \"val\": 0}, {\"x\": 7, \"y\": 25, \"val\": 0}, {\"x\": 8, \"y\": 25, \"val\": 0}, {\"x\": 9, \"y\": 25, \"val\": 0}, {\"x\": 10, \"y\": 25, \"val\": 0}, {\"x\": 11, \"y\": 25, \"val\": 0}, {\"x\": 12, \"y\": 25, \"val\": 0}, {\"x\": 13, \"y\": 25, \"val\": 0}, {\"x\": 14, \"y\": 25, \"val\": 0}, {\"x\": 15, \"y\": 25, \"val\": 96}, {\"x\": 16, \"y\": 25, \"val\": 252}, {\"x\": 17, \"y\": 25, \"val\": 189}, {\"x\": 18, \"y\": 25, \"val\": 42}, {\"x\": 19, \"y\": 25, \"val\": 0}, {\"x\": 20, \"y\": 25, \"val\": 0}, {\"x\": 21, \"y\": 25, \"val\": 0}, {\"x\": 22, \"y\": 25, \"val\": 0}, {\"x\": 23, \"y\": 25, \"val\": 0}, {\"x\": 24, \"y\": 25, \"val\": 0}, {\"x\": 25, \"y\": 25, \"val\": 0}, {\"x\": 26, \"y\": 25, \"val\": 0}, {\"x\": 27, \"y\": 25, \"val\": 0}, {\"x\": 28, \"y\": 25, \"val\": 0}, {\"x\": 1, \"y\": 26, \"val\": 0}, {\"x\": 2, \"y\": 26, \"val\": 0}, {\"x\": 3, \"y\": 26, \"val\": 0}, {\"x\": 4, \"y\": 26, \"val\": 0}, {\"x\": 5, \"y\": 26, \"val\": 0}, {\"x\": 6, \"y\": 26, \"val\": 0}, {\"x\": 7, \"y\": 26, \"val\": 0}, {\"x\": 8, \"y\": 26, \"val\": 0}, {\"x\": 9, \"y\": 26, \"val\": 0}, {\"x\": 10, \"y\": 26, \"val\": 0}, {\"x\": 11, \"y\": 26, \"val\": 0}, {\"x\": 12, \"y\": 26, \"val\": 0}, {\"x\": 13, \"y\": 26, \"val\": 0}, {\"x\": 14, \"y\": 26, \"val\": 0}, {\"x\": 15, \"y\": 26, \"val\": 14}, {\"x\": 16, \"y\": 26, \"val\": 184}, {\"x\": 17, \"y\": 26, \"val\": 252}, {\"x\": 18, \"y\": 26, \"val\": 170}, {\"x\": 19, \"y\": 26, \"val\": 11}, {\"x\": 20, \"y\": 26, \"val\": 0}, {\"x\": 21, \"y\": 26, \"val\": 0}, {\"x\": 22, \"y\": 26, \"val\": 0}, {\"x\": 23, \"y\": 26, \"val\": 0}, {\"x\": 24, \"y\": 26, \"val\": 0}, {\"x\": 25, \"y\": 26, \"val\": 0}, {\"x\": 26, \"y\": 26, \"val\": 0}, {\"x\": 27, \"y\": 26, \"val\": 0}, {\"x\": 28, \"y\": 26, \"val\": 0}, {\"x\": 1, \"y\": 27, \"val\": 0}, {\"x\": 2, \"y\": 27, \"val\": 0}, {\"x\": 3, \"y\": 27, \"val\": 0}, {\"x\": 4, \"y\": 27, \"val\": 0}, {\"x\": 5, \"y\": 27, \"val\": 0}, {\"x\": 6, \"y\": 27, \"val\": 0}, {\"x\": 7, \"y\": 27, \"val\": 0}, {\"x\": 8, \"y\": 27, \"val\": 0}, {\"x\": 9, \"y\": 27, \"val\": 0}, {\"x\": 10, \"y\": 27, \"val\": 0}, {\"x\": 11, \"y\": 27, \"val\": 0}, {\"x\": 12, \"y\": 27, \"val\": 0}, {\"x\": 13, \"y\": 27, \"val\": 0}, {\"x\": 14, \"y\": 27, \"val\": 0}, {\"x\": 15, \"y\": 27, \"val\": 0}, {\"x\": 16, \"y\": 27, \"val\": 14}, {\"x\": 17, \"y\": 27, \"val\": 147}, {\"x\": 18, \"y\": 27, \"val\": 252}, {\"x\": 19, \"y\": 27, \"val\": 42}, {\"x\": 20, \"y\": 27, \"val\": 0}, {\"x\": 21, \"y\": 27, \"val\": 0}, {\"x\": 22, \"y\": 27, \"val\": 0}, {\"x\": 23, \"y\": 27, \"val\": 0}, {\"x\": 24, \"y\": 27, \"val\": 0}, {\"x\": 25, \"y\": 27, \"val\": 0}, {\"x\": 26, \"y\": 27, \"val\": 0}, {\"x\": 27, \"y\": 27, \"val\": 0}, {\"x\": 28, \"y\": 27, \"val\": 0}, {\"x\": 1, \"y\": 28, \"val\": 0}, {\"x\": 2, \"y\": 28, \"val\": 0}, {\"x\": 3, \"y\": 28, \"val\": 0}, {\"x\": 4, \"y\": 28, \"val\": 0}, {\"x\": 5, \"y\": 28, \"val\": 0}, {\"x\": 6, \"y\": 28, \"val\": 0}, {\"x\": 7, \"y\": 28, \"val\": 0}, {\"x\": 8, \"y\": 28, \"val\": 0}, {\"x\": 9, \"y\": 28, \"val\": 0}, {\"x\": 10, \"y\": 28, \"val\": 0}, {\"x\": 11, \"y\": 28, \"val\": 0}, {\"x\": 12, \"y\": 28, \"val\": 0}, {\"x\": 13, \"y\": 28, \"val\": 0}, {\"x\": 14, \"y\": 28, \"val\": 0}, {\"x\": 15, \"y\": 28, \"val\": 0}, {\"x\": 16, \"y\": 28, \"val\": 0}, {\"x\": 17, \"y\": 28, \"val\": 0}, {\"x\": 18, \"y\": 28, \"val\": 0}, {\"x\": 19, \"y\": 28, \"val\": 0}, {\"x\": 20, \"y\": 28, \"val\": 0}, {\"x\": 21, \"y\": 28, \"val\": 0}, {\"x\": 22, \"y\": 28, \"val\": 0}, {\"x\": 23, \"y\": 28, \"val\": 0}, {\"x\": 24, \"y\": 28, \"val\": 0}, {\"x\": 25, \"y\": 28, \"val\": 0}, {\"x\": 26, \"y\": 28, \"val\": 0}, {\"x\": 27, \"y\": 28, \"val\": 0}, {\"x\": 28, \"y\": 28, \"val\": 0}]}}, {\"mode\": \"vega-lite\"});\n",
              "</script>"
            ]
          },
          "metadata": {
            "tags": []
          },
          "execution_count": 17
        }
      ]
    },
    {
      "cell_type": "code",
      "metadata": {
        "execution": {
          "iopub.execute_input": "2021-08-02T20:00:45.629197Z",
          "iopub.status.busy": "2021-08-02T20:00:45.628924Z",
          "iopub.status.idle": "2021-08-02T20:00:45.652262Z",
          "shell.execute_reply": "2021-08-02T20:00:45.651980Z"
        },
        "lines_to_next_cell": 2,
        "id": "8f24d650",
        "colab": {
          "base_uri": "https://localhost:8080/",
          "height": 642
        },
        "outputId": "9b0a94f9-f09c-4e02-ad7b-9e1a914a45ee"
      },
      "source": [
        "im = draw_image(15)\n",
        "im"
      ],
      "id": "8f24d650",
      "execution_count": null,
      "outputs": [
        {
          "output_type": "execute_result",
          "data": {
            "text/plain": [
              "alt.Chart(...)"
            ],
            "text/html": [
              "\n",
              "<div id=\"altair-viz-60ecbd2732e540e6a33e0dc9f8675008\"></div>\n",
              "<script type=\"text/javascript\">\n",
              "  (function(spec, embedOpt){\n",
              "    let outputDiv = document.currentScript.previousElementSibling;\n",
              "    if (outputDiv.id !== \"altair-viz-60ecbd2732e540e6a33e0dc9f8675008\") {\n",
              "      outputDiv = document.getElementById(\"altair-viz-60ecbd2732e540e6a33e0dc9f8675008\");\n",
              "    }\n",
              "    const paths = {\n",
              "      \"vega\": \"https://cdn.jsdelivr.net/npm//vega@5?noext\",\n",
              "      \"vega-lib\": \"https://cdn.jsdelivr.net/npm//vega-lib?noext\",\n",
              "      \"vega-lite\": \"https://cdn.jsdelivr.net/npm//vega-lite@4.8.1?noext\",\n",
              "      \"vega-embed\": \"https://cdn.jsdelivr.net/npm//vega-embed@6?noext\",\n",
              "    };\n",
              "\n",
              "    function loadScript(lib) {\n",
              "      return new Promise(function(resolve, reject) {\n",
              "        var s = document.createElement('script');\n",
              "        s.src = paths[lib];\n",
              "        s.async = true;\n",
              "        s.onload = () => resolve(paths[lib]);\n",
              "        s.onerror = () => reject(`Error loading script: ${paths[lib]}`);\n",
              "        document.getElementsByTagName(\"head\")[0].appendChild(s);\n",
              "      });\n",
              "    }\n",
              "\n",
              "    function showError(err) {\n",
              "      outputDiv.innerHTML = `<div class=\"error\" style=\"color:red;\">${err}</div>`;\n",
              "      throw err;\n",
              "    }\n",
              "\n",
              "    function displayChart(vegaEmbed) {\n",
              "      vegaEmbed(outputDiv, spec, embedOpt)\n",
              "        .catch(err => showError(`Javascript Error: ${err.message}<br>This usually means there's a typo in your chart specification. See the javascript console for the full traceback.`));\n",
              "    }\n",
              "\n",
              "    if(typeof define === \"function\" && define.amd) {\n",
              "      requirejs.config({paths});\n",
              "      require([\"vega-embed\"], displayChart, err => showError(`Error loading script: ${err.message}`));\n",
              "    } else if (typeof vegaEmbed === \"function\") {\n",
              "      displayChart(vegaEmbed);\n",
              "    } else {\n",
              "      loadScript(\"vega\")\n",
              "        .then(() => loadScript(\"vega-lite\"))\n",
              "        .then(() => loadScript(\"vega-embed\"))\n",
              "        .catch(showError)\n",
              "        .then(() => displayChart(vegaEmbed));\n",
              "    }\n",
              "  })({\"config\": {\"view\": {\"continuousWidth\": 400, \"continuousHeight\": 300}}, \"data\": {\"name\": \"data-ec128c3f134caeed440c91b3a5ff4b82\"}, \"mark\": \"rect\", \"encoding\": {\"color\": {\"type\": \"quantitative\", \"field\": \"val\"}, \"fill\": {\"type\": \"quantitative\", \"field\": \"val\"}, \"tooltip\": [{\"type\": \"quantitative\", \"field\": \"x\"}, {\"type\": \"quantitative\", \"field\": \"y\"}, {\"type\": \"quantitative\", \"field\": \"val\"}], \"x\": {\"type\": \"ordinal\", \"field\": \"x\"}, \"y\": {\"type\": \"ordinal\", \"field\": \"y\"}}, \"title\": \"Image of a 7\", \"$schema\": \"https://vega.github.io/schema/vega-lite/v4.8.1.json\", \"datasets\": {\"data-ec128c3f134caeed440c91b3a5ff4b82\": [{\"x\": 1, \"y\": 1, \"val\": 0}, {\"x\": 2, \"y\": 1, \"val\": 0}, {\"x\": 3, \"y\": 1, \"val\": 0}, {\"x\": 4, \"y\": 1, \"val\": 0}, {\"x\": 5, \"y\": 1, \"val\": 0}, {\"x\": 6, \"y\": 1, \"val\": 0}, {\"x\": 7, \"y\": 1, \"val\": 0}, {\"x\": 8, \"y\": 1, \"val\": 0}, {\"x\": 9, \"y\": 1, \"val\": 0}, {\"x\": 10, \"y\": 1, \"val\": 0}, {\"x\": 11, \"y\": 1, \"val\": 0}, {\"x\": 12, \"y\": 1, \"val\": 0}, {\"x\": 13, \"y\": 1, \"val\": 0}, {\"x\": 14, \"y\": 1, \"val\": 0}, {\"x\": 15, \"y\": 1, \"val\": 0}, {\"x\": 16, \"y\": 1, \"val\": 0}, {\"x\": 17, \"y\": 1, \"val\": 0}, {\"x\": 18, \"y\": 1, \"val\": 0}, {\"x\": 19, \"y\": 1, \"val\": 0}, {\"x\": 20, \"y\": 1, \"val\": 0}, {\"x\": 21, \"y\": 1, \"val\": 0}, {\"x\": 22, \"y\": 1, \"val\": 0}, {\"x\": 23, \"y\": 1, \"val\": 0}, {\"x\": 24, \"y\": 1, \"val\": 0}, {\"x\": 25, \"y\": 1, \"val\": 0}, {\"x\": 26, \"y\": 1, \"val\": 0}, {\"x\": 27, \"y\": 1, \"val\": 0}, {\"x\": 28, \"y\": 1, \"val\": 0}, {\"x\": 1, \"y\": 2, \"val\": 0}, {\"x\": 2, \"y\": 2, \"val\": 0}, {\"x\": 3, \"y\": 2, \"val\": 0}, {\"x\": 4, \"y\": 2, \"val\": 0}, {\"x\": 5, \"y\": 2, \"val\": 0}, {\"x\": 6, \"y\": 2, \"val\": 0}, {\"x\": 7, \"y\": 2, \"val\": 0}, {\"x\": 8, \"y\": 2, \"val\": 0}, {\"x\": 9, \"y\": 2, \"val\": 0}, {\"x\": 10, \"y\": 2, \"val\": 0}, {\"x\": 11, \"y\": 2, \"val\": 0}, {\"x\": 12, \"y\": 2, \"val\": 0}, {\"x\": 13, \"y\": 2, \"val\": 0}, {\"x\": 14, \"y\": 2, \"val\": 0}, {\"x\": 15, \"y\": 2, \"val\": 0}, {\"x\": 16, \"y\": 2, \"val\": 0}, {\"x\": 17, \"y\": 2, \"val\": 0}, {\"x\": 18, \"y\": 2, \"val\": 0}, {\"x\": 19, \"y\": 2, \"val\": 0}, {\"x\": 20, \"y\": 2, \"val\": 0}, {\"x\": 21, \"y\": 2, \"val\": 0}, {\"x\": 22, \"y\": 2, \"val\": 0}, {\"x\": 23, \"y\": 2, \"val\": 0}, {\"x\": 24, \"y\": 2, \"val\": 0}, {\"x\": 25, \"y\": 2, \"val\": 0}, {\"x\": 26, \"y\": 2, \"val\": 0}, {\"x\": 27, \"y\": 2, \"val\": 0}, {\"x\": 28, \"y\": 2, \"val\": 0}, {\"x\": 1, \"y\": 3, \"val\": 0}, {\"x\": 2, \"y\": 3, \"val\": 0}, {\"x\": 3, \"y\": 3, \"val\": 0}, {\"x\": 4, \"y\": 3, \"val\": 0}, {\"x\": 5, \"y\": 3, \"val\": 0}, {\"x\": 6, \"y\": 3, \"val\": 0}, {\"x\": 7, \"y\": 3, \"val\": 0}, {\"x\": 8, \"y\": 3, \"val\": 0}, {\"x\": 9, \"y\": 3, \"val\": 0}, {\"x\": 10, \"y\": 3, \"val\": 0}, {\"x\": 11, \"y\": 3, \"val\": 0}, {\"x\": 12, \"y\": 3, \"val\": 0}, {\"x\": 13, \"y\": 3, \"val\": 0}, {\"x\": 14, \"y\": 3, \"val\": 0}, {\"x\": 15, \"y\": 3, \"val\": 0}, {\"x\": 16, \"y\": 3, \"val\": 0}, {\"x\": 17, \"y\": 3, \"val\": 0}, {\"x\": 18, \"y\": 3, \"val\": 0}, {\"x\": 19, \"y\": 3, \"val\": 0}, {\"x\": 20, \"y\": 3, \"val\": 0}, {\"x\": 21, \"y\": 3, \"val\": 0}, {\"x\": 22, \"y\": 3, \"val\": 0}, {\"x\": 23, \"y\": 3, \"val\": 0}, {\"x\": 24, \"y\": 3, \"val\": 0}, {\"x\": 25, \"y\": 3, \"val\": 0}, {\"x\": 26, \"y\": 3, \"val\": 0}, {\"x\": 27, \"y\": 3, \"val\": 0}, {\"x\": 28, \"y\": 3, \"val\": 0}, {\"x\": 1, \"y\": 4, \"val\": 0}, {\"x\": 2, \"y\": 4, \"val\": 0}, {\"x\": 3, \"y\": 4, \"val\": 0}, {\"x\": 4, \"y\": 4, \"val\": 0}, {\"x\": 5, \"y\": 4, \"val\": 0}, {\"x\": 6, \"y\": 4, \"val\": 0}, {\"x\": 7, \"y\": 4, \"val\": 0}, {\"x\": 8, \"y\": 4, \"val\": 0}, {\"x\": 9, \"y\": 4, \"val\": 0}, {\"x\": 10, \"y\": 4, \"val\": 0}, {\"x\": 11, \"y\": 4, \"val\": 0}, {\"x\": 12, \"y\": 4, \"val\": 0}, {\"x\": 13, \"y\": 4, \"val\": 0}, {\"x\": 14, \"y\": 4, \"val\": 0}, {\"x\": 15, \"y\": 4, \"val\": 0}, {\"x\": 16, \"y\": 4, \"val\": 0}, {\"x\": 17, \"y\": 4, \"val\": 0}, {\"x\": 18, \"y\": 4, \"val\": 0}, {\"x\": 19, \"y\": 4, \"val\": 0}, {\"x\": 20, \"y\": 4, \"val\": 0}, {\"x\": 21, \"y\": 4, \"val\": 0}, {\"x\": 22, \"y\": 4, \"val\": 0}, {\"x\": 23, \"y\": 4, \"val\": 0}, {\"x\": 24, \"y\": 4, \"val\": 0}, {\"x\": 25, \"y\": 4, \"val\": 0}, {\"x\": 26, \"y\": 4, \"val\": 0}, {\"x\": 27, \"y\": 4, \"val\": 0}, {\"x\": 28, \"y\": 4, \"val\": 0}, {\"x\": 1, \"y\": 5, \"val\": 0}, {\"x\": 2, \"y\": 5, \"val\": 0}, {\"x\": 3, \"y\": 5, \"val\": 0}, {\"x\": 4, \"y\": 5, \"val\": 0}, {\"x\": 5, \"y\": 5, \"val\": 0}, {\"x\": 6, \"y\": 5, \"val\": 0}, {\"x\": 7, \"y\": 5, \"val\": 0}, {\"x\": 8, \"y\": 5, \"val\": 0}, {\"x\": 9, \"y\": 5, \"val\": 0}, {\"x\": 10, \"y\": 5, \"val\": 0}, {\"x\": 11, \"y\": 5, \"val\": 0}, {\"x\": 12, \"y\": 5, \"val\": 0}, {\"x\": 13, \"y\": 5, \"val\": 0}, {\"x\": 14, \"y\": 5, \"val\": 0}, {\"x\": 15, \"y\": 5, \"val\": 0}, {\"x\": 16, \"y\": 5, \"val\": 0}, {\"x\": 17, \"y\": 5, \"val\": 0}, {\"x\": 18, \"y\": 5, \"val\": 0}, {\"x\": 19, \"y\": 5, \"val\": 0}, {\"x\": 20, \"y\": 5, \"val\": 0}, {\"x\": 21, \"y\": 5, \"val\": 0}, {\"x\": 22, \"y\": 5, \"val\": 0}, {\"x\": 23, \"y\": 5, \"val\": 0}, {\"x\": 24, \"y\": 5, \"val\": 0}, {\"x\": 25, \"y\": 5, \"val\": 0}, {\"x\": 26, \"y\": 5, \"val\": 0}, {\"x\": 27, \"y\": 5, \"val\": 0}, {\"x\": 28, \"y\": 5, \"val\": 0}, {\"x\": 1, \"y\": 6, \"val\": 0}, {\"x\": 2, \"y\": 6, \"val\": 0}, {\"x\": 3, \"y\": 6, \"val\": 0}, {\"x\": 4, \"y\": 6, \"val\": 0}, {\"x\": 5, \"y\": 6, \"val\": 0}, {\"x\": 6, \"y\": 6, \"val\": 0}, {\"x\": 7, \"y\": 6, \"val\": 0}, {\"x\": 8, \"y\": 6, \"val\": 0}, {\"x\": 9, \"y\": 6, \"val\": 0}, {\"x\": 10, \"y\": 6, \"val\": 0}, {\"x\": 11, \"y\": 6, \"val\": 0}, {\"x\": 12, \"y\": 6, \"val\": 0}, {\"x\": 13, \"y\": 6, \"val\": 0}, {\"x\": 14, \"y\": 6, \"val\": 0}, {\"x\": 15, \"y\": 6, \"val\": 0}, {\"x\": 16, \"y\": 6, \"val\": 0}, {\"x\": 17, \"y\": 6, \"val\": 0}, {\"x\": 18, \"y\": 6, \"val\": 0}, {\"x\": 19, \"y\": 6, \"val\": 0}, {\"x\": 20, \"y\": 6, \"val\": 0}, {\"x\": 21, \"y\": 6, \"val\": 0}, {\"x\": 22, \"y\": 6, \"val\": 0}, {\"x\": 23, \"y\": 6, \"val\": 0}, {\"x\": 24, \"y\": 6, \"val\": 0}, {\"x\": 25, \"y\": 6, \"val\": 0}, {\"x\": 26, \"y\": 6, \"val\": 0}, {\"x\": 27, \"y\": 6, \"val\": 0}, {\"x\": 28, \"y\": 6, \"val\": 0}, {\"x\": 1, \"y\": 7, \"val\": 0}, {\"x\": 2, \"y\": 7, \"val\": 0}, {\"x\": 3, \"y\": 7, \"val\": 0}, {\"x\": 4, \"y\": 7, \"val\": 0}, {\"x\": 5, \"y\": 7, \"val\": 0}, {\"x\": 6, \"y\": 7, \"val\": 0}, {\"x\": 7, \"y\": 7, \"val\": 0}, {\"x\": 8, \"y\": 7, \"val\": 0}, {\"x\": 9, \"y\": 7, \"val\": 0}, {\"x\": 10, \"y\": 7, \"val\": 0}, {\"x\": 11, \"y\": 7, \"val\": 0}, {\"x\": 12, \"y\": 7, \"val\": 0}, {\"x\": 13, \"y\": 7, \"val\": 0}, {\"x\": 14, \"y\": 7, \"val\": 0}, {\"x\": 15, \"y\": 7, \"val\": 0}, {\"x\": 16, \"y\": 7, \"val\": 0}, {\"x\": 17, \"y\": 7, \"val\": 0}, {\"x\": 18, \"y\": 7, \"val\": 0}, {\"x\": 19, \"y\": 7, \"val\": 0}, {\"x\": 20, \"y\": 7, \"val\": 0}, {\"x\": 21, \"y\": 7, \"val\": 0}, {\"x\": 22, \"y\": 7, \"val\": 0}, {\"x\": 23, \"y\": 7, \"val\": 0}, {\"x\": 24, \"y\": 7, \"val\": 0}, {\"x\": 25, \"y\": 7, \"val\": 0}, {\"x\": 26, \"y\": 7, \"val\": 0}, {\"x\": 27, \"y\": 7, \"val\": 0}, {\"x\": 28, \"y\": 7, \"val\": 0}, {\"x\": 1, \"y\": 8, \"val\": 0}, {\"x\": 2, \"y\": 8, \"val\": 0}, {\"x\": 3, \"y\": 8, \"val\": 0}, {\"x\": 4, \"y\": 8, \"val\": 0}, {\"x\": 5, \"y\": 8, \"val\": 0}, {\"x\": 6, \"y\": 8, \"val\": 0}, {\"x\": 7, \"y\": 8, \"val\": 0}, {\"x\": 8, \"y\": 8, \"val\": 0}, {\"x\": 9, \"y\": 8, \"val\": 0}, {\"x\": 10, \"y\": 8, \"val\": 0}, {\"x\": 11, \"y\": 8, \"val\": 0}, {\"x\": 12, \"y\": 8, \"val\": 0}, {\"x\": 13, \"y\": 8, \"val\": 0}, {\"x\": 14, \"y\": 8, \"val\": 0}, {\"x\": 15, \"y\": 8, \"val\": 0}, {\"x\": 16, \"y\": 8, \"val\": 115}, {\"x\": 17, \"y\": 8, \"val\": 121}, {\"x\": 18, \"y\": 8, \"val\": 162}, {\"x\": 19, \"y\": 8, \"val\": 253}, {\"x\": 20, \"y\": 8, \"val\": 253}, {\"x\": 21, \"y\": 8, \"val\": 213}, {\"x\": 22, \"y\": 8, \"val\": 0}, {\"x\": 23, \"y\": 8, \"val\": 0}, {\"x\": 24, \"y\": 8, \"val\": 0}, {\"x\": 25, \"y\": 8, \"val\": 0}, {\"x\": 26, \"y\": 8, \"val\": 0}, {\"x\": 27, \"y\": 8, \"val\": 0}, {\"x\": 28, \"y\": 8, \"val\": 0}, {\"x\": 1, \"y\": 9, \"val\": 0}, {\"x\": 2, \"y\": 9, \"val\": 0}, {\"x\": 3, \"y\": 9, \"val\": 0}, {\"x\": 4, \"y\": 9, \"val\": 0}, {\"x\": 5, \"y\": 9, \"val\": 0}, {\"x\": 6, \"y\": 9, \"val\": 0}, {\"x\": 7, \"y\": 9, \"val\": 0}, {\"x\": 8, \"y\": 9, \"val\": 0}, {\"x\": 9, \"y\": 9, \"val\": 0}, {\"x\": 10, \"y\": 9, \"val\": 0}, {\"x\": 11, \"y\": 9, \"val\": 0}, {\"x\": 12, \"y\": 9, \"val\": 0}, {\"x\": 13, \"y\": 9, \"val\": 63}, {\"x\": 14, \"y\": 9, \"val\": 107}, {\"x\": 15, \"y\": 9, \"val\": 170}, {\"x\": 16, \"y\": 9, \"val\": 251}, {\"x\": 17, \"y\": 9, \"val\": 252}, {\"x\": 18, \"y\": 9, \"val\": 252}, {\"x\": 19, \"y\": 9, \"val\": 252}, {\"x\": 20, \"y\": 9, \"val\": 252}, {\"x\": 21, \"y\": 9, \"val\": 250}, {\"x\": 22, \"y\": 9, \"val\": 214}, {\"x\": 23, \"y\": 9, \"val\": 0}, {\"x\": 24, \"y\": 9, \"val\": 0}, {\"x\": 25, \"y\": 9, \"val\": 0}, {\"x\": 26, \"y\": 9, \"val\": 0}, {\"x\": 27, \"y\": 9, \"val\": 0}, {\"x\": 28, \"y\": 9, \"val\": 0}, {\"x\": 1, \"y\": 10, \"val\": 0}, {\"x\": 2, \"y\": 10, \"val\": 0}, {\"x\": 3, \"y\": 10, \"val\": 0}, {\"x\": 4, \"y\": 10, \"val\": 0}, {\"x\": 5, \"y\": 10, \"val\": 0}, {\"x\": 6, \"y\": 10, \"val\": 0}, {\"x\": 7, \"y\": 10, \"val\": 0}, {\"x\": 8, \"y\": 10, \"val\": 0}, {\"x\": 9, \"y\": 10, \"val\": 25}, {\"x\": 10, \"y\": 10, \"val\": 192}, {\"x\": 11, \"y\": 10, \"val\": 226}, {\"x\": 12, \"y\": 10, \"val\": 226}, {\"x\": 13, \"y\": 10, \"val\": 241}, {\"x\": 14, \"y\": 10, \"val\": 252}, {\"x\": 15, \"y\": 10, \"val\": 253}, {\"x\": 16, \"y\": 10, \"val\": 202}, {\"x\": 17, \"y\": 10, \"val\": 252}, {\"x\": 18, \"y\": 10, \"val\": 252}, {\"x\": 19, \"y\": 10, \"val\": 252}, {\"x\": 20, \"y\": 10, \"val\": 252}, {\"x\": 21, \"y\": 10, \"val\": 252}, {\"x\": 22, \"y\": 10, \"val\": 225}, {\"x\": 23, \"y\": 10, \"val\": 0}, {\"x\": 24, \"y\": 10, \"val\": 0}, {\"x\": 25, \"y\": 10, \"val\": 0}, {\"x\": 26, \"y\": 10, \"val\": 0}, {\"x\": 27, \"y\": 10, \"val\": 0}, {\"x\": 28, \"y\": 10, \"val\": 0}, {\"x\": 1, \"y\": 11, \"val\": 0}, {\"x\": 2, \"y\": 11, \"val\": 0}, {\"x\": 3, \"y\": 11, \"val\": 0}, {\"x\": 4, \"y\": 11, \"val\": 0}, {\"x\": 5, \"y\": 11, \"val\": 0}, {\"x\": 6, \"y\": 11, \"val\": 0}, {\"x\": 7, \"y\": 11, \"val\": 0}, {\"x\": 8, \"y\": 11, \"val\": 68}, {\"x\": 9, \"y\": 11, \"val\": 223}, {\"x\": 10, \"y\": 11, \"val\": 252}, {\"x\": 11, \"y\": 11, \"val\": 252}, {\"x\": 12, \"y\": 11, \"val\": 252}, {\"x\": 13, \"y\": 11, \"val\": 252}, {\"x\": 14, \"y\": 11, \"val\": 252}, {\"x\": 15, \"y\": 11, \"val\": 39}, {\"x\": 16, \"y\": 11, \"val\": 19}, {\"x\": 17, \"y\": 11, \"val\": 39}, {\"x\": 18, \"y\": 11, \"val\": 65}, {\"x\": 19, \"y\": 11, \"val\": 224}, {\"x\": 20, \"y\": 11, \"val\": 252}, {\"x\": 21, \"y\": 11, \"val\": 252}, {\"x\": 22, \"y\": 11, \"val\": 183}, {\"x\": 23, \"y\": 11, \"val\": 0}, {\"x\": 24, \"y\": 11, \"val\": 0}, {\"x\": 25, \"y\": 11, \"val\": 0}, {\"x\": 26, \"y\": 11, \"val\": 0}, {\"x\": 27, \"y\": 11, \"val\": 0}, {\"x\": 28, \"y\": 11, \"val\": 0}, {\"x\": 1, \"y\": 12, \"val\": 0}, {\"x\": 2, \"y\": 12, \"val\": 0}, {\"x\": 3, \"y\": 12, \"val\": 0}, {\"x\": 4, \"y\": 12, \"val\": 0}, {\"x\": 5, \"y\": 12, \"val\": 0}, {\"x\": 6, \"y\": 12, \"val\": 0}, {\"x\": 7, \"y\": 12, \"val\": 0}, {\"x\": 8, \"y\": 12, \"val\": 186}, {\"x\": 9, \"y\": 12, \"val\": 252}, {\"x\": 10, \"y\": 12, \"val\": 252}, {\"x\": 11, \"y\": 12, \"val\": 252}, {\"x\": 12, \"y\": 12, \"val\": 245}, {\"x\": 13, \"y\": 12, \"val\": 108}, {\"x\": 14, \"y\": 12, \"val\": 53}, {\"x\": 15, \"y\": 12, \"val\": 0}, {\"x\": 16, \"y\": 12, \"val\": 0}, {\"x\": 17, \"y\": 12, \"val\": 0}, {\"x\": 18, \"y\": 12, \"val\": 150}, {\"x\": 19, \"y\": 12, \"val\": 252}, {\"x\": 20, \"y\": 12, \"val\": 252}, {\"x\": 21, \"y\": 12, \"val\": 220}, {\"x\": 22, \"y\": 12, \"val\": 20}, {\"x\": 23, \"y\": 12, \"val\": 0}, {\"x\": 24, \"y\": 12, \"val\": 0}, {\"x\": 25, \"y\": 12, \"val\": 0}, {\"x\": 26, \"y\": 12, \"val\": 0}, {\"x\": 27, \"y\": 12, \"val\": 0}, {\"x\": 28, \"y\": 12, \"val\": 0}, {\"x\": 1, \"y\": 13, \"val\": 0}, {\"x\": 2, \"y\": 13, \"val\": 0}, {\"x\": 3, \"y\": 13, \"val\": 0}, {\"x\": 4, \"y\": 13, \"val\": 0}, {\"x\": 5, \"y\": 13, \"val\": 0}, {\"x\": 6, \"y\": 13, \"val\": 0}, {\"x\": 7, \"y\": 13, \"val\": 70}, {\"x\": 8, \"y\": 13, \"val\": 242}, {\"x\": 9, \"y\": 13, \"val\": 252}, {\"x\": 10, \"y\": 13, \"val\": 252}, {\"x\": 11, \"y\": 13, \"val\": 222}, {\"x\": 12, \"y\": 13, \"val\": 59}, {\"x\": 13, \"y\": 13, \"val\": 0}, {\"x\": 14, \"y\": 13, \"val\": 0}, {\"x\": 15, \"y\": 13, \"val\": 0}, {\"x\": 16, \"y\": 13, \"val\": 0}, {\"x\": 17, \"y\": 13, \"val\": 0}, {\"x\": 18, \"y\": 13, \"val\": 178}, {\"x\": 19, \"y\": 13, \"val\": 252}, {\"x\": 20, \"y\": 13, \"val\": 252}, {\"x\": 21, \"y\": 13, \"val\": 141}, {\"x\": 22, \"y\": 13, \"val\": 0}, {\"x\": 23, \"y\": 13, \"val\": 0}, {\"x\": 24, \"y\": 13, \"val\": 0}, {\"x\": 25, \"y\": 13, \"val\": 0}, {\"x\": 26, \"y\": 13, \"val\": 0}, {\"x\": 27, \"y\": 13, \"val\": 0}, {\"x\": 28, \"y\": 13, \"val\": 0}, {\"x\": 1, \"y\": 14, \"val\": 0}, {\"x\": 2, \"y\": 14, \"val\": 0}, {\"x\": 3, \"y\": 14, \"val\": 0}, {\"x\": 4, \"y\": 14, \"val\": 0}, {\"x\": 5, \"y\": 14, \"val\": 0}, {\"x\": 6, \"y\": 14, \"val\": 0}, {\"x\": 7, \"y\": 14, \"val\": 185}, {\"x\": 8, \"y\": 14, \"val\": 252}, {\"x\": 9, \"y\": 14, \"val\": 252}, {\"x\": 10, \"y\": 14, \"val\": 194}, {\"x\": 11, \"y\": 14, \"val\": 67}, {\"x\": 12, \"y\": 14, \"val\": 0}, {\"x\": 13, \"y\": 14, \"val\": 0}, {\"x\": 14, \"y\": 14, \"val\": 0}, {\"x\": 15, \"y\": 14, \"val\": 0}, {\"x\": 16, \"y\": 14, \"val\": 17}, {\"x\": 17, \"y\": 14, \"val\": 90}, {\"x\": 18, \"y\": 14, \"val\": 240}, {\"x\": 19, \"y\": 14, \"val\": 252}, {\"x\": 20, \"y\": 14, \"val\": 194}, {\"x\": 21, \"y\": 14, \"val\": 67}, {\"x\": 22, \"y\": 14, \"val\": 0}, {\"x\": 23, \"y\": 14, \"val\": 0}, {\"x\": 24, \"y\": 14, \"val\": 0}, {\"x\": 25, \"y\": 14, \"val\": 0}, {\"x\": 26, \"y\": 14, \"val\": 0}, {\"x\": 27, \"y\": 14, \"val\": 0}, {\"x\": 28, \"y\": 14, \"val\": 0}, {\"x\": 1, \"y\": 15, \"val\": 0}, {\"x\": 2, \"y\": 15, \"val\": 0}, {\"x\": 3, \"y\": 15, \"val\": 0}, {\"x\": 4, \"y\": 15, \"val\": 0}, {\"x\": 5, \"y\": 15, \"val\": 0}, {\"x\": 6, \"y\": 15, \"val\": 0}, {\"x\": 7, \"y\": 15, \"val\": 83}, {\"x\": 8, \"y\": 15, \"val\": 205}, {\"x\": 9, \"y\": 15, \"val\": 190}, {\"x\": 10, \"y\": 15, \"val\": 24}, {\"x\": 11, \"y\": 15, \"val\": 0}, {\"x\": 12, \"y\": 15, \"val\": 0}, {\"x\": 13, \"y\": 15, \"val\": 0}, {\"x\": 14, \"y\": 15, \"val\": 0}, {\"x\": 15, \"y\": 15, \"val\": 0}, {\"x\": 16, \"y\": 15, \"val\": 121}, {\"x\": 17, \"y\": 15, \"val\": 252}, {\"x\": 18, \"y\": 15, \"val\": 252}, {\"x\": 19, \"y\": 15, \"val\": 209}, {\"x\": 20, \"y\": 15, \"val\": 24}, {\"x\": 21, \"y\": 15, \"val\": 0}, {\"x\": 22, \"y\": 15, \"val\": 0}, {\"x\": 23, \"y\": 15, \"val\": 0}, {\"x\": 24, \"y\": 15, \"val\": 0}, {\"x\": 25, \"y\": 15, \"val\": 0}, {\"x\": 26, \"y\": 15, \"val\": 0}, {\"x\": 27, \"y\": 15, \"val\": 0}, {\"x\": 28, \"y\": 15, \"val\": 0}, {\"x\": 1, \"y\": 16, \"val\": 0}, {\"x\": 2, \"y\": 16, \"val\": 0}, {\"x\": 3, \"y\": 16, \"val\": 0}, {\"x\": 4, \"y\": 16, \"val\": 0}, {\"x\": 5, \"y\": 16, \"val\": 0}, {\"x\": 6, \"y\": 16, \"val\": 0}, {\"x\": 7, \"y\": 16, \"val\": 0}, {\"x\": 8, \"y\": 16, \"val\": 0}, {\"x\": 9, \"y\": 16, \"val\": 0}, {\"x\": 10, \"y\": 16, \"val\": 0}, {\"x\": 11, \"y\": 16, \"val\": 0}, {\"x\": 12, \"y\": 16, \"val\": 0}, {\"x\": 13, \"y\": 16, \"val\": 0}, {\"x\": 14, \"y\": 16, \"val\": 0}, {\"x\": 15, \"y\": 16, \"val\": 77}, {\"x\": 16, \"y\": 16, \"val\": 247}, {\"x\": 17, \"y\": 16, \"val\": 252}, {\"x\": 18, \"y\": 16, \"val\": 248}, {\"x\": 19, \"y\": 16, \"val\": 106}, {\"x\": 20, \"y\": 16, \"val\": 0}, {\"x\": 21, \"y\": 16, \"val\": 0}, {\"x\": 22, \"y\": 16, \"val\": 0}, {\"x\": 23, \"y\": 16, \"val\": 0}, {\"x\": 24, \"y\": 16, \"val\": 0}, {\"x\": 25, \"y\": 16, \"val\": 0}, {\"x\": 26, \"y\": 16, \"val\": 0}, {\"x\": 27, \"y\": 16, \"val\": 0}, {\"x\": 28, \"y\": 16, \"val\": 0}, {\"x\": 1, \"y\": 17, \"val\": 0}, {\"x\": 2, \"y\": 17, \"val\": 0}, {\"x\": 3, \"y\": 17, \"val\": 0}, {\"x\": 4, \"y\": 17, \"val\": 0}, {\"x\": 5, \"y\": 17, \"val\": 0}, {\"x\": 6, \"y\": 17, \"val\": 0}, {\"x\": 7, \"y\": 17, \"val\": 0}, {\"x\": 8, \"y\": 17, \"val\": 0}, {\"x\": 9, \"y\": 17, \"val\": 0}, {\"x\": 10, \"y\": 17, \"val\": 0}, {\"x\": 11, \"y\": 17, \"val\": 0}, {\"x\": 12, \"y\": 17, \"val\": 0}, {\"x\": 13, \"y\": 17, \"val\": 0}, {\"x\": 14, \"y\": 17, \"val\": 0}, {\"x\": 15, \"y\": 17, \"val\": 253}, {\"x\": 16, \"y\": 17, \"val\": 252}, {\"x\": 17, \"y\": 17, \"val\": 252}, {\"x\": 18, \"y\": 17, \"val\": 102}, {\"x\": 19, \"y\": 17, \"val\": 0}, {\"x\": 20, \"y\": 17, \"val\": 0}, {\"x\": 21, \"y\": 17, \"val\": 0}, {\"x\": 22, \"y\": 17, \"val\": 0}, {\"x\": 23, \"y\": 17, \"val\": 0}, {\"x\": 24, \"y\": 17, \"val\": 0}, {\"x\": 25, \"y\": 17, \"val\": 0}, {\"x\": 26, \"y\": 17, \"val\": 0}, {\"x\": 27, \"y\": 17, \"val\": 0}, {\"x\": 28, \"y\": 17, \"val\": 0}, {\"x\": 1, \"y\": 18, \"val\": 0}, {\"x\": 2, \"y\": 18, \"val\": 0}, {\"x\": 3, \"y\": 18, \"val\": 0}, {\"x\": 4, \"y\": 18, \"val\": 0}, {\"x\": 5, \"y\": 18, \"val\": 0}, {\"x\": 6, \"y\": 18, \"val\": 0}, {\"x\": 7, \"y\": 18, \"val\": 0}, {\"x\": 8, \"y\": 18, \"val\": 0}, {\"x\": 9, \"y\": 18, \"val\": 0}, {\"x\": 10, \"y\": 18, \"val\": 0}, {\"x\": 11, \"y\": 18, \"val\": 0}, {\"x\": 12, \"y\": 18, \"val\": 0}, {\"x\": 13, \"y\": 18, \"val\": 0}, {\"x\": 14, \"y\": 18, \"val\": 134}, {\"x\": 15, \"y\": 18, \"val\": 255}, {\"x\": 16, \"y\": 18, \"val\": 253}, {\"x\": 17, \"y\": 18, \"val\": 253}, {\"x\": 18, \"y\": 18, \"val\": 39}, {\"x\": 19, \"y\": 18, \"val\": 0}, {\"x\": 20, \"y\": 18, \"val\": 0}, {\"x\": 21, \"y\": 18, \"val\": 0}, {\"x\": 22, \"y\": 18, \"val\": 0}, {\"x\": 23, \"y\": 18, \"val\": 0}, {\"x\": 24, \"y\": 18, \"val\": 0}, {\"x\": 25, \"y\": 18, \"val\": 0}, {\"x\": 26, \"y\": 18, \"val\": 0}, {\"x\": 27, \"y\": 18, \"val\": 0}, {\"x\": 28, \"y\": 18, \"val\": 0}, {\"x\": 1, \"y\": 19, \"val\": 0}, {\"x\": 2, \"y\": 19, \"val\": 0}, {\"x\": 3, \"y\": 19, \"val\": 0}, {\"x\": 4, \"y\": 19, \"val\": 0}, {\"x\": 5, \"y\": 19, \"val\": 0}, {\"x\": 6, \"y\": 19, \"val\": 0}, {\"x\": 7, \"y\": 19, \"val\": 0}, {\"x\": 8, \"y\": 19, \"val\": 0}, {\"x\": 9, \"y\": 19, \"val\": 0}, {\"x\": 10, \"y\": 19, \"val\": 0}, {\"x\": 11, \"y\": 19, \"val\": 0}, {\"x\": 12, \"y\": 19, \"val\": 0}, {\"x\": 13, \"y\": 19, \"val\": 6}, {\"x\": 14, \"y\": 19, \"val\": 183}, {\"x\": 15, \"y\": 19, \"val\": 253}, {\"x\": 16, \"y\": 19, \"val\": 252}, {\"x\": 17, \"y\": 19, \"val\": 107}, {\"x\": 18, \"y\": 19, \"val\": 2}, {\"x\": 19, \"y\": 19, \"val\": 0}, {\"x\": 20, \"y\": 19, \"val\": 0}, {\"x\": 21, \"y\": 19, \"val\": 0}, {\"x\": 22, \"y\": 19, \"val\": 0}, {\"x\": 23, \"y\": 19, \"val\": 0}, {\"x\": 24, \"y\": 19, \"val\": 0}, {\"x\": 25, \"y\": 19, \"val\": 0}, {\"x\": 26, \"y\": 19, \"val\": 0}, {\"x\": 27, \"y\": 19, \"val\": 0}, {\"x\": 28, \"y\": 19, \"val\": 0}, {\"x\": 1, \"y\": 20, \"val\": 0}, {\"x\": 2, \"y\": 20, \"val\": 0}, {\"x\": 3, \"y\": 20, \"val\": 0}, {\"x\": 4, \"y\": 20, \"val\": 0}, {\"x\": 5, \"y\": 20, \"val\": 0}, {\"x\": 6, \"y\": 20, \"val\": 0}, {\"x\": 7, \"y\": 20, \"val\": 0}, {\"x\": 8, \"y\": 20, \"val\": 0}, {\"x\": 9, \"y\": 20, \"val\": 0}, {\"x\": 10, \"y\": 20, \"val\": 0}, {\"x\": 11, \"y\": 20, \"val\": 0}, {\"x\": 12, \"y\": 20, \"val\": 10}, {\"x\": 13, \"y\": 20, \"val\": 102}, {\"x\": 14, \"y\": 20, \"val\": 252}, {\"x\": 15, \"y\": 20, \"val\": 253}, {\"x\": 16, \"y\": 20, \"val\": 163}, {\"x\": 17, \"y\": 20, \"val\": 16}, {\"x\": 18, \"y\": 20, \"val\": 0}, {\"x\": 19, \"y\": 20, \"val\": 0}, {\"x\": 20, \"y\": 20, \"val\": 0}, {\"x\": 21, \"y\": 20, \"val\": 0}, {\"x\": 22, \"y\": 20, \"val\": 0}, {\"x\": 23, \"y\": 20, \"val\": 0}, {\"x\": 24, \"y\": 20, \"val\": 0}, {\"x\": 25, \"y\": 20, \"val\": 0}, {\"x\": 26, \"y\": 20, \"val\": 0}, {\"x\": 27, \"y\": 20, \"val\": 0}, {\"x\": 28, \"y\": 20, \"val\": 0}, {\"x\": 1, \"y\": 21, \"val\": 0}, {\"x\": 2, \"y\": 21, \"val\": 0}, {\"x\": 3, \"y\": 21, \"val\": 0}, {\"x\": 4, \"y\": 21, \"val\": 0}, {\"x\": 5, \"y\": 21, \"val\": 0}, {\"x\": 6, \"y\": 21, \"val\": 0}, {\"x\": 7, \"y\": 21, \"val\": 0}, {\"x\": 8, \"y\": 21, \"val\": 0}, {\"x\": 9, \"y\": 21, \"val\": 0}, {\"x\": 10, \"y\": 21, \"val\": 0}, {\"x\": 11, \"y\": 21, \"val\": 13}, {\"x\": 12, \"y\": 21, \"val\": 168}, {\"x\": 13, \"y\": 21, \"val\": 252}, {\"x\": 14, \"y\": 21, \"val\": 252}, {\"x\": 15, \"y\": 21, \"val\": 110}, {\"x\": 16, \"y\": 21, \"val\": 2}, {\"x\": 17, \"y\": 21, \"val\": 0}, {\"x\": 18, \"y\": 21, \"val\": 0}, {\"x\": 19, \"y\": 21, \"val\": 0}, {\"x\": 20, \"y\": 21, \"val\": 0}, {\"x\": 21, \"y\": 21, \"val\": 0}, {\"x\": 22, \"y\": 21, \"val\": 0}, {\"x\": 23, \"y\": 21, \"val\": 0}, {\"x\": 24, \"y\": 21, \"val\": 0}, {\"x\": 25, \"y\": 21, \"val\": 0}, {\"x\": 26, \"y\": 21, \"val\": 0}, {\"x\": 27, \"y\": 21, \"val\": 0}, {\"x\": 28, \"y\": 21, \"val\": 0}, {\"x\": 1, \"y\": 22, \"val\": 0}, {\"x\": 2, \"y\": 22, \"val\": 0}, {\"x\": 3, \"y\": 22, \"val\": 0}, {\"x\": 4, \"y\": 22, \"val\": 0}, {\"x\": 5, \"y\": 22, \"val\": 0}, {\"x\": 6, \"y\": 22, \"val\": 0}, {\"x\": 7, \"y\": 22, \"val\": 0}, {\"x\": 8, \"y\": 22, \"val\": 0}, {\"x\": 9, \"y\": 22, \"val\": 0}, {\"x\": 10, \"y\": 22, \"val\": 0}, {\"x\": 11, \"y\": 22, \"val\": 41}, {\"x\": 12, \"y\": 22, \"val\": 252}, {\"x\": 13, \"y\": 22, \"val\": 252}, {\"x\": 14, \"y\": 22, \"val\": 217}, {\"x\": 15, \"y\": 22, \"val\": 0}, {\"x\": 16, \"y\": 22, \"val\": 0}, {\"x\": 17, \"y\": 22, \"val\": 0}, {\"x\": 18, \"y\": 22, \"val\": 0}, {\"x\": 19, \"y\": 22, \"val\": 0}, {\"x\": 20, \"y\": 22, \"val\": 0}, {\"x\": 21, \"y\": 22, \"val\": 0}, {\"x\": 22, \"y\": 22, \"val\": 0}, {\"x\": 23, \"y\": 22, \"val\": 0}, {\"x\": 24, \"y\": 22, \"val\": 0}, {\"x\": 25, \"y\": 22, \"val\": 0}, {\"x\": 26, \"y\": 22, \"val\": 0}, {\"x\": 27, \"y\": 22, \"val\": 0}, {\"x\": 28, \"y\": 22, \"val\": 0}, {\"x\": 1, \"y\": 23, \"val\": 0}, {\"x\": 2, \"y\": 23, \"val\": 0}, {\"x\": 3, \"y\": 23, \"val\": 0}, {\"x\": 4, \"y\": 23, \"val\": 0}, {\"x\": 5, \"y\": 23, \"val\": 0}, {\"x\": 6, \"y\": 23, \"val\": 0}, {\"x\": 7, \"y\": 23, \"val\": 0}, {\"x\": 8, \"y\": 23, \"val\": 0}, {\"x\": 9, \"y\": 23, \"val\": 0}, {\"x\": 10, \"y\": 23, \"val\": 40}, {\"x\": 11, \"y\": 23, \"val\": 155}, {\"x\": 12, \"y\": 23, \"val\": 252}, {\"x\": 13, \"y\": 23, \"val\": 214}, {\"x\": 14, \"y\": 23, \"val\": 31}, {\"x\": 15, \"y\": 23, \"val\": 0}, {\"x\": 16, \"y\": 23, \"val\": 0}, {\"x\": 17, \"y\": 23, \"val\": 0}, {\"x\": 18, \"y\": 23, \"val\": 0}, {\"x\": 19, \"y\": 23, \"val\": 0}, {\"x\": 20, \"y\": 23, \"val\": 0}, {\"x\": 21, \"y\": 23, \"val\": 0}, {\"x\": 22, \"y\": 23, \"val\": 0}, {\"x\": 23, \"y\": 23, \"val\": 0}, {\"x\": 24, \"y\": 23, \"val\": 0}, {\"x\": 25, \"y\": 23, \"val\": 0}, {\"x\": 26, \"y\": 23, \"val\": 0}, {\"x\": 27, \"y\": 23, \"val\": 0}, {\"x\": 28, \"y\": 23, \"val\": 0}, {\"x\": 1, \"y\": 24, \"val\": 0}, {\"x\": 2, \"y\": 24, \"val\": 0}, {\"x\": 3, \"y\": 24, \"val\": 0}, {\"x\": 4, \"y\": 24, \"val\": 0}, {\"x\": 5, \"y\": 24, \"val\": 0}, {\"x\": 6, \"y\": 24, \"val\": 0}, {\"x\": 7, \"y\": 24, \"val\": 0}, {\"x\": 8, \"y\": 24, \"val\": 0}, {\"x\": 9, \"y\": 24, \"val\": 0}, {\"x\": 10, \"y\": 24, \"val\": 165}, {\"x\": 11, \"y\": 24, \"val\": 252}, {\"x\": 12, \"y\": 24, \"val\": 252}, {\"x\": 13, \"y\": 24, \"val\": 106}, {\"x\": 14, \"y\": 24, \"val\": 0}, {\"x\": 15, \"y\": 24, \"val\": 0}, {\"x\": 16, \"y\": 24, \"val\": 0}, {\"x\": 17, \"y\": 24, \"val\": 0}, {\"x\": 18, \"y\": 24, \"val\": 0}, {\"x\": 19, \"y\": 24, \"val\": 0}, {\"x\": 20, \"y\": 24, \"val\": 0}, {\"x\": 21, \"y\": 24, \"val\": 0}, {\"x\": 22, \"y\": 24, \"val\": 0}, {\"x\": 23, \"y\": 24, \"val\": 0}, {\"x\": 24, \"y\": 24, \"val\": 0}, {\"x\": 25, \"y\": 24, \"val\": 0}, {\"x\": 26, \"y\": 24, \"val\": 0}, {\"x\": 27, \"y\": 24, \"val\": 0}, {\"x\": 28, \"y\": 24, \"val\": 0}, {\"x\": 1, \"y\": 25, \"val\": 0}, {\"x\": 2, \"y\": 25, \"val\": 0}, {\"x\": 3, \"y\": 25, \"val\": 0}, {\"x\": 4, \"y\": 25, \"val\": 0}, {\"x\": 5, \"y\": 25, \"val\": 0}, {\"x\": 6, \"y\": 25, \"val\": 0}, {\"x\": 7, \"y\": 25, \"val\": 0}, {\"x\": 8, \"y\": 25, \"val\": 0}, {\"x\": 9, \"y\": 25, \"val\": 43}, {\"x\": 10, \"y\": 25, \"val\": 179}, {\"x\": 11, \"y\": 25, \"val\": 252}, {\"x\": 12, \"y\": 25, \"val\": 150}, {\"x\": 13, \"y\": 25, \"val\": 39}, {\"x\": 14, \"y\": 25, \"val\": 0}, {\"x\": 15, \"y\": 25, \"val\": 0}, {\"x\": 16, \"y\": 25, \"val\": 0}, {\"x\": 17, \"y\": 25, \"val\": 0}, {\"x\": 18, \"y\": 25, \"val\": 0}, {\"x\": 19, \"y\": 25, \"val\": 0}, {\"x\": 20, \"y\": 25, \"val\": 0}, {\"x\": 21, \"y\": 25, \"val\": 0}, {\"x\": 22, \"y\": 25, \"val\": 0}, {\"x\": 23, \"y\": 25, \"val\": 0}, {\"x\": 24, \"y\": 25, \"val\": 0}, {\"x\": 25, \"y\": 25, \"val\": 0}, {\"x\": 26, \"y\": 25, \"val\": 0}, {\"x\": 27, \"y\": 25, \"val\": 0}, {\"x\": 28, \"y\": 25, \"val\": 0}, {\"x\": 1, \"y\": 26, \"val\": 0}, {\"x\": 2, \"y\": 26, \"val\": 0}, {\"x\": 3, \"y\": 26, \"val\": 0}, {\"x\": 4, \"y\": 26, \"val\": 0}, {\"x\": 5, \"y\": 26, \"val\": 0}, {\"x\": 6, \"y\": 26, \"val\": 0}, {\"x\": 7, \"y\": 26, \"val\": 0}, {\"x\": 8, \"y\": 26, \"val\": 0}, {\"x\": 9, \"y\": 26, \"val\": 137}, {\"x\": 10, \"y\": 26, \"val\": 252}, {\"x\": 11, \"y\": 26, \"val\": 221}, {\"x\": 12, \"y\": 26, \"val\": 39}, {\"x\": 13, \"y\": 26, \"val\": 0}, {\"x\": 14, \"y\": 26, \"val\": 0}, {\"x\": 15, \"y\": 26, \"val\": 0}, {\"x\": 16, \"y\": 26, \"val\": 0}, {\"x\": 17, \"y\": 26, \"val\": 0}, {\"x\": 18, \"y\": 26, \"val\": 0}, {\"x\": 19, \"y\": 26, \"val\": 0}, {\"x\": 20, \"y\": 26, \"val\": 0}, {\"x\": 21, \"y\": 26, \"val\": 0}, {\"x\": 22, \"y\": 26, \"val\": 0}, {\"x\": 23, \"y\": 26, \"val\": 0}, {\"x\": 24, \"y\": 26, \"val\": 0}, {\"x\": 25, \"y\": 26, \"val\": 0}, {\"x\": 26, \"y\": 26, \"val\": 0}, {\"x\": 27, \"y\": 26, \"val\": 0}, {\"x\": 28, \"y\": 26, \"val\": 0}, {\"x\": 1, \"y\": 27, \"val\": 0}, {\"x\": 2, \"y\": 27, \"val\": 0}, {\"x\": 3, \"y\": 27, \"val\": 0}, {\"x\": 4, \"y\": 27, \"val\": 0}, {\"x\": 5, \"y\": 27, \"val\": 0}, {\"x\": 6, \"y\": 27, \"val\": 0}, {\"x\": 7, \"y\": 27, \"val\": 0}, {\"x\": 8, \"y\": 27, \"val\": 0}, {\"x\": 9, \"y\": 27, \"val\": 67}, {\"x\": 10, \"y\": 27, \"val\": 252}, {\"x\": 11, \"y\": 27, \"val\": 79}, {\"x\": 12, \"y\": 27, \"val\": 0}, {\"x\": 13, \"y\": 27, \"val\": 0}, {\"x\": 14, \"y\": 27, \"val\": 0}, {\"x\": 15, \"y\": 27, \"val\": 0}, {\"x\": 16, \"y\": 27, \"val\": 0}, {\"x\": 17, \"y\": 27, \"val\": 0}, {\"x\": 18, \"y\": 27, \"val\": 0}, {\"x\": 19, \"y\": 27, \"val\": 0}, {\"x\": 20, \"y\": 27, \"val\": 0}, {\"x\": 21, \"y\": 27, \"val\": 0}, {\"x\": 22, \"y\": 27, \"val\": 0}, {\"x\": 23, \"y\": 27, \"val\": 0}, {\"x\": 24, \"y\": 27, \"val\": 0}, {\"x\": 25, \"y\": 27, \"val\": 0}, {\"x\": 26, \"y\": 27, \"val\": 0}, {\"x\": 27, \"y\": 27, \"val\": 0}, {\"x\": 28, \"y\": 27, \"val\": 0}, {\"x\": 1, \"y\": 28, \"val\": 0}, {\"x\": 2, \"y\": 28, \"val\": 0}, {\"x\": 3, \"y\": 28, \"val\": 0}, {\"x\": 4, \"y\": 28, \"val\": 0}, {\"x\": 5, \"y\": 28, \"val\": 0}, {\"x\": 6, \"y\": 28, \"val\": 0}, {\"x\": 7, \"y\": 28, \"val\": 0}, {\"x\": 8, \"y\": 28, \"val\": 0}, {\"x\": 9, \"y\": 28, \"val\": 0}, {\"x\": 10, \"y\": 28, \"val\": 0}, {\"x\": 11, \"y\": 28, \"val\": 0}, {\"x\": 12, \"y\": 28, \"val\": 0}, {\"x\": 13, \"y\": 28, \"val\": 0}, {\"x\": 14, \"y\": 28, \"val\": 0}, {\"x\": 15, \"y\": 28, \"val\": 0}, {\"x\": 16, \"y\": 28, \"val\": 0}, {\"x\": 17, \"y\": 28, \"val\": 0}, {\"x\": 18, \"y\": 28, \"val\": 0}, {\"x\": 19, \"y\": 28, \"val\": 0}, {\"x\": 20, \"y\": 28, \"val\": 0}, {\"x\": 21, \"y\": 28, \"val\": 0}, {\"x\": 22, \"y\": 28, \"val\": 0}, {\"x\": 23, \"y\": 28, \"val\": 0}, {\"x\": 24, \"y\": 28, \"val\": 0}, {\"x\": 25, \"y\": 28, \"val\": 0}, {\"x\": 26, \"y\": 28, \"val\": 0}, {\"x\": 27, \"y\": 28, \"val\": 0}, {\"x\": 28, \"y\": 28, \"val\": 0}]}}, {\"mode\": \"vega-lite\"});\n",
              "</script>"
            ]
          },
          "metadata": {
            "tags": []
          },
          "execution_count": 18
        }
      ]
    },
    {
      "cell_type": "markdown",
      "metadata": {
        "id": "bb8b9a84"
      },
      "source": [
        "How can we solve this task? The challenge is that the are many different\n",
        "aspects that can make a digit look unique."
      ],
      "id": "bb8b9a84"
    },
    {
      "cell_type": "markdown",
      "metadata": {
        "id": "809dcfd9"
      },
      "source": [
        "👩🎓**Student question: What are some features that you use to tell apart digits?**"
      ],
      "id": "809dcfd9"
    },
    {
      "cell_type": "markdown",
      "metadata": {
        "lines_to_next_cell": 2,
        "id": "4ba4d4fd"
      },
      "source": [
        "We can use the NN classifier we learned\n",
        "last week, with a few modifications to change from binary\n",
        "classification to multi-class (10-way in this case) classification."
      ],
      "id": "4ba4d4fd"
    },
    {
      "cell_type": "markdown",
      "metadata": {
        "id": "27df78c7"
      },
      "source": [
        "First, the final layer needs to output 10 different values.\n",
        "Also we need to switch `sigmoid` tot a  `softmax`.\n",
        "Lastly, we need to change the loss function to\n",
        "`sparse_categorical_crossentropy`."
      ],
      "id": "27df78c7"
    },
    {
      "cell_type": "markdown",
      "metadata": {
        "id": "078b75fe"
      },
      "source": [
        "The practical change is quite small, it should look very similar to\n",
        "what we have seen already"
      ],
      "id": "078b75fe"
    },
    {
      "cell_type": "code",
      "metadata": {
        "execution": {
          "iopub.execute_input": "2021-08-02T20:00:45.657777Z",
          "iopub.status.busy": "2021-08-02T20:00:45.657506Z",
          "iopub.status.idle": "2021-08-02T20:00:45.660095Z",
          "shell.execute_reply": "2021-08-02T20:00:45.660314Z"
        },
        "lines_to_next_cell": 2,
        "id": "3440349d"
      },
      "source": [
        "def create_model():\n",
        "    # Makes it the same for everyone in class\n",
        "    tf.random.set_seed(2)\n",
        "\n",
        "    # Create model\n",
        "    model = Sequential()\n",
        "    model.add(Dense(64, activation=\"relu\"))\n",
        "    model.add(Dense(10, activation=\"softmax\"))\n",
        "\n",
        "    # Compile model\n",
        "    model.compile(loss=\"sparse_categorical_crossentropy\",\n",
        "                  optimizer=\"adam\",\n",
        "                  metrics=[\"accuracy\"])\n",
        "    return model"
      ],
      "id": "3440349d",
      "execution_count": null,
      "outputs": []
    },
    {
      "cell_type": "markdown",
      "metadata": {
        "lines_to_next_cell": 2,
        "id": "915184bf"
      },
      "source": [
        "While these terms are a bit technical, the main thing to know\n",
        "is that they team up to change the `loss` function from last\n",
        "week to score 10 different values instead of 2."
      ],
      "id": "915184bf"
    },
    {
      "cell_type": "code",
      "metadata": {
        "execution": {
          "iopub.execute_input": "2021-08-02T20:00:45.666723Z",
          "iopub.status.busy": "2021-08-02T20:00:45.666364Z",
          "iopub.status.idle": "2021-08-02T20:00:56.187093Z",
          "shell.execute_reply": "2021-08-02T20:00:56.187941Z"
        },
        "lines_to_next_cell": 2,
        "id": "3d2c2202",
        "colab": {
          "base_uri": "https://localhost:8080/"
        },
        "outputId": "0c0f96d8-3848-4d2b-f396-49ae34a8c1d5"
      },
      "source": [
        "# Create model\n",
        "model = KerasClassifier(build_fn=create_model,\n",
        "                        epochs=2,\n",
        "                        batch_size=20,\n",
        "                        verbose=False)\n",
        "# Fit model\n",
        "model.fit(x=df_train[features].astype(float),\n",
        "          y=df_train[\"class\"])"
      ],
      "id": "3d2c2202",
      "execution_count": null,
      "outputs": [
        {
          "output_type": "execute_result",
          "data": {
            "text/plain": [
              "<keras.callbacks.History at 0x7ff2b056a950>"
            ]
          },
          "metadata": {
            "tags": []
          },
          "execution_count": 20
        }
      ]
    },
    {
      "cell_type": "markdown",
      "metadata": {
        "id": "1b929d4e"
      },
      "source": [
        "Now that it is fit we can print a summary"
      ],
      "id": "1b929d4e"
    },
    {
      "cell_type": "code",
      "metadata": {
        "execution": {
          "iopub.execute_input": "2021-08-02T20:00:56.196016Z",
          "iopub.status.busy": "2021-08-02T20:00:56.195023Z",
          "iopub.status.idle": "2021-08-02T20:00:56.201156Z",
          "shell.execute_reply": "2021-08-02T20:00:56.201952Z"
        },
        "id": "f94f1683",
        "colab": {
          "base_uri": "https://localhost:8080/"
        },
        "outputId": "2168fb10-43c2-4885-cb92-bc6e99e30898"
      },
      "source": [
        "print (model.model.summary())"
      ],
      "id": "f94f1683",
      "execution_count": null,
      "outputs": [
        {
          "output_type": "stream",
          "text": [
            "Model: \"sequential_1\"\n",
            "_________________________________________________________________\n",
            "Layer (type)                 Output Shape              Param #   \n",
            "=================================================================\n",
            "dense_3 (Dense)              (20, 64)                  50240     \n",
            "_________________________________________________________________\n",
            "dense_4 (Dense)              (20, 10)                  650       \n",
            "=================================================================\n",
            "Total params: 50,890\n",
            "Trainable params: 50,890\n",
            "Non-trainable params: 0\n",
            "_________________________________________________________________\n",
            "None\n"
          ],
          "name": "stdout"
        }
      ]
    },
    {
      "cell_type": "markdown",
      "metadata": {
        "id": "ad8c97fe"
      },
      "source": [
        "And predict on test set"
      ],
      "id": "ad8c97fe"
    },
    {
      "cell_type": "code",
      "metadata": {
        "execution": {
          "iopub.execute_input": "2021-08-02T20:00:56.246336Z",
          "iopub.status.busy": "2021-08-02T20:00:56.210797Z",
          "iopub.status.idle": "2021-08-02T20:00:56.857014Z",
          "shell.execute_reply": "2021-08-02T20:00:56.857838Z"
        },
        "id": "41cbb4a3",
        "colab": {
          "base_uri": "https://localhost:8080/"
        },
        "outputId": "80e71d97-7baa-4a3a-c07b-89ee5b7c42ad"
      },
      "source": [
        "df_test[\"predict\"] = model.predict(df_test[features])\n",
        "correct = (df_test[\"predict\"] == df_test[\"class\"])\n",
        "accuracy = correct.sum() / correct.size\n",
        "print (\"accuracy: \", accuracy)"
      ],
      "id": "41cbb4a3",
      "execution_count": null,
      "outputs": [
        {
          "output_type": "stream",
          "text": [
            "accuracy:  0.9033\n"
          ],
          "name": "stdout"
        }
      ]
    },
    {
      "cell_type": "markdown",
      "metadata": {
        "id": "fd183fbe"
      },
      "source": [
        "This simple MLP classifier was able to get 90% accuracy!"
      ],
      "id": "fd183fbe"
    },
    {
      "cell_type": "markdown",
      "metadata": {
        "id": "6f3f72bf"
      },
      "source": [
        "👩🎓**Student question: what is the size of the input to the model??**"
      ],
      "id": "6f3f72bf"
    },
    {
      "cell_type": "code",
      "metadata": {
        "execution": {
          "iopub.execute_input": "2021-08-02T20:00:56.864240Z",
          "iopub.status.busy": "2021-08-02T20:00:56.863238Z",
          "iopub.status.idle": "2021-08-02T20:00:56.866789Z",
          "shell.execute_reply": "2021-08-02T20:00:56.865964Z"
        },
        "id": "59c1e677"
      },
      "source": [
        "#📝📝📝📝 FILLME\n",
        "pass"
      ],
      "id": "59c1e677",
      "execution_count": null,
      "outputs": []
    },
    {
      "cell_type": "markdown",
      "metadata": {
        "id": "21b633c3"
      },
      "source": [
        "It is hard to visualize the behavior of the classifier under such a\n",
        "high dimensionality. Instead we can look at some examples that the\n",
        "classifier gets wrong."
      ],
      "id": "21b633c3"
    },
    {
      "cell_type": "code",
      "metadata": {
        "execution": {
          "iopub.execute_input": "2021-08-02T20:00:56.876347Z",
          "iopub.status.busy": "2021-08-02T20:00:56.874994Z",
          "iopub.status.idle": "2021-08-02T20:00:57.478579Z",
          "shell.execute_reply": "2021-08-02T20:00:57.477621Z"
        },
        "id": "789948df"
      },
      "source": [
        "wrong = (df_test[\"predict\"] != df_test[\"class\"])\n",
        "examples = df_test.loc[wrong]\n",
        "num = 0\n",
        "charts = alt.vconcat()\n",
        "for idx, example in examples.iterrows():\n",
        "    label = example[\"class\"]\n",
        "    predicted_label = example[\"predict\"]\n",
        "    charts &= draw_image(idx)\n",
        "    num += 1\n",
        "    if num > 10:\n",
        "        break"
      ],
      "id": "789948df",
      "execution_count": null,
      "outputs": []
    },
    {
      "cell_type": "code",
      "metadata": {
        "execution": {
          "iopub.execute_input": "2021-08-02T20:00:57.492204Z",
          "iopub.status.busy": "2021-08-02T20:00:57.485721Z",
          "iopub.status.idle": "2021-08-02T20:00:57.550039Z",
          "shell.execute_reply": "2021-08-02T20:00:57.550512Z"
        },
        "id": "2cd5594e",
        "colab": {
          "base_uri": "https://localhost:8080/",
          "height": 1000
        },
        "outputId": "a5ea010e-fdfc-463f-f381-7a7199c44e47"
      },
      "source": [
        "charts"
      ],
      "id": "2cd5594e",
      "execution_count": null,
      "outputs": [
        {
          "output_type": "execute_result",
          "data": {
            "text/plain": [
              "alt.VConcatChart(...)"
            ],
            "text/html": [
              "\n",
              "<div id=\"altair-viz-34ccd6394f31478a89cf388649bb2aef\"></div>\n",
              "<script type=\"text/javascript\">\n",
              "  (function(spec, embedOpt){\n",
              "    let outputDiv = document.currentScript.previousElementSibling;\n",
              "    if (outputDiv.id !== \"altair-viz-34ccd6394f31478a89cf388649bb2aef\") {\n",
              "      outputDiv = document.getElementById(\"altair-viz-34ccd6394f31478a89cf388649bb2aef\");\n",
              "    }\n",
              "    const paths = {\n",
              "      \"vega\": \"https://cdn.jsdelivr.net/npm//vega@5?noext\",\n",
              "      \"vega-lib\": \"https://cdn.jsdelivr.net/npm//vega-lib?noext\",\n",
              "      \"vega-lite\": \"https://cdn.jsdelivr.net/npm//vega-lite@4.8.1?noext\",\n",
              "      \"vega-embed\": \"https://cdn.jsdelivr.net/npm//vega-embed@6?noext\",\n",
              "    };\n",
              "\n",
              "    function loadScript(lib) {\n",
              "      return new Promise(function(resolve, reject) {\n",
              "        var s = document.createElement('script');\n",
              "        s.src = paths[lib];\n",
              "        s.async = true;\n",
              "        s.onload = () => resolve(paths[lib]);\n",
              "        s.onerror = () => reject(`Error loading script: ${paths[lib]}`);\n",
              "        document.getElementsByTagName(\"head\")[0].appendChild(s);\n",
              "      });\n",
              "    }\n",
              "\n",
              "    function showError(err) {\n",
              "      outputDiv.innerHTML = `<div class=\"error\" style=\"color:red;\">${err}</div>`;\n",
              "      throw err;\n",
              "    }\n",
              "\n",
              "    function displayChart(vegaEmbed) {\n",
              "      vegaEmbed(outputDiv, spec, embedOpt)\n",
              "        .catch(err => showError(`Javascript Error: ${err.message}<br>This usually means there's a typo in your chart specification. See the javascript console for the full traceback.`));\n",
              "    }\n",
              "\n",
              "    if(typeof define === \"function\" && define.amd) {\n",
              "      requirejs.config({paths});\n",
              "      require([\"vega-embed\"], displayChart, err => showError(`Error loading script: ${err.message}`));\n",
              "    } else if (typeof vegaEmbed === \"function\") {\n",
              "      displayChart(vegaEmbed);\n",
              "    } else {\n",
              "      loadScript(\"vega\")\n",
              "        .then(() => loadScript(\"vega-lite\"))\n",
              "        .then(() => loadScript(\"vega-embed\"))\n",
              "        .catch(showError)\n",
              "        .then(() => displayChart(vegaEmbed));\n",
              "    }\n",
              "  })({\"config\": {\"view\": {\"continuousWidth\": 400, \"continuousHeight\": 300}}, \"vconcat\": [{\"mark\": \"rect\", \"encoding\": {\"color\": {\"type\": \"quantitative\", \"field\": \"val\"}, \"fill\": {\"type\": \"quantitative\", \"field\": \"val\"}, \"tooltip\": [{\"type\": \"quantitative\", \"field\": \"x\"}, {\"type\": \"quantitative\", \"field\": \"y\"}, {\"type\": \"quantitative\", \"field\": \"val\"}], \"x\": {\"type\": \"ordinal\", \"field\": \"x\"}, \"y\": {\"type\": \"ordinal\", \"field\": \"y\"}}, \"title\": \"Image of a 1\"}, {\"data\": {\"name\": \"data-703b0b49e7ee7735639cf161730b661f\"}, \"mark\": \"rect\", \"encoding\": {\"color\": {\"type\": \"quantitative\", \"field\": \"val\"}, \"fill\": {\"type\": \"quantitative\", \"field\": \"val\"}, \"tooltip\": [{\"type\": \"quantitative\", \"field\": \"x\"}, {\"type\": \"quantitative\", \"field\": \"y\"}, {\"type\": \"quantitative\", \"field\": \"val\"}], \"x\": {\"type\": \"ordinal\", \"field\": \"x\"}, \"y\": {\"type\": \"ordinal\", \"field\": \"y\"}}, \"title\": \"Image of a 6\"}, {\"data\": {\"name\": \"data-d767a9b513bd711487c3ac4cd98c9a89\"}, \"mark\": \"rect\", \"encoding\": {\"color\": {\"type\": \"quantitative\", \"field\": \"val\"}, \"fill\": {\"type\": \"quantitative\", \"field\": \"val\"}, \"tooltip\": [{\"type\": \"quantitative\", \"field\": \"x\"}, {\"type\": \"quantitative\", \"field\": \"y\"}, {\"type\": \"quantitative\", \"field\": \"val\"}], \"x\": {\"type\": \"ordinal\", \"field\": \"x\"}, \"y\": {\"type\": \"ordinal\", \"field\": \"y\"}}, \"title\": \"Image of a 9\"}, {\"data\": {\"name\": \"data-d591f5c6f656ca9bb3a0a95b1fb15128\"}, \"mark\": \"rect\", \"encoding\": {\"color\": {\"type\": \"quantitative\", \"field\": \"val\"}, \"fill\": {\"type\": \"quantitative\", \"field\": \"val\"}, \"tooltip\": [{\"type\": \"quantitative\", \"field\": \"x\"}, {\"type\": \"quantitative\", \"field\": \"y\"}, {\"type\": \"quantitative\", \"field\": \"val\"}], \"x\": {\"type\": \"ordinal\", \"field\": \"x\"}, \"y\": {\"type\": \"ordinal\", \"field\": \"y\"}}, \"title\": \"Image of a 7\"}, {\"data\": {\"name\": \"data-4ab6e3e259daa379d423311765623689\"}, \"mark\": \"rect\", \"encoding\": {\"color\": {\"type\": \"quantitative\", \"field\": \"val\"}, \"fill\": {\"type\": \"quantitative\", \"field\": \"val\"}, \"tooltip\": [{\"type\": \"quantitative\", \"field\": \"x\"}, {\"type\": \"quantitative\", \"field\": \"y\"}, {\"type\": \"quantitative\", \"field\": \"val\"}], \"x\": {\"type\": \"ordinal\", \"field\": \"x\"}, \"y\": {\"type\": \"ordinal\", \"field\": \"y\"}}, \"title\": \"Image of a 8\"}, {\"data\": {\"name\": \"data-65345d07b98c601d78167796a202411f\"}, \"mark\": \"rect\", \"encoding\": {\"color\": {\"type\": \"quantitative\", \"field\": \"val\"}, \"fill\": {\"type\": \"quantitative\", \"field\": \"val\"}, \"tooltip\": [{\"type\": \"quantitative\", \"field\": \"x\"}, {\"type\": \"quantitative\", \"field\": \"y\"}, {\"type\": \"quantitative\", \"field\": \"val\"}], \"x\": {\"type\": \"ordinal\", \"field\": \"x\"}, \"y\": {\"type\": \"ordinal\", \"field\": \"y\"}}, \"title\": \"Image of a 7\"}, {\"data\": {\"name\": \"data-a077629286938a4ab8691622ba23bb46\"}, \"mark\": \"rect\", \"encoding\": {\"color\": {\"type\": \"quantitative\", \"field\": \"val\"}, \"fill\": {\"type\": \"quantitative\", \"field\": \"val\"}, \"tooltip\": [{\"type\": \"quantitative\", \"field\": \"x\"}, {\"type\": \"quantitative\", \"field\": \"y\"}, {\"type\": \"quantitative\", \"field\": \"val\"}], \"x\": {\"type\": \"ordinal\", \"field\": \"x\"}, \"y\": {\"type\": \"ordinal\", \"field\": \"y\"}}, \"title\": \"Image of a 6\"}, {\"data\": {\"name\": \"data-2cf909783427897c9f0f90f0536ebd95\"}, \"mark\": \"rect\", \"encoding\": {\"color\": {\"type\": \"quantitative\", \"field\": \"val\"}, \"fill\": {\"type\": \"quantitative\", \"field\": \"val\"}, \"tooltip\": [{\"type\": \"quantitative\", \"field\": \"x\"}, {\"type\": \"quantitative\", \"field\": \"y\"}, {\"type\": \"quantitative\", \"field\": \"val\"}], \"x\": {\"type\": \"ordinal\", \"field\": \"x\"}, \"y\": {\"type\": \"ordinal\", \"field\": \"y\"}}, \"title\": \"Image of a 5\"}, {\"data\": {\"name\": \"data-6b385280961ade228bec1347f7edbbf7\"}, \"mark\": \"rect\", \"encoding\": {\"color\": {\"type\": \"quantitative\", \"field\": \"val\"}, \"fill\": {\"type\": \"quantitative\", \"field\": \"val\"}, \"tooltip\": [{\"type\": \"quantitative\", \"field\": \"x\"}, {\"type\": \"quantitative\", \"field\": \"y\"}, {\"type\": \"quantitative\", \"field\": \"val\"}], \"x\": {\"type\": \"ordinal\", \"field\": \"x\"}, \"y\": {\"type\": \"ordinal\", \"field\": \"y\"}}, \"title\": \"Image of a 6\"}, {\"data\": {\"name\": \"data-87d7158f3e7f592cd3192db4dc327499\"}, \"mark\": \"rect\", \"encoding\": {\"color\": {\"type\": \"quantitative\", \"field\": \"val\"}, \"fill\": {\"type\": \"quantitative\", \"field\": \"val\"}, \"tooltip\": [{\"type\": \"quantitative\", \"field\": \"x\"}, {\"type\": \"quantitative\", \"field\": \"y\"}, {\"type\": \"quantitative\", \"field\": \"val\"}], \"x\": {\"type\": \"ordinal\", \"field\": \"x\"}, \"y\": {\"type\": \"ordinal\", \"field\": \"y\"}}, \"title\": \"Image of a 1\"}, {\"data\": {\"name\": \"data-a125d3a798c8da9b0ff945ed2c30a6d3\"}, \"mark\": \"rect\", \"encoding\": {\"color\": {\"type\": \"quantitative\", \"field\": \"val\"}, \"fill\": {\"type\": \"quantitative\", \"field\": \"val\"}, \"tooltip\": [{\"type\": \"quantitative\", \"field\": \"x\"}, {\"type\": \"quantitative\", \"field\": \"y\"}, {\"type\": \"quantitative\", \"field\": \"val\"}], \"x\": {\"type\": \"ordinal\", \"field\": \"x\"}, \"y\": {\"type\": \"ordinal\", \"field\": \"y\"}}, \"title\": \"Image of a 0\"}], \"data\": {\"name\": \"data-d5bb0454950f757d301c347253eea4b6\"}, \"$schema\": \"https://vega.github.io/schema/vega-lite/v4.8.1.json\", \"datasets\": {\"data-d5bb0454950f757d301c347253eea4b6\": [{\"x\": 1, \"y\": 1, \"val\": 0}, {\"x\": 2, \"y\": 1, \"val\": 0}, {\"x\": 3, \"y\": 1, \"val\": 0}, {\"x\": 4, \"y\": 1, \"val\": 0}, {\"x\": 5, \"y\": 1, \"val\": 0}, {\"x\": 6, \"y\": 1, \"val\": 0}, {\"x\": 7, \"y\": 1, \"val\": 0}, {\"x\": 8, \"y\": 1, \"val\": 0}, {\"x\": 9, \"y\": 1, \"val\": 0}, {\"x\": 10, \"y\": 1, \"val\": 0}, {\"x\": 11, \"y\": 1, \"val\": 0}, {\"x\": 12, \"y\": 1, \"val\": 0}, {\"x\": 13, \"y\": 1, \"val\": 0}, {\"x\": 14, \"y\": 1, \"val\": 0}, {\"x\": 15, \"y\": 1, \"val\": 0}, {\"x\": 16, \"y\": 1, \"val\": 0}, {\"x\": 17, \"y\": 1, \"val\": 0}, {\"x\": 18, \"y\": 1, \"val\": 0}, {\"x\": 19, \"y\": 1, \"val\": 0}, {\"x\": 20, \"y\": 1, \"val\": 0}, {\"x\": 21, \"y\": 1, \"val\": 0}, {\"x\": 22, \"y\": 1, \"val\": 0}, {\"x\": 23, \"y\": 1, \"val\": 0}, {\"x\": 24, \"y\": 1, \"val\": 0}, {\"x\": 25, \"y\": 1, \"val\": 0}, {\"x\": 26, \"y\": 1, \"val\": 0}, {\"x\": 27, \"y\": 1, \"val\": 0}, {\"x\": 28, \"y\": 1, \"val\": 0}, {\"x\": 1, \"y\": 2, \"val\": 0}, {\"x\": 2, \"y\": 2, \"val\": 0}, {\"x\": 3, \"y\": 2, \"val\": 0}, {\"x\": 4, \"y\": 2, \"val\": 0}, {\"x\": 5, \"y\": 2, \"val\": 0}, {\"x\": 6, \"y\": 2, \"val\": 0}, {\"x\": 7, \"y\": 2, \"val\": 0}, {\"x\": 8, \"y\": 2, \"val\": 0}, {\"x\": 9, \"y\": 2, \"val\": 0}, {\"x\": 10, \"y\": 2, \"val\": 0}, {\"x\": 11, \"y\": 2, \"val\": 0}, {\"x\": 12, \"y\": 2, \"val\": 0}, {\"x\": 13, \"y\": 2, \"val\": 0}, {\"x\": 14, \"y\": 2, \"val\": 0}, {\"x\": 15, \"y\": 2, \"val\": 0}, {\"x\": 16, \"y\": 2, \"val\": 0}, {\"x\": 17, \"y\": 2, \"val\": 0}, {\"x\": 18, \"y\": 2, \"val\": 0}, {\"x\": 19, \"y\": 2, \"val\": 0}, {\"x\": 20, \"y\": 2, \"val\": 0}, {\"x\": 21, \"y\": 2, \"val\": 0}, {\"x\": 22, \"y\": 2, \"val\": 0}, {\"x\": 23, \"y\": 2, \"val\": 0}, {\"x\": 24, \"y\": 2, \"val\": 0}, {\"x\": 25, \"y\": 2, \"val\": 0}, {\"x\": 26, \"y\": 2, \"val\": 0}, {\"x\": 27, \"y\": 2, \"val\": 0}, {\"x\": 28, \"y\": 2, \"val\": 0}, {\"x\": 1, \"y\": 3, \"val\": 0}, {\"x\": 2, \"y\": 3, \"val\": 0}, {\"x\": 3, \"y\": 3, \"val\": 0}, {\"x\": 4, \"y\": 3, \"val\": 0}, {\"x\": 5, \"y\": 3, \"val\": 0}, {\"x\": 6, \"y\": 3, \"val\": 0}, {\"x\": 7, \"y\": 3, \"val\": 0}, {\"x\": 8, \"y\": 3, \"val\": 0}, {\"x\": 9, \"y\": 3, \"val\": 0}, {\"x\": 10, \"y\": 3, \"val\": 0}, {\"x\": 11, \"y\": 3, \"val\": 0}, {\"x\": 12, \"y\": 3, \"val\": 0}, {\"x\": 13, \"y\": 3, \"val\": 0}, {\"x\": 14, \"y\": 3, \"val\": 0}, {\"x\": 15, \"y\": 3, \"val\": 0}, {\"x\": 16, \"y\": 3, \"val\": 0}, {\"x\": 17, \"y\": 3, \"val\": 0}, {\"x\": 18, \"y\": 3, \"val\": 0}, {\"x\": 19, \"y\": 3, \"val\": 0}, {\"x\": 20, \"y\": 3, \"val\": 0}, {\"x\": 21, \"y\": 3, \"val\": 0}, {\"x\": 22, \"y\": 3, \"val\": 0}, {\"x\": 23, \"y\": 3, \"val\": 0}, {\"x\": 24, \"y\": 3, \"val\": 0}, {\"x\": 25, \"y\": 3, \"val\": 0}, {\"x\": 26, \"y\": 3, \"val\": 0}, {\"x\": 27, \"y\": 3, \"val\": 0}, {\"x\": 28, \"y\": 3, \"val\": 0}, {\"x\": 1, \"y\": 4, \"val\": 0}, {\"x\": 2, \"y\": 4, \"val\": 0}, {\"x\": 3, \"y\": 4, \"val\": 0}, {\"x\": 4, \"y\": 4, \"val\": 0}, {\"x\": 5, \"y\": 4, \"val\": 0}, {\"x\": 6, \"y\": 4, \"val\": 0}, {\"x\": 7, \"y\": 4, \"val\": 0}, {\"x\": 8, \"y\": 4, \"val\": 0}, {\"x\": 9, \"y\": 4, \"val\": 0}, {\"x\": 10, \"y\": 4, \"val\": 0}, {\"x\": 11, \"y\": 4, \"val\": 0}, {\"x\": 12, \"y\": 4, \"val\": 0}, {\"x\": 13, \"y\": 4, \"val\": 0}, {\"x\": 14, \"y\": 4, \"val\": 0}, {\"x\": 15, \"y\": 4, \"val\": 0}, {\"x\": 16, \"y\": 4, \"val\": 0}, {\"x\": 17, \"y\": 4, \"val\": 0}, {\"x\": 18, \"y\": 4, \"val\": 0}, {\"x\": 19, \"y\": 4, \"val\": 0}, {\"x\": 20, \"y\": 4, \"val\": 0}, {\"x\": 21, \"y\": 4, \"val\": 0}, {\"x\": 22, \"y\": 4, \"val\": 0}, {\"x\": 23, \"y\": 4, \"val\": 0}, {\"x\": 24, \"y\": 4, \"val\": 0}, {\"x\": 25, \"y\": 4, \"val\": 0}, {\"x\": 26, \"y\": 4, \"val\": 0}, {\"x\": 27, \"y\": 4, \"val\": 0}, {\"x\": 28, \"y\": 4, \"val\": 0}, {\"x\": 1, \"y\": 5, \"val\": 0}, {\"x\": 2, \"y\": 5, \"val\": 0}, {\"x\": 3, \"y\": 5, \"val\": 0}, {\"x\": 4, \"y\": 5, \"val\": 0}, {\"x\": 5, \"y\": 5, \"val\": 0}, {\"x\": 6, \"y\": 5, \"val\": 0}, {\"x\": 7, \"y\": 5, \"val\": 0}, {\"x\": 8, \"y\": 5, \"val\": 0}, {\"x\": 9, \"y\": 5, \"val\": 0}, {\"x\": 10, \"y\": 5, \"val\": 0}, {\"x\": 11, \"y\": 5, \"val\": 0}, {\"x\": 12, \"y\": 5, \"val\": 0}, {\"x\": 13, \"y\": 5, \"val\": 0}, {\"x\": 14, \"y\": 5, \"val\": 0}, {\"x\": 15, \"y\": 5, \"val\": 0}, {\"x\": 16, \"y\": 5, \"val\": 0}, {\"x\": 17, \"y\": 5, \"val\": 0}, {\"x\": 18, \"y\": 5, \"val\": 0}, {\"x\": 19, \"y\": 5, \"val\": 0}, {\"x\": 20, \"y\": 5, \"val\": 0}, {\"x\": 21, \"y\": 5, \"val\": 0}, {\"x\": 22, \"y\": 5, \"val\": 0}, {\"x\": 23, \"y\": 5, \"val\": 0}, {\"x\": 24, \"y\": 5, \"val\": 0}, {\"x\": 25, \"y\": 5, \"val\": 0}, {\"x\": 26, \"y\": 5, \"val\": 0}, {\"x\": 27, \"y\": 5, \"val\": 0}, {\"x\": 28, \"y\": 5, \"val\": 0}, {\"x\": 1, \"y\": 6, \"val\": 0}, {\"x\": 2, \"y\": 6, \"val\": 0}, {\"x\": 3, \"y\": 6, \"val\": 0}, {\"x\": 4, \"y\": 6, \"val\": 0}, {\"x\": 5, \"y\": 6, \"val\": 0}, {\"x\": 6, \"y\": 6, \"val\": 0}, {\"x\": 7, \"y\": 6, \"val\": 0}, {\"x\": 8, \"y\": 6, \"val\": 0}, {\"x\": 9, \"y\": 6, \"val\": 0}, {\"x\": 10, \"y\": 6, \"val\": 0}, {\"x\": 11, \"y\": 6, \"val\": 0}, {\"x\": 12, \"y\": 6, \"val\": 0}, {\"x\": 13, \"y\": 6, \"val\": 5}, {\"x\": 14, \"y\": 6, \"val\": 63}, {\"x\": 15, \"y\": 6, \"val\": 197}, {\"x\": 16, \"y\": 6, \"val\": 0}, {\"x\": 17, \"y\": 6, \"val\": 0}, {\"x\": 18, \"y\": 6, \"val\": 0}, {\"x\": 19, \"y\": 6, \"val\": 0}, {\"x\": 20, \"y\": 6, \"val\": 0}, {\"x\": 21, \"y\": 6, \"val\": 0}, {\"x\": 22, \"y\": 6, \"val\": 0}, {\"x\": 23, \"y\": 6, \"val\": 0}, {\"x\": 24, \"y\": 6, \"val\": 0}, {\"x\": 25, \"y\": 6, \"val\": 0}, {\"x\": 26, \"y\": 6, \"val\": 0}, {\"x\": 27, \"y\": 6, \"val\": 0}, {\"x\": 28, \"y\": 6, \"val\": 0}, {\"x\": 1, \"y\": 7, \"val\": 0}, {\"x\": 2, \"y\": 7, \"val\": 0}, {\"x\": 3, \"y\": 7, \"val\": 0}, {\"x\": 4, \"y\": 7, \"val\": 0}, {\"x\": 5, \"y\": 7, \"val\": 0}, {\"x\": 6, \"y\": 7, \"val\": 0}, {\"x\": 7, \"y\": 7, \"val\": 0}, {\"x\": 8, \"y\": 7, \"val\": 0}, {\"x\": 9, \"y\": 7, \"val\": 0}, {\"x\": 10, \"y\": 7, \"val\": 0}, {\"x\": 11, \"y\": 7, \"val\": 0}, {\"x\": 12, \"y\": 7, \"val\": 0}, {\"x\": 13, \"y\": 7, \"val\": 20}, {\"x\": 14, \"y\": 7, \"val\": 254}, {\"x\": 15, \"y\": 7, \"val\": 230}, {\"x\": 16, \"y\": 7, \"val\": 24}, {\"x\": 17, \"y\": 7, \"val\": 0}, {\"x\": 18, \"y\": 7, \"val\": 0}, {\"x\": 19, \"y\": 7, \"val\": 0}, {\"x\": 20, \"y\": 7, \"val\": 0}, {\"x\": 21, \"y\": 7, \"val\": 0}, {\"x\": 22, \"y\": 7, \"val\": 0}, {\"x\": 23, \"y\": 7, \"val\": 0}, {\"x\": 24, \"y\": 7, \"val\": 0}, {\"x\": 25, \"y\": 7, \"val\": 0}, {\"x\": 26, \"y\": 7, \"val\": 0}, {\"x\": 27, \"y\": 7, \"val\": 0}, {\"x\": 28, \"y\": 7, \"val\": 0}, {\"x\": 1, \"y\": 8, \"val\": 0}, {\"x\": 2, \"y\": 8, \"val\": 0}, {\"x\": 3, \"y\": 8, \"val\": 0}, {\"x\": 4, \"y\": 8, \"val\": 0}, {\"x\": 5, \"y\": 8, \"val\": 0}, {\"x\": 6, \"y\": 8, \"val\": 0}, {\"x\": 7, \"y\": 8, \"val\": 0}, {\"x\": 8, \"y\": 8, \"val\": 0}, {\"x\": 9, \"y\": 8, \"val\": 0}, {\"x\": 10, \"y\": 8, \"val\": 0}, {\"x\": 11, \"y\": 8, \"val\": 0}, {\"x\": 12, \"y\": 8, \"val\": 0}, {\"x\": 13, \"y\": 8, \"val\": 20}, {\"x\": 14, \"y\": 8, \"val\": 254}, {\"x\": 15, \"y\": 8, \"val\": 254}, {\"x\": 16, \"y\": 8, \"val\": 48}, {\"x\": 17, \"y\": 8, \"val\": 0}, {\"x\": 18, \"y\": 8, \"val\": 0}, {\"x\": 19, \"y\": 8, \"val\": 0}, {\"x\": 20, \"y\": 8, \"val\": 0}, {\"x\": 21, \"y\": 8, \"val\": 0}, {\"x\": 22, \"y\": 8, \"val\": 0}, {\"x\": 23, \"y\": 8, \"val\": 0}, {\"x\": 24, \"y\": 8, \"val\": 0}, {\"x\": 25, \"y\": 8, \"val\": 0}, {\"x\": 26, \"y\": 8, \"val\": 0}, {\"x\": 27, \"y\": 8, \"val\": 0}, {\"x\": 28, \"y\": 8, \"val\": 0}, {\"x\": 1, \"y\": 9, \"val\": 0}, {\"x\": 2, \"y\": 9, \"val\": 0}, {\"x\": 3, \"y\": 9, \"val\": 0}, {\"x\": 4, \"y\": 9, \"val\": 0}, {\"x\": 5, \"y\": 9, \"val\": 0}, {\"x\": 6, \"y\": 9, \"val\": 0}, {\"x\": 7, \"y\": 9, \"val\": 0}, {\"x\": 8, \"y\": 9, \"val\": 0}, {\"x\": 9, \"y\": 9, \"val\": 0}, {\"x\": 10, \"y\": 9, \"val\": 0}, {\"x\": 11, \"y\": 9, \"val\": 0}, {\"x\": 12, \"y\": 9, \"val\": 0}, {\"x\": 13, \"y\": 9, \"val\": 20}, {\"x\": 14, \"y\": 9, \"val\": 254}, {\"x\": 15, \"y\": 9, \"val\": 255}, {\"x\": 16, \"y\": 9, \"val\": 48}, {\"x\": 17, \"y\": 9, \"val\": 0}, {\"x\": 18, \"y\": 9, \"val\": 0}, {\"x\": 19, \"y\": 9, \"val\": 0}, {\"x\": 20, \"y\": 9, \"val\": 0}, {\"x\": 21, \"y\": 9, \"val\": 0}, {\"x\": 22, \"y\": 9, \"val\": 0}, {\"x\": 23, \"y\": 9, \"val\": 0}, {\"x\": 24, \"y\": 9, \"val\": 0}, {\"x\": 25, \"y\": 9, \"val\": 0}, {\"x\": 26, \"y\": 9, \"val\": 0}, {\"x\": 27, \"y\": 9, \"val\": 0}, {\"x\": 28, \"y\": 9, \"val\": 0}, {\"x\": 1, \"y\": 10, \"val\": 0}, {\"x\": 2, \"y\": 10, \"val\": 0}, {\"x\": 3, \"y\": 10, \"val\": 0}, {\"x\": 4, \"y\": 10, \"val\": 0}, {\"x\": 5, \"y\": 10, \"val\": 0}, {\"x\": 6, \"y\": 10, \"val\": 0}, {\"x\": 7, \"y\": 10, \"val\": 0}, {\"x\": 8, \"y\": 10, \"val\": 0}, {\"x\": 9, \"y\": 10, \"val\": 0}, {\"x\": 10, \"y\": 10, \"val\": 0}, {\"x\": 11, \"y\": 10, \"val\": 0}, {\"x\": 12, \"y\": 10, \"val\": 0}, {\"x\": 13, \"y\": 10, \"val\": 20}, {\"x\": 14, \"y\": 10, \"val\": 254}, {\"x\": 15, \"y\": 10, \"val\": 254}, {\"x\": 16, \"y\": 10, \"val\": 57}, {\"x\": 17, \"y\": 10, \"val\": 0}, {\"x\": 18, \"y\": 10, \"val\": 0}, {\"x\": 19, \"y\": 10, \"val\": 0}, {\"x\": 20, \"y\": 10, \"val\": 0}, {\"x\": 21, \"y\": 10, \"val\": 0}, {\"x\": 22, \"y\": 10, \"val\": 0}, {\"x\": 23, \"y\": 10, \"val\": 0}, {\"x\": 24, \"y\": 10, \"val\": 0}, {\"x\": 25, \"y\": 10, \"val\": 0}, {\"x\": 26, \"y\": 10, \"val\": 0}, {\"x\": 27, \"y\": 10, \"val\": 0}, {\"x\": 28, \"y\": 10, \"val\": 0}, {\"x\": 1, \"y\": 11, \"val\": 0}, {\"x\": 2, \"y\": 11, \"val\": 0}, {\"x\": 3, \"y\": 11, \"val\": 0}, {\"x\": 4, \"y\": 11, \"val\": 0}, {\"x\": 5, \"y\": 11, \"val\": 0}, {\"x\": 6, \"y\": 11, \"val\": 0}, {\"x\": 7, \"y\": 11, \"val\": 0}, {\"x\": 8, \"y\": 11, \"val\": 0}, {\"x\": 9, \"y\": 11, \"val\": 0}, {\"x\": 10, \"y\": 11, \"val\": 0}, {\"x\": 11, \"y\": 11, \"val\": 0}, {\"x\": 12, \"y\": 11, \"val\": 0}, {\"x\": 13, \"y\": 11, \"val\": 20}, {\"x\": 14, \"y\": 11, \"val\": 254}, {\"x\": 15, \"y\": 11, \"val\": 254}, {\"x\": 16, \"y\": 11, \"val\": 108}, {\"x\": 17, \"y\": 11, \"val\": 0}, {\"x\": 18, \"y\": 11, \"val\": 0}, {\"x\": 19, \"y\": 11, \"val\": 0}, {\"x\": 20, \"y\": 11, \"val\": 0}, {\"x\": 21, \"y\": 11, \"val\": 0}, {\"x\": 22, \"y\": 11, \"val\": 0}, {\"x\": 23, \"y\": 11, \"val\": 0}, {\"x\": 24, \"y\": 11, \"val\": 0}, {\"x\": 25, \"y\": 11, \"val\": 0}, {\"x\": 26, \"y\": 11, \"val\": 0}, {\"x\": 27, \"y\": 11, \"val\": 0}, {\"x\": 28, \"y\": 11, \"val\": 0}, {\"x\": 1, \"y\": 12, \"val\": 0}, {\"x\": 2, \"y\": 12, \"val\": 0}, {\"x\": 3, \"y\": 12, \"val\": 0}, {\"x\": 4, \"y\": 12, \"val\": 0}, {\"x\": 5, \"y\": 12, \"val\": 0}, {\"x\": 6, \"y\": 12, \"val\": 0}, {\"x\": 7, \"y\": 12, \"val\": 0}, {\"x\": 8, \"y\": 12, \"val\": 0}, {\"x\": 9, \"y\": 12, \"val\": 0}, {\"x\": 10, \"y\": 12, \"val\": 0}, {\"x\": 11, \"y\": 12, \"val\": 0}, {\"x\": 12, \"y\": 12, \"val\": 0}, {\"x\": 13, \"y\": 12, \"val\": 16}, {\"x\": 14, \"y\": 12, \"val\": 239}, {\"x\": 15, \"y\": 12, \"val\": 254}, {\"x\": 16, \"y\": 12, \"val\": 143}, {\"x\": 17, \"y\": 12, \"val\": 0}, {\"x\": 18, \"y\": 12, \"val\": 0}, {\"x\": 19, \"y\": 12, \"val\": 0}, {\"x\": 20, \"y\": 12, \"val\": 0}, {\"x\": 21, \"y\": 12, \"val\": 0}, {\"x\": 22, \"y\": 12, \"val\": 0}, {\"x\": 23, \"y\": 12, \"val\": 0}, {\"x\": 24, \"y\": 12, \"val\": 0}, {\"x\": 25, \"y\": 12, \"val\": 0}, {\"x\": 26, \"y\": 12, \"val\": 0}, {\"x\": 27, \"y\": 12, \"val\": 0}, {\"x\": 28, \"y\": 12, \"val\": 0}, {\"x\": 1, \"y\": 13, \"val\": 0}, {\"x\": 2, \"y\": 13, \"val\": 0}, {\"x\": 3, \"y\": 13, \"val\": 0}, {\"x\": 4, \"y\": 13, \"val\": 0}, {\"x\": 5, \"y\": 13, \"val\": 0}, {\"x\": 6, \"y\": 13, \"val\": 0}, {\"x\": 7, \"y\": 13, \"val\": 0}, {\"x\": 8, \"y\": 13, \"val\": 0}, {\"x\": 9, \"y\": 13, \"val\": 0}, {\"x\": 10, \"y\": 13, \"val\": 0}, {\"x\": 11, \"y\": 13, \"val\": 0}, {\"x\": 12, \"y\": 13, \"val\": 0}, {\"x\": 13, \"y\": 13, \"val\": 0}, {\"x\": 14, \"y\": 13, \"val\": 178}, {\"x\": 15, \"y\": 13, \"val\": 254}, {\"x\": 16, \"y\": 13, \"val\": 143}, {\"x\": 17, \"y\": 13, \"val\": 0}, {\"x\": 18, \"y\": 13, \"val\": 0}, {\"x\": 19, \"y\": 13, \"val\": 0}, {\"x\": 20, \"y\": 13, \"val\": 0}, {\"x\": 21, \"y\": 13, \"val\": 0}, {\"x\": 22, \"y\": 13, \"val\": 0}, {\"x\": 23, \"y\": 13, \"val\": 0}, {\"x\": 24, \"y\": 13, \"val\": 0}, {\"x\": 25, \"y\": 13, \"val\": 0}, {\"x\": 26, \"y\": 13, \"val\": 0}, {\"x\": 27, \"y\": 13, \"val\": 0}, {\"x\": 28, \"y\": 13, \"val\": 0}, {\"x\": 1, \"y\": 14, \"val\": 0}, {\"x\": 2, \"y\": 14, \"val\": 0}, {\"x\": 3, \"y\": 14, \"val\": 0}, {\"x\": 4, \"y\": 14, \"val\": 0}, {\"x\": 5, \"y\": 14, \"val\": 0}, {\"x\": 6, \"y\": 14, \"val\": 0}, {\"x\": 7, \"y\": 14, \"val\": 0}, {\"x\": 8, \"y\": 14, \"val\": 0}, {\"x\": 9, \"y\": 14, \"val\": 0}, {\"x\": 10, \"y\": 14, \"val\": 0}, {\"x\": 11, \"y\": 14, \"val\": 0}, {\"x\": 12, \"y\": 14, \"val\": 0}, {\"x\": 13, \"y\": 14, \"val\": 0}, {\"x\": 14, \"y\": 14, \"val\": 178}, {\"x\": 15, \"y\": 14, \"val\": 254}, {\"x\": 16, \"y\": 14, \"val\": 143}, {\"x\": 17, \"y\": 14, \"val\": 0}, {\"x\": 18, \"y\": 14, \"val\": 0}, {\"x\": 19, \"y\": 14, \"val\": 0}, {\"x\": 20, \"y\": 14, \"val\": 0}, {\"x\": 21, \"y\": 14, \"val\": 0}, {\"x\": 22, \"y\": 14, \"val\": 0}, {\"x\": 23, \"y\": 14, \"val\": 0}, {\"x\": 24, \"y\": 14, \"val\": 0}, {\"x\": 25, \"y\": 14, \"val\": 0}, {\"x\": 26, \"y\": 14, \"val\": 0}, {\"x\": 27, \"y\": 14, \"val\": 0}, {\"x\": 28, \"y\": 14, \"val\": 0}, {\"x\": 1, \"y\": 15, \"val\": 0}, {\"x\": 2, \"y\": 15, \"val\": 0}, {\"x\": 3, \"y\": 15, \"val\": 0}, {\"x\": 4, \"y\": 15, \"val\": 0}, {\"x\": 5, \"y\": 15, \"val\": 0}, {\"x\": 6, \"y\": 15, \"val\": 0}, {\"x\": 7, \"y\": 15, \"val\": 0}, {\"x\": 8, \"y\": 15, \"val\": 0}, {\"x\": 9, \"y\": 15, \"val\": 0}, {\"x\": 10, \"y\": 15, \"val\": 0}, {\"x\": 11, \"y\": 15, \"val\": 0}, {\"x\": 12, \"y\": 15, \"val\": 0}, {\"x\": 13, \"y\": 15, \"val\": 0}, {\"x\": 14, \"y\": 15, \"val\": 178}, {\"x\": 15, \"y\": 15, \"val\": 254}, {\"x\": 16, \"y\": 15, \"val\": 162}, {\"x\": 17, \"y\": 15, \"val\": 0}, {\"x\": 18, \"y\": 15, \"val\": 0}, {\"x\": 19, \"y\": 15, \"val\": 0}, {\"x\": 20, \"y\": 15, \"val\": 0}, {\"x\": 21, \"y\": 15, \"val\": 0}, {\"x\": 22, \"y\": 15, \"val\": 0}, {\"x\": 23, \"y\": 15, \"val\": 0}, {\"x\": 24, \"y\": 15, \"val\": 0}, {\"x\": 25, \"y\": 15, \"val\": 0}, {\"x\": 26, \"y\": 15, \"val\": 0}, {\"x\": 27, \"y\": 15, \"val\": 0}, {\"x\": 28, \"y\": 15, \"val\": 0}, {\"x\": 1, \"y\": 16, \"val\": 0}, {\"x\": 2, \"y\": 16, \"val\": 0}, {\"x\": 3, \"y\": 16, \"val\": 0}, {\"x\": 4, \"y\": 16, \"val\": 0}, {\"x\": 5, \"y\": 16, \"val\": 0}, {\"x\": 6, \"y\": 16, \"val\": 0}, {\"x\": 7, \"y\": 16, \"val\": 0}, {\"x\": 8, \"y\": 16, \"val\": 0}, {\"x\": 9, \"y\": 16, \"val\": 0}, {\"x\": 10, \"y\": 16, \"val\": 0}, {\"x\": 11, \"y\": 16, \"val\": 0}, {\"x\": 12, \"y\": 16, \"val\": 0}, {\"x\": 13, \"y\": 16, \"val\": 0}, {\"x\": 14, \"y\": 16, \"val\": 178}, {\"x\": 15, \"y\": 16, \"val\": 254}, {\"x\": 16, \"y\": 16, \"val\": 240}, {\"x\": 17, \"y\": 16, \"val\": 0}, {\"x\": 18, \"y\": 16, \"val\": 0}, {\"x\": 19, \"y\": 16, \"val\": 0}, {\"x\": 20, \"y\": 16, \"val\": 0}, {\"x\": 21, \"y\": 16, \"val\": 0}, {\"x\": 22, \"y\": 16, \"val\": 0}, {\"x\": 23, \"y\": 16, \"val\": 0}, {\"x\": 24, \"y\": 16, \"val\": 0}, {\"x\": 25, \"y\": 16, \"val\": 0}, {\"x\": 26, \"y\": 16, \"val\": 0}, {\"x\": 27, \"y\": 16, \"val\": 0}, {\"x\": 28, \"y\": 16, \"val\": 0}, {\"x\": 1, \"y\": 17, \"val\": 0}, {\"x\": 2, \"y\": 17, \"val\": 0}, {\"x\": 3, \"y\": 17, \"val\": 0}, {\"x\": 4, \"y\": 17, \"val\": 0}, {\"x\": 5, \"y\": 17, \"val\": 0}, {\"x\": 6, \"y\": 17, \"val\": 0}, {\"x\": 7, \"y\": 17, \"val\": 0}, {\"x\": 8, \"y\": 17, \"val\": 0}, {\"x\": 9, \"y\": 17, \"val\": 0}, {\"x\": 10, \"y\": 17, \"val\": 0}, {\"x\": 11, \"y\": 17, \"val\": 0}, {\"x\": 12, \"y\": 17, \"val\": 0}, {\"x\": 13, \"y\": 17, \"val\": 0}, {\"x\": 14, \"y\": 17, \"val\": 113}, {\"x\": 15, \"y\": 17, \"val\": 254}, {\"x\": 16, \"y\": 17, \"val\": 240}, {\"x\": 17, \"y\": 17, \"val\": 0}, {\"x\": 18, \"y\": 17, \"val\": 0}, {\"x\": 19, \"y\": 17, \"val\": 0}, {\"x\": 20, \"y\": 17, \"val\": 0}, {\"x\": 21, \"y\": 17, \"val\": 0}, {\"x\": 22, \"y\": 17, \"val\": 0}, {\"x\": 23, \"y\": 17, \"val\": 0}, {\"x\": 24, \"y\": 17, \"val\": 0}, {\"x\": 25, \"y\": 17, \"val\": 0}, {\"x\": 26, \"y\": 17, \"val\": 0}, {\"x\": 27, \"y\": 17, \"val\": 0}, {\"x\": 28, \"y\": 17, \"val\": 0}, {\"x\": 1, \"y\": 18, \"val\": 0}, {\"x\": 2, \"y\": 18, \"val\": 0}, {\"x\": 3, \"y\": 18, \"val\": 0}, {\"x\": 4, \"y\": 18, \"val\": 0}, {\"x\": 5, \"y\": 18, \"val\": 0}, {\"x\": 6, \"y\": 18, \"val\": 0}, {\"x\": 7, \"y\": 18, \"val\": 0}, {\"x\": 8, \"y\": 18, \"val\": 0}, {\"x\": 9, \"y\": 18, \"val\": 0}, {\"x\": 10, \"y\": 18, \"val\": 0}, {\"x\": 11, \"y\": 18, \"val\": 0}, {\"x\": 12, \"y\": 18, \"val\": 0}, {\"x\": 13, \"y\": 18, \"val\": 0}, {\"x\": 14, \"y\": 18, \"val\": 83}, {\"x\": 15, \"y\": 18, \"val\": 254}, {\"x\": 16, \"y\": 18, \"val\": 245}, {\"x\": 17, \"y\": 18, \"val\": 31}, {\"x\": 18, \"y\": 18, \"val\": 0}, {\"x\": 19, \"y\": 18, \"val\": 0}, {\"x\": 20, \"y\": 18, \"val\": 0}, {\"x\": 21, \"y\": 18, \"val\": 0}, {\"x\": 22, \"y\": 18, \"val\": 0}, {\"x\": 23, \"y\": 18, \"val\": 0}, {\"x\": 24, \"y\": 18, \"val\": 0}, {\"x\": 25, \"y\": 18, \"val\": 0}, {\"x\": 26, \"y\": 18, \"val\": 0}, {\"x\": 27, \"y\": 18, \"val\": 0}, {\"x\": 28, \"y\": 18, \"val\": 0}, {\"x\": 1, \"y\": 19, \"val\": 0}, {\"x\": 2, \"y\": 19, \"val\": 0}, {\"x\": 3, \"y\": 19, \"val\": 0}, {\"x\": 4, \"y\": 19, \"val\": 0}, {\"x\": 5, \"y\": 19, \"val\": 0}, {\"x\": 6, \"y\": 19, \"val\": 0}, {\"x\": 7, \"y\": 19, \"val\": 0}, {\"x\": 8, \"y\": 19, \"val\": 0}, {\"x\": 9, \"y\": 19, \"val\": 0}, {\"x\": 10, \"y\": 19, \"val\": 0}, {\"x\": 11, \"y\": 19, \"val\": 0}, {\"x\": 12, \"y\": 19, \"val\": 0}, {\"x\": 13, \"y\": 19, \"val\": 0}, {\"x\": 14, \"y\": 19, \"val\": 79}, {\"x\": 15, \"y\": 19, \"val\": 254}, {\"x\": 16, \"y\": 19, \"val\": 246}, {\"x\": 17, \"y\": 19, \"val\": 38}, {\"x\": 18, \"y\": 19, \"val\": 0}, {\"x\": 19, \"y\": 19, \"val\": 0}, {\"x\": 20, \"y\": 19, \"val\": 0}, {\"x\": 21, \"y\": 19, \"val\": 0}, {\"x\": 22, \"y\": 19, \"val\": 0}, {\"x\": 23, \"y\": 19, \"val\": 0}, {\"x\": 24, \"y\": 19, \"val\": 0}, {\"x\": 25, \"y\": 19, \"val\": 0}, {\"x\": 26, \"y\": 19, \"val\": 0}, {\"x\": 27, \"y\": 19, \"val\": 0}, {\"x\": 28, \"y\": 19, \"val\": 0}, {\"x\": 1, \"y\": 20, \"val\": 0}, {\"x\": 2, \"y\": 20, \"val\": 0}, {\"x\": 3, \"y\": 20, \"val\": 0}, {\"x\": 4, \"y\": 20, \"val\": 0}, {\"x\": 5, \"y\": 20, \"val\": 0}, {\"x\": 6, \"y\": 20, \"val\": 0}, {\"x\": 7, \"y\": 20, \"val\": 0}, {\"x\": 8, \"y\": 20, \"val\": 0}, {\"x\": 9, \"y\": 20, \"val\": 0}, {\"x\": 10, \"y\": 20, \"val\": 0}, {\"x\": 11, \"y\": 20, \"val\": 0}, {\"x\": 12, \"y\": 20, \"val\": 0}, {\"x\": 13, \"y\": 20, \"val\": 0}, {\"x\": 14, \"y\": 20, \"val\": 0}, {\"x\": 15, \"y\": 20, \"val\": 214}, {\"x\": 16, \"y\": 20, \"val\": 254}, {\"x\": 17, \"y\": 20, \"val\": 150}, {\"x\": 18, \"y\": 20, \"val\": 0}, {\"x\": 19, \"y\": 20, \"val\": 0}, {\"x\": 20, \"y\": 20, \"val\": 0}, {\"x\": 21, \"y\": 20, \"val\": 0}, {\"x\": 22, \"y\": 20, \"val\": 0}, {\"x\": 23, \"y\": 20, \"val\": 0}, {\"x\": 24, \"y\": 20, \"val\": 0}, {\"x\": 25, \"y\": 20, \"val\": 0}, {\"x\": 26, \"y\": 20, \"val\": 0}, {\"x\": 27, \"y\": 20, \"val\": 0}, {\"x\": 28, \"y\": 20, \"val\": 0}, {\"x\": 1, \"y\": 21, \"val\": 0}, {\"x\": 2, \"y\": 21, \"val\": 0}, {\"x\": 3, \"y\": 21, \"val\": 0}, {\"x\": 4, \"y\": 21, \"val\": 0}, {\"x\": 5, \"y\": 21, \"val\": 0}, {\"x\": 6, \"y\": 21, \"val\": 0}, {\"x\": 7, \"y\": 21, \"val\": 0}, {\"x\": 8, \"y\": 21, \"val\": 0}, {\"x\": 9, \"y\": 21, \"val\": 0}, {\"x\": 10, \"y\": 21, \"val\": 0}, {\"x\": 11, \"y\": 21, \"val\": 0}, {\"x\": 12, \"y\": 21, \"val\": 0}, {\"x\": 13, \"y\": 21, \"val\": 0}, {\"x\": 14, \"y\": 21, \"val\": 0}, {\"x\": 15, \"y\": 21, \"val\": 144}, {\"x\": 16, \"y\": 21, \"val\": 241}, {\"x\": 17, \"y\": 21, \"val\": 8}, {\"x\": 18, \"y\": 21, \"val\": 0}, {\"x\": 19, \"y\": 21, \"val\": 0}, {\"x\": 20, \"y\": 21, \"val\": 0}, {\"x\": 21, \"y\": 21, \"val\": 0}, {\"x\": 22, \"y\": 21, \"val\": 0}, {\"x\": 23, \"y\": 21, \"val\": 0}, {\"x\": 24, \"y\": 21, \"val\": 0}, {\"x\": 25, \"y\": 21, \"val\": 0}, {\"x\": 26, \"y\": 21, \"val\": 0}, {\"x\": 27, \"y\": 21, \"val\": 0}, {\"x\": 28, \"y\": 21, \"val\": 0}, {\"x\": 1, \"y\": 22, \"val\": 0}, {\"x\": 2, \"y\": 22, \"val\": 0}, {\"x\": 3, \"y\": 22, \"val\": 0}, {\"x\": 4, \"y\": 22, \"val\": 0}, {\"x\": 5, \"y\": 22, \"val\": 0}, {\"x\": 6, \"y\": 22, \"val\": 0}, {\"x\": 7, \"y\": 22, \"val\": 0}, {\"x\": 8, \"y\": 22, \"val\": 0}, {\"x\": 9, \"y\": 22, \"val\": 0}, {\"x\": 10, \"y\": 22, \"val\": 0}, {\"x\": 11, \"y\": 22, \"val\": 0}, {\"x\": 12, \"y\": 22, \"val\": 0}, {\"x\": 13, \"y\": 22, \"val\": 0}, {\"x\": 14, \"y\": 22, \"val\": 0}, {\"x\": 15, \"y\": 22, \"val\": 144}, {\"x\": 16, \"y\": 22, \"val\": 240}, {\"x\": 17, \"y\": 22, \"val\": 2}, {\"x\": 18, \"y\": 22, \"val\": 0}, {\"x\": 19, \"y\": 22, \"val\": 0}, {\"x\": 20, \"y\": 22, \"val\": 0}, {\"x\": 21, \"y\": 22, \"val\": 0}, {\"x\": 22, \"y\": 22, \"val\": 0}, {\"x\": 23, \"y\": 22, \"val\": 0}, {\"x\": 24, \"y\": 22, \"val\": 0}, {\"x\": 25, \"y\": 22, \"val\": 0}, {\"x\": 26, \"y\": 22, \"val\": 0}, {\"x\": 27, \"y\": 22, \"val\": 0}, {\"x\": 28, \"y\": 22, \"val\": 0}, {\"x\": 1, \"y\": 23, \"val\": 0}, {\"x\": 2, \"y\": 23, \"val\": 0}, {\"x\": 3, \"y\": 23, \"val\": 0}, {\"x\": 4, \"y\": 23, \"val\": 0}, {\"x\": 5, \"y\": 23, \"val\": 0}, {\"x\": 6, \"y\": 23, \"val\": 0}, {\"x\": 7, \"y\": 23, \"val\": 0}, {\"x\": 8, \"y\": 23, \"val\": 0}, {\"x\": 9, \"y\": 23, \"val\": 0}, {\"x\": 10, \"y\": 23, \"val\": 0}, {\"x\": 11, \"y\": 23, \"val\": 0}, {\"x\": 12, \"y\": 23, \"val\": 0}, {\"x\": 13, \"y\": 23, \"val\": 0}, {\"x\": 14, \"y\": 23, \"val\": 0}, {\"x\": 15, \"y\": 23, \"val\": 144}, {\"x\": 16, \"y\": 23, \"val\": 254}, {\"x\": 17, \"y\": 23, \"val\": 82}, {\"x\": 18, \"y\": 23, \"val\": 0}, {\"x\": 19, \"y\": 23, \"val\": 0}, {\"x\": 20, \"y\": 23, \"val\": 0}, {\"x\": 21, \"y\": 23, \"val\": 0}, {\"x\": 22, \"y\": 23, \"val\": 0}, {\"x\": 23, \"y\": 23, \"val\": 0}, {\"x\": 24, \"y\": 23, \"val\": 0}, {\"x\": 25, \"y\": 23, \"val\": 0}, {\"x\": 26, \"y\": 23, \"val\": 0}, {\"x\": 27, \"y\": 23, \"val\": 0}, {\"x\": 28, \"y\": 23, \"val\": 0}, {\"x\": 1, \"y\": 24, \"val\": 0}, {\"x\": 2, \"y\": 24, \"val\": 0}, {\"x\": 3, \"y\": 24, \"val\": 0}, {\"x\": 4, \"y\": 24, \"val\": 0}, {\"x\": 5, \"y\": 24, \"val\": 0}, {\"x\": 6, \"y\": 24, \"val\": 0}, {\"x\": 7, \"y\": 24, \"val\": 0}, {\"x\": 8, \"y\": 24, \"val\": 0}, {\"x\": 9, \"y\": 24, \"val\": 0}, {\"x\": 10, \"y\": 24, \"val\": 0}, {\"x\": 11, \"y\": 24, \"val\": 0}, {\"x\": 12, \"y\": 24, \"val\": 0}, {\"x\": 13, \"y\": 24, \"val\": 0}, {\"x\": 14, \"y\": 24, \"val\": 0}, {\"x\": 15, \"y\": 24, \"val\": 230}, {\"x\": 16, \"y\": 24, \"val\": 247}, {\"x\": 17, \"y\": 24, \"val\": 40}, {\"x\": 18, \"y\": 24, \"val\": 0}, {\"x\": 19, \"y\": 24, \"val\": 0}, {\"x\": 20, \"y\": 24, \"val\": 0}, {\"x\": 21, \"y\": 24, \"val\": 0}, {\"x\": 22, \"y\": 24, \"val\": 0}, {\"x\": 23, \"y\": 24, \"val\": 0}, {\"x\": 24, \"y\": 24, \"val\": 0}, {\"x\": 25, \"y\": 24, \"val\": 0}, {\"x\": 26, \"y\": 24, \"val\": 0}, {\"x\": 27, \"y\": 24, \"val\": 0}, {\"x\": 28, \"y\": 24, \"val\": 0}, {\"x\": 1, \"y\": 25, \"val\": 0}, {\"x\": 2, \"y\": 25, \"val\": 0}, {\"x\": 3, \"y\": 25, \"val\": 0}, {\"x\": 4, \"y\": 25, \"val\": 0}, {\"x\": 5, \"y\": 25, \"val\": 0}, {\"x\": 6, \"y\": 25, \"val\": 0}, {\"x\": 7, \"y\": 25, \"val\": 0}, {\"x\": 8, \"y\": 25, \"val\": 0}, {\"x\": 9, \"y\": 25, \"val\": 0}, {\"x\": 10, \"y\": 25, \"val\": 0}, {\"x\": 11, \"y\": 25, \"val\": 0}, {\"x\": 12, \"y\": 25, \"val\": 0}, {\"x\": 13, \"y\": 25, \"val\": 0}, {\"x\": 14, \"y\": 25, \"val\": 0}, {\"x\": 15, \"y\": 25, \"val\": 168}, {\"x\": 16, \"y\": 25, \"val\": 209}, {\"x\": 17, \"y\": 25, \"val\": 31}, {\"x\": 18, \"y\": 25, \"val\": 0}, {\"x\": 19, \"y\": 25, \"val\": 0}, {\"x\": 20, \"y\": 25, \"val\": 0}, {\"x\": 21, \"y\": 25, \"val\": 0}, {\"x\": 22, \"y\": 25, \"val\": 0}, {\"x\": 23, \"y\": 25, \"val\": 0}, {\"x\": 24, \"y\": 25, \"val\": 0}, {\"x\": 25, \"y\": 25, \"val\": 0}, {\"x\": 26, \"y\": 25, \"val\": 0}, {\"x\": 27, \"y\": 25, \"val\": 0}, {\"x\": 28, \"y\": 25, \"val\": 0}, {\"x\": 1, \"y\": 26, \"val\": 0}, {\"x\": 2, \"y\": 26, \"val\": 0}, {\"x\": 3, \"y\": 26, \"val\": 0}, {\"x\": 4, \"y\": 26, \"val\": 0}, {\"x\": 5, \"y\": 26, \"val\": 0}, {\"x\": 6, \"y\": 26, \"val\": 0}, {\"x\": 7, \"y\": 26, \"val\": 0}, {\"x\": 8, \"y\": 26, \"val\": 0}, {\"x\": 9, \"y\": 26, \"val\": 0}, {\"x\": 10, \"y\": 26, \"val\": 0}, {\"x\": 11, \"y\": 26, \"val\": 0}, {\"x\": 12, \"y\": 26, \"val\": 0}, {\"x\": 13, \"y\": 26, \"val\": 0}, {\"x\": 14, \"y\": 26, \"val\": 0}, {\"x\": 15, \"y\": 26, \"val\": 0}, {\"x\": 16, \"y\": 26, \"val\": 0}, {\"x\": 17, \"y\": 26, \"val\": 0}, {\"x\": 18, \"y\": 26, \"val\": 0}, {\"x\": 19, \"y\": 26, \"val\": 0}, {\"x\": 20, \"y\": 26, \"val\": 0}, {\"x\": 21, \"y\": 26, \"val\": 0}, {\"x\": 22, \"y\": 26, \"val\": 0}, {\"x\": 23, \"y\": 26, \"val\": 0}, {\"x\": 24, \"y\": 26, \"val\": 0}, {\"x\": 25, \"y\": 26, \"val\": 0}, {\"x\": 26, \"y\": 26, \"val\": 0}, {\"x\": 27, \"y\": 26, \"val\": 0}, {\"x\": 28, \"y\": 26, \"val\": 0}, {\"x\": 1, \"y\": 27, \"val\": 0}, {\"x\": 2, \"y\": 27, \"val\": 0}, {\"x\": 3, \"y\": 27, \"val\": 0}, {\"x\": 4, \"y\": 27, \"val\": 0}, {\"x\": 5, \"y\": 27, \"val\": 0}, {\"x\": 6, \"y\": 27, \"val\": 0}, {\"x\": 7, \"y\": 27, \"val\": 0}, {\"x\": 8, \"y\": 27, \"val\": 0}, {\"x\": 9, \"y\": 27, \"val\": 0}, {\"x\": 10, \"y\": 27, \"val\": 0}, {\"x\": 11, \"y\": 27, \"val\": 0}, {\"x\": 12, \"y\": 27, \"val\": 0}, {\"x\": 13, \"y\": 27, \"val\": 0}, {\"x\": 14, \"y\": 27, \"val\": 0}, {\"x\": 15, \"y\": 27, \"val\": 0}, {\"x\": 16, \"y\": 27, \"val\": 0}, {\"x\": 17, \"y\": 27, \"val\": 0}, {\"x\": 18, \"y\": 27, \"val\": 0}, {\"x\": 19, \"y\": 27, \"val\": 0}, {\"x\": 20, \"y\": 27, \"val\": 0}, {\"x\": 21, \"y\": 27, \"val\": 0}, {\"x\": 22, \"y\": 27, \"val\": 0}, {\"x\": 23, \"y\": 27, \"val\": 0}, {\"x\": 24, \"y\": 27, \"val\": 0}, {\"x\": 25, \"y\": 27, \"val\": 0}, {\"x\": 26, \"y\": 27, \"val\": 0}, {\"x\": 27, \"y\": 27, \"val\": 0}, {\"x\": 28, \"y\": 27, \"val\": 0}, {\"x\": 1, \"y\": 28, \"val\": 0}, {\"x\": 2, \"y\": 28, \"val\": 0}, {\"x\": 3, \"y\": 28, \"val\": 0}, {\"x\": 4, \"y\": 28, \"val\": 0}, {\"x\": 5, \"y\": 28, \"val\": 0}, {\"x\": 6, \"y\": 28, \"val\": 0}, {\"x\": 7, \"y\": 28, \"val\": 0}, {\"x\": 8, \"y\": 28, \"val\": 0}, {\"x\": 9, \"y\": 28, \"val\": 0}, {\"x\": 10, \"y\": 28, \"val\": 0}, {\"x\": 11, \"y\": 28, \"val\": 0}, {\"x\": 12, \"y\": 28, \"val\": 0}, {\"x\": 13, \"y\": 28, \"val\": 0}, {\"x\": 14, \"y\": 28, \"val\": 0}, {\"x\": 15, \"y\": 28, \"val\": 0}, {\"x\": 16, \"y\": 28, \"val\": 0}, {\"x\": 17, \"y\": 28, \"val\": 0}, {\"x\": 18, \"y\": 28, \"val\": 0}, {\"x\": 19, \"y\": 28, \"val\": 0}, {\"x\": 20, \"y\": 28, \"val\": 0}, {\"x\": 21, \"y\": 28, \"val\": 0}, {\"x\": 22, \"y\": 28, \"val\": 0}, {\"x\": 23, \"y\": 28, \"val\": 0}, {\"x\": 24, \"y\": 28, \"val\": 0}, {\"x\": 25, \"y\": 28, \"val\": 0}, {\"x\": 26, \"y\": 28, \"val\": 0}, {\"x\": 27, \"y\": 28, \"val\": 0}, {\"x\": 28, \"y\": 28, \"val\": 0}], \"data-703b0b49e7ee7735639cf161730b661f\": [{\"x\": 1, \"y\": 1, \"val\": 0}, {\"x\": 2, \"y\": 1, \"val\": 0}, {\"x\": 3, \"y\": 1, \"val\": 0}, {\"x\": 4, \"y\": 1, \"val\": 0}, {\"x\": 5, \"y\": 1, \"val\": 0}, {\"x\": 6, \"y\": 1, \"val\": 0}, {\"x\": 7, \"y\": 1, \"val\": 0}, {\"x\": 8, \"y\": 1, \"val\": 0}, {\"x\": 9, \"y\": 1, \"val\": 0}, {\"x\": 10, \"y\": 1, \"val\": 0}, {\"x\": 11, \"y\": 1, \"val\": 0}, {\"x\": 12, \"y\": 1, \"val\": 0}, {\"x\": 13, \"y\": 1, \"val\": 0}, {\"x\": 14, \"y\": 1, \"val\": 0}, {\"x\": 15, \"y\": 1, \"val\": 0}, {\"x\": 16, \"y\": 1, \"val\": 0}, {\"x\": 17, \"y\": 1, \"val\": 0}, {\"x\": 18, \"y\": 1, \"val\": 0}, {\"x\": 19, \"y\": 1, \"val\": 0}, {\"x\": 20, \"y\": 1, \"val\": 0}, {\"x\": 21, \"y\": 1, \"val\": 0}, {\"x\": 22, \"y\": 1, \"val\": 0}, {\"x\": 23, \"y\": 1, \"val\": 0}, {\"x\": 24, \"y\": 1, \"val\": 0}, {\"x\": 25, \"y\": 1, \"val\": 0}, {\"x\": 26, \"y\": 1, \"val\": 0}, {\"x\": 27, \"y\": 1, \"val\": 0}, {\"x\": 28, \"y\": 1, \"val\": 0}, {\"x\": 1, \"y\": 2, \"val\": 0}, {\"x\": 2, \"y\": 2, \"val\": 0}, {\"x\": 3, \"y\": 2, \"val\": 0}, {\"x\": 4, \"y\": 2, \"val\": 0}, {\"x\": 5, \"y\": 2, \"val\": 0}, {\"x\": 6, \"y\": 2, \"val\": 0}, {\"x\": 7, \"y\": 2, \"val\": 0}, {\"x\": 8, \"y\": 2, \"val\": 0}, {\"x\": 9, \"y\": 2, \"val\": 0}, {\"x\": 10, \"y\": 2, \"val\": 0}, {\"x\": 11, \"y\": 2, \"val\": 0}, {\"x\": 12, \"y\": 2, \"val\": 0}, {\"x\": 13, \"y\": 2, \"val\": 0}, {\"x\": 14, \"y\": 2, \"val\": 0}, {\"x\": 15, \"y\": 2, \"val\": 0}, {\"x\": 16, \"y\": 2, \"val\": 0}, {\"x\": 17, \"y\": 2, \"val\": 0}, {\"x\": 18, \"y\": 2, \"val\": 0}, {\"x\": 19, \"y\": 2, \"val\": 0}, {\"x\": 20, \"y\": 2, \"val\": 0}, {\"x\": 21, \"y\": 2, \"val\": 0}, {\"x\": 22, \"y\": 2, \"val\": 0}, {\"x\": 23, \"y\": 2, \"val\": 0}, {\"x\": 24, \"y\": 2, \"val\": 0}, {\"x\": 25, \"y\": 2, \"val\": 0}, {\"x\": 26, \"y\": 2, \"val\": 0}, {\"x\": 27, \"y\": 2, \"val\": 0}, {\"x\": 28, \"y\": 2, \"val\": 0}, {\"x\": 1, \"y\": 3, \"val\": 0}, {\"x\": 2, \"y\": 3, \"val\": 0}, {\"x\": 3, \"y\": 3, \"val\": 0}, {\"x\": 4, \"y\": 3, \"val\": 0}, {\"x\": 5, \"y\": 3, \"val\": 0}, {\"x\": 6, \"y\": 3, \"val\": 0}, {\"x\": 7, \"y\": 3, \"val\": 0}, {\"x\": 8, \"y\": 3, \"val\": 0}, {\"x\": 9, \"y\": 3, \"val\": 0}, {\"x\": 10, \"y\": 3, \"val\": 0}, {\"x\": 11, \"y\": 3, \"val\": 0}, {\"x\": 12, \"y\": 3, \"val\": 0}, {\"x\": 13, \"y\": 3, \"val\": 0}, {\"x\": 14, \"y\": 3, \"val\": 0}, {\"x\": 15, \"y\": 3, \"val\": 0}, {\"x\": 16, \"y\": 3, \"val\": 0}, {\"x\": 17, \"y\": 3, \"val\": 0}, {\"x\": 18, \"y\": 3, \"val\": 0}, {\"x\": 19, \"y\": 3, \"val\": 0}, {\"x\": 20, \"y\": 3, \"val\": 0}, {\"x\": 21, \"y\": 3, \"val\": 0}, {\"x\": 22, \"y\": 3, \"val\": 0}, {\"x\": 23, \"y\": 3, \"val\": 0}, {\"x\": 24, \"y\": 3, \"val\": 0}, {\"x\": 25, \"y\": 3, \"val\": 0}, {\"x\": 26, \"y\": 3, \"val\": 0}, {\"x\": 27, \"y\": 3, \"val\": 0}, {\"x\": 28, \"y\": 3, \"val\": 0}, {\"x\": 1, \"y\": 4, \"val\": 0}, {\"x\": 2, \"y\": 4, \"val\": 0}, {\"x\": 3, \"y\": 4, \"val\": 0}, {\"x\": 4, \"y\": 4, \"val\": 0}, {\"x\": 5, \"y\": 4, \"val\": 0}, {\"x\": 6, \"y\": 4, \"val\": 0}, {\"x\": 7, \"y\": 4, \"val\": 0}, {\"x\": 8, \"y\": 4, \"val\": 0}, {\"x\": 9, \"y\": 4, \"val\": 0}, {\"x\": 10, \"y\": 4, \"val\": 0}, {\"x\": 11, \"y\": 4, \"val\": 0}, {\"x\": 12, \"y\": 4, \"val\": 0}, {\"x\": 13, \"y\": 4, \"val\": 0}, {\"x\": 14, \"y\": 4, \"val\": 0}, {\"x\": 15, \"y\": 4, \"val\": 0}, {\"x\": 16, \"y\": 4, \"val\": 0}, {\"x\": 17, \"y\": 4, \"val\": 34}, {\"x\": 18, \"y\": 4, \"val\": 169}, {\"x\": 19, \"y\": 4, \"val\": 250}, {\"x\": 20, \"y\": 4, \"val\": 40}, {\"x\": 21, \"y\": 4, \"val\": 0}, {\"x\": 22, \"y\": 4, \"val\": 0}, {\"x\": 23, \"y\": 4, \"val\": 0}, {\"x\": 24, \"y\": 4, \"val\": 0}, {\"x\": 25, \"y\": 4, \"val\": 0}, {\"x\": 26, \"y\": 4, \"val\": 0}, {\"x\": 27, \"y\": 4, \"val\": 0}, {\"x\": 28, \"y\": 4, \"val\": 0}, {\"x\": 1, \"y\": 5, \"val\": 0}, {\"x\": 2, \"y\": 5, \"val\": 0}, {\"x\": 3, \"y\": 5, \"val\": 0}, {\"x\": 4, \"y\": 5, \"val\": 0}, {\"x\": 5, \"y\": 5, \"val\": 0}, {\"x\": 6, \"y\": 5, \"val\": 0}, {\"x\": 7, \"y\": 5, \"val\": 0}, {\"x\": 8, \"y\": 5, \"val\": 0}, {\"x\": 9, \"y\": 5, \"val\": 0}, {\"x\": 10, \"y\": 5, \"val\": 0}, {\"x\": 11, \"y\": 5, \"val\": 0}, {\"x\": 12, \"y\": 5, \"val\": 0}, {\"x\": 13, \"y\": 5, \"val\": 0}, {\"x\": 14, \"y\": 5, \"val\": 0}, {\"x\": 15, \"y\": 5, \"val\": 0}, {\"x\": 16, \"y\": 5, \"val\": 58}, {\"x\": 17, \"y\": 5, \"val\": 242}, {\"x\": 18, \"y\": 5, \"val\": 221}, {\"x\": 19, \"y\": 5, \"val\": 143}, {\"x\": 20, \"y\": 5, \"val\": 17}, {\"x\": 21, \"y\": 5, \"val\": 0}, {\"x\": 22, \"y\": 5, \"val\": 0}, {\"x\": 23, \"y\": 5, \"val\": 0}, {\"x\": 24, \"y\": 5, \"val\": 0}, {\"x\": 25, \"y\": 5, \"val\": 0}, {\"x\": 26, \"y\": 5, \"val\": 0}, {\"x\": 27, \"y\": 5, \"val\": 0}, {\"x\": 28, \"y\": 5, \"val\": 0}, {\"x\": 1, \"y\": 6, \"val\": 0}, {\"x\": 2, \"y\": 6, \"val\": 0}, {\"x\": 3, \"y\": 6, \"val\": 0}, {\"x\": 4, \"y\": 6, \"val\": 0}, {\"x\": 5, \"y\": 6, \"val\": 0}, {\"x\": 6, \"y\": 6, \"val\": 0}, {\"x\": 7, \"y\": 6, \"val\": 0}, {\"x\": 8, \"y\": 6, \"val\": 0}, {\"x\": 9, \"y\": 6, \"val\": 0}, {\"x\": 10, \"y\": 6, \"val\": 0}, {\"x\": 11, \"y\": 6, \"val\": 0}, {\"x\": 12, \"y\": 6, \"val\": 0}, {\"x\": 13, \"y\": 6, \"val\": 0}, {\"x\": 14, \"y\": 6, \"val\": 0}, {\"x\": 15, \"y\": 6, \"val\": 75}, {\"x\": 16, \"y\": 6, \"val\": 247}, {\"x\": 17, \"y\": 6, \"val\": 143}, {\"x\": 18, \"y\": 6, \"val\": 10}, {\"x\": 19, \"y\": 6, \"val\": 0}, {\"x\": 20, \"y\": 6, \"val\": 0}, {\"x\": 21, \"y\": 6, \"val\": 0}, {\"x\": 22, \"y\": 6, \"val\": 0}, {\"x\": 23, \"y\": 6, \"val\": 0}, {\"x\": 24, \"y\": 6, \"val\": 0}, {\"x\": 25, \"y\": 6, \"val\": 0}, {\"x\": 26, \"y\": 6, \"val\": 0}, {\"x\": 27, \"y\": 6, \"val\": 0}, {\"x\": 28, \"y\": 6, \"val\": 0}, {\"x\": 1, \"y\": 7, \"val\": 0}, {\"x\": 2, \"y\": 7, \"val\": 0}, {\"x\": 3, \"y\": 7, \"val\": 0}, {\"x\": 4, \"y\": 7, \"val\": 0}, {\"x\": 5, \"y\": 7, \"val\": 0}, {\"x\": 6, \"y\": 7, \"val\": 0}, {\"x\": 7, \"y\": 7, \"val\": 0}, {\"x\": 8, \"y\": 7, \"val\": 0}, {\"x\": 9, \"y\": 7, \"val\": 0}, {\"x\": 10, \"y\": 7, \"val\": 0}, {\"x\": 11, \"y\": 7, \"val\": 0}, {\"x\": 12, \"y\": 7, \"val\": 0}, {\"x\": 13, \"y\": 7, \"val\": 0}, {\"x\": 14, \"y\": 7, \"val\": 37}, {\"x\": 15, \"y\": 7, \"val\": 245}, {\"x\": 16, \"y\": 7, \"val\": 184}, {\"x\": 17, \"y\": 7, \"val\": 2}, {\"x\": 18, \"y\": 7, \"val\": 0}, {\"x\": 19, \"y\": 7, \"val\": 0}, {\"x\": 20, \"y\": 7, \"val\": 0}, {\"x\": 21, \"y\": 7, \"val\": 0}, {\"x\": 22, \"y\": 7, \"val\": 0}, {\"x\": 23, \"y\": 7, \"val\": 0}, {\"x\": 24, \"y\": 7, \"val\": 0}, {\"x\": 25, \"y\": 7, \"val\": 0}, {\"x\": 26, \"y\": 7, \"val\": 0}, {\"x\": 27, \"y\": 7, \"val\": 0}, {\"x\": 28, \"y\": 7, \"val\": 0}, {\"x\": 1, \"y\": 8, \"val\": 0}, {\"x\": 2, \"y\": 8, \"val\": 0}, {\"x\": 3, \"y\": 8, \"val\": 0}, {\"x\": 4, \"y\": 8, \"val\": 0}, {\"x\": 5, \"y\": 8, \"val\": 0}, {\"x\": 6, \"y\": 8, \"val\": 0}, {\"x\": 7, \"y\": 8, \"val\": 0}, {\"x\": 8, \"y\": 8, \"val\": 0}, {\"x\": 9, \"y\": 8, \"val\": 0}, {\"x\": 10, \"y\": 8, \"val\": 0}, {\"x\": 11, \"y\": 8, \"val\": 0}, {\"x\": 12, \"y\": 8, \"val\": 0}, {\"x\": 13, \"y\": 8, \"val\": 8}, {\"x\": 14, \"y\": 8, \"val\": 192}, {\"x\": 15, \"y\": 8, \"val\": 200}, {\"x\": 16, \"y\": 8, \"val\": 14}, {\"x\": 17, \"y\": 8, \"val\": 0}, {\"x\": 18, \"y\": 8, \"val\": 0}, {\"x\": 19, \"y\": 8, \"val\": 0}, {\"x\": 20, \"y\": 8, \"val\": 0}, {\"x\": 21, \"y\": 8, \"val\": 0}, {\"x\": 22, \"y\": 8, \"val\": 0}, {\"x\": 23, \"y\": 8, \"val\": 0}, {\"x\": 24, \"y\": 8, \"val\": 0}, {\"x\": 25, \"y\": 8, \"val\": 0}, {\"x\": 26, \"y\": 8, \"val\": 0}, {\"x\": 27, \"y\": 8, \"val\": 0}, {\"x\": 28, \"y\": 8, \"val\": 0}, {\"x\": 1, \"y\": 9, \"val\": 0}, {\"x\": 2, \"y\": 9, \"val\": 0}, {\"x\": 3, \"y\": 9, \"val\": 0}, {\"x\": 4, \"y\": 9, \"val\": 0}, {\"x\": 5, \"y\": 9, \"val\": 0}, {\"x\": 6, \"y\": 9, \"val\": 0}, {\"x\": 7, \"y\": 9, \"val\": 0}, {\"x\": 8, \"y\": 9, \"val\": 0}, {\"x\": 9, \"y\": 9, \"val\": 0}, {\"x\": 10, \"y\": 9, \"val\": 0}, {\"x\": 11, \"y\": 9, \"val\": 0}, {\"x\": 12, \"y\": 9, \"val\": 0}, {\"x\": 13, \"y\": 9, \"val\": 139}, {\"x\": 14, \"y\": 9, \"val\": 247}, {\"x\": 15, \"y\": 9, \"val\": 28}, {\"x\": 16, \"y\": 9, \"val\": 0}, {\"x\": 17, \"y\": 9, \"val\": 0}, {\"x\": 18, \"y\": 9, \"val\": 0}, {\"x\": 19, \"y\": 9, \"val\": 0}, {\"x\": 20, \"y\": 9, \"val\": 0}, {\"x\": 21, \"y\": 9, \"val\": 0}, {\"x\": 22, \"y\": 9, \"val\": 0}, {\"x\": 23, \"y\": 9, \"val\": 0}, {\"x\": 24, \"y\": 9, \"val\": 0}, {\"x\": 25, \"y\": 9, \"val\": 0}, {\"x\": 26, \"y\": 9, \"val\": 0}, {\"x\": 27, \"y\": 9, \"val\": 0}, {\"x\": 28, \"y\": 9, \"val\": 0}, {\"x\": 1, \"y\": 10, \"val\": 0}, {\"x\": 2, \"y\": 10, \"val\": 0}, {\"x\": 3, \"y\": 10, \"val\": 0}, {\"x\": 4, \"y\": 10, \"val\": 0}, {\"x\": 5, \"y\": 10, \"val\": 0}, {\"x\": 6, \"y\": 10, \"val\": 0}, {\"x\": 7, \"y\": 10, \"val\": 0}, {\"x\": 8, \"y\": 10, \"val\": 0}, {\"x\": 9, \"y\": 10, \"val\": 0}, {\"x\": 10, \"y\": 10, \"val\": 0}, {\"x\": 11, \"y\": 10, \"val\": 0}, {\"x\": 12, \"y\": 10, \"val\": 7}, {\"x\": 13, \"y\": 10, \"val\": 231}, {\"x\": 14, \"y\": 10, \"val\": 183}, {\"x\": 15, \"y\": 10, \"val\": 0}, {\"x\": 16, \"y\": 10, \"val\": 0}, {\"x\": 17, \"y\": 10, \"val\": 0}, {\"x\": 18, \"y\": 10, \"val\": 0}, {\"x\": 19, \"y\": 10, \"val\": 0}, {\"x\": 20, \"y\": 10, \"val\": 0}, {\"x\": 21, \"y\": 10, \"val\": 0}, {\"x\": 22, \"y\": 10, \"val\": 0}, {\"x\": 23, \"y\": 10, \"val\": 0}, {\"x\": 24, \"y\": 10, \"val\": 0}, {\"x\": 25, \"y\": 10, \"val\": 0}, {\"x\": 26, \"y\": 10, \"val\": 0}, {\"x\": 27, \"y\": 10, \"val\": 0}, {\"x\": 28, \"y\": 10, \"val\": 0}, {\"x\": 1, \"y\": 11, \"val\": 0}, {\"x\": 2, \"y\": 11, \"val\": 0}, {\"x\": 3, \"y\": 11, \"val\": 0}, {\"x\": 4, \"y\": 11, \"val\": 0}, {\"x\": 5, \"y\": 11, \"val\": 0}, {\"x\": 6, \"y\": 11, \"val\": 0}, {\"x\": 7, \"y\": 11, \"val\": 0}, {\"x\": 8, \"y\": 11, \"val\": 0}, {\"x\": 9, \"y\": 11, \"val\": 0}, {\"x\": 10, \"y\": 11, \"val\": 0}, {\"x\": 11, \"y\": 11, \"val\": 0}, {\"x\": 12, \"y\": 11, \"val\": 125}, {\"x\": 13, \"y\": 11, \"val\": 243}, {\"x\": 14, \"y\": 11, \"val\": 50}, {\"x\": 15, \"y\": 11, \"val\": 0}, {\"x\": 16, \"y\": 11, \"val\": 0}, {\"x\": 17, \"y\": 11, \"val\": 0}, {\"x\": 18, \"y\": 11, \"val\": 0}, {\"x\": 19, \"y\": 11, \"val\": 0}, {\"x\": 20, \"y\": 11, \"val\": 0}, {\"x\": 21, \"y\": 11, \"val\": 0}, {\"x\": 22, \"y\": 11, \"val\": 0}, {\"x\": 23, \"y\": 11, \"val\": 0}, {\"x\": 24, \"y\": 11, \"val\": 0}, {\"x\": 25, \"y\": 11, \"val\": 0}, {\"x\": 26, \"y\": 11, \"val\": 0}, {\"x\": 27, \"y\": 11, \"val\": 0}, {\"x\": 28, \"y\": 11, \"val\": 0}, {\"x\": 1, \"y\": 12, \"val\": 0}, {\"x\": 2, \"y\": 12, \"val\": 0}, {\"x\": 3, \"y\": 12, \"val\": 0}, {\"x\": 4, \"y\": 12, \"val\": 0}, {\"x\": 5, \"y\": 12, \"val\": 0}, {\"x\": 6, \"y\": 12, \"val\": 0}, {\"x\": 7, \"y\": 12, \"val\": 0}, {\"x\": 8, \"y\": 12, \"val\": 0}, {\"x\": 9, \"y\": 12, \"val\": 0}, {\"x\": 10, \"y\": 12, \"val\": 0}, {\"x\": 11, \"y\": 12, \"val\": 0}, {\"x\": 12, \"y\": 12, \"val\": 195}, {\"x\": 13, \"y\": 12, \"val\": 184}, {\"x\": 14, \"y\": 12, \"val\": 0}, {\"x\": 15, \"y\": 12, \"val\": 0}, {\"x\": 16, \"y\": 12, \"val\": 0}, {\"x\": 17, \"y\": 12, \"val\": 0}, {\"x\": 18, \"y\": 12, \"val\": 0}, {\"x\": 19, \"y\": 12, \"val\": 0}, {\"x\": 20, \"y\": 12, \"val\": 0}, {\"x\": 21, \"y\": 12, \"val\": 0}, {\"x\": 22, \"y\": 12, \"val\": 0}, {\"x\": 23, \"y\": 12, \"val\": 0}, {\"x\": 24, \"y\": 12, \"val\": 0}, {\"x\": 25, \"y\": 12, \"val\": 0}, {\"x\": 26, \"y\": 12, \"val\": 0}, {\"x\": 27, \"y\": 12, \"val\": 0}, {\"x\": 28, \"y\": 12, \"val\": 0}, {\"x\": 1, \"y\": 13, \"val\": 0}, {\"x\": 2, \"y\": 13, \"val\": 0}, {\"x\": 3, \"y\": 13, \"val\": 0}, {\"x\": 4, \"y\": 13, \"val\": 0}, {\"x\": 5, \"y\": 13, \"val\": 0}, {\"x\": 6, \"y\": 13, \"val\": 0}, {\"x\": 7, \"y\": 13, \"val\": 0}, {\"x\": 8, \"y\": 13, \"val\": 0}, {\"x\": 9, \"y\": 13, \"val\": 0}, {\"x\": 10, \"y\": 13, \"val\": 0}, {\"x\": 11, \"y\": 13, \"val\": 61}, {\"x\": 12, \"y\": 13, \"val\": 251}, {\"x\": 13, \"y\": 13, \"val\": 41}, {\"x\": 14, \"y\": 13, \"val\": 0}, {\"x\": 15, \"y\": 13, \"val\": 0}, {\"x\": 16, \"y\": 13, \"val\": 0}, {\"x\": 17, \"y\": 13, \"val\": 64}, {\"x\": 18, \"y\": 13, \"val\": 43}, {\"x\": 19, \"y\": 13, \"val\": 0}, {\"x\": 20, \"y\": 13, \"val\": 0}, {\"x\": 21, \"y\": 13, \"val\": 0}, {\"x\": 22, \"y\": 13, \"val\": 0}, {\"x\": 23, \"y\": 13, \"val\": 0}, {\"x\": 24, \"y\": 13, \"val\": 0}, {\"x\": 25, \"y\": 13, \"val\": 0}, {\"x\": 26, \"y\": 13, \"val\": 0}, {\"x\": 27, \"y\": 13, \"val\": 0}, {\"x\": 28, \"y\": 13, \"val\": 0}, {\"x\": 1, \"y\": 14, \"val\": 0}, {\"x\": 2, \"y\": 14, \"val\": 0}, {\"x\": 3, \"y\": 14, \"val\": 0}, {\"x\": 4, \"y\": 14, \"val\": 0}, {\"x\": 5, \"y\": 14, \"val\": 0}, {\"x\": 6, \"y\": 14, \"val\": 0}, {\"x\": 7, \"y\": 14, \"val\": 0}, {\"x\": 8, \"y\": 14, \"val\": 0}, {\"x\": 9, \"y\": 14, \"val\": 0}, {\"x\": 10, \"y\": 14, \"val\": 0}, {\"x\": 11, \"y\": 14, \"val\": 152}, {\"x\": 12, \"y\": 14, \"val\": 210}, {\"x\": 13, \"y\": 14, \"val\": 7}, {\"x\": 14, \"y\": 14, \"val\": 0}, {\"x\": 15, \"y\": 14, \"val\": 96}, {\"x\": 16, \"y\": 14, \"val\": 237}, {\"x\": 17, \"y\": 14, \"val\": 254}, {\"x\": 18, \"y\": 14, \"val\": 247}, {\"x\": 19, \"y\": 14, \"val\": 107}, {\"x\": 20, \"y\": 14, \"val\": 0}, {\"x\": 21, \"y\": 14, \"val\": 0}, {\"x\": 22, \"y\": 14, \"val\": 0}, {\"x\": 23, \"y\": 14, \"val\": 0}, {\"x\": 24, \"y\": 14, \"val\": 0}, {\"x\": 25, \"y\": 14, \"val\": 0}, {\"x\": 26, \"y\": 14, \"val\": 0}, {\"x\": 27, \"y\": 14, \"val\": 0}, {\"x\": 28, \"y\": 14, \"val\": 0}, {\"x\": 1, \"y\": 15, \"val\": 0}, {\"x\": 2, \"y\": 15, \"val\": 0}, {\"x\": 3, \"y\": 15, \"val\": 0}, {\"x\": 4, \"y\": 15, \"val\": 0}, {\"x\": 5, \"y\": 15, \"val\": 0}, {\"x\": 6, \"y\": 15, \"val\": 0}, {\"x\": 7, \"y\": 15, \"val\": 0}, {\"x\": 8, \"y\": 15, \"val\": 0}, {\"x\": 9, \"y\": 15, \"val\": 0}, {\"x\": 10, \"y\": 15, \"val\": 0}, {\"x\": 11, \"y\": 15, \"val\": 250}, {\"x\": 12, \"y\": 15, \"val\": 84}, {\"x\": 13, \"y\": 15, \"val\": 0}, {\"x\": 14, \"y\": 15, \"val\": 6}, {\"x\": 15, \"y\": 15, \"val\": 223}, {\"x\": 16, \"y\": 15, \"val\": 84}, {\"x\": 17, \"y\": 15, \"val\": 13}, {\"x\": 18, \"y\": 15, \"val\": 87}, {\"x\": 19, \"y\": 15, \"val\": 246}, {\"x\": 20, \"y\": 15, \"val\": 72}, {\"x\": 21, \"y\": 15, \"val\": 0}, {\"x\": 22, \"y\": 15, \"val\": 0}, {\"x\": 23, \"y\": 15, \"val\": 0}, {\"x\": 24, \"y\": 15, \"val\": 0}, {\"x\": 25, \"y\": 15, \"val\": 0}, {\"x\": 26, \"y\": 15, \"val\": 0}, {\"x\": 27, \"y\": 15, \"val\": 0}, {\"x\": 28, \"y\": 15, \"val\": 0}, {\"x\": 1, \"y\": 16, \"val\": 0}, {\"x\": 2, \"y\": 16, \"val\": 0}, {\"x\": 3, \"y\": 16, \"val\": 0}, {\"x\": 4, \"y\": 16, \"val\": 0}, {\"x\": 5, \"y\": 16, \"val\": 0}, {\"x\": 6, \"y\": 16, \"val\": 0}, {\"x\": 7, \"y\": 16, \"val\": 0}, {\"x\": 8, \"y\": 16, \"val\": 0}, {\"x\": 9, \"y\": 16, \"val\": 0}, {\"x\": 10, \"y\": 16, \"val\": 43}, {\"x\": 11, \"y\": 16, \"val\": 254}, {\"x\": 12, \"y\": 16, \"val\": 80}, {\"x\": 13, \"y\": 16, \"val\": 0}, {\"x\": 14, \"y\": 16, \"val\": 56}, {\"x\": 15, \"y\": 16, \"val\": 151}, {\"x\": 16, \"y\": 16, \"val\": 0}, {\"x\": 17, \"y\": 16, \"val\": 0}, {\"x\": 18, \"y\": 16, \"val\": 0}, {\"x\": 19, \"y\": 16, \"val\": 147}, {\"x\": 20, \"y\": 16, \"val\": 193}, {\"x\": 21, \"y\": 16, \"val\": 0}, {\"x\": 22, \"y\": 16, \"val\": 0}, {\"x\": 23, \"y\": 16, \"val\": 0}, {\"x\": 24, \"y\": 16, \"val\": 0}, {\"x\": 25, \"y\": 16, \"val\": 0}, {\"x\": 26, \"y\": 16, \"val\": 0}, {\"x\": 27, \"y\": 16, \"val\": 0}, {\"x\": 28, \"y\": 16, \"val\": 0}, {\"x\": 1, \"y\": 17, \"val\": 0}, {\"x\": 2, \"y\": 17, \"val\": 0}, {\"x\": 3, \"y\": 17, \"val\": 0}, {\"x\": 4, \"y\": 17, \"val\": 0}, {\"x\": 5, \"y\": 17, \"val\": 0}, {\"x\": 6, \"y\": 17, \"val\": 0}, {\"x\": 7, \"y\": 17, \"val\": 0}, {\"x\": 8, \"y\": 17, \"val\": 0}, {\"x\": 9, \"y\": 17, \"val\": 0}, {\"x\": 10, \"y\": 17, \"val\": 67}, {\"x\": 11, \"y\": 17, \"val\": 254}, {\"x\": 12, \"y\": 17, \"val\": 41}, {\"x\": 13, \"y\": 17, \"val\": 0}, {\"x\": 14, \"y\": 17, \"val\": 13}, {\"x\": 15, \"y\": 17, \"val\": 19}, {\"x\": 16, \"y\": 17, \"val\": 0}, {\"x\": 17, \"y\": 17, \"val\": 0}, {\"x\": 18, \"y\": 17, \"val\": 0}, {\"x\": 19, \"y\": 17, \"val\": 42}, {\"x\": 20, \"y\": 17, \"val\": 253}, {\"x\": 21, \"y\": 17, \"val\": 0}, {\"x\": 22, \"y\": 17, \"val\": 0}, {\"x\": 23, \"y\": 17, \"val\": 0}, {\"x\": 24, \"y\": 17, \"val\": 0}, {\"x\": 25, \"y\": 17, \"val\": 0}, {\"x\": 26, \"y\": 17, \"val\": 0}, {\"x\": 27, \"y\": 17, \"val\": 0}, {\"x\": 28, \"y\": 17, \"val\": 0}, {\"x\": 1, \"y\": 18, \"val\": 0}, {\"x\": 2, \"y\": 18, \"val\": 0}, {\"x\": 3, \"y\": 18, \"val\": 0}, {\"x\": 4, \"y\": 18, \"val\": 0}, {\"x\": 5, \"y\": 18, \"val\": 0}, {\"x\": 6, \"y\": 18, \"val\": 0}, {\"x\": 7, \"y\": 18, \"val\": 0}, {\"x\": 8, \"y\": 18, \"val\": 0}, {\"x\": 9, \"y\": 18, \"val\": 0}, {\"x\": 10, \"y\": 18, \"val\": 67}, {\"x\": 11, \"y\": 18, \"val\": 254}, {\"x\": 12, \"y\": 18, \"val\": 13}, {\"x\": 13, \"y\": 18, \"val\": 0}, {\"x\": 14, \"y\": 18, \"val\": 0}, {\"x\": 15, \"y\": 18, \"val\": 0}, {\"x\": 16, \"y\": 18, \"val\": 0}, {\"x\": 17, \"y\": 18, \"val\": 0}, {\"x\": 18, \"y\": 18, \"val\": 0}, {\"x\": 19, \"y\": 18, \"val\": 14}, {\"x\": 20, \"y\": 18, \"val\": 253}, {\"x\": 21, \"y\": 18, \"val\": 0}, {\"x\": 22, \"y\": 18, \"val\": 0}, {\"x\": 23, \"y\": 18, \"val\": 0}, {\"x\": 24, \"y\": 18, \"val\": 0}, {\"x\": 25, \"y\": 18, \"val\": 0}, {\"x\": 26, \"y\": 18, \"val\": 0}, {\"x\": 27, \"y\": 18, \"val\": 0}, {\"x\": 28, \"y\": 18, \"val\": 0}, {\"x\": 1, \"y\": 19, \"val\": 0}, {\"x\": 2, \"y\": 19, \"val\": 0}, {\"x\": 3, \"y\": 19, \"val\": 0}, {\"x\": 4, \"y\": 19, \"val\": 0}, {\"x\": 5, \"y\": 19, \"val\": 0}, {\"x\": 6, \"y\": 19, \"val\": 0}, {\"x\": 7, \"y\": 19, \"val\": 0}, {\"x\": 8, \"y\": 19, \"val\": 0}, {\"x\": 9, \"y\": 19, \"val\": 0}, {\"x\": 10, \"y\": 19, \"val\": 68}, {\"x\": 11, \"y\": 19, \"val\": 255}, {\"x\": 12, \"y\": 19, \"val\": 13}, {\"x\": 13, \"y\": 19, \"val\": 0}, {\"x\": 14, \"y\": 19, \"val\": 0}, {\"x\": 15, \"y\": 19, \"val\": 0}, {\"x\": 16, \"y\": 19, \"val\": 0}, {\"x\": 17, \"y\": 19, \"val\": 0}, {\"x\": 18, \"y\": 19, \"val\": 0}, {\"x\": 19, \"y\": 19, \"val\": 77}, {\"x\": 20, \"y\": 19, \"val\": 240}, {\"x\": 21, \"y\": 19, \"val\": 0}, {\"x\": 22, \"y\": 19, \"val\": 0}, {\"x\": 23, \"y\": 19, \"val\": 0}, {\"x\": 24, \"y\": 19, \"val\": 0}, {\"x\": 25, \"y\": 19, \"val\": 0}, {\"x\": 26, \"y\": 19, \"val\": 0}, {\"x\": 27, \"y\": 19, \"val\": 0}, {\"x\": 28, \"y\": 19, \"val\": 0}, {\"x\": 1, \"y\": 20, \"val\": 0}, {\"x\": 2, \"y\": 20, \"val\": 0}, {\"x\": 3, \"y\": 20, \"val\": 0}, {\"x\": 4, \"y\": 20, \"val\": 0}, {\"x\": 5, \"y\": 20, \"val\": 0}, {\"x\": 6, \"y\": 20, \"val\": 0}, {\"x\": 7, \"y\": 20, \"val\": 0}, {\"x\": 8, \"y\": 20, \"val\": 0}, {\"x\": 9, \"y\": 20, \"val\": 0}, {\"x\": 10, \"y\": 20, \"val\": 67}, {\"x\": 11, \"y\": 20, \"val\": 254}, {\"x\": 12, \"y\": 20, \"val\": 13}, {\"x\": 13, \"y\": 20, \"val\": 0}, {\"x\": 14, \"y\": 20, \"val\": 0}, {\"x\": 15, \"y\": 20, \"val\": 0}, {\"x\": 16, \"y\": 20, \"val\": 0}, {\"x\": 17, \"y\": 20, \"val\": 0}, {\"x\": 18, \"y\": 20, \"val\": 5}, {\"x\": 19, \"y\": 20, \"val\": 181}, {\"x\": 20, \"y\": 20, \"val\": 147}, {\"x\": 21, \"y\": 20, \"val\": 0}, {\"x\": 22, \"y\": 20, \"val\": 0}, {\"x\": 23, \"y\": 20, \"val\": 0}, {\"x\": 24, \"y\": 20, \"val\": 0}, {\"x\": 25, \"y\": 20, \"val\": 0}, {\"x\": 26, \"y\": 20, \"val\": 0}, {\"x\": 27, \"y\": 20, \"val\": 0}, {\"x\": 28, \"y\": 20, \"val\": 0}, {\"x\": 1, \"y\": 21, \"val\": 0}, {\"x\": 2, \"y\": 21, \"val\": 0}, {\"x\": 3, \"y\": 21, \"val\": 0}, {\"x\": 4, \"y\": 21, \"val\": 0}, {\"x\": 5, \"y\": 21, \"val\": 0}, {\"x\": 6, \"y\": 21, \"val\": 0}, {\"x\": 7, \"y\": 21, \"val\": 0}, {\"x\": 8, \"y\": 21, \"val\": 0}, {\"x\": 9, \"y\": 21, \"val\": 0}, {\"x\": 10, \"y\": 21, \"val\": 25}, {\"x\": 11, \"y\": 21, \"val\": 229}, {\"x\": 12, \"y\": 21, \"val\": 105}, {\"x\": 13, \"y\": 21, \"val\": 0}, {\"x\": 14, \"y\": 21, \"val\": 0}, {\"x\": 15, \"y\": 21, \"val\": 0}, {\"x\": 16, \"y\": 21, \"val\": 0}, {\"x\": 17, \"y\": 21, \"val\": 5}, {\"x\": 18, \"y\": 21, \"val\": 156}, {\"x\": 19, \"y\": 21, \"val\": 213}, {\"x\": 20, \"y\": 21, \"val\": 20}, {\"x\": 21, \"y\": 21, \"val\": 0}, {\"x\": 22, \"y\": 21, \"val\": 0}, {\"x\": 23, \"y\": 21, \"val\": 0}, {\"x\": 24, \"y\": 21, \"val\": 0}, {\"x\": 25, \"y\": 21, \"val\": 0}, {\"x\": 26, \"y\": 21, \"val\": 0}, {\"x\": 27, \"y\": 21, \"val\": 0}, {\"x\": 28, \"y\": 21, \"val\": 0}, {\"x\": 1, \"y\": 22, \"val\": 0}, {\"x\": 2, \"y\": 22, \"val\": 0}, {\"x\": 3, \"y\": 22, \"val\": 0}, {\"x\": 4, \"y\": 22, \"val\": 0}, {\"x\": 5, \"y\": 22, \"val\": 0}, {\"x\": 6, \"y\": 22, \"val\": 0}, {\"x\": 7, \"y\": 22, \"val\": 0}, {\"x\": 8, \"y\": 22, \"val\": 0}, {\"x\": 9, \"y\": 22, \"val\": 0}, {\"x\": 10, \"y\": 22, \"val\": 0}, {\"x\": 11, \"y\": 22, \"val\": 107}, {\"x\": 12, \"y\": 22, \"val\": 246}, {\"x\": 13, \"y\": 22, \"val\": 105}, {\"x\": 14, \"y\": 22, \"val\": 14}, {\"x\": 15, \"y\": 22, \"val\": 49}, {\"x\": 16, \"y\": 22, \"val\": 95}, {\"x\": 17, \"y\": 22, \"val\": 217}, {\"x\": 18, \"y\": 22, \"val\": 209}, {\"x\": 19, \"y\": 22, \"val\": 27}, {\"x\": 20, \"y\": 22, \"val\": 0}, {\"x\": 21, \"y\": 22, \"val\": 0}, {\"x\": 22, \"y\": 22, \"val\": 0}, {\"x\": 23, \"y\": 22, \"val\": 0}, {\"x\": 24, \"y\": 22, \"val\": 0}, {\"x\": 25, \"y\": 22, \"val\": 0}, {\"x\": 26, \"y\": 22, \"val\": 0}, {\"x\": 27, \"y\": 22, \"val\": 0}, {\"x\": 28, \"y\": 22, \"val\": 0}, {\"x\": 1, \"y\": 23, \"val\": 0}, {\"x\": 2, \"y\": 23, \"val\": 0}, {\"x\": 3, \"y\": 23, \"val\": 0}, {\"x\": 4, \"y\": 23, \"val\": 0}, {\"x\": 5, \"y\": 23, \"val\": 0}, {\"x\": 6, \"y\": 23, \"val\": 0}, {\"x\": 7, \"y\": 23, \"val\": 0}, {\"x\": 8, \"y\": 23, \"val\": 0}, {\"x\": 9, \"y\": 23, \"val\": 0}, {\"x\": 10, \"y\": 23, \"val\": 0}, {\"x\": 11, \"y\": 23, \"val\": 0}, {\"x\": 12, \"y\": 23, \"val\": 107}, {\"x\": 13, \"y\": 23, \"val\": 246}, {\"x\": 14, \"y\": 23, \"val\": 253}, {\"x\": 15, \"y\": 23, \"val\": 253}, {\"x\": 16, \"y\": 23, \"val\": 240}, {\"x\": 17, \"y\": 23, \"val\": 130}, {\"x\": 18, \"y\": 23, \"val\": 6}, {\"x\": 19, \"y\": 23, \"val\": 0}, {\"x\": 20, \"y\": 23, \"val\": 0}, {\"x\": 21, \"y\": 23, \"val\": 0}, {\"x\": 22, \"y\": 23, \"val\": 0}, {\"x\": 23, \"y\": 23, \"val\": 0}, {\"x\": 24, \"y\": 23, \"val\": 0}, {\"x\": 25, \"y\": 23, \"val\": 0}, {\"x\": 26, \"y\": 23, \"val\": 0}, {\"x\": 27, \"y\": 23, \"val\": 0}, {\"x\": 28, \"y\": 23, \"val\": 0}, {\"x\": 1, \"y\": 24, \"val\": 0}, {\"x\": 2, \"y\": 24, \"val\": 0}, {\"x\": 3, \"y\": 24, \"val\": 0}, {\"x\": 4, \"y\": 24, \"val\": 0}, {\"x\": 5, \"y\": 24, \"val\": 0}, {\"x\": 6, \"y\": 24, \"val\": 0}, {\"x\": 7, \"y\": 24, \"val\": 0}, {\"x\": 8, \"y\": 24, \"val\": 0}, {\"x\": 9, \"y\": 24, \"val\": 0}, {\"x\": 10, \"y\": 24, \"val\": 0}, {\"x\": 11, \"y\": 24, \"val\": 0}, {\"x\": 12, \"y\": 24, \"val\": 0}, {\"x\": 13, \"y\": 24, \"val\": 0}, {\"x\": 14, \"y\": 24, \"val\": 0}, {\"x\": 15, \"y\": 24, \"val\": 0}, {\"x\": 16, \"y\": 24, \"val\": 0}, {\"x\": 17, \"y\": 24, \"val\": 0}, {\"x\": 18, \"y\": 24, \"val\": 0}, {\"x\": 19, \"y\": 24, \"val\": 0}, {\"x\": 20, \"y\": 24, \"val\": 0}, {\"x\": 21, \"y\": 24, \"val\": 0}, {\"x\": 22, \"y\": 24, \"val\": 0}, {\"x\": 23, \"y\": 24, \"val\": 0}, {\"x\": 24, \"y\": 24, \"val\": 0}, {\"x\": 25, \"y\": 24, \"val\": 0}, {\"x\": 26, \"y\": 24, \"val\": 0}, {\"x\": 27, \"y\": 24, \"val\": 0}, {\"x\": 28, \"y\": 24, \"val\": 0}, {\"x\": 1, \"y\": 25, \"val\": 0}, {\"x\": 2, \"y\": 25, \"val\": 0}, {\"x\": 3, \"y\": 25, \"val\": 0}, {\"x\": 4, \"y\": 25, \"val\": 0}, {\"x\": 5, \"y\": 25, \"val\": 0}, {\"x\": 6, \"y\": 25, \"val\": 0}, {\"x\": 7, \"y\": 25, \"val\": 0}, {\"x\": 8, \"y\": 25, \"val\": 0}, {\"x\": 9, \"y\": 25, \"val\": 0}, {\"x\": 10, \"y\": 25, \"val\": 0}, {\"x\": 11, \"y\": 25, \"val\": 0}, {\"x\": 12, \"y\": 25, \"val\": 0}, {\"x\": 13, \"y\": 25, \"val\": 0}, {\"x\": 14, \"y\": 25, \"val\": 0}, {\"x\": 15, \"y\": 25, \"val\": 0}, {\"x\": 16, \"y\": 25, \"val\": 0}, {\"x\": 17, \"y\": 25, \"val\": 0}, {\"x\": 18, \"y\": 25, \"val\": 0}, {\"x\": 19, \"y\": 25, \"val\": 0}, {\"x\": 20, \"y\": 25, \"val\": 0}, {\"x\": 21, \"y\": 25, \"val\": 0}, {\"x\": 22, \"y\": 25, \"val\": 0}, {\"x\": 23, \"y\": 25, \"val\": 0}, {\"x\": 24, \"y\": 25, \"val\": 0}, {\"x\": 25, \"y\": 25, \"val\": 0}, {\"x\": 26, \"y\": 25, \"val\": 0}, {\"x\": 27, \"y\": 25, \"val\": 0}, {\"x\": 28, \"y\": 25, \"val\": 0}, {\"x\": 1, \"y\": 26, \"val\": 0}, {\"x\": 2, \"y\": 26, \"val\": 0}, {\"x\": 3, \"y\": 26, \"val\": 0}, {\"x\": 4, \"y\": 26, \"val\": 0}, {\"x\": 5, \"y\": 26, \"val\": 0}, {\"x\": 6, \"y\": 26, \"val\": 0}, {\"x\": 7, \"y\": 26, \"val\": 0}, {\"x\": 8, \"y\": 26, \"val\": 0}, {\"x\": 9, \"y\": 26, \"val\": 0}, {\"x\": 10, \"y\": 26, \"val\": 0}, {\"x\": 11, \"y\": 26, \"val\": 0}, {\"x\": 12, \"y\": 26, \"val\": 0}, {\"x\": 13, \"y\": 26, \"val\": 0}, {\"x\": 14, \"y\": 26, \"val\": 0}, {\"x\": 15, \"y\": 26, \"val\": 0}, {\"x\": 16, \"y\": 26, \"val\": 0}, {\"x\": 17, \"y\": 26, \"val\": 0}, {\"x\": 18, \"y\": 26, \"val\": 0}, {\"x\": 19, \"y\": 26, \"val\": 0}, {\"x\": 20, \"y\": 26, \"val\": 0}, {\"x\": 21, \"y\": 26, \"val\": 0}, {\"x\": 22, \"y\": 26, \"val\": 0}, {\"x\": 23, \"y\": 26, \"val\": 0}, {\"x\": 24, \"y\": 26, \"val\": 0}, {\"x\": 25, \"y\": 26, \"val\": 0}, {\"x\": 26, \"y\": 26, \"val\": 0}, {\"x\": 27, \"y\": 26, \"val\": 0}, {\"x\": 28, \"y\": 26, \"val\": 0}, {\"x\": 1, \"y\": 27, \"val\": 0}, {\"x\": 2, \"y\": 27, \"val\": 0}, {\"x\": 3, \"y\": 27, \"val\": 0}, {\"x\": 4, \"y\": 27, \"val\": 0}, {\"x\": 5, \"y\": 27, \"val\": 0}, {\"x\": 6, \"y\": 27, \"val\": 0}, {\"x\": 7, \"y\": 27, \"val\": 0}, {\"x\": 8, \"y\": 27, \"val\": 0}, {\"x\": 9, \"y\": 27, \"val\": 0}, {\"x\": 10, \"y\": 27, \"val\": 0}, {\"x\": 11, \"y\": 27, \"val\": 0}, {\"x\": 12, \"y\": 27, \"val\": 0}, {\"x\": 13, \"y\": 27, \"val\": 0}, {\"x\": 14, \"y\": 27, \"val\": 0}, {\"x\": 15, \"y\": 27, \"val\": 0}, {\"x\": 16, \"y\": 27, \"val\": 0}, {\"x\": 17, \"y\": 27, \"val\": 0}, {\"x\": 18, \"y\": 27, \"val\": 0}, {\"x\": 19, \"y\": 27, \"val\": 0}, {\"x\": 20, \"y\": 27, \"val\": 0}, {\"x\": 21, \"y\": 27, \"val\": 0}, {\"x\": 22, \"y\": 27, \"val\": 0}, {\"x\": 23, \"y\": 27, \"val\": 0}, {\"x\": 24, \"y\": 27, \"val\": 0}, {\"x\": 25, \"y\": 27, \"val\": 0}, {\"x\": 26, \"y\": 27, \"val\": 0}, {\"x\": 27, \"y\": 27, \"val\": 0}, {\"x\": 28, \"y\": 27, \"val\": 0}, {\"x\": 1, \"y\": 28, \"val\": 0}, {\"x\": 2, \"y\": 28, \"val\": 0}, {\"x\": 3, \"y\": 28, \"val\": 0}, {\"x\": 4, \"y\": 28, \"val\": 0}, {\"x\": 5, \"y\": 28, \"val\": 0}, {\"x\": 6, \"y\": 28, \"val\": 0}, {\"x\": 7, \"y\": 28, \"val\": 0}, {\"x\": 8, \"y\": 28, \"val\": 0}, {\"x\": 9, \"y\": 28, \"val\": 0}, {\"x\": 10, \"y\": 28, \"val\": 0}, {\"x\": 11, \"y\": 28, \"val\": 0}, {\"x\": 12, \"y\": 28, \"val\": 0}, {\"x\": 13, \"y\": 28, \"val\": 0}, {\"x\": 14, \"y\": 28, \"val\": 0}, {\"x\": 15, \"y\": 28, \"val\": 0}, {\"x\": 16, \"y\": 28, \"val\": 0}, {\"x\": 17, \"y\": 28, \"val\": 0}, {\"x\": 18, \"y\": 28, \"val\": 0}, {\"x\": 19, \"y\": 28, \"val\": 0}, {\"x\": 20, \"y\": 28, \"val\": 0}, {\"x\": 21, \"y\": 28, \"val\": 0}, {\"x\": 22, \"y\": 28, \"val\": 0}, {\"x\": 23, \"y\": 28, \"val\": 0}, {\"x\": 24, \"y\": 28, \"val\": 0}, {\"x\": 25, \"y\": 28, \"val\": 0}, {\"x\": 26, \"y\": 28, \"val\": 0}, {\"x\": 27, \"y\": 28, \"val\": 0}, {\"x\": 28, \"y\": 28, \"val\": 0}], \"data-d767a9b513bd711487c3ac4cd98c9a89\": [{\"x\": 1, \"y\": 1, \"val\": 0}, {\"x\": 2, \"y\": 1, \"val\": 0}, {\"x\": 3, \"y\": 1, \"val\": 0}, {\"x\": 4, \"y\": 1, \"val\": 0}, {\"x\": 5, \"y\": 1, \"val\": 0}, {\"x\": 6, \"y\": 1, \"val\": 0}, {\"x\": 7, \"y\": 1, \"val\": 0}, {\"x\": 8, \"y\": 1, \"val\": 0}, {\"x\": 9, \"y\": 1, \"val\": 0}, {\"x\": 10, \"y\": 1, \"val\": 0}, {\"x\": 11, \"y\": 1, \"val\": 0}, {\"x\": 12, \"y\": 1, \"val\": 0}, {\"x\": 13, \"y\": 1, \"val\": 0}, {\"x\": 14, \"y\": 1, \"val\": 0}, {\"x\": 15, \"y\": 1, \"val\": 0}, {\"x\": 16, \"y\": 1, \"val\": 0}, {\"x\": 17, \"y\": 1, \"val\": 0}, {\"x\": 18, \"y\": 1, \"val\": 0}, {\"x\": 19, \"y\": 1, \"val\": 0}, {\"x\": 20, \"y\": 1, \"val\": 0}, {\"x\": 21, \"y\": 1, \"val\": 0}, {\"x\": 22, \"y\": 1, \"val\": 0}, {\"x\": 23, \"y\": 1, \"val\": 0}, {\"x\": 24, \"y\": 1, \"val\": 0}, {\"x\": 25, \"y\": 1, \"val\": 0}, {\"x\": 26, \"y\": 1, \"val\": 0}, {\"x\": 27, \"y\": 1, \"val\": 0}, {\"x\": 28, \"y\": 1, \"val\": 0}, {\"x\": 1, \"y\": 2, \"val\": 0}, {\"x\": 2, \"y\": 2, \"val\": 0}, {\"x\": 3, \"y\": 2, \"val\": 0}, {\"x\": 4, \"y\": 2, \"val\": 0}, {\"x\": 5, \"y\": 2, \"val\": 0}, {\"x\": 6, \"y\": 2, \"val\": 0}, {\"x\": 7, \"y\": 2, \"val\": 0}, {\"x\": 8, \"y\": 2, \"val\": 0}, {\"x\": 9, \"y\": 2, \"val\": 0}, {\"x\": 10, \"y\": 2, \"val\": 0}, {\"x\": 11, \"y\": 2, \"val\": 0}, {\"x\": 12, \"y\": 2, \"val\": 0}, {\"x\": 13, \"y\": 2, \"val\": 0}, {\"x\": 14, \"y\": 2, \"val\": 0}, {\"x\": 15, \"y\": 2, \"val\": 0}, {\"x\": 16, \"y\": 2, \"val\": 0}, {\"x\": 17, \"y\": 2, \"val\": 0}, {\"x\": 18, \"y\": 2, \"val\": 0}, {\"x\": 19, \"y\": 2, \"val\": 0}, {\"x\": 20, \"y\": 2, \"val\": 0}, {\"x\": 21, \"y\": 2, \"val\": 0}, {\"x\": 22, \"y\": 2, \"val\": 0}, {\"x\": 23, \"y\": 2, \"val\": 0}, {\"x\": 24, \"y\": 2, \"val\": 0}, {\"x\": 25, \"y\": 2, \"val\": 0}, {\"x\": 26, \"y\": 2, \"val\": 0}, {\"x\": 27, \"y\": 2, \"val\": 0}, {\"x\": 28, \"y\": 2, \"val\": 0}, {\"x\": 1, \"y\": 3, \"val\": 0}, {\"x\": 2, \"y\": 3, \"val\": 0}, {\"x\": 3, \"y\": 3, \"val\": 0}, {\"x\": 4, \"y\": 3, \"val\": 0}, {\"x\": 5, \"y\": 3, \"val\": 0}, {\"x\": 6, \"y\": 3, \"val\": 0}, {\"x\": 7, \"y\": 3, \"val\": 0}, {\"x\": 8, \"y\": 3, \"val\": 0}, {\"x\": 9, \"y\": 3, \"val\": 0}, {\"x\": 10, \"y\": 3, \"val\": 0}, {\"x\": 11, \"y\": 3, \"val\": 0}, {\"x\": 12, \"y\": 3, \"val\": 0}, {\"x\": 13, \"y\": 3, \"val\": 0}, {\"x\": 14, \"y\": 3, \"val\": 0}, {\"x\": 15, \"y\": 3, \"val\": 0}, {\"x\": 16, \"y\": 3, \"val\": 0}, {\"x\": 17, \"y\": 3, \"val\": 0}, {\"x\": 18, \"y\": 3, \"val\": 0}, {\"x\": 19, \"y\": 3, \"val\": 0}, {\"x\": 20, \"y\": 3, \"val\": 0}, {\"x\": 21, \"y\": 3, \"val\": 0}, {\"x\": 22, \"y\": 3, \"val\": 0}, {\"x\": 23, \"y\": 3, \"val\": 0}, {\"x\": 24, \"y\": 3, \"val\": 0}, {\"x\": 25, \"y\": 3, \"val\": 0}, {\"x\": 26, \"y\": 3, \"val\": 0}, {\"x\": 27, \"y\": 3, \"val\": 0}, {\"x\": 28, \"y\": 3, \"val\": 0}, {\"x\": 1, \"y\": 4, \"val\": 0}, {\"x\": 2, \"y\": 4, \"val\": 0}, {\"x\": 3, \"y\": 4, \"val\": 0}, {\"x\": 4, \"y\": 4, \"val\": 0}, {\"x\": 5, \"y\": 4, \"val\": 0}, {\"x\": 6, \"y\": 4, \"val\": 0}, {\"x\": 7, \"y\": 4, \"val\": 0}, {\"x\": 8, \"y\": 4, \"val\": 0}, {\"x\": 9, \"y\": 4, \"val\": 0}, {\"x\": 10, \"y\": 4, \"val\": 0}, {\"x\": 11, \"y\": 4, \"val\": 0}, {\"x\": 12, \"y\": 4, \"val\": 0}, {\"x\": 13, \"y\": 4, \"val\": 0}, {\"x\": 14, \"y\": 4, \"val\": 0}, {\"x\": 15, \"y\": 4, \"val\": 0}, {\"x\": 16, \"y\": 4, \"val\": 0}, {\"x\": 17, \"y\": 4, \"val\": 0}, {\"x\": 18, \"y\": 4, \"val\": 0}, {\"x\": 19, \"y\": 4, \"val\": 0}, {\"x\": 20, \"y\": 4, \"val\": 0}, {\"x\": 21, \"y\": 4, \"val\": 0}, {\"x\": 22, \"y\": 4, \"val\": 0}, {\"x\": 23, \"y\": 4, \"val\": 0}, {\"x\": 24, \"y\": 4, \"val\": 0}, {\"x\": 25, \"y\": 4, \"val\": 0}, {\"x\": 26, \"y\": 4, \"val\": 0}, {\"x\": 27, \"y\": 4, \"val\": 0}, {\"x\": 28, \"y\": 4, \"val\": 0}, {\"x\": 1, \"y\": 5, \"val\": 0}, {\"x\": 2, \"y\": 5, \"val\": 0}, {\"x\": 3, \"y\": 5, \"val\": 0}, {\"x\": 4, \"y\": 5, \"val\": 0}, {\"x\": 5, \"y\": 5, \"val\": 0}, {\"x\": 6, \"y\": 5, \"val\": 0}, {\"x\": 7, \"y\": 5, \"val\": 0}, {\"x\": 8, \"y\": 5, \"val\": 0}, {\"x\": 9, \"y\": 5, \"val\": 0}, {\"x\": 10, \"y\": 5, \"val\": 0}, {\"x\": 11, \"y\": 5, \"val\": 0}, {\"x\": 12, \"y\": 5, \"val\": 0}, {\"x\": 13, \"y\": 5, \"val\": 0}, {\"x\": 14, \"y\": 5, \"val\": 0}, {\"x\": 15, \"y\": 5, \"val\": 0}, {\"x\": 16, \"y\": 5, \"val\": 0}, {\"x\": 17, \"y\": 5, \"val\": 0}, {\"x\": 18, \"y\": 5, \"val\": 0}, {\"x\": 19, \"y\": 5, \"val\": 0}, {\"x\": 20, \"y\": 5, \"val\": 0}, {\"x\": 21, \"y\": 5, \"val\": 0}, {\"x\": 22, \"y\": 5, \"val\": 0}, {\"x\": 23, \"y\": 5, \"val\": 0}, {\"x\": 24, \"y\": 5, \"val\": 0}, {\"x\": 25, \"y\": 5, \"val\": 0}, {\"x\": 26, \"y\": 5, \"val\": 0}, {\"x\": 27, \"y\": 5, \"val\": 0}, {\"x\": 28, \"y\": 5, \"val\": 0}, {\"x\": 1, \"y\": 6, \"val\": 0}, {\"x\": 2, \"y\": 6, \"val\": 0}, {\"x\": 3, \"y\": 6, \"val\": 0}, {\"x\": 4, \"y\": 6, \"val\": 0}, {\"x\": 5, \"y\": 6, \"val\": 0}, {\"x\": 6, \"y\": 6, \"val\": 0}, {\"x\": 7, \"y\": 6, \"val\": 0}, {\"x\": 8, \"y\": 6, \"val\": 0}, {\"x\": 9, \"y\": 6, \"val\": 0}, {\"x\": 10, \"y\": 6, \"val\": 0}, {\"x\": 11, \"y\": 6, \"val\": 0}, {\"x\": 12, \"y\": 6, \"val\": 0}, {\"x\": 13, \"y\": 6, \"val\": 0}, {\"x\": 14, \"y\": 6, \"val\": 0}, {\"x\": 15, \"y\": 6, \"val\": 0}, {\"x\": 16, \"y\": 6, \"val\": 0}, {\"x\": 17, \"y\": 6, \"val\": 0}, {\"x\": 18, \"y\": 6, \"val\": 0}, {\"x\": 19, \"y\": 6, \"val\": 0}, {\"x\": 20, \"y\": 6, \"val\": 0}, {\"x\": 21, \"y\": 6, \"val\": 0}, {\"x\": 22, \"y\": 6, \"val\": 0}, {\"x\": 23, \"y\": 6, \"val\": 0}, {\"x\": 24, \"y\": 6, \"val\": 0}, {\"x\": 25, \"y\": 6, \"val\": 0}, {\"x\": 26, \"y\": 6, \"val\": 0}, {\"x\": 27, \"y\": 6, \"val\": 0}, {\"x\": 28, \"y\": 6, \"val\": 0}, {\"x\": 1, \"y\": 7, \"val\": 0}, {\"x\": 2, \"y\": 7, \"val\": 0}, {\"x\": 3, \"y\": 7, \"val\": 0}, {\"x\": 4, \"y\": 7, \"val\": 0}, {\"x\": 5, \"y\": 7, \"val\": 0}, {\"x\": 6, \"y\": 7, \"val\": 0}, {\"x\": 7, \"y\": 7, \"val\": 0}, {\"x\": 8, \"y\": 7, \"val\": 0}, {\"x\": 9, \"y\": 7, \"val\": 0}, {\"x\": 10, \"y\": 7, \"val\": 0}, {\"x\": 11, \"y\": 7, \"val\": 0}, {\"x\": 12, \"y\": 7, \"val\": 0}, {\"x\": 13, \"y\": 7, \"val\": 0}, {\"x\": 14, \"y\": 7, \"val\": 0}, {\"x\": 15, \"y\": 7, \"val\": 0}, {\"x\": 16, \"y\": 7, \"val\": 0}, {\"x\": 17, \"y\": 7, \"val\": 0}, {\"x\": 18, \"y\": 7, \"val\": 0}, {\"x\": 19, \"y\": 7, \"val\": 0}, {\"x\": 20, \"y\": 7, \"val\": 0}, {\"x\": 21, \"y\": 7, \"val\": 0}, {\"x\": 22, \"y\": 7, \"val\": 0}, {\"x\": 23, \"y\": 7, \"val\": 0}, {\"x\": 24, \"y\": 7, \"val\": 0}, {\"x\": 25, \"y\": 7, \"val\": 0}, {\"x\": 26, \"y\": 7, \"val\": 0}, {\"x\": 27, \"y\": 7, \"val\": 0}, {\"x\": 28, \"y\": 7, \"val\": 0}, {\"x\": 1, \"y\": 8, \"val\": 0}, {\"x\": 2, \"y\": 8, \"val\": 0}, {\"x\": 3, \"y\": 8, \"val\": 0}, {\"x\": 4, \"y\": 8, \"val\": 0}, {\"x\": 5, \"y\": 8, \"val\": 0}, {\"x\": 6, \"y\": 8, \"val\": 0}, {\"x\": 7, \"y\": 8, \"val\": 0}, {\"x\": 8, \"y\": 8, \"val\": 0}, {\"x\": 9, \"y\": 8, \"val\": 0}, {\"x\": 10, \"y\": 8, \"val\": 0}, {\"x\": 11, \"y\": 8, \"val\": 0}, {\"x\": 12, \"y\": 8, \"val\": 0}, {\"x\": 13, \"y\": 8, \"val\": 0}, {\"x\": 14, \"y\": 8, \"val\": 0}, {\"x\": 15, \"y\": 8, \"val\": 45}, {\"x\": 16, \"y\": 8, \"val\": 103}, {\"x\": 17, \"y\": 8, \"val\": 254}, {\"x\": 18, \"y\": 8, \"val\": 254}, {\"x\": 19, \"y\": 8, \"val\": 255}, {\"x\": 20, \"y\": 8, \"val\": 184}, {\"x\": 21, \"y\": 8, \"val\": 73}, {\"x\": 22, \"y\": 8, \"val\": 0}, {\"x\": 23, \"y\": 8, \"val\": 0}, {\"x\": 24, \"y\": 8, \"val\": 0}, {\"x\": 25, \"y\": 8, \"val\": 0}, {\"x\": 26, \"y\": 8, \"val\": 0}, {\"x\": 27, \"y\": 8, \"val\": 0}, {\"x\": 28, \"y\": 8, \"val\": 0}, {\"x\": 1, \"y\": 9, \"val\": 0}, {\"x\": 2, \"y\": 9, \"val\": 0}, {\"x\": 3, \"y\": 9, \"val\": 0}, {\"x\": 4, \"y\": 9, \"val\": 0}, {\"x\": 5, \"y\": 9, \"val\": 0}, {\"x\": 6, \"y\": 9, \"val\": 0}, {\"x\": 7, \"y\": 9, \"val\": 0}, {\"x\": 8, \"y\": 9, \"val\": 0}, {\"x\": 9, \"y\": 9, \"val\": 0}, {\"x\": 10, \"y\": 9, \"val\": 0}, {\"x\": 11, \"y\": 9, \"val\": 0}, {\"x\": 12, \"y\": 9, \"val\": 0}, {\"x\": 13, \"y\": 9, \"val\": 85}, {\"x\": 14, \"y\": 9, \"val\": 169}, {\"x\": 15, \"y\": 9, \"val\": 245}, {\"x\": 16, \"y\": 9, \"val\": 253}, {\"x\": 17, \"y\": 9, \"val\": 253}, {\"x\": 18, \"y\": 9, \"val\": 253}, {\"x\": 19, \"y\": 9, \"val\": 253}, {\"x\": 20, \"y\": 9, \"val\": 253}, {\"x\": 21, \"y\": 9, \"val\": 230}, {\"x\": 22, \"y\": 9, \"val\": 97}, {\"x\": 23, \"y\": 9, \"val\": 0}, {\"x\": 24, \"y\": 9, \"val\": 0}, {\"x\": 25, \"y\": 9, \"val\": 0}, {\"x\": 26, \"y\": 9, \"val\": 0}, {\"x\": 27, \"y\": 9, \"val\": 0}, {\"x\": 28, \"y\": 9, \"val\": 0}, {\"x\": 1, \"y\": 10, \"val\": 0}, {\"x\": 2, \"y\": 10, \"val\": 0}, {\"x\": 3, \"y\": 10, \"val\": 0}, {\"x\": 4, \"y\": 10, \"val\": 0}, {\"x\": 5, \"y\": 10, \"val\": 0}, {\"x\": 6, \"y\": 10, \"val\": 0}, {\"x\": 7, \"y\": 10, \"val\": 0}, {\"x\": 8, \"y\": 10, \"val\": 0}, {\"x\": 9, \"y\": 10, \"val\": 0}, {\"x\": 10, \"y\": 10, \"val\": 0}, {\"x\": 11, \"y\": 10, \"val\": 0}, {\"x\": 12, \"y\": 10, \"val\": 91}, {\"x\": 13, \"y\": 10, \"val\": 233}, {\"x\": 14, \"y\": 10, \"val\": 253}, {\"x\": 15, \"y\": 10, \"val\": 160}, {\"x\": 16, \"y\": 10, \"val\": 89}, {\"x\": 17, \"y\": 10, \"val\": 95}, {\"x\": 18, \"y\": 10, \"val\": 232}, {\"x\": 19, \"y\": 10, \"val\": 253}, {\"x\": 20, \"y\": 10, \"val\": 253}, {\"x\": 21, \"y\": 10, \"val\": 253}, {\"x\": 22, \"y\": 10, \"val\": 125}, {\"x\": 23, \"y\": 10, \"val\": 0}, {\"x\": 24, \"y\": 10, \"val\": 0}, {\"x\": 25, \"y\": 10, \"val\": 0}, {\"x\": 26, \"y\": 10, \"val\": 0}, {\"x\": 27, \"y\": 10, \"val\": 0}, {\"x\": 28, \"y\": 10, \"val\": 0}, {\"x\": 1, \"y\": 11, \"val\": 0}, {\"x\": 2, \"y\": 11, \"val\": 0}, {\"x\": 3, \"y\": 11, \"val\": 0}, {\"x\": 4, \"y\": 11, \"val\": 0}, {\"x\": 5, \"y\": 11, \"val\": 0}, {\"x\": 6, \"y\": 11, \"val\": 0}, {\"x\": 7, \"y\": 11, \"val\": 0}, {\"x\": 8, \"y\": 11, \"val\": 0}, {\"x\": 9, \"y\": 11, \"val\": 0}, {\"x\": 10, \"y\": 11, \"val\": 0}, {\"x\": 11, \"y\": 11, \"val\": 0}, {\"x\": 12, \"y\": 11, \"val\": 187}, {\"x\": 13, \"y\": 11, \"val\": 253}, {\"x\": 14, \"y\": 11, \"val\": 117}, {\"x\": 15, \"y\": 11, \"val\": 7}, {\"x\": 16, \"y\": 11, \"val\": 0}, {\"x\": 17, \"y\": 11, \"val\": 6}, {\"x\": 18, \"y\": 11, \"val\": 136}, {\"x\": 19, \"y\": 11, \"val\": 242}, {\"x\": 20, \"y\": 11, \"val\": 253}, {\"x\": 21, \"y\": 11, \"val\": 251}, {\"x\": 22, \"y\": 11, \"val\": 112}, {\"x\": 23, \"y\": 11, \"val\": 0}, {\"x\": 24, \"y\": 11, \"val\": 0}, {\"x\": 25, \"y\": 11, \"val\": 0}, {\"x\": 26, \"y\": 11, \"val\": 0}, {\"x\": 27, \"y\": 11, \"val\": 0}, {\"x\": 28, \"y\": 11, \"val\": 0}, {\"x\": 1, \"y\": 12, \"val\": 0}, {\"x\": 2, \"y\": 12, \"val\": 0}, {\"x\": 3, \"y\": 12, \"val\": 0}, {\"x\": 4, \"y\": 12, \"val\": 0}, {\"x\": 5, \"y\": 12, \"val\": 0}, {\"x\": 6, \"y\": 12, \"val\": 0}, {\"x\": 7, \"y\": 12, \"val\": 0}, {\"x\": 8, \"y\": 12, \"val\": 0}, {\"x\": 9, \"y\": 12, \"val\": 0}, {\"x\": 10, \"y\": 12, \"val\": 0}, {\"x\": 11, \"y\": 12, \"val\": 0}, {\"x\": 12, \"y\": 12, \"val\": 200}, {\"x\": 13, \"y\": 12, \"val\": 253}, {\"x\": 14, \"y\": 12, \"val\": 113}, {\"x\": 15, \"y\": 12, \"val\": 2}, {\"x\": 16, \"y\": 12, \"val\": 76}, {\"x\": 17, \"y\": 12, \"val\": 75}, {\"x\": 18, \"y\": 12, \"val\": 194}, {\"x\": 19, \"y\": 12, \"val\": 253}, {\"x\": 20, \"y\": 12, \"val\": 253}, {\"x\": 21, \"y\": 12, \"val\": 159}, {\"x\": 22, \"y\": 12, \"val\": 0}, {\"x\": 23, \"y\": 12, \"val\": 0}, {\"x\": 24, \"y\": 12, \"val\": 0}, {\"x\": 25, \"y\": 12, \"val\": 0}, {\"x\": 26, \"y\": 12, \"val\": 0}, {\"x\": 27, \"y\": 12, \"val\": 0}, {\"x\": 28, \"y\": 12, \"val\": 0}, {\"x\": 1, \"y\": 13, \"val\": 0}, {\"x\": 2, \"y\": 13, \"val\": 0}, {\"x\": 3, \"y\": 13, \"val\": 0}, {\"x\": 4, \"y\": 13, \"val\": 0}, {\"x\": 5, \"y\": 13, \"val\": 0}, {\"x\": 6, \"y\": 13, \"val\": 0}, {\"x\": 7, \"y\": 13, \"val\": 0}, {\"x\": 8, \"y\": 13, \"val\": 0}, {\"x\": 9, \"y\": 13, \"val\": 0}, {\"x\": 10, \"y\": 13, \"val\": 0}, {\"x\": 11, \"y\": 13, \"val\": 0}, {\"x\": 12, \"y\": 13, \"val\": 177}, {\"x\": 13, \"y\": 13, \"val\": 253}, {\"x\": 14, \"y\": 13, \"val\": 239}, {\"x\": 15, \"y\": 13, \"val\": 228}, {\"x\": 16, \"y\": 13, \"val\": 216}, {\"x\": 17, \"y\": 13, \"val\": 253}, {\"x\": 18, \"y\": 13, \"val\": 253}, {\"x\": 19, \"y\": 13, \"val\": 253}, {\"x\": 20, \"y\": 13, \"val\": 173}, {\"x\": 21, \"y\": 13, \"val\": 10}, {\"x\": 22, \"y\": 13, \"val\": 0}, {\"x\": 23, \"y\": 13, \"val\": 0}, {\"x\": 24, \"y\": 13, \"val\": 0}, {\"x\": 25, \"y\": 13, \"val\": 0}, {\"x\": 26, \"y\": 13, \"val\": 0}, {\"x\": 27, \"y\": 13, \"val\": 0}, {\"x\": 28, \"y\": 13, \"val\": 0}, {\"x\": 1, \"y\": 14, \"val\": 0}, {\"x\": 2, \"y\": 14, \"val\": 0}, {\"x\": 3, \"y\": 14, \"val\": 0}, {\"x\": 4, \"y\": 14, \"val\": 0}, {\"x\": 5, \"y\": 14, \"val\": 0}, {\"x\": 6, \"y\": 14, \"val\": 0}, {\"x\": 7, \"y\": 14, \"val\": 0}, {\"x\": 8, \"y\": 14, \"val\": 0}, {\"x\": 9, \"y\": 14, \"val\": 0}, {\"x\": 10, \"y\": 14, \"val\": 0}, {\"x\": 11, \"y\": 14, \"val\": 0}, {\"x\": 12, \"y\": 14, \"val\": 27}, {\"x\": 13, \"y\": 14, \"val\": 200}, {\"x\": 14, \"y\": 14, \"val\": 253}, {\"x\": 15, \"y\": 14, \"val\": 253}, {\"x\": 16, \"y\": 14, \"val\": 253}, {\"x\": 17, \"y\": 14, \"val\": 253}, {\"x\": 18, \"y\": 14, \"val\": 253}, {\"x\": 19, \"y\": 14, \"val\": 253}, {\"x\": 20, \"y\": 14, \"val\": 102}, {\"x\": 21, \"y\": 14, \"val\": 0}, {\"x\": 22, \"y\": 14, \"val\": 0}, {\"x\": 23, \"y\": 14, \"val\": 0}, {\"x\": 24, \"y\": 14, \"val\": 0}, {\"x\": 25, \"y\": 14, \"val\": 0}, {\"x\": 26, \"y\": 14, \"val\": 0}, {\"x\": 27, \"y\": 14, \"val\": 0}, {\"x\": 28, \"y\": 14, \"val\": 0}, {\"x\": 1, \"y\": 15, \"val\": 0}, {\"x\": 2, \"y\": 15, \"val\": 0}, {\"x\": 3, \"y\": 15, \"val\": 0}, {\"x\": 4, \"y\": 15, \"val\": 0}, {\"x\": 5, \"y\": 15, \"val\": 0}, {\"x\": 6, \"y\": 15, \"val\": 0}, {\"x\": 7, \"y\": 15, \"val\": 0}, {\"x\": 8, \"y\": 15, \"val\": 0}, {\"x\": 9, \"y\": 15, \"val\": 0}, {\"x\": 10, \"y\": 15, \"val\": 0}, {\"x\": 11, \"y\": 15, \"val\": 0}, {\"x\": 12, \"y\": 15, \"val\": 0}, {\"x\": 13, \"y\": 15, \"val\": 6}, {\"x\": 14, \"y\": 15, \"val\": 14}, {\"x\": 15, \"y\": 15, \"val\": 15}, {\"x\": 16, \"y\": 15, \"val\": 102}, {\"x\": 17, \"y\": 15, \"val\": 253}, {\"x\": 18, \"y\": 15, \"val\": 253}, {\"x\": 19, \"y\": 15, \"val\": 159}, {\"x\": 20, \"y\": 15, \"val\": 5}, {\"x\": 21, \"y\": 15, \"val\": 0}, {\"x\": 22, \"y\": 15, \"val\": 0}, {\"x\": 23, \"y\": 15, \"val\": 0}, {\"x\": 24, \"y\": 15, \"val\": 0}, {\"x\": 25, \"y\": 15, \"val\": 0}, {\"x\": 26, \"y\": 15, \"val\": 0}, {\"x\": 27, \"y\": 15, \"val\": 0}, {\"x\": 28, \"y\": 15, \"val\": 0}, {\"x\": 1, \"y\": 16, \"val\": 0}, {\"x\": 2, \"y\": 16, \"val\": 0}, {\"x\": 3, \"y\": 16, \"val\": 0}, {\"x\": 4, \"y\": 16, \"val\": 0}, {\"x\": 5, \"y\": 16, \"val\": 0}, {\"x\": 6, \"y\": 16, \"val\": 0}, {\"x\": 7, \"y\": 16, \"val\": 0}, {\"x\": 8, \"y\": 16, \"val\": 0}, {\"x\": 9, \"y\": 16, \"val\": 0}, {\"x\": 10, \"y\": 16, \"val\": 0}, {\"x\": 11, \"y\": 16, \"val\": 0}, {\"x\": 12, \"y\": 16, \"val\": 0}, {\"x\": 13, \"y\": 16, \"val\": 0}, {\"x\": 14, \"y\": 16, \"val\": 0}, {\"x\": 15, \"y\": 16, \"val\": 41}, {\"x\": 16, \"y\": 16, \"val\": 216}, {\"x\": 17, \"y\": 16, \"val\": 253}, {\"x\": 18, \"y\": 16, \"val\": 190}, {\"x\": 19, \"y\": 16, \"val\": 19}, {\"x\": 20, \"y\": 16, \"val\": 0}, {\"x\": 21, \"y\": 16, \"val\": 0}, {\"x\": 22, \"y\": 16, \"val\": 0}, {\"x\": 23, \"y\": 16, \"val\": 0}, {\"x\": 24, \"y\": 16, \"val\": 0}, {\"x\": 25, \"y\": 16, \"val\": 0}, {\"x\": 26, \"y\": 16, \"val\": 0}, {\"x\": 27, \"y\": 16, \"val\": 0}, {\"x\": 28, \"y\": 16, \"val\": 0}, {\"x\": 1, \"y\": 17, \"val\": 0}, {\"x\": 2, \"y\": 17, \"val\": 0}, {\"x\": 3, \"y\": 17, \"val\": 0}, {\"x\": 4, \"y\": 17, \"val\": 0}, {\"x\": 5, \"y\": 17, \"val\": 0}, {\"x\": 6, \"y\": 17, \"val\": 0}, {\"x\": 7, \"y\": 17, \"val\": 0}, {\"x\": 8, \"y\": 17, \"val\": 0}, {\"x\": 9, \"y\": 17, \"val\": 0}, {\"x\": 10, \"y\": 17, \"val\": 0}, {\"x\": 11, \"y\": 17, \"val\": 0}, {\"x\": 12, \"y\": 17, \"val\": 0}, {\"x\": 13, \"y\": 17, \"val\": 0}, {\"x\": 14, \"y\": 17, \"val\": 30}, {\"x\": 15, \"y\": 17, \"val\": 153}, {\"x\": 16, \"y\": 17, \"val\": 253}, {\"x\": 17, \"y\": 17, \"val\": 248}, {\"x\": 18, \"y\": 17, \"val\": 51}, {\"x\": 19, \"y\": 17, \"val\": 0}, {\"x\": 20, \"y\": 17, \"val\": 0}, {\"x\": 21, \"y\": 17, \"val\": 0}, {\"x\": 22, \"y\": 17, \"val\": 0}, {\"x\": 23, \"y\": 17, \"val\": 0}, {\"x\": 24, \"y\": 17, \"val\": 0}, {\"x\": 25, \"y\": 17, \"val\": 0}, {\"x\": 26, \"y\": 17, \"val\": 0}, {\"x\": 27, \"y\": 17, \"val\": 0}, {\"x\": 28, \"y\": 17, \"val\": 0}, {\"x\": 1, \"y\": 18, \"val\": 0}, {\"x\": 2, \"y\": 18, \"val\": 0}, {\"x\": 3, \"y\": 18, \"val\": 0}, {\"x\": 4, \"y\": 18, \"val\": 0}, {\"x\": 5, \"y\": 18, \"val\": 0}, {\"x\": 6, \"y\": 18, \"val\": 0}, {\"x\": 7, \"y\": 18, \"val\": 0}, {\"x\": 8, \"y\": 18, \"val\": 0}, {\"x\": 9, \"y\": 18, \"val\": 0}, {\"x\": 10, \"y\": 18, \"val\": 0}, {\"x\": 11, \"y\": 18, \"val\": 0}, {\"x\": 12, \"y\": 18, \"val\": 0}, {\"x\": 13, \"y\": 18, \"val\": 0}, {\"x\": 14, \"y\": 18, \"val\": 94}, {\"x\": 15, \"y\": 18, \"val\": 253}, {\"x\": 16, \"y\": 18, \"val\": 252}, {\"x\": 17, \"y\": 18, \"val\": 120}, {\"x\": 18, \"y\": 18, \"val\": 17}, {\"x\": 19, \"y\": 18, \"val\": 0}, {\"x\": 20, \"y\": 18, \"val\": 0}, {\"x\": 21, \"y\": 18, \"val\": 0}, {\"x\": 22, \"y\": 18, \"val\": 0}, {\"x\": 23, \"y\": 18, \"val\": 0}, {\"x\": 24, \"y\": 18, \"val\": 0}, {\"x\": 25, \"y\": 18, \"val\": 0}, {\"x\": 26, \"y\": 18, \"val\": 0}, {\"x\": 27, \"y\": 18, \"val\": 0}, {\"x\": 28, \"y\": 18, \"val\": 0}, {\"x\": 1, \"y\": 19, \"val\": 0}, {\"x\": 2, \"y\": 19, \"val\": 0}, {\"x\": 3, \"y\": 19, \"val\": 0}, {\"x\": 4, \"y\": 19, \"val\": 0}, {\"x\": 5, \"y\": 19, \"val\": 0}, {\"x\": 6, \"y\": 19, \"val\": 0}, {\"x\": 7, \"y\": 19, \"val\": 0}, {\"x\": 8, \"y\": 19, \"val\": 0}, {\"x\": 9, \"y\": 19, \"val\": 0}, {\"x\": 10, \"y\": 19, \"val\": 0}, {\"x\": 11, \"y\": 19, \"val\": 0}, {\"x\": 12, \"y\": 19, \"val\": 0}, {\"x\": 13, \"y\": 19, \"val\": 47}, {\"x\": 14, \"y\": 19, \"val\": 250}, {\"x\": 15, \"y\": 19, \"val\": 252}, {\"x\": 16, \"y\": 19, \"val\": 148}, {\"x\": 17, \"y\": 19, \"val\": 0}, {\"x\": 18, \"y\": 19, \"val\": 0}, {\"x\": 19, \"y\": 19, \"val\": 0}, {\"x\": 20, \"y\": 19, \"val\": 0}, {\"x\": 21, \"y\": 19, \"val\": 0}, {\"x\": 22, \"y\": 19, \"val\": 0}, {\"x\": 23, \"y\": 19, \"val\": 0}, {\"x\": 24, \"y\": 19, \"val\": 0}, {\"x\": 25, \"y\": 19, \"val\": 0}, {\"x\": 26, \"y\": 19, \"val\": 0}, {\"x\": 27, \"y\": 19, \"val\": 0}, {\"x\": 28, \"y\": 19, \"val\": 0}, {\"x\": 1, \"y\": 20, \"val\": 0}, {\"x\": 2, \"y\": 20, \"val\": 0}, {\"x\": 3, \"y\": 20, \"val\": 0}, {\"x\": 4, \"y\": 20, \"val\": 0}, {\"x\": 5, \"y\": 20, \"val\": 0}, {\"x\": 6, \"y\": 20, \"val\": 0}, {\"x\": 7, \"y\": 20, \"val\": 0}, {\"x\": 8, \"y\": 20, \"val\": 0}, {\"x\": 9, \"y\": 20, \"val\": 0}, {\"x\": 10, \"y\": 20, \"val\": 0}, {\"x\": 11, \"y\": 20, \"val\": 0}, {\"x\": 12, \"y\": 20, \"val\": 25}, {\"x\": 13, \"y\": 20, \"val\": 182}, {\"x\": 14, \"y\": 20, \"val\": 253}, {\"x\": 15, \"y\": 20, \"val\": 203}, {\"x\": 16, \"y\": 20, \"val\": 0}, {\"x\": 17, \"y\": 20, \"val\": 0}, {\"x\": 18, \"y\": 20, \"val\": 0}, {\"x\": 19, \"y\": 20, \"val\": 0}, {\"x\": 20, \"y\": 20, \"val\": 0}, {\"x\": 21, \"y\": 20, \"val\": 0}, {\"x\": 22, \"y\": 20, \"val\": 0}, {\"x\": 23, \"y\": 20, \"val\": 0}, {\"x\": 24, \"y\": 20, \"val\": 0}, {\"x\": 25, \"y\": 20, \"val\": 0}, {\"x\": 26, \"y\": 20, \"val\": 0}, {\"x\": 27, \"y\": 20, \"val\": 0}, {\"x\": 28, \"y\": 20, \"val\": 0}, {\"x\": 1, \"y\": 21, \"val\": 0}, {\"x\": 2, \"y\": 21, \"val\": 0}, {\"x\": 3, \"y\": 21, \"val\": 0}, {\"x\": 4, \"y\": 21, \"val\": 0}, {\"x\": 5, \"y\": 21, \"val\": 0}, {\"x\": 6, \"y\": 21, \"val\": 0}, {\"x\": 7, \"y\": 21, \"val\": 0}, {\"x\": 8, \"y\": 21, \"val\": 0}, {\"x\": 9, \"y\": 21, \"val\": 0}, {\"x\": 10, \"y\": 21, \"val\": 0}, {\"x\": 11, \"y\": 21, \"val\": 0}, {\"x\": 12, \"y\": 21, \"val\": 206}, {\"x\": 13, \"y\": 21, \"val\": 253}, {\"x\": 14, \"y\": 21, \"val\": 220}, {\"x\": 15, \"y\": 21, \"val\": 50}, {\"x\": 16, \"y\": 21, \"val\": 0}, {\"x\": 17, \"y\": 21, \"val\": 0}, {\"x\": 18, \"y\": 21, \"val\": 0}, {\"x\": 19, \"y\": 21, \"val\": 0}, {\"x\": 20, \"y\": 21, \"val\": 0}, {\"x\": 21, \"y\": 21, \"val\": 0}, {\"x\": 22, \"y\": 21, \"val\": 0}, {\"x\": 23, \"y\": 21, \"val\": 0}, {\"x\": 24, \"y\": 21, \"val\": 0}, {\"x\": 25, \"y\": 21, \"val\": 0}, {\"x\": 26, \"y\": 21, \"val\": 0}, {\"x\": 27, \"y\": 21, \"val\": 0}, {\"x\": 28, \"y\": 21, \"val\": 0}, {\"x\": 1, \"y\": 22, \"val\": 0}, {\"x\": 2, \"y\": 22, \"val\": 0}, {\"x\": 3, \"y\": 22, \"val\": 0}, {\"x\": 4, \"y\": 22, \"val\": 0}, {\"x\": 5, \"y\": 22, \"val\": 0}, {\"x\": 6, \"y\": 22, \"val\": 0}, {\"x\": 7, \"y\": 22, \"val\": 0}, {\"x\": 8, \"y\": 22, \"val\": 0}, {\"x\": 9, \"y\": 22, \"val\": 0}, {\"x\": 10, \"y\": 22, \"val\": 3}, {\"x\": 11, \"y\": 22, \"val\": 92}, {\"x\": 12, \"y\": 22, \"val\": 252}, {\"x\": 13, \"y\": 22, \"val\": 244}, {\"x\": 14, \"y\": 22, \"val\": 106}, {\"x\": 15, \"y\": 22, \"val\": 0}, {\"x\": 16, \"y\": 22, \"val\": 0}, {\"x\": 17, \"y\": 22, \"val\": 0}, {\"x\": 18, \"y\": 22, \"val\": 0}, {\"x\": 19, \"y\": 22, \"val\": 0}, {\"x\": 20, \"y\": 22, \"val\": 0}, {\"x\": 21, \"y\": 22, \"val\": 0}, {\"x\": 22, \"y\": 22, \"val\": 0}, {\"x\": 23, \"y\": 22, \"val\": 0}, {\"x\": 24, \"y\": 22, \"val\": 0}, {\"x\": 25, \"y\": 22, \"val\": 0}, {\"x\": 26, \"y\": 22, \"val\": 0}, {\"x\": 27, \"y\": 22, \"val\": 0}, {\"x\": 28, \"y\": 22, \"val\": 0}, {\"x\": 1, \"y\": 23, \"val\": 0}, {\"x\": 2, \"y\": 23, \"val\": 0}, {\"x\": 3, \"y\": 23, \"val\": 0}, {\"x\": 4, \"y\": 23, \"val\": 0}, {\"x\": 5, \"y\": 23, \"val\": 0}, {\"x\": 6, \"y\": 23, \"val\": 0}, {\"x\": 7, \"y\": 23, \"val\": 0}, {\"x\": 8, \"y\": 23, \"val\": 0}, {\"x\": 9, \"y\": 23, \"val\": 0}, {\"x\": 10, \"y\": 23, \"val\": 50}, {\"x\": 11, \"y\": 23, \"val\": 226}, {\"x\": 12, \"y\": 23, \"val\": 241}, {\"x\": 13, \"y\": 23, \"val\": 109}, {\"x\": 14, \"y\": 23, \"val\": 0}, {\"x\": 15, \"y\": 23, \"val\": 0}, {\"x\": 16, \"y\": 23, \"val\": 0}, {\"x\": 17, \"y\": 23, \"val\": 0}, {\"x\": 18, \"y\": 23, \"val\": 0}, {\"x\": 19, \"y\": 23, \"val\": 0}, {\"x\": 20, \"y\": 23, \"val\": 0}, {\"x\": 21, \"y\": 23, \"val\": 0}, {\"x\": 22, \"y\": 23, \"val\": 0}, {\"x\": 23, \"y\": 23, \"val\": 0}, {\"x\": 24, \"y\": 23, \"val\": 0}, {\"x\": 25, \"y\": 23, \"val\": 0}, {\"x\": 26, \"y\": 23, \"val\": 0}, {\"x\": 27, \"y\": 23, \"val\": 0}, {\"x\": 28, \"y\": 23, \"val\": 0}, {\"x\": 1, \"y\": 24, \"val\": 0}, {\"x\": 2, \"y\": 24, \"val\": 0}, {\"x\": 3, \"y\": 24, \"val\": 0}, {\"x\": 4, \"y\": 24, \"val\": 0}, {\"x\": 5, \"y\": 24, \"val\": 0}, {\"x\": 6, \"y\": 24, \"val\": 0}, {\"x\": 7, \"y\": 24, \"val\": 0}, {\"x\": 8, \"y\": 24, \"val\": 0}, {\"x\": 9, \"y\": 24, \"val\": 40}, {\"x\": 10, \"y\": 24, \"val\": 235}, {\"x\": 11, \"y\": 24, \"val\": 253}, {\"x\": 12, \"y\": 24, \"val\": 137}, {\"x\": 13, \"y\": 24, \"val\": 24}, {\"x\": 14, \"y\": 24, \"val\": 0}, {\"x\": 15, \"y\": 24, \"val\": 0}, {\"x\": 16, \"y\": 24, \"val\": 0}, {\"x\": 17, \"y\": 24, \"val\": 0}, {\"x\": 18, \"y\": 24, \"val\": 0}, {\"x\": 19, \"y\": 24, \"val\": 0}, {\"x\": 20, \"y\": 24, \"val\": 0}, {\"x\": 21, \"y\": 24, \"val\": 0}, {\"x\": 22, \"y\": 24, \"val\": 0}, {\"x\": 23, \"y\": 24, \"val\": 0}, {\"x\": 24, \"y\": 24, \"val\": 0}, {\"x\": 25, \"y\": 24, \"val\": 0}, {\"x\": 26, \"y\": 24, \"val\": 0}, {\"x\": 27, \"y\": 24, \"val\": 0}, {\"x\": 28, \"y\": 24, \"val\": 0}, {\"x\": 1, \"y\": 25, \"val\": 0}, {\"x\": 2, \"y\": 25, \"val\": 0}, {\"x\": 3, \"y\": 25, \"val\": 0}, {\"x\": 4, \"y\": 25, \"val\": 0}, {\"x\": 5, \"y\": 25, \"val\": 0}, {\"x\": 6, \"y\": 25, \"val\": 0}, {\"x\": 7, \"y\": 25, \"val\": 0}, {\"x\": 8, \"y\": 25, \"val\": 15}, {\"x\": 9, \"y\": 25, \"val\": 208}, {\"x\": 10, \"y\": 25, \"val\": 253}, {\"x\": 11, \"y\": 25, \"val\": 190}, {\"x\": 12, \"y\": 25, \"val\": 29}, {\"x\": 13, \"y\": 25, \"val\": 0}, {\"x\": 14, \"y\": 25, \"val\": 0}, {\"x\": 15, \"y\": 25, \"val\": 0}, {\"x\": 16, \"y\": 25, \"val\": 0}, {\"x\": 17, \"y\": 25, \"val\": 0}, {\"x\": 18, \"y\": 25, \"val\": 0}, {\"x\": 19, \"y\": 25, \"val\": 0}, {\"x\": 20, \"y\": 25, \"val\": 0}, {\"x\": 21, \"y\": 25, \"val\": 0}, {\"x\": 22, \"y\": 25, \"val\": 0}, {\"x\": 23, \"y\": 25, \"val\": 0}, {\"x\": 24, \"y\": 25, \"val\": 0}, {\"x\": 25, \"y\": 25, \"val\": 0}, {\"x\": 26, \"y\": 25, \"val\": 0}, {\"x\": 27, \"y\": 25, \"val\": 0}, {\"x\": 28, \"y\": 25, \"val\": 0}, {\"x\": 1, \"y\": 26, \"val\": 0}, {\"x\": 2, \"y\": 26, \"val\": 0}, {\"x\": 3, \"y\": 26, \"val\": 0}, {\"x\": 4, \"y\": 26, \"val\": 0}, {\"x\": 5, \"y\": 26, \"val\": 0}, {\"x\": 6, \"y\": 26, \"val\": 0}, {\"x\": 7, \"y\": 26, \"val\": 30}, {\"x\": 8, \"y\": 26, \"val\": 218}, {\"x\": 9, \"y\": 26, \"val\": 240}, {\"x\": 10, \"y\": 26, \"val\": 146}, {\"x\": 11, \"y\": 26, \"val\": 6}, {\"x\": 12, \"y\": 26, \"val\": 0}, {\"x\": 13, \"y\": 26, \"val\": 0}, {\"x\": 14, \"y\": 26, \"val\": 0}, {\"x\": 15, \"y\": 26, \"val\": 0}, {\"x\": 16, \"y\": 26, \"val\": 0}, {\"x\": 17, \"y\": 26, \"val\": 0}, {\"x\": 18, \"y\": 26, \"val\": 0}, {\"x\": 19, \"y\": 26, \"val\": 0}, {\"x\": 20, \"y\": 26, \"val\": 0}, {\"x\": 21, \"y\": 26, \"val\": 0}, {\"x\": 22, \"y\": 26, \"val\": 0}, {\"x\": 23, \"y\": 26, \"val\": 0}, {\"x\": 24, \"y\": 26, \"val\": 0}, {\"x\": 25, \"y\": 26, \"val\": 0}, {\"x\": 26, \"y\": 26, \"val\": 0}, {\"x\": 27, \"y\": 26, \"val\": 0}, {\"x\": 28, \"y\": 26, \"val\": 0}, {\"x\": 1, \"y\": 27, \"val\": 0}, {\"x\": 2, \"y\": 27, \"val\": 0}, {\"x\": 3, \"y\": 27, \"val\": 0}, {\"x\": 4, \"y\": 27, \"val\": 0}, {\"x\": 5, \"y\": 27, \"val\": 0}, {\"x\": 6, \"y\": 27, \"val\": 4}, {\"x\": 7, \"y\": 27, \"val\": 160}, {\"x\": 8, \"y\": 27, \"val\": 167}, {\"x\": 9, \"y\": 27, \"val\": 70}, {\"x\": 10, \"y\": 27, \"val\": 0}, {\"x\": 11, \"y\": 27, \"val\": 0}, {\"x\": 12, \"y\": 27, \"val\": 0}, {\"x\": 13, \"y\": 27, \"val\": 0}, {\"x\": 14, \"y\": 27, \"val\": 0}, {\"x\": 15, \"y\": 27, \"val\": 0}, {\"x\": 16, \"y\": 27, \"val\": 0}, {\"x\": 17, \"y\": 27, \"val\": 0}, {\"x\": 18, \"y\": 27, \"val\": 0}, {\"x\": 19, \"y\": 27, \"val\": 0}, {\"x\": 20, \"y\": 27, \"val\": 0}, {\"x\": 21, \"y\": 27, \"val\": 0}, {\"x\": 22, \"y\": 27, \"val\": 0}, {\"x\": 23, \"y\": 27, \"val\": 0}, {\"x\": 24, \"y\": 27, \"val\": 0}, {\"x\": 25, \"y\": 27, \"val\": 0}, {\"x\": 26, \"y\": 27, \"val\": 0}, {\"x\": 27, \"y\": 27, \"val\": 0}, {\"x\": 28, \"y\": 27, \"val\": 0}, {\"x\": 1, \"y\": 28, \"val\": 0}, {\"x\": 2, \"y\": 28, \"val\": 0}, {\"x\": 3, \"y\": 28, \"val\": 0}, {\"x\": 4, \"y\": 28, \"val\": 0}, {\"x\": 5, \"y\": 28, \"val\": 0}, {\"x\": 6, \"y\": 28, \"val\": 0}, {\"x\": 7, \"y\": 28, \"val\": 0}, {\"x\": 8, \"y\": 28, \"val\": 0}, {\"x\": 9, \"y\": 28, \"val\": 0}, {\"x\": 10, \"y\": 28, \"val\": 0}, {\"x\": 11, \"y\": 28, \"val\": 0}, {\"x\": 12, \"y\": 28, \"val\": 0}, {\"x\": 13, \"y\": 28, \"val\": 0}, {\"x\": 14, \"y\": 28, \"val\": 0}, {\"x\": 15, \"y\": 28, \"val\": 0}, {\"x\": 16, \"y\": 28, \"val\": 0}, {\"x\": 17, \"y\": 28, \"val\": 0}, {\"x\": 18, \"y\": 28, \"val\": 0}, {\"x\": 19, \"y\": 28, \"val\": 0}, {\"x\": 20, \"y\": 28, \"val\": 0}, {\"x\": 21, \"y\": 28, \"val\": 0}, {\"x\": 22, \"y\": 28, \"val\": 0}, {\"x\": 23, \"y\": 28, \"val\": 0}, {\"x\": 24, \"y\": 28, \"val\": 0}, {\"x\": 25, \"y\": 28, \"val\": 0}, {\"x\": 26, \"y\": 28, \"val\": 0}, {\"x\": 27, \"y\": 28, \"val\": 0}, {\"x\": 28, \"y\": 28, \"val\": 0}], \"data-d591f5c6f656ca9bb3a0a95b1fb15128\": [{\"x\": 1, \"y\": 1, \"val\": 0}, {\"x\": 2, \"y\": 1, \"val\": 0}, {\"x\": 3, \"y\": 1, \"val\": 0}, {\"x\": 4, \"y\": 1, \"val\": 0}, {\"x\": 5, \"y\": 1, \"val\": 0}, {\"x\": 6, \"y\": 1, \"val\": 0}, {\"x\": 7, \"y\": 1, \"val\": 0}, {\"x\": 8, \"y\": 1, \"val\": 0}, {\"x\": 9, \"y\": 1, \"val\": 0}, {\"x\": 10, \"y\": 1, \"val\": 0}, {\"x\": 11, \"y\": 1, \"val\": 0}, {\"x\": 12, \"y\": 1, \"val\": 0}, {\"x\": 13, \"y\": 1, \"val\": 0}, {\"x\": 14, \"y\": 1, \"val\": 0}, {\"x\": 15, \"y\": 1, \"val\": 0}, {\"x\": 16, \"y\": 1, \"val\": 0}, {\"x\": 17, \"y\": 1, \"val\": 0}, {\"x\": 18, \"y\": 1, \"val\": 0}, {\"x\": 19, \"y\": 1, \"val\": 0}, {\"x\": 20, \"y\": 1, \"val\": 0}, {\"x\": 21, \"y\": 1, \"val\": 0}, {\"x\": 22, \"y\": 1, \"val\": 0}, {\"x\": 23, \"y\": 1, \"val\": 0}, {\"x\": 24, \"y\": 1, \"val\": 0}, {\"x\": 25, \"y\": 1, \"val\": 0}, {\"x\": 26, \"y\": 1, \"val\": 0}, {\"x\": 27, \"y\": 1, \"val\": 0}, {\"x\": 28, \"y\": 1, \"val\": 0}, {\"x\": 1, \"y\": 2, \"val\": 0}, {\"x\": 2, \"y\": 2, \"val\": 0}, {\"x\": 3, \"y\": 2, \"val\": 0}, {\"x\": 4, \"y\": 2, \"val\": 0}, {\"x\": 5, \"y\": 2, \"val\": 0}, {\"x\": 6, \"y\": 2, \"val\": 0}, {\"x\": 7, \"y\": 2, \"val\": 0}, {\"x\": 8, \"y\": 2, \"val\": 0}, {\"x\": 9, \"y\": 2, \"val\": 0}, {\"x\": 10, \"y\": 2, \"val\": 0}, {\"x\": 11, \"y\": 2, \"val\": 0}, {\"x\": 12, \"y\": 2, \"val\": 0}, {\"x\": 13, \"y\": 2, \"val\": 0}, {\"x\": 14, \"y\": 2, \"val\": 0}, {\"x\": 15, \"y\": 2, \"val\": 0}, {\"x\": 16, \"y\": 2, \"val\": 0}, {\"x\": 17, \"y\": 2, \"val\": 0}, {\"x\": 18, \"y\": 2, \"val\": 0}, {\"x\": 19, \"y\": 2, \"val\": 0}, {\"x\": 20, \"y\": 2, \"val\": 0}, {\"x\": 21, \"y\": 2, \"val\": 0}, {\"x\": 22, \"y\": 2, \"val\": 0}, {\"x\": 23, \"y\": 2, \"val\": 0}, {\"x\": 24, \"y\": 2, \"val\": 0}, {\"x\": 25, \"y\": 2, \"val\": 0}, {\"x\": 26, \"y\": 2, \"val\": 0}, {\"x\": 27, \"y\": 2, \"val\": 0}, {\"x\": 28, \"y\": 2, \"val\": 0}, {\"x\": 1, \"y\": 3, \"val\": 0}, {\"x\": 2, \"y\": 3, \"val\": 0}, {\"x\": 3, \"y\": 3, \"val\": 0}, {\"x\": 4, \"y\": 3, \"val\": 0}, {\"x\": 5, \"y\": 3, \"val\": 0}, {\"x\": 6, \"y\": 3, \"val\": 0}, {\"x\": 7, \"y\": 3, \"val\": 0}, {\"x\": 8, \"y\": 3, \"val\": 0}, {\"x\": 9, \"y\": 3, \"val\": 0}, {\"x\": 10, \"y\": 3, \"val\": 0}, {\"x\": 11, \"y\": 3, \"val\": 0}, {\"x\": 12, \"y\": 3, \"val\": 0}, {\"x\": 13, \"y\": 3, \"val\": 0}, {\"x\": 14, \"y\": 3, \"val\": 0}, {\"x\": 15, \"y\": 3, \"val\": 0}, {\"x\": 16, \"y\": 3, \"val\": 0}, {\"x\": 17, \"y\": 3, \"val\": 0}, {\"x\": 18, \"y\": 3, \"val\": 0}, {\"x\": 19, \"y\": 3, \"val\": 0}, {\"x\": 20, \"y\": 3, \"val\": 0}, {\"x\": 21, \"y\": 3, \"val\": 0}, {\"x\": 22, \"y\": 3, \"val\": 0}, {\"x\": 23, \"y\": 3, \"val\": 0}, {\"x\": 24, \"y\": 3, \"val\": 0}, {\"x\": 25, \"y\": 3, \"val\": 0}, {\"x\": 26, \"y\": 3, \"val\": 0}, {\"x\": 27, \"y\": 3, \"val\": 0}, {\"x\": 28, \"y\": 3, \"val\": 0}, {\"x\": 1, \"y\": 4, \"val\": 0}, {\"x\": 2, \"y\": 4, \"val\": 0}, {\"x\": 3, \"y\": 4, \"val\": 0}, {\"x\": 4, \"y\": 4, \"val\": 0}, {\"x\": 5, \"y\": 4, \"val\": 0}, {\"x\": 6, \"y\": 4, \"val\": 0}, {\"x\": 7, \"y\": 4, \"val\": 0}, {\"x\": 8, \"y\": 4, \"val\": 0}, {\"x\": 9, \"y\": 4, \"val\": 0}, {\"x\": 10, \"y\": 4, \"val\": 0}, {\"x\": 11, \"y\": 4, \"val\": 0}, {\"x\": 12, \"y\": 4, \"val\": 0}, {\"x\": 13, \"y\": 4, \"val\": 0}, {\"x\": 14, \"y\": 4, \"val\": 0}, {\"x\": 15, \"y\": 4, \"val\": 0}, {\"x\": 16, \"y\": 4, \"val\": 0}, {\"x\": 17, \"y\": 4, \"val\": 0}, {\"x\": 18, \"y\": 4, \"val\": 0}, {\"x\": 19, \"y\": 4, \"val\": 0}, {\"x\": 20, \"y\": 4, \"val\": 0}, {\"x\": 21, \"y\": 4, \"val\": 0}, {\"x\": 22, \"y\": 4, \"val\": 0}, {\"x\": 23, \"y\": 4, \"val\": 0}, {\"x\": 24, \"y\": 4, \"val\": 0}, {\"x\": 25, \"y\": 4, \"val\": 0}, {\"x\": 26, \"y\": 4, \"val\": 0}, {\"x\": 27, \"y\": 4, \"val\": 0}, {\"x\": 28, \"y\": 4, \"val\": 0}, {\"x\": 1, \"y\": 5, \"val\": 0}, {\"x\": 2, \"y\": 5, \"val\": 0}, {\"x\": 3, \"y\": 5, \"val\": 0}, {\"x\": 4, \"y\": 5, \"val\": 0}, {\"x\": 5, \"y\": 5, \"val\": 0}, {\"x\": 6, \"y\": 5, \"val\": 0}, {\"x\": 7, \"y\": 5, \"val\": 0}, {\"x\": 8, \"y\": 5, \"val\": 0}, {\"x\": 9, \"y\": 5, \"val\": 0}, {\"x\": 10, \"y\": 5, \"val\": 0}, {\"x\": 11, \"y\": 5, \"val\": 0}, {\"x\": 12, \"y\": 5, \"val\": 0}, {\"x\": 13, \"y\": 5, \"val\": 0}, {\"x\": 14, \"y\": 5, \"val\": 0}, {\"x\": 15, \"y\": 5, \"val\": 0}, {\"x\": 16, \"y\": 5, \"val\": 0}, {\"x\": 17, \"y\": 5, \"val\": 0}, {\"x\": 18, \"y\": 5, \"val\": 0}, {\"x\": 19, \"y\": 5, \"val\": 0}, {\"x\": 20, \"y\": 5, \"val\": 0}, {\"x\": 21, \"y\": 5, \"val\": 0}, {\"x\": 22, \"y\": 5, \"val\": 0}, {\"x\": 23, \"y\": 5, \"val\": 0}, {\"x\": 24, \"y\": 5, \"val\": 0}, {\"x\": 25, \"y\": 5, \"val\": 0}, {\"x\": 26, \"y\": 5, \"val\": 0}, {\"x\": 27, \"y\": 5, \"val\": 0}, {\"x\": 28, \"y\": 5, \"val\": 0}, {\"x\": 1, \"y\": 6, \"val\": 0}, {\"x\": 2, \"y\": 6, \"val\": 0}, {\"x\": 3, \"y\": 6, \"val\": 0}, {\"x\": 4, \"y\": 6, \"val\": 0}, {\"x\": 5, \"y\": 6, \"val\": 0}, {\"x\": 6, \"y\": 6, \"val\": 0}, {\"x\": 7, \"y\": 6, \"val\": 0}, {\"x\": 8, \"y\": 6, \"val\": 0}, {\"x\": 9, \"y\": 6, \"val\": 0}, {\"x\": 10, \"y\": 6, \"val\": 0}, {\"x\": 11, \"y\": 6, \"val\": 0}, {\"x\": 12, \"y\": 6, \"val\": 0}, {\"x\": 13, \"y\": 6, \"val\": 0}, {\"x\": 14, \"y\": 6, \"val\": 0}, {\"x\": 15, \"y\": 6, \"val\": 0}, {\"x\": 16, \"y\": 6, \"val\": 0}, {\"x\": 17, \"y\": 6, \"val\": 0}, {\"x\": 18, \"y\": 6, \"val\": 0}, {\"x\": 19, \"y\": 6, \"val\": 0}, {\"x\": 20, \"y\": 6, \"val\": 0}, {\"x\": 21, \"y\": 6, \"val\": 0}, {\"x\": 22, \"y\": 6, \"val\": 0}, {\"x\": 23, \"y\": 6, \"val\": 0}, {\"x\": 24, \"y\": 6, \"val\": 0}, {\"x\": 25, \"y\": 6, \"val\": 0}, {\"x\": 26, \"y\": 6, \"val\": 0}, {\"x\": 27, \"y\": 6, \"val\": 0}, {\"x\": 28, \"y\": 6, \"val\": 0}, {\"x\": 1, \"y\": 7, \"val\": 0}, {\"x\": 2, \"y\": 7, \"val\": 0}, {\"x\": 3, \"y\": 7, \"val\": 0}, {\"x\": 4, \"y\": 7, \"val\": 0}, {\"x\": 5, \"y\": 7, \"val\": 0}, {\"x\": 6, \"y\": 7, \"val\": 0}, {\"x\": 7, \"y\": 7, \"val\": 0}, {\"x\": 8, \"y\": 7, \"val\": 0}, {\"x\": 9, \"y\": 7, \"val\": 0}, {\"x\": 10, \"y\": 7, \"val\": 0}, {\"x\": 11, \"y\": 7, \"val\": 0}, {\"x\": 12, \"y\": 7, \"val\": 0}, {\"x\": 13, \"y\": 7, \"val\": 0}, {\"x\": 14, \"y\": 7, \"val\": 0}, {\"x\": 15, \"y\": 7, \"val\": 0}, {\"x\": 16, \"y\": 7, \"val\": 0}, {\"x\": 17, \"y\": 7, \"val\": 0}, {\"x\": 18, \"y\": 7, \"val\": 0}, {\"x\": 19, \"y\": 7, \"val\": 0}, {\"x\": 20, \"y\": 7, \"val\": 0}, {\"x\": 21, \"y\": 7, \"val\": 0}, {\"x\": 22, \"y\": 7, \"val\": 0}, {\"x\": 23, \"y\": 7, \"val\": 0}, {\"x\": 24, \"y\": 7, \"val\": 0}, {\"x\": 25, \"y\": 7, \"val\": 0}, {\"x\": 26, \"y\": 7, \"val\": 0}, {\"x\": 27, \"y\": 7, \"val\": 0}, {\"x\": 28, \"y\": 7, \"val\": 0}, {\"x\": 1, \"y\": 8, \"val\": 0}, {\"x\": 2, \"y\": 8, \"val\": 0}, {\"x\": 3, \"y\": 8, \"val\": 0}, {\"x\": 4, \"y\": 8, \"val\": 0}, {\"x\": 5, \"y\": 8, \"val\": 0}, {\"x\": 6, \"y\": 8, \"val\": 8}, {\"x\": 7, \"y\": 8, \"val\": 29}, {\"x\": 8, \"y\": 8, \"val\": 29}, {\"x\": 9, \"y\": 8, \"val\": 88}, {\"x\": 10, \"y\": 8, \"val\": 89}, {\"x\": 11, \"y\": 8, \"val\": 126}, {\"x\": 12, \"y\": 8, \"val\": 126}, {\"x\": 13, \"y\": 8, \"val\": 126}, {\"x\": 14, \"y\": 8, \"val\": 126}, {\"x\": 15, \"y\": 8, \"val\": 126}, {\"x\": 16, \"y\": 8, \"val\": 121}, {\"x\": 17, \"y\": 8, \"val\": 29}, {\"x\": 18, \"y\": 8, \"val\": 3}, {\"x\": 19, \"y\": 8, \"val\": 0}, {\"x\": 20, \"y\": 8, \"val\": 0}, {\"x\": 21, \"y\": 8, \"val\": 0}, {\"x\": 22, \"y\": 8, \"val\": 0}, {\"x\": 23, \"y\": 8, \"val\": 0}, {\"x\": 24, \"y\": 8, \"val\": 0}, {\"x\": 25, \"y\": 8, \"val\": 0}, {\"x\": 26, \"y\": 8, \"val\": 0}, {\"x\": 27, \"y\": 8, \"val\": 0}, {\"x\": 28, \"y\": 8, \"val\": 0}, {\"x\": 1, \"y\": 9, \"val\": 0}, {\"x\": 2, \"y\": 9, \"val\": 0}, {\"x\": 3, \"y\": 9, \"val\": 0}, {\"x\": 4, \"y\": 9, \"val\": 0}, {\"x\": 5, \"y\": 9, \"val\": 0}, {\"x\": 6, \"y\": 9, \"val\": 168}, {\"x\": 7, \"y\": 9, \"val\": 254}, {\"x\": 8, \"y\": 9, \"val\": 254}, {\"x\": 9, \"y\": 9, \"val\": 254}, {\"x\": 10, \"y\": 9, \"val\": 254}, {\"x\": 11, \"y\": 9, \"val\": 254}, {\"x\": 12, \"y\": 9, \"val\": 254}, {\"x\": 13, \"y\": 9, \"val\": 254}, {\"x\": 14, \"y\": 9, \"val\": 254}, {\"x\": 15, \"y\": 9, \"val\": 254}, {\"x\": 16, \"y\": 9, \"val\": 254}, {\"x\": 17, \"y\": 9, \"val\": 254}, {\"x\": 18, \"y\": 9, \"val\": 176}, {\"x\": 19, \"y\": 9, \"val\": 19}, {\"x\": 20, \"y\": 9, \"val\": 0}, {\"x\": 21, \"y\": 9, \"val\": 0}, {\"x\": 22, \"y\": 9, \"val\": 0}, {\"x\": 23, \"y\": 9, \"val\": 0}, {\"x\": 24, \"y\": 9, \"val\": 0}, {\"x\": 25, \"y\": 9, \"val\": 0}, {\"x\": 26, \"y\": 9, \"val\": 0}, {\"x\": 27, \"y\": 9, \"val\": 0}, {\"x\": 28, \"y\": 9, \"val\": 0}, {\"x\": 1, \"y\": 10, \"val\": 0}, {\"x\": 2, \"y\": 10, \"val\": 0}, {\"x\": 3, \"y\": 10, \"val\": 0}, {\"x\": 4, \"y\": 10, \"val\": 0}, {\"x\": 5, \"y\": 10, \"val\": 0}, {\"x\": 6, \"y\": 10, \"val\": 175}, {\"x\": 7, \"y\": 10, \"val\": 204}, {\"x\": 8, \"y\": 10, \"val\": 197}, {\"x\": 9, \"y\": 10, \"val\": 197}, {\"x\": 10, \"y\": 10, \"val\": 197}, {\"x\": 11, \"y\": 10, \"val\": 197}, {\"x\": 12, \"y\": 10, \"val\": 197}, {\"x\": 13, \"y\": 10, \"val\": 197}, {\"x\": 14, \"y\": 10, \"val\": 197}, {\"x\": 15, \"y\": 10, \"val\": 197}, {\"x\": 16, \"y\": 10, \"val\": 200}, {\"x\": 17, \"y\": 10, \"val\": 254}, {\"x\": 18, \"y\": 10, \"val\": 254}, {\"x\": 19, \"y\": 10, \"val\": 75}, {\"x\": 20, \"y\": 10, \"val\": 0}, {\"x\": 21, \"y\": 10, \"val\": 0}, {\"x\": 22, \"y\": 10, \"val\": 0}, {\"x\": 23, \"y\": 10, \"val\": 0}, {\"x\": 24, \"y\": 10, \"val\": 0}, {\"x\": 25, \"y\": 10, \"val\": 0}, {\"x\": 26, \"y\": 10, \"val\": 0}, {\"x\": 27, \"y\": 10, \"val\": 0}, {\"x\": 28, \"y\": 10, \"val\": 0}, {\"x\": 1, \"y\": 11, \"val\": 0}, {\"x\": 2, \"y\": 11, \"val\": 0}, {\"x\": 3, \"y\": 11, \"val\": 0}, {\"x\": 4, \"y\": 11, \"val\": 0}, {\"x\": 5, \"y\": 11, \"val\": 0}, {\"x\": 6, \"y\": 11, \"val\": 10}, {\"x\": 7, \"y\": 11, \"val\": 5}, {\"x\": 8, \"y\": 11, \"val\": 0}, {\"x\": 9, \"y\": 11, \"val\": 0}, {\"x\": 10, \"y\": 11, \"val\": 0}, {\"x\": 11, \"y\": 11, \"val\": 0}, {\"x\": 12, \"y\": 11, \"val\": 0}, {\"x\": 13, \"y\": 11, \"val\": 0}, {\"x\": 14, \"y\": 11, \"val\": 0}, {\"x\": 15, \"y\": 11, \"val\": 0}, {\"x\": 16, \"y\": 11, \"val\": 4}, {\"x\": 17, \"y\": 11, \"val\": 193}, {\"x\": 18, \"y\": 11, \"val\": 254}, {\"x\": 19, \"y\": 11, \"val\": 139}, {\"x\": 20, \"y\": 11, \"val\": 0}, {\"x\": 21, \"y\": 11, \"val\": 0}, {\"x\": 22, \"y\": 11, \"val\": 0}, {\"x\": 23, \"y\": 11, \"val\": 0}, {\"x\": 24, \"y\": 11, \"val\": 0}, {\"x\": 25, \"y\": 11, \"val\": 0}, {\"x\": 26, \"y\": 11, \"val\": 0}, {\"x\": 27, \"y\": 11, \"val\": 0}, {\"x\": 28, \"y\": 11, \"val\": 0}, {\"x\": 1, \"y\": 12, \"val\": 0}, {\"x\": 2, \"y\": 12, \"val\": 0}, {\"x\": 3, \"y\": 12, \"val\": 0}, {\"x\": 4, \"y\": 12, \"val\": 0}, {\"x\": 5, \"y\": 12, \"val\": 0}, {\"x\": 6, \"y\": 12, \"val\": 0}, {\"x\": 7, \"y\": 12, \"val\": 0}, {\"x\": 8, \"y\": 12, \"val\": 0}, {\"x\": 9, \"y\": 12, \"val\": 0}, {\"x\": 10, \"y\": 12, \"val\": 0}, {\"x\": 11, \"y\": 12, \"val\": 0}, {\"x\": 12, \"y\": 12, \"val\": 0}, {\"x\": 13, \"y\": 12, \"val\": 0}, {\"x\": 14, \"y\": 12, \"val\": 0}, {\"x\": 15, \"y\": 12, \"val\": 0}, {\"x\": 16, \"y\": 12, \"val\": 15}, {\"x\": 17, \"y\": 12, \"val\": 254}, {\"x\": 18, \"y\": 12, \"val\": 254}, {\"x\": 19, \"y\": 12, \"val\": 53}, {\"x\": 20, \"y\": 12, \"val\": 0}, {\"x\": 21, \"y\": 12, \"val\": 0}, {\"x\": 22, \"y\": 12, \"val\": 0}, {\"x\": 23, \"y\": 12, \"val\": 0}, {\"x\": 24, \"y\": 12, \"val\": 0}, {\"x\": 25, \"y\": 12, \"val\": 0}, {\"x\": 26, \"y\": 12, \"val\": 0}, {\"x\": 27, \"y\": 12, \"val\": 0}, {\"x\": 28, \"y\": 12, \"val\": 0}, {\"x\": 1, \"y\": 13, \"val\": 0}, {\"x\": 2, \"y\": 13, \"val\": 0}, {\"x\": 3, \"y\": 13, \"val\": 0}, {\"x\": 4, \"y\": 13, \"val\": 0}, {\"x\": 5, \"y\": 13, \"val\": 0}, {\"x\": 6, \"y\": 13, \"val\": 0}, {\"x\": 7, \"y\": 13, \"val\": 0}, {\"x\": 8, \"y\": 13, \"val\": 0}, {\"x\": 9, \"y\": 13, \"val\": 0}, {\"x\": 10, \"y\": 13, \"val\": 0}, {\"x\": 11, \"y\": 13, \"val\": 0}, {\"x\": 12, \"y\": 13, \"val\": 0}, {\"x\": 13, \"y\": 13, \"val\": 0}, {\"x\": 14, \"y\": 13, \"val\": 0}, {\"x\": 15, \"y\": 13, \"val\": 0}, {\"x\": 16, \"y\": 13, \"val\": 15}, {\"x\": 17, \"y\": 13, \"val\": 254}, {\"x\": 18, \"y\": 13, \"val\": 254}, {\"x\": 19, \"y\": 13, \"val\": 53}, {\"x\": 20, \"y\": 13, \"val\": 0}, {\"x\": 21, \"y\": 13, \"val\": 0}, {\"x\": 22, \"y\": 13, \"val\": 0}, {\"x\": 23, \"y\": 13, \"val\": 0}, {\"x\": 24, \"y\": 13, \"val\": 0}, {\"x\": 25, \"y\": 13, \"val\": 0}, {\"x\": 26, \"y\": 13, \"val\": 0}, {\"x\": 27, \"y\": 13, \"val\": 0}, {\"x\": 28, \"y\": 13, \"val\": 0}, {\"x\": 1, \"y\": 14, \"val\": 0}, {\"x\": 2, \"y\": 14, \"val\": 0}, {\"x\": 3, \"y\": 14, \"val\": 0}, {\"x\": 4, \"y\": 14, \"val\": 0}, {\"x\": 5, \"y\": 14, \"val\": 0}, {\"x\": 6, \"y\": 14, \"val\": 0}, {\"x\": 7, \"y\": 14, \"val\": 0}, {\"x\": 8, \"y\": 14, \"val\": 0}, {\"x\": 9, \"y\": 14, \"val\": 0}, {\"x\": 10, \"y\": 14, \"val\": 0}, {\"x\": 11, \"y\": 14, \"val\": 0}, {\"x\": 12, \"y\": 14, \"val\": 0}, {\"x\": 13, \"y\": 14, \"val\": 0}, {\"x\": 14, \"y\": 14, \"val\": 0}, {\"x\": 15, \"y\": 14, \"val\": 0}, {\"x\": 16, \"y\": 14, \"val\": 95}, {\"x\": 17, \"y\": 14, \"val\": 254}, {\"x\": 18, \"y\": 14, \"val\": 254}, {\"x\": 19, \"y\": 14, \"val\": 53}, {\"x\": 20, \"y\": 14, \"val\": 0}, {\"x\": 21, \"y\": 14, \"val\": 0}, {\"x\": 22, \"y\": 14, \"val\": 0}, {\"x\": 23, \"y\": 14, \"val\": 0}, {\"x\": 24, \"y\": 14, \"val\": 0}, {\"x\": 25, \"y\": 14, \"val\": 0}, {\"x\": 26, \"y\": 14, \"val\": 0}, {\"x\": 27, \"y\": 14, \"val\": 0}, {\"x\": 28, \"y\": 14, \"val\": 0}, {\"x\": 1, \"y\": 15, \"val\": 0}, {\"x\": 2, \"y\": 15, \"val\": 0}, {\"x\": 3, \"y\": 15, \"val\": 0}, {\"x\": 4, \"y\": 15, \"val\": 0}, {\"x\": 5, \"y\": 15, \"val\": 0}, {\"x\": 6, \"y\": 15, \"val\": 0}, {\"x\": 7, \"y\": 15, \"val\": 0}, {\"x\": 8, \"y\": 15, \"val\": 0}, {\"x\": 9, \"y\": 15, \"val\": 0}, {\"x\": 10, \"y\": 15, \"val\": 0}, {\"x\": 11, \"y\": 15, \"val\": 0}, {\"x\": 12, \"y\": 15, \"val\": 0}, {\"x\": 13, \"y\": 15, \"val\": 0}, {\"x\": 14, \"y\": 15, \"val\": 0}, {\"x\": 15, \"y\": 15, \"val\": 0}, {\"x\": 16, \"y\": 15, \"val\": 112}, {\"x\": 17, \"y\": 15, \"val\": 254}, {\"x\": 18, \"y\": 15, \"val\": 224}, {\"x\": 19, \"y\": 15, \"val\": 16}, {\"x\": 20, \"y\": 15, \"val\": 0}, {\"x\": 21, \"y\": 15, \"val\": 75}, {\"x\": 22, \"y\": 15, \"val\": 83}, {\"x\": 23, \"y\": 15, \"val\": 83}, {\"x\": 24, \"y\": 15, \"val\": 83}, {\"x\": 25, \"y\": 15, \"val\": 83}, {\"x\": 26, \"y\": 15, \"val\": 0}, {\"x\": 27, \"y\": 15, \"val\": 0}, {\"x\": 28, \"y\": 15, \"val\": 0}, {\"x\": 1, \"y\": 16, \"val\": 0}, {\"x\": 2, \"y\": 16, \"val\": 0}, {\"x\": 3, \"y\": 16, \"val\": 0}, {\"x\": 4, \"y\": 16, \"val\": 0}, {\"x\": 5, \"y\": 16, \"val\": 0}, {\"x\": 6, \"y\": 16, \"val\": 0}, {\"x\": 7, \"y\": 16, \"val\": 0}, {\"x\": 8, \"y\": 16, \"val\": 0}, {\"x\": 9, \"y\": 16, \"val\": 0}, {\"x\": 10, \"y\": 16, \"val\": 0}, {\"x\": 11, \"y\": 16, \"val\": 0}, {\"x\": 12, \"y\": 16, \"val\": 0}, {\"x\": 13, \"y\": 16, \"val\": 41}, {\"x\": 14, \"y\": 16, \"val\": 49}, {\"x\": 15, \"y\": 16, \"val\": 67}, {\"x\": 16, \"y\": 16, \"val\": 229}, {\"x\": 17, \"y\": 16, \"val\": 254}, {\"x\": 18, \"y\": 16, \"val\": 252}, {\"x\": 19, \"y\": 16, \"val\": 241}, {\"x\": 20, \"y\": 16, \"val\": 241}, {\"x\": 21, \"y\": 16, \"val\": 253}, {\"x\": 22, \"y\": 16, \"val\": 254}, {\"x\": 23, \"y\": 16, \"val\": 242}, {\"x\": 24, \"y\": 16, \"val\": 193}, {\"x\": 25, \"y\": 16, \"val\": 111}, {\"x\": 26, \"y\": 16, \"val\": 0}, {\"x\": 27, \"y\": 16, \"val\": 0}, {\"x\": 28, \"y\": 16, \"val\": 0}, {\"x\": 1, \"y\": 17, \"val\": 0}, {\"x\": 2, \"y\": 17, \"val\": 0}, {\"x\": 3, \"y\": 17, \"val\": 0}, {\"x\": 4, \"y\": 17, \"val\": 0}, {\"x\": 5, \"y\": 17, \"val\": 0}, {\"x\": 6, \"y\": 17, \"val\": 0}, {\"x\": 7, \"y\": 17, \"val\": 0}, {\"x\": 8, \"y\": 17, \"val\": 11}, {\"x\": 9, \"y\": 17, \"val\": 74}, {\"x\": 10, \"y\": 17, \"val\": 112}, {\"x\": 11, \"y\": 17, \"val\": 180}, {\"x\": 12, \"y\": 17, \"val\": 207}, {\"x\": 13, \"y\": 17, \"val\": 247}, {\"x\": 14, \"y\": 17, \"val\": 254}, {\"x\": 15, \"y\": 17, \"val\": 254}, {\"x\": 16, \"y\": 17, \"val\": 254}, {\"x\": 17, \"y\": 17, \"val\": 254}, {\"x\": 18, \"y\": 17, \"val\": 252}, {\"x\": 19, \"y\": 17, \"val\": 240}, {\"x\": 20, \"y\": 17, \"val\": 213}, {\"x\": 21, \"y\": 17, \"val\": 143}, {\"x\": 22, \"y\": 17, \"val\": 69}, {\"x\": 23, \"y\": 17, \"val\": 35}, {\"x\": 24, \"y\": 17, \"val\": 0}, {\"x\": 25, \"y\": 17, \"val\": 0}, {\"x\": 26, \"y\": 17, \"val\": 0}, {\"x\": 27, \"y\": 17, \"val\": 0}, {\"x\": 28, \"y\": 17, \"val\": 0}, {\"x\": 1, \"y\": 18, \"val\": 0}, {\"x\": 2, \"y\": 18, \"val\": 0}, {\"x\": 3, \"y\": 18, \"val\": 0}, {\"x\": 4, \"y\": 18, \"val\": 0}, {\"x\": 5, \"y\": 18, \"val\": 0}, {\"x\": 6, \"y\": 18, \"val\": 0}, {\"x\": 7, \"y\": 18, \"val\": 20}, {\"x\": 8, \"y\": 18, \"val\": 233}, {\"x\": 9, \"y\": 18, \"val\": 254}, {\"x\": 10, \"y\": 18, \"val\": 254}, {\"x\": 11, \"y\": 18, \"val\": 254}, {\"x\": 12, \"y\": 18, \"val\": 254}, {\"x\": 13, \"y\": 18, \"val\": 254}, {\"x\": 14, \"y\": 18, \"val\": 254}, {\"x\": 15, \"y\": 18, \"val\": 225}, {\"x\": 16, \"y\": 18, \"val\": 254}, {\"x\": 17, \"y\": 18, \"val\": 254}, {\"x\": 18, \"y\": 18, \"val\": 80}, {\"x\": 19, \"y\": 18, \"val\": 0}, {\"x\": 20, \"y\": 18, \"val\": 0}, {\"x\": 21, \"y\": 18, \"val\": 0}, {\"x\": 22, \"y\": 18, \"val\": 0}, {\"x\": 23, \"y\": 18, \"val\": 0}, {\"x\": 24, \"y\": 18, \"val\": 0}, {\"x\": 25, \"y\": 18, \"val\": 0}, {\"x\": 26, \"y\": 18, \"val\": 0}, {\"x\": 27, \"y\": 18, \"val\": 0}, {\"x\": 28, \"y\": 18, \"val\": 0}, {\"x\": 1, \"y\": 19, \"val\": 0}, {\"x\": 2, \"y\": 19, \"val\": 0}, {\"x\": 3, \"y\": 19, \"val\": 0}, {\"x\": 4, \"y\": 19, \"val\": 0}, {\"x\": 5, \"y\": 19, \"val\": 0}, {\"x\": 6, \"y\": 19, \"val\": 0}, {\"x\": 7, \"y\": 19, \"val\": 14}, {\"x\": 8, \"y\": 19, \"val\": 218}, {\"x\": 9, \"y\": 19, \"val\": 254}, {\"x\": 10, \"y\": 19, \"val\": 135}, {\"x\": 11, \"y\": 19, \"val\": 115}, {\"x\": 12, \"y\": 19, \"val\": 22}, {\"x\": 13, \"y\": 19, \"val\": 19}, {\"x\": 14, \"y\": 19, \"val\": 19}, {\"x\": 15, \"y\": 19, \"val\": 30}, {\"x\": 16, \"y\": 19, \"val\": 229}, {\"x\": 17, \"y\": 19, \"val\": 254}, {\"x\": 18, \"y\": 19, \"val\": 19}, {\"x\": 19, \"y\": 19, \"val\": 0}, {\"x\": 20, \"y\": 19, \"val\": 0}, {\"x\": 21, \"y\": 19, \"val\": 0}, {\"x\": 22, \"y\": 19, \"val\": 0}, {\"x\": 23, \"y\": 19, \"val\": 0}, {\"x\": 24, \"y\": 19, \"val\": 0}, {\"x\": 25, \"y\": 19, \"val\": 0}, {\"x\": 26, \"y\": 19, \"val\": 0}, {\"x\": 27, \"y\": 19, \"val\": 0}, {\"x\": 28, \"y\": 19, \"val\": 0}, {\"x\": 1, \"y\": 20, \"val\": 0}, {\"x\": 2, \"y\": 20, \"val\": 0}, {\"x\": 3, \"y\": 20, \"val\": 0}, {\"x\": 4, \"y\": 20, \"val\": 0}, {\"x\": 5, \"y\": 20, \"val\": 0}, {\"x\": 6, \"y\": 20, \"val\": 0}, {\"x\": 7, \"y\": 20, \"val\": 0}, {\"x\": 8, \"y\": 20, \"val\": 74}, {\"x\": 9, \"y\": 20, \"val\": 91}, {\"x\": 10, \"y\": 20, \"val\": 8}, {\"x\": 11, \"y\": 20, \"val\": 0}, {\"x\": 12, \"y\": 20, \"val\": 0}, {\"x\": 13, \"y\": 20, \"val\": 0}, {\"x\": 14, \"y\": 20, \"val\": 0}, {\"x\": 15, \"y\": 20, \"val\": 0}, {\"x\": 16, \"y\": 20, \"val\": 207}, {\"x\": 17, \"y\": 20, \"val\": 254}, {\"x\": 18, \"y\": 20, \"val\": 19}, {\"x\": 19, \"y\": 20, \"val\": 0}, {\"x\": 20, \"y\": 20, \"val\": 0}, {\"x\": 21, \"y\": 20, \"val\": 0}, {\"x\": 22, \"y\": 20, \"val\": 0}, {\"x\": 23, \"y\": 20, \"val\": 0}, {\"x\": 24, \"y\": 20, \"val\": 0}, {\"x\": 25, \"y\": 20, \"val\": 0}, {\"x\": 26, \"y\": 20, \"val\": 0}, {\"x\": 27, \"y\": 20, \"val\": 0}, {\"x\": 28, \"y\": 20, \"val\": 0}, {\"x\": 1, \"y\": 21, \"val\": 0}, {\"x\": 2, \"y\": 21, \"val\": 0}, {\"x\": 3, \"y\": 21, \"val\": 0}, {\"x\": 4, \"y\": 21, \"val\": 0}, {\"x\": 5, \"y\": 21, \"val\": 0}, {\"x\": 6, \"y\": 21, \"val\": 0}, {\"x\": 7, \"y\": 21, \"val\": 0}, {\"x\": 8, \"y\": 21, \"val\": 0}, {\"x\": 9, \"y\": 21, \"val\": 0}, {\"x\": 10, \"y\": 21, \"val\": 0}, {\"x\": 11, \"y\": 21, \"val\": 0}, {\"x\": 12, \"y\": 21, \"val\": 0}, {\"x\": 13, \"y\": 21, \"val\": 0}, {\"x\": 14, \"y\": 21, \"val\": 0}, {\"x\": 15, \"y\": 21, \"val\": 0}, {\"x\": 16, \"y\": 21, \"val\": 207}, {\"x\": 17, \"y\": 21, \"val\": 254}, {\"x\": 18, \"y\": 21, \"val\": 19}, {\"x\": 19, \"y\": 21, \"val\": 0}, {\"x\": 20, \"y\": 21, \"val\": 0}, {\"x\": 21, \"y\": 21, \"val\": 0}, {\"x\": 22, \"y\": 21, \"val\": 0}, {\"x\": 23, \"y\": 21, \"val\": 0}, {\"x\": 24, \"y\": 21, \"val\": 0}, {\"x\": 25, \"y\": 21, \"val\": 0}, {\"x\": 26, \"y\": 21, \"val\": 0}, {\"x\": 27, \"y\": 21, \"val\": 0}, {\"x\": 28, \"y\": 21, \"val\": 0}, {\"x\": 1, \"y\": 22, \"val\": 0}, {\"x\": 2, \"y\": 22, \"val\": 0}, {\"x\": 3, \"y\": 22, \"val\": 0}, {\"x\": 4, \"y\": 22, \"val\": 0}, {\"x\": 5, \"y\": 22, \"val\": 0}, {\"x\": 6, \"y\": 22, \"val\": 0}, {\"x\": 7, \"y\": 22, \"val\": 0}, {\"x\": 8, \"y\": 22, \"val\": 0}, {\"x\": 9, \"y\": 22, \"val\": 0}, {\"x\": 10, \"y\": 22, \"val\": 0}, {\"x\": 11, \"y\": 22, \"val\": 0}, {\"x\": 12, \"y\": 22, \"val\": 0}, {\"x\": 13, \"y\": 22, \"val\": 0}, {\"x\": 14, \"y\": 22, \"val\": 0}, {\"x\": 15, \"y\": 22, \"val\": 0}, {\"x\": 16, \"y\": 22, \"val\": 193}, {\"x\": 17, \"y\": 22, \"val\": 255}, {\"x\": 18, \"y\": 22, \"val\": 19}, {\"x\": 19, \"y\": 22, \"val\": 0}, {\"x\": 20, \"y\": 22, \"val\": 0}, {\"x\": 21, \"y\": 22, \"val\": 0}, {\"x\": 22, \"y\": 22, \"val\": 0}, {\"x\": 23, \"y\": 22, \"val\": 0}, {\"x\": 24, \"y\": 22, \"val\": 0}, {\"x\": 25, \"y\": 22, \"val\": 0}, {\"x\": 26, \"y\": 22, \"val\": 0}, {\"x\": 27, \"y\": 22, \"val\": 0}, {\"x\": 28, \"y\": 22, \"val\": 0}, {\"x\": 1, \"y\": 23, \"val\": 0}, {\"x\": 2, \"y\": 23, \"val\": 0}, {\"x\": 3, \"y\": 23, \"val\": 0}, {\"x\": 4, \"y\": 23, \"val\": 0}, {\"x\": 5, \"y\": 23, \"val\": 0}, {\"x\": 6, \"y\": 23, \"val\": 0}, {\"x\": 7, \"y\": 23, \"val\": 0}, {\"x\": 8, \"y\": 23, \"val\": 0}, {\"x\": 9, \"y\": 23, \"val\": 0}, {\"x\": 10, \"y\": 23, \"val\": 0}, {\"x\": 11, \"y\": 23, \"val\": 0}, {\"x\": 12, \"y\": 23, \"val\": 0}, {\"x\": 13, \"y\": 23, \"val\": 0}, {\"x\": 14, \"y\": 23, \"val\": 0}, {\"x\": 15, \"y\": 23, \"val\": 0}, {\"x\": 16, \"y\": 23, \"val\": 112}, {\"x\": 17, \"y\": 23, \"val\": 254}, {\"x\": 18, \"y\": 23, \"val\": 19}, {\"x\": 19, \"y\": 23, \"val\": 0}, {\"x\": 20, \"y\": 23, \"val\": 0}, {\"x\": 21, \"y\": 23, \"val\": 0}, {\"x\": 22, \"y\": 23, \"val\": 0}, {\"x\": 23, \"y\": 23, \"val\": 0}, {\"x\": 24, \"y\": 23, \"val\": 0}, {\"x\": 25, \"y\": 23, \"val\": 0}, {\"x\": 26, \"y\": 23, \"val\": 0}, {\"x\": 27, \"y\": 23, \"val\": 0}, {\"x\": 28, \"y\": 23, \"val\": 0}, {\"x\": 1, \"y\": 24, \"val\": 0}, {\"x\": 2, \"y\": 24, \"val\": 0}, {\"x\": 3, \"y\": 24, \"val\": 0}, {\"x\": 4, \"y\": 24, \"val\": 0}, {\"x\": 5, \"y\": 24, \"val\": 0}, {\"x\": 6, \"y\": 24, \"val\": 0}, {\"x\": 7, \"y\": 24, \"val\": 0}, {\"x\": 8, \"y\": 24, \"val\": 0}, {\"x\": 9, \"y\": 24, \"val\": 0}, {\"x\": 10, \"y\": 24, \"val\": 0}, {\"x\": 11, \"y\": 24, \"val\": 0}, {\"x\": 12, \"y\": 24, \"val\": 0}, {\"x\": 13, \"y\": 24, \"val\": 0}, {\"x\": 14, \"y\": 24, \"val\": 0}, {\"x\": 15, \"y\": 24, \"val\": 0}, {\"x\": 16, \"y\": 24, \"val\": 112}, {\"x\": 17, \"y\": 24, \"val\": 254}, {\"x\": 18, \"y\": 24, \"val\": 19}, {\"x\": 19, \"y\": 24, \"val\": 0}, {\"x\": 20, \"y\": 24, \"val\": 0}, {\"x\": 21, \"y\": 24, \"val\": 0}, {\"x\": 22, \"y\": 24, \"val\": 0}, {\"x\": 23, \"y\": 24, \"val\": 0}, {\"x\": 24, \"y\": 24, \"val\": 0}, {\"x\": 25, \"y\": 24, \"val\": 0}, {\"x\": 26, \"y\": 24, \"val\": 0}, {\"x\": 27, \"y\": 24, \"val\": 0}, {\"x\": 28, \"y\": 24, \"val\": 0}, {\"x\": 1, \"y\": 25, \"val\": 0}, {\"x\": 2, \"y\": 25, \"val\": 0}, {\"x\": 3, \"y\": 25, \"val\": 0}, {\"x\": 4, \"y\": 25, \"val\": 0}, {\"x\": 5, \"y\": 25, \"val\": 0}, {\"x\": 6, \"y\": 25, \"val\": 0}, {\"x\": 7, \"y\": 25, \"val\": 0}, {\"x\": 8, \"y\": 25, \"val\": 0}, {\"x\": 9, \"y\": 25, \"val\": 0}, {\"x\": 10, \"y\": 25, \"val\": 0}, {\"x\": 11, \"y\": 25, \"val\": 0}, {\"x\": 12, \"y\": 25, \"val\": 0}, {\"x\": 13, \"y\": 25, \"val\": 0}, {\"x\": 14, \"y\": 25, \"val\": 0}, {\"x\": 15, \"y\": 25, \"val\": 0}, {\"x\": 16, \"y\": 25, \"val\": 18}, {\"x\": 17, \"y\": 25, \"val\": 59}, {\"x\": 18, \"y\": 25, \"val\": 3}, {\"x\": 19, \"y\": 25, \"val\": 0}, {\"x\": 20, \"y\": 25, \"val\": 0}, {\"x\": 21, \"y\": 25, \"val\": 0}, {\"x\": 22, \"y\": 25, \"val\": 0}, {\"x\": 23, \"y\": 25, \"val\": 0}, {\"x\": 24, \"y\": 25, \"val\": 0}, {\"x\": 25, \"y\": 25, \"val\": 0}, {\"x\": 26, \"y\": 25, \"val\": 0}, {\"x\": 27, \"y\": 25, \"val\": 0}, {\"x\": 28, \"y\": 25, \"val\": 0}, {\"x\": 1, \"y\": 26, \"val\": 0}, {\"x\": 2, \"y\": 26, \"val\": 0}, {\"x\": 3, \"y\": 26, \"val\": 0}, {\"x\": 4, \"y\": 26, \"val\": 0}, {\"x\": 5, \"y\": 26, \"val\": 0}, {\"x\": 6, \"y\": 26, \"val\": 0}, {\"x\": 7, \"y\": 26, \"val\": 0}, {\"x\": 8, \"y\": 26, \"val\": 0}, {\"x\": 9, \"y\": 26, \"val\": 0}, {\"x\": 10, \"y\": 26, \"val\": 0}, {\"x\": 11, \"y\": 26, \"val\": 0}, {\"x\": 12, \"y\": 26, \"val\": 0}, {\"x\": 13, \"y\": 26, \"val\": 0}, {\"x\": 14, \"y\": 26, \"val\": 0}, {\"x\": 15, \"y\": 26, \"val\": 0}, {\"x\": 16, \"y\": 26, \"val\": 0}, {\"x\": 17, \"y\": 26, \"val\": 0}, {\"x\": 18, \"y\": 26, \"val\": 0}, {\"x\": 19, \"y\": 26, \"val\": 0}, {\"x\": 20, \"y\": 26, \"val\": 0}, {\"x\": 21, \"y\": 26, \"val\": 0}, {\"x\": 22, \"y\": 26, \"val\": 0}, {\"x\": 23, \"y\": 26, \"val\": 0}, {\"x\": 24, \"y\": 26, \"val\": 0}, {\"x\": 25, \"y\": 26, \"val\": 0}, {\"x\": 26, \"y\": 26, \"val\": 0}, {\"x\": 27, \"y\": 26, \"val\": 0}, {\"x\": 28, \"y\": 26, \"val\": 0}, {\"x\": 1, \"y\": 27, \"val\": 0}, {\"x\": 2, \"y\": 27, \"val\": 0}, {\"x\": 3, \"y\": 27, \"val\": 0}, {\"x\": 4, \"y\": 27, \"val\": 0}, {\"x\": 5, \"y\": 27, \"val\": 0}, {\"x\": 6, \"y\": 27, \"val\": 0}, {\"x\": 7, \"y\": 27, \"val\": 0}, {\"x\": 8, \"y\": 27, \"val\": 0}, {\"x\": 9, \"y\": 27, \"val\": 0}, {\"x\": 10, \"y\": 27, \"val\": 0}, {\"x\": 11, \"y\": 27, \"val\": 0}, {\"x\": 12, \"y\": 27, \"val\": 0}, {\"x\": 13, \"y\": 27, \"val\": 0}, {\"x\": 14, \"y\": 27, \"val\": 0}, {\"x\": 15, \"y\": 27, \"val\": 0}, {\"x\": 16, \"y\": 27, \"val\": 0}, {\"x\": 17, \"y\": 27, \"val\": 0}, {\"x\": 18, \"y\": 27, \"val\": 0}, {\"x\": 19, \"y\": 27, \"val\": 0}, {\"x\": 20, \"y\": 27, \"val\": 0}, {\"x\": 21, \"y\": 27, \"val\": 0}, {\"x\": 22, \"y\": 27, \"val\": 0}, {\"x\": 23, \"y\": 27, \"val\": 0}, {\"x\": 24, \"y\": 27, \"val\": 0}, {\"x\": 25, \"y\": 27, \"val\": 0}, {\"x\": 26, \"y\": 27, \"val\": 0}, {\"x\": 27, \"y\": 27, \"val\": 0}, {\"x\": 28, \"y\": 27, \"val\": 0}, {\"x\": 1, \"y\": 28, \"val\": 0}, {\"x\": 2, \"y\": 28, \"val\": 0}, {\"x\": 3, \"y\": 28, \"val\": 0}, {\"x\": 4, \"y\": 28, \"val\": 0}, {\"x\": 5, \"y\": 28, \"val\": 0}, {\"x\": 6, \"y\": 28, \"val\": 0}, {\"x\": 7, \"y\": 28, \"val\": 0}, {\"x\": 8, \"y\": 28, \"val\": 0}, {\"x\": 9, \"y\": 28, \"val\": 0}, {\"x\": 10, \"y\": 28, \"val\": 0}, {\"x\": 11, \"y\": 28, \"val\": 0}, {\"x\": 12, \"y\": 28, \"val\": 0}, {\"x\": 13, \"y\": 28, \"val\": 0}, {\"x\": 14, \"y\": 28, \"val\": 0}, {\"x\": 15, \"y\": 28, \"val\": 0}, {\"x\": 16, \"y\": 28, \"val\": 0}, {\"x\": 17, \"y\": 28, \"val\": 0}, {\"x\": 18, \"y\": 28, \"val\": 0}, {\"x\": 19, \"y\": 28, \"val\": 0}, {\"x\": 20, \"y\": 28, \"val\": 0}, {\"x\": 21, \"y\": 28, \"val\": 0}, {\"x\": 22, \"y\": 28, \"val\": 0}, {\"x\": 23, \"y\": 28, \"val\": 0}, {\"x\": 24, \"y\": 28, \"val\": 0}, {\"x\": 25, \"y\": 28, \"val\": 0}, {\"x\": 26, \"y\": 28, \"val\": 0}, {\"x\": 27, \"y\": 28, \"val\": 0}, {\"x\": 28, \"y\": 28, \"val\": 0}], \"data-4ab6e3e259daa379d423311765623689\": [{\"x\": 1, \"y\": 1, \"val\": 0}, {\"x\": 2, \"y\": 1, \"val\": 0}, {\"x\": 3, \"y\": 1, \"val\": 0}, {\"x\": 4, \"y\": 1, \"val\": 0}, {\"x\": 5, \"y\": 1, \"val\": 0}, {\"x\": 6, \"y\": 1, \"val\": 0}, {\"x\": 7, \"y\": 1, \"val\": 0}, {\"x\": 8, \"y\": 1, \"val\": 0}, {\"x\": 9, \"y\": 1, \"val\": 0}, {\"x\": 10, \"y\": 1, \"val\": 0}, {\"x\": 11, \"y\": 1, \"val\": 0}, {\"x\": 12, \"y\": 1, \"val\": 0}, {\"x\": 13, \"y\": 1, \"val\": 0}, {\"x\": 14, \"y\": 1, \"val\": 0}, {\"x\": 15, \"y\": 1, \"val\": 0}, {\"x\": 16, \"y\": 1, \"val\": 0}, {\"x\": 17, \"y\": 1, \"val\": 0}, {\"x\": 18, \"y\": 1, \"val\": 0}, {\"x\": 19, \"y\": 1, \"val\": 0}, {\"x\": 20, \"y\": 1, \"val\": 0}, {\"x\": 21, \"y\": 1, \"val\": 0}, {\"x\": 22, \"y\": 1, \"val\": 0}, {\"x\": 23, \"y\": 1, \"val\": 0}, {\"x\": 24, \"y\": 1, \"val\": 0}, {\"x\": 25, \"y\": 1, \"val\": 0}, {\"x\": 26, \"y\": 1, \"val\": 0}, {\"x\": 27, \"y\": 1, \"val\": 0}, {\"x\": 28, \"y\": 1, \"val\": 0}, {\"x\": 1, \"y\": 2, \"val\": 0}, {\"x\": 2, \"y\": 2, \"val\": 0}, {\"x\": 3, \"y\": 2, \"val\": 0}, {\"x\": 4, \"y\": 2, \"val\": 0}, {\"x\": 5, \"y\": 2, \"val\": 0}, {\"x\": 6, \"y\": 2, \"val\": 0}, {\"x\": 7, \"y\": 2, \"val\": 0}, {\"x\": 8, \"y\": 2, \"val\": 0}, {\"x\": 9, \"y\": 2, \"val\": 0}, {\"x\": 10, \"y\": 2, \"val\": 0}, {\"x\": 11, \"y\": 2, \"val\": 0}, {\"x\": 12, \"y\": 2, \"val\": 0}, {\"x\": 13, \"y\": 2, \"val\": 0}, {\"x\": 14, \"y\": 2, \"val\": 0}, {\"x\": 15, \"y\": 2, \"val\": 0}, {\"x\": 16, \"y\": 2, \"val\": 0}, {\"x\": 17, \"y\": 2, \"val\": 0}, {\"x\": 18, \"y\": 2, \"val\": 0}, {\"x\": 19, \"y\": 2, \"val\": 0}, {\"x\": 20, \"y\": 2, \"val\": 0}, {\"x\": 21, \"y\": 2, \"val\": 0}, {\"x\": 22, \"y\": 2, \"val\": 0}, {\"x\": 23, \"y\": 2, \"val\": 0}, {\"x\": 24, \"y\": 2, \"val\": 0}, {\"x\": 25, \"y\": 2, \"val\": 0}, {\"x\": 26, \"y\": 2, \"val\": 0}, {\"x\": 27, \"y\": 2, \"val\": 0}, {\"x\": 28, \"y\": 2, \"val\": 0}, {\"x\": 1, \"y\": 3, \"val\": 0}, {\"x\": 2, \"y\": 3, \"val\": 0}, {\"x\": 3, \"y\": 3, \"val\": 0}, {\"x\": 4, \"y\": 3, \"val\": 0}, {\"x\": 5, \"y\": 3, \"val\": 0}, {\"x\": 6, \"y\": 3, \"val\": 0}, {\"x\": 7, \"y\": 3, \"val\": 0}, {\"x\": 8, \"y\": 3, \"val\": 0}, {\"x\": 9, \"y\": 3, \"val\": 0}, {\"x\": 10, \"y\": 3, \"val\": 0}, {\"x\": 11, \"y\": 3, \"val\": 0}, {\"x\": 12, \"y\": 3, \"val\": 0}, {\"x\": 13, \"y\": 3, \"val\": 0}, {\"x\": 14, \"y\": 3, \"val\": 0}, {\"x\": 15, \"y\": 3, \"val\": 0}, {\"x\": 16, \"y\": 3, \"val\": 0}, {\"x\": 17, \"y\": 3, \"val\": 0}, {\"x\": 18, \"y\": 3, \"val\": 0}, {\"x\": 19, \"y\": 3, \"val\": 0}, {\"x\": 20, \"y\": 3, \"val\": 0}, {\"x\": 21, \"y\": 3, \"val\": 0}, {\"x\": 22, \"y\": 3, \"val\": 0}, {\"x\": 23, \"y\": 3, \"val\": 0}, {\"x\": 24, \"y\": 3, \"val\": 0}, {\"x\": 25, \"y\": 3, \"val\": 0}, {\"x\": 26, \"y\": 3, \"val\": 0}, {\"x\": 27, \"y\": 3, \"val\": 0}, {\"x\": 28, \"y\": 3, \"val\": 0}, {\"x\": 1, \"y\": 4, \"val\": 0}, {\"x\": 2, \"y\": 4, \"val\": 0}, {\"x\": 3, \"y\": 4, \"val\": 0}, {\"x\": 4, \"y\": 4, \"val\": 0}, {\"x\": 5, \"y\": 4, \"val\": 0}, {\"x\": 6, \"y\": 4, \"val\": 0}, {\"x\": 7, \"y\": 4, \"val\": 0}, {\"x\": 8, \"y\": 4, \"val\": 0}, {\"x\": 9, \"y\": 4, \"val\": 0}, {\"x\": 10, \"y\": 4, \"val\": 0}, {\"x\": 11, \"y\": 4, \"val\": 0}, {\"x\": 12, \"y\": 4, \"val\": 0}, {\"x\": 13, \"y\": 4, \"val\": 0}, {\"x\": 14, \"y\": 4, \"val\": 0}, {\"x\": 15, \"y\": 4, \"val\": 0}, {\"x\": 16, \"y\": 4, \"val\": 0}, {\"x\": 17, \"y\": 4, \"val\": 0}, {\"x\": 18, \"y\": 4, \"val\": 0}, {\"x\": 19, \"y\": 4, \"val\": 0}, {\"x\": 20, \"y\": 4, \"val\": 0}, {\"x\": 21, \"y\": 4, \"val\": 0}, {\"x\": 22, \"y\": 4, \"val\": 0}, {\"x\": 23, \"y\": 4, \"val\": 0}, {\"x\": 24, \"y\": 4, \"val\": 0}, {\"x\": 25, \"y\": 4, \"val\": 0}, {\"x\": 26, \"y\": 4, \"val\": 0}, {\"x\": 27, \"y\": 4, \"val\": 0}, {\"x\": 28, \"y\": 4, \"val\": 0}, {\"x\": 1, \"y\": 5, \"val\": 0}, {\"x\": 2, \"y\": 5, \"val\": 0}, {\"x\": 3, \"y\": 5, \"val\": 0}, {\"x\": 4, \"y\": 5, \"val\": 0}, {\"x\": 5, \"y\": 5, \"val\": 0}, {\"x\": 6, \"y\": 5, \"val\": 0}, {\"x\": 7, \"y\": 5, \"val\": 0}, {\"x\": 8, \"y\": 5, \"val\": 0}, {\"x\": 9, \"y\": 5, \"val\": 0}, {\"x\": 10, \"y\": 5, \"val\": 0}, {\"x\": 11, \"y\": 5, \"val\": 0}, {\"x\": 12, \"y\": 5, \"val\": 0}, {\"x\": 13, \"y\": 5, \"val\": 0}, {\"x\": 14, \"y\": 5, \"val\": 0}, {\"x\": 15, \"y\": 5, \"val\": 0}, {\"x\": 16, \"y\": 5, \"val\": 0}, {\"x\": 17, \"y\": 5, \"val\": 0}, {\"x\": 18, \"y\": 5, \"val\": 0}, {\"x\": 19, \"y\": 5, \"val\": 0}, {\"x\": 20, \"y\": 5, \"val\": 0}, {\"x\": 21, \"y\": 5, \"val\": 0}, {\"x\": 22, \"y\": 5, \"val\": 0}, {\"x\": 23, \"y\": 5, \"val\": 0}, {\"x\": 24, \"y\": 5, \"val\": 0}, {\"x\": 25, \"y\": 5, \"val\": 0}, {\"x\": 26, \"y\": 5, \"val\": 0}, {\"x\": 27, \"y\": 5, \"val\": 0}, {\"x\": 28, \"y\": 5, \"val\": 0}, {\"x\": 1, \"y\": 6, \"val\": 0}, {\"x\": 2, \"y\": 6, \"val\": 0}, {\"x\": 3, \"y\": 6, \"val\": 0}, {\"x\": 4, \"y\": 6, \"val\": 0}, {\"x\": 5, \"y\": 6, \"val\": 0}, {\"x\": 6, \"y\": 6, \"val\": 0}, {\"x\": 7, \"y\": 6, \"val\": 0}, {\"x\": 8, \"y\": 6, \"val\": 0}, {\"x\": 9, \"y\": 6, \"val\": 0}, {\"x\": 10, \"y\": 6, \"val\": 0}, {\"x\": 11, \"y\": 6, \"val\": 0}, {\"x\": 12, \"y\": 6, \"val\": 0}, {\"x\": 13, \"y\": 6, \"val\": 2}, {\"x\": 14, \"y\": 6, \"val\": 152}, {\"x\": 15, \"y\": 6, \"val\": 203}, {\"x\": 16, \"y\": 6, \"val\": 181}, {\"x\": 17, \"y\": 6, \"val\": 141}, {\"x\": 18, \"y\": 6, \"val\": 58}, {\"x\": 19, \"y\": 6, \"val\": 17}, {\"x\": 20, \"y\": 6, \"val\": 0}, {\"x\": 21, \"y\": 6, \"val\": 0}, {\"x\": 22, \"y\": 6, \"val\": 0}, {\"x\": 23, \"y\": 6, \"val\": 0}, {\"x\": 24, \"y\": 6, \"val\": 0}, {\"x\": 25, \"y\": 6, \"val\": 0}, {\"x\": 26, \"y\": 6, \"val\": 0}, {\"x\": 27, \"y\": 6, \"val\": 0}, {\"x\": 28, \"y\": 6, \"val\": 0}, {\"x\": 1, \"y\": 7, \"val\": 0}, {\"x\": 2, \"y\": 7, \"val\": 0}, {\"x\": 3, \"y\": 7, \"val\": 0}, {\"x\": 4, \"y\": 7, \"val\": 0}, {\"x\": 5, \"y\": 7, \"val\": 0}, {\"x\": 6, \"y\": 7, \"val\": 0}, {\"x\": 7, \"y\": 7, \"val\": 0}, {\"x\": 8, \"y\": 7, \"val\": 0}, {\"x\": 9, \"y\": 7, \"val\": 0}, {\"x\": 10, \"y\": 7, \"val\": 0}, {\"x\": 11, \"y\": 7, \"val\": 0}, {\"x\": 12, \"y\": 7, \"val\": 0}, {\"x\": 13, \"y\": 7, \"val\": 0}, {\"x\": 14, \"y\": 7, \"val\": 40}, {\"x\": 15, \"y\": 7, \"val\": 172}, {\"x\": 16, \"y\": 7, \"val\": 247}, {\"x\": 17, \"y\": 7, \"val\": 188}, {\"x\": 18, \"y\": 7, \"val\": 232}, {\"x\": 19, \"y\": 7, \"val\": 234}, {\"x\": 20, \"y\": 7, \"val\": 35}, {\"x\": 21, \"y\": 7, \"val\": 0}, {\"x\": 22, \"y\": 7, \"val\": 0}, {\"x\": 23, \"y\": 7, \"val\": 0}, {\"x\": 24, \"y\": 7, \"val\": 0}, {\"x\": 25, \"y\": 7, \"val\": 0}, {\"x\": 26, \"y\": 7, \"val\": 0}, {\"x\": 27, \"y\": 7, \"val\": 0}, {\"x\": 28, \"y\": 7, \"val\": 0}, {\"x\": 1, \"y\": 8, \"val\": 0}, {\"x\": 2, \"y\": 8, \"val\": 0}, {\"x\": 3, \"y\": 8, \"val\": 0}, {\"x\": 4, \"y\": 8, \"val\": 0}, {\"x\": 5, \"y\": 8, \"val\": 0}, {\"x\": 6, \"y\": 8, \"val\": 0}, {\"x\": 7, \"y\": 8, \"val\": 0}, {\"x\": 8, \"y\": 8, \"val\": 0}, {\"x\": 9, \"y\": 8, \"val\": 0}, {\"x\": 10, \"y\": 8, \"val\": 0}, {\"x\": 11, \"y\": 8, \"val\": 17}, {\"x\": 12, \"y\": 8, \"val\": 82}, {\"x\": 13, \"y\": 8, \"val\": 101}, {\"x\": 14, \"y\": 8, \"val\": 143}, {\"x\": 15, \"y\": 8, \"val\": 252}, {\"x\": 16, \"y\": 8, \"val\": 245}, {\"x\": 17, \"y\": 8, \"val\": 67}, {\"x\": 18, \"y\": 8, \"val\": 35}, {\"x\": 19, \"y\": 8, \"val\": 225}, {\"x\": 20, \"y\": 8, \"val\": 214}, {\"x\": 21, \"y\": 8, \"val\": 0}, {\"x\": 22, \"y\": 8, \"val\": 0}, {\"x\": 23, \"y\": 8, \"val\": 0}, {\"x\": 24, \"y\": 8, \"val\": 0}, {\"x\": 25, \"y\": 8, \"val\": 0}, {\"x\": 26, \"y\": 8, \"val\": 0}, {\"x\": 27, \"y\": 8, \"val\": 0}, {\"x\": 28, \"y\": 8, \"val\": 0}, {\"x\": 1, \"y\": 9, \"val\": 0}, {\"x\": 2, \"y\": 9, \"val\": 0}, {\"x\": 3, \"y\": 9, \"val\": 0}, {\"x\": 4, \"y\": 9, \"val\": 0}, {\"x\": 5, \"y\": 9, \"val\": 0}, {\"x\": 6, \"y\": 9, \"val\": 0}, {\"x\": 7, \"y\": 9, \"val\": 0}, {\"x\": 8, \"y\": 9, \"val\": 0}, {\"x\": 9, \"y\": 9, \"val\": 5}, {\"x\": 10, \"y\": 9, \"val\": 132}, {\"x\": 11, \"y\": 9, \"val\": 237}, {\"x\": 12, \"y\": 9, \"val\": 254}, {\"x\": 13, \"y\": 9, \"val\": 254}, {\"x\": 14, \"y\": 9, \"val\": 254}, {\"x\": 15, \"y\": 9, \"val\": 254}, {\"x\": 16, \"y\": 9, \"val\": 254}, {\"x\": 17, \"y\": 9, \"val\": 243}, {\"x\": 18, \"y\": 9, \"val\": 80}, {\"x\": 19, \"y\": 9, \"val\": 210}, {\"x\": 20, \"y\": 9, \"val\": 248}, {\"x\": 21, \"y\": 9, \"val\": 35}, {\"x\": 22, \"y\": 9, \"val\": 0}, {\"x\": 23, \"y\": 9, \"val\": 0}, {\"x\": 24, \"y\": 9, \"val\": 0}, {\"x\": 25, \"y\": 9, \"val\": 0}, {\"x\": 26, \"y\": 9, \"val\": 0}, {\"x\": 27, \"y\": 9, \"val\": 0}, {\"x\": 28, \"y\": 9, \"val\": 0}, {\"x\": 1, \"y\": 10, \"val\": 0}, {\"x\": 2, \"y\": 10, \"val\": 0}, {\"x\": 3, \"y\": 10, \"val\": 0}, {\"x\": 4, \"y\": 10, \"val\": 0}, {\"x\": 5, \"y\": 10, \"val\": 0}, {\"x\": 6, \"y\": 10, \"val\": 0}, {\"x\": 7, \"y\": 10, \"val\": 0}, {\"x\": 8, \"y\": 10, \"val\": 0}, {\"x\": 9, \"y\": 10, \"val\": 163}, {\"x\": 10, \"y\": 10, \"val\": 251}, {\"x\": 11, \"y\": 10, \"val\": 211}, {\"x\": 12, \"y\": 10, \"val\": 107}, {\"x\": 13, \"y\": 10, \"val\": 23}, {\"x\": 14, \"y\": 10, \"val\": 36}, {\"x\": 15, \"y\": 10, \"val\": 120}, {\"x\": 16, \"y\": 10, \"val\": 240}, {\"x\": 17, \"y\": 10, \"val\": 246}, {\"x\": 18, \"y\": 10, \"val\": 98}, {\"x\": 19, \"y\": 10, \"val\": 218}, {\"x\": 20, \"y\": 10, \"val\": 143}, {\"x\": 21, \"y\": 10, \"val\": 0}, {\"x\": 22, \"y\": 10, \"val\": 0}, {\"x\": 23, \"y\": 10, \"val\": 0}, {\"x\": 24, \"y\": 10, \"val\": 0}, {\"x\": 25, \"y\": 10, \"val\": 0}, {\"x\": 26, \"y\": 10, \"val\": 0}, {\"x\": 27, \"y\": 10, \"val\": 0}, {\"x\": 28, \"y\": 10, \"val\": 0}, {\"x\": 1, \"y\": 11, \"val\": 0}, {\"x\": 2, \"y\": 11, \"val\": 0}, {\"x\": 3, \"y\": 11, \"val\": 0}, {\"x\": 4, \"y\": 11, \"val\": 0}, {\"x\": 5, \"y\": 11, \"val\": 0}, {\"x\": 6, \"y\": 11, \"val\": 0}, {\"x\": 7, \"y\": 11, \"val\": 0}, {\"x\": 8, \"y\": 11, \"val\": 47}, {\"x\": 9, \"y\": 11, \"val\": 251}, {\"x\": 10, \"y\": 11, \"val\": 166}, {\"x\": 11, \"y\": 11, \"val\": 0}, {\"x\": 12, \"y\": 11, \"val\": 0}, {\"x\": 13, \"y\": 11, \"val\": 0}, {\"x\": 14, \"y\": 11, \"val\": 0}, {\"x\": 15, \"y\": 11, \"val\": 0}, {\"x\": 16, \"y\": 11, \"val\": 16}, {\"x\": 17, \"y\": 11, \"val\": 43}, {\"x\": 18, \"y\": 11, \"val\": 189}, {\"x\": 19, \"y\": 11, \"val\": 212}, {\"x\": 20, \"y\": 11, \"val\": 25}, {\"x\": 21, \"y\": 11, \"val\": 0}, {\"x\": 22, \"y\": 11, \"val\": 0}, {\"x\": 23, \"y\": 11, \"val\": 0}, {\"x\": 24, \"y\": 11, \"val\": 0}, {\"x\": 25, \"y\": 11, \"val\": 0}, {\"x\": 26, \"y\": 11, \"val\": 0}, {\"x\": 27, \"y\": 11, \"val\": 0}, {\"x\": 28, \"y\": 11, \"val\": 0}, {\"x\": 1, \"y\": 12, \"val\": 0}, {\"x\": 2, \"y\": 12, \"val\": 0}, {\"x\": 3, \"y\": 12, \"val\": 0}, {\"x\": 4, \"y\": 12, \"val\": 0}, {\"x\": 5, \"y\": 12, \"val\": 0}, {\"x\": 6, \"y\": 12, \"val\": 0}, {\"x\": 7, \"y\": 12, \"val\": 0}, {\"x\": 8, \"y\": 12, \"val\": 40}, {\"x\": 9, \"y\": 12, \"val\": 250}, {\"x\": 10, \"y\": 12, \"val\": 214}, {\"x\": 11, \"y\": 12, \"val\": 14}, {\"x\": 12, \"y\": 12, \"val\": 0}, {\"x\": 13, \"y\": 12, \"val\": 0}, {\"x\": 14, \"y\": 12, \"val\": 0}, {\"x\": 15, \"y\": 12, \"val\": 0}, {\"x\": 16, \"y\": 12, \"val\": 10}, {\"x\": 17, \"y\": 12, \"val\": 148}, {\"x\": 18, \"y\": 12, \"val\": 250}, {\"x\": 19, \"y\": 12, \"val\": 99}, {\"x\": 20, \"y\": 12, \"val\": 0}, {\"x\": 21, \"y\": 12, \"val\": 0}, {\"x\": 22, \"y\": 12, \"val\": 0}, {\"x\": 23, \"y\": 12, \"val\": 0}, {\"x\": 24, \"y\": 12, \"val\": 0}, {\"x\": 25, \"y\": 12, \"val\": 0}, {\"x\": 26, \"y\": 12, \"val\": 0}, {\"x\": 27, \"y\": 12, \"val\": 0}, {\"x\": 28, \"y\": 12, \"val\": 0}, {\"x\": 1, \"y\": 13, \"val\": 0}, {\"x\": 2, \"y\": 13, \"val\": 0}, {\"x\": 3, \"y\": 13, \"val\": 0}, {\"x\": 4, \"y\": 13, \"val\": 0}, {\"x\": 5, \"y\": 13, \"val\": 0}, {\"x\": 6, \"y\": 13, \"val\": 0}, {\"x\": 7, \"y\": 13, \"val\": 0}, {\"x\": 8, \"y\": 13, \"val\": 0}, {\"x\": 9, \"y\": 13, \"val\": 137}, {\"x\": 10, \"y\": 13, \"val\": 254}, {\"x\": 11, \"y\": 13, \"val\": 234}, {\"x\": 12, \"y\": 13, \"val\": 103}, {\"x\": 13, \"y\": 13, \"val\": 6}, {\"x\": 14, \"y\": 13, \"val\": 0}, {\"x\": 15, \"y\": 13, \"val\": 0}, {\"x\": 16, \"y\": 13, \"val\": 154}, {\"x\": 17, \"y\": 13, \"val\": 225}, {\"x\": 18, \"y\": 13, \"val\": 85}, {\"x\": 19, \"y\": 13, \"val\": 0}, {\"x\": 20, \"y\": 13, \"val\": 0}, {\"x\": 21, \"y\": 13, \"val\": 0}, {\"x\": 22, \"y\": 13, \"val\": 0}, {\"x\": 23, \"y\": 13, \"val\": 0}, {\"x\": 24, \"y\": 13, \"val\": 0}, {\"x\": 25, \"y\": 13, \"val\": 0}, {\"x\": 26, \"y\": 13, \"val\": 0}, {\"x\": 27, \"y\": 13, \"val\": 0}, {\"x\": 28, \"y\": 13, \"val\": 0}, {\"x\": 1, \"y\": 14, \"val\": 0}, {\"x\": 2, \"y\": 14, \"val\": 0}, {\"x\": 3, \"y\": 14, \"val\": 0}, {\"x\": 4, \"y\": 14, \"val\": 0}, {\"x\": 5, \"y\": 14, \"val\": 0}, {\"x\": 6, \"y\": 14, \"val\": 0}, {\"x\": 7, \"y\": 14, \"val\": 0}, {\"x\": 8, \"y\": 14, \"val\": 0}, {\"x\": 9, \"y\": 14, \"val\": 3}, {\"x\": 10, \"y\": 14, \"val\": 44}, {\"x\": 11, \"y\": 14, \"val\": 195}, {\"x\": 12, \"y\": 14, \"val\": 254}, {\"x\": 13, \"y\": 14, \"val\": 184}, {\"x\": 14, \"y\": 14, \"val\": 24}, {\"x\": 15, \"y\": 14, \"val\": 129}, {\"x\": 16, \"y\": 14, \"val\": 235}, {\"x\": 17, \"y\": 14, \"val\": 35}, {\"x\": 18, \"y\": 14, \"val\": 0}, {\"x\": 19, \"y\": 14, \"val\": 0}, {\"x\": 20, \"y\": 14, \"val\": 0}, {\"x\": 21, \"y\": 14, \"val\": 0}, {\"x\": 22, \"y\": 14, \"val\": 0}, {\"x\": 23, \"y\": 14, \"val\": 0}, {\"x\": 24, \"y\": 14, \"val\": 0}, {\"x\": 25, \"y\": 14, \"val\": 0}, {\"x\": 26, \"y\": 14, \"val\": 0}, {\"x\": 27, \"y\": 14, \"val\": 0}, {\"x\": 28, \"y\": 14, \"val\": 0}, {\"x\": 1, \"y\": 15, \"val\": 0}, {\"x\": 2, \"y\": 15, \"val\": 0}, {\"x\": 3, \"y\": 15, \"val\": 0}, {\"x\": 4, \"y\": 15, \"val\": 0}, {\"x\": 5, \"y\": 15, \"val\": 0}, {\"x\": 6, \"y\": 15, \"val\": 0}, {\"x\": 7, \"y\": 15, \"val\": 0}, {\"x\": 8, \"y\": 15, \"val\": 0}, {\"x\": 9, \"y\": 15, \"val\": 0}, {\"x\": 10, \"y\": 15, \"val\": 0}, {\"x\": 11, \"y\": 15, \"val\": 0}, {\"x\": 12, \"y\": 15, \"val\": 101}, {\"x\": 13, \"y\": 15, \"val\": 240}, {\"x\": 14, \"y\": 15, \"val\": 254}, {\"x\": 15, \"y\": 15, \"val\": 254}, {\"x\": 16, \"y\": 15, \"val\": 66}, {\"x\": 17, \"y\": 15, \"val\": 0}, {\"x\": 18, \"y\": 15, \"val\": 0}, {\"x\": 19, \"y\": 15, \"val\": 0}, {\"x\": 20, \"y\": 15, \"val\": 0}, {\"x\": 21, \"y\": 15, \"val\": 0}, {\"x\": 22, \"y\": 15, \"val\": 0}, {\"x\": 23, \"y\": 15, \"val\": 0}, {\"x\": 24, \"y\": 15, \"val\": 0}, {\"x\": 25, \"y\": 15, \"val\": 0}, {\"x\": 26, \"y\": 15, \"val\": 0}, {\"x\": 27, \"y\": 15, \"val\": 0}, {\"x\": 28, \"y\": 15, \"val\": 0}, {\"x\": 1, \"y\": 16, \"val\": 0}, {\"x\": 2, \"y\": 16, \"val\": 0}, {\"x\": 3, \"y\": 16, \"val\": 0}, {\"x\": 4, \"y\": 16, \"val\": 0}, {\"x\": 5, \"y\": 16, \"val\": 0}, {\"x\": 6, \"y\": 16, \"val\": 0}, {\"x\": 7, \"y\": 16, \"val\": 0}, {\"x\": 8, \"y\": 16, \"val\": 0}, {\"x\": 9, \"y\": 16, \"val\": 0}, {\"x\": 10, \"y\": 16, \"val\": 0}, {\"x\": 11, \"y\": 16, \"val\": 0}, {\"x\": 12, \"y\": 16, \"val\": 0}, {\"x\": 13, \"y\": 16, \"val\": 172}, {\"x\": 14, \"y\": 16, \"val\": 254}, {\"x\": 15, \"y\": 16, \"val\": 254}, {\"x\": 16, \"y\": 16, \"val\": 108}, {\"x\": 17, \"y\": 16, \"val\": 0}, {\"x\": 18, \"y\": 16, \"val\": 0}, {\"x\": 19, \"y\": 16, \"val\": 0}, {\"x\": 20, \"y\": 16, \"val\": 0}, {\"x\": 21, \"y\": 16, \"val\": 0}, {\"x\": 22, \"y\": 16, \"val\": 0}, {\"x\": 23, \"y\": 16, \"val\": 0}, {\"x\": 24, \"y\": 16, \"val\": 0}, {\"x\": 25, \"y\": 16, \"val\": 0}, {\"x\": 26, \"y\": 16, \"val\": 0}, {\"x\": 27, \"y\": 16, \"val\": 0}, {\"x\": 28, \"y\": 16, \"val\": 0}, {\"x\": 1, \"y\": 17, \"val\": 0}, {\"x\": 2, \"y\": 17, \"val\": 0}, {\"x\": 3, \"y\": 17, \"val\": 0}, {\"x\": 4, \"y\": 17, \"val\": 0}, {\"x\": 5, \"y\": 17, \"val\": 0}, {\"x\": 6, \"y\": 17, \"val\": 0}, {\"x\": 7, \"y\": 17, \"val\": 0}, {\"x\": 8, \"y\": 17, \"val\": 0}, {\"x\": 9, \"y\": 17, \"val\": 0}, {\"x\": 10, \"y\": 17, \"val\": 0}, {\"x\": 11, \"y\": 17, \"val\": 2}, {\"x\": 12, \"y\": 17, \"val\": 154}, {\"x\": 13, \"y\": 17, \"val\": 253}, {\"x\": 14, \"y\": 17, \"val\": 98}, {\"x\": 15, \"y\": 17, \"val\": 190}, {\"x\": 16, \"y\": 17, \"val\": 254}, {\"x\": 17, \"y\": 17, \"val\": 104}, {\"x\": 18, \"y\": 17, \"val\": 0}, {\"x\": 19, \"y\": 17, \"val\": 0}, {\"x\": 20, \"y\": 17, \"val\": 0}, {\"x\": 21, \"y\": 17, \"val\": 0}, {\"x\": 22, \"y\": 17, \"val\": 0}, {\"x\": 23, \"y\": 17, \"val\": 0}, {\"x\": 24, \"y\": 17, \"val\": 0}, {\"x\": 25, \"y\": 17, \"val\": 0}, {\"x\": 26, \"y\": 17, \"val\": 0}, {\"x\": 27, \"y\": 17, \"val\": 0}, {\"x\": 28, \"y\": 17, \"val\": 0}, {\"x\": 1, \"y\": 18, \"val\": 0}, {\"x\": 2, \"y\": 18, \"val\": 0}, {\"x\": 3, \"y\": 18, \"val\": 0}, {\"x\": 4, \"y\": 18, \"val\": 0}, {\"x\": 5, \"y\": 18, \"val\": 0}, {\"x\": 6, \"y\": 18, \"val\": 0}, {\"x\": 7, \"y\": 18, \"val\": 0}, {\"x\": 8, \"y\": 18, \"val\": 0}, {\"x\": 9, \"y\": 18, \"val\": 0}, {\"x\": 10, \"y\": 18, \"val\": 0}, {\"x\": 11, \"y\": 18, \"val\": 91}, {\"x\": 12, \"y\": 18, \"val\": 254}, {\"x\": 13, \"y\": 18, \"val\": 131}, {\"x\": 14, \"y\": 18, \"val\": 0}, {\"x\": 15, \"y\": 18, \"val\": 13}, {\"x\": 16, \"y\": 18, \"val\": 212}, {\"x\": 17, \"y\": 18, \"val\": 225}, {\"x\": 18, \"y\": 18, \"val\": 64}, {\"x\": 19, \"y\": 18, \"val\": 0}, {\"x\": 20, \"y\": 18, \"val\": 0}, {\"x\": 21, \"y\": 18, \"val\": 0}, {\"x\": 22, \"y\": 18, \"val\": 0}, {\"x\": 23, \"y\": 18, \"val\": 0}, {\"x\": 24, \"y\": 18, \"val\": 0}, {\"x\": 25, \"y\": 18, \"val\": 0}, {\"x\": 26, \"y\": 18, \"val\": 0}, {\"x\": 27, \"y\": 18, \"val\": 0}, {\"x\": 28, \"y\": 18, \"val\": 0}, {\"x\": 1, \"y\": 19, \"val\": 0}, {\"x\": 2, \"y\": 19, \"val\": 0}, {\"x\": 3, \"y\": 19, \"val\": 0}, {\"x\": 4, \"y\": 19, \"val\": 0}, {\"x\": 5, \"y\": 19, \"val\": 0}, {\"x\": 6, \"y\": 19, \"val\": 0}, {\"x\": 7, \"y\": 19, \"val\": 0}, {\"x\": 8, \"y\": 19, \"val\": 0}, {\"x\": 9, \"y\": 19, \"val\": 0}, {\"x\": 10, \"y\": 19, \"val\": 20}, {\"x\": 11, \"y\": 19, \"val\": 238}, {\"x\": 12, \"y\": 19, \"val\": 254}, {\"x\": 13, \"y\": 19, \"val\": 29}, {\"x\": 14, \"y\": 19, \"val\": 0}, {\"x\": 15, \"y\": 19, \"val\": 0}, {\"x\": 16, \"y\": 19, \"val\": 55}, {\"x\": 17, \"y\": 19, \"val\": 244}, {\"x\": 18, \"y\": 19, \"val\": 195}, {\"x\": 19, \"y\": 19, \"val\": 20}, {\"x\": 20, \"y\": 19, \"val\": 0}, {\"x\": 21, \"y\": 19, \"val\": 0}, {\"x\": 22, \"y\": 19, \"val\": 0}, {\"x\": 23, \"y\": 19, \"val\": 0}, {\"x\": 24, \"y\": 19, \"val\": 0}, {\"x\": 25, \"y\": 19, \"val\": 0}, {\"x\": 26, \"y\": 19, \"val\": 0}, {\"x\": 27, \"y\": 19, \"val\": 0}, {\"x\": 28, \"y\": 19, \"val\": 0}, {\"x\": 1, \"y\": 20, \"val\": 0}, {\"x\": 2, \"y\": 20, \"val\": 0}, {\"x\": 3, \"y\": 20, \"val\": 0}, {\"x\": 4, \"y\": 20, \"val\": 0}, {\"x\": 5, \"y\": 20, \"val\": 0}, {\"x\": 6, \"y\": 20, \"val\": 0}, {\"x\": 7, \"y\": 20, \"val\": 0}, {\"x\": 8, \"y\": 20, \"val\": 0}, {\"x\": 9, \"y\": 20, \"val\": 0}, {\"x\": 10, \"y\": 20, \"val\": 90}, {\"x\": 11, \"y\": 20, \"val\": 254}, {\"x\": 12, \"y\": 20, \"val\": 219}, {\"x\": 13, \"y\": 20, \"val\": 6}, {\"x\": 14, \"y\": 20, \"val\": 0}, {\"x\": 15, \"y\": 20, \"val\": 0}, {\"x\": 16, \"y\": 20, \"val\": 0}, {\"x\": 17, \"y\": 20, \"val\": 100}, {\"x\": 18, \"y\": 20, \"val\": 254}, {\"x\": 19, \"y\": 20, \"val\": 111}, {\"x\": 20, \"y\": 20, \"val\": 0}, {\"x\": 21, \"y\": 20, \"val\": 0}, {\"x\": 22, \"y\": 20, \"val\": 0}, {\"x\": 23, \"y\": 20, \"val\": 0}, {\"x\": 24, \"y\": 20, \"val\": 0}, {\"x\": 25, \"y\": 20, \"val\": 0}, {\"x\": 26, \"y\": 20, \"val\": 0}, {\"x\": 27, \"y\": 20, \"val\": 0}, {\"x\": 28, \"y\": 20, \"val\": 0}, {\"x\": 1, \"y\": 21, \"val\": 0}, {\"x\": 2, \"y\": 21, \"val\": 0}, {\"x\": 3, \"y\": 21, \"val\": 0}, {\"x\": 4, \"y\": 21, \"val\": 0}, {\"x\": 5, \"y\": 21, \"val\": 0}, {\"x\": 6, \"y\": 21, \"val\": 0}, {\"x\": 7, \"y\": 21, \"val\": 0}, {\"x\": 8, \"y\": 21, \"val\": 0}, {\"x\": 9, \"y\": 21, \"val\": 0}, {\"x\": 10, \"y\": 21, \"val\": 127}, {\"x\": 11, \"y\": 21, \"val\": 254}, {\"x\": 12, \"y\": 21, \"val\": 116}, {\"x\": 13, \"y\": 21, \"val\": 0}, {\"x\": 14, \"y\": 21, \"val\": 0}, {\"x\": 15, \"y\": 21, \"val\": 0}, {\"x\": 16, \"y\": 21, \"val\": 0}, {\"x\": 17, \"y\": 21, \"val\": 23}, {\"x\": 18, \"y\": 21, \"val\": 248}, {\"x\": 19, \"y\": 21, \"val\": 126}, {\"x\": 20, \"y\": 21, \"val\": 0}, {\"x\": 21, \"y\": 21, \"val\": 0}, {\"x\": 22, \"y\": 21, \"val\": 0}, {\"x\": 23, \"y\": 21, \"val\": 0}, {\"x\": 24, \"y\": 21, \"val\": 0}, {\"x\": 25, \"y\": 21, \"val\": 0}, {\"x\": 26, \"y\": 21, \"val\": 0}, {\"x\": 27, \"y\": 21, \"val\": 0}, {\"x\": 28, \"y\": 21, \"val\": 0}, {\"x\": 1, \"y\": 22, \"val\": 0}, {\"x\": 2, \"y\": 22, \"val\": 0}, {\"x\": 3, \"y\": 22, \"val\": 0}, {\"x\": 4, \"y\": 22, \"val\": 0}, {\"x\": 5, \"y\": 22, \"val\": 0}, {\"x\": 6, \"y\": 22, \"val\": 0}, {\"x\": 7, \"y\": 22, \"val\": 0}, {\"x\": 8, \"y\": 22, \"val\": 0}, {\"x\": 9, \"y\": 22, \"val\": 0}, {\"x\": 10, \"y\": 22, \"val\": 127}, {\"x\": 11, \"y\": 22, \"val\": 254}, {\"x\": 12, \"y\": 22, \"val\": 63}, {\"x\": 13, \"y\": 22, \"val\": 0}, {\"x\": 14, \"y\": 22, \"val\": 0}, {\"x\": 15, \"y\": 22, \"val\": 0}, {\"x\": 16, \"y\": 22, \"val\": 0}, {\"x\": 17, \"y\": 22, \"val\": 49}, {\"x\": 18, \"y\": 22, \"val\": 252}, {\"x\": 19, \"y\": 22, \"val\": 126}, {\"x\": 20, \"y\": 22, \"val\": 0}, {\"x\": 21, \"y\": 22, \"val\": 0}, {\"x\": 22, \"y\": 22, \"val\": 0}, {\"x\": 23, \"y\": 22, \"val\": 0}, {\"x\": 24, \"y\": 22, \"val\": 0}, {\"x\": 25, \"y\": 22, \"val\": 0}, {\"x\": 26, \"y\": 22, \"val\": 0}, {\"x\": 27, \"y\": 22, \"val\": 0}, {\"x\": 28, \"y\": 22, \"val\": 0}, {\"x\": 1, \"y\": 23, \"val\": 0}, {\"x\": 2, \"y\": 23, \"val\": 0}, {\"x\": 3, \"y\": 23, \"val\": 0}, {\"x\": 4, \"y\": 23, \"val\": 0}, {\"x\": 5, \"y\": 23, \"val\": 0}, {\"x\": 6, \"y\": 23, \"val\": 0}, {\"x\": 7, \"y\": 23, \"val\": 0}, {\"x\": 8, \"y\": 23, \"val\": 0}, {\"x\": 9, \"y\": 23, \"val\": 0}, {\"x\": 10, \"y\": 23, \"val\": 124}, {\"x\": 11, \"y\": 23, \"val\": 248}, {\"x\": 12, \"y\": 23, \"val\": 29}, {\"x\": 13, \"y\": 23, \"val\": 0}, {\"x\": 14, \"y\": 23, \"val\": 0}, {\"x\": 15, \"y\": 23, \"val\": 0}, {\"x\": 16, \"y\": 23, \"val\": 38}, {\"x\": 17, \"y\": 23, \"val\": 167}, {\"x\": 18, \"y\": 23, \"val\": 254}, {\"x\": 19, \"y\": 23, \"val\": 101}, {\"x\": 20, \"y\": 23, \"val\": 0}, {\"x\": 21, \"y\": 23, \"val\": 0}, {\"x\": 22, \"y\": 23, \"val\": 0}, {\"x\": 23, \"y\": 23, \"val\": 0}, {\"x\": 24, \"y\": 23, \"val\": 0}, {\"x\": 25, \"y\": 23, \"val\": 0}, {\"x\": 26, \"y\": 23, \"val\": 0}, {\"x\": 27, \"y\": 23, \"val\": 0}, {\"x\": 28, \"y\": 23, \"val\": 0}, {\"x\": 1, \"y\": 24, \"val\": 0}, {\"x\": 2, \"y\": 24, \"val\": 0}, {\"x\": 3, \"y\": 24, \"val\": 0}, {\"x\": 4, \"y\": 24, \"val\": 0}, {\"x\": 5, \"y\": 24, \"val\": 0}, {\"x\": 6, \"y\": 24, \"val\": 0}, {\"x\": 7, \"y\": 24, \"val\": 0}, {\"x\": 8, \"y\": 24, \"val\": 0}, {\"x\": 9, \"y\": 24, \"val\": 0}, {\"x\": 10, \"y\": 24, \"val\": 29}, {\"x\": 11, \"y\": 24, \"val\": 233}, {\"x\": 12, \"y\": 24, \"val\": 211}, {\"x\": 13, \"y\": 24, \"val\": 115}, {\"x\": 14, \"y\": 24, \"val\": 115}, {\"x\": 15, \"y\": 24, \"val\": 135}, {\"x\": 16, \"y\": 24, \"val\": 254}, {\"x\": 17, \"y\": 24, \"val\": 244}, {\"x\": 18, \"y\": 24, \"val\": 130}, {\"x\": 19, \"y\": 24, \"val\": 0}, {\"x\": 20, \"y\": 24, \"val\": 0}, {\"x\": 21, \"y\": 24, \"val\": 0}, {\"x\": 22, \"y\": 24, \"val\": 0}, {\"x\": 23, \"y\": 24, \"val\": 0}, {\"x\": 24, \"y\": 24, \"val\": 0}, {\"x\": 25, \"y\": 24, \"val\": 0}, {\"x\": 26, \"y\": 24, \"val\": 0}, {\"x\": 27, \"y\": 24, \"val\": 0}, {\"x\": 28, \"y\": 24, \"val\": 0}, {\"x\": 1, \"y\": 25, \"val\": 0}, {\"x\": 2, \"y\": 25, \"val\": 0}, {\"x\": 3, \"y\": 25, \"val\": 0}, {\"x\": 4, \"y\": 25, \"val\": 0}, {\"x\": 5, \"y\": 25, \"val\": 0}, {\"x\": 6, \"y\": 25, \"val\": 0}, {\"x\": 7, \"y\": 25, \"val\": 0}, {\"x\": 8, \"y\": 25, \"val\": 0}, {\"x\": 9, \"y\": 25, \"val\": 0}, {\"x\": 10, \"y\": 25, \"val\": 0}, {\"x\": 11, \"y\": 25, \"val\": 70}, {\"x\": 12, \"y\": 25, \"val\": 236}, {\"x\": 13, \"y\": 25, \"val\": 254}, {\"x\": 14, \"y\": 25, \"val\": 254}, {\"x\": 15, \"y\": 25, \"val\": 254}, {\"x\": 16, \"y\": 25, \"val\": 173}, {\"x\": 17, \"y\": 25, \"val\": 38}, {\"x\": 18, \"y\": 25, \"val\": 0}, {\"x\": 19, \"y\": 25, \"val\": 0}, {\"x\": 20, \"y\": 25, \"val\": 0}, {\"x\": 21, \"y\": 25, \"val\": 0}, {\"x\": 22, \"y\": 25, \"val\": 0}, {\"x\": 23, \"y\": 25, \"val\": 0}, {\"x\": 24, \"y\": 25, \"val\": 0}, {\"x\": 25, \"y\": 25, \"val\": 0}, {\"x\": 26, \"y\": 25, \"val\": 0}, {\"x\": 27, \"y\": 25, \"val\": 0}, {\"x\": 28, \"y\": 25, \"val\": 0}, {\"x\": 1, \"y\": 26, \"val\": 0}, {\"x\": 2, \"y\": 26, \"val\": 0}, {\"x\": 3, \"y\": 26, \"val\": 0}, {\"x\": 4, \"y\": 26, \"val\": 0}, {\"x\": 5, \"y\": 26, \"val\": 0}, {\"x\": 6, \"y\": 26, \"val\": 0}, {\"x\": 7, \"y\": 26, \"val\": 0}, {\"x\": 8, \"y\": 26, \"val\": 0}, {\"x\": 9, \"y\": 26, \"val\": 0}, {\"x\": 10, \"y\": 26, \"val\": 0}, {\"x\": 11, \"y\": 26, \"val\": 0}, {\"x\": 12, \"y\": 26, \"val\": 0}, {\"x\": 13, \"y\": 26, \"val\": 0}, {\"x\": 14, \"y\": 26, \"val\": 0}, {\"x\": 15, \"y\": 26, \"val\": 0}, {\"x\": 16, \"y\": 26, \"val\": 0}, {\"x\": 17, \"y\": 26, \"val\": 0}, {\"x\": 18, \"y\": 26, \"val\": 0}, {\"x\": 19, \"y\": 26, \"val\": 0}, {\"x\": 20, \"y\": 26, \"val\": 0}, {\"x\": 21, \"y\": 26, \"val\": 0}, {\"x\": 22, \"y\": 26, \"val\": 0}, {\"x\": 23, \"y\": 26, \"val\": 0}, {\"x\": 24, \"y\": 26, \"val\": 0}, {\"x\": 25, \"y\": 26, \"val\": 0}, {\"x\": 26, \"y\": 26, \"val\": 0}, {\"x\": 27, \"y\": 26, \"val\": 0}, {\"x\": 28, \"y\": 26, \"val\": 0}, {\"x\": 1, \"y\": 27, \"val\": 0}, {\"x\": 2, \"y\": 27, \"val\": 0}, {\"x\": 3, \"y\": 27, \"val\": 0}, {\"x\": 4, \"y\": 27, \"val\": 0}, {\"x\": 5, \"y\": 27, \"val\": 0}, {\"x\": 6, \"y\": 27, \"val\": 0}, {\"x\": 7, \"y\": 27, \"val\": 0}, {\"x\": 8, \"y\": 27, \"val\": 0}, {\"x\": 9, \"y\": 27, \"val\": 0}, {\"x\": 10, \"y\": 27, \"val\": 0}, {\"x\": 11, \"y\": 27, \"val\": 0}, {\"x\": 12, \"y\": 27, \"val\": 0}, {\"x\": 13, \"y\": 27, \"val\": 0}, {\"x\": 14, \"y\": 27, \"val\": 0}, {\"x\": 15, \"y\": 27, \"val\": 0}, {\"x\": 16, \"y\": 27, \"val\": 0}, {\"x\": 17, \"y\": 27, \"val\": 0}, {\"x\": 18, \"y\": 27, \"val\": 0}, {\"x\": 19, \"y\": 27, \"val\": 0}, {\"x\": 20, \"y\": 27, \"val\": 0}, {\"x\": 21, \"y\": 27, \"val\": 0}, {\"x\": 22, \"y\": 27, \"val\": 0}, {\"x\": 23, \"y\": 27, \"val\": 0}, {\"x\": 24, \"y\": 27, \"val\": 0}, {\"x\": 25, \"y\": 27, \"val\": 0}, {\"x\": 26, \"y\": 27, \"val\": 0}, {\"x\": 27, \"y\": 27, \"val\": 0}, {\"x\": 28, \"y\": 27, \"val\": 0}, {\"x\": 1, \"y\": 28, \"val\": 0}, {\"x\": 2, \"y\": 28, \"val\": 0}, {\"x\": 3, \"y\": 28, \"val\": 0}, {\"x\": 4, \"y\": 28, \"val\": 0}, {\"x\": 5, \"y\": 28, \"val\": 0}, {\"x\": 6, \"y\": 28, \"val\": 0}, {\"x\": 7, \"y\": 28, \"val\": 0}, {\"x\": 8, \"y\": 28, \"val\": 0}, {\"x\": 9, \"y\": 28, \"val\": 0}, {\"x\": 10, \"y\": 28, \"val\": 0}, {\"x\": 11, \"y\": 28, \"val\": 0}, {\"x\": 12, \"y\": 28, \"val\": 0}, {\"x\": 13, \"y\": 28, \"val\": 0}, {\"x\": 14, \"y\": 28, \"val\": 0}, {\"x\": 15, \"y\": 28, \"val\": 0}, {\"x\": 16, \"y\": 28, \"val\": 0}, {\"x\": 17, \"y\": 28, \"val\": 0}, {\"x\": 18, \"y\": 28, \"val\": 0}, {\"x\": 19, \"y\": 28, \"val\": 0}, {\"x\": 20, \"y\": 28, \"val\": 0}, {\"x\": 21, \"y\": 28, \"val\": 0}, {\"x\": 22, \"y\": 28, \"val\": 0}, {\"x\": 23, \"y\": 28, \"val\": 0}, {\"x\": 24, \"y\": 28, \"val\": 0}, {\"x\": 25, \"y\": 28, \"val\": 0}, {\"x\": 26, \"y\": 28, \"val\": 0}, {\"x\": 27, \"y\": 28, \"val\": 0}, {\"x\": 28, \"y\": 28, \"val\": 0}], \"data-65345d07b98c601d78167796a202411f\": [{\"x\": 1, \"y\": 1, \"val\": 0}, {\"x\": 2, \"y\": 1, \"val\": 0}, {\"x\": 3, \"y\": 1, \"val\": 0}, {\"x\": 4, \"y\": 1, \"val\": 0}, {\"x\": 5, \"y\": 1, \"val\": 0}, {\"x\": 6, \"y\": 1, \"val\": 0}, {\"x\": 7, \"y\": 1, \"val\": 0}, {\"x\": 8, \"y\": 1, \"val\": 0}, {\"x\": 9, \"y\": 1, \"val\": 0}, {\"x\": 10, \"y\": 1, \"val\": 0}, {\"x\": 11, \"y\": 1, \"val\": 0}, {\"x\": 12, \"y\": 1, \"val\": 0}, {\"x\": 13, \"y\": 1, \"val\": 0}, {\"x\": 14, \"y\": 1, \"val\": 0}, {\"x\": 15, \"y\": 1, \"val\": 0}, {\"x\": 16, \"y\": 1, \"val\": 0}, {\"x\": 17, \"y\": 1, \"val\": 0}, {\"x\": 18, \"y\": 1, \"val\": 0}, {\"x\": 19, \"y\": 1, \"val\": 0}, {\"x\": 20, \"y\": 1, \"val\": 0}, {\"x\": 21, \"y\": 1, \"val\": 0}, {\"x\": 22, \"y\": 1, \"val\": 0}, {\"x\": 23, \"y\": 1, \"val\": 0}, {\"x\": 24, \"y\": 1, \"val\": 0}, {\"x\": 25, \"y\": 1, \"val\": 0}, {\"x\": 26, \"y\": 1, \"val\": 0}, {\"x\": 27, \"y\": 1, \"val\": 0}, {\"x\": 28, \"y\": 1, \"val\": 0}, {\"x\": 1, \"y\": 2, \"val\": 0}, {\"x\": 2, \"y\": 2, \"val\": 0}, {\"x\": 3, \"y\": 2, \"val\": 0}, {\"x\": 4, \"y\": 2, \"val\": 0}, {\"x\": 5, \"y\": 2, \"val\": 0}, {\"x\": 6, \"y\": 2, \"val\": 0}, {\"x\": 7, \"y\": 2, \"val\": 0}, {\"x\": 8, \"y\": 2, \"val\": 0}, {\"x\": 9, \"y\": 2, \"val\": 0}, {\"x\": 10, \"y\": 2, \"val\": 0}, {\"x\": 11, \"y\": 2, \"val\": 0}, {\"x\": 12, \"y\": 2, \"val\": 0}, {\"x\": 13, \"y\": 2, \"val\": 0}, {\"x\": 14, \"y\": 2, \"val\": 0}, {\"x\": 15, \"y\": 2, \"val\": 0}, {\"x\": 16, \"y\": 2, \"val\": 0}, {\"x\": 17, \"y\": 2, \"val\": 0}, {\"x\": 18, \"y\": 2, \"val\": 0}, {\"x\": 19, \"y\": 2, \"val\": 0}, {\"x\": 20, \"y\": 2, \"val\": 0}, {\"x\": 21, \"y\": 2, \"val\": 0}, {\"x\": 22, \"y\": 2, \"val\": 0}, {\"x\": 23, \"y\": 2, \"val\": 0}, {\"x\": 24, \"y\": 2, \"val\": 0}, {\"x\": 25, \"y\": 2, \"val\": 0}, {\"x\": 26, \"y\": 2, \"val\": 0}, {\"x\": 27, \"y\": 2, \"val\": 0}, {\"x\": 28, \"y\": 2, \"val\": 0}, {\"x\": 1, \"y\": 3, \"val\": 0}, {\"x\": 2, \"y\": 3, \"val\": 0}, {\"x\": 3, \"y\": 3, \"val\": 0}, {\"x\": 4, \"y\": 3, \"val\": 0}, {\"x\": 5, \"y\": 3, \"val\": 0}, {\"x\": 6, \"y\": 3, \"val\": 0}, {\"x\": 7, \"y\": 3, \"val\": 0}, {\"x\": 8, \"y\": 3, \"val\": 0}, {\"x\": 9, \"y\": 3, \"val\": 0}, {\"x\": 10, \"y\": 3, \"val\": 0}, {\"x\": 11, \"y\": 3, \"val\": 0}, {\"x\": 12, \"y\": 3, \"val\": 0}, {\"x\": 13, \"y\": 3, \"val\": 0}, {\"x\": 14, \"y\": 3, \"val\": 0}, {\"x\": 15, \"y\": 3, \"val\": 0}, {\"x\": 16, \"y\": 3, \"val\": 0}, {\"x\": 17, \"y\": 3, \"val\": 0}, {\"x\": 18, \"y\": 3, \"val\": 0}, {\"x\": 19, \"y\": 3, \"val\": 0}, {\"x\": 20, \"y\": 3, \"val\": 0}, {\"x\": 21, \"y\": 3, \"val\": 0}, {\"x\": 22, \"y\": 3, \"val\": 0}, {\"x\": 23, \"y\": 3, \"val\": 0}, {\"x\": 24, \"y\": 3, \"val\": 0}, {\"x\": 25, \"y\": 3, \"val\": 0}, {\"x\": 26, \"y\": 3, \"val\": 0}, {\"x\": 27, \"y\": 3, \"val\": 0}, {\"x\": 28, \"y\": 3, \"val\": 0}, {\"x\": 1, \"y\": 4, \"val\": 0}, {\"x\": 2, \"y\": 4, \"val\": 0}, {\"x\": 3, \"y\": 4, \"val\": 0}, {\"x\": 4, \"y\": 4, \"val\": 0}, {\"x\": 5, \"y\": 4, \"val\": 0}, {\"x\": 6, \"y\": 4, \"val\": 0}, {\"x\": 7, \"y\": 4, \"val\": 0}, {\"x\": 8, \"y\": 4, \"val\": 0}, {\"x\": 9, \"y\": 4, \"val\": 0}, {\"x\": 10, \"y\": 4, \"val\": 0}, {\"x\": 11, \"y\": 4, \"val\": 0}, {\"x\": 12, \"y\": 4, \"val\": 0}, {\"x\": 13, \"y\": 4, \"val\": 0}, {\"x\": 14, \"y\": 4, \"val\": 0}, {\"x\": 15, \"y\": 4, \"val\": 0}, {\"x\": 16, \"y\": 4, \"val\": 0}, {\"x\": 17, \"y\": 4, \"val\": 0}, {\"x\": 18, \"y\": 4, \"val\": 0}, {\"x\": 19, \"y\": 4, \"val\": 0}, {\"x\": 20, \"y\": 4, \"val\": 0}, {\"x\": 21, \"y\": 4, \"val\": 0}, {\"x\": 22, \"y\": 4, \"val\": 0}, {\"x\": 23, \"y\": 4, \"val\": 0}, {\"x\": 24, \"y\": 4, \"val\": 0}, {\"x\": 25, \"y\": 4, \"val\": 0}, {\"x\": 26, \"y\": 4, \"val\": 0}, {\"x\": 27, \"y\": 4, \"val\": 0}, {\"x\": 28, \"y\": 4, \"val\": 0}, {\"x\": 1, \"y\": 5, \"val\": 0}, {\"x\": 2, \"y\": 5, \"val\": 0}, {\"x\": 3, \"y\": 5, \"val\": 0}, {\"x\": 4, \"y\": 5, \"val\": 0}, {\"x\": 5, \"y\": 5, \"val\": 0}, {\"x\": 6, \"y\": 5, \"val\": 0}, {\"x\": 7, \"y\": 5, \"val\": 0}, {\"x\": 8, \"y\": 5, \"val\": 0}, {\"x\": 9, \"y\": 5, \"val\": 0}, {\"x\": 10, \"y\": 5, \"val\": 0}, {\"x\": 11, \"y\": 5, \"val\": 0}, {\"x\": 12, \"y\": 5, \"val\": 0}, {\"x\": 13, \"y\": 5, \"val\": 0}, {\"x\": 14, \"y\": 5, \"val\": 0}, {\"x\": 15, \"y\": 5, \"val\": 0}, {\"x\": 16, \"y\": 5, \"val\": 0}, {\"x\": 17, \"y\": 5, \"val\": 0}, {\"x\": 18, \"y\": 5, \"val\": 0}, {\"x\": 19, \"y\": 5, \"val\": 0}, {\"x\": 20, \"y\": 5, \"val\": 0}, {\"x\": 21, \"y\": 5, \"val\": 0}, {\"x\": 22, \"y\": 5, \"val\": 0}, {\"x\": 23, \"y\": 5, \"val\": 0}, {\"x\": 24, \"y\": 5, \"val\": 0}, {\"x\": 25, \"y\": 5, \"val\": 0}, {\"x\": 26, \"y\": 5, \"val\": 0}, {\"x\": 27, \"y\": 5, \"val\": 0}, {\"x\": 28, \"y\": 5, \"val\": 0}, {\"x\": 1, \"y\": 6, \"val\": 0}, {\"x\": 2, \"y\": 6, \"val\": 0}, {\"x\": 3, \"y\": 6, \"val\": 0}, {\"x\": 4, \"y\": 6, \"val\": 0}, {\"x\": 5, \"y\": 6, \"val\": 0}, {\"x\": 6, \"y\": 6, \"val\": 0}, {\"x\": 7, \"y\": 6, \"val\": 0}, {\"x\": 8, \"y\": 6, \"val\": 0}, {\"x\": 9, \"y\": 6, \"val\": 0}, {\"x\": 10, \"y\": 6, \"val\": 0}, {\"x\": 11, \"y\": 6, \"val\": 0}, {\"x\": 12, \"y\": 6, \"val\": 0}, {\"x\": 13, \"y\": 6, \"val\": 0}, {\"x\": 14, \"y\": 6, \"val\": 0}, {\"x\": 15, \"y\": 6, \"val\": 0}, {\"x\": 16, \"y\": 6, \"val\": 0}, {\"x\": 17, \"y\": 6, \"val\": 0}, {\"x\": 18, \"y\": 6, \"val\": 0}, {\"x\": 19, \"y\": 6, \"val\": 0}, {\"x\": 20, \"y\": 6, \"val\": 0}, {\"x\": 21, \"y\": 6, \"val\": 0}, {\"x\": 22, \"y\": 6, \"val\": 0}, {\"x\": 23, \"y\": 6, \"val\": 0}, {\"x\": 24, \"y\": 6, \"val\": 0}, {\"x\": 25, \"y\": 6, \"val\": 0}, {\"x\": 26, \"y\": 6, \"val\": 0}, {\"x\": 27, \"y\": 6, \"val\": 0}, {\"x\": 28, \"y\": 6, \"val\": 0}, {\"x\": 1, \"y\": 7, \"val\": 0}, {\"x\": 2, \"y\": 7, \"val\": 0}, {\"x\": 3, \"y\": 7, \"val\": 0}, {\"x\": 4, \"y\": 7, \"val\": 0}, {\"x\": 5, \"y\": 7, \"val\": 0}, {\"x\": 6, \"y\": 7, \"val\": 0}, {\"x\": 7, \"y\": 7, \"val\": 0}, {\"x\": 8, \"y\": 7, \"val\": 0}, {\"x\": 9, \"y\": 7, \"val\": 0}, {\"x\": 10, \"y\": 7, \"val\": 0}, {\"x\": 11, \"y\": 7, \"val\": 0}, {\"x\": 12, \"y\": 7, \"val\": 0}, {\"x\": 13, \"y\": 7, \"val\": 0}, {\"x\": 14, \"y\": 7, \"val\": 0}, {\"x\": 15, \"y\": 7, \"val\": 0}, {\"x\": 16, \"y\": 7, \"val\": 0}, {\"x\": 17, \"y\": 7, \"val\": 0}, {\"x\": 18, \"y\": 7, \"val\": 0}, {\"x\": 19, \"y\": 7, \"val\": 0}, {\"x\": 20, \"y\": 7, \"val\": 0}, {\"x\": 21, \"y\": 7, \"val\": 0}, {\"x\": 22, \"y\": 7, \"val\": 0}, {\"x\": 23, \"y\": 7, \"val\": 0}, {\"x\": 24, \"y\": 7, \"val\": 0}, {\"x\": 25, \"y\": 7, \"val\": 0}, {\"x\": 26, \"y\": 7, \"val\": 0}, {\"x\": 27, \"y\": 7, \"val\": 0}, {\"x\": 28, \"y\": 7, \"val\": 0}, {\"x\": 1, \"y\": 8, \"val\": 0}, {\"x\": 2, \"y\": 8, \"val\": 0}, {\"x\": 3, \"y\": 8, \"val\": 0}, {\"x\": 4, \"y\": 8, \"val\": 0}, {\"x\": 5, \"y\": 8, \"val\": 0}, {\"x\": 6, \"y\": 8, \"val\": 0}, {\"x\": 7, \"y\": 8, \"val\": 0}, {\"x\": 8, \"y\": 8, \"val\": 1}, {\"x\": 9, \"y\": 8, \"val\": 109}, {\"x\": 10, \"y\": 8, \"val\": 109}, {\"x\": 11, \"y\": 8, \"val\": 109}, {\"x\": 12, \"y\": 8, \"val\": 109}, {\"x\": 13, \"y\": 8, \"val\": 110}, {\"x\": 14, \"y\": 8, \"val\": 109}, {\"x\": 15, \"y\": 8, \"val\": 129}, {\"x\": 16, \"y\": 8, \"val\": 253}, {\"x\": 17, \"y\": 8, \"val\": 110}, {\"x\": 18, \"y\": 8, \"val\": 109}, {\"x\": 19, \"y\": 8, \"val\": 31}, {\"x\": 20, \"y\": 8, \"val\": 0}, {\"x\": 21, \"y\": 8, \"val\": 0}, {\"x\": 22, \"y\": 8, \"val\": 0}, {\"x\": 23, \"y\": 8, \"val\": 0}, {\"x\": 24, \"y\": 8, \"val\": 0}, {\"x\": 25, \"y\": 8, \"val\": 0}, {\"x\": 26, \"y\": 8, \"val\": 0}, {\"x\": 27, \"y\": 8, \"val\": 0}, {\"x\": 28, \"y\": 8, \"val\": 0}, {\"x\": 1, \"y\": 9, \"val\": 0}, {\"x\": 2, \"y\": 9, \"val\": 0}, {\"x\": 3, \"y\": 9, \"val\": 0}, {\"x\": 4, \"y\": 9, \"val\": 0}, {\"x\": 5, \"y\": 9, \"val\": 0}, {\"x\": 6, \"y\": 9, \"val\": 21}, {\"x\": 7, \"y\": 9, \"val\": 94}, {\"x\": 8, \"y\": 9, \"val\": 217}, {\"x\": 9, \"y\": 9, \"val\": 252}, {\"x\": 10, \"y\": 9, \"val\": 252}, {\"x\": 11, \"y\": 9, \"val\": 252}, {\"x\": 12, \"y\": 9, \"val\": 252}, {\"x\": 13, \"y\": 9, \"val\": 253}, {\"x\": 14, \"y\": 9, \"val\": 252}, {\"x\": 15, \"y\": 9, \"val\": 252}, {\"x\": 16, \"y\": 9, \"val\": 252}, {\"x\": 17, \"y\": 9, \"val\": 253}, {\"x\": 18, \"y\": 9, \"val\": 252}, {\"x\": 19, \"y\": 9, \"val\": 227}, {\"x\": 20, \"y\": 9, \"val\": 134}, {\"x\": 21, \"y\": 9, \"val\": 42}, {\"x\": 22, \"y\": 9, \"val\": 0}, {\"x\": 23, \"y\": 9, \"val\": 0}, {\"x\": 24, \"y\": 9, \"val\": 0}, {\"x\": 25, \"y\": 9, \"val\": 0}, {\"x\": 26, \"y\": 9, \"val\": 0}, {\"x\": 27, \"y\": 9, \"val\": 0}, {\"x\": 28, \"y\": 9, \"val\": 0}, {\"x\": 1, \"y\": 10, \"val\": 0}, {\"x\": 2, \"y\": 10, \"val\": 0}, {\"x\": 3, \"y\": 10, \"val\": 0}, {\"x\": 4, \"y\": 10, \"val\": 0}, {\"x\": 5, \"y\": 10, \"val\": 0}, {\"x\": 6, \"y\": 10, \"val\": 176}, {\"x\": 7, \"y\": 10, \"val\": 252}, {\"x\": 8, \"y\": 10, \"val\": 252}, {\"x\": 9, \"y\": 10, \"val\": 252}, {\"x\": 10, \"y\": 10, \"val\": 252}, {\"x\": 11, \"y\": 10, \"val\": 252}, {\"x\": 12, \"y\": 10, \"val\": 252}, {\"x\": 13, \"y\": 10, \"val\": 253}, {\"x\": 14, \"y\": 10, \"val\": 252}, {\"x\": 15, \"y\": 10, \"val\": 252}, {\"x\": 16, \"y\": 10, \"val\": 252}, {\"x\": 17, \"y\": 10, \"val\": 253}, {\"x\": 18, \"y\": 10, \"val\": 252}, {\"x\": 19, \"y\": 10, \"val\": 252}, {\"x\": 20, \"y\": 10, \"val\": 252}, {\"x\": 21, \"y\": 10, \"val\": 222}, {\"x\": 22, \"y\": 10, \"val\": 139}, {\"x\": 23, \"y\": 10, \"val\": 11}, {\"x\": 24, \"y\": 10, \"val\": 0}, {\"x\": 25, \"y\": 10, \"val\": 0}, {\"x\": 26, \"y\": 10, \"val\": 0}, {\"x\": 27, \"y\": 10, \"val\": 0}, {\"x\": 28, \"y\": 10, \"val\": 0}, {\"x\": 1, \"y\": 11, \"val\": 0}, {\"x\": 2, \"y\": 11, \"val\": 0}, {\"x\": 3, \"y\": 11, \"val\": 0}, {\"x\": 4, \"y\": 11, \"val\": 0}, {\"x\": 5, \"y\": 11, \"val\": 0}, {\"x\": 6, \"y\": 11, \"val\": 217}, {\"x\": 7, \"y\": 11, \"val\": 252}, {\"x\": 8, \"y\": 11, \"val\": 252}, {\"x\": 9, \"y\": 11, \"val\": 252}, {\"x\": 10, \"y\": 11, \"val\": 128}, {\"x\": 11, \"y\": 11, \"val\": 108}, {\"x\": 12, \"y\": 11, \"val\": 108}, {\"x\": 13, \"y\": 11, \"val\": 108}, {\"x\": 14, \"y\": 11, \"val\": 108}, {\"x\": 15, \"y\": 11, \"val\": 108}, {\"x\": 16, \"y\": 11, \"val\": 108}, {\"x\": 17, \"y\": 11, \"val\": 108}, {\"x\": 18, \"y\": 11, \"val\": 232}, {\"x\": 19, \"y\": 11, \"val\": 252}, {\"x\": 20, \"y\": 11, \"val\": 252}, {\"x\": 21, \"y\": 11, \"val\": 253}, {\"x\": 22, \"y\": 11, \"val\": 252}, {\"x\": 23, \"y\": 11, \"val\": 71}, {\"x\": 24, \"y\": 11, \"val\": 0}, {\"x\": 25, \"y\": 11, \"val\": 0}, {\"x\": 26, \"y\": 11, \"val\": 0}, {\"x\": 27, \"y\": 11, \"val\": 0}, {\"x\": 28, \"y\": 11, \"val\": 0}, {\"x\": 1, \"y\": 12, \"val\": 0}, {\"x\": 2, \"y\": 12, \"val\": 0}, {\"x\": 3, \"y\": 12, \"val\": 0}, {\"x\": 4, \"y\": 12, \"val\": 0}, {\"x\": 5, \"y\": 12, \"val\": 0}, {\"x\": 6, \"y\": 12, \"val\": 42}, {\"x\": 7, \"y\": 12, \"val\": 159}, {\"x\": 8, \"y\": 12, \"val\": 252}, {\"x\": 9, \"y\": 12, \"val\": 252}, {\"x\": 10, \"y\": 12, \"val\": 210}, {\"x\": 11, \"y\": 12, \"val\": 31}, {\"x\": 12, \"y\": 12, \"val\": 0}, {\"x\": 13, \"y\": 12, \"val\": 0}, {\"x\": 14, \"y\": 12, \"val\": 0}, {\"x\": 15, \"y\": 12, \"val\": 0}, {\"x\": 16, \"y\": 12, \"val\": 0}, {\"x\": 17, \"y\": 12, \"val\": 0}, {\"x\": 18, \"y\": 12, \"val\": 0}, {\"x\": 19, \"y\": 12, \"val\": 37}, {\"x\": 20, \"y\": 12, \"val\": 252}, {\"x\": 21, \"y\": 12, \"val\": 253}, {\"x\": 22, \"y\": 12, \"val\": 252}, {\"x\": 23, \"y\": 12, \"val\": 71}, {\"x\": 24, \"y\": 12, \"val\": 0}, {\"x\": 25, \"y\": 12, \"val\": 0}, {\"x\": 26, \"y\": 12, \"val\": 0}, {\"x\": 27, \"y\": 12, \"val\": 0}, {\"x\": 28, \"y\": 12, \"val\": 0}, {\"x\": 1, \"y\": 13, \"val\": 0}, {\"x\": 2, \"y\": 13, \"val\": 0}, {\"x\": 3, \"y\": 13, \"val\": 0}, {\"x\": 4, \"y\": 13, \"val\": 0}, {\"x\": 5, \"y\": 13, \"val\": 0}, {\"x\": 6, \"y\": 13, \"val\": 0}, {\"x\": 7, \"y\": 13, \"val\": 5}, {\"x\": 8, \"y\": 13, \"val\": 119}, {\"x\": 9, \"y\": 13, \"val\": 210}, {\"x\": 10, \"y\": 13, \"val\": 252}, {\"x\": 11, \"y\": 13, \"val\": 124}, {\"x\": 12, \"y\": 13, \"val\": 31}, {\"x\": 13, \"y\": 13, \"val\": 0}, {\"x\": 14, \"y\": 13, \"val\": 0}, {\"x\": 15, \"y\": 13, \"val\": 0}, {\"x\": 16, \"y\": 13, \"val\": 0}, {\"x\": 17, \"y\": 13, \"val\": 0}, {\"x\": 18, \"y\": 13, \"val\": 0}, {\"x\": 19, \"y\": 13, \"val\": 37}, {\"x\": 20, \"y\": 13, \"val\": 252}, {\"x\": 21, \"y\": 13, \"val\": 253}, {\"x\": 22, \"y\": 13, \"val\": 231}, {\"x\": 23, \"y\": 13, \"val\": 51}, {\"x\": 24, \"y\": 13, \"val\": 0}, {\"x\": 25, \"y\": 13, \"val\": 0}, {\"x\": 26, \"y\": 13, \"val\": 0}, {\"x\": 27, \"y\": 13, \"val\": 0}, {\"x\": 28, \"y\": 13, \"val\": 0}, {\"x\": 1, \"y\": 14, \"val\": 0}, {\"x\": 2, \"y\": 14, \"val\": 0}, {\"x\": 3, \"y\": 14, \"val\": 0}, {\"x\": 4, \"y\": 14, \"val\": 0}, {\"x\": 5, \"y\": 14, \"val\": 0}, {\"x\": 6, \"y\": 14, \"val\": 0}, {\"x\": 7, \"y\": 14, \"val\": 0}, {\"x\": 8, \"y\": 14, \"val\": 0}, {\"x\": 9, \"y\": 14, \"val\": 31}, {\"x\": 10, \"y\": 14, \"val\": 195}, {\"x\": 11, \"y\": 14, \"val\": 195}, {\"x\": 12, \"y\": 14, \"val\": 31}, {\"x\": 13, \"y\": 14, \"val\": 0}, {\"x\": 14, \"y\": 14, \"val\": 0}, {\"x\": 15, \"y\": 14, \"val\": 0}, {\"x\": 16, \"y\": 14, \"val\": 0}, {\"x\": 17, \"y\": 14, \"val\": 0}, {\"x\": 18, \"y\": 14, \"val\": 0}, {\"x\": 19, \"y\": 14, \"val\": 140}, {\"x\": 20, \"y\": 14, \"val\": 252}, {\"x\": 21, \"y\": 14, \"val\": 253}, {\"x\": 22, \"y\": 14, \"val\": 158}, {\"x\": 23, \"y\": 14, \"val\": 0}, {\"x\": 24, \"y\": 14, \"val\": 0}, {\"x\": 25, \"y\": 14, \"val\": 0}, {\"x\": 26, \"y\": 14, \"val\": 0}, {\"x\": 27, \"y\": 14, \"val\": 0}, {\"x\": 28, \"y\": 14, \"val\": 0}, {\"x\": 1, \"y\": 15, \"val\": 0}, {\"x\": 2, \"y\": 15, \"val\": 0}, {\"x\": 3, \"y\": 15, \"val\": 0}, {\"x\": 4, \"y\": 15, \"val\": 0}, {\"x\": 5, \"y\": 15, \"val\": 0}, {\"x\": 6, \"y\": 15, \"val\": 0}, {\"x\": 7, \"y\": 15, \"val\": 0}, {\"x\": 8, \"y\": 15, \"val\": 0}, {\"x\": 9, \"y\": 15, \"val\": 0}, {\"x\": 10, \"y\": 15, \"val\": 0}, {\"x\": 11, \"y\": 15, \"val\": 0}, {\"x\": 12, \"y\": 15, \"val\": 0}, {\"x\": 13, \"y\": 15, \"val\": 0}, {\"x\": 14, \"y\": 15, \"val\": 0}, {\"x\": 15, \"y\": 15, \"val\": 0}, {\"x\": 16, \"y\": 15, \"val\": 0}, {\"x\": 17, \"y\": 15, \"val\": 0}, {\"x\": 18, \"y\": 15, \"val\": 42}, {\"x\": 19, \"y\": 15, \"val\": 221}, {\"x\": 20, \"y\": 15, \"val\": 252}, {\"x\": 21, \"y\": 15, \"val\": 191}, {\"x\": 22, \"y\": 15, \"val\": 15}, {\"x\": 23, \"y\": 15, \"val\": 0}, {\"x\": 24, \"y\": 15, \"val\": 0}, {\"x\": 25, \"y\": 15, \"val\": 0}, {\"x\": 26, \"y\": 15, \"val\": 0}, {\"x\": 27, \"y\": 15, \"val\": 0}, {\"x\": 28, \"y\": 15, \"val\": 0}, {\"x\": 1, \"y\": 16, \"val\": 0}, {\"x\": 2, \"y\": 16, \"val\": 0}, {\"x\": 3, \"y\": 16, \"val\": 0}, {\"x\": 4, \"y\": 16, \"val\": 0}, {\"x\": 5, \"y\": 16, \"val\": 0}, {\"x\": 6, \"y\": 16, \"val\": 0}, {\"x\": 7, \"y\": 16, \"val\": 0}, {\"x\": 8, \"y\": 16, \"val\": 0}, {\"x\": 9, \"y\": 16, \"val\": 0}, {\"x\": 10, \"y\": 16, \"val\": 0}, {\"x\": 11, \"y\": 16, \"val\": 0}, {\"x\": 12, \"y\": 16, \"val\": 0}, {\"x\": 13, \"y\": 16, \"val\": 0}, {\"x\": 14, \"y\": 16, \"val\": 0}, {\"x\": 15, \"y\": 16, \"val\": 0}, {\"x\": 16, \"y\": 16, \"val\": 0}, {\"x\": 17, \"y\": 16, \"val\": 0}, {\"x\": 18, \"y\": 16, \"val\": 218}, {\"x\": 19, \"y\": 16, \"val\": 253}, {\"x\": 20, \"y\": 16, \"val\": 253}, {\"x\": 21, \"y\": 16, \"val\": 84}, {\"x\": 22, \"y\": 16, \"val\": 0}, {\"x\": 23, \"y\": 16, \"val\": 0}, {\"x\": 24, \"y\": 16, \"val\": 0}, {\"x\": 25, \"y\": 16, \"val\": 0}, {\"x\": 26, \"y\": 16, \"val\": 0}, {\"x\": 27, \"y\": 16, \"val\": 0}, {\"x\": 28, \"y\": 16, \"val\": 0}, {\"x\": 1, \"y\": 17, \"val\": 0}, {\"x\": 2, \"y\": 17, \"val\": 0}, {\"x\": 3, \"y\": 17, \"val\": 0}, {\"x\": 4, \"y\": 17, \"val\": 0}, {\"x\": 5, \"y\": 17, \"val\": 0}, {\"x\": 6, \"y\": 17, \"val\": 0}, {\"x\": 7, \"y\": 17, \"val\": 0}, {\"x\": 8, \"y\": 17, \"val\": 0}, {\"x\": 9, \"y\": 17, \"val\": 0}, {\"x\": 10, \"y\": 17, \"val\": 0}, {\"x\": 11, \"y\": 17, \"val\": 0}, {\"x\": 12, \"y\": 17, \"val\": 0}, {\"x\": 13, \"y\": 17, \"val\": 0}, {\"x\": 14, \"y\": 17, \"val\": 0}, {\"x\": 15, \"y\": 17, \"val\": 0}, {\"x\": 16, \"y\": 17, \"val\": 0}, {\"x\": 17, \"y\": 17, \"val\": 94}, {\"x\": 18, \"y\": 17, \"val\": 247}, {\"x\": 19, \"y\": 17, \"val\": 252}, {\"x\": 20, \"y\": 17, \"val\": 210}, {\"x\": 21, \"y\": 17, \"val\": 0}, {\"x\": 22, \"y\": 17, \"val\": 0}, {\"x\": 23, \"y\": 17, \"val\": 0}, {\"x\": 24, \"y\": 17, \"val\": 0}, {\"x\": 25, \"y\": 17, \"val\": 0}, {\"x\": 26, \"y\": 17, \"val\": 0}, {\"x\": 27, \"y\": 17, \"val\": 0}, {\"x\": 28, \"y\": 17, \"val\": 0}, {\"x\": 1, \"y\": 18, \"val\": 0}, {\"x\": 2, \"y\": 18, \"val\": 0}, {\"x\": 3, \"y\": 18, \"val\": 0}, {\"x\": 4, \"y\": 18, \"val\": 0}, {\"x\": 5, \"y\": 18, \"val\": 0}, {\"x\": 6, \"y\": 18, \"val\": 0}, {\"x\": 7, \"y\": 18, \"val\": 0}, {\"x\": 8, \"y\": 18, \"val\": 0}, {\"x\": 9, \"y\": 18, \"val\": 0}, {\"x\": 10, \"y\": 18, \"val\": 0}, {\"x\": 11, \"y\": 18, \"val\": 0}, {\"x\": 12, \"y\": 18, \"val\": 0}, {\"x\": 13, \"y\": 18, \"val\": 0}, {\"x\": 14, \"y\": 18, \"val\": 0}, {\"x\": 15, \"y\": 18, \"val\": 0}, {\"x\": 16, \"y\": 18, \"val\": 21}, {\"x\": 17, \"y\": 18, \"val\": 212}, {\"x\": 18, \"y\": 18, \"val\": 252}, {\"x\": 19, \"y\": 18, \"val\": 226}, {\"x\": 20, \"y\": 18, \"val\": 31}, {\"x\": 21, \"y\": 18, \"val\": 0}, {\"x\": 22, \"y\": 18, \"val\": 0}, {\"x\": 23, \"y\": 18, \"val\": 0}, {\"x\": 24, \"y\": 18, \"val\": 0}, {\"x\": 25, \"y\": 18, \"val\": 0}, {\"x\": 26, \"y\": 18, \"val\": 0}, {\"x\": 27, \"y\": 18, \"val\": 0}, {\"x\": 28, \"y\": 18, \"val\": 0}, {\"x\": 1, \"y\": 19, \"val\": 0}, {\"x\": 2, \"y\": 19, \"val\": 0}, {\"x\": 3, \"y\": 19, \"val\": 0}, {\"x\": 4, \"y\": 19, \"val\": 0}, {\"x\": 5, \"y\": 19, \"val\": 0}, {\"x\": 6, \"y\": 19, \"val\": 0}, {\"x\": 7, \"y\": 19, \"val\": 0}, {\"x\": 8, \"y\": 19, \"val\": 0}, {\"x\": 9, \"y\": 19, \"val\": 0}, {\"x\": 10, \"y\": 19, \"val\": 0}, {\"x\": 11, \"y\": 19, \"val\": 0}, {\"x\": 12, \"y\": 19, \"val\": 0}, {\"x\": 13, \"y\": 19, \"val\": 0}, {\"x\": 14, \"y\": 19, \"val\": 0}, {\"x\": 15, \"y\": 19, \"val\": 0}, {\"x\": 16, \"y\": 19, \"val\": 144}, {\"x\": 17, \"y\": 19, \"val\": 253}, {\"x\": 18, \"y\": 19, \"val\": 252}, {\"x\": 19, \"y\": 19, \"val\": 132}, {\"x\": 20, \"y\": 19, \"val\": 0}, {\"x\": 21, \"y\": 19, \"val\": 0}, {\"x\": 22, \"y\": 19, \"val\": 0}, {\"x\": 23, \"y\": 19, \"val\": 0}, {\"x\": 24, \"y\": 19, \"val\": 0}, {\"x\": 25, \"y\": 19, \"val\": 0}, {\"x\": 26, \"y\": 19, \"val\": 0}, {\"x\": 27, \"y\": 19, \"val\": 0}, {\"x\": 28, \"y\": 19, \"val\": 0}, {\"x\": 1, \"y\": 20, \"val\": 0}, {\"x\": 2, \"y\": 20, \"val\": 0}, {\"x\": 3, \"y\": 20, \"val\": 0}, {\"x\": 4, \"y\": 20, \"val\": 0}, {\"x\": 5, \"y\": 20, \"val\": 0}, {\"x\": 6, \"y\": 20, \"val\": 0}, {\"x\": 7, \"y\": 20, \"val\": 0}, {\"x\": 8, \"y\": 20, \"val\": 0}, {\"x\": 9, \"y\": 20, \"val\": 0}, {\"x\": 10, \"y\": 20, \"val\": 0}, {\"x\": 11, \"y\": 20, \"val\": 0}, {\"x\": 12, \"y\": 20, \"val\": 0}, {\"x\": 13, \"y\": 20, \"val\": 0}, {\"x\": 14, \"y\": 20, \"val\": 0}, {\"x\": 15, \"y\": 20, \"val\": 99}, {\"x\": 16, \"y\": 20, \"val\": 253}, {\"x\": 17, \"y\": 20, \"val\": 255}, {\"x\": 18, \"y\": 20, \"val\": 222}, {\"x\": 19, \"y\": 20, \"val\": 41}, {\"x\": 20, \"y\": 20, \"val\": 0}, {\"x\": 21, \"y\": 20, \"val\": 0}, {\"x\": 22, \"y\": 20, \"val\": 0}, {\"x\": 23, \"y\": 20, \"val\": 0}, {\"x\": 24, \"y\": 20, \"val\": 0}, {\"x\": 25, \"y\": 20, \"val\": 0}, {\"x\": 26, \"y\": 20, \"val\": 0}, {\"x\": 27, \"y\": 20, \"val\": 0}, {\"x\": 28, \"y\": 20, \"val\": 0}, {\"x\": 1, \"y\": 21, \"val\": 0}, {\"x\": 2, \"y\": 21, \"val\": 0}, {\"x\": 3, \"y\": 21, \"val\": 0}, {\"x\": 4, \"y\": 21, \"val\": 0}, {\"x\": 5, \"y\": 21, \"val\": 0}, {\"x\": 6, \"y\": 21, \"val\": 0}, {\"x\": 7, \"y\": 21, \"val\": 0}, {\"x\": 8, \"y\": 21, \"val\": 0}, {\"x\": 9, \"y\": 21, \"val\": 0}, {\"x\": 10, \"y\": 21, \"val\": 0}, {\"x\": 11, \"y\": 21, \"val\": 0}, {\"x\": 12, \"y\": 21, \"val\": 0}, {\"x\": 13, \"y\": 21, \"val\": 0}, {\"x\": 14, \"y\": 21, \"val\": 21}, {\"x\": 15, \"y\": 21, \"val\": 201}, {\"x\": 16, \"y\": 21, \"val\": 252}, {\"x\": 17, \"y\": 21, \"val\": 253}, {\"x\": 18, \"y\": 21, \"val\": 55}, {\"x\": 19, \"y\": 21, \"val\": 0}, {\"x\": 20, \"y\": 21, \"val\": 0}, {\"x\": 21, \"y\": 21, \"val\": 0}, {\"x\": 22, \"y\": 21, \"val\": 0}, {\"x\": 23, \"y\": 21, \"val\": 0}, {\"x\": 24, \"y\": 21, \"val\": 0}, {\"x\": 25, \"y\": 21, \"val\": 0}, {\"x\": 26, \"y\": 21, \"val\": 0}, {\"x\": 27, \"y\": 21, \"val\": 0}, {\"x\": 28, \"y\": 21, \"val\": 0}, {\"x\": 1, \"y\": 22, \"val\": 0}, {\"x\": 2, \"y\": 22, \"val\": 0}, {\"x\": 3, \"y\": 22, \"val\": 0}, {\"x\": 4, \"y\": 22, \"val\": 0}, {\"x\": 5, \"y\": 22, \"val\": 0}, {\"x\": 6, \"y\": 22, \"val\": 0}, {\"x\": 7, \"y\": 22, \"val\": 0}, {\"x\": 8, \"y\": 22, \"val\": 0}, {\"x\": 9, \"y\": 22, \"val\": 0}, {\"x\": 10, \"y\": 22, \"val\": 0}, {\"x\": 11, \"y\": 22, \"val\": 0}, {\"x\": 12, \"y\": 22, \"val\": 0}, {\"x\": 13, \"y\": 22, \"val\": 0}, {\"x\": 14, \"y\": 22, \"val\": 94}, {\"x\": 15, \"y\": 22, \"val\": 252}, {\"x\": 16, \"y\": 22, \"val\": 252}, {\"x\": 17, \"y\": 22, \"val\": 175}, {\"x\": 18, \"y\": 22, \"val\": 10}, {\"x\": 19, \"y\": 22, \"val\": 0}, {\"x\": 20, \"y\": 22, \"val\": 0}, {\"x\": 21, \"y\": 22, \"val\": 0}, {\"x\": 22, \"y\": 22, \"val\": 0}, {\"x\": 23, \"y\": 22, \"val\": 0}, {\"x\": 24, \"y\": 22, \"val\": 0}, {\"x\": 25, \"y\": 22, \"val\": 0}, {\"x\": 26, \"y\": 22, \"val\": 0}, {\"x\": 27, \"y\": 22, \"val\": 0}, {\"x\": 28, \"y\": 22, \"val\": 0}, {\"x\": 1, \"y\": 23, \"val\": 0}, {\"x\": 2, \"y\": 23, \"val\": 0}, {\"x\": 3, \"y\": 23, \"val\": 0}, {\"x\": 4, \"y\": 23, \"val\": 0}, {\"x\": 5, \"y\": 23, \"val\": 0}, {\"x\": 6, \"y\": 23, \"val\": 0}, {\"x\": 7, \"y\": 23, \"val\": 0}, {\"x\": 8, \"y\": 23, \"val\": 0}, {\"x\": 9, \"y\": 23, \"val\": 0}, {\"x\": 10, \"y\": 23, \"val\": 0}, {\"x\": 11, \"y\": 23, \"val\": 0}, {\"x\": 12, \"y\": 23, \"val\": 0}, {\"x\": 13, \"y\": 23, \"val\": 0}, {\"x\": 14, \"y\": 23, \"val\": 217}, {\"x\": 15, \"y\": 23, \"val\": 252}, {\"x\": 16, \"y\": 23, \"val\": 252}, {\"x\": 17, \"y\": 23, \"val\": 62}, {\"x\": 18, \"y\": 23, \"val\": 0}, {\"x\": 19, \"y\": 23, \"val\": 0}, {\"x\": 20, \"y\": 23, \"val\": 0}, {\"x\": 21, \"y\": 23, \"val\": 0}, {\"x\": 22, \"y\": 23, \"val\": 0}, {\"x\": 23, \"y\": 23, \"val\": 0}, {\"x\": 24, \"y\": 23, \"val\": 0}, {\"x\": 25, \"y\": 23, \"val\": 0}, {\"x\": 26, \"y\": 23, \"val\": 0}, {\"x\": 27, \"y\": 23, \"val\": 0}, {\"x\": 28, \"y\": 23, \"val\": 0}, {\"x\": 1, \"y\": 24, \"val\": 0}, {\"x\": 2, \"y\": 24, \"val\": 0}, {\"x\": 3, \"y\": 24, \"val\": 0}, {\"x\": 4, \"y\": 24, \"val\": 0}, {\"x\": 5, \"y\": 24, \"val\": 0}, {\"x\": 6, \"y\": 24, \"val\": 0}, {\"x\": 7, \"y\": 24, \"val\": 0}, {\"x\": 8, \"y\": 24, \"val\": 0}, {\"x\": 9, \"y\": 24, \"val\": 0}, {\"x\": 10, \"y\": 24, \"val\": 0}, {\"x\": 11, \"y\": 24, \"val\": 0}, {\"x\": 12, \"y\": 24, \"val\": 0}, {\"x\": 13, \"y\": 24, \"val\": 171}, {\"x\": 14, \"y\": 24, \"val\": 253}, {\"x\": 15, \"y\": 24, \"val\": 253}, {\"x\": 16, \"y\": 24, \"val\": 170}, {\"x\": 17, \"y\": 24, \"val\": 110}, {\"x\": 18, \"y\": 24, \"val\": 78}, {\"x\": 19, \"y\": 24, \"val\": 0}, {\"x\": 20, \"y\": 24, \"val\": 0}, {\"x\": 21, \"y\": 24, \"val\": 0}, {\"x\": 22, \"y\": 24, \"val\": 0}, {\"x\": 23, \"y\": 24, \"val\": 0}, {\"x\": 24, \"y\": 24, \"val\": 0}, {\"x\": 25, \"y\": 24, \"val\": 0}, {\"x\": 26, \"y\": 24, \"val\": 0}, {\"x\": 27, \"y\": 24, \"val\": 0}, {\"x\": 28, \"y\": 24, \"val\": 0}, {\"x\": 1, \"y\": 25, \"val\": 0}, {\"x\": 2, \"y\": 25, \"val\": 0}, {\"x\": 3, \"y\": 25, \"val\": 0}, {\"x\": 4, \"y\": 25, \"val\": 0}, {\"x\": 5, \"y\": 25, \"val\": 0}, {\"x\": 6, \"y\": 25, \"val\": 0}, {\"x\": 7, \"y\": 25, \"val\": 0}, {\"x\": 8, \"y\": 25, \"val\": 0}, {\"x\": 9, \"y\": 25, \"val\": 0}, {\"x\": 10, \"y\": 25, \"val\": 0}, {\"x\": 11, \"y\": 25, \"val\": 0}, {\"x\": 12, \"y\": 25, \"val\": 0}, {\"x\": 13, \"y\": 25, \"val\": 253}, {\"x\": 14, \"y\": 25, \"val\": 252}, {\"x\": 15, \"y\": 25, \"val\": 252}, {\"x\": 16, \"y\": 25, \"val\": 252}, {\"x\": 17, \"y\": 25, \"val\": 253}, {\"x\": 18, \"y\": 25, \"val\": 55}, {\"x\": 19, \"y\": 25, \"val\": 0}, {\"x\": 20, \"y\": 25, \"val\": 0}, {\"x\": 21, \"y\": 25, \"val\": 0}, {\"x\": 22, \"y\": 25, \"val\": 0}, {\"x\": 23, \"y\": 25, \"val\": 0}, {\"x\": 24, \"y\": 25, \"val\": 0}, {\"x\": 25, \"y\": 25, \"val\": 0}, {\"x\": 26, \"y\": 25, \"val\": 0}, {\"x\": 27, \"y\": 25, \"val\": 0}, {\"x\": 28, \"y\": 25, \"val\": 0}, {\"x\": 1, \"y\": 26, \"val\": 0}, {\"x\": 2, \"y\": 26, \"val\": 0}, {\"x\": 3, \"y\": 26, \"val\": 0}, {\"x\": 4, \"y\": 26, \"val\": 0}, {\"x\": 5, \"y\": 26, \"val\": 0}, {\"x\": 6, \"y\": 26, \"val\": 0}, {\"x\": 7, \"y\": 26, \"val\": 0}, {\"x\": 8, \"y\": 26, \"val\": 0}, {\"x\": 9, \"y\": 26, \"val\": 0}, {\"x\": 10, \"y\": 26, \"val\": 0}, {\"x\": 11, \"y\": 26, \"val\": 0}, {\"x\": 12, \"y\": 26, \"val\": 0}, {\"x\": 13, \"y\": 26, \"val\": 253}, {\"x\": 14, \"y\": 26, \"val\": 252}, {\"x\": 15, \"y\": 26, \"val\": 252}, {\"x\": 16, \"y\": 26, \"val\": 252}, {\"x\": 17, \"y\": 26, \"val\": 154}, {\"x\": 18, \"y\": 26, \"val\": 10}, {\"x\": 19, \"y\": 26, \"val\": 0}, {\"x\": 20, \"y\": 26, \"val\": 0}, {\"x\": 21, \"y\": 26, \"val\": 0}, {\"x\": 22, \"y\": 26, \"val\": 0}, {\"x\": 23, \"y\": 26, \"val\": 0}, {\"x\": 24, \"y\": 26, \"val\": 0}, {\"x\": 25, \"y\": 26, \"val\": 0}, {\"x\": 26, \"y\": 26, \"val\": 0}, {\"x\": 27, \"y\": 26, \"val\": 0}, {\"x\": 28, \"y\": 26, \"val\": 0}, {\"x\": 1, \"y\": 27, \"val\": 0}, {\"x\": 2, \"y\": 27, \"val\": 0}, {\"x\": 3, \"y\": 27, \"val\": 0}, {\"x\": 4, \"y\": 27, \"val\": 0}, {\"x\": 5, \"y\": 27, \"val\": 0}, {\"x\": 6, \"y\": 27, \"val\": 0}, {\"x\": 7, \"y\": 27, \"val\": 0}, {\"x\": 8, \"y\": 27, \"val\": 0}, {\"x\": 9, \"y\": 27, \"val\": 0}, {\"x\": 10, \"y\": 27, \"val\": 0}, {\"x\": 11, \"y\": 27, \"val\": 0}, {\"x\": 12, \"y\": 27, \"val\": 0}, {\"x\": 13, \"y\": 27, \"val\": 253}, {\"x\": 14, \"y\": 27, \"val\": 252}, {\"x\": 15, \"y\": 27, \"val\": 252}, {\"x\": 16, \"y\": 27, \"val\": 168}, {\"x\": 17, \"y\": 27, \"val\": 0}, {\"x\": 18, \"y\": 27, \"val\": 0}, {\"x\": 19, \"y\": 27, \"val\": 0}, {\"x\": 20, \"y\": 27, \"val\": 0}, {\"x\": 21, \"y\": 27, \"val\": 0}, {\"x\": 22, \"y\": 27, \"val\": 0}, {\"x\": 23, \"y\": 27, \"val\": 0}, {\"x\": 24, \"y\": 27, \"val\": 0}, {\"x\": 25, \"y\": 27, \"val\": 0}, {\"x\": 26, \"y\": 27, \"val\": 0}, {\"x\": 27, \"y\": 27, \"val\": 0}, {\"x\": 28, \"y\": 27, \"val\": 0}, {\"x\": 1, \"y\": 28, \"val\": 0}, {\"x\": 2, \"y\": 28, \"val\": 0}, {\"x\": 3, \"y\": 28, \"val\": 0}, {\"x\": 4, \"y\": 28, \"val\": 0}, {\"x\": 5, \"y\": 28, \"val\": 0}, {\"x\": 6, \"y\": 28, \"val\": 0}, {\"x\": 7, \"y\": 28, \"val\": 0}, {\"x\": 8, \"y\": 28, \"val\": 0}, {\"x\": 9, \"y\": 28, \"val\": 0}, {\"x\": 10, \"y\": 28, \"val\": 0}, {\"x\": 11, \"y\": 28, \"val\": 0}, {\"x\": 12, \"y\": 28, \"val\": 0}, {\"x\": 13, \"y\": 28, \"val\": 0}, {\"x\": 14, \"y\": 28, \"val\": 0}, {\"x\": 15, \"y\": 28, \"val\": 0}, {\"x\": 16, \"y\": 28, \"val\": 0}, {\"x\": 17, \"y\": 28, \"val\": 0}, {\"x\": 18, \"y\": 28, \"val\": 0}, {\"x\": 19, \"y\": 28, \"val\": 0}, {\"x\": 20, \"y\": 28, \"val\": 0}, {\"x\": 21, \"y\": 28, \"val\": 0}, {\"x\": 22, \"y\": 28, \"val\": 0}, {\"x\": 23, \"y\": 28, \"val\": 0}, {\"x\": 24, \"y\": 28, \"val\": 0}, {\"x\": 25, \"y\": 28, \"val\": 0}, {\"x\": 26, \"y\": 28, \"val\": 0}, {\"x\": 27, \"y\": 28, \"val\": 0}, {\"x\": 28, \"y\": 28, \"val\": 0}], \"data-a077629286938a4ab8691622ba23bb46\": [{\"x\": 1, \"y\": 1, \"val\": 0}, {\"x\": 2, \"y\": 1, \"val\": 0}, {\"x\": 3, \"y\": 1, \"val\": 0}, {\"x\": 4, \"y\": 1, \"val\": 0}, {\"x\": 5, \"y\": 1, \"val\": 0}, {\"x\": 6, \"y\": 1, \"val\": 0}, {\"x\": 7, \"y\": 1, \"val\": 0}, {\"x\": 8, \"y\": 1, \"val\": 0}, {\"x\": 9, \"y\": 1, \"val\": 0}, {\"x\": 10, \"y\": 1, \"val\": 0}, {\"x\": 11, \"y\": 1, \"val\": 0}, {\"x\": 12, \"y\": 1, \"val\": 0}, {\"x\": 13, \"y\": 1, \"val\": 0}, {\"x\": 14, \"y\": 1, \"val\": 0}, {\"x\": 15, \"y\": 1, \"val\": 0}, {\"x\": 16, \"y\": 1, \"val\": 0}, {\"x\": 17, \"y\": 1, \"val\": 0}, {\"x\": 18, \"y\": 1, \"val\": 0}, {\"x\": 19, \"y\": 1, \"val\": 0}, {\"x\": 20, \"y\": 1, \"val\": 0}, {\"x\": 21, \"y\": 1, \"val\": 0}, {\"x\": 22, \"y\": 1, \"val\": 0}, {\"x\": 23, \"y\": 1, \"val\": 0}, {\"x\": 24, \"y\": 1, \"val\": 0}, {\"x\": 25, \"y\": 1, \"val\": 0}, {\"x\": 26, \"y\": 1, \"val\": 0}, {\"x\": 27, \"y\": 1, \"val\": 0}, {\"x\": 28, \"y\": 1, \"val\": 0}, {\"x\": 1, \"y\": 2, \"val\": 0}, {\"x\": 2, \"y\": 2, \"val\": 0}, {\"x\": 3, \"y\": 2, \"val\": 0}, {\"x\": 4, \"y\": 2, \"val\": 0}, {\"x\": 5, \"y\": 2, \"val\": 0}, {\"x\": 6, \"y\": 2, \"val\": 0}, {\"x\": 7, \"y\": 2, \"val\": 0}, {\"x\": 8, \"y\": 2, \"val\": 0}, {\"x\": 9, \"y\": 2, \"val\": 0}, {\"x\": 10, \"y\": 2, \"val\": 0}, {\"x\": 11, \"y\": 2, \"val\": 0}, {\"x\": 12, \"y\": 2, \"val\": 0}, {\"x\": 13, \"y\": 2, \"val\": 0}, {\"x\": 14, \"y\": 2, \"val\": 0}, {\"x\": 15, \"y\": 2, \"val\": 0}, {\"x\": 16, \"y\": 2, \"val\": 0}, {\"x\": 17, \"y\": 2, \"val\": 0}, {\"x\": 18, \"y\": 2, \"val\": 0}, {\"x\": 19, \"y\": 2, \"val\": 0}, {\"x\": 20, \"y\": 2, \"val\": 0}, {\"x\": 21, \"y\": 2, \"val\": 0}, {\"x\": 22, \"y\": 2, \"val\": 0}, {\"x\": 23, \"y\": 2, \"val\": 0}, {\"x\": 24, \"y\": 2, \"val\": 0}, {\"x\": 25, \"y\": 2, \"val\": 0}, {\"x\": 26, \"y\": 2, \"val\": 0}, {\"x\": 27, \"y\": 2, \"val\": 0}, {\"x\": 28, \"y\": 2, \"val\": 0}, {\"x\": 1, \"y\": 3, \"val\": 0}, {\"x\": 2, \"y\": 3, \"val\": 0}, {\"x\": 3, \"y\": 3, \"val\": 0}, {\"x\": 4, \"y\": 3, \"val\": 0}, {\"x\": 5, \"y\": 3, \"val\": 0}, {\"x\": 6, \"y\": 3, \"val\": 0}, {\"x\": 7, \"y\": 3, \"val\": 0}, {\"x\": 8, \"y\": 3, \"val\": 0}, {\"x\": 9, \"y\": 3, \"val\": 0}, {\"x\": 10, \"y\": 3, \"val\": 0}, {\"x\": 11, \"y\": 3, \"val\": 0}, {\"x\": 12, \"y\": 3, \"val\": 0}, {\"x\": 13, \"y\": 3, \"val\": 0}, {\"x\": 14, \"y\": 3, \"val\": 0}, {\"x\": 15, \"y\": 3, \"val\": 0}, {\"x\": 16, \"y\": 3, \"val\": 0}, {\"x\": 17, \"y\": 3, \"val\": 0}, {\"x\": 18, \"y\": 3, \"val\": 0}, {\"x\": 19, \"y\": 3, \"val\": 0}, {\"x\": 20, \"y\": 3, \"val\": 0}, {\"x\": 21, \"y\": 3, \"val\": 0}, {\"x\": 22, \"y\": 3, \"val\": 0}, {\"x\": 23, \"y\": 3, \"val\": 0}, {\"x\": 24, \"y\": 3, \"val\": 0}, {\"x\": 25, \"y\": 3, \"val\": 0}, {\"x\": 26, \"y\": 3, \"val\": 0}, {\"x\": 27, \"y\": 3, \"val\": 0}, {\"x\": 28, \"y\": 3, \"val\": 0}, {\"x\": 1, \"y\": 4, \"val\": 0}, {\"x\": 2, \"y\": 4, \"val\": 0}, {\"x\": 3, \"y\": 4, \"val\": 0}, {\"x\": 4, \"y\": 4, \"val\": 0}, {\"x\": 5, \"y\": 4, \"val\": 0}, {\"x\": 6, \"y\": 4, \"val\": 0}, {\"x\": 7, \"y\": 4, \"val\": 0}, {\"x\": 8, \"y\": 4, \"val\": 0}, {\"x\": 9, \"y\": 4, \"val\": 0}, {\"x\": 10, \"y\": 4, \"val\": 0}, {\"x\": 11, \"y\": 4, \"val\": 0}, {\"x\": 12, \"y\": 4, \"val\": 0}, {\"x\": 13, \"y\": 4, \"val\": 0}, {\"x\": 14, \"y\": 4, \"val\": 0}, {\"x\": 15, \"y\": 4, \"val\": 0}, {\"x\": 16, \"y\": 4, \"val\": 0}, {\"x\": 17, \"y\": 4, \"val\": 0}, {\"x\": 18, \"y\": 4, \"val\": 0}, {\"x\": 19, \"y\": 4, \"val\": 0}, {\"x\": 20, \"y\": 4, \"val\": 0}, {\"x\": 21, \"y\": 4, \"val\": 0}, {\"x\": 22, \"y\": 4, \"val\": 0}, {\"x\": 23, \"y\": 4, \"val\": 0}, {\"x\": 24, \"y\": 4, \"val\": 0}, {\"x\": 25, \"y\": 4, \"val\": 0}, {\"x\": 26, \"y\": 4, \"val\": 0}, {\"x\": 27, \"y\": 4, \"val\": 0}, {\"x\": 28, \"y\": 4, \"val\": 0}, {\"x\": 1, \"y\": 5, \"val\": 0}, {\"x\": 2, \"y\": 5, \"val\": 0}, {\"x\": 3, \"y\": 5, \"val\": 0}, {\"x\": 4, \"y\": 5, \"val\": 0}, {\"x\": 5, \"y\": 5, \"val\": 0}, {\"x\": 6, \"y\": 5, \"val\": 0}, {\"x\": 7, \"y\": 5, \"val\": 0}, {\"x\": 8, \"y\": 5, \"val\": 0}, {\"x\": 9, \"y\": 5, \"val\": 0}, {\"x\": 10, \"y\": 5, \"val\": 0}, {\"x\": 11, \"y\": 5, \"val\": 0}, {\"x\": 12, \"y\": 5, \"val\": 0}, {\"x\": 13, \"y\": 5, \"val\": 0}, {\"x\": 14, \"y\": 5, \"val\": 0}, {\"x\": 15, \"y\": 5, \"val\": 0}, {\"x\": 16, \"y\": 5, \"val\": 29}, {\"x\": 17, \"y\": 5, \"val\": 218}, {\"x\": 18, \"y\": 5, \"val\": 255}, {\"x\": 19, \"y\": 5, \"val\": 234}, {\"x\": 20, \"y\": 5, \"val\": 45}, {\"x\": 21, \"y\": 5, \"val\": 0}, {\"x\": 22, \"y\": 5, \"val\": 0}, {\"x\": 23, \"y\": 5, \"val\": 0}, {\"x\": 24, \"y\": 5, \"val\": 0}, {\"x\": 25, \"y\": 5, \"val\": 0}, {\"x\": 26, \"y\": 5, \"val\": 0}, {\"x\": 27, \"y\": 5, \"val\": 0}, {\"x\": 28, \"y\": 5, \"val\": 0}, {\"x\": 1, \"y\": 6, \"val\": 0}, {\"x\": 2, \"y\": 6, \"val\": 0}, {\"x\": 3, \"y\": 6, \"val\": 0}, {\"x\": 4, \"y\": 6, \"val\": 0}, {\"x\": 5, \"y\": 6, \"val\": 0}, {\"x\": 6, \"y\": 6, \"val\": 0}, {\"x\": 7, \"y\": 6, \"val\": 0}, {\"x\": 8, \"y\": 6, \"val\": 0}, {\"x\": 9, \"y\": 6, \"val\": 0}, {\"x\": 10, \"y\": 6, \"val\": 0}, {\"x\": 11, \"y\": 6, \"val\": 0}, {\"x\": 12, \"y\": 6, \"val\": 0}, {\"x\": 13, \"y\": 6, \"val\": 0}, {\"x\": 14, \"y\": 6, \"val\": 0}, {\"x\": 15, \"y\": 6, \"val\": 31}, {\"x\": 16, \"y\": 6, \"val\": 216}, {\"x\": 17, \"y\": 6, \"val\": 253}, {\"x\": 18, \"y\": 6, \"val\": 253}, {\"x\": 19, \"y\": 6, \"val\": 253}, {\"x\": 20, \"y\": 6, \"val\": 218}, {\"x\": 21, \"y\": 6, \"val\": 0}, {\"x\": 22, \"y\": 6, \"val\": 0}, {\"x\": 23, \"y\": 6, \"val\": 0}, {\"x\": 24, \"y\": 6, \"val\": 0}, {\"x\": 25, \"y\": 6, \"val\": 0}, {\"x\": 26, \"y\": 6, \"val\": 0}, {\"x\": 27, \"y\": 6, \"val\": 0}, {\"x\": 28, \"y\": 6, \"val\": 0}, {\"x\": 1, \"y\": 7, \"val\": 0}, {\"x\": 2, \"y\": 7, \"val\": 0}, {\"x\": 3, \"y\": 7, \"val\": 0}, {\"x\": 4, \"y\": 7, \"val\": 0}, {\"x\": 5, \"y\": 7, \"val\": 0}, {\"x\": 6, \"y\": 7, \"val\": 0}, {\"x\": 7, \"y\": 7, \"val\": 0}, {\"x\": 8, \"y\": 7, \"val\": 0}, {\"x\": 9, \"y\": 7, \"val\": 0}, {\"x\": 10, \"y\": 7, \"val\": 0}, {\"x\": 11, \"y\": 7, \"val\": 0}, {\"x\": 12, \"y\": 7, \"val\": 0}, {\"x\": 13, \"y\": 7, \"val\": 0}, {\"x\": 14, \"y\": 7, \"val\": 69}, {\"x\": 15, \"y\": 7, \"val\": 244}, {\"x\": 16, \"y\": 7, \"val\": 253}, {\"x\": 17, \"y\": 7, \"val\": 253}, {\"x\": 18, \"y\": 7, \"val\": 196}, {\"x\": 19, \"y\": 7, \"val\": 253}, {\"x\": 20, \"y\": 7, \"val\": 220}, {\"x\": 21, \"y\": 7, \"val\": 0}, {\"x\": 22, \"y\": 7, \"val\": 0}, {\"x\": 23, \"y\": 7, \"val\": 0}, {\"x\": 24, \"y\": 7, \"val\": 0}, {\"x\": 25, \"y\": 7, \"val\": 0}, {\"x\": 26, \"y\": 7, \"val\": 0}, {\"x\": 27, \"y\": 7, \"val\": 0}, {\"x\": 28, \"y\": 7, \"val\": 0}, {\"x\": 1, \"y\": 8, \"val\": 0}, {\"x\": 2, \"y\": 8, \"val\": 0}, {\"x\": 3, \"y\": 8, \"val\": 0}, {\"x\": 4, \"y\": 8, \"val\": 0}, {\"x\": 5, \"y\": 8, \"val\": 0}, {\"x\": 6, \"y\": 8, \"val\": 0}, {\"x\": 7, \"y\": 8, \"val\": 0}, {\"x\": 8, \"y\": 8, \"val\": 0}, {\"x\": 9, \"y\": 8, \"val\": 0}, {\"x\": 10, \"y\": 8, \"val\": 0}, {\"x\": 11, \"y\": 8, \"val\": 0}, {\"x\": 12, \"y\": 8, \"val\": 0}, {\"x\": 13, \"y\": 8, \"val\": 33}, {\"x\": 14, \"y\": 8, \"val\": 214}, {\"x\": 15, \"y\": 8, \"val\": 253}, {\"x\": 16, \"y\": 8, \"val\": 253}, {\"x\": 17, \"y\": 8, \"val\": 205}, {\"x\": 18, \"y\": 8, \"val\": 9}, {\"x\": 19, \"y\": 8, \"val\": 176}, {\"x\": 20, \"y\": 8, \"val\": 220}, {\"x\": 21, \"y\": 8, \"val\": 0}, {\"x\": 22, \"y\": 8, \"val\": 0}, {\"x\": 23, \"y\": 8, \"val\": 0}, {\"x\": 24, \"y\": 8, \"val\": 0}, {\"x\": 25, \"y\": 8, \"val\": 0}, {\"x\": 26, \"y\": 8, \"val\": 0}, {\"x\": 27, \"y\": 8, \"val\": 0}, {\"x\": 28, \"y\": 8, \"val\": 0}, {\"x\": 1, \"y\": 9, \"val\": 0}, {\"x\": 2, \"y\": 9, \"val\": 0}, {\"x\": 3, \"y\": 9, \"val\": 0}, {\"x\": 4, \"y\": 9, \"val\": 0}, {\"x\": 5, \"y\": 9, \"val\": 0}, {\"x\": 6, \"y\": 9, \"val\": 0}, {\"x\": 7, \"y\": 9, \"val\": 0}, {\"x\": 8, \"y\": 9, \"val\": 0}, {\"x\": 9, \"y\": 9, \"val\": 0}, {\"x\": 10, \"y\": 9, \"val\": 0}, {\"x\": 11, \"y\": 9, \"val\": 0}, {\"x\": 12, \"y\": 9, \"val\": 0}, {\"x\": 13, \"y\": 9, \"val\": 196}, {\"x\": 14, \"y\": 9, \"val\": 253}, {\"x\": 15, \"y\": 9, \"val\": 253}, {\"x\": 16, \"y\": 9, \"val\": 230}, {\"x\": 17, \"y\": 9, \"val\": 57}, {\"x\": 18, \"y\": 9, \"val\": 0}, {\"x\": 19, \"y\": 9, \"val\": 17}, {\"x\": 20, \"y\": 9, \"val\": 22}, {\"x\": 21, \"y\": 9, \"val\": 0}, {\"x\": 22, \"y\": 9, \"val\": 0}, {\"x\": 23, \"y\": 9, \"val\": 0}, {\"x\": 24, \"y\": 9, \"val\": 0}, {\"x\": 25, \"y\": 9, \"val\": 0}, {\"x\": 26, \"y\": 9, \"val\": 0}, {\"x\": 27, \"y\": 9, \"val\": 0}, {\"x\": 28, \"y\": 9, \"val\": 0}, {\"x\": 1, \"y\": 10, \"val\": 0}, {\"x\": 2, \"y\": 10, \"val\": 0}, {\"x\": 3, \"y\": 10, \"val\": 0}, {\"x\": 4, \"y\": 10, \"val\": 0}, {\"x\": 5, \"y\": 10, \"val\": 0}, {\"x\": 6, \"y\": 10, \"val\": 0}, {\"x\": 7, \"y\": 10, \"val\": 0}, {\"x\": 8, \"y\": 10, \"val\": 0}, {\"x\": 9, \"y\": 10, \"val\": 0}, {\"x\": 10, \"y\": 10, \"val\": 0}, {\"x\": 11, \"y\": 10, \"val\": 0}, {\"x\": 12, \"y\": 10, \"val\": 122}, {\"x\": 13, \"y\": 10, \"val\": 248}, {\"x\": 14, \"y\": 10, \"val\": 253}, {\"x\": 15, \"y\": 10, \"val\": 230}, {\"x\": 16, \"y\": 10, \"val\": 58}, {\"x\": 17, \"y\": 10, \"val\": 0}, {\"x\": 18, \"y\": 10, \"val\": 0}, {\"x\": 19, \"y\": 10, \"val\": 0}, {\"x\": 20, \"y\": 10, \"val\": 0}, {\"x\": 21, \"y\": 10, \"val\": 0}, {\"x\": 22, \"y\": 10, \"val\": 0}, {\"x\": 23, \"y\": 10, \"val\": 0}, {\"x\": 24, \"y\": 10, \"val\": 0}, {\"x\": 25, \"y\": 10, \"val\": 0}, {\"x\": 26, \"y\": 10, \"val\": 0}, {\"x\": 27, \"y\": 10, \"val\": 0}, {\"x\": 28, \"y\": 10, \"val\": 0}, {\"x\": 1, \"y\": 11, \"val\": 0}, {\"x\": 2, \"y\": 11, \"val\": 0}, {\"x\": 3, \"y\": 11, \"val\": 0}, {\"x\": 4, \"y\": 11, \"val\": 0}, {\"x\": 5, \"y\": 11, \"val\": 0}, {\"x\": 6, \"y\": 11, \"val\": 0}, {\"x\": 7, \"y\": 11, \"val\": 0}, {\"x\": 8, \"y\": 11, \"val\": 0}, {\"x\": 9, \"y\": 11, \"val\": 0}, {\"x\": 10, \"y\": 11, \"val\": 0}, {\"x\": 11, \"y\": 11, \"val\": 78}, {\"x\": 12, \"y\": 11, \"val\": 248}, {\"x\": 13, \"y\": 11, \"val\": 253}, {\"x\": 14, \"y\": 11, \"val\": 253}, {\"x\": 15, \"y\": 11, \"val\": 144}, {\"x\": 16, \"y\": 11, \"val\": 0}, {\"x\": 17, \"y\": 11, \"val\": 0}, {\"x\": 18, \"y\": 11, \"val\": 0}, {\"x\": 19, \"y\": 11, \"val\": 0}, {\"x\": 20, \"y\": 11, \"val\": 0}, {\"x\": 21, \"y\": 11, \"val\": 0}, {\"x\": 22, \"y\": 11, \"val\": 0}, {\"x\": 23, \"y\": 11, \"val\": 0}, {\"x\": 24, \"y\": 11, \"val\": 0}, {\"x\": 25, \"y\": 11, \"val\": 0}, {\"x\": 26, \"y\": 11, \"val\": 0}, {\"x\": 27, \"y\": 11, \"val\": 0}, {\"x\": 28, \"y\": 11, \"val\": 0}, {\"x\": 1, \"y\": 12, \"val\": 0}, {\"x\": 2, \"y\": 12, \"val\": 0}, {\"x\": 3, \"y\": 12, \"val\": 0}, {\"x\": 4, \"y\": 12, \"val\": 0}, {\"x\": 5, \"y\": 12, \"val\": 0}, {\"x\": 6, \"y\": 12, \"val\": 0}, {\"x\": 7, \"y\": 12, \"val\": 0}, {\"x\": 8, \"y\": 12, \"val\": 0}, {\"x\": 9, \"y\": 12, \"val\": 0}, {\"x\": 10, \"y\": 12, \"val\": 0}, {\"x\": 11, \"y\": 12, \"val\": 92}, {\"x\": 12, \"y\": 12, \"val\": 253}, {\"x\": 13, \"y\": 12, \"val\": 253}, {\"x\": 14, \"y\": 12, \"val\": 194}, {\"x\": 15, \"y\": 12, \"val\": 11}, {\"x\": 16, \"y\": 12, \"val\": 0}, {\"x\": 17, \"y\": 12, \"val\": 0}, {\"x\": 18, \"y\": 12, \"val\": 0}, {\"x\": 19, \"y\": 12, \"val\": 0}, {\"x\": 20, \"y\": 12, \"val\": 0}, {\"x\": 21, \"y\": 12, \"val\": 0}, {\"x\": 22, \"y\": 12, \"val\": 0}, {\"x\": 23, \"y\": 12, \"val\": 0}, {\"x\": 24, \"y\": 12, \"val\": 0}, {\"x\": 25, \"y\": 12, \"val\": 0}, {\"x\": 26, \"y\": 12, \"val\": 0}, {\"x\": 27, \"y\": 12, \"val\": 0}, {\"x\": 28, \"y\": 12, \"val\": 0}, {\"x\": 1, \"y\": 13, \"val\": 0}, {\"x\": 2, \"y\": 13, \"val\": 0}, {\"x\": 3, \"y\": 13, \"val\": 0}, {\"x\": 4, \"y\": 13, \"val\": 0}, {\"x\": 5, \"y\": 13, \"val\": 0}, {\"x\": 6, \"y\": 13, \"val\": 0}, {\"x\": 7, \"y\": 13, \"val\": 0}, {\"x\": 8, \"y\": 13, \"val\": 0}, {\"x\": 9, \"y\": 13, \"val\": 0}, {\"x\": 10, \"y\": 13, \"val\": 28}, {\"x\": 11, \"y\": 13, \"val\": 204}, {\"x\": 12, \"y\": 13, \"val\": 253}, {\"x\": 13, \"y\": 13, \"val\": 253}, {\"x\": 14, \"y\": 13, \"val\": 144}, {\"x\": 15, \"y\": 13, \"val\": 0}, {\"x\": 16, \"y\": 13, \"val\": 0}, {\"x\": 17, \"y\": 13, \"val\": 0}, {\"x\": 18, \"y\": 13, \"val\": 0}, {\"x\": 19, \"y\": 13, \"val\": 0}, {\"x\": 20, \"y\": 13, \"val\": 0}, {\"x\": 21, \"y\": 13, \"val\": 0}, {\"x\": 22, \"y\": 13, \"val\": 0}, {\"x\": 23, \"y\": 13, \"val\": 0}, {\"x\": 24, \"y\": 13, \"val\": 0}, {\"x\": 25, \"y\": 13, \"val\": 0}, {\"x\": 26, \"y\": 13, \"val\": 0}, {\"x\": 27, \"y\": 13, \"val\": 0}, {\"x\": 28, \"y\": 13, \"val\": 0}, {\"x\": 1, \"y\": 14, \"val\": 0}, {\"x\": 2, \"y\": 14, \"val\": 0}, {\"x\": 3, \"y\": 14, \"val\": 0}, {\"x\": 4, \"y\": 14, \"val\": 0}, {\"x\": 5, \"y\": 14, \"val\": 0}, {\"x\": 6, \"y\": 14, \"val\": 0}, {\"x\": 7, \"y\": 14, \"val\": 0}, {\"x\": 8, \"y\": 14, \"val\": 0}, {\"x\": 9, \"y\": 14, \"val\": 0}, {\"x\": 10, \"y\": 14, \"val\": 99}, {\"x\": 11, \"y\": 14, \"val\": 253}, {\"x\": 12, \"y\": 14, \"val\": 253}, {\"x\": 13, \"y\": 14, \"val\": 233}, {\"x\": 14, \"y\": 14, \"val\": 57}, {\"x\": 15, \"y\": 14, \"val\": 100}, {\"x\": 16, \"y\": 14, \"val\": 196}, {\"x\": 17, \"y\": 14, \"val\": 196}, {\"x\": 18, \"y\": 14, \"val\": 196}, {\"x\": 19, \"y\": 14, \"val\": 175}, {\"x\": 20, \"y\": 14, \"val\": 57}, {\"x\": 21, \"y\": 14, \"val\": 0}, {\"x\": 22, \"y\": 14, \"val\": 0}, {\"x\": 23, \"y\": 14, \"val\": 0}, {\"x\": 24, \"y\": 14, \"val\": 0}, {\"x\": 25, \"y\": 14, \"val\": 0}, {\"x\": 26, \"y\": 14, \"val\": 0}, {\"x\": 27, \"y\": 14, \"val\": 0}, {\"x\": 28, \"y\": 14, \"val\": 0}, {\"x\": 1, \"y\": 15, \"val\": 0}, {\"x\": 2, \"y\": 15, \"val\": 0}, {\"x\": 3, \"y\": 15, \"val\": 0}, {\"x\": 4, \"y\": 15, \"val\": 0}, {\"x\": 5, \"y\": 15, \"val\": 0}, {\"x\": 6, \"y\": 15, \"val\": 0}, {\"x\": 7, \"y\": 15, \"val\": 0}, {\"x\": 8, \"y\": 15, \"val\": 0}, {\"x\": 9, \"y\": 15, \"val\": 0}, {\"x\": 10, \"y\": 15, \"val\": 195}, {\"x\": 11, \"y\": 15, \"val\": 253}, {\"x\": 12, \"y\": 15, \"val\": 253}, {\"x\": 13, \"y\": 15, \"val\": 193}, {\"x\": 14, \"y\": 15, \"val\": 181}, {\"x\": 15, \"y\": 15, \"val\": 253}, {\"x\": 16, \"y\": 15, \"val\": 253}, {\"x\": 17, \"y\": 15, \"val\": 253}, {\"x\": 18, \"y\": 15, \"val\": 253}, {\"x\": 19, \"y\": 15, \"val\": 253}, {\"x\": 20, \"y\": 15, \"val\": 228}, {\"x\": 21, \"y\": 15, \"val\": 23}, {\"x\": 22, \"y\": 15, \"val\": 0}, {\"x\": 23, \"y\": 15, \"val\": 0}, {\"x\": 24, \"y\": 15, \"val\": 0}, {\"x\": 25, \"y\": 15, \"val\": 0}, {\"x\": 26, \"y\": 15, \"val\": 0}, {\"x\": 27, \"y\": 15, \"val\": 0}, {\"x\": 28, \"y\": 15, \"val\": 0}, {\"x\": 1, \"y\": 16, \"val\": 0}, {\"x\": 2, \"y\": 16, \"val\": 0}, {\"x\": 3, \"y\": 16, \"val\": 0}, {\"x\": 4, \"y\": 16, \"val\": 0}, {\"x\": 5, \"y\": 16, \"val\": 0}, {\"x\": 6, \"y\": 16, \"val\": 0}, {\"x\": 7, \"y\": 16, \"val\": 0}, {\"x\": 8, \"y\": 16, \"val\": 0}, {\"x\": 9, \"y\": 16, \"val\": 0}, {\"x\": 10, \"y\": 16, \"val\": 228}, {\"x\": 11, \"y\": 16, \"val\": 253}, {\"x\": 12, \"y\": 16, \"val\": 253}, {\"x\": 13, \"y\": 16, \"val\": 253}, {\"x\": 14, \"y\": 16, \"val\": 253}, {\"x\": 15, \"y\": 16, \"val\": 253}, {\"x\": 16, \"y\": 16, \"val\": 184}, {\"x\": 17, \"y\": 16, \"val\": 98}, {\"x\": 18, \"y\": 16, \"val\": 210}, {\"x\": 19, \"y\": 16, \"val\": 253}, {\"x\": 20, \"y\": 16, \"val\": 253}, {\"x\": 21, \"y\": 16, \"val\": 191}, {\"x\": 22, \"y\": 16, \"val\": 0}, {\"x\": 23, \"y\": 16, \"val\": 0}, {\"x\": 24, \"y\": 16, \"val\": 0}, {\"x\": 25, \"y\": 16, \"val\": 0}, {\"x\": 26, \"y\": 16, \"val\": 0}, {\"x\": 27, \"y\": 16, \"val\": 0}, {\"x\": 28, \"y\": 16, \"val\": 0}, {\"x\": 1, \"y\": 17, \"val\": 0}, {\"x\": 2, \"y\": 17, \"val\": 0}, {\"x\": 3, \"y\": 17, \"val\": 0}, {\"x\": 4, \"y\": 17, \"val\": 0}, {\"x\": 5, \"y\": 17, \"val\": 0}, {\"x\": 6, \"y\": 17, \"val\": 0}, {\"x\": 7, \"y\": 17, \"val\": 0}, {\"x\": 8, \"y\": 17, \"val\": 0}, {\"x\": 9, \"y\": 17, \"val\": 0}, {\"x\": 10, \"y\": 17, \"val\": 228}, {\"x\": 11, \"y\": 17, \"val\": 253}, {\"x\": 12, \"y\": 17, \"val\": 253}, {\"x\": 13, \"y\": 17, \"val\": 253}, {\"x\": 14, \"y\": 17, \"val\": 240}, {\"x\": 15, \"y\": 17, \"val\": 174}, {\"x\": 16, \"y\": 17, \"val\": 20}, {\"x\": 17, \"y\": 17, \"val\": 0}, {\"x\": 18, \"y\": 17, \"val\": 46}, {\"x\": 19, \"y\": 17, \"val\": 253}, {\"x\": 20, \"y\": 17, \"val\": 253}, {\"x\": 21, \"y\": 17, \"val\": 227}, {\"x\": 22, \"y\": 17, \"val\": 0}, {\"x\": 23, \"y\": 17, \"val\": 0}, {\"x\": 24, \"y\": 17, \"val\": 0}, {\"x\": 25, \"y\": 17, \"val\": 0}, {\"x\": 26, \"y\": 17, \"val\": 0}, {\"x\": 27, \"y\": 17, \"val\": 0}, {\"x\": 28, \"y\": 17, \"val\": 0}, {\"x\": 1, \"y\": 18, \"val\": 0}, {\"x\": 2, \"y\": 18, \"val\": 0}, {\"x\": 3, \"y\": 18, \"val\": 0}, {\"x\": 4, \"y\": 18, \"val\": 0}, {\"x\": 5, \"y\": 18, \"val\": 0}, {\"x\": 6, \"y\": 18, \"val\": 0}, {\"x\": 7, \"y\": 18, \"val\": 0}, {\"x\": 8, \"y\": 18, \"val\": 0}, {\"x\": 9, \"y\": 18, \"val\": 0}, {\"x\": 10, \"y\": 18, \"val\": 228}, {\"x\": 11, \"y\": 18, \"val\": 253}, {\"x\": 12, \"y\": 18, \"val\": 253}, {\"x\": 13, \"y\": 18, \"val\": 253}, {\"x\": 14, \"y\": 18, \"val\": 181}, {\"x\": 15, \"y\": 18, \"val\": 0}, {\"x\": 16, \"y\": 18, \"val\": 0}, {\"x\": 17, \"y\": 18, \"val\": 0}, {\"x\": 18, \"y\": 18, \"val\": 66}, {\"x\": 19, \"y\": 18, \"val\": 253}, {\"x\": 20, \"y\": 18, \"val\": 253}, {\"x\": 21, \"y\": 18, \"val\": 139}, {\"x\": 22, \"y\": 18, \"val\": 0}, {\"x\": 23, \"y\": 18, \"val\": 0}, {\"x\": 24, \"y\": 18, \"val\": 0}, {\"x\": 25, \"y\": 18, \"val\": 0}, {\"x\": 26, \"y\": 18, \"val\": 0}, {\"x\": 27, \"y\": 18, \"val\": 0}, {\"x\": 28, \"y\": 18, \"val\": 0}, {\"x\": 1, \"y\": 19, \"val\": 0}, {\"x\": 2, \"y\": 19, \"val\": 0}, {\"x\": 3, \"y\": 19, \"val\": 0}, {\"x\": 4, \"y\": 19, \"val\": 0}, {\"x\": 5, \"y\": 19, \"val\": 0}, {\"x\": 6, \"y\": 19, \"val\": 0}, {\"x\": 7, \"y\": 19, \"val\": 0}, {\"x\": 8, \"y\": 19, \"val\": 0}, {\"x\": 9, \"y\": 19, \"val\": 0}, {\"x\": 10, \"y\": 19, \"val\": 228}, {\"x\": 11, \"y\": 19, \"val\": 253}, {\"x\": 12, \"y\": 19, \"val\": 198}, {\"x\": 13, \"y\": 19, \"val\": 198}, {\"x\": 14, \"y\": 19, \"val\": 91}, {\"x\": 15, \"y\": 19, \"val\": 0}, {\"x\": 16, \"y\": 19, \"val\": 0}, {\"x\": 17, \"y\": 19, \"val\": 34}, {\"x\": 18, \"y\": 19, \"val\": 226}, {\"x\": 19, \"y\": 19, \"val\": 253}, {\"x\": 20, \"y\": 19, \"val\": 249}, {\"x\": 21, \"y\": 19, \"val\": 85}, {\"x\": 22, \"y\": 19, \"val\": 0}, {\"x\": 23, \"y\": 19, \"val\": 0}, {\"x\": 24, \"y\": 19, \"val\": 0}, {\"x\": 25, \"y\": 19, \"val\": 0}, {\"x\": 26, \"y\": 19, \"val\": 0}, {\"x\": 27, \"y\": 19, \"val\": 0}, {\"x\": 28, \"y\": 19, \"val\": 0}, {\"x\": 1, \"y\": 20, \"val\": 0}, {\"x\": 2, \"y\": 20, \"val\": 0}, {\"x\": 3, \"y\": 20, \"val\": 0}, {\"x\": 4, \"y\": 20, \"val\": 0}, {\"x\": 5, \"y\": 20, \"val\": 0}, {\"x\": 6, \"y\": 20, \"val\": 0}, {\"x\": 7, \"y\": 20, \"val\": 0}, {\"x\": 8, \"y\": 20, \"val\": 0}, {\"x\": 9, \"y\": 20, \"val\": 0}, {\"x\": 10, \"y\": 20, \"val\": 228}, {\"x\": 11, \"y\": 20, \"val\": 253}, {\"x\": 12, \"y\": 20, \"val\": 221}, {\"x\": 13, \"y\": 20, \"val\": 28}, {\"x\": 14, \"y\": 20, \"val\": 0}, {\"x\": 15, \"y\": 20, \"val\": 0}, {\"x\": 16, \"y\": 20, \"val\": 7}, {\"x\": 17, \"y\": 20, \"val\": 140}, {\"x\": 18, \"y\": 20, \"val\": 253}, {\"x\": 19, \"y\": 20, \"val\": 253}, {\"x\": 20, \"y\": 20, \"val\": 207}, {\"x\": 21, \"y\": 20, \"val\": 0}, {\"x\": 22, \"y\": 20, \"val\": 0}, {\"x\": 23, \"y\": 20, \"val\": 0}, {\"x\": 24, \"y\": 20, \"val\": 0}, {\"x\": 25, \"y\": 20, \"val\": 0}, {\"x\": 26, \"y\": 20, \"val\": 0}, {\"x\": 27, \"y\": 20, \"val\": 0}, {\"x\": 28, \"y\": 20, \"val\": 0}, {\"x\": 1, \"y\": 21, \"val\": 0}, {\"x\": 2, \"y\": 21, \"val\": 0}, {\"x\": 3, \"y\": 21, \"val\": 0}, {\"x\": 4, \"y\": 21, \"val\": 0}, {\"x\": 5, \"y\": 21, \"val\": 0}, {\"x\": 6, \"y\": 21, \"val\": 0}, {\"x\": 7, \"y\": 21, \"val\": 0}, {\"x\": 8, \"y\": 21, \"val\": 0}, {\"x\": 9, \"y\": 21, \"val\": 0}, {\"x\": 10, \"y\": 21, \"val\": 151}, {\"x\": 11, \"y\": 21, \"val\": 253}, {\"x\": 12, \"y\": 21, \"val\": 253}, {\"x\": 13, \"y\": 21, \"val\": 168}, {\"x\": 14, \"y\": 21, \"val\": 46}, {\"x\": 15, \"y\": 21, \"val\": 54}, {\"x\": 16, \"y\": 21, \"val\": 174}, {\"x\": 17, \"y\": 21, \"val\": 253}, {\"x\": 18, \"y\": 21, \"val\": 253}, {\"x\": 19, \"y\": 21, \"val\": 220}, {\"x\": 20, \"y\": 21, \"val\": 37}, {\"x\": 21, \"y\": 21, \"val\": 0}, {\"x\": 22, \"y\": 21, \"val\": 0}, {\"x\": 23, \"y\": 21, \"val\": 0}, {\"x\": 24, \"y\": 21, \"val\": 0}, {\"x\": 25, \"y\": 21, \"val\": 0}, {\"x\": 26, \"y\": 21, \"val\": 0}, {\"x\": 27, \"y\": 21, \"val\": 0}, {\"x\": 28, \"y\": 21, \"val\": 0}, {\"x\": 1, \"y\": 22, \"val\": 0}, {\"x\": 2, \"y\": 22, \"val\": 0}, {\"x\": 3, \"y\": 22, \"val\": 0}, {\"x\": 4, \"y\": 22, \"val\": 0}, {\"x\": 5, \"y\": 22, \"val\": 0}, {\"x\": 6, \"y\": 22, \"val\": 0}, {\"x\": 7, \"y\": 22, \"val\": 0}, {\"x\": 8, \"y\": 22, \"val\": 0}, {\"x\": 9, \"y\": 22, \"val\": 0}, {\"x\": 10, \"y\": 22, \"val\": 43}, {\"x\": 11, \"y\": 22, \"val\": 229}, {\"x\": 12, \"y\": 22, \"val\": 253}, {\"x\": 13, \"y\": 22, \"val\": 253}, {\"x\": 14, \"y\": 22, \"val\": 253}, {\"x\": 15, \"y\": 22, \"val\": 253}, {\"x\": 16, \"y\": 22, \"val\": 253}, {\"x\": 17, \"y\": 22, \"val\": 253}, {\"x\": 18, \"y\": 22, \"val\": 251}, {\"x\": 19, \"y\": 22, \"val\": 80}, {\"x\": 20, \"y\": 22, \"val\": 0}, {\"x\": 21, \"y\": 22, \"val\": 0}, {\"x\": 22, \"y\": 22, \"val\": 0}, {\"x\": 23, \"y\": 22, \"val\": 0}, {\"x\": 24, \"y\": 22, \"val\": 0}, {\"x\": 25, \"y\": 22, \"val\": 0}, {\"x\": 26, \"y\": 22, \"val\": 0}, {\"x\": 27, \"y\": 22, \"val\": 0}, {\"x\": 28, \"y\": 22, \"val\": 0}, {\"x\": 1, \"y\": 23, \"val\": 0}, {\"x\": 2, \"y\": 23, \"val\": 0}, {\"x\": 3, \"y\": 23, \"val\": 0}, {\"x\": 4, \"y\": 23, \"val\": 0}, {\"x\": 5, \"y\": 23, \"val\": 0}, {\"x\": 6, \"y\": 23, \"val\": 0}, {\"x\": 7, \"y\": 23, \"val\": 0}, {\"x\": 8, \"y\": 23, \"val\": 0}, {\"x\": 9, \"y\": 23, \"val\": 0}, {\"x\": 10, \"y\": 23, \"val\": 0}, {\"x\": 11, \"y\": 23, \"val\": 42}, {\"x\": 12, \"y\": 23, \"val\": 227}, {\"x\": 13, \"y\": 23, \"val\": 252}, {\"x\": 14, \"y\": 23, \"val\": 253}, {\"x\": 15, \"y\": 23, \"val\": 253}, {\"x\": 16, \"y\": 23, \"val\": 253}, {\"x\": 17, \"y\": 23, \"val\": 252}, {\"x\": 18, \"y\": 23, \"val\": 135}, {\"x\": 19, \"y\": 23, \"val\": 0}, {\"x\": 20, \"y\": 23, \"val\": 0}, {\"x\": 21, \"y\": 23, \"val\": 0}, {\"x\": 22, \"y\": 23, \"val\": 0}, {\"x\": 23, \"y\": 23, \"val\": 0}, {\"x\": 24, \"y\": 23, \"val\": 0}, {\"x\": 25, \"y\": 23, \"val\": 0}, {\"x\": 26, \"y\": 23, \"val\": 0}, {\"x\": 27, \"y\": 23, \"val\": 0}, {\"x\": 28, \"y\": 23, \"val\": 0}, {\"x\": 1, \"y\": 24, \"val\": 0}, {\"x\": 2, \"y\": 24, \"val\": 0}, {\"x\": 3, \"y\": 24, \"val\": 0}, {\"x\": 4, \"y\": 24, \"val\": 0}, {\"x\": 5, \"y\": 24, \"val\": 0}, {\"x\": 6, \"y\": 24, \"val\": 0}, {\"x\": 7, \"y\": 24, \"val\": 0}, {\"x\": 8, \"y\": 24, \"val\": 0}, {\"x\": 9, \"y\": 24, \"val\": 0}, {\"x\": 10, \"y\": 24, \"val\": 0}, {\"x\": 11, \"y\": 24, \"val\": 0}, {\"x\": 12, \"y\": 24, \"val\": 0}, {\"x\": 13, \"y\": 24, \"val\": 102}, {\"x\": 14, \"y\": 24, \"val\": 159}, {\"x\": 15, \"y\": 24, \"val\": 152}, {\"x\": 16, \"y\": 24, \"val\": 123}, {\"x\": 17, \"y\": 24, \"val\": 98}, {\"x\": 18, \"y\": 24, \"val\": 0}, {\"x\": 19, \"y\": 24, \"val\": 0}, {\"x\": 20, \"y\": 24, \"val\": 0}, {\"x\": 21, \"y\": 24, \"val\": 0}, {\"x\": 22, \"y\": 24, \"val\": 0}, {\"x\": 23, \"y\": 24, \"val\": 0}, {\"x\": 24, \"y\": 24, \"val\": 0}, {\"x\": 25, \"y\": 24, \"val\": 0}, {\"x\": 26, \"y\": 24, \"val\": 0}, {\"x\": 27, \"y\": 24, \"val\": 0}, {\"x\": 28, \"y\": 24, \"val\": 0}, {\"x\": 1, \"y\": 25, \"val\": 0}, {\"x\": 2, \"y\": 25, \"val\": 0}, {\"x\": 3, \"y\": 25, \"val\": 0}, {\"x\": 4, \"y\": 25, \"val\": 0}, {\"x\": 5, \"y\": 25, \"val\": 0}, {\"x\": 6, \"y\": 25, \"val\": 0}, {\"x\": 7, \"y\": 25, \"val\": 0}, {\"x\": 8, \"y\": 25, \"val\": 0}, {\"x\": 9, \"y\": 25, \"val\": 0}, {\"x\": 10, \"y\": 25, \"val\": 0}, {\"x\": 11, \"y\": 25, \"val\": 0}, {\"x\": 12, \"y\": 25, \"val\": 0}, {\"x\": 13, \"y\": 25, \"val\": 0}, {\"x\": 14, \"y\": 25, \"val\": 0}, {\"x\": 15, \"y\": 25, \"val\": 0}, {\"x\": 16, \"y\": 25, \"val\": 0}, {\"x\": 17, \"y\": 25, \"val\": 0}, {\"x\": 18, \"y\": 25, \"val\": 0}, {\"x\": 19, \"y\": 25, \"val\": 0}, {\"x\": 20, \"y\": 25, \"val\": 0}, {\"x\": 21, \"y\": 25, \"val\": 0}, {\"x\": 22, \"y\": 25, \"val\": 0}, {\"x\": 23, \"y\": 25, \"val\": 0}, {\"x\": 24, \"y\": 25, \"val\": 0}, {\"x\": 25, \"y\": 25, \"val\": 0}, {\"x\": 26, \"y\": 25, \"val\": 0}, {\"x\": 27, \"y\": 25, \"val\": 0}, {\"x\": 28, \"y\": 25, \"val\": 0}, {\"x\": 1, \"y\": 26, \"val\": 0}, {\"x\": 2, \"y\": 26, \"val\": 0}, {\"x\": 3, \"y\": 26, \"val\": 0}, {\"x\": 4, \"y\": 26, \"val\": 0}, {\"x\": 5, \"y\": 26, \"val\": 0}, {\"x\": 6, \"y\": 26, \"val\": 0}, {\"x\": 7, \"y\": 26, \"val\": 0}, {\"x\": 8, \"y\": 26, \"val\": 0}, {\"x\": 9, \"y\": 26, \"val\": 0}, {\"x\": 10, \"y\": 26, \"val\": 0}, {\"x\": 11, \"y\": 26, \"val\": 0}, {\"x\": 12, \"y\": 26, \"val\": 0}, {\"x\": 13, \"y\": 26, \"val\": 0}, {\"x\": 14, \"y\": 26, \"val\": 0}, {\"x\": 15, \"y\": 26, \"val\": 0}, {\"x\": 16, \"y\": 26, \"val\": 0}, {\"x\": 17, \"y\": 26, \"val\": 0}, {\"x\": 18, \"y\": 26, \"val\": 0}, {\"x\": 19, \"y\": 26, \"val\": 0}, {\"x\": 20, \"y\": 26, \"val\": 0}, {\"x\": 21, \"y\": 26, \"val\": 0}, {\"x\": 22, \"y\": 26, \"val\": 0}, {\"x\": 23, \"y\": 26, \"val\": 0}, {\"x\": 24, \"y\": 26, \"val\": 0}, {\"x\": 25, \"y\": 26, \"val\": 0}, {\"x\": 26, \"y\": 26, \"val\": 0}, {\"x\": 27, \"y\": 26, \"val\": 0}, {\"x\": 28, \"y\": 26, \"val\": 0}, {\"x\": 1, \"y\": 27, \"val\": 0}, {\"x\": 2, \"y\": 27, \"val\": 0}, {\"x\": 3, \"y\": 27, \"val\": 0}, {\"x\": 4, \"y\": 27, \"val\": 0}, {\"x\": 5, \"y\": 27, \"val\": 0}, {\"x\": 6, \"y\": 27, \"val\": 0}, {\"x\": 7, \"y\": 27, \"val\": 0}, {\"x\": 8, \"y\": 27, \"val\": 0}, {\"x\": 9, \"y\": 27, \"val\": 0}, {\"x\": 10, \"y\": 27, \"val\": 0}, {\"x\": 11, \"y\": 27, \"val\": 0}, {\"x\": 12, \"y\": 27, \"val\": 0}, {\"x\": 13, \"y\": 27, \"val\": 0}, {\"x\": 14, \"y\": 27, \"val\": 0}, {\"x\": 15, \"y\": 27, \"val\": 0}, {\"x\": 16, \"y\": 27, \"val\": 0}, {\"x\": 17, \"y\": 27, \"val\": 0}, {\"x\": 18, \"y\": 27, \"val\": 0}, {\"x\": 19, \"y\": 27, \"val\": 0}, {\"x\": 20, \"y\": 27, \"val\": 0}, {\"x\": 21, \"y\": 27, \"val\": 0}, {\"x\": 22, \"y\": 27, \"val\": 0}, {\"x\": 23, \"y\": 27, \"val\": 0}, {\"x\": 24, \"y\": 27, \"val\": 0}, {\"x\": 25, \"y\": 27, \"val\": 0}, {\"x\": 26, \"y\": 27, \"val\": 0}, {\"x\": 27, \"y\": 27, \"val\": 0}, {\"x\": 28, \"y\": 27, \"val\": 0}, {\"x\": 1, \"y\": 28, \"val\": 0}, {\"x\": 2, \"y\": 28, \"val\": 0}, {\"x\": 3, \"y\": 28, \"val\": 0}, {\"x\": 4, \"y\": 28, \"val\": 0}, {\"x\": 5, \"y\": 28, \"val\": 0}, {\"x\": 6, \"y\": 28, \"val\": 0}, {\"x\": 7, \"y\": 28, \"val\": 0}, {\"x\": 8, \"y\": 28, \"val\": 0}, {\"x\": 9, \"y\": 28, \"val\": 0}, {\"x\": 10, \"y\": 28, \"val\": 0}, {\"x\": 11, \"y\": 28, \"val\": 0}, {\"x\": 12, \"y\": 28, \"val\": 0}, {\"x\": 13, \"y\": 28, \"val\": 0}, {\"x\": 14, \"y\": 28, \"val\": 0}, {\"x\": 15, \"y\": 28, \"val\": 0}, {\"x\": 16, \"y\": 28, \"val\": 0}, {\"x\": 17, \"y\": 28, \"val\": 0}, {\"x\": 18, \"y\": 28, \"val\": 0}, {\"x\": 19, \"y\": 28, \"val\": 0}, {\"x\": 20, \"y\": 28, \"val\": 0}, {\"x\": 21, \"y\": 28, \"val\": 0}, {\"x\": 22, \"y\": 28, \"val\": 0}, {\"x\": 23, \"y\": 28, \"val\": 0}, {\"x\": 24, \"y\": 28, \"val\": 0}, {\"x\": 25, \"y\": 28, \"val\": 0}, {\"x\": 26, \"y\": 28, \"val\": 0}, {\"x\": 27, \"y\": 28, \"val\": 0}, {\"x\": 28, \"y\": 28, \"val\": 0}], \"data-2cf909783427897c9f0f90f0536ebd95\": [{\"x\": 1, \"y\": 1, \"val\": 0}, {\"x\": 2, \"y\": 1, \"val\": 0}, {\"x\": 3, \"y\": 1, \"val\": 0}, {\"x\": 4, \"y\": 1, \"val\": 0}, {\"x\": 5, \"y\": 1, \"val\": 0}, {\"x\": 6, \"y\": 1, \"val\": 0}, {\"x\": 7, \"y\": 1, \"val\": 0}, {\"x\": 8, \"y\": 1, \"val\": 0}, {\"x\": 9, \"y\": 1, \"val\": 0}, {\"x\": 10, \"y\": 1, \"val\": 0}, {\"x\": 11, \"y\": 1, \"val\": 0}, {\"x\": 12, \"y\": 1, \"val\": 0}, {\"x\": 13, \"y\": 1, \"val\": 0}, {\"x\": 14, \"y\": 1, \"val\": 0}, {\"x\": 15, \"y\": 1, \"val\": 0}, {\"x\": 16, \"y\": 1, \"val\": 0}, {\"x\": 17, \"y\": 1, \"val\": 0}, {\"x\": 18, \"y\": 1, \"val\": 0}, {\"x\": 19, \"y\": 1, \"val\": 0}, {\"x\": 20, \"y\": 1, \"val\": 0}, {\"x\": 21, \"y\": 1, \"val\": 0}, {\"x\": 22, \"y\": 1, \"val\": 0}, {\"x\": 23, \"y\": 1, \"val\": 0}, {\"x\": 24, \"y\": 1, \"val\": 0}, {\"x\": 25, \"y\": 1, \"val\": 0}, {\"x\": 26, \"y\": 1, \"val\": 0}, {\"x\": 27, \"y\": 1, \"val\": 0}, {\"x\": 28, \"y\": 1, \"val\": 0}, {\"x\": 1, \"y\": 2, \"val\": 0}, {\"x\": 2, \"y\": 2, \"val\": 0}, {\"x\": 3, \"y\": 2, \"val\": 0}, {\"x\": 4, \"y\": 2, \"val\": 0}, {\"x\": 5, \"y\": 2, \"val\": 0}, {\"x\": 6, \"y\": 2, \"val\": 0}, {\"x\": 7, \"y\": 2, \"val\": 0}, {\"x\": 8, \"y\": 2, \"val\": 0}, {\"x\": 9, \"y\": 2, \"val\": 0}, {\"x\": 10, \"y\": 2, \"val\": 0}, {\"x\": 11, \"y\": 2, \"val\": 0}, {\"x\": 12, \"y\": 2, \"val\": 0}, {\"x\": 13, \"y\": 2, \"val\": 0}, {\"x\": 14, \"y\": 2, \"val\": 0}, {\"x\": 15, \"y\": 2, \"val\": 0}, {\"x\": 16, \"y\": 2, \"val\": 0}, {\"x\": 17, \"y\": 2, \"val\": 0}, {\"x\": 18, \"y\": 2, \"val\": 0}, {\"x\": 19, \"y\": 2, \"val\": 0}, {\"x\": 20, \"y\": 2, \"val\": 0}, {\"x\": 21, \"y\": 2, \"val\": 0}, {\"x\": 22, \"y\": 2, \"val\": 0}, {\"x\": 23, \"y\": 2, \"val\": 0}, {\"x\": 24, \"y\": 2, \"val\": 0}, {\"x\": 25, \"y\": 2, \"val\": 0}, {\"x\": 26, \"y\": 2, \"val\": 0}, {\"x\": 27, \"y\": 2, \"val\": 0}, {\"x\": 28, \"y\": 2, \"val\": 0}, {\"x\": 1, \"y\": 3, \"val\": 0}, {\"x\": 2, \"y\": 3, \"val\": 0}, {\"x\": 3, \"y\": 3, \"val\": 0}, {\"x\": 4, \"y\": 3, \"val\": 0}, {\"x\": 5, \"y\": 3, \"val\": 0}, {\"x\": 6, \"y\": 3, \"val\": 0}, {\"x\": 7, \"y\": 3, \"val\": 0}, {\"x\": 8, \"y\": 3, \"val\": 0}, {\"x\": 9, \"y\": 3, \"val\": 0}, {\"x\": 10, \"y\": 3, \"val\": 0}, {\"x\": 11, \"y\": 3, \"val\": 0}, {\"x\": 12, \"y\": 3, \"val\": 0}, {\"x\": 13, \"y\": 3, \"val\": 0}, {\"x\": 14, \"y\": 3, \"val\": 0}, {\"x\": 15, \"y\": 3, \"val\": 0}, {\"x\": 16, \"y\": 3, \"val\": 0}, {\"x\": 17, \"y\": 3, \"val\": 0}, {\"x\": 18, \"y\": 3, \"val\": 0}, {\"x\": 19, \"y\": 3, \"val\": 0}, {\"x\": 20, \"y\": 3, \"val\": 0}, {\"x\": 21, \"y\": 3, \"val\": 0}, {\"x\": 22, \"y\": 3, \"val\": 0}, {\"x\": 23, \"y\": 3, \"val\": 0}, {\"x\": 24, \"y\": 3, \"val\": 0}, {\"x\": 25, \"y\": 3, \"val\": 0}, {\"x\": 26, \"y\": 3, \"val\": 0}, {\"x\": 27, \"y\": 3, \"val\": 0}, {\"x\": 28, \"y\": 3, \"val\": 0}, {\"x\": 1, \"y\": 4, \"val\": 0}, {\"x\": 2, \"y\": 4, \"val\": 0}, {\"x\": 3, \"y\": 4, \"val\": 0}, {\"x\": 4, \"y\": 4, \"val\": 0}, {\"x\": 5, \"y\": 4, \"val\": 0}, {\"x\": 6, \"y\": 4, \"val\": 0}, {\"x\": 7, \"y\": 4, \"val\": 0}, {\"x\": 8, \"y\": 4, \"val\": 0}, {\"x\": 9, \"y\": 4, \"val\": 0}, {\"x\": 10, \"y\": 4, \"val\": 0}, {\"x\": 11, \"y\": 4, \"val\": 0}, {\"x\": 12, \"y\": 4, \"val\": 0}, {\"x\": 13, \"y\": 4, \"val\": 0}, {\"x\": 14, \"y\": 4, \"val\": 0}, {\"x\": 15, \"y\": 4, \"val\": 0}, {\"x\": 16, \"y\": 4, \"val\": 0}, {\"x\": 17, \"y\": 4, \"val\": 0}, {\"x\": 18, \"y\": 4, \"val\": 0}, {\"x\": 19, \"y\": 4, \"val\": 0}, {\"x\": 20, \"y\": 4, \"val\": 0}, {\"x\": 21, \"y\": 4, \"val\": 0}, {\"x\": 22, \"y\": 4, \"val\": 0}, {\"x\": 23, \"y\": 4, \"val\": 0}, {\"x\": 24, \"y\": 4, \"val\": 0}, {\"x\": 25, \"y\": 4, \"val\": 0}, {\"x\": 26, \"y\": 4, \"val\": 0}, {\"x\": 27, \"y\": 4, \"val\": 0}, {\"x\": 28, \"y\": 4, \"val\": 0}, {\"x\": 1, \"y\": 5, \"val\": 0}, {\"x\": 2, \"y\": 5, \"val\": 0}, {\"x\": 3, \"y\": 5, \"val\": 0}, {\"x\": 4, \"y\": 5, \"val\": 0}, {\"x\": 5, \"y\": 5, \"val\": 0}, {\"x\": 6, \"y\": 5, \"val\": 0}, {\"x\": 7, \"y\": 5, \"val\": 0}, {\"x\": 8, \"y\": 5, \"val\": 0}, {\"x\": 9, \"y\": 5, \"val\": 0}, {\"x\": 10, \"y\": 5, \"val\": 0}, {\"x\": 11, \"y\": 5, \"val\": 0}, {\"x\": 12, \"y\": 5, \"val\": 0}, {\"x\": 13, \"y\": 5, \"val\": 0}, {\"x\": 14, \"y\": 5, \"val\": 0}, {\"x\": 15, \"y\": 5, \"val\": 0}, {\"x\": 16, \"y\": 5, \"val\": 0}, {\"x\": 17, \"y\": 5, \"val\": 0}, {\"x\": 18, \"y\": 5, \"val\": 0}, {\"x\": 19, \"y\": 5, \"val\": 0}, {\"x\": 20, \"y\": 5, \"val\": 0}, {\"x\": 21, \"y\": 5, \"val\": 0}, {\"x\": 22, \"y\": 5, \"val\": 0}, {\"x\": 23, \"y\": 5, \"val\": 0}, {\"x\": 24, \"y\": 5, \"val\": 0}, {\"x\": 25, \"y\": 5, \"val\": 0}, {\"x\": 26, \"y\": 5, \"val\": 0}, {\"x\": 27, \"y\": 5, \"val\": 0}, {\"x\": 28, \"y\": 5, \"val\": 0}, {\"x\": 1, \"y\": 6, \"val\": 0}, {\"x\": 2, \"y\": 6, \"val\": 0}, {\"x\": 3, \"y\": 6, \"val\": 0}, {\"x\": 4, \"y\": 6, \"val\": 0}, {\"x\": 5, \"y\": 6, \"val\": 0}, {\"x\": 6, \"y\": 6, \"val\": 0}, {\"x\": 7, \"y\": 6, \"val\": 0}, {\"x\": 8, \"y\": 6, \"val\": 0}, {\"x\": 9, \"y\": 6, \"val\": 0}, {\"x\": 10, \"y\": 6, \"val\": 0}, {\"x\": 11, \"y\": 6, \"val\": 0}, {\"x\": 12, \"y\": 6, \"val\": 0}, {\"x\": 13, \"y\": 6, \"val\": 0}, {\"x\": 14, \"y\": 6, \"val\": 0}, {\"x\": 15, \"y\": 6, \"val\": 0}, {\"x\": 16, \"y\": 6, \"val\": 0}, {\"x\": 17, \"y\": 6, \"val\": 0}, {\"x\": 18, \"y\": 6, \"val\": 0}, {\"x\": 19, \"y\": 6, \"val\": 0}, {\"x\": 20, \"y\": 6, \"val\": 0}, {\"x\": 21, \"y\": 6, \"val\": 0}, {\"x\": 22, \"y\": 6, \"val\": 0}, {\"x\": 23, \"y\": 6, \"val\": 0}, {\"x\": 24, \"y\": 6, \"val\": 0}, {\"x\": 25, \"y\": 6, \"val\": 0}, {\"x\": 26, \"y\": 6, \"val\": 0}, {\"x\": 27, \"y\": 6, \"val\": 0}, {\"x\": 28, \"y\": 6, \"val\": 0}, {\"x\": 1, \"y\": 7, \"val\": 0}, {\"x\": 2, \"y\": 7, \"val\": 0}, {\"x\": 3, \"y\": 7, \"val\": 0}, {\"x\": 4, \"y\": 7, \"val\": 0}, {\"x\": 5, \"y\": 7, \"val\": 0}, {\"x\": 6, \"y\": 7, \"val\": 0}, {\"x\": 7, \"y\": 7, \"val\": 0}, {\"x\": 8, \"y\": 7, \"val\": 0}, {\"x\": 9, \"y\": 7, \"val\": 0}, {\"x\": 10, \"y\": 7, \"val\": 0}, {\"x\": 11, \"y\": 7, \"val\": 0}, {\"x\": 12, \"y\": 7, \"val\": 0}, {\"x\": 13, \"y\": 7, \"val\": 0}, {\"x\": 14, \"y\": 7, \"val\": 0}, {\"x\": 15, \"y\": 7, \"val\": 0}, {\"x\": 16, \"y\": 7, \"val\": 0}, {\"x\": 17, \"y\": 7, \"val\": 0}, {\"x\": 18, \"y\": 7, \"val\": 0}, {\"x\": 19, \"y\": 7, \"val\": 0}, {\"x\": 20, \"y\": 7, \"val\": 0}, {\"x\": 21, \"y\": 7, \"val\": 0}, {\"x\": 22, \"y\": 7, \"val\": 0}, {\"x\": 23, \"y\": 7, \"val\": 0}, {\"x\": 24, \"y\": 7, \"val\": 0}, {\"x\": 25, \"y\": 7, \"val\": 0}, {\"x\": 26, \"y\": 7, \"val\": 0}, {\"x\": 27, \"y\": 7, \"val\": 0}, {\"x\": 28, \"y\": 7, \"val\": 0}, {\"x\": 1, \"y\": 8, \"val\": 0}, {\"x\": 2, \"y\": 8, \"val\": 0}, {\"x\": 3, \"y\": 8, \"val\": 0}, {\"x\": 4, \"y\": 8, \"val\": 0}, {\"x\": 5, \"y\": 8, \"val\": 0}, {\"x\": 6, \"y\": 8, \"val\": 0}, {\"x\": 7, \"y\": 8, \"val\": 0}, {\"x\": 8, \"y\": 8, \"val\": 0}, {\"x\": 9, \"y\": 8, \"val\": 0}, {\"x\": 10, \"y\": 8, \"val\": 0}, {\"x\": 11, \"y\": 8, \"val\": 0}, {\"x\": 12, \"y\": 8, \"val\": 0}, {\"x\": 13, \"y\": 8, \"val\": 0}, {\"x\": 14, \"y\": 8, \"val\": 0}, {\"x\": 15, \"y\": 8, \"val\": 0}, {\"x\": 16, \"y\": 8, \"val\": 0}, {\"x\": 17, \"y\": 8, \"val\": 0}, {\"x\": 18, \"y\": 8, \"val\": 0}, {\"x\": 19, \"y\": 8, \"val\": 0}, {\"x\": 20, \"y\": 8, \"val\": 0}, {\"x\": 21, \"y\": 8, \"val\": 0}, {\"x\": 22, \"y\": 8, \"val\": 0}, {\"x\": 23, \"y\": 8, \"val\": 0}, {\"x\": 24, \"y\": 8, \"val\": 6}, {\"x\": 25, \"y\": 8, \"val\": 37}, {\"x\": 26, \"y\": 8, \"val\": 37}, {\"x\": 27, \"y\": 8, \"val\": 0}, {\"x\": 28, \"y\": 8, \"val\": 0}, {\"x\": 1, \"y\": 9, \"val\": 0}, {\"x\": 2, \"y\": 9, \"val\": 0}, {\"x\": 3, \"y\": 9, \"val\": 0}, {\"x\": 4, \"y\": 9, \"val\": 0}, {\"x\": 5, \"y\": 9, \"val\": 0}, {\"x\": 6, \"y\": 9, \"val\": 0}, {\"x\": 7, \"y\": 9, \"val\": 0}, {\"x\": 8, \"y\": 9, \"val\": 0}, {\"x\": 9, \"y\": 9, \"val\": 0}, {\"x\": 10, \"y\": 9, \"val\": 0}, {\"x\": 11, \"y\": 9, \"val\": 0}, {\"x\": 12, \"y\": 9, \"val\": 0}, {\"x\": 13, \"y\": 9, \"val\": 0}, {\"x\": 14, \"y\": 9, \"val\": 0}, {\"x\": 15, \"y\": 9, \"val\": 0}, {\"x\": 16, \"y\": 9, \"val\": 0}, {\"x\": 17, \"y\": 9, \"val\": 0}, {\"x\": 18, \"y\": 9, \"val\": 0}, {\"x\": 19, \"y\": 9, \"val\": 0}, {\"x\": 20, \"y\": 9, \"val\": 8}, {\"x\": 21, \"y\": 9, \"val\": 51}, {\"x\": 22, \"y\": 9, \"val\": 110}, {\"x\": 23, \"y\": 9, \"val\": 160}, {\"x\": 24, \"y\": 9, \"val\": 207}, {\"x\": 25, \"y\": 9, \"val\": 253}, {\"x\": 26, \"y\": 9, \"val\": 253}, {\"x\": 27, \"y\": 9, \"val\": 0}, {\"x\": 28, \"y\": 9, \"val\": 0}, {\"x\": 1, \"y\": 10, \"val\": 0}, {\"x\": 2, \"y\": 10, \"val\": 0}, {\"x\": 3, \"y\": 10, \"val\": 0}, {\"x\": 4, \"y\": 10, \"val\": 0}, {\"x\": 5, \"y\": 10, \"val\": 0}, {\"x\": 6, \"y\": 10, \"val\": 0}, {\"x\": 7, \"y\": 10, \"val\": 0}, {\"x\": 8, \"y\": 10, \"val\": 0}, {\"x\": 9, \"y\": 10, \"val\": 0}, {\"x\": 10, \"y\": 10, \"val\": 0}, {\"x\": 11, \"y\": 10, \"val\": 0}, {\"x\": 12, \"y\": 10, \"val\": 0}, {\"x\": 13, \"y\": 10, \"val\": 0}, {\"x\": 14, \"y\": 10, \"val\": 0}, {\"x\": 15, \"y\": 10, \"val\": 0}, {\"x\": 16, \"y\": 10, \"val\": 0}, {\"x\": 17, \"y\": 10, \"val\": 0}, {\"x\": 18, \"y\": 10, \"val\": 53}, {\"x\": 19, \"y\": 10, \"val\": 136}, {\"x\": 20, \"y\": 10, \"val\": 212}, {\"x\": 21, \"y\": 10, \"val\": 253}, {\"x\": 22, \"y\": 10, \"val\": 254}, {\"x\": 23, \"y\": 10, \"val\": 253}, {\"x\": 24, \"y\": 10, \"val\": 253}, {\"x\": 25, \"y\": 10, \"val\": 253}, {\"x\": 26, \"y\": 10, \"val\": 188}, {\"x\": 27, \"y\": 10, \"val\": 0}, {\"x\": 28, \"y\": 10, \"val\": 0}, {\"x\": 1, \"y\": 11, \"val\": 0}, {\"x\": 2, \"y\": 11, \"val\": 0}, {\"x\": 3, \"y\": 11, \"val\": 0}, {\"x\": 4, \"y\": 11, \"val\": 0}, {\"x\": 5, \"y\": 11, \"val\": 0}, {\"x\": 6, \"y\": 11, \"val\": 0}, {\"x\": 7, \"y\": 11, \"val\": 0}, {\"x\": 8, \"y\": 11, \"val\": 0}, {\"x\": 9, \"y\": 11, \"val\": 0}, {\"x\": 10, \"y\": 11, \"val\": 0}, {\"x\": 11, \"y\": 11, \"val\": 0}, {\"x\": 12, \"y\": 11, \"val\": 0}, {\"x\": 13, \"y\": 11, \"val\": 0}, {\"x\": 14, \"y\": 11, \"val\": 63}, {\"x\": 15, \"y\": 11, \"val\": 80}, {\"x\": 16, \"y\": 11, \"val\": 195}, {\"x\": 17, \"y\": 11, \"val\": 255}, {\"x\": 18, \"y\": 11, \"val\": 254}, {\"x\": 19, \"y\": 11, \"val\": 254}, {\"x\": 20, \"y\": 11, \"val\": 222}, {\"x\": 21, \"y\": 11, \"val\": 181}, {\"x\": 22, \"y\": 11, \"val\": 182}, {\"x\": 23, \"y\": 11, \"val\": 181}, {\"x\": 24, \"y\": 11, \"val\": 135}, {\"x\": 25, \"y\": 11, \"val\": 52}, {\"x\": 26, \"y\": 11, \"val\": 0}, {\"x\": 27, \"y\": 11, \"val\": 0}, {\"x\": 28, \"y\": 11, \"val\": 0}, {\"x\": 1, \"y\": 12, \"val\": 0}, {\"x\": 2, \"y\": 12, \"val\": 0}, {\"x\": 3, \"y\": 12, \"val\": 0}, {\"x\": 4, \"y\": 12, \"val\": 0}, {\"x\": 5, \"y\": 12, \"val\": 0}, {\"x\": 6, \"y\": 12, \"val\": 0}, {\"x\": 7, \"y\": 12, \"val\": 0}, {\"x\": 8, \"y\": 12, \"val\": 0}, {\"x\": 9, \"y\": 12, \"val\": 0}, {\"x\": 10, \"y\": 12, \"val\": 0}, {\"x\": 11, \"y\": 12, \"val\": 0}, {\"x\": 12, \"y\": 12, \"val\": 16}, {\"x\": 13, \"y\": 12, \"val\": 223}, {\"x\": 14, \"y\": 12, \"val\": 250}, {\"x\": 15, \"y\": 12, \"val\": 253}, {\"x\": 16, \"y\": 12, \"val\": 253}, {\"x\": 17, \"y\": 12, \"val\": 254}, {\"x\": 18, \"y\": 12, \"val\": 182}, {\"x\": 19, \"y\": 12, \"val\": 18}, {\"x\": 20, \"y\": 12, \"val\": 10}, {\"x\": 21, \"y\": 12, \"val\": 0}, {\"x\": 22, \"y\": 12, \"val\": 0}, {\"x\": 23, \"y\": 12, \"val\": 0}, {\"x\": 24, \"y\": 12, \"val\": 0}, {\"x\": 25, \"y\": 12, \"val\": 0}, {\"x\": 26, \"y\": 12, \"val\": 0}, {\"x\": 27, \"y\": 12, \"val\": 0}, {\"x\": 28, \"y\": 12, \"val\": 0}, {\"x\": 1, \"y\": 13, \"val\": 0}, {\"x\": 2, \"y\": 13, \"val\": 0}, {\"x\": 3, \"y\": 13, \"val\": 0}, {\"x\": 4, \"y\": 13, \"val\": 0}, {\"x\": 5, \"y\": 13, \"val\": 0}, {\"x\": 6, \"y\": 13, \"val\": 0}, {\"x\": 7, \"y\": 13, \"val\": 0}, {\"x\": 8, \"y\": 13, \"val\": 0}, {\"x\": 9, \"y\": 13, \"val\": 0}, {\"x\": 10, \"y\": 13, \"val\": 3}, {\"x\": 11, \"y\": 13, \"val\": 133}, {\"x\": 12, \"y\": 13, \"val\": 228}, {\"x\": 13, \"y\": 13, \"val\": 253}, {\"x\": 14, \"y\": 13, \"val\": 247}, {\"x\": 15, \"y\": 13, \"val\": 216}, {\"x\": 16, \"y\": 13, \"val\": 151}, {\"x\": 17, \"y\": 13, \"val\": 69}, {\"x\": 18, \"y\": 13, \"val\": 16}, {\"x\": 19, \"y\": 13, \"val\": 0}, {\"x\": 20, \"y\": 13, \"val\": 0}, {\"x\": 21, \"y\": 13, \"val\": 0}, {\"x\": 22, \"y\": 13, \"val\": 0}, {\"x\": 23, \"y\": 13, \"val\": 0}, {\"x\": 24, \"y\": 13, \"val\": 0}, {\"x\": 25, \"y\": 13, \"val\": 0}, {\"x\": 26, \"y\": 13, \"val\": 0}, {\"x\": 27, \"y\": 13, \"val\": 0}, {\"x\": 28, \"y\": 13, \"val\": 0}, {\"x\": 1, \"y\": 14, \"val\": 0}, {\"x\": 2, \"y\": 14, \"val\": 0}, {\"x\": 3, \"y\": 14, \"val\": 0}, {\"x\": 4, \"y\": 14, \"val\": 0}, {\"x\": 5, \"y\": 14, \"val\": 0}, {\"x\": 6, \"y\": 14, \"val\": 0}, {\"x\": 7, \"y\": 14, \"val\": 0}, {\"x\": 8, \"y\": 14, \"val\": 0}, {\"x\": 9, \"y\": 14, \"val\": 0}, {\"x\": 10, \"y\": 14, \"val\": 58}, {\"x\": 11, \"y\": 14, \"val\": 253}, {\"x\": 12, \"y\": 14, \"val\": 254}, {\"x\": 13, \"y\": 14, \"val\": 253}, {\"x\": 14, \"y\": 14, \"val\": 116}, {\"x\": 15, \"y\": 14, \"val\": 4}, {\"x\": 16, \"y\": 14, \"val\": 0}, {\"x\": 17, \"y\": 14, \"val\": 0}, {\"x\": 18, \"y\": 14, \"val\": 0}, {\"x\": 19, \"y\": 14, \"val\": 0}, {\"x\": 20, \"y\": 14, \"val\": 0}, {\"x\": 21, \"y\": 14, \"val\": 0}, {\"x\": 22, \"y\": 14, \"val\": 0}, {\"x\": 23, \"y\": 14, \"val\": 0}, {\"x\": 24, \"y\": 14, \"val\": 0}, {\"x\": 25, \"y\": 14, \"val\": 0}, {\"x\": 26, \"y\": 14, \"val\": 0}, {\"x\": 27, \"y\": 14, \"val\": 0}, {\"x\": 28, \"y\": 14, \"val\": 0}, {\"x\": 1, \"y\": 15, \"val\": 0}, {\"x\": 2, \"y\": 15, \"val\": 0}, {\"x\": 3, \"y\": 15, \"val\": 0}, {\"x\": 4, \"y\": 15, \"val\": 0}, {\"x\": 5, \"y\": 15, \"val\": 0}, {\"x\": 6, \"y\": 15, \"val\": 0}, {\"x\": 7, \"y\": 15, \"val\": 0}, {\"x\": 8, \"y\": 15, \"val\": 0}, {\"x\": 9, \"y\": 15, \"val\": 0}, {\"x\": 10, \"y\": 15, \"val\": 38}, {\"x\": 11, \"y\": 15, \"val\": 227}, {\"x\": 12, \"y\": 15, \"val\": 254}, {\"x\": 13, \"y\": 15, \"val\": 253}, {\"x\": 14, \"y\": 15, \"val\": 227}, {\"x\": 15, \"y\": 15, \"val\": 87}, {\"x\": 16, \"y\": 15, \"val\": 0}, {\"x\": 17, \"y\": 15, \"val\": 0}, {\"x\": 18, \"y\": 15, \"val\": 0}, {\"x\": 19, \"y\": 15, \"val\": 0}, {\"x\": 20, \"y\": 15, \"val\": 0}, {\"x\": 21, \"y\": 15, \"val\": 0}, {\"x\": 22, \"y\": 15, \"val\": 0}, {\"x\": 23, \"y\": 15, \"val\": 0}, {\"x\": 24, \"y\": 15, \"val\": 0}, {\"x\": 25, \"y\": 15, \"val\": 0}, {\"x\": 26, \"y\": 15, \"val\": 0}, {\"x\": 27, \"y\": 15, \"val\": 0}, {\"x\": 28, \"y\": 15, \"val\": 0}, {\"x\": 1, \"y\": 16, \"val\": 0}, {\"x\": 2, \"y\": 16, \"val\": 0}, {\"x\": 3, \"y\": 16, \"val\": 0}, {\"x\": 4, \"y\": 16, \"val\": 0}, {\"x\": 5, \"y\": 16, \"val\": 0}, {\"x\": 6, \"y\": 16, \"val\": 0}, {\"x\": 7, \"y\": 16, \"val\": 0}, {\"x\": 8, \"y\": 16, \"val\": 0}, {\"x\": 9, \"y\": 16, \"val\": 0}, {\"x\": 10, \"y\": 16, \"val\": 0}, {\"x\": 11, \"y\": 16, \"val\": 33}, {\"x\": 12, \"y\": 16, \"val\": 182}, {\"x\": 13, \"y\": 16, \"val\": 249}, {\"x\": 14, \"y\": 16, \"val\": 254}, {\"x\": 15, \"y\": 16, \"val\": 203}, {\"x\": 16, \"y\": 16, \"val\": 0}, {\"x\": 17, \"y\": 16, \"val\": 0}, {\"x\": 18, \"y\": 16, \"val\": 0}, {\"x\": 19, \"y\": 16, \"val\": 0}, {\"x\": 20, \"y\": 16, \"val\": 0}, {\"x\": 21, \"y\": 16, \"val\": 0}, {\"x\": 22, \"y\": 16, \"val\": 0}, {\"x\": 23, \"y\": 16, \"val\": 0}, {\"x\": 24, \"y\": 16, \"val\": 0}, {\"x\": 25, \"y\": 16, \"val\": 0}, {\"x\": 26, \"y\": 16, \"val\": 0}, {\"x\": 27, \"y\": 16, \"val\": 0}, {\"x\": 28, \"y\": 16, \"val\": 0}, {\"x\": 1, \"y\": 17, \"val\": 0}, {\"x\": 2, \"y\": 17, \"val\": 0}, {\"x\": 3, \"y\": 17, \"val\": 0}, {\"x\": 4, \"y\": 17, \"val\": 0}, {\"x\": 5, \"y\": 17, \"val\": 0}, {\"x\": 6, \"y\": 17, \"val\": 0}, {\"x\": 7, \"y\": 17, \"val\": 0}, {\"x\": 8, \"y\": 17, \"val\": 0}, {\"x\": 9, \"y\": 17, \"val\": 0}, {\"x\": 10, \"y\": 17, \"val\": 0}, {\"x\": 11, \"y\": 17, \"val\": 0}, {\"x\": 12, \"y\": 17, \"val\": 0}, {\"x\": 13, \"y\": 17, \"val\": 67}, {\"x\": 14, \"y\": 17, \"val\": 253}, {\"x\": 15, \"y\": 17, \"val\": 215}, {\"x\": 16, \"y\": 17, \"val\": 0}, {\"x\": 17, \"y\": 17, \"val\": 0}, {\"x\": 18, \"y\": 17, \"val\": 0}, {\"x\": 19, \"y\": 17, \"val\": 0}, {\"x\": 20, \"y\": 17, \"val\": 0}, {\"x\": 21, \"y\": 17, \"val\": 0}, {\"x\": 22, \"y\": 17, \"val\": 0}, {\"x\": 23, \"y\": 17, \"val\": 0}, {\"x\": 24, \"y\": 17, \"val\": 0}, {\"x\": 25, \"y\": 17, \"val\": 0}, {\"x\": 26, \"y\": 17, \"val\": 0}, {\"x\": 27, \"y\": 17, \"val\": 0}, {\"x\": 28, \"y\": 17, \"val\": 0}, {\"x\": 1, \"y\": 18, \"val\": 0}, {\"x\": 2, \"y\": 18, \"val\": 0}, {\"x\": 3, \"y\": 18, \"val\": 0}, {\"x\": 4, \"y\": 18, \"val\": 0}, {\"x\": 5, \"y\": 18, \"val\": 0}, {\"x\": 6, \"y\": 18, \"val\": 0}, {\"x\": 7, \"y\": 18, \"val\": 0}, {\"x\": 8, \"y\": 18, \"val\": 0}, {\"x\": 9, \"y\": 18, \"val\": 0}, {\"x\": 10, \"y\": 18, \"val\": 0}, {\"x\": 11, \"y\": 18, \"val\": 0}, {\"x\": 12, \"y\": 18, \"val\": 0}, {\"x\": 13, \"y\": 18, \"val\": 68}, {\"x\": 14, \"y\": 18, \"val\": 253}, {\"x\": 15, \"y\": 18, \"val\": 157}, {\"x\": 16, \"y\": 18, \"val\": 0}, {\"x\": 17, \"y\": 18, \"val\": 0}, {\"x\": 18, \"y\": 18, \"val\": 0}, {\"x\": 19, \"y\": 18, \"val\": 0}, {\"x\": 20, \"y\": 18, \"val\": 0}, {\"x\": 21, \"y\": 18, \"val\": 0}, {\"x\": 22, \"y\": 18, \"val\": 0}, {\"x\": 23, \"y\": 18, \"val\": 0}, {\"x\": 24, \"y\": 18, \"val\": 0}, {\"x\": 25, \"y\": 18, \"val\": 0}, {\"x\": 26, \"y\": 18, \"val\": 0}, {\"x\": 27, \"y\": 18, \"val\": 0}, {\"x\": 28, \"y\": 18, \"val\": 0}, {\"x\": 1, \"y\": 19, \"val\": 0}, {\"x\": 2, \"y\": 19, \"val\": 0}, {\"x\": 3, \"y\": 19, \"val\": 0}, {\"x\": 4, \"y\": 19, \"val\": 0}, {\"x\": 5, \"y\": 19, \"val\": 0}, {\"x\": 6, \"y\": 19, \"val\": 0}, {\"x\": 7, \"y\": 19, \"val\": 135}, {\"x\": 8, \"y\": 19, \"val\": 92}, {\"x\": 9, \"y\": 19, \"val\": 0}, {\"x\": 10, \"y\": 19, \"val\": 0}, {\"x\": 11, \"y\": 19, \"val\": 0}, {\"x\": 12, \"y\": 19, \"val\": 0}, {\"x\": 13, \"y\": 19, \"val\": 184}, {\"x\": 14, \"y\": 19, \"val\": 253}, {\"x\": 15, \"y\": 19, \"val\": 125}, {\"x\": 16, \"y\": 19, \"val\": 0}, {\"x\": 17, \"y\": 19, \"val\": 0}, {\"x\": 18, \"y\": 19, \"val\": 0}, {\"x\": 19, \"y\": 19, \"val\": 0}, {\"x\": 20, \"y\": 19, \"val\": 0}, {\"x\": 21, \"y\": 19, \"val\": 0}, {\"x\": 22, \"y\": 19, \"val\": 0}, {\"x\": 23, \"y\": 19, \"val\": 0}, {\"x\": 24, \"y\": 19, \"val\": 0}, {\"x\": 25, \"y\": 19, \"val\": 0}, {\"x\": 26, \"y\": 19, \"val\": 0}, {\"x\": 27, \"y\": 19, \"val\": 0}, {\"x\": 28, \"y\": 19, \"val\": 0}, {\"x\": 1, \"y\": 20, \"val\": 0}, {\"x\": 2, \"y\": 20, \"val\": 0}, {\"x\": 3, \"y\": 20, \"val\": 0}, {\"x\": 4, \"y\": 20, \"val\": 0}, {\"x\": 5, \"y\": 20, \"val\": 0}, {\"x\": 6, \"y\": 20, \"val\": 0}, {\"x\": 7, \"y\": 20, \"val\": 254}, {\"x\": 8, \"y\": 20, \"val\": 218}, {\"x\": 9, \"y\": 20, \"val\": 46}, {\"x\": 10, \"y\": 20, \"val\": 0}, {\"x\": 11, \"y\": 20, \"val\": 0}, {\"x\": 12, \"y\": 20, \"val\": 27}, {\"x\": 13, \"y\": 20, \"val\": 242}, {\"x\": 14, \"y\": 20, \"val\": 253}, {\"x\": 15, \"y\": 20, \"val\": 54}, {\"x\": 16, \"y\": 20, \"val\": 0}, {\"x\": 17, \"y\": 20, \"val\": 0}, {\"x\": 18, \"y\": 20, \"val\": 0}, {\"x\": 19, \"y\": 20, \"val\": 0}, {\"x\": 20, \"y\": 20, \"val\": 0}, {\"x\": 21, \"y\": 20, \"val\": 0}, {\"x\": 22, \"y\": 20, \"val\": 0}, {\"x\": 23, \"y\": 20, \"val\": 0}, {\"x\": 24, \"y\": 20, \"val\": 0}, {\"x\": 25, \"y\": 20, \"val\": 0}, {\"x\": 26, \"y\": 20, \"val\": 0}, {\"x\": 27, \"y\": 20, \"val\": 0}, {\"x\": 28, \"y\": 20, \"val\": 0}, {\"x\": 1, \"y\": 21, \"val\": 0}, {\"x\": 2, \"y\": 21, \"val\": 0}, {\"x\": 3, \"y\": 21, \"val\": 0}, {\"x\": 4, \"y\": 21, \"val\": 0}, {\"x\": 5, \"y\": 21, \"val\": 0}, {\"x\": 6, \"y\": 21, \"val\": 0}, {\"x\": 7, \"y\": 21, \"val\": 170}, {\"x\": 8, \"y\": 21, \"val\": 254}, {\"x\": 9, \"y\": 21, \"val\": 254}, {\"x\": 10, \"y\": 21, \"val\": 215}, {\"x\": 11, \"y\": 21, \"val\": 228}, {\"x\": 12, \"y\": 21, \"val\": 255}, {\"x\": 13, \"y\": 21, \"val\": 254}, {\"x\": 14, \"y\": 21, \"val\": 133}, {\"x\": 15, \"y\": 21, \"val\": 0}, {\"x\": 16, \"y\": 21, \"val\": 0}, {\"x\": 17, \"y\": 21, \"val\": 0}, {\"x\": 18, \"y\": 21, \"val\": 0}, {\"x\": 19, \"y\": 21, \"val\": 0}, {\"x\": 20, \"y\": 21, \"val\": 0}, {\"x\": 21, \"y\": 21, \"val\": 0}, {\"x\": 22, \"y\": 21, \"val\": 0}, {\"x\": 23, \"y\": 21, \"val\": 0}, {\"x\": 24, \"y\": 21, \"val\": 0}, {\"x\": 25, \"y\": 21, \"val\": 0}, {\"x\": 26, \"y\": 21, \"val\": 0}, {\"x\": 27, \"y\": 21, \"val\": 0}, {\"x\": 28, \"y\": 21, \"val\": 0}, {\"x\": 1, \"y\": 22, \"val\": 0}, {\"x\": 2, \"y\": 22, \"val\": 0}, {\"x\": 3, \"y\": 22, \"val\": 0}, {\"x\": 4, \"y\": 22, \"val\": 0}, {\"x\": 5, \"y\": 22, \"val\": 0}, {\"x\": 6, \"y\": 22, \"val\": 0}, {\"x\": 7, \"y\": 22, \"val\": 31}, {\"x\": 8, \"y\": 22, \"val\": 160}, {\"x\": 9, \"y\": 22, \"val\": 206}, {\"x\": 10, \"y\": 22, \"val\": 253}, {\"x\": 11, \"y\": 22, \"val\": 214}, {\"x\": 12, \"y\": 22, \"val\": 140}, {\"x\": 13, \"y\": 22, \"val\": 108}, {\"x\": 14, \"y\": 22, \"val\": 16}, {\"x\": 15, \"y\": 22, \"val\": 0}, {\"x\": 16, \"y\": 22, \"val\": 0}, {\"x\": 17, \"y\": 22, \"val\": 0}, {\"x\": 18, \"y\": 22, \"val\": 0}, {\"x\": 19, \"y\": 22, \"val\": 0}, {\"x\": 20, \"y\": 22, \"val\": 0}, {\"x\": 21, \"y\": 22, \"val\": 0}, {\"x\": 22, \"y\": 22, \"val\": 0}, {\"x\": 23, \"y\": 22, \"val\": 0}, {\"x\": 24, \"y\": 22, \"val\": 0}, {\"x\": 25, \"y\": 22, \"val\": 0}, {\"x\": 26, \"y\": 22, \"val\": 0}, {\"x\": 27, \"y\": 22, \"val\": 0}, {\"x\": 28, \"y\": 22, \"val\": 0}, {\"x\": 1, \"y\": 23, \"val\": 0}, {\"x\": 2, \"y\": 23, \"val\": 0}, {\"x\": 3, \"y\": 23, \"val\": 0}, {\"x\": 4, \"y\": 23, \"val\": 0}, {\"x\": 5, \"y\": 23, \"val\": 0}, {\"x\": 6, \"y\": 23, \"val\": 0}, {\"x\": 7, \"y\": 23, \"val\": 0}, {\"x\": 8, \"y\": 23, \"val\": 0}, {\"x\": 9, \"y\": 23, \"val\": 6}, {\"x\": 10, \"y\": 23, \"val\": 36}, {\"x\": 11, \"y\": 23, \"val\": 11}, {\"x\": 12, \"y\": 23, \"val\": 0}, {\"x\": 13, \"y\": 23, \"val\": 0}, {\"x\": 14, \"y\": 23, \"val\": 0}, {\"x\": 15, \"y\": 23, \"val\": 0}, {\"x\": 16, \"y\": 23, \"val\": 0}, {\"x\": 17, \"y\": 23, \"val\": 0}, {\"x\": 18, \"y\": 23, \"val\": 0}, {\"x\": 19, \"y\": 23, \"val\": 0}, {\"x\": 20, \"y\": 23, \"val\": 0}, {\"x\": 21, \"y\": 23, \"val\": 0}, {\"x\": 22, \"y\": 23, \"val\": 0}, {\"x\": 23, \"y\": 23, \"val\": 0}, {\"x\": 24, \"y\": 23, \"val\": 0}, {\"x\": 25, \"y\": 23, \"val\": 0}, {\"x\": 26, \"y\": 23, \"val\": 0}, {\"x\": 27, \"y\": 23, \"val\": 0}, {\"x\": 28, \"y\": 23, \"val\": 0}, {\"x\": 1, \"y\": 24, \"val\": 0}, {\"x\": 2, \"y\": 24, \"val\": 0}, {\"x\": 3, \"y\": 24, \"val\": 0}, {\"x\": 4, \"y\": 24, \"val\": 0}, {\"x\": 5, \"y\": 24, \"val\": 0}, {\"x\": 6, \"y\": 24, \"val\": 0}, {\"x\": 7, \"y\": 24, \"val\": 0}, {\"x\": 8, \"y\": 24, \"val\": 0}, {\"x\": 9, \"y\": 24, \"val\": 0}, {\"x\": 10, \"y\": 24, \"val\": 0}, {\"x\": 11, \"y\": 24, \"val\": 0}, {\"x\": 12, \"y\": 24, \"val\": 0}, {\"x\": 13, \"y\": 24, \"val\": 0}, {\"x\": 14, \"y\": 24, \"val\": 0}, {\"x\": 15, \"y\": 24, \"val\": 0}, {\"x\": 16, \"y\": 24, \"val\": 0}, {\"x\": 17, \"y\": 24, \"val\": 0}, {\"x\": 18, \"y\": 24, \"val\": 0}, {\"x\": 19, \"y\": 24, \"val\": 0}, {\"x\": 20, \"y\": 24, \"val\": 0}, {\"x\": 21, \"y\": 24, \"val\": 0}, {\"x\": 22, \"y\": 24, \"val\": 0}, {\"x\": 23, \"y\": 24, \"val\": 0}, {\"x\": 24, \"y\": 24, \"val\": 0}, {\"x\": 25, \"y\": 24, \"val\": 0}, {\"x\": 26, \"y\": 24, \"val\": 0}, {\"x\": 27, \"y\": 24, \"val\": 0}, {\"x\": 28, \"y\": 24, \"val\": 0}, {\"x\": 1, \"y\": 25, \"val\": 0}, {\"x\": 2, \"y\": 25, \"val\": 0}, {\"x\": 3, \"y\": 25, \"val\": 0}, {\"x\": 4, \"y\": 25, \"val\": 0}, {\"x\": 5, \"y\": 25, \"val\": 0}, {\"x\": 6, \"y\": 25, \"val\": 0}, {\"x\": 7, \"y\": 25, \"val\": 0}, {\"x\": 8, \"y\": 25, \"val\": 0}, {\"x\": 9, \"y\": 25, \"val\": 0}, {\"x\": 10, \"y\": 25, \"val\": 0}, {\"x\": 11, \"y\": 25, \"val\": 0}, {\"x\": 12, \"y\": 25, \"val\": 0}, {\"x\": 13, \"y\": 25, \"val\": 0}, {\"x\": 14, \"y\": 25, \"val\": 0}, {\"x\": 15, \"y\": 25, \"val\": 0}, {\"x\": 16, \"y\": 25, \"val\": 0}, {\"x\": 17, \"y\": 25, \"val\": 0}, {\"x\": 18, \"y\": 25, \"val\": 0}, {\"x\": 19, \"y\": 25, \"val\": 0}, {\"x\": 20, \"y\": 25, \"val\": 0}, {\"x\": 21, \"y\": 25, \"val\": 0}, {\"x\": 22, \"y\": 25, \"val\": 0}, {\"x\": 23, \"y\": 25, \"val\": 0}, {\"x\": 24, \"y\": 25, \"val\": 0}, {\"x\": 25, \"y\": 25, \"val\": 0}, {\"x\": 26, \"y\": 25, \"val\": 0}, {\"x\": 27, \"y\": 25, \"val\": 0}, {\"x\": 28, \"y\": 25, \"val\": 0}, {\"x\": 1, \"y\": 26, \"val\": 0}, {\"x\": 2, \"y\": 26, \"val\": 0}, {\"x\": 3, \"y\": 26, \"val\": 0}, {\"x\": 4, \"y\": 26, \"val\": 0}, {\"x\": 5, \"y\": 26, \"val\": 0}, {\"x\": 6, \"y\": 26, \"val\": 0}, {\"x\": 7, \"y\": 26, \"val\": 0}, {\"x\": 8, \"y\": 26, \"val\": 0}, {\"x\": 9, \"y\": 26, \"val\": 0}, {\"x\": 10, \"y\": 26, \"val\": 0}, {\"x\": 11, \"y\": 26, \"val\": 0}, {\"x\": 12, \"y\": 26, \"val\": 0}, {\"x\": 13, \"y\": 26, \"val\": 0}, {\"x\": 14, \"y\": 26, \"val\": 0}, {\"x\": 15, \"y\": 26, \"val\": 0}, {\"x\": 16, \"y\": 26, \"val\": 0}, {\"x\": 17, \"y\": 26, \"val\": 0}, {\"x\": 18, \"y\": 26, \"val\": 0}, {\"x\": 19, \"y\": 26, \"val\": 0}, {\"x\": 20, \"y\": 26, \"val\": 0}, {\"x\": 21, \"y\": 26, \"val\": 0}, {\"x\": 22, \"y\": 26, \"val\": 0}, {\"x\": 23, \"y\": 26, \"val\": 0}, {\"x\": 24, \"y\": 26, \"val\": 0}, {\"x\": 25, \"y\": 26, \"val\": 0}, {\"x\": 26, \"y\": 26, \"val\": 0}, {\"x\": 27, \"y\": 26, \"val\": 0}, {\"x\": 28, \"y\": 26, \"val\": 0}, {\"x\": 1, \"y\": 27, \"val\": 0}, {\"x\": 2, \"y\": 27, \"val\": 0}, {\"x\": 3, \"y\": 27, \"val\": 0}, {\"x\": 4, \"y\": 27, \"val\": 0}, {\"x\": 5, \"y\": 27, \"val\": 0}, {\"x\": 6, \"y\": 27, \"val\": 0}, {\"x\": 7, \"y\": 27, \"val\": 0}, {\"x\": 8, \"y\": 27, \"val\": 0}, {\"x\": 9, \"y\": 27, \"val\": 0}, {\"x\": 10, \"y\": 27, \"val\": 0}, {\"x\": 11, \"y\": 27, \"val\": 0}, {\"x\": 12, \"y\": 27, \"val\": 0}, {\"x\": 13, \"y\": 27, \"val\": 0}, {\"x\": 14, \"y\": 27, \"val\": 0}, {\"x\": 15, \"y\": 27, \"val\": 0}, {\"x\": 16, \"y\": 27, \"val\": 0}, {\"x\": 17, \"y\": 27, \"val\": 0}, {\"x\": 18, \"y\": 27, \"val\": 0}, {\"x\": 19, \"y\": 27, \"val\": 0}, {\"x\": 20, \"y\": 27, \"val\": 0}, {\"x\": 21, \"y\": 27, \"val\": 0}, {\"x\": 22, \"y\": 27, \"val\": 0}, {\"x\": 23, \"y\": 27, \"val\": 0}, {\"x\": 24, \"y\": 27, \"val\": 0}, {\"x\": 25, \"y\": 27, \"val\": 0}, {\"x\": 26, \"y\": 27, \"val\": 0}, {\"x\": 27, \"y\": 27, \"val\": 0}, {\"x\": 28, \"y\": 27, \"val\": 0}, {\"x\": 1, \"y\": 28, \"val\": 0}, {\"x\": 2, \"y\": 28, \"val\": 0}, {\"x\": 3, \"y\": 28, \"val\": 0}, {\"x\": 4, \"y\": 28, \"val\": 0}, {\"x\": 5, \"y\": 28, \"val\": 0}, {\"x\": 6, \"y\": 28, \"val\": 0}, {\"x\": 7, \"y\": 28, \"val\": 0}, {\"x\": 8, \"y\": 28, \"val\": 0}, {\"x\": 9, \"y\": 28, \"val\": 0}, {\"x\": 10, \"y\": 28, \"val\": 0}, {\"x\": 11, \"y\": 28, \"val\": 0}, {\"x\": 12, \"y\": 28, \"val\": 0}, {\"x\": 13, \"y\": 28, \"val\": 0}, {\"x\": 14, \"y\": 28, \"val\": 0}, {\"x\": 15, \"y\": 28, \"val\": 0}, {\"x\": 16, \"y\": 28, \"val\": 0}, {\"x\": 17, \"y\": 28, \"val\": 0}, {\"x\": 18, \"y\": 28, \"val\": 0}, {\"x\": 19, \"y\": 28, \"val\": 0}, {\"x\": 20, \"y\": 28, \"val\": 0}, {\"x\": 21, \"y\": 28, \"val\": 0}, {\"x\": 22, \"y\": 28, \"val\": 0}, {\"x\": 23, \"y\": 28, \"val\": 0}, {\"x\": 24, \"y\": 28, \"val\": 0}, {\"x\": 25, \"y\": 28, \"val\": 0}, {\"x\": 26, \"y\": 28, \"val\": 0}, {\"x\": 27, \"y\": 28, \"val\": 0}, {\"x\": 28, \"y\": 28, \"val\": 0}], \"data-6b385280961ade228bec1347f7edbbf7\": [{\"x\": 1, \"y\": 1, \"val\": 0}, {\"x\": 2, \"y\": 1, \"val\": 0}, {\"x\": 3, \"y\": 1, \"val\": 0}, {\"x\": 4, \"y\": 1, \"val\": 0}, {\"x\": 5, \"y\": 1, \"val\": 0}, {\"x\": 6, \"y\": 1, \"val\": 0}, {\"x\": 7, \"y\": 1, \"val\": 0}, {\"x\": 8, \"y\": 1, \"val\": 0}, {\"x\": 9, \"y\": 1, \"val\": 0}, {\"x\": 10, \"y\": 1, \"val\": 0}, {\"x\": 11, \"y\": 1, \"val\": 0}, {\"x\": 12, \"y\": 1, \"val\": 0}, {\"x\": 13, \"y\": 1, \"val\": 0}, {\"x\": 14, \"y\": 1, \"val\": 0}, {\"x\": 15, \"y\": 1, \"val\": 0}, {\"x\": 16, \"y\": 1, \"val\": 0}, {\"x\": 17, \"y\": 1, \"val\": 0}, {\"x\": 18, \"y\": 1, \"val\": 0}, {\"x\": 19, \"y\": 1, \"val\": 0}, {\"x\": 20, \"y\": 1, \"val\": 0}, {\"x\": 21, \"y\": 1, \"val\": 0}, {\"x\": 22, \"y\": 1, \"val\": 0}, {\"x\": 23, \"y\": 1, \"val\": 0}, {\"x\": 24, \"y\": 1, \"val\": 0}, {\"x\": 25, \"y\": 1, \"val\": 0}, {\"x\": 26, \"y\": 1, \"val\": 0}, {\"x\": 27, \"y\": 1, \"val\": 0}, {\"x\": 28, \"y\": 1, \"val\": 0}, {\"x\": 1, \"y\": 2, \"val\": 0}, {\"x\": 2, \"y\": 2, \"val\": 0}, {\"x\": 3, \"y\": 2, \"val\": 0}, {\"x\": 4, \"y\": 2, \"val\": 0}, {\"x\": 5, \"y\": 2, \"val\": 0}, {\"x\": 6, \"y\": 2, \"val\": 0}, {\"x\": 7, \"y\": 2, \"val\": 0}, {\"x\": 8, \"y\": 2, \"val\": 0}, {\"x\": 9, \"y\": 2, \"val\": 0}, {\"x\": 10, \"y\": 2, \"val\": 0}, {\"x\": 11, \"y\": 2, \"val\": 0}, {\"x\": 12, \"y\": 2, \"val\": 0}, {\"x\": 13, \"y\": 2, \"val\": 0}, {\"x\": 14, \"y\": 2, \"val\": 0}, {\"x\": 15, \"y\": 2, \"val\": 0}, {\"x\": 16, \"y\": 2, \"val\": 0}, {\"x\": 17, \"y\": 2, \"val\": 0}, {\"x\": 18, \"y\": 2, \"val\": 0}, {\"x\": 19, \"y\": 2, \"val\": 0}, {\"x\": 20, \"y\": 2, \"val\": 0}, {\"x\": 21, \"y\": 2, \"val\": 0}, {\"x\": 22, \"y\": 2, \"val\": 0}, {\"x\": 23, \"y\": 2, \"val\": 0}, {\"x\": 24, \"y\": 2, \"val\": 0}, {\"x\": 25, \"y\": 2, \"val\": 0}, {\"x\": 26, \"y\": 2, \"val\": 0}, {\"x\": 27, \"y\": 2, \"val\": 0}, {\"x\": 28, \"y\": 2, \"val\": 0}, {\"x\": 1, \"y\": 3, \"val\": 0}, {\"x\": 2, \"y\": 3, \"val\": 0}, {\"x\": 3, \"y\": 3, \"val\": 0}, {\"x\": 4, \"y\": 3, \"val\": 0}, {\"x\": 5, \"y\": 3, \"val\": 0}, {\"x\": 6, \"y\": 3, \"val\": 0}, {\"x\": 7, \"y\": 3, \"val\": 0}, {\"x\": 8, \"y\": 3, \"val\": 0}, {\"x\": 9, \"y\": 3, \"val\": 0}, {\"x\": 10, \"y\": 3, \"val\": 0}, {\"x\": 11, \"y\": 3, \"val\": 0}, {\"x\": 12, \"y\": 3, \"val\": 0}, {\"x\": 13, \"y\": 3, \"val\": 0}, {\"x\": 14, \"y\": 3, \"val\": 0}, {\"x\": 15, \"y\": 3, \"val\": 5}, {\"x\": 16, \"y\": 3, \"val\": 134}, {\"x\": 17, \"y\": 3, \"val\": 255}, {\"x\": 18, \"y\": 3, \"val\": 113}, {\"x\": 19, \"y\": 3, \"val\": 0}, {\"x\": 20, \"y\": 3, \"val\": 0}, {\"x\": 21, \"y\": 3, \"val\": 0}, {\"x\": 22, \"y\": 3, \"val\": 0}, {\"x\": 23, \"y\": 3, \"val\": 0}, {\"x\": 24, \"y\": 3, \"val\": 0}, {\"x\": 25, \"y\": 3, \"val\": 0}, {\"x\": 26, \"y\": 3, \"val\": 0}, {\"x\": 27, \"y\": 3, \"val\": 0}, {\"x\": 28, \"y\": 3, \"val\": 0}, {\"x\": 1, \"y\": 4, \"val\": 0}, {\"x\": 2, \"y\": 4, \"val\": 0}, {\"x\": 3, \"y\": 4, \"val\": 0}, {\"x\": 4, \"y\": 4, \"val\": 0}, {\"x\": 5, \"y\": 4, \"val\": 0}, {\"x\": 6, \"y\": 4, \"val\": 0}, {\"x\": 7, \"y\": 4, \"val\": 0}, {\"x\": 8, \"y\": 4, \"val\": 0}, {\"x\": 9, \"y\": 4, \"val\": 0}, {\"x\": 10, \"y\": 4, \"val\": 0}, {\"x\": 11, \"y\": 4, \"val\": 0}, {\"x\": 12, \"y\": 4, \"val\": 0}, {\"x\": 13, \"y\": 4, \"val\": 0}, {\"x\": 14, \"y\": 4, \"val\": 0}, {\"x\": 15, \"y\": 4, \"val\": 86}, {\"x\": 16, \"y\": 4, \"val\": 214}, {\"x\": 17, \"y\": 4, \"val\": 253}, {\"x\": 18, \"y\": 4, \"val\": 112}, {\"x\": 19, \"y\": 4, \"val\": 0}, {\"x\": 20, \"y\": 4, \"val\": 0}, {\"x\": 21, \"y\": 4, \"val\": 0}, {\"x\": 22, \"y\": 4, \"val\": 0}, {\"x\": 23, \"y\": 4, \"val\": 0}, {\"x\": 24, \"y\": 4, \"val\": 0}, {\"x\": 25, \"y\": 4, \"val\": 0}, {\"x\": 26, \"y\": 4, \"val\": 0}, {\"x\": 27, \"y\": 4, \"val\": 0}, {\"x\": 28, \"y\": 4, \"val\": 0}, {\"x\": 1, \"y\": 5, \"val\": 0}, {\"x\": 2, \"y\": 5, \"val\": 0}, {\"x\": 3, \"y\": 5, \"val\": 0}, {\"x\": 4, \"y\": 5, \"val\": 0}, {\"x\": 5, \"y\": 5, \"val\": 0}, {\"x\": 6, \"y\": 5, \"val\": 0}, {\"x\": 7, \"y\": 5, \"val\": 0}, {\"x\": 8, \"y\": 5, \"val\": 0}, {\"x\": 9, \"y\": 5, \"val\": 0}, {\"x\": 10, \"y\": 5, \"val\": 0}, {\"x\": 11, \"y\": 5, \"val\": 0}, {\"x\": 12, \"y\": 5, \"val\": 0}, {\"x\": 13, \"y\": 5, \"val\": 0}, {\"x\": 14, \"y\": 5, \"val\": 0}, {\"x\": 15, \"y\": 5, \"val\": 0}, {\"x\": 16, \"y\": 5, \"val\": 138}, {\"x\": 17, \"y\": 5, \"val\": 253}, {\"x\": 18, \"y\": 5, \"val\": 163}, {\"x\": 19, \"y\": 5, \"val\": 0}, {\"x\": 20, \"y\": 5, \"val\": 0}, {\"x\": 21, \"y\": 5, \"val\": 0}, {\"x\": 22, \"y\": 5, \"val\": 0}, {\"x\": 23, \"y\": 5, \"val\": 0}, {\"x\": 24, \"y\": 5, \"val\": 0}, {\"x\": 25, \"y\": 5, \"val\": 0}, {\"x\": 26, \"y\": 5, \"val\": 0}, {\"x\": 27, \"y\": 5, \"val\": 0}, {\"x\": 28, \"y\": 5, \"val\": 0}, {\"x\": 1, \"y\": 6, \"val\": 0}, {\"x\": 2, \"y\": 6, \"val\": 0}, {\"x\": 3, \"y\": 6, \"val\": 0}, {\"x\": 4, \"y\": 6, \"val\": 0}, {\"x\": 5, \"y\": 6, \"val\": 0}, {\"x\": 6, \"y\": 6, \"val\": 0}, {\"x\": 7, \"y\": 6, \"val\": 0}, {\"x\": 8, \"y\": 6, \"val\": 0}, {\"x\": 9, \"y\": 6, \"val\": 0}, {\"x\": 10, \"y\": 6, \"val\": 0}, {\"x\": 11, \"y\": 6, \"val\": 0}, {\"x\": 12, \"y\": 6, \"val\": 0}, {\"x\": 13, \"y\": 6, \"val\": 0}, {\"x\": 14, \"y\": 6, \"val\": 0}, {\"x\": 15, \"y\": 6, \"val\": 19}, {\"x\": 16, \"y\": 6, \"val\": 198}, {\"x\": 17, \"y\": 6, \"val\": 253}, {\"x\": 18, \"y\": 6, \"val\": 49}, {\"x\": 19, \"y\": 6, \"val\": 0}, {\"x\": 20, \"y\": 6, \"val\": 0}, {\"x\": 21, \"y\": 6, \"val\": 0}, {\"x\": 22, \"y\": 6, \"val\": 0}, {\"x\": 23, \"y\": 6, \"val\": 0}, {\"x\": 24, \"y\": 6, \"val\": 0}, {\"x\": 25, \"y\": 6, \"val\": 0}, {\"x\": 26, \"y\": 6, \"val\": 0}, {\"x\": 27, \"y\": 6, \"val\": 0}, {\"x\": 28, \"y\": 6, \"val\": 0}, {\"x\": 1, \"y\": 7, \"val\": 0}, {\"x\": 2, \"y\": 7, \"val\": 0}, {\"x\": 3, \"y\": 7, \"val\": 0}, {\"x\": 4, \"y\": 7, \"val\": 0}, {\"x\": 5, \"y\": 7, \"val\": 0}, {\"x\": 6, \"y\": 7, \"val\": 0}, {\"x\": 7, \"y\": 7, \"val\": 0}, {\"x\": 8, \"y\": 7, \"val\": 0}, {\"x\": 9, \"y\": 7, \"val\": 0}, {\"x\": 10, \"y\": 7, \"val\": 0}, {\"x\": 11, \"y\": 7, \"val\": 0}, {\"x\": 12, \"y\": 7, \"val\": 0}, {\"x\": 13, \"y\": 7, \"val\": 0}, {\"x\": 14, \"y\": 7, \"val\": 0}, {\"x\": 15, \"y\": 7, \"val\": 186}, {\"x\": 16, \"y\": 7, \"val\": 253}, {\"x\": 17, \"y\": 7, \"val\": 208}, {\"x\": 18, \"y\": 7, \"val\": 19}, {\"x\": 19, \"y\": 7, \"val\": 0}, {\"x\": 20, \"y\": 7, \"val\": 0}, {\"x\": 21, \"y\": 7, \"val\": 0}, {\"x\": 22, \"y\": 7, \"val\": 0}, {\"x\": 23, \"y\": 7, \"val\": 0}, {\"x\": 24, \"y\": 7, \"val\": 0}, {\"x\": 25, \"y\": 7, \"val\": 0}, {\"x\": 26, \"y\": 7, \"val\": 0}, {\"x\": 27, \"y\": 7, \"val\": 0}, {\"x\": 28, \"y\": 7, \"val\": 0}, {\"x\": 1, \"y\": 8, \"val\": 0}, {\"x\": 2, \"y\": 8, \"val\": 0}, {\"x\": 3, \"y\": 8, \"val\": 0}, {\"x\": 4, \"y\": 8, \"val\": 0}, {\"x\": 5, \"y\": 8, \"val\": 0}, {\"x\": 6, \"y\": 8, \"val\": 0}, {\"x\": 7, \"y\": 8, \"val\": 0}, {\"x\": 8, \"y\": 8, \"val\": 0}, {\"x\": 9, \"y\": 8, \"val\": 0}, {\"x\": 10, \"y\": 8, \"val\": 0}, {\"x\": 11, \"y\": 8, \"val\": 0}, {\"x\": 12, \"y\": 8, \"val\": 0}, {\"x\": 13, \"y\": 8, \"val\": 0}, {\"x\": 14, \"y\": 8, \"val\": 54}, {\"x\": 15, \"y\": 8, \"val\": 229}, {\"x\": 16, \"y\": 8, \"val\": 243}, {\"x\": 17, \"y\": 8, \"val\": 92}, {\"x\": 18, \"y\": 8, \"val\": 0}, {\"x\": 19, \"y\": 8, \"val\": 0}, {\"x\": 20, \"y\": 8, \"val\": 0}, {\"x\": 21, \"y\": 8, \"val\": 0}, {\"x\": 22, \"y\": 8, \"val\": 0}, {\"x\": 23, \"y\": 8, \"val\": 0}, {\"x\": 24, \"y\": 8, \"val\": 0}, {\"x\": 25, \"y\": 8, \"val\": 0}, {\"x\": 26, \"y\": 8, \"val\": 0}, {\"x\": 27, \"y\": 8, \"val\": 0}, {\"x\": 28, \"y\": 8, \"val\": 0}, {\"x\": 1, \"y\": 9, \"val\": 0}, {\"x\": 2, \"y\": 9, \"val\": 0}, {\"x\": 3, \"y\": 9, \"val\": 0}, {\"x\": 4, \"y\": 9, \"val\": 0}, {\"x\": 5, \"y\": 9, \"val\": 0}, {\"x\": 6, \"y\": 9, \"val\": 0}, {\"x\": 7, \"y\": 9, \"val\": 0}, {\"x\": 8, \"y\": 9, \"val\": 0}, {\"x\": 9, \"y\": 9, \"val\": 0}, {\"x\": 10, \"y\": 9, \"val\": 0}, {\"x\": 11, \"y\": 9, \"val\": 0}, {\"x\": 12, \"y\": 9, \"val\": 0}, {\"x\": 13, \"y\": 9, \"val\": 33}, {\"x\": 14, \"y\": 9, \"val\": 228}, {\"x\": 15, \"y\": 9, \"val\": 253}, {\"x\": 16, \"y\": 9, \"val\": 164}, {\"x\": 17, \"y\": 9, \"val\": 0}, {\"x\": 18, \"y\": 9, \"val\": 0}, {\"x\": 19, \"y\": 9, \"val\": 0}, {\"x\": 20, \"y\": 9, \"val\": 0}, {\"x\": 21, \"y\": 9, \"val\": 0}, {\"x\": 22, \"y\": 9, \"val\": 0}, {\"x\": 23, \"y\": 9, \"val\": 0}, {\"x\": 24, \"y\": 9, \"val\": 0}, {\"x\": 25, \"y\": 9, \"val\": 0}, {\"x\": 26, \"y\": 9, \"val\": 0}, {\"x\": 27, \"y\": 9, \"val\": 0}, {\"x\": 28, \"y\": 9, \"val\": 0}, {\"x\": 1, \"y\": 10, \"val\": 0}, {\"x\": 2, \"y\": 10, \"val\": 0}, {\"x\": 3, \"y\": 10, \"val\": 0}, {\"x\": 4, \"y\": 10, \"val\": 0}, {\"x\": 5, \"y\": 10, \"val\": 0}, {\"x\": 6, \"y\": 10, \"val\": 0}, {\"x\": 7, \"y\": 10, \"val\": 0}, {\"x\": 8, \"y\": 10, \"val\": 0}, {\"x\": 9, \"y\": 10, \"val\": 0}, {\"x\": 10, \"y\": 10, \"val\": 0}, {\"x\": 11, \"y\": 10, \"val\": 0}, {\"x\": 12, \"y\": 10, \"val\": 0}, {\"x\": 13, \"y\": 10, \"val\": 135}, {\"x\": 14, \"y\": 10, \"val\": 253}, {\"x\": 15, \"y\": 10, \"val\": 186}, {\"x\": 16, \"y\": 10, \"val\": 20}, {\"x\": 17, \"y\": 10, \"val\": 0}, {\"x\": 18, \"y\": 10, \"val\": 0}, {\"x\": 19, \"y\": 10, \"val\": 0}, {\"x\": 20, \"y\": 10, \"val\": 0}, {\"x\": 21, \"y\": 10, \"val\": 0}, {\"x\": 22, \"y\": 10, \"val\": 0}, {\"x\": 23, \"y\": 10, \"val\": 0}, {\"x\": 24, \"y\": 10, \"val\": 0}, {\"x\": 25, \"y\": 10, \"val\": 0}, {\"x\": 26, \"y\": 10, \"val\": 0}, {\"x\": 27, \"y\": 10, \"val\": 0}, {\"x\": 28, \"y\": 10, \"val\": 0}, {\"x\": 1, \"y\": 11, \"val\": 0}, {\"x\": 2, \"y\": 11, \"val\": 0}, {\"x\": 3, \"y\": 11, \"val\": 0}, {\"x\": 4, \"y\": 11, \"val\": 0}, {\"x\": 5, \"y\": 11, \"val\": 0}, {\"x\": 6, \"y\": 11, \"val\": 0}, {\"x\": 7, \"y\": 11, \"val\": 0}, {\"x\": 8, \"y\": 11, \"val\": 0}, {\"x\": 9, \"y\": 11, \"val\": 0}, {\"x\": 10, \"y\": 11, \"val\": 0}, {\"x\": 11, \"y\": 11, \"val\": 0}, {\"x\": 12, \"y\": 11, \"val\": 59}, {\"x\": 13, \"y\": 11, \"val\": 230}, {\"x\": 14, \"y\": 11, \"val\": 253}, {\"x\": 15, \"y\": 11, \"val\": 68}, {\"x\": 16, \"y\": 11, \"val\": 0}, {\"x\": 17, \"y\": 11, \"val\": 0}, {\"x\": 18, \"y\": 11, \"val\": 0}, {\"x\": 19, \"y\": 11, \"val\": 20}, {\"x\": 20, \"y\": 11, \"val\": 56}, {\"x\": 21, \"y\": 11, \"val\": 35}, {\"x\": 22, \"y\": 11, \"val\": 0}, {\"x\": 23, \"y\": 11, \"val\": 0}, {\"x\": 24, \"y\": 11, \"val\": 0}, {\"x\": 25, \"y\": 11, \"val\": 0}, {\"x\": 26, \"y\": 11, \"val\": 0}, {\"x\": 27, \"y\": 11, \"val\": 0}, {\"x\": 28, \"y\": 11, \"val\": 0}, {\"x\": 1, \"y\": 12, \"val\": 0}, {\"x\": 2, \"y\": 12, \"val\": 0}, {\"x\": 3, \"y\": 12, \"val\": 0}, {\"x\": 4, \"y\": 12, \"val\": 0}, {\"x\": 5, \"y\": 12, \"val\": 0}, {\"x\": 6, \"y\": 12, \"val\": 0}, {\"x\": 7, \"y\": 12, \"val\": 0}, {\"x\": 8, \"y\": 12, \"val\": 0}, {\"x\": 9, \"y\": 12, \"val\": 0}, {\"x\": 10, \"y\": 12, \"val\": 0}, {\"x\": 11, \"y\": 12, \"val\": 10}, {\"x\": 12, \"y\": 12, \"val\": 188}, {\"x\": 13, \"y\": 12, \"val\": 253}, {\"x\": 14, \"y\": 12, \"val\": 182}, {\"x\": 15, \"y\": 12, \"val\": 18}, {\"x\": 16, \"y\": 12, \"val\": 17}, {\"x\": 17, \"y\": 12, \"val\": 63}, {\"x\": 18, \"y\": 12, \"val\": 162}, {\"x\": 19, \"y\": 12, \"val\": 209}, {\"x\": 20, \"y\": 12, \"val\": 253}, {\"x\": 21, \"y\": 12, \"val\": 227}, {\"x\": 22, \"y\": 12, \"val\": 48}, {\"x\": 23, \"y\": 12, \"val\": 0}, {\"x\": 24, \"y\": 12, \"val\": 0}, {\"x\": 25, \"y\": 12, \"val\": 0}, {\"x\": 26, \"y\": 12, \"val\": 0}, {\"x\": 27, \"y\": 12, \"val\": 0}, {\"x\": 28, \"y\": 12, \"val\": 0}, {\"x\": 1, \"y\": 13, \"val\": 0}, {\"x\": 2, \"y\": 13, \"val\": 0}, {\"x\": 3, \"y\": 13, \"val\": 0}, {\"x\": 4, \"y\": 13, \"val\": 0}, {\"x\": 5, \"y\": 13, \"val\": 0}, {\"x\": 6, \"y\": 13, \"val\": 0}, {\"x\": 7, \"y\": 13, \"val\": 0}, {\"x\": 8, \"y\": 13, \"val\": 0}, {\"x\": 9, \"y\": 13, \"val\": 0}, {\"x\": 10, \"y\": 13, \"val\": 0}, {\"x\": 11, \"y\": 13, \"val\": 71}, {\"x\": 12, \"y\": 13, \"val\": 253}, {\"x\": 13, \"y\": 13, \"val\": 215}, {\"x\": 14, \"y\": 13, \"val\": 18}, {\"x\": 15, \"y\": 13, \"val\": 17}, {\"x\": 16, \"y\": 13, \"val\": 179}, {\"x\": 17, \"y\": 13, \"val\": 253}, {\"x\": 18, \"y\": 13, \"val\": 253}, {\"x\": 19, \"y\": 13, \"val\": 253}, {\"x\": 20, \"y\": 13, \"val\": 253}, {\"x\": 21, \"y\": 13, \"val\": 253}, {\"x\": 22, \"y\": 13, \"val\": 148}, {\"x\": 23, \"y\": 13, \"val\": 0}, {\"x\": 24, \"y\": 13, \"val\": 0}, {\"x\": 25, \"y\": 13, \"val\": 0}, {\"x\": 26, \"y\": 13, \"val\": 0}, {\"x\": 27, \"y\": 13, \"val\": 0}, {\"x\": 28, \"y\": 13, \"val\": 0}, {\"x\": 1, \"y\": 14, \"val\": 0}, {\"x\": 2, \"y\": 14, \"val\": 0}, {\"x\": 3, \"y\": 14, \"val\": 0}, {\"x\": 4, \"y\": 14, \"val\": 0}, {\"x\": 5, \"y\": 14, \"val\": 0}, {\"x\": 6, \"y\": 14, \"val\": 0}, {\"x\": 7, \"y\": 14, \"val\": 0}, {\"x\": 8, \"y\": 14, \"val\": 0}, {\"x\": 9, \"y\": 14, \"val\": 0}, {\"x\": 10, \"y\": 14, \"val\": 25}, {\"x\": 11, \"y\": 14, \"val\": 233}, {\"x\": 12, \"y\": 14, \"val\": 253}, {\"x\": 13, \"y\": 14, \"val\": 107}, {\"x\": 14, \"y\": 14, \"val\": 0}, {\"x\": 15, \"y\": 14, \"val\": 159}, {\"x\": 16, \"y\": 14, \"val\": 253}, {\"x\": 17, \"y\": 14, \"val\": 253}, {\"x\": 18, \"y\": 14, \"val\": 193}, {\"x\": 19, \"y\": 14, \"val\": 136}, {\"x\": 20, \"y\": 14, \"val\": 101}, {\"x\": 21, \"y\": 14, \"val\": 244}, {\"x\": 22, \"y\": 14, \"val\": 148}, {\"x\": 23, \"y\": 14, \"val\": 0}, {\"x\": 24, \"y\": 14, \"val\": 0}, {\"x\": 25, \"y\": 14, \"val\": 0}, {\"x\": 26, \"y\": 14, \"val\": 0}, {\"x\": 27, \"y\": 14, \"val\": 0}, {\"x\": 28, \"y\": 14, \"val\": 0}, {\"x\": 1, \"y\": 15, \"val\": 0}, {\"x\": 2, \"y\": 15, \"val\": 0}, {\"x\": 3, \"y\": 15, \"val\": 0}, {\"x\": 4, \"y\": 15, \"val\": 0}, {\"x\": 5, \"y\": 15, \"val\": 0}, {\"x\": 6, \"y\": 15, \"val\": 0}, {\"x\": 7, \"y\": 15, \"val\": 0}, {\"x\": 8, \"y\": 15, \"val\": 0}, {\"x\": 9, \"y\": 15, \"val\": 0}, {\"x\": 10, \"y\": 15, \"val\": 71}, {\"x\": 11, \"y\": 15, \"val\": 253}, {\"x\": 12, \"y\": 15, \"val\": 178}, {\"x\": 13, \"y\": 15, \"val\": 16}, {\"x\": 14, \"y\": 15, \"val\": 85}, {\"x\": 15, \"y\": 15, \"val\": 240}, {\"x\": 16, \"y\": 15, \"val\": 231}, {\"x\": 17, \"y\": 15, \"val\": 136}, {\"x\": 18, \"y\": 15, \"val\": 10}, {\"x\": 19, \"y\": 15, \"val\": 0}, {\"x\": 20, \"y\": 15, \"val\": 76}, {\"x\": 21, \"y\": 15, \"val\": 248}, {\"x\": 22, \"y\": 15, \"val\": 148}, {\"x\": 23, \"y\": 15, \"val\": 0}, {\"x\": 24, \"y\": 15, \"val\": 0}, {\"x\": 25, \"y\": 15, \"val\": 0}, {\"x\": 26, \"y\": 15, \"val\": 0}, {\"x\": 27, \"y\": 15, \"val\": 0}, {\"x\": 28, \"y\": 15, \"val\": 0}, {\"x\": 1, \"y\": 16, \"val\": 0}, {\"x\": 2, \"y\": 16, \"val\": 0}, {\"x\": 3, \"y\": 16, \"val\": 0}, {\"x\": 4, \"y\": 16, \"val\": 0}, {\"x\": 5, \"y\": 16, \"val\": 0}, {\"x\": 6, \"y\": 16, \"val\": 0}, {\"x\": 7, \"y\": 16, \"val\": 0}, {\"x\": 8, \"y\": 16, \"val\": 0}, {\"x\": 9, \"y\": 16, \"val\": 9}, {\"x\": 10, \"y\": 16, \"val\": 189}, {\"x\": 11, \"y\": 16, \"val\": 253}, {\"x\": 12, \"y\": 16, \"val\": 86}, {\"x\": 13, \"y\": 16, \"val\": 42}, {\"x\": 14, \"y\": 16, \"val\": 241}, {\"x\": 15, \"y\": 16, \"val\": 253}, {\"x\": 16, \"y\": 16, \"val\": 185}, {\"x\": 17, \"y\": 16, \"val\": 0}, {\"x\": 18, \"y\": 16, \"val\": 0}, {\"x\": 19, \"y\": 16, \"val\": 0}, {\"x\": 20, \"y\": 16, \"val\": 94}, {\"x\": 21, \"y\": 16, \"val\": 219}, {\"x\": 22, \"y\": 16, \"val\": 37}, {\"x\": 23, \"y\": 16, \"val\": 0}, {\"x\": 24, \"y\": 16, \"val\": 0}, {\"x\": 25, \"y\": 16, \"val\": 0}, {\"x\": 26, \"y\": 16, \"val\": 0}, {\"x\": 27, \"y\": 16, \"val\": 0}, {\"x\": 28, \"y\": 16, \"val\": 0}, {\"x\": 1, \"y\": 17, \"val\": 0}, {\"x\": 2, \"y\": 17, \"val\": 0}, {\"x\": 3, \"y\": 17, \"val\": 0}, {\"x\": 4, \"y\": 17, \"val\": 0}, {\"x\": 5, \"y\": 17, \"val\": 0}, {\"x\": 6, \"y\": 17, \"val\": 0}, {\"x\": 7, \"y\": 17, \"val\": 0}, {\"x\": 8, \"y\": 17, \"val\": 0}, {\"x\": 9, \"y\": 17, \"val\": 71}, {\"x\": 10, \"y\": 17, \"val\": 253}, {\"x\": 11, \"y\": 17, \"val\": 240}, {\"x\": 12, \"y\": 17, \"val\": 71}, {\"x\": 13, \"y\": 17, \"val\": 185}, {\"x\": 14, \"y\": 17, \"val\": 253}, {\"x\": 15, \"y\": 17, \"val\": 154}, {\"x\": 16, \"y\": 17, \"val\": 27}, {\"x\": 17, \"y\": 17, \"val\": 0}, {\"x\": 18, \"y\": 17, \"val\": 0}, {\"x\": 19, \"y\": 17, \"val\": 33}, {\"x\": 20, \"y\": 17, \"val\": 213}, {\"x\": 21, \"y\": 17, \"val\": 109}, {\"x\": 22, \"y\": 17, \"val\": 0}, {\"x\": 23, \"y\": 17, \"val\": 0}, {\"x\": 24, \"y\": 17, \"val\": 0}, {\"x\": 25, \"y\": 17, \"val\": 0}, {\"x\": 26, \"y\": 17, \"val\": 0}, {\"x\": 27, \"y\": 17, \"val\": 0}, {\"x\": 28, \"y\": 17, \"val\": 0}, {\"x\": 1, \"y\": 18, \"val\": 0}, {\"x\": 2, \"y\": 18, \"val\": 0}, {\"x\": 3, \"y\": 18, \"val\": 0}, {\"x\": 4, \"y\": 18, \"val\": 0}, {\"x\": 5, \"y\": 18, \"val\": 0}, {\"x\": 6, \"y\": 18, \"val\": 0}, {\"x\": 7, \"y\": 18, \"val\": 0}, {\"x\": 8, \"y\": 18, \"val\": 0}, {\"x\": 9, \"y\": 18, \"val\": 149}, {\"x\": 10, \"y\": 18, \"val\": 253}, {\"x\": 11, \"y\": 18, \"val\": 216}, {\"x\": 12, \"y\": 18, \"val\": 93}, {\"x\": 13, \"y\": 18, \"val\": 253}, {\"x\": 14, \"y\": 18, \"val\": 231}, {\"x\": 15, \"y\": 18, \"val\": 41}, {\"x\": 16, \"y\": 18, \"val\": 0}, {\"x\": 17, \"y\": 18, \"val\": 0}, {\"x\": 18, \"y\": 18, \"val\": 81}, {\"x\": 19, \"y\": 18, \"val\": 213}, {\"x\": 20, \"y\": 18, \"val\": 253}, {\"x\": 21, \"y\": 18, \"val\": 91}, {\"x\": 22, \"y\": 18, \"val\": 0}, {\"x\": 23, \"y\": 18, \"val\": 0}, {\"x\": 24, \"y\": 18, \"val\": 0}, {\"x\": 25, \"y\": 18, \"val\": 0}, {\"x\": 26, \"y\": 18, \"val\": 0}, {\"x\": 27, \"y\": 18, \"val\": 0}, {\"x\": 28, \"y\": 18, \"val\": 0}, {\"x\": 1, \"y\": 19, \"val\": 0}, {\"x\": 2, \"y\": 19, \"val\": 0}, {\"x\": 3, \"y\": 19, \"val\": 0}, {\"x\": 4, \"y\": 19, \"val\": 0}, {\"x\": 5, \"y\": 19, \"val\": 0}, {\"x\": 6, \"y\": 19, \"val\": 0}, {\"x\": 7, \"y\": 19, \"val\": 0}, {\"x\": 8, \"y\": 19, \"val\": 0}, {\"x\": 9, \"y\": 19, \"val\": 149}, {\"x\": 10, \"y\": 19, \"val\": 253}, {\"x\": 11, \"y\": 19, \"val\": 216}, {\"x\": 12, \"y\": 19, \"val\": 117}, {\"x\": 13, \"y\": 19, \"val\": 253}, {\"x\": 14, \"y\": 19, \"val\": 221}, {\"x\": 15, \"y\": 19, \"val\": 106}, {\"x\": 16, \"y\": 19, \"val\": 106}, {\"x\": 17, \"y\": 19, \"val\": 142}, {\"x\": 18, \"y\": 19, \"val\": 249}, {\"x\": 19, \"y\": 19, \"val\": 253}, {\"x\": 20, \"y\": 19, \"val\": 214}, {\"x\": 21, \"y\": 19, \"val\": 18}, {\"x\": 22, \"y\": 19, \"val\": 0}, {\"x\": 23, \"y\": 19, \"val\": 0}, {\"x\": 24, \"y\": 19, \"val\": 0}, {\"x\": 25, \"y\": 19, \"val\": 0}, {\"x\": 26, \"y\": 19, \"val\": 0}, {\"x\": 27, \"y\": 19, \"val\": 0}, {\"x\": 28, \"y\": 19, \"val\": 0}, {\"x\": 1, \"y\": 20, \"val\": 0}, {\"x\": 2, \"y\": 20, \"val\": 0}, {\"x\": 3, \"y\": 20, \"val\": 0}, {\"x\": 4, \"y\": 20, \"val\": 0}, {\"x\": 5, \"y\": 20, \"val\": 0}, {\"x\": 6, \"y\": 20, \"val\": 0}, {\"x\": 7, \"y\": 20, \"val\": 0}, {\"x\": 8, \"y\": 20, \"val\": 0}, {\"x\": 9, \"y\": 20, \"val\": 34}, {\"x\": 10, \"y\": 20, \"val\": 253}, {\"x\": 11, \"y\": 20, \"val\": 251}, {\"x\": 12, \"y\": 20, \"val\": 157}, {\"x\": 13, \"y\": 20, \"val\": 214}, {\"x\": 14, \"y\": 20, \"val\": 253}, {\"x\": 15, \"y\": 20, \"val\": 253}, {\"x\": 16, \"y\": 20, \"val\": 253}, {\"x\": 17, \"y\": 20, \"val\": 253}, {\"x\": 18, \"y\": 20, \"val\": 253}, {\"x\": 19, \"y\": 20, \"val\": 118}, {\"x\": 20, \"y\": 20, \"val\": 12}, {\"x\": 21, \"y\": 20, \"val\": 0}, {\"x\": 22, \"y\": 20, \"val\": 0}, {\"x\": 23, \"y\": 20, \"val\": 0}, {\"x\": 24, \"y\": 20, \"val\": 0}, {\"x\": 25, \"y\": 20, \"val\": 0}, {\"x\": 26, \"y\": 20, \"val\": 0}, {\"x\": 27, \"y\": 20, \"val\": 0}, {\"x\": 28, \"y\": 20, \"val\": 0}, {\"x\": 1, \"y\": 21, \"val\": 0}, {\"x\": 2, \"y\": 21, \"val\": 0}, {\"x\": 3, \"y\": 21, \"val\": 0}, {\"x\": 4, \"y\": 21, \"val\": 0}, {\"x\": 5, \"y\": 21, \"val\": 0}, {\"x\": 6, \"y\": 21, \"val\": 0}, {\"x\": 7, \"y\": 21, \"val\": 0}, {\"x\": 8, \"y\": 21, \"val\": 0}, {\"x\": 9, \"y\": 21, \"val\": 2}, {\"x\": 10, \"y\": 21, \"val\": 159}, {\"x\": 11, \"y\": 21, \"val\": 253}, {\"x\": 12, \"y\": 21, \"val\": 253}, {\"x\": 13, \"y\": 21, \"val\": 253}, {\"x\": 14, \"y\": 21, \"val\": 253}, {\"x\": 15, \"y\": 21, \"val\": 253}, {\"x\": 16, \"y\": 21, \"val\": 253}, {\"x\": 17, \"y\": 21, \"val\": 219}, {\"x\": 18, \"y\": 21, \"val\": 35}, {\"x\": 19, \"y\": 21, \"val\": 2}, {\"x\": 20, \"y\": 21, \"val\": 0}, {\"x\": 21, \"y\": 21, \"val\": 0}, {\"x\": 22, \"y\": 21, \"val\": 0}, {\"x\": 23, \"y\": 21, \"val\": 0}, {\"x\": 24, \"y\": 21, \"val\": 0}, {\"x\": 25, \"y\": 21, \"val\": 0}, {\"x\": 26, \"y\": 21, \"val\": 0}, {\"x\": 27, \"y\": 21, \"val\": 0}, {\"x\": 28, \"y\": 21, \"val\": 0}, {\"x\": 1, \"y\": 22, \"val\": 0}, {\"x\": 2, \"y\": 22, \"val\": 0}, {\"x\": 3, \"y\": 22, \"val\": 0}, {\"x\": 4, \"y\": 22, \"val\": 0}, {\"x\": 5, \"y\": 22, \"val\": 0}, {\"x\": 6, \"y\": 22, \"val\": 0}, {\"x\": 7, \"y\": 22, \"val\": 0}, {\"x\": 8, \"y\": 22, \"val\": 0}, {\"x\": 9, \"y\": 22, \"val\": 0}, {\"x\": 10, \"y\": 22, \"val\": 34}, {\"x\": 11, \"y\": 22, \"val\": 253}, {\"x\": 12, \"y\": 22, \"val\": 253}, {\"x\": 13, \"y\": 22, \"val\": 253}, {\"x\": 14, \"y\": 22, \"val\": 253}, {\"x\": 15, \"y\": 22, \"val\": 223}, {\"x\": 16, \"y\": 22, \"val\": 96}, {\"x\": 17, \"y\": 22, \"val\": 4}, {\"x\": 18, \"y\": 22, \"val\": 0}, {\"x\": 19, \"y\": 22, \"val\": 0}, {\"x\": 20, \"y\": 22, \"val\": 0}, {\"x\": 21, \"y\": 22, \"val\": 0}, {\"x\": 22, \"y\": 22, \"val\": 0}, {\"x\": 23, \"y\": 22, \"val\": 0}, {\"x\": 24, \"y\": 22, \"val\": 0}, {\"x\": 25, \"y\": 22, \"val\": 0}, {\"x\": 26, \"y\": 22, \"val\": 0}, {\"x\": 27, \"y\": 22, \"val\": 0}, {\"x\": 28, \"y\": 22, \"val\": 0}, {\"x\": 1, \"y\": 23, \"val\": 0}, {\"x\": 2, \"y\": 23, \"val\": 0}, {\"x\": 3, \"y\": 23, \"val\": 0}, {\"x\": 4, \"y\": 23, \"val\": 0}, {\"x\": 5, \"y\": 23, \"val\": 0}, {\"x\": 6, \"y\": 23, \"val\": 0}, {\"x\": 7, \"y\": 23, \"val\": 0}, {\"x\": 8, \"y\": 23, \"val\": 0}, {\"x\": 9, \"y\": 23, \"val\": 0}, {\"x\": 10, \"y\": 23, \"val\": 0}, {\"x\": 11, \"y\": 23, \"val\": 0}, {\"x\": 12, \"y\": 23, \"val\": 0}, {\"x\": 13, \"y\": 23, \"val\": 0}, {\"x\": 14, \"y\": 23, \"val\": 0}, {\"x\": 15, \"y\": 23, \"val\": 0}, {\"x\": 16, \"y\": 23, \"val\": 0}, {\"x\": 17, \"y\": 23, \"val\": 0}, {\"x\": 18, \"y\": 23, \"val\": 0}, {\"x\": 19, \"y\": 23, \"val\": 0}, {\"x\": 20, \"y\": 23, \"val\": 0}, {\"x\": 21, \"y\": 23, \"val\": 0}, {\"x\": 22, \"y\": 23, \"val\": 0}, {\"x\": 23, \"y\": 23, \"val\": 0}, {\"x\": 24, \"y\": 23, \"val\": 0}, {\"x\": 25, \"y\": 23, \"val\": 0}, {\"x\": 26, \"y\": 23, \"val\": 0}, {\"x\": 27, \"y\": 23, \"val\": 0}, {\"x\": 28, \"y\": 23, \"val\": 0}, {\"x\": 1, \"y\": 24, \"val\": 0}, {\"x\": 2, \"y\": 24, \"val\": 0}, {\"x\": 3, \"y\": 24, \"val\": 0}, {\"x\": 4, \"y\": 24, \"val\": 0}, {\"x\": 5, \"y\": 24, \"val\": 0}, {\"x\": 6, \"y\": 24, \"val\": 0}, {\"x\": 7, \"y\": 24, \"val\": 0}, {\"x\": 8, \"y\": 24, \"val\": 0}, {\"x\": 9, \"y\": 24, \"val\": 0}, {\"x\": 10, \"y\": 24, \"val\": 0}, {\"x\": 11, \"y\": 24, \"val\": 0}, {\"x\": 12, \"y\": 24, \"val\": 0}, {\"x\": 13, \"y\": 24, \"val\": 0}, {\"x\": 14, \"y\": 24, \"val\": 0}, {\"x\": 15, \"y\": 24, \"val\": 0}, {\"x\": 16, \"y\": 24, \"val\": 0}, {\"x\": 17, \"y\": 24, \"val\": 0}, {\"x\": 18, \"y\": 24, \"val\": 0}, {\"x\": 19, \"y\": 24, \"val\": 0}, {\"x\": 20, \"y\": 24, \"val\": 0}, {\"x\": 21, \"y\": 24, \"val\": 0}, {\"x\": 22, \"y\": 24, \"val\": 0}, {\"x\": 23, \"y\": 24, \"val\": 0}, {\"x\": 24, \"y\": 24, \"val\": 0}, {\"x\": 25, \"y\": 24, \"val\": 0}, {\"x\": 26, \"y\": 24, \"val\": 0}, {\"x\": 27, \"y\": 24, \"val\": 0}, {\"x\": 28, \"y\": 24, \"val\": 0}, {\"x\": 1, \"y\": 25, \"val\": 0}, {\"x\": 2, \"y\": 25, \"val\": 0}, {\"x\": 3, \"y\": 25, \"val\": 0}, {\"x\": 4, \"y\": 25, \"val\": 0}, {\"x\": 5, \"y\": 25, \"val\": 0}, {\"x\": 6, \"y\": 25, \"val\": 0}, {\"x\": 7, \"y\": 25, \"val\": 0}, {\"x\": 8, \"y\": 25, \"val\": 0}, {\"x\": 9, \"y\": 25, \"val\": 0}, {\"x\": 10, \"y\": 25, \"val\": 0}, {\"x\": 11, \"y\": 25, \"val\": 0}, {\"x\": 12, \"y\": 25, \"val\": 0}, {\"x\": 13, \"y\": 25, \"val\": 0}, {\"x\": 14, \"y\": 25, \"val\": 0}, {\"x\": 15, \"y\": 25, \"val\": 0}, {\"x\": 16, \"y\": 25, \"val\": 0}, {\"x\": 17, \"y\": 25, \"val\": 0}, {\"x\": 18, \"y\": 25, \"val\": 0}, {\"x\": 19, \"y\": 25, \"val\": 0}, {\"x\": 20, \"y\": 25, \"val\": 0}, {\"x\": 21, \"y\": 25, \"val\": 0}, {\"x\": 22, \"y\": 25, \"val\": 0}, {\"x\": 23, \"y\": 25, \"val\": 0}, {\"x\": 24, \"y\": 25, \"val\": 0}, {\"x\": 25, \"y\": 25, \"val\": 0}, {\"x\": 26, \"y\": 25, \"val\": 0}, {\"x\": 27, \"y\": 25, \"val\": 0}, {\"x\": 28, \"y\": 25, \"val\": 0}, {\"x\": 1, \"y\": 26, \"val\": 0}, {\"x\": 2, \"y\": 26, \"val\": 0}, {\"x\": 3, \"y\": 26, \"val\": 0}, {\"x\": 4, \"y\": 26, \"val\": 0}, {\"x\": 5, \"y\": 26, \"val\": 0}, {\"x\": 6, \"y\": 26, \"val\": 0}, {\"x\": 7, \"y\": 26, \"val\": 0}, {\"x\": 8, \"y\": 26, \"val\": 0}, {\"x\": 9, \"y\": 26, \"val\": 0}, {\"x\": 10, \"y\": 26, \"val\": 0}, {\"x\": 11, \"y\": 26, \"val\": 0}, {\"x\": 12, \"y\": 26, \"val\": 0}, {\"x\": 13, \"y\": 26, \"val\": 0}, {\"x\": 14, \"y\": 26, \"val\": 0}, {\"x\": 15, \"y\": 26, \"val\": 0}, {\"x\": 16, \"y\": 26, \"val\": 0}, {\"x\": 17, \"y\": 26, \"val\": 0}, {\"x\": 18, \"y\": 26, \"val\": 0}, {\"x\": 19, \"y\": 26, \"val\": 0}, {\"x\": 20, \"y\": 26, \"val\": 0}, {\"x\": 21, \"y\": 26, \"val\": 0}, {\"x\": 22, \"y\": 26, \"val\": 0}, {\"x\": 23, \"y\": 26, \"val\": 0}, {\"x\": 24, \"y\": 26, \"val\": 0}, {\"x\": 25, \"y\": 26, \"val\": 0}, {\"x\": 26, \"y\": 26, \"val\": 0}, {\"x\": 27, \"y\": 26, \"val\": 0}, {\"x\": 28, \"y\": 26, \"val\": 0}, {\"x\": 1, \"y\": 27, \"val\": 0}, {\"x\": 2, \"y\": 27, \"val\": 0}, {\"x\": 3, \"y\": 27, \"val\": 0}, {\"x\": 4, \"y\": 27, \"val\": 0}, {\"x\": 5, \"y\": 27, \"val\": 0}, {\"x\": 6, \"y\": 27, \"val\": 0}, {\"x\": 7, \"y\": 27, \"val\": 0}, {\"x\": 8, \"y\": 27, \"val\": 0}, {\"x\": 9, \"y\": 27, \"val\": 0}, {\"x\": 10, \"y\": 27, \"val\": 0}, {\"x\": 11, \"y\": 27, \"val\": 0}, {\"x\": 12, \"y\": 27, \"val\": 0}, {\"x\": 13, \"y\": 27, \"val\": 0}, {\"x\": 14, \"y\": 27, \"val\": 0}, {\"x\": 15, \"y\": 27, \"val\": 0}, {\"x\": 16, \"y\": 27, \"val\": 0}, {\"x\": 17, \"y\": 27, \"val\": 0}, {\"x\": 18, \"y\": 27, \"val\": 0}, {\"x\": 19, \"y\": 27, \"val\": 0}, {\"x\": 20, \"y\": 27, \"val\": 0}, {\"x\": 21, \"y\": 27, \"val\": 0}, {\"x\": 22, \"y\": 27, \"val\": 0}, {\"x\": 23, \"y\": 27, \"val\": 0}, {\"x\": 24, \"y\": 27, \"val\": 0}, {\"x\": 25, \"y\": 27, \"val\": 0}, {\"x\": 26, \"y\": 27, \"val\": 0}, {\"x\": 27, \"y\": 27, \"val\": 0}, {\"x\": 28, \"y\": 27, \"val\": 0}, {\"x\": 1, \"y\": 28, \"val\": 0}, {\"x\": 2, \"y\": 28, \"val\": 0}, {\"x\": 3, \"y\": 28, \"val\": 0}, {\"x\": 4, \"y\": 28, \"val\": 0}, {\"x\": 5, \"y\": 28, \"val\": 0}, {\"x\": 6, \"y\": 28, \"val\": 0}, {\"x\": 7, \"y\": 28, \"val\": 0}, {\"x\": 8, \"y\": 28, \"val\": 0}, {\"x\": 9, \"y\": 28, \"val\": 0}, {\"x\": 10, \"y\": 28, \"val\": 0}, {\"x\": 11, \"y\": 28, \"val\": 0}, {\"x\": 12, \"y\": 28, \"val\": 0}, {\"x\": 13, \"y\": 28, \"val\": 0}, {\"x\": 14, \"y\": 28, \"val\": 0}, {\"x\": 15, \"y\": 28, \"val\": 0}, {\"x\": 16, \"y\": 28, \"val\": 0}, {\"x\": 17, \"y\": 28, \"val\": 0}, {\"x\": 18, \"y\": 28, \"val\": 0}, {\"x\": 19, \"y\": 28, \"val\": 0}, {\"x\": 20, \"y\": 28, \"val\": 0}, {\"x\": 21, \"y\": 28, \"val\": 0}, {\"x\": 22, \"y\": 28, \"val\": 0}, {\"x\": 23, \"y\": 28, \"val\": 0}, {\"x\": 24, \"y\": 28, \"val\": 0}, {\"x\": 25, \"y\": 28, \"val\": 0}, {\"x\": 26, \"y\": 28, \"val\": 0}, {\"x\": 27, \"y\": 28, \"val\": 0}, {\"x\": 28, \"y\": 28, \"val\": 0}], \"data-87d7158f3e7f592cd3192db4dc327499\": [{\"x\": 1, \"y\": 1, \"val\": 0}, {\"x\": 2, \"y\": 1, \"val\": 0}, {\"x\": 3, \"y\": 1, \"val\": 0}, {\"x\": 4, \"y\": 1, \"val\": 0}, {\"x\": 5, \"y\": 1, \"val\": 0}, {\"x\": 6, \"y\": 1, \"val\": 0}, {\"x\": 7, \"y\": 1, \"val\": 0}, {\"x\": 8, \"y\": 1, \"val\": 0}, {\"x\": 9, \"y\": 1, \"val\": 0}, {\"x\": 10, \"y\": 1, \"val\": 0}, {\"x\": 11, \"y\": 1, \"val\": 0}, {\"x\": 12, \"y\": 1, \"val\": 0}, {\"x\": 13, \"y\": 1, \"val\": 0}, {\"x\": 14, \"y\": 1, \"val\": 0}, {\"x\": 15, \"y\": 1, \"val\": 0}, {\"x\": 16, \"y\": 1, \"val\": 0}, {\"x\": 17, \"y\": 1, \"val\": 0}, {\"x\": 18, \"y\": 1, \"val\": 0}, {\"x\": 19, \"y\": 1, \"val\": 0}, {\"x\": 20, \"y\": 1, \"val\": 0}, {\"x\": 21, \"y\": 1, \"val\": 0}, {\"x\": 22, \"y\": 1, \"val\": 0}, {\"x\": 23, \"y\": 1, \"val\": 0}, {\"x\": 24, \"y\": 1, \"val\": 0}, {\"x\": 25, \"y\": 1, \"val\": 0}, {\"x\": 26, \"y\": 1, \"val\": 0}, {\"x\": 27, \"y\": 1, \"val\": 0}, {\"x\": 28, \"y\": 1, \"val\": 0}, {\"x\": 1, \"y\": 2, \"val\": 0}, {\"x\": 2, \"y\": 2, \"val\": 0}, {\"x\": 3, \"y\": 2, \"val\": 0}, {\"x\": 4, \"y\": 2, \"val\": 0}, {\"x\": 5, \"y\": 2, \"val\": 0}, {\"x\": 6, \"y\": 2, \"val\": 0}, {\"x\": 7, \"y\": 2, \"val\": 0}, {\"x\": 8, \"y\": 2, \"val\": 0}, {\"x\": 9, \"y\": 2, \"val\": 0}, {\"x\": 10, \"y\": 2, \"val\": 0}, {\"x\": 11, \"y\": 2, \"val\": 0}, {\"x\": 12, \"y\": 2, \"val\": 0}, {\"x\": 13, \"y\": 2, \"val\": 0}, {\"x\": 14, \"y\": 2, \"val\": 0}, {\"x\": 15, \"y\": 2, \"val\": 0}, {\"x\": 16, \"y\": 2, \"val\": 0}, {\"x\": 17, \"y\": 2, \"val\": 0}, {\"x\": 18, \"y\": 2, \"val\": 0}, {\"x\": 19, \"y\": 2, \"val\": 0}, {\"x\": 20, \"y\": 2, \"val\": 0}, {\"x\": 21, \"y\": 2, \"val\": 0}, {\"x\": 22, \"y\": 2, \"val\": 0}, {\"x\": 23, \"y\": 2, \"val\": 0}, {\"x\": 24, \"y\": 2, \"val\": 0}, {\"x\": 25, \"y\": 2, \"val\": 0}, {\"x\": 26, \"y\": 2, \"val\": 0}, {\"x\": 27, \"y\": 2, \"val\": 0}, {\"x\": 28, \"y\": 2, \"val\": 0}, {\"x\": 1, \"y\": 3, \"val\": 0}, {\"x\": 2, \"y\": 3, \"val\": 0}, {\"x\": 3, \"y\": 3, \"val\": 0}, {\"x\": 4, \"y\": 3, \"val\": 0}, {\"x\": 5, \"y\": 3, \"val\": 0}, {\"x\": 6, \"y\": 3, \"val\": 0}, {\"x\": 7, \"y\": 3, \"val\": 0}, {\"x\": 8, \"y\": 3, \"val\": 0}, {\"x\": 9, \"y\": 3, \"val\": 0}, {\"x\": 10, \"y\": 3, \"val\": 0}, {\"x\": 11, \"y\": 3, \"val\": 0}, {\"x\": 12, \"y\": 3, \"val\": 0}, {\"x\": 13, \"y\": 3, \"val\": 0}, {\"x\": 14, \"y\": 3, \"val\": 0}, {\"x\": 15, \"y\": 3, \"val\": 0}, {\"x\": 16, \"y\": 3, \"val\": 0}, {\"x\": 17, \"y\": 3, \"val\": 0}, {\"x\": 18, \"y\": 3, \"val\": 0}, {\"x\": 19, \"y\": 3, \"val\": 0}, {\"x\": 20, \"y\": 3, \"val\": 0}, {\"x\": 21, \"y\": 3, \"val\": 0}, {\"x\": 22, \"y\": 3, \"val\": 0}, {\"x\": 23, \"y\": 3, \"val\": 0}, {\"x\": 24, \"y\": 3, \"val\": 0}, {\"x\": 25, \"y\": 3, \"val\": 0}, {\"x\": 26, \"y\": 3, \"val\": 0}, {\"x\": 27, \"y\": 3, \"val\": 0}, {\"x\": 28, \"y\": 3, \"val\": 0}, {\"x\": 1, \"y\": 4, \"val\": 0}, {\"x\": 2, \"y\": 4, \"val\": 0}, {\"x\": 3, \"y\": 4, \"val\": 0}, {\"x\": 4, \"y\": 4, \"val\": 0}, {\"x\": 5, \"y\": 4, \"val\": 0}, {\"x\": 6, \"y\": 4, \"val\": 0}, {\"x\": 7, \"y\": 4, \"val\": 0}, {\"x\": 8, \"y\": 4, \"val\": 0}, {\"x\": 9, \"y\": 4, \"val\": 0}, {\"x\": 10, \"y\": 4, \"val\": 0}, {\"x\": 11, \"y\": 4, \"val\": 0}, {\"x\": 12, \"y\": 4, \"val\": 0}, {\"x\": 13, \"y\": 4, \"val\": 0}, {\"x\": 14, \"y\": 4, \"val\": 0}, {\"x\": 15, \"y\": 4, \"val\": 0}, {\"x\": 16, \"y\": 4, \"val\": 0}, {\"x\": 17, \"y\": 4, \"val\": 0}, {\"x\": 18, \"y\": 4, \"val\": 0}, {\"x\": 19, \"y\": 4, \"val\": 0}, {\"x\": 20, \"y\": 4, \"val\": 0}, {\"x\": 21, \"y\": 4, \"val\": 0}, {\"x\": 22, \"y\": 4, \"val\": 0}, {\"x\": 23, \"y\": 4, \"val\": 0}, {\"x\": 24, \"y\": 4, \"val\": 0}, {\"x\": 25, \"y\": 4, \"val\": 0}, {\"x\": 26, \"y\": 4, \"val\": 0}, {\"x\": 27, \"y\": 4, \"val\": 0}, {\"x\": 28, \"y\": 4, \"val\": 0}, {\"x\": 1, \"y\": 5, \"val\": 0}, {\"x\": 2, \"y\": 5, \"val\": 0}, {\"x\": 3, \"y\": 5, \"val\": 0}, {\"x\": 4, \"y\": 5, \"val\": 0}, {\"x\": 5, \"y\": 5, \"val\": 0}, {\"x\": 6, \"y\": 5, \"val\": 0}, {\"x\": 7, \"y\": 5, \"val\": 0}, {\"x\": 8, \"y\": 5, \"val\": 0}, {\"x\": 9, \"y\": 5, \"val\": 0}, {\"x\": 10, \"y\": 5, \"val\": 0}, {\"x\": 11, \"y\": 5, \"val\": 0}, {\"x\": 12, \"y\": 5, \"val\": 0}, {\"x\": 13, \"y\": 5, \"val\": 0}, {\"x\": 14, \"y\": 5, \"val\": 0}, {\"x\": 15, \"y\": 5, \"val\": 0}, {\"x\": 16, \"y\": 5, \"val\": 0}, {\"x\": 17, \"y\": 5, \"val\": 0}, {\"x\": 18, \"y\": 5, \"val\": 0}, {\"x\": 19, \"y\": 5, \"val\": 0}, {\"x\": 20, \"y\": 5, \"val\": 0}, {\"x\": 21, \"y\": 5, \"val\": 0}, {\"x\": 22, \"y\": 5, \"val\": 0}, {\"x\": 23, \"y\": 5, \"val\": 0}, {\"x\": 24, \"y\": 5, \"val\": 0}, {\"x\": 25, \"y\": 5, \"val\": 0}, {\"x\": 26, \"y\": 5, \"val\": 0}, {\"x\": 27, \"y\": 5, \"val\": 0}, {\"x\": 28, \"y\": 5, \"val\": 0}, {\"x\": 1, \"y\": 6, \"val\": 0}, {\"x\": 2, \"y\": 6, \"val\": 0}, {\"x\": 3, \"y\": 6, \"val\": 0}, {\"x\": 4, \"y\": 6, \"val\": 0}, {\"x\": 5, \"y\": 6, \"val\": 0}, {\"x\": 6, \"y\": 6, \"val\": 0}, {\"x\": 7, \"y\": 6, \"val\": 0}, {\"x\": 8, \"y\": 6, \"val\": 0}, {\"x\": 9, \"y\": 6, \"val\": 0}, {\"x\": 10, \"y\": 6, \"val\": 0}, {\"x\": 11, \"y\": 6, \"val\": 0}, {\"x\": 12, \"y\": 6, \"val\": 0}, {\"x\": 13, \"y\": 6, \"val\": 0}, {\"x\": 14, \"y\": 6, \"val\": 0}, {\"x\": 15, \"y\": 6, \"val\": 0}, {\"x\": 16, \"y\": 6, \"val\": 0}, {\"x\": 17, \"y\": 6, \"val\": 42}, {\"x\": 18, \"y\": 6, \"val\": 228}, {\"x\": 19, \"y\": 6, \"val\": 253}, {\"x\": 20, \"y\": 6, \"val\": 253}, {\"x\": 21, \"y\": 6, \"val\": 0}, {\"x\": 22, \"y\": 6, \"val\": 0}, {\"x\": 23, \"y\": 6, \"val\": 0}, {\"x\": 24, \"y\": 6, \"val\": 0}, {\"x\": 25, \"y\": 6, \"val\": 0}, {\"x\": 26, \"y\": 6, \"val\": 0}, {\"x\": 27, \"y\": 6, \"val\": 0}, {\"x\": 28, \"y\": 6, \"val\": 0}, {\"x\": 1, \"y\": 7, \"val\": 0}, {\"x\": 2, \"y\": 7, \"val\": 0}, {\"x\": 3, \"y\": 7, \"val\": 0}, {\"x\": 4, \"y\": 7, \"val\": 0}, {\"x\": 5, \"y\": 7, \"val\": 0}, {\"x\": 6, \"y\": 7, \"val\": 0}, {\"x\": 7, \"y\": 7, \"val\": 0}, {\"x\": 8, \"y\": 7, \"val\": 0}, {\"x\": 9, \"y\": 7, \"val\": 0}, {\"x\": 10, \"y\": 7, \"val\": 0}, {\"x\": 11, \"y\": 7, \"val\": 0}, {\"x\": 12, \"y\": 7, \"val\": 0}, {\"x\": 13, \"y\": 7, \"val\": 0}, {\"x\": 14, \"y\": 7, \"val\": 0}, {\"x\": 15, \"y\": 7, \"val\": 0}, {\"x\": 16, \"y\": 7, \"val\": 0}, {\"x\": 17, \"y\": 7, \"val\": 144}, {\"x\": 18, \"y\": 7, \"val\": 251}, {\"x\": 19, \"y\": 7, \"val\": 251}, {\"x\": 20, \"y\": 7, \"val\": 251}, {\"x\": 21, \"y\": 7, \"val\": 0}, {\"x\": 22, \"y\": 7, \"val\": 0}, {\"x\": 23, \"y\": 7, \"val\": 0}, {\"x\": 24, \"y\": 7, \"val\": 0}, {\"x\": 25, \"y\": 7, \"val\": 0}, {\"x\": 26, \"y\": 7, \"val\": 0}, {\"x\": 27, \"y\": 7, \"val\": 0}, {\"x\": 28, \"y\": 7, \"val\": 0}, {\"x\": 1, \"y\": 8, \"val\": 0}, {\"x\": 2, \"y\": 8, \"val\": 0}, {\"x\": 3, \"y\": 8, \"val\": 0}, {\"x\": 4, \"y\": 8, \"val\": 0}, {\"x\": 5, \"y\": 8, \"val\": 0}, {\"x\": 6, \"y\": 8, \"val\": 0}, {\"x\": 7, \"y\": 8, \"val\": 0}, {\"x\": 8, \"y\": 8, \"val\": 0}, {\"x\": 9, \"y\": 8, \"val\": 0}, {\"x\": 10, \"y\": 8, \"val\": 0}, {\"x\": 11, \"y\": 8, \"val\": 0}, {\"x\": 12, \"y\": 8, \"val\": 0}, {\"x\": 13, \"y\": 8, \"val\": 0}, {\"x\": 14, \"y\": 8, \"val\": 0}, {\"x\": 15, \"y\": 8, \"val\": 0}, {\"x\": 16, \"y\": 8, \"val\": 89}, {\"x\": 17, \"y\": 8, \"val\": 236}, {\"x\": 18, \"y\": 8, \"val\": 251}, {\"x\": 19, \"y\": 8, \"val\": 235}, {\"x\": 20, \"y\": 8, \"val\": 215}, {\"x\": 21, \"y\": 8, \"val\": 0}, {\"x\": 22, \"y\": 8, \"val\": 0}, {\"x\": 23, \"y\": 8, \"val\": 0}, {\"x\": 24, \"y\": 8, \"val\": 0}, {\"x\": 25, \"y\": 8, \"val\": 0}, {\"x\": 26, \"y\": 8, \"val\": 0}, {\"x\": 27, \"y\": 8, \"val\": 0}, {\"x\": 28, \"y\": 8, \"val\": 0}, {\"x\": 1, \"y\": 9, \"val\": 0}, {\"x\": 2, \"y\": 9, \"val\": 0}, {\"x\": 3, \"y\": 9, \"val\": 0}, {\"x\": 4, \"y\": 9, \"val\": 0}, {\"x\": 5, \"y\": 9, \"val\": 0}, {\"x\": 6, \"y\": 9, \"val\": 0}, {\"x\": 7, \"y\": 9, \"val\": 0}, {\"x\": 8, \"y\": 9, \"val\": 0}, {\"x\": 9, \"y\": 9, \"val\": 0}, {\"x\": 10, \"y\": 9, \"val\": 0}, {\"x\": 11, \"y\": 9, \"val\": 0}, {\"x\": 12, \"y\": 9, \"val\": 0}, {\"x\": 13, \"y\": 9, \"val\": 0}, {\"x\": 14, \"y\": 9, \"val\": 0}, {\"x\": 15, \"y\": 9, \"val\": 79}, {\"x\": 16, \"y\": 9, \"val\": 253}, {\"x\": 17, \"y\": 9, \"val\": 251}, {\"x\": 18, \"y\": 9, \"val\": 251}, {\"x\": 19, \"y\": 9, \"val\": 142}, {\"x\": 20, \"y\": 9, \"val\": 0}, {\"x\": 21, \"y\": 9, \"val\": 0}, {\"x\": 22, \"y\": 9, \"val\": 0}, {\"x\": 23, \"y\": 9, \"val\": 0}, {\"x\": 24, \"y\": 9, \"val\": 0}, {\"x\": 25, \"y\": 9, \"val\": 0}, {\"x\": 26, \"y\": 9, \"val\": 0}, {\"x\": 27, \"y\": 9, \"val\": 0}, {\"x\": 28, \"y\": 9, \"val\": 0}, {\"x\": 1, \"y\": 10, \"val\": 0}, {\"x\": 2, \"y\": 10, \"val\": 0}, {\"x\": 3, \"y\": 10, \"val\": 0}, {\"x\": 4, \"y\": 10, \"val\": 0}, {\"x\": 5, \"y\": 10, \"val\": 0}, {\"x\": 6, \"y\": 10, \"val\": 0}, {\"x\": 7, \"y\": 10, \"val\": 0}, {\"x\": 8, \"y\": 10, \"val\": 0}, {\"x\": 9, \"y\": 10, \"val\": 0}, {\"x\": 10, \"y\": 10, \"val\": 0}, {\"x\": 11, \"y\": 10, \"val\": 0}, {\"x\": 12, \"y\": 10, \"val\": 0}, {\"x\": 13, \"y\": 10, \"val\": 0}, {\"x\": 14, \"y\": 10, \"val\": 0}, {\"x\": 15, \"y\": 10, \"val\": 180}, {\"x\": 16, \"y\": 10, \"val\": 253}, {\"x\": 17, \"y\": 10, \"val\": 251}, {\"x\": 18, \"y\": 10, \"val\": 251}, {\"x\": 19, \"y\": 10, \"val\": 142}, {\"x\": 20, \"y\": 10, \"val\": 0}, {\"x\": 21, \"y\": 10, \"val\": 0}, {\"x\": 22, \"y\": 10, \"val\": 0}, {\"x\": 23, \"y\": 10, \"val\": 0}, {\"x\": 24, \"y\": 10, \"val\": 0}, {\"x\": 25, \"y\": 10, \"val\": 0}, {\"x\": 26, \"y\": 10, \"val\": 0}, {\"x\": 27, \"y\": 10, \"val\": 0}, {\"x\": 28, \"y\": 10, \"val\": 0}, {\"x\": 1, \"y\": 11, \"val\": 0}, {\"x\": 2, \"y\": 11, \"val\": 0}, {\"x\": 3, \"y\": 11, \"val\": 0}, {\"x\": 4, \"y\": 11, \"val\": 0}, {\"x\": 5, \"y\": 11, \"val\": 0}, {\"x\": 6, \"y\": 11, \"val\": 0}, {\"x\": 7, \"y\": 11, \"val\": 0}, {\"x\": 8, \"y\": 11, \"val\": 0}, {\"x\": 9, \"y\": 11, \"val\": 0}, {\"x\": 10, \"y\": 11, \"val\": 0}, {\"x\": 11, \"y\": 11, \"val\": 0}, {\"x\": 12, \"y\": 11, \"val\": 0}, {\"x\": 13, \"y\": 11, \"val\": 0}, {\"x\": 14, \"y\": 11, \"val\": 32}, {\"x\": 15, \"y\": 11, \"val\": 202}, {\"x\": 16, \"y\": 11, \"val\": 255}, {\"x\": 17, \"y\": 11, \"val\": 253}, {\"x\": 18, \"y\": 11, \"val\": 216}, {\"x\": 19, \"y\": 11, \"val\": 0}, {\"x\": 20, \"y\": 11, \"val\": 0}, {\"x\": 21, \"y\": 11, \"val\": 0}, {\"x\": 22, \"y\": 11, \"val\": 0}, {\"x\": 23, \"y\": 11, \"val\": 0}, {\"x\": 24, \"y\": 11, \"val\": 0}, {\"x\": 25, \"y\": 11, \"val\": 0}, {\"x\": 26, \"y\": 11, \"val\": 0}, {\"x\": 27, \"y\": 11, \"val\": 0}, {\"x\": 28, \"y\": 11, \"val\": 0}, {\"x\": 1, \"y\": 12, \"val\": 0}, {\"x\": 2, \"y\": 12, \"val\": 0}, {\"x\": 3, \"y\": 12, \"val\": 0}, {\"x\": 4, \"y\": 12, \"val\": 0}, {\"x\": 5, \"y\": 12, \"val\": 0}, {\"x\": 6, \"y\": 12, \"val\": 0}, {\"x\": 7, \"y\": 12, \"val\": 0}, {\"x\": 8, \"y\": 12, \"val\": 0}, {\"x\": 9, \"y\": 12, \"val\": 0}, {\"x\": 10, \"y\": 12, \"val\": 0}, {\"x\": 11, \"y\": 12, \"val\": 0}, {\"x\": 12, \"y\": 12, \"val\": 0}, {\"x\": 13, \"y\": 12, \"val\": 0}, {\"x\": 14, \"y\": 12, \"val\": 109}, {\"x\": 15, \"y\": 12, \"val\": 251}, {\"x\": 16, \"y\": 12, \"val\": 253}, {\"x\": 17, \"y\": 12, \"val\": 251}, {\"x\": 18, \"y\": 12, \"val\": 112}, {\"x\": 19, \"y\": 12, \"val\": 0}, {\"x\": 20, \"y\": 12, \"val\": 0}, {\"x\": 21, \"y\": 12, \"val\": 0}, {\"x\": 22, \"y\": 12, \"val\": 0}, {\"x\": 23, \"y\": 12, \"val\": 0}, {\"x\": 24, \"y\": 12, \"val\": 0}, {\"x\": 25, \"y\": 12, \"val\": 0}, {\"x\": 26, \"y\": 12, \"val\": 0}, {\"x\": 27, \"y\": 12, \"val\": 0}, {\"x\": 28, \"y\": 12, \"val\": 0}, {\"x\": 1, \"y\": 13, \"val\": 0}, {\"x\": 2, \"y\": 13, \"val\": 0}, {\"x\": 3, \"y\": 13, \"val\": 0}, {\"x\": 4, \"y\": 13, \"val\": 0}, {\"x\": 5, \"y\": 13, \"val\": 0}, {\"x\": 6, \"y\": 13, \"val\": 0}, {\"x\": 7, \"y\": 13, \"val\": 0}, {\"x\": 8, \"y\": 13, \"val\": 0}, {\"x\": 9, \"y\": 13, \"val\": 0}, {\"x\": 10, \"y\": 13, \"val\": 0}, {\"x\": 11, \"y\": 13, \"val\": 0}, {\"x\": 12, \"y\": 13, \"val\": 0}, {\"x\": 13, \"y\": 13, \"val\": 6}, {\"x\": 14, \"y\": 13, \"val\": 129}, {\"x\": 15, \"y\": 13, \"val\": 251}, {\"x\": 16, \"y\": 13, \"val\": 253}, {\"x\": 17, \"y\": 13, \"val\": 127}, {\"x\": 18, \"y\": 13, \"val\": 5}, {\"x\": 19, \"y\": 13, \"val\": 0}, {\"x\": 20, \"y\": 13, \"val\": 0}, {\"x\": 21, \"y\": 13, \"val\": 0}, {\"x\": 22, \"y\": 13, \"val\": 0}, {\"x\": 23, \"y\": 13, \"val\": 0}, {\"x\": 24, \"y\": 13, \"val\": 0}, {\"x\": 25, \"y\": 13, \"val\": 0}, {\"x\": 26, \"y\": 13, \"val\": 0}, {\"x\": 27, \"y\": 13, \"val\": 0}, {\"x\": 28, \"y\": 13, \"val\": 0}, {\"x\": 1, \"y\": 14, \"val\": 0}, {\"x\": 2, \"y\": 14, \"val\": 0}, {\"x\": 3, \"y\": 14, \"val\": 0}, {\"x\": 4, \"y\": 14, \"val\": 0}, {\"x\": 5, \"y\": 14, \"val\": 0}, {\"x\": 6, \"y\": 14, \"val\": 0}, {\"x\": 7, \"y\": 14, \"val\": 0}, {\"x\": 8, \"y\": 14, \"val\": 0}, {\"x\": 9, \"y\": 14, \"val\": 0}, {\"x\": 10, \"y\": 14, \"val\": 0}, {\"x\": 11, \"y\": 14, \"val\": 0}, {\"x\": 12, \"y\": 14, \"val\": 0}, {\"x\": 13, \"y\": 14, \"val\": 37}, {\"x\": 14, \"y\": 14, \"val\": 251}, {\"x\": 15, \"y\": 14, \"val\": 251}, {\"x\": 16, \"y\": 14, \"val\": 253}, {\"x\": 17, \"y\": 14, \"val\": 107}, {\"x\": 18, \"y\": 14, \"val\": 0}, {\"x\": 19, \"y\": 14, \"val\": 0}, {\"x\": 20, \"y\": 14, \"val\": 0}, {\"x\": 21, \"y\": 14, \"val\": 0}, {\"x\": 22, \"y\": 14, \"val\": 0}, {\"x\": 23, \"y\": 14, \"val\": 0}, {\"x\": 24, \"y\": 14, \"val\": 0}, {\"x\": 25, \"y\": 14, \"val\": 0}, {\"x\": 26, \"y\": 14, \"val\": 0}, {\"x\": 27, \"y\": 14, \"val\": 0}, {\"x\": 28, \"y\": 14, \"val\": 0}, {\"x\": 1, \"y\": 15, \"val\": 0}, {\"x\": 2, \"y\": 15, \"val\": 0}, {\"x\": 3, \"y\": 15, \"val\": 0}, {\"x\": 4, \"y\": 15, \"val\": 0}, {\"x\": 5, \"y\": 15, \"val\": 0}, {\"x\": 6, \"y\": 15, \"val\": 0}, {\"x\": 7, \"y\": 15, \"val\": 0}, {\"x\": 8, \"y\": 15, \"val\": 0}, {\"x\": 9, \"y\": 15, \"val\": 0}, {\"x\": 10, \"y\": 15, \"val\": 0}, {\"x\": 11, \"y\": 15, \"val\": 0}, {\"x\": 12, \"y\": 15, \"val\": 0}, {\"x\": 13, \"y\": 15, \"val\": 166}, {\"x\": 14, \"y\": 15, \"val\": 251}, {\"x\": 15, \"y\": 15, \"val\": 251}, {\"x\": 16, \"y\": 15, \"val\": 201}, {\"x\": 17, \"y\": 15, \"val\": 30}, {\"x\": 18, \"y\": 15, \"val\": 0}, {\"x\": 19, \"y\": 15, \"val\": 0}, {\"x\": 20, \"y\": 15, \"val\": 0}, {\"x\": 21, \"y\": 15, \"val\": 0}, {\"x\": 22, \"y\": 15, \"val\": 0}, {\"x\": 23, \"y\": 15, \"val\": 0}, {\"x\": 24, \"y\": 15, \"val\": 0}, {\"x\": 25, \"y\": 15, \"val\": 0}, {\"x\": 26, \"y\": 15, \"val\": 0}, {\"x\": 27, \"y\": 15, \"val\": 0}, {\"x\": 28, \"y\": 15, \"val\": 0}, {\"x\": 1, \"y\": 16, \"val\": 0}, {\"x\": 2, \"y\": 16, \"val\": 0}, {\"x\": 3, \"y\": 16, \"val\": 0}, {\"x\": 4, \"y\": 16, \"val\": 0}, {\"x\": 5, \"y\": 16, \"val\": 0}, {\"x\": 6, \"y\": 16, \"val\": 0}, {\"x\": 7, \"y\": 16, \"val\": 0}, {\"x\": 8, \"y\": 16, \"val\": 0}, {\"x\": 9, \"y\": 16, \"val\": 0}, {\"x\": 10, \"y\": 16, \"val\": 0}, {\"x\": 11, \"y\": 16, \"val\": 0}, {\"x\": 12, \"y\": 16, \"val\": 42}, {\"x\": 13, \"y\": 16, \"val\": 228}, {\"x\": 14, \"y\": 16, \"val\": 253}, {\"x\": 15, \"y\": 16, \"val\": 253}, {\"x\": 16, \"y\": 16, \"val\": 0}, {\"x\": 17, \"y\": 16, \"val\": 0}, {\"x\": 18, \"y\": 16, \"val\": 0}, {\"x\": 19, \"y\": 16, \"val\": 0}, {\"x\": 20, \"y\": 16, \"val\": 0}, {\"x\": 21, \"y\": 16, \"val\": 0}, {\"x\": 22, \"y\": 16, \"val\": 0}, {\"x\": 23, \"y\": 16, \"val\": 0}, {\"x\": 24, \"y\": 16, \"val\": 0}, {\"x\": 25, \"y\": 16, \"val\": 0}, {\"x\": 26, \"y\": 16, \"val\": 0}, {\"x\": 27, \"y\": 16, \"val\": 0}, {\"x\": 28, \"y\": 16, \"val\": 0}, {\"x\": 1, \"y\": 17, \"val\": 0}, {\"x\": 2, \"y\": 17, \"val\": 0}, {\"x\": 3, \"y\": 17, \"val\": 0}, {\"x\": 4, \"y\": 17, \"val\": 0}, {\"x\": 5, \"y\": 17, \"val\": 0}, {\"x\": 6, \"y\": 17, \"val\": 0}, {\"x\": 7, \"y\": 17, \"val\": 0}, {\"x\": 8, \"y\": 17, \"val\": 0}, {\"x\": 9, \"y\": 17, \"val\": 0}, {\"x\": 10, \"y\": 17, \"val\": 0}, {\"x\": 11, \"y\": 17, \"val\": 0}, {\"x\": 12, \"y\": 17, \"val\": 144}, {\"x\": 13, \"y\": 17, \"val\": 251}, {\"x\": 14, \"y\": 17, \"val\": 251}, {\"x\": 15, \"y\": 17, \"val\": 147}, {\"x\": 16, \"y\": 17, \"val\": 0}, {\"x\": 17, \"y\": 17, \"val\": 0}, {\"x\": 18, \"y\": 17, \"val\": 0}, {\"x\": 19, \"y\": 17, \"val\": 0}, {\"x\": 20, \"y\": 17, \"val\": 0}, {\"x\": 21, \"y\": 17, \"val\": 0}, {\"x\": 22, \"y\": 17, \"val\": 0}, {\"x\": 23, \"y\": 17, \"val\": 0}, {\"x\": 24, \"y\": 17, \"val\": 0}, {\"x\": 25, \"y\": 17, \"val\": 0}, {\"x\": 26, \"y\": 17, \"val\": 0}, {\"x\": 27, \"y\": 17, \"val\": 0}, {\"x\": 28, \"y\": 17, \"val\": 0}, {\"x\": 1, \"y\": 18, \"val\": 0}, {\"x\": 2, \"y\": 18, \"val\": 0}, {\"x\": 3, \"y\": 18, \"val\": 0}, {\"x\": 4, \"y\": 18, \"val\": 0}, {\"x\": 5, \"y\": 18, \"val\": 0}, {\"x\": 6, \"y\": 18, \"val\": 0}, {\"x\": 7, \"y\": 18, \"val\": 0}, {\"x\": 8, \"y\": 18, \"val\": 0}, {\"x\": 9, \"y\": 18, \"val\": 0}, {\"x\": 10, \"y\": 18, \"val\": 0}, {\"x\": 11, \"y\": 18, \"val\": 63}, {\"x\": 12, \"y\": 18, \"val\": 236}, {\"x\": 13, \"y\": 18, \"val\": 251}, {\"x\": 14, \"y\": 18, \"val\": 251}, {\"x\": 15, \"y\": 18, \"val\": 71}, {\"x\": 16, \"y\": 18, \"val\": 0}, {\"x\": 17, \"y\": 18, \"val\": 0}, {\"x\": 18, \"y\": 18, \"val\": 0}, {\"x\": 19, \"y\": 18, \"val\": 0}, {\"x\": 20, \"y\": 18, \"val\": 0}, {\"x\": 21, \"y\": 18, \"val\": 0}, {\"x\": 22, \"y\": 18, \"val\": 0}, {\"x\": 23, \"y\": 18, \"val\": 0}, {\"x\": 24, \"y\": 18, \"val\": 0}, {\"x\": 25, \"y\": 18, \"val\": 0}, {\"x\": 26, \"y\": 18, \"val\": 0}, {\"x\": 27, \"y\": 18, \"val\": 0}, {\"x\": 28, \"y\": 18, \"val\": 0}, {\"x\": 1, \"y\": 19, \"val\": 0}, {\"x\": 2, \"y\": 19, \"val\": 0}, {\"x\": 3, \"y\": 19, \"val\": 0}, {\"x\": 4, \"y\": 19, \"val\": 0}, {\"x\": 5, \"y\": 19, \"val\": 0}, {\"x\": 6, \"y\": 19, \"val\": 0}, {\"x\": 7, \"y\": 19, \"val\": 0}, {\"x\": 8, \"y\": 19, \"val\": 0}, {\"x\": 9, \"y\": 19, \"val\": 0}, {\"x\": 10, \"y\": 19, \"val\": 0}, {\"x\": 11, \"y\": 19, \"val\": 150}, {\"x\": 12, \"y\": 19, \"val\": 251}, {\"x\": 13, \"y\": 19, \"val\": 251}, {\"x\": 14, \"y\": 19, \"val\": 204}, {\"x\": 15, \"y\": 19, \"val\": 41}, {\"x\": 16, \"y\": 19, \"val\": 0}, {\"x\": 17, \"y\": 19, \"val\": 0}, {\"x\": 18, \"y\": 19, \"val\": 0}, {\"x\": 19, \"y\": 19, \"val\": 0}, {\"x\": 20, \"y\": 19, \"val\": 0}, {\"x\": 21, \"y\": 19, \"val\": 0}, {\"x\": 22, \"y\": 19, \"val\": 0}, {\"x\": 23, \"y\": 19, \"val\": 0}, {\"x\": 24, \"y\": 19, \"val\": 0}, {\"x\": 25, \"y\": 19, \"val\": 0}, {\"x\": 26, \"y\": 19, \"val\": 0}, {\"x\": 27, \"y\": 19, \"val\": 0}, {\"x\": 28, \"y\": 19, \"val\": 0}, {\"x\": 1, \"y\": 20, \"val\": 0}, {\"x\": 2, \"y\": 20, \"val\": 0}, {\"x\": 3, \"y\": 20, \"val\": 0}, {\"x\": 4, \"y\": 20, \"val\": 0}, {\"x\": 5, \"y\": 20, \"val\": 0}, {\"x\": 6, \"y\": 20, \"val\": 0}, {\"x\": 7, \"y\": 20, \"val\": 0}, {\"x\": 8, \"y\": 20, \"val\": 0}, {\"x\": 9, \"y\": 20, \"val\": 0}, {\"x\": 10, \"y\": 20, \"val\": 0}, {\"x\": 11, \"y\": 20, \"val\": 253}, {\"x\": 12, \"y\": 20, \"val\": 251}, {\"x\": 13, \"y\": 20, \"val\": 251}, {\"x\": 14, \"y\": 20, \"val\": 142}, {\"x\": 15, \"y\": 20, \"val\": 0}, {\"x\": 16, \"y\": 20, \"val\": 0}, {\"x\": 17, \"y\": 20, \"val\": 0}, {\"x\": 18, \"y\": 20, \"val\": 0}, {\"x\": 19, \"y\": 20, \"val\": 0}, {\"x\": 20, \"y\": 20, \"val\": 0}, {\"x\": 21, \"y\": 20, \"val\": 0}, {\"x\": 22, \"y\": 20, \"val\": 0}, {\"x\": 23, \"y\": 20, \"val\": 0}, {\"x\": 24, \"y\": 20, \"val\": 0}, {\"x\": 25, \"y\": 20, \"val\": 0}, {\"x\": 26, \"y\": 20, \"val\": 0}, {\"x\": 27, \"y\": 20, \"val\": 0}, {\"x\": 28, \"y\": 20, \"val\": 0}, {\"x\": 1, \"y\": 21, \"val\": 0}, {\"x\": 2, \"y\": 21, \"val\": 0}, {\"x\": 3, \"y\": 21, \"val\": 0}, {\"x\": 4, \"y\": 21, \"val\": 0}, {\"x\": 5, \"y\": 21, \"val\": 0}, {\"x\": 6, \"y\": 21, \"val\": 0}, {\"x\": 7, \"y\": 21, \"val\": 0}, {\"x\": 8, \"y\": 21, \"val\": 0}, {\"x\": 9, \"y\": 21, \"val\": 0}, {\"x\": 10, \"y\": 21, \"val\": 0}, {\"x\": 11, \"y\": 21, \"val\": 255}, {\"x\": 12, \"y\": 21, \"val\": 253}, {\"x\": 13, \"y\": 21, \"val\": 164}, {\"x\": 14, \"y\": 21, \"val\": 0}, {\"x\": 15, \"y\": 21, \"val\": 0}, {\"x\": 16, \"y\": 21, \"val\": 0}, {\"x\": 17, \"y\": 21, \"val\": 0}, {\"x\": 18, \"y\": 21, \"val\": 0}, {\"x\": 19, \"y\": 21, \"val\": 0}, {\"x\": 20, \"y\": 21, \"val\": 0}, {\"x\": 21, \"y\": 21, \"val\": 0}, {\"x\": 22, \"y\": 21, \"val\": 0}, {\"x\": 23, \"y\": 21, \"val\": 0}, {\"x\": 24, \"y\": 21, \"val\": 0}, {\"x\": 25, \"y\": 21, \"val\": 0}, {\"x\": 26, \"y\": 21, \"val\": 0}, {\"x\": 27, \"y\": 21, \"val\": 0}, {\"x\": 28, \"y\": 21, \"val\": 0}, {\"x\": 1, \"y\": 22, \"val\": 0}, {\"x\": 2, \"y\": 22, \"val\": 0}, {\"x\": 3, \"y\": 22, \"val\": 0}, {\"x\": 4, \"y\": 22, \"val\": 0}, {\"x\": 5, \"y\": 22, \"val\": 0}, {\"x\": 6, \"y\": 22, \"val\": 0}, {\"x\": 7, \"y\": 22, \"val\": 0}, {\"x\": 8, \"y\": 22, \"val\": 0}, {\"x\": 9, \"y\": 22, \"val\": 0}, {\"x\": 10, \"y\": 22, \"val\": 105}, {\"x\": 11, \"y\": 22, \"val\": 253}, {\"x\": 12, \"y\": 22, \"val\": 251}, {\"x\": 13, \"y\": 22, \"val\": 35}, {\"x\": 14, \"y\": 22, \"val\": 0}, {\"x\": 15, \"y\": 22, \"val\": 0}, {\"x\": 16, \"y\": 22, \"val\": 0}, {\"x\": 17, \"y\": 22, \"val\": 0}, {\"x\": 18, \"y\": 22, \"val\": 0}, {\"x\": 19, \"y\": 22, \"val\": 0}, {\"x\": 20, \"y\": 22, \"val\": 0}, {\"x\": 21, \"y\": 22, \"val\": 0}, {\"x\": 22, \"y\": 22, \"val\": 0}, {\"x\": 23, \"y\": 22, \"val\": 0}, {\"x\": 24, \"y\": 22, \"val\": 0}, {\"x\": 25, \"y\": 22, \"val\": 0}, {\"x\": 26, \"y\": 22, \"val\": 0}, {\"x\": 27, \"y\": 22, \"val\": 0}, {\"x\": 28, \"y\": 22, \"val\": 0}, {\"x\": 1, \"y\": 23, \"val\": 0}, {\"x\": 2, \"y\": 23, \"val\": 0}, {\"x\": 3, \"y\": 23, \"val\": 0}, {\"x\": 4, \"y\": 23, \"val\": 0}, {\"x\": 5, \"y\": 23, \"val\": 0}, {\"x\": 6, \"y\": 23, \"val\": 0}, {\"x\": 7, \"y\": 23, \"val\": 0}, {\"x\": 8, \"y\": 23, \"val\": 0}, {\"x\": 9, \"y\": 23, \"val\": 0}, {\"x\": 10, \"y\": 23, \"val\": 180}, {\"x\": 11, \"y\": 23, \"val\": 253}, {\"x\": 12, \"y\": 23, \"val\": 251}, {\"x\": 13, \"y\": 23, \"val\": 35}, {\"x\": 14, \"y\": 23, \"val\": 0}, {\"x\": 15, \"y\": 23, \"val\": 0}, {\"x\": 16, \"y\": 23, \"val\": 0}, {\"x\": 17, \"y\": 23, \"val\": 0}, {\"x\": 18, \"y\": 23, \"val\": 0}, {\"x\": 19, \"y\": 23, \"val\": 0}, {\"x\": 20, \"y\": 23, \"val\": 0}, {\"x\": 21, \"y\": 23, \"val\": 0}, {\"x\": 22, \"y\": 23, \"val\": 0}, {\"x\": 23, \"y\": 23, \"val\": 0}, {\"x\": 24, \"y\": 23, \"val\": 0}, {\"x\": 25, \"y\": 23, \"val\": 0}, {\"x\": 26, \"y\": 23, \"val\": 0}, {\"x\": 27, \"y\": 23, \"val\": 0}, {\"x\": 28, \"y\": 23, \"val\": 0}, {\"x\": 1, \"y\": 24, \"val\": 0}, {\"x\": 2, \"y\": 24, \"val\": 0}, {\"x\": 3, \"y\": 24, \"val\": 0}, {\"x\": 4, \"y\": 24, \"val\": 0}, {\"x\": 5, \"y\": 24, \"val\": 0}, {\"x\": 6, \"y\": 24, \"val\": 0}, {\"x\": 7, \"y\": 24, \"val\": 0}, {\"x\": 8, \"y\": 24, \"val\": 0}, {\"x\": 9, \"y\": 24, \"val\": 0}, {\"x\": 10, \"y\": 24, \"val\": 180}, {\"x\": 11, \"y\": 24, \"val\": 253}, {\"x\": 12, \"y\": 24, \"val\": 251}, {\"x\": 13, \"y\": 24, \"val\": 35}, {\"x\": 14, \"y\": 24, \"val\": 0}, {\"x\": 15, \"y\": 24, \"val\": 0}, {\"x\": 16, \"y\": 24, \"val\": 0}, {\"x\": 17, \"y\": 24, \"val\": 0}, {\"x\": 18, \"y\": 24, \"val\": 0}, {\"x\": 19, \"y\": 24, \"val\": 0}, {\"x\": 20, \"y\": 24, \"val\": 0}, {\"x\": 21, \"y\": 24, \"val\": 0}, {\"x\": 22, \"y\": 24, \"val\": 0}, {\"x\": 23, \"y\": 24, \"val\": 0}, {\"x\": 24, \"y\": 24, \"val\": 0}, {\"x\": 25, \"y\": 24, \"val\": 0}, {\"x\": 26, \"y\": 24, \"val\": 0}, {\"x\": 27, \"y\": 24, \"val\": 0}, {\"x\": 28, \"y\": 24, \"val\": 0}, {\"x\": 1, \"y\": 25, \"val\": 0}, {\"x\": 2, \"y\": 25, \"val\": 0}, {\"x\": 3, \"y\": 25, \"val\": 0}, {\"x\": 4, \"y\": 25, \"val\": 0}, {\"x\": 5, \"y\": 25, \"val\": 0}, {\"x\": 6, \"y\": 25, \"val\": 0}, {\"x\": 7, \"y\": 25, \"val\": 0}, {\"x\": 8, \"y\": 25, \"val\": 0}, {\"x\": 9, \"y\": 25, \"val\": 0}, {\"x\": 10, \"y\": 25, \"val\": 180}, {\"x\": 11, \"y\": 25, \"val\": 253}, {\"x\": 12, \"y\": 25, \"val\": 251}, {\"x\": 13, \"y\": 25, \"val\": 35}, {\"x\": 14, \"y\": 25, \"val\": 0}, {\"x\": 15, \"y\": 25, \"val\": 0}, {\"x\": 16, \"y\": 25, \"val\": 0}, {\"x\": 17, \"y\": 25, \"val\": 0}, {\"x\": 18, \"y\": 25, \"val\": 0}, {\"x\": 19, \"y\": 25, \"val\": 0}, {\"x\": 20, \"y\": 25, \"val\": 0}, {\"x\": 21, \"y\": 25, \"val\": 0}, {\"x\": 22, \"y\": 25, \"val\": 0}, {\"x\": 23, \"y\": 25, \"val\": 0}, {\"x\": 24, \"y\": 25, \"val\": 0}, {\"x\": 25, \"y\": 25, \"val\": 0}, {\"x\": 26, \"y\": 25, \"val\": 0}, {\"x\": 27, \"y\": 25, \"val\": 0}, {\"x\": 28, \"y\": 25, \"val\": 0}, {\"x\": 1, \"y\": 26, \"val\": 0}, {\"x\": 2, \"y\": 26, \"val\": 0}, {\"x\": 3, \"y\": 26, \"val\": 0}, {\"x\": 4, \"y\": 26, \"val\": 0}, {\"x\": 5, \"y\": 26, \"val\": 0}, {\"x\": 6, \"y\": 26, \"val\": 0}, {\"x\": 7, \"y\": 26, \"val\": 0}, {\"x\": 8, \"y\": 26, \"val\": 0}, {\"x\": 9, \"y\": 26, \"val\": 0}, {\"x\": 10, \"y\": 26, \"val\": 0}, {\"x\": 11, \"y\": 26, \"val\": 0}, {\"x\": 12, \"y\": 26, \"val\": 0}, {\"x\": 13, \"y\": 26, \"val\": 0}, {\"x\": 14, \"y\": 26, \"val\": 0}, {\"x\": 15, \"y\": 26, \"val\": 0}, {\"x\": 16, \"y\": 26, \"val\": 0}, {\"x\": 17, \"y\": 26, \"val\": 0}, {\"x\": 18, \"y\": 26, \"val\": 0}, {\"x\": 19, \"y\": 26, \"val\": 0}, {\"x\": 20, \"y\": 26, \"val\": 0}, {\"x\": 21, \"y\": 26, \"val\": 0}, {\"x\": 22, \"y\": 26, \"val\": 0}, {\"x\": 23, \"y\": 26, \"val\": 0}, {\"x\": 24, \"y\": 26, \"val\": 0}, {\"x\": 25, \"y\": 26, \"val\": 0}, {\"x\": 26, \"y\": 26, \"val\": 0}, {\"x\": 27, \"y\": 26, \"val\": 0}, {\"x\": 28, \"y\": 26, \"val\": 0}, {\"x\": 1, \"y\": 27, \"val\": 0}, {\"x\": 2, \"y\": 27, \"val\": 0}, {\"x\": 3, \"y\": 27, \"val\": 0}, {\"x\": 4, \"y\": 27, \"val\": 0}, {\"x\": 5, \"y\": 27, \"val\": 0}, {\"x\": 6, \"y\": 27, \"val\": 0}, {\"x\": 7, \"y\": 27, \"val\": 0}, {\"x\": 8, \"y\": 27, \"val\": 0}, {\"x\": 9, \"y\": 27, \"val\": 0}, {\"x\": 10, \"y\": 27, \"val\": 0}, {\"x\": 11, \"y\": 27, \"val\": 0}, {\"x\": 12, \"y\": 27, \"val\": 0}, {\"x\": 13, \"y\": 27, \"val\": 0}, {\"x\": 14, \"y\": 27, \"val\": 0}, {\"x\": 15, \"y\": 27, \"val\": 0}, {\"x\": 16, \"y\": 27, \"val\": 0}, {\"x\": 17, \"y\": 27, \"val\": 0}, {\"x\": 18, \"y\": 27, \"val\": 0}, {\"x\": 19, \"y\": 27, \"val\": 0}, {\"x\": 20, \"y\": 27, \"val\": 0}, {\"x\": 21, \"y\": 27, \"val\": 0}, {\"x\": 22, \"y\": 27, \"val\": 0}, {\"x\": 23, \"y\": 27, \"val\": 0}, {\"x\": 24, \"y\": 27, \"val\": 0}, {\"x\": 25, \"y\": 27, \"val\": 0}, {\"x\": 26, \"y\": 27, \"val\": 0}, {\"x\": 27, \"y\": 27, \"val\": 0}, {\"x\": 28, \"y\": 27, \"val\": 0}, {\"x\": 1, \"y\": 28, \"val\": 0}, {\"x\": 2, \"y\": 28, \"val\": 0}, {\"x\": 3, \"y\": 28, \"val\": 0}, {\"x\": 4, \"y\": 28, \"val\": 0}, {\"x\": 5, \"y\": 28, \"val\": 0}, {\"x\": 6, \"y\": 28, \"val\": 0}, {\"x\": 7, \"y\": 28, \"val\": 0}, {\"x\": 8, \"y\": 28, \"val\": 0}, {\"x\": 9, \"y\": 28, \"val\": 0}, {\"x\": 10, \"y\": 28, \"val\": 0}, {\"x\": 11, \"y\": 28, \"val\": 0}, {\"x\": 12, \"y\": 28, \"val\": 0}, {\"x\": 13, \"y\": 28, \"val\": 0}, {\"x\": 14, \"y\": 28, \"val\": 0}, {\"x\": 15, \"y\": 28, \"val\": 0}, {\"x\": 16, \"y\": 28, \"val\": 0}, {\"x\": 17, \"y\": 28, \"val\": 0}, {\"x\": 18, \"y\": 28, \"val\": 0}, {\"x\": 19, \"y\": 28, \"val\": 0}, {\"x\": 20, \"y\": 28, \"val\": 0}, {\"x\": 21, \"y\": 28, \"val\": 0}, {\"x\": 22, \"y\": 28, \"val\": 0}, {\"x\": 23, \"y\": 28, \"val\": 0}, {\"x\": 24, \"y\": 28, \"val\": 0}, {\"x\": 25, \"y\": 28, \"val\": 0}, {\"x\": 26, \"y\": 28, \"val\": 0}, {\"x\": 27, \"y\": 28, \"val\": 0}, {\"x\": 28, \"y\": 28, \"val\": 0}], \"data-a125d3a798c8da9b0ff945ed2c30a6d3\": [{\"x\": 1, \"y\": 1, \"val\": 0}, {\"x\": 2, \"y\": 1, \"val\": 0}, {\"x\": 3, \"y\": 1, \"val\": 0}, {\"x\": 4, \"y\": 1, \"val\": 0}, {\"x\": 5, \"y\": 1, \"val\": 0}, {\"x\": 6, \"y\": 1, \"val\": 0}, {\"x\": 7, \"y\": 1, \"val\": 0}, {\"x\": 8, \"y\": 1, \"val\": 0}, {\"x\": 9, \"y\": 1, \"val\": 0}, {\"x\": 10, \"y\": 1, \"val\": 0}, {\"x\": 11, \"y\": 1, \"val\": 0}, {\"x\": 12, \"y\": 1, \"val\": 0}, {\"x\": 13, \"y\": 1, \"val\": 0}, {\"x\": 14, \"y\": 1, \"val\": 0}, {\"x\": 15, \"y\": 1, \"val\": 0}, {\"x\": 16, \"y\": 1, \"val\": 0}, {\"x\": 17, \"y\": 1, \"val\": 0}, {\"x\": 18, \"y\": 1, \"val\": 0}, {\"x\": 19, \"y\": 1, \"val\": 0}, {\"x\": 20, \"y\": 1, \"val\": 0}, {\"x\": 21, \"y\": 1, \"val\": 0}, {\"x\": 22, \"y\": 1, \"val\": 0}, {\"x\": 23, \"y\": 1, \"val\": 0}, {\"x\": 24, \"y\": 1, \"val\": 0}, {\"x\": 25, \"y\": 1, \"val\": 0}, {\"x\": 26, \"y\": 1, \"val\": 0}, {\"x\": 27, \"y\": 1, \"val\": 0}, {\"x\": 28, \"y\": 1, \"val\": 0}, {\"x\": 1, \"y\": 2, \"val\": 0}, {\"x\": 2, \"y\": 2, \"val\": 0}, {\"x\": 3, \"y\": 2, \"val\": 0}, {\"x\": 4, \"y\": 2, \"val\": 0}, {\"x\": 5, \"y\": 2, \"val\": 0}, {\"x\": 6, \"y\": 2, \"val\": 0}, {\"x\": 7, \"y\": 2, \"val\": 0}, {\"x\": 8, \"y\": 2, \"val\": 0}, {\"x\": 9, \"y\": 2, \"val\": 0}, {\"x\": 10, \"y\": 2, \"val\": 0}, {\"x\": 11, \"y\": 2, \"val\": 0}, {\"x\": 12, \"y\": 2, \"val\": 0}, {\"x\": 13, \"y\": 2, \"val\": 0}, {\"x\": 14, \"y\": 2, \"val\": 0}, {\"x\": 15, \"y\": 2, \"val\": 0}, {\"x\": 16, \"y\": 2, \"val\": 0}, {\"x\": 17, \"y\": 2, \"val\": 0}, {\"x\": 18, \"y\": 2, \"val\": 0}, {\"x\": 19, \"y\": 2, \"val\": 0}, {\"x\": 20, \"y\": 2, \"val\": 0}, {\"x\": 21, \"y\": 2, \"val\": 0}, {\"x\": 22, \"y\": 2, \"val\": 0}, {\"x\": 23, \"y\": 2, \"val\": 0}, {\"x\": 24, \"y\": 2, \"val\": 0}, {\"x\": 25, \"y\": 2, \"val\": 0}, {\"x\": 26, \"y\": 2, \"val\": 0}, {\"x\": 27, \"y\": 2, \"val\": 0}, {\"x\": 28, \"y\": 2, \"val\": 0}, {\"x\": 1, \"y\": 3, \"val\": 0}, {\"x\": 2, \"y\": 3, \"val\": 0}, {\"x\": 3, \"y\": 3, \"val\": 0}, {\"x\": 4, \"y\": 3, \"val\": 0}, {\"x\": 5, \"y\": 3, \"val\": 0}, {\"x\": 6, \"y\": 3, \"val\": 0}, {\"x\": 7, \"y\": 3, \"val\": 0}, {\"x\": 8, \"y\": 3, \"val\": 0}, {\"x\": 9, \"y\": 3, \"val\": 0}, {\"x\": 10, \"y\": 3, \"val\": 0}, {\"x\": 11, \"y\": 3, \"val\": 0}, {\"x\": 12, \"y\": 3, \"val\": 0}, {\"x\": 13, \"y\": 3, \"val\": 0}, {\"x\": 14, \"y\": 3, \"val\": 0}, {\"x\": 15, \"y\": 3, \"val\": 0}, {\"x\": 16, \"y\": 3, \"val\": 0}, {\"x\": 17, \"y\": 3, \"val\": 0}, {\"x\": 18, \"y\": 3, \"val\": 0}, {\"x\": 19, \"y\": 3, \"val\": 0}, {\"x\": 20, \"y\": 3, \"val\": 0}, {\"x\": 21, \"y\": 3, \"val\": 0}, {\"x\": 22, \"y\": 3, \"val\": 0}, {\"x\": 23, \"y\": 3, \"val\": 0}, {\"x\": 24, \"y\": 3, \"val\": 0}, {\"x\": 25, \"y\": 3, \"val\": 0}, {\"x\": 26, \"y\": 3, \"val\": 0}, {\"x\": 27, \"y\": 3, \"val\": 0}, {\"x\": 28, \"y\": 3, \"val\": 0}, {\"x\": 1, \"y\": 4, \"val\": 0}, {\"x\": 2, \"y\": 4, \"val\": 0}, {\"x\": 3, \"y\": 4, \"val\": 0}, {\"x\": 4, \"y\": 4, \"val\": 0}, {\"x\": 5, \"y\": 4, \"val\": 0}, {\"x\": 6, \"y\": 4, \"val\": 0}, {\"x\": 7, \"y\": 4, \"val\": 0}, {\"x\": 8, \"y\": 4, \"val\": 0}, {\"x\": 9, \"y\": 4, \"val\": 0}, {\"x\": 10, \"y\": 4, \"val\": 0}, {\"x\": 11, \"y\": 4, \"val\": 0}, {\"x\": 12, \"y\": 4, \"val\": 0}, {\"x\": 13, \"y\": 4, \"val\": 0}, {\"x\": 14, \"y\": 4, \"val\": 0}, {\"x\": 15, \"y\": 4, \"val\": 0}, {\"x\": 16, \"y\": 4, \"val\": 0}, {\"x\": 17, \"y\": 4, \"val\": 0}, {\"x\": 18, \"y\": 4, \"val\": 0}, {\"x\": 19, \"y\": 4, \"val\": 0}, {\"x\": 20, \"y\": 4, \"val\": 0}, {\"x\": 21, \"y\": 4, \"val\": 0}, {\"x\": 22, \"y\": 4, \"val\": 0}, {\"x\": 23, \"y\": 4, \"val\": 0}, {\"x\": 24, \"y\": 4, \"val\": 0}, {\"x\": 25, \"y\": 4, \"val\": 0}, {\"x\": 26, \"y\": 4, \"val\": 0}, {\"x\": 27, \"y\": 4, \"val\": 0}, {\"x\": 28, \"y\": 4, \"val\": 0}, {\"x\": 1, \"y\": 5, \"val\": 0}, {\"x\": 2, \"y\": 5, \"val\": 0}, {\"x\": 3, \"y\": 5, \"val\": 0}, {\"x\": 4, \"y\": 5, \"val\": 0}, {\"x\": 5, \"y\": 5, \"val\": 0}, {\"x\": 6, \"y\": 5, \"val\": 0}, {\"x\": 7, \"y\": 5, \"val\": 0}, {\"x\": 8, \"y\": 5, \"val\": 0}, {\"x\": 9, \"y\": 5, \"val\": 0}, {\"x\": 10, \"y\": 5, \"val\": 0}, {\"x\": 11, \"y\": 5, \"val\": 59}, {\"x\": 12, \"y\": 5, \"val\": 55}, {\"x\": 13, \"y\": 5, \"val\": 0}, {\"x\": 14, \"y\": 5, \"val\": 0}, {\"x\": 15, \"y\": 5, \"val\": 0}, {\"x\": 16, \"y\": 5, \"val\": 0}, {\"x\": 17, \"y\": 5, \"val\": 0}, {\"x\": 18, \"y\": 5, \"val\": 0}, {\"x\": 19, \"y\": 5, \"val\": 0}, {\"x\": 20, \"y\": 5, \"val\": 0}, {\"x\": 21, \"y\": 5, \"val\": 0}, {\"x\": 22, \"y\": 5, \"val\": 0}, {\"x\": 23, \"y\": 5, \"val\": 0}, {\"x\": 24, \"y\": 5, \"val\": 0}, {\"x\": 25, \"y\": 5, \"val\": 0}, {\"x\": 26, \"y\": 5, \"val\": 0}, {\"x\": 27, \"y\": 5, \"val\": 0}, {\"x\": 28, \"y\": 5, \"val\": 0}, {\"x\": 1, \"y\": 6, \"val\": 0}, {\"x\": 2, \"y\": 6, \"val\": 0}, {\"x\": 3, \"y\": 6, \"val\": 0}, {\"x\": 4, \"y\": 6, \"val\": 0}, {\"x\": 5, \"y\": 6, \"val\": 0}, {\"x\": 6, \"y\": 6, \"val\": 0}, {\"x\": 7, \"y\": 6, \"val\": 0}, {\"x\": 8, \"y\": 6, \"val\": 0}, {\"x\": 9, \"y\": 6, \"val\": 71}, {\"x\": 10, \"y\": 6, \"val\": 192}, {\"x\": 11, \"y\": 6, \"val\": 254}, {\"x\": 12, \"y\": 6, \"val\": 250}, {\"x\": 13, \"y\": 6, \"val\": 147}, {\"x\": 14, \"y\": 6, \"val\": 17}, {\"x\": 15, \"y\": 6, \"val\": 0}, {\"x\": 16, \"y\": 6, \"val\": 0}, {\"x\": 17, \"y\": 6, \"val\": 0}, {\"x\": 18, \"y\": 6, \"val\": 0}, {\"x\": 19, \"y\": 6, \"val\": 0}, {\"x\": 20, \"y\": 6, \"val\": 0}, {\"x\": 21, \"y\": 6, \"val\": 0}, {\"x\": 22, \"y\": 6, \"val\": 0}, {\"x\": 23, \"y\": 6, \"val\": 0}, {\"x\": 24, \"y\": 6, \"val\": 0}, {\"x\": 25, \"y\": 6, \"val\": 0}, {\"x\": 26, \"y\": 6, \"val\": 0}, {\"x\": 27, \"y\": 6, \"val\": 0}, {\"x\": 28, \"y\": 6, \"val\": 0}, {\"x\": 1, \"y\": 7, \"val\": 0}, {\"x\": 2, \"y\": 7, \"val\": 0}, {\"x\": 3, \"y\": 7, \"val\": 0}, {\"x\": 4, \"y\": 7, \"val\": 0}, {\"x\": 5, \"y\": 7, \"val\": 0}, {\"x\": 6, \"y\": 7, \"val\": 0}, {\"x\": 7, \"y\": 7, \"val\": 0}, {\"x\": 8, \"y\": 7, \"val\": 123}, {\"x\": 9, \"y\": 7, \"val\": 247}, {\"x\": 10, \"y\": 7, \"val\": 253}, {\"x\": 11, \"y\": 7, \"val\": 254}, {\"x\": 12, \"y\": 7, \"val\": 253}, {\"x\": 13, \"y\": 7, \"val\": 253}, {\"x\": 14, \"y\": 7, \"val\": 196}, {\"x\": 15, \"y\": 7, \"val\": 79}, {\"x\": 16, \"y\": 7, \"val\": 176}, {\"x\": 17, \"y\": 7, \"val\": 175}, {\"x\": 18, \"y\": 7, \"val\": 175}, {\"x\": 19, \"y\": 7, \"val\": 124}, {\"x\": 20, \"y\": 7, \"val\": 48}, {\"x\": 21, \"y\": 7, \"val\": 0}, {\"x\": 22, \"y\": 7, \"val\": 0}, {\"x\": 23, \"y\": 7, \"val\": 0}, {\"x\": 24, \"y\": 7, \"val\": 0}, {\"x\": 25, \"y\": 7, \"val\": 0}, {\"x\": 26, \"y\": 7, \"val\": 0}, {\"x\": 27, \"y\": 7, \"val\": 0}, {\"x\": 28, \"y\": 7, \"val\": 0}, {\"x\": 1, \"y\": 8, \"val\": 0}, {\"x\": 2, \"y\": 8, \"val\": 0}, {\"x\": 3, \"y\": 8, \"val\": 0}, {\"x\": 4, \"y\": 8, \"val\": 0}, {\"x\": 5, \"y\": 8, \"val\": 0}, {\"x\": 6, \"y\": 8, \"val\": 0}, {\"x\": 7, \"y\": 8, \"val\": 87}, {\"x\": 8, \"y\": 8, \"val\": 247}, {\"x\": 9, \"y\": 8, \"val\": 247}, {\"x\": 10, \"y\": 8, \"val\": 176}, {\"x\": 11, \"y\": 8, \"val\": 95}, {\"x\": 12, \"y\": 8, \"val\": 102}, {\"x\": 13, \"y\": 8, \"val\": 117}, {\"x\": 14, \"y\": 8, \"val\": 243}, {\"x\": 15, \"y\": 8, \"val\": 237}, {\"x\": 16, \"y\": 8, \"val\": 192}, {\"x\": 17, \"y\": 8, \"val\": 232}, {\"x\": 18, \"y\": 8, \"val\": 253}, {\"x\": 19, \"y\": 8, \"val\": 253}, {\"x\": 20, \"y\": 8, \"val\": 245}, {\"x\": 21, \"y\": 8, \"val\": 152}, {\"x\": 22, \"y\": 8, \"val\": 6}, {\"x\": 23, \"y\": 8, \"val\": 0}, {\"x\": 24, \"y\": 8, \"val\": 0}, {\"x\": 25, \"y\": 8, \"val\": 0}, {\"x\": 26, \"y\": 8, \"val\": 0}, {\"x\": 27, \"y\": 8, \"val\": 0}, {\"x\": 28, \"y\": 8, \"val\": 0}, {\"x\": 1, \"y\": 9, \"val\": 0}, {\"x\": 2, \"y\": 9, \"val\": 0}, {\"x\": 3, \"y\": 9, \"val\": 0}, {\"x\": 4, \"y\": 9, \"val\": 0}, {\"x\": 5, \"y\": 9, \"val\": 0}, {\"x\": 6, \"y\": 9, \"val\": 23}, {\"x\": 7, \"y\": 9, \"val\": 229}, {\"x\": 8, \"y\": 9, \"val\": 253}, {\"x\": 9, \"y\": 9, \"val\": 138}, {\"x\": 10, \"y\": 9, \"val\": 0}, {\"x\": 11, \"y\": 9, \"val\": 0}, {\"x\": 12, \"y\": 9, \"val\": 0}, {\"x\": 13, \"y\": 9, \"val\": 0}, {\"x\": 14, \"y\": 9, \"val\": 219}, {\"x\": 15, \"y\": 9, \"val\": 58}, {\"x\": 16, \"y\": 9, \"val\": 0}, {\"x\": 17, \"y\": 9, \"val\": 95}, {\"x\": 18, \"y\": 9, \"val\": 118}, {\"x\": 19, \"y\": 9, \"val\": 80}, {\"x\": 20, \"y\": 9, \"val\": 230}, {\"x\": 21, \"y\": 9, \"val\": 254}, {\"x\": 22, \"y\": 9, \"val\": 196}, {\"x\": 23, \"y\": 9, \"val\": 30}, {\"x\": 24, \"y\": 9, \"val\": 0}, {\"x\": 25, \"y\": 9, \"val\": 0}, {\"x\": 26, \"y\": 9, \"val\": 0}, {\"x\": 27, \"y\": 9, \"val\": 0}, {\"x\": 28, \"y\": 9, \"val\": 0}, {\"x\": 1, \"y\": 10, \"val\": 0}, {\"x\": 2, \"y\": 10, \"val\": 0}, {\"x\": 3, \"y\": 10, \"val\": 0}, {\"x\": 4, \"y\": 10, \"val\": 0}, {\"x\": 5, \"y\": 10, \"val\": 0}, {\"x\": 6, \"y\": 10, \"val\": 120}, {\"x\": 7, \"y\": 10, \"val\": 254}, {\"x\": 8, \"y\": 10, \"val\": 205}, {\"x\": 9, \"y\": 10, \"val\": 8}, {\"x\": 10, \"y\": 10, \"val\": 0}, {\"x\": 11, \"y\": 10, \"val\": 0}, {\"x\": 12, \"y\": 10, \"val\": 0}, {\"x\": 13, \"y\": 10, \"val\": 0}, {\"x\": 14, \"y\": 10, \"val\": 114}, {\"x\": 15, \"y\": 10, \"val\": 0}, {\"x\": 16, \"y\": 10, \"val\": 0}, {\"x\": 17, \"y\": 10, \"val\": 0}, {\"x\": 18, \"y\": 10, \"val\": 0}, {\"x\": 19, \"y\": 10, \"val\": 0}, {\"x\": 20, \"y\": 10, \"val\": 38}, {\"x\": 21, \"y\": 10, \"val\": 255}, {\"x\": 22, \"y\": 10, \"val\": 254}, {\"x\": 23, \"y\": 10, \"val\": 155}, {\"x\": 24, \"y\": 10, \"val\": 5}, {\"x\": 25, \"y\": 10, \"val\": 0}, {\"x\": 26, \"y\": 10, \"val\": 0}, {\"x\": 27, \"y\": 10, \"val\": 0}, {\"x\": 28, \"y\": 10, \"val\": 0}, {\"x\": 1, \"y\": 11, \"val\": 0}, {\"x\": 2, \"y\": 11, \"val\": 0}, {\"x\": 3, \"y\": 11, \"val\": 0}, {\"x\": 4, \"y\": 11, \"val\": 0}, {\"x\": 5, \"y\": 11, \"val\": 0}, {\"x\": 6, \"y\": 11, \"val\": 156}, {\"x\": 7, \"y\": 11, \"val\": 253}, {\"x\": 8, \"y\": 11, \"val\": 92}, {\"x\": 9, \"y\": 11, \"val\": 0}, {\"x\": 10, \"y\": 11, \"val\": 0}, {\"x\": 11, \"y\": 11, \"val\": 0}, {\"x\": 12, \"y\": 11, \"val\": 0}, {\"x\": 13, \"y\": 11, \"val\": 0}, {\"x\": 14, \"y\": 11, \"val\": 0}, {\"x\": 15, \"y\": 11, \"val\": 0}, {\"x\": 16, \"y\": 11, \"val\": 0}, {\"x\": 17, \"y\": 11, \"val\": 0}, {\"x\": 18, \"y\": 11, \"val\": 0}, {\"x\": 19, \"y\": 11, \"val\": 0}, {\"x\": 20, \"y\": 11, \"val\": 0}, {\"x\": 21, \"y\": 11, \"val\": 61}, {\"x\": 22, \"y\": 11, \"val\": 235}, {\"x\": 23, \"y\": 11, \"val\": 253}, {\"x\": 24, \"y\": 11, \"val\": 102}, {\"x\": 25, \"y\": 11, \"val\": 0}, {\"x\": 26, \"y\": 11, \"val\": 0}, {\"x\": 27, \"y\": 11, \"val\": 0}, {\"x\": 28, \"y\": 11, \"val\": 0}, {\"x\": 1, \"y\": 12, \"val\": 0}, {\"x\": 2, \"y\": 12, \"val\": 0}, {\"x\": 3, \"y\": 12, \"val\": 0}, {\"x\": 4, \"y\": 12, \"val\": 0}, {\"x\": 5, \"y\": 12, \"val\": 0}, {\"x\": 6, \"y\": 12, \"val\": 224}, {\"x\": 7, \"y\": 12, \"val\": 253}, {\"x\": 8, \"y\": 12, \"val\": 78}, {\"x\": 9, \"y\": 12, \"val\": 0}, {\"x\": 10, \"y\": 12, \"val\": 0}, {\"x\": 11, \"y\": 12, \"val\": 0}, {\"x\": 12, \"y\": 12, \"val\": 0}, {\"x\": 13, \"y\": 12, \"val\": 0}, {\"x\": 14, \"y\": 12, \"val\": 0}, {\"x\": 15, \"y\": 12, \"val\": 0}, {\"x\": 16, \"y\": 12, \"val\": 0}, {\"x\": 17, \"y\": 12, \"val\": 0}, {\"x\": 18, \"y\": 12, \"val\": 0}, {\"x\": 19, \"y\": 12, \"val\": 0}, {\"x\": 20, \"y\": 12, \"val\": 0}, {\"x\": 21, \"y\": 12, \"val\": 0}, {\"x\": 22, \"y\": 12, \"val\": 117}, {\"x\": 23, \"y\": 12, \"val\": 253}, {\"x\": 24, \"y\": 12, \"val\": 196}, {\"x\": 25, \"y\": 12, \"val\": 18}, {\"x\": 26, \"y\": 12, \"val\": 0}, {\"x\": 27, \"y\": 12, \"val\": 0}, {\"x\": 28, \"y\": 12, \"val\": 0}, {\"x\": 1, \"y\": 13, \"val\": 0}, {\"x\": 2, \"y\": 13, \"val\": 0}, {\"x\": 3, \"y\": 13, \"val\": 0}, {\"x\": 4, \"y\": 13, \"val\": 0}, {\"x\": 5, \"y\": 13, \"val\": 0}, {\"x\": 6, \"y\": 13, \"val\": 254}, {\"x\": 7, \"y\": 13, \"val\": 253}, {\"x\": 8, \"y\": 13, \"val\": 78}, {\"x\": 9, \"y\": 13, \"val\": 0}, {\"x\": 10, \"y\": 13, \"val\": 0}, {\"x\": 11, \"y\": 13, \"val\": 0}, {\"x\": 12, \"y\": 13, \"val\": 0}, {\"x\": 13, \"y\": 13, \"val\": 0}, {\"x\": 14, \"y\": 13, \"val\": 0}, {\"x\": 15, \"y\": 13, \"val\": 0}, {\"x\": 16, \"y\": 13, \"val\": 0}, {\"x\": 17, \"y\": 13, \"val\": 0}, {\"x\": 18, \"y\": 13, \"val\": 0}, {\"x\": 19, \"y\": 13, \"val\": 0}, {\"x\": 20, \"y\": 13, \"val\": 0}, {\"x\": 21, \"y\": 13, \"val\": 0}, {\"x\": 22, \"y\": 13, \"val\": 9}, {\"x\": 23, \"y\": 13, \"val\": 211}, {\"x\": 24, \"y\": 13, \"val\": 253}, {\"x\": 25, \"y\": 13, \"val\": 73}, {\"x\": 26, \"y\": 13, \"val\": 0}, {\"x\": 27, \"y\": 13, \"val\": 0}, {\"x\": 28, \"y\": 13, \"val\": 0}, {\"x\": 1, \"y\": 14, \"val\": 0}, {\"x\": 2, \"y\": 14, \"val\": 0}, {\"x\": 3, \"y\": 14, \"val\": 0}, {\"x\": 4, \"y\": 14, \"val\": 0}, {\"x\": 5, \"y\": 14, \"val\": 0}, {\"x\": 6, \"y\": 14, \"val\": 254}, {\"x\": 7, \"y\": 14, \"val\": 253}, {\"x\": 8, \"y\": 14, \"val\": 78}, {\"x\": 9, \"y\": 14, \"val\": 0}, {\"x\": 10, \"y\": 14, \"val\": 0}, {\"x\": 11, \"y\": 14, \"val\": 0}, {\"x\": 12, \"y\": 14, \"val\": 0}, {\"x\": 13, \"y\": 14, \"val\": 0}, {\"x\": 14, \"y\": 14, \"val\": 0}, {\"x\": 15, \"y\": 14, \"val\": 0}, {\"x\": 16, \"y\": 14, \"val\": 0}, {\"x\": 17, \"y\": 14, \"val\": 0}, {\"x\": 18, \"y\": 14, \"val\": 0}, {\"x\": 19, \"y\": 14, \"val\": 0}, {\"x\": 20, \"y\": 14, \"val\": 0}, {\"x\": 21, \"y\": 14, \"val\": 0}, {\"x\": 22, \"y\": 14, \"val\": 0}, {\"x\": 23, \"y\": 14, \"val\": 175}, {\"x\": 24, \"y\": 14, \"val\": 253}, {\"x\": 25, \"y\": 14, \"val\": 155}, {\"x\": 26, \"y\": 14, \"val\": 0}, {\"x\": 27, \"y\": 14, \"val\": 0}, {\"x\": 28, \"y\": 14, \"val\": 0}, {\"x\": 1, \"y\": 15, \"val\": 0}, {\"x\": 2, \"y\": 15, \"val\": 0}, {\"x\": 3, \"y\": 15, \"val\": 0}, {\"x\": 4, \"y\": 15, \"val\": 0}, {\"x\": 5, \"y\": 15, \"val\": 0}, {\"x\": 6, \"y\": 15, \"val\": 194}, {\"x\": 7, \"y\": 15, \"val\": 254}, {\"x\": 8, \"y\": 15, \"val\": 101}, {\"x\": 9, \"y\": 15, \"val\": 0}, {\"x\": 10, \"y\": 15, \"val\": 0}, {\"x\": 11, \"y\": 15, \"val\": 0}, {\"x\": 12, \"y\": 15, \"val\": 0}, {\"x\": 13, \"y\": 15, \"val\": 0}, {\"x\": 14, \"y\": 15, \"val\": 0}, {\"x\": 15, \"y\": 15, \"val\": 0}, {\"x\": 16, \"y\": 15, \"val\": 0}, {\"x\": 17, \"y\": 15, \"val\": 0}, {\"x\": 18, \"y\": 15, \"val\": 0}, {\"x\": 19, \"y\": 15, \"val\": 0}, {\"x\": 20, \"y\": 15, \"val\": 0}, {\"x\": 21, \"y\": 15, \"val\": 0}, {\"x\": 22, \"y\": 15, \"val\": 0}, {\"x\": 23, \"y\": 15, \"val\": 79}, {\"x\": 24, \"y\": 15, \"val\": 254}, {\"x\": 25, \"y\": 15, \"val\": 155}, {\"x\": 26, \"y\": 15, \"val\": 0}, {\"x\": 27, \"y\": 15, \"val\": 0}, {\"x\": 28, \"y\": 15, \"val\": 0}, {\"x\": 1, \"y\": 16, \"val\": 0}, {\"x\": 2, \"y\": 16, \"val\": 0}, {\"x\": 3, \"y\": 16, \"val\": 0}, {\"x\": 4, \"y\": 16, \"val\": 0}, {\"x\": 5, \"y\": 16, \"val\": 0}, {\"x\": 6, \"y\": 16, \"val\": 112}, {\"x\": 7, \"y\": 16, \"val\": 253}, {\"x\": 8, \"y\": 16, \"val\": 211}, {\"x\": 9, \"y\": 16, \"val\": 9}, {\"x\": 10, \"y\": 16, \"val\": 0}, {\"x\": 11, \"y\": 16, \"val\": 0}, {\"x\": 12, \"y\": 16, \"val\": 0}, {\"x\": 13, \"y\": 16, \"val\": 0}, {\"x\": 14, \"y\": 16, \"val\": 0}, {\"x\": 15, \"y\": 16, \"val\": 0}, {\"x\": 16, \"y\": 16, \"val\": 0}, {\"x\": 17, \"y\": 16, \"val\": 0}, {\"x\": 18, \"y\": 16, \"val\": 0}, {\"x\": 19, \"y\": 16, \"val\": 0}, {\"x\": 20, \"y\": 16, \"val\": 0}, {\"x\": 21, \"y\": 16, \"val\": 0}, {\"x\": 22, \"y\": 16, \"val\": 0}, {\"x\": 23, \"y\": 16, \"val\": 73}, {\"x\": 24, \"y\": 16, \"val\": 251}, {\"x\": 25, \"y\": 16, \"val\": 200}, {\"x\": 26, \"y\": 16, \"val\": 0}, {\"x\": 27, \"y\": 16, \"val\": 0}, {\"x\": 28, \"y\": 16, \"val\": 0}, {\"x\": 1, \"y\": 17, \"val\": 0}, {\"x\": 2, \"y\": 17, \"val\": 0}, {\"x\": 3, \"y\": 17, \"val\": 0}, {\"x\": 4, \"y\": 17, \"val\": 0}, {\"x\": 5, \"y\": 17, \"val\": 0}, {\"x\": 6, \"y\": 17, \"val\": 41}, {\"x\": 7, \"y\": 17, \"val\": 241}, {\"x\": 8, \"y\": 17, \"val\": 253}, {\"x\": 9, \"y\": 17, \"val\": 87}, {\"x\": 10, \"y\": 17, \"val\": 0}, {\"x\": 11, \"y\": 17, \"val\": 0}, {\"x\": 12, \"y\": 17, \"val\": 0}, {\"x\": 13, \"y\": 17, \"val\": 0}, {\"x\": 14, \"y\": 17, \"val\": 0}, {\"x\": 15, \"y\": 17, \"val\": 0}, {\"x\": 16, \"y\": 17, \"val\": 0}, {\"x\": 17, \"y\": 17, \"val\": 0}, {\"x\": 18, \"y\": 17, \"val\": 0}, {\"x\": 19, \"y\": 17, \"val\": 0}, {\"x\": 20, \"y\": 17, \"val\": 0}, {\"x\": 21, \"y\": 17, \"val\": 0}, {\"x\": 22, \"y\": 17, \"val\": 0}, {\"x\": 23, \"y\": 17, \"val\": 25}, {\"x\": 24, \"y\": 17, \"val\": 240}, {\"x\": 25, \"y\": 17, \"val\": 253}, {\"x\": 26, \"y\": 17, \"val\": 0}, {\"x\": 27, \"y\": 17, \"val\": 0}, {\"x\": 28, \"y\": 17, \"val\": 0}, {\"x\": 1, \"y\": 18, \"val\": 0}, {\"x\": 2, \"y\": 18, \"val\": 0}, {\"x\": 3, \"y\": 18, \"val\": 0}, {\"x\": 4, \"y\": 18, \"val\": 0}, {\"x\": 5, \"y\": 18, \"val\": 0}, {\"x\": 6, \"y\": 18, \"val\": 0}, {\"x\": 7, \"y\": 18, \"val\": 147}, {\"x\": 8, \"y\": 18, \"val\": 253}, {\"x\": 9, \"y\": 18, \"val\": 227}, {\"x\": 10, \"y\": 18, \"val\": 47}, {\"x\": 11, \"y\": 18, \"val\": 0}, {\"x\": 12, \"y\": 18, \"val\": 0}, {\"x\": 13, \"y\": 18, \"val\": 0}, {\"x\": 14, \"y\": 18, \"val\": 0}, {\"x\": 15, \"y\": 18, \"val\": 0}, {\"x\": 16, \"y\": 18, \"val\": 0}, {\"x\": 17, \"y\": 18, \"val\": 0}, {\"x\": 18, \"y\": 18, \"val\": 0}, {\"x\": 19, \"y\": 18, \"val\": 0}, {\"x\": 20, \"y\": 18, \"val\": 0}, {\"x\": 21, \"y\": 18, \"val\": 0}, {\"x\": 22, \"y\": 18, \"val\": 0}, {\"x\": 23, \"y\": 18, \"val\": 94}, {\"x\": 24, \"y\": 18, \"val\": 253}, {\"x\": 25, \"y\": 18, \"val\": 200}, {\"x\": 26, \"y\": 18, \"val\": 0}, {\"x\": 27, \"y\": 18, \"val\": 0}, {\"x\": 28, \"y\": 18, \"val\": 0}, {\"x\": 1, \"y\": 19, \"val\": 0}, {\"x\": 2, \"y\": 19, \"val\": 0}, {\"x\": 3, \"y\": 19, \"val\": 0}, {\"x\": 4, \"y\": 19, \"val\": 0}, {\"x\": 5, \"y\": 19, \"val\": 0}, {\"x\": 6, \"y\": 19, \"val\": 0}, {\"x\": 7, \"y\": 19, \"val\": 5}, {\"x\": 8, \"y\": 19, \"val\": 193}, {\"x\": 9, \"y\": 19, \"val\": 253}, {\"x\": 10, \"y\": 19, \"val\": 230}, {\"x\": 11, \"y\": 19, \"val\": 76}, {\"x\": 12, \"y\": 19, \"val\": 0}, {\"x\": 13, \"y\": 19, \"val\": 0}, {\"x\": 14, \"y\": 19, \"val\": 0}, {\"x\": 15, \"y\": 19, \"val\": 0}, {\"x\": 16, \"y\": 19, \"val\": 0}, {\"x\": 17, \"y\": 19, \"val\": 0}, {\"x\": 18, \"y\": 19, \"val\": 0}, {\"x\": 19, \"y\": 19, \"val\": 0}, {\"x\": 20, \"y\": 19, \"val\": 0}, {\"x\": 21, \"y\": 19, \"val\": 0}, {\"x\": 22, \"y\": 19, \"val\": 0}, {\"x\": 23, \"y\": 19, \"val\": 175}, {\"x\": 24, \"y\": 19, \"val\": 253}, {\"x\": 25, \"y\": 19, \"val\": 155}, {\"x\": 26, \"y\": 19, \"val\": 0}, {\"x\": 27, \"y\": 19, \"val\": 0}, {\"x\": 28, \"y\": 19, \"val\": 0}, {\"x\": 1, \"y\": 20, \"val\": 0}, {\"x\": 2, \"y\": 20, \"val\": 0}, {\"x\": 3, \"y\": 20, \"val\": 0}, {\"x\": 4, \"y\": 20, \"val\": 0}, {\"x\": 5, \"y\": 20, \"val\": 0}, {\"x\": 6, \"y\": 20, \"val\": 0}, {\"x\": 7, \"y\": 20, \"val\": 0}, {\"x\": 8, \"y\": 20, \"val\": 31}, {\"x\": 9, \"y\": 20, \"val\": 219}, {\"x\": 10, \"y\": 20, \"val\": 254}, {\"x\": 11, \"y\": 20, \"val\": 255}, {\"x\": 12, \"y\": 20, \"val\": 126}, {\"x\": 13, \"y\": 20, \"val\": 18}, {\"x\": 14, \"y\": 20, \"val\": 0}, {\"x\": 15, \"y\": 20, \"val\": 0}, {\"x\": 16, \"y\": 20, \"val\": 0}, {\"x\": 17, \"y\": 20, \"val\": 0}, {\"x\": 18, \"y\": 20, \"val\": 0}, {\"x\": 19, \"y\": 20, \"val\": 0}, {\"x\": 20, \"y\": 20, \"val\": 0}, {\"x\": 21, \"y\": 20, \"val\": 14}, {\"x\": 22, \"y\": 20, \"val\": 149}, {\"x\": 23, \"y\": 20, \"val\": 254}, {\"x\": 24, \"y\": 20, \"val\": 244}, {\"x\": 25, \"y\": 20, \"val\": 45}, {\"x\": 26, \"y\": 20, \"val\": 0}, {\"x\": 27, \"y\": 20, \"val\": 0}, {\"x\": 28, \"y\": 20, \"val\": 0}, {\"x\": 1, \"y\": 21, \"val\": 0}, {\"x\": 2, \"y\": 21, \"val\": 0}, {\"x\": 3, \"y\": 21, \"val\": 0}, {\"x\": 4, \"y\": 21, \"val\": 0}, {\"x\": 5, \"y\": 21, \"val\": 0}, {\"x\": 6, \"y\": 21, \"val\": 0}, {\"x\": 7, \"y\": 21, \"val\": 0}, {\"x\": 8, \"y\": 21, \"val\": 0}, {\"x\": 9, \"y\": 21, \"val\": 21}, {\"x\": 10, \"y\": 21, \"val\": 158}, {\"x\": 11, \"y\": 21, \"val\": 254}, {\"x\": 12, \"y\": 21, \"val\": 253}, {\"x\": 13, \"y\": 21, \"val\": 226}, {\"x\": 14, \"y\": 21, \"val\": 162}, {\"x\": 15, \"y\": 21, \"val\": 118}, {\"x\": 16, \"y\": 21, \"val\": 96}, {\"x\": 17, \"y\": 21, \"val\": 20}, {\"x\": 18, \"y\": 21, \"val\": 20}, {\"x\": 19, \"y\": 21, \"val\": 73}, {\"x\": 20, \"y\": 21, \"val\": 118}, {\"x\": 21, \"y\": 21, \"val\": 224}, {\"x\": 22, \"y\": 21, \"val\": 253}, {\"x\": 23, \"y\": 21, \"val\": 247}, {\"x\": 24, \"y\": 21, \"val\": 85}, {\"x\": 25, \"y\": 21, \"val\": 0}, {\"x\": 26, \"y\": 21, \"val\": 0}, {\"x\": 27, \"y\": 21, \"val\": 0}, {\"x\": 28, \"y\": 21, \"val\": 0}, {\"x\": 1, \"y\": 22, \"val\": 0}, {\"x\": 2, \"y\": 22, \"val\": 0}, {\"x\": 3, \"y\": 22, \"val\": 0}, {\"x\": 4, \"y\": 22, \"val\": 0}, {\"x\": 5, \"y\": 22, \"val\": 0}, {\"x\": 6, \"y\": 22, \"val\": 0}, {\"x\": 7, \"y\": 22, \"val\": 0}, {\"x\": 8, \"y\": 22, \"val\": 0}, {\"x\": 9, \"y\": 22, \"val\": 0}, {\"x\": 10, \"y\": 22, \"val\": 30}, {\"x\": 11, \"y\": 22, \"val\": 155}, {\"x\": 12, \"y\": 22, \"val\": 253}, {\"x\": 13, \"y\": 22, \"val\": 253}, {\"x\": 14, \"y\": 22, \"val\": 253}, {\"x\": 15, \"y\": 22, \"val\": 253}, {\"x\": 16, \"y\": 22, \"val\": 254}, {\"x\": 17, \"y\": 22, \"val\": 253}, {\"x\": 18, \"y\": 22, \"val\": 253}, {\"x\": 19, \"y\": 22, \"val\": 253}, {\"x\": 20, \"y\": 22, \"val\": 253}, {\"x\": 21, \"y\": 22, \"val\": 254}, {\"x\": 22, \"y\": 22, \"val\": 247}, {\"x\": 23, \"y\": 22, \"val\": 84}, {\"x\": 24, \"y\": 22, \"val\": 0}, {\"x\": 25, \"y\": 22, \"val\": 0}, {\"x\": 26, \"y\": 22, \"val\": 0}, {\"x\": 27, \"y\": 22, \"val\": 0}, {\"x\": 28, \"y\": 22, \"val\": 0}, {\"x\": 1, \"y\": 23, \"val\": 0}, {\"x\": 2, \"y\": 23, \"val\": 0}, {\"x\": 3, \"y\": 23, \"val\": 0}, {\"x\": 4, \"y\": 23, \"val\": 0}, {\"x\": 5, \"y\": 23, \"val\": 0}, {\"x\": 6, \"y\": 23, \"val\": 0}, {\"x\": 7, \"y\": 23, \"val\": 0}, {\"x\": 8, \"y\": 23, \"val\": 0}, {\"x\": 9, \"y\": 23, \"val\": 0}, {\"x\": 10, \"y\": 23, \"val\": 0}, {\"x\": 11, \"y\": 23, \"val\": 5}, {\"x\": 12, \"y\": 23, \"val\": 27}, {\"x\": 13, \"y\": 23, \"val\": 117}, {\"x\": 14, \"y\": 23, \"val\": 206}, {\"x\": 15, \"y\": 23, \"val\": 244}, {\"x\": 16, \"y\": 23, \"val\": 229}, {\"x\": 17, \"y\": 23, \"val\": 213}, {\"x\": 18, \"y\": 23, \"val\": 213}, {\"x\": 19, \"y\": 23, \"val\": 213}, {\"x\": 20, \"y\": 23, \"val\": 176}, {\"x\": 21, \"y\": 23, \"val\": 117}, {\"x\": 22, \"y\": 23, \"val\": 32}, {\"x\": 23, \"y\": 23, \"val\": 0}, {\"x\": 24, \"y\": 23, \"val\": 0}, {\"x\": 25, \"y\": 23, \"val\": 0}, {\"x\": 26, \"y\": 23, \"val\": 0}, {\"x\": 27, \"y\": 23, \"val\": 0}, {\"x\": 28, \"y\": 23, \"val\": 0}, {\"x\": 1, \"y\": 24, \"val\": 0}, {\"x\": 2, \"y\": 24, \"val\": 0}, {\"x\": 3, \"y\": 24, \"val\": 0}, {\"x\": 4, \"y\": 24, \"val\": 0}, {\"x\": 5, \"y\": 24, \"val\": 0}, {\"x\": 6, \"y\": 24, \"val\": 0}, {\"x\": 7, \"y\": 24, \"val\": 0}, {\"x\": 8, \"y\": 24, \"val\": 0}, {\"x\": 9, \"y\": 24, \"val\": 0}, {\"x\": 10, \"y\": 24, \"val\": 0}, {\"x\": 11, \"y\": 24, \"val\": 0}, {\"x\": 12, \"y\": 24, \"val\": 0}, {\"x\": 13, \"y\": 24, \"val\": 0}, {\"x\": 14, \"y\": 24, \"val\": 0}, {\"x\": 15, \"y\": 24, \"val\": 45}, {\"x\": 16, \"y\": 24, \"val\": 23}, {\"x\": 17, \"y\": 24, \"val\": 0}, {\"x\": 18, \"y\": 24, \"val\": 0}, {\"x\": 19, \"y\": 24, \"val\": 0}, {\"x\": 20, \"y\": 24, \"val\": 0}, {\"x\": 21, \"y\": 24, \"val\": 0}, {\"x\": 22, \"y\": 24, \"val\": 0}, {\"x\": 23, \"y\": 24, \"val\": 0}, {\"x\": 24, \"y\": 24, \"val\": 0}, {\"x\": 25, \"y\": 24, \"val\": 0}, {\"x\": 26, \"y\": 24, \"val\": 0}, {\"x\": 27, \"y\": 24, \"val\": 0}, {\"x\": 28, \"y\": 24, \"val\": 0}, {\"x\": 1, \"y\": 25, \"val\": 0}, {\"x\": 2, \"y\": 25, \"val\": 0}, {\"x\": 3, \"y\": 25, \"val\": 0}, {\"x\": 4, \"y\": 25, \"val\": 0}, {\"x\": 5, \"y\": 25, \"val\": 0}, {\"x\": 6, \"y\": 25, \"val\": 0}, {\"x\": 7, \"y\": 25, \"val\": 0}, {\"x\": 8, \"y\": 25, \"val\": 0}, {\"x\": 9, \"y\": 25, \"val\": 0}, {\"x\": 10, \"y\": 25, \"val\": 0}, {\"x\": 11, \"y\": 25, \"val\": 0}, {\"x\": 12, \"y\": 25, \"val\": 0}, {\"x\": 13, \"y\": 25, \"val\": 0}, {\"x\": 14, \"y\": 25, \"val\": 0}, {\"x\": 15, \"y\": 25, \"val\": 0}, {\"x\": 16, \"y\": 25, \"val\": 0}, {\"x\": 17, \"y\": 25, \"val\": 0}, {\"x\": 18, \"y\": 25, \"val\": 0}, {\"x\": 19, \"y\": 25, \"val\": 0}, {\"x\": 20, \"y\": 25, \"val\": 0}, {\"x\": 21, \"y\": 25, \"val\": 0}, {\"x\": 22, \"y\": 25, \"val\": 0}, {\"x\": 23, \"y\": 25, \"val\": 0}, {\"x\": 24, \"y\": 25, \"val\": 0}, {\"x\": 25, \"y\": 25, \"val\": 0}, {\"x\": 26, \"y\": 25, \"val\": 0}, {\"x\": 27, \"y\": 25, \"val\": 0}, {\"x\": 28, \"y\": 25, \"val\": 0}, {\"x\": 1, \"y\": 26, \"val\": 0}, {\"x\": 2, \"y\": 26, \"val\": 0}, {\"x\": 3, \"y\": 26, \"val\": 0}, {\"x\": 4, \"y\": 26, \"val\": 0}, {\"x\": 5, \"y\": 26, \"val\": 0}, {\"x\": 6, \"y\": 26, \"val\": 0}, {\"x\": 7, \"y\": 26, \"val\": 0}, {\"x\": 8, \"y\": 26, \"val\": 0}, {\"x\": 9, \"y\": 26, \"val\": 0}, {\"x\": 10, \"y\": 26, \"val\": 0}, {\"x\": 11, \"y\": 26, \"val\": 0}, {\"x\": 12, \"y\": 26, \"val\": 0}, {\"x\": 13, \"y\": 26, \"val\": 0}, {\"x\": 14, \"y\": 26, \"val\": 0}, {\"x\": 15, \"y\": 26, \"val\": 0}, {\"x\": 16, \"y\": 26, \"val\": 0}, {\"x\": 17, \"y\": 26, \"val\": 0}, {\"x\": 18, \"y\": 26, \"val\": 0}, {\"x\": 19, \"y\": 26, \"val\": 0}, {\"x\": 20, \"y\": 26, \"val\": 0}, {\"x\": 21, \"y\": 26, \"val\": 0}, {\"x\": 22, \"y\": 26, \"val\": 0}, {\"x\": 23, \"y\": 26, \"val\": 0}, {\"x\": 24, \"y\": 26, \"val\": 0}, {\"x\": 25, \"y\": 26, \"val\": 0}, {\"x\": 26, \"y\": 26, \"val\": 0}, {\"x\": 27, \"y\": 26, \"val\": 0}, {\"x\": 28, \"y\": 26, \"val\": 0}, {\"x\": 1, \"y\": 27, \"val\": 0}, {\"x\": 2, \"y\": 27, \"val\": 0}, {\"x\": 3, \"y\": 27, \"val\": 0}, {\"x\": 4, \"y\": 27, \"val\": 0}, {\"x\": 5, \"y\": 27, \"val\": 0}, {\"x\": 6, \"y\": 27, \"val\": 0}, {\"x\": 7, \"y\": 27, \"val\": 0}, {\"x\": 8, \"y\": 27, \"val\": 0}, {\"x\": 9, \"y\": 27, \"val\": 0}, {\"x\": 10, \"y\": 27, \"val\": 0}, {\"x\": 11, \"y\": 27, \"val\": 0}, {\"x\": 12, \"y\": 27, \"val\": 0}, {\"x\": 13, \"y\": 27, \"val\": 0}, {\"x\": 14, \"y\": 27, \"val\": 0}, {\"x\": 15, \"y\": 27, \"val\": 0}, {\"x\": 16, \"y\": 27, \"val\": 0}, {\"x\": 17, \"y\": 27, \"val\": 0}, {\"x\": 18, \"y\": 27, \"val\": 0}, {\"x\": 19, \"y\": 27, \"val\": 0}, {\"x\": 20, \"y\": 27, \"val\": 0}, {\"x\": 21, \"y\": 27, \"val\": 0}, {\"x\": 22, \"y\": 27, \"val\": 0}, {\"x\": 23, \"y\": 27, \"val\": 0}, {\"x\": 24, \"y\": 27, \"val\": 0}, {\"x\": 25, \"y\": 27, \"val\": 0}, {\"x\": 26, \"y\": 27, \"val\": 0}, {\"x\": 27, \"y\": 27, \"val\": 0}, {\"x\": 28, \"y\": 27, \"val\": 0}, {\"x\": 1, \"y\": 28, \"val\": 0}, {\"x\": 2, \"y\": 28, \"val\": 0}, {\"x\": 3, \"y\": 28, \"val\": 0}, {\"x\": 4, \"y\": 28, \"val\": 0}, {\"x\": 5, \"y\": 28, \"val\": 0}, {\"x\": 6, \"y\": 28, \"val\": 0}, {\"x\": 7, \"y\": 28, \"val\": 0}, {\"x\": 8, \"y\": 28, \"val\": 0}, {\"x\": 9, \"y\": 28, \"val\": 0}, {\"x\": 10, \"y\": 28, \"val\": 0}, {\"x\": 11, \"y\": 28, \"val\": 0}, {\"x\": 12, \"y\": 28, \"val\": 0}, {\"x\": 13, \"y\": 28, \"val\": 0}, {\"x\": 14, \"y\": 28, \"val\": 0}, {\"x\": 15, \"y\": 28, \"val\": 0}, {\"x\": 16, \"y\": 28, \"val\": 0}, {\"x\": 17, \"y\": 28, \"val\": 0}, {\"x\": 18, \"y\": 28, \"val\": 0}, {\"x\": 19, \"y\": 28, \"val\": 0}, {\"x\": 20, \"y\": 28, \"val\": 0}, {\"x\": 21, \"y\": 28, \"val\": 0}, {\"x\": 22, \"y\": 28, \"val\": 0}, {\"x\": 23, \"y\": 28, \"val\": 0}, {\"x\": 24, \"y\": 28, \"val\": 0}, {\"x\": 25, \"y\": 28, \"val\": 0}, {\"x\": 26, \"y\": 28, \"val\": 0}, {\"x\": 27, \"y\": 28, \"val\": 0}, {\"x\": 28, \"y\": 28, \"val\": 0}]}}, {\"mode\": \"vega-lite\"});\n",
              "</script>"
            ]
          },
          "metadata": {
            "tags": []
          },
          "execution_count": 25
        }
      ]
    },
    {
      "cell_type": "markdown",
      "metadata": {
        "id": "c03ccbb0"
      },
      "source": [
        "### What does a NN see?"
      ],
      "id": "c03ccbb0"
    },
    {
      "cell_type": "markdown",
      "metadata": {
        "id": "3505d40e"
      },
      "source": [
        "While NN classifiers reach a decent accuracy on this task, it\n",
        "doesn't take into account locations in the model. To see this, let's\n",
        "shuffle each image in MNIST using the **same** shuffling order."
      ],
      "id": "3505d40e"
    },
    {
      "cell_type": "code",
      "metadata": {
        "execution": {
          "iopub.execute_input": "2021-08-02T20:00:57.593208Z",
          "iopub.status.busy": "2021-08-02T20:00:57.555272Z",
          "iopub.status.idle": "2021-08-02T20:00:57.618242Z",
          "shell.execute_reply": "2021-08-02T20:00:57.618949Z"
        },
        "lines_to_next_cell": 2,
        "id": "bded373c",
        "colab": {
          "base_uri": "https://localhost:8080/",
          "height": 642
        },
        "outputId": "873b049d-a9d6-449e-f1da-511cfbabbe63"
      },
      "source": [
        "im = draw_image(0, shuffle=True)\n",
        "im"
      ],
      "id": "bded373c",
      "execution_count": null,
      "outputs": [
        {
          "output_type": "execute_result",
          "data": {
            "text/plain": [
              "alt.Chart(...)"
            ],
            "text/html": [
              "\n",
              "<div id=\"altair-viz-518a93c881b24c5b9c820adc98ae9dba\"></div>\n",
              "<script type=\"text/javascript\">\n",
              "  (function(spec, embedOpt){\n",
              "    let outputDiv = document.currentScript.previousElementSibling;\n",
              "    if (outputDiv.id !== \"altair-viz-518a93c881b24c5b9c820adc98ae9dba\") {\n",
              "      outputDiv = document.getElementById(\"altair-viz-518a93c881b24c5b9c820adc98ae9dba\");\n",
              "    }\n",
              "    const paths = {\n",
              "      \"vega\": \"https://cdn.jsdelivr.net/npm//vega@5?noext\",\n",
              "      \"vega-lib\": \"https://cdn.jsdelivr.net/npm//vega-lib?noext\",\n",
              "      \"vega-lite\": \"https://cdn.jsdelivr.net/npm//vega-lite@4.8.1?noext\",\n",
              "      \"vega-embed\": \"https://cdn.jsdelivr.net/npm//vega-embed@6?noext\",\n",
              "    };\n",
              "\n",
              "    function loadScript(lib) {\n",
              "      return new Promise(function(resolve, reject) {\n",
              "        var s = document.createElement('script');\n",
              "        s.src = paths[lib];\n",
              "        s.async = true;\n",
              "        s.onload = () => resolve(paths[lib]);\n",
              "        s.onerror = () => reject(`Error loading script: ${paths[lib]}`);\n",
              "        document.getElementsByTagName(\"head\")[0].appendChild(s);\n",
              "      });\n",
              "    }\n",
              "\n",
              "    function showError(err) {\n",
              "      outputDiv.innerHTML = `<div class=\"error\" style=\"color:red;\">${err}</div>`;\n",
              "      throw err;\n",
              "    }\n",
              "\n",
              "    function displayChart(vegaEmbed) {\n",
              "      vegaEmbed(outputDiv, spec, embedOpt)\n",
              "        .catch(err => showError(`Javascript Error: ${err.message}<br>This usually means there's a typo in your chart specification. See the javascript console for the full traceback.`));\n",
              "    }\n",
              "\n",
              "    if(typeof define === \"function\" && define.amd) {\n",
              "      requirejs.config({paths});\n",
              "      require([\"vega-embed\"], displayChart, err => showError(`Error loading script: ${err.message}`));\n",
              "    } else if (typeof vegaEmbed === \"function\") {\n",
              "      displayChart(vegaEmbed);\n",
              "    } else {\n",
              "      loadScript(\"vega\")\n",
              "        .then(() => loadScript(\"vega-lite\"))\n",
              "        .then(() => loadScript(\"vega-embed\"))\n",
              "        .catch(showError)\n",
              "        .then(() => displayChart(vegaEmbed));\n",
              "    }\n",
              "  })({\"config\": {\"view\": {\"continuousWidth\": 400, \"continuousHeight\": 300}}, \"data\": {\"name\": \"data-45b0fe933f901491ecbef1b9a3657827\"}, \"mark\": \"rect\", \"encoding\": {\"color\": {\"type\": \"quantitative\", \"field\": \"val\"}, \"fill\": {\"type\": \"quantitative\", \"field\": \"val\"}, \"tooltip\": [{\"type\": \"quantitative\", \"field\": \"x\"}, {\"type\": \"quantitative\", \"field\": \"y\"}, {\"type\": \"quantitative\", \"field\": \"val\"}], \"x\": {\"type\": \"ordinal\", \"field\": \"x\"}, \"y\": {\"type\": \"ordinal\", \"field\": \"y\"}}, \"title\": \"Shuffled Image of a 5\", \"$schema\": \"https://vega.github.io/schema/vega-lite/v4.8.1.json\", \"datasets\": {\"data-45b0fe933f901491ecbef1b9a3657827\": [{\"x\": 1, \"y\": 1, \"val\": 0.0}, {\"x\": 2, \"y\": 1, \"val\": 0.0}, {\"x\": 3, \"y\": 1, \"val\": 0.0}, {\"x\": 4, \"y\": 1, \"val\": 0.0}, {\"x\": 5, \"y\": 1, \"val\": 225.0}, {\"x\": 6, \"y\": 1, \"val\": 126.0}, {\"x\": 7, \"y\": 1, \"val\": 0.0}, {\"x\": 8, \"y\": 1, \"val\": 0.0}, {\"x\": 9, \"y\": 1, \"val\": 0.0}, {\"x\": 10, \"y\": 1, \"val\": 0.0}, {\"x\": 11, \"y\": 1, \"val\": 0.0}, {\"x\": 12, \"y\": 1, \"val\": 0.0}, {\"x\": 13, \"y\": 1, \"val\": 253.0}, {\"x\": 14, \"y\": 1, \"val\": 0.0}, {\"x\": 15, \"y\": 1, \"val\": 0.0}, {\"x\": 16, \"y\": 1, \"val\": 240.0}, {\"x\": 17, \"y\": 1, \"val\": 0.0}, {\"x\": 18, \"y\": 1, \"val\": 0.0}, {\"x\": 19, \"y\": 1, \"val\": 0.0}, {\"x\": 20, \"y\": 1, \"val\": 0.0}, {\"x\": 21, \"y\": 1, \"val\": 0.0}, {\"x\": 22, \"y\": 1, \"val\": 253.0}, {\"x\": 23, \"y\": 1, \"val\": 30.0}, {\"x\": 24, \"y\": 1, \"val\": 0.0}, {\"x\": 25, \"y\": 1, \"val\": 0.0}, {\"x\": 26, \"y\": 1, \"val\": 253.0}, {\"x\": 27, \"y\": 1, \"val\": 0.0}, {\"x\": 28, \"y\": 1, \"val\": 0.0}, {\"x\": 1, \"y\": 2, \"val\": 139.0}, {\"x\": 2, \"y\": 2, \"val\": 0.0}, {\"x\": 3, \"y\": 2, \"val\": 0.0}, {\"x\": 4, \"y\": 2, \"val\": 148.0}, {\"x\": 5, \"y\": 2, \"val\": 0.0}, {\"x\": 6, \"y\": 2, \"val\": 0.0}, {\"x\": 7, \"y\": 2, \"val\": 0.0}, {\"x\": 8, \"y\": 2, \"val\": 0.0}, {\"x\": 9, \"y\": 2, \"val\": 0.0}, {\"x\": 10, \"y\": 2, \"val\": 18.0}, {\"x\": 11, \"y\": 2, \"val\": 0.0}, {\"x\": 12, \"y\": 2, \"val\": 0.0}, {\"x\": 13, \"y\": 2, \"val\": 0.0}, {\"x\": 14, \"y\": 2, \"val\": 0.0}, {\"x\": 15, \"y\": 2, \"val\": 0.0}, {\"x\": 16, \"y\": 2, \"val\": 253.0}, {\"x\": 17, \"y\": 2, \"val\": 0.0}, {\"x\": 18, \"y\": 2, \"val\": 0.0}, {\"x\": 19, \"y\": 2, \"val\": 0.0}, {\"x\": 20, \"y\": 2, \"val\": 187.0}, {\"x\": 21, \"y\": 2, \"val\": 0.0}, {\"x\": 22, \"y\": 2, \"val\": 0.0}, {\"x\": 23, \"y\": 2, \"val\": 0.0}, {\"x\": 24, \"y\": 2, \"val\": 0.0}, {\"x\": 25, \"y\": 2, \"val\": 0.0}, {\"x\": 26, \"y\": 2, \"val\": 0.0}, {\"x\": 27, \"y\": 2, \"val\": 0.0}, {\"x\": 28, \"y\": 2, \"val\": 0.0}, {\"x\": 1, \"y\": 3, \"val\": 0.0}, {\"x\": 2, \"y\": 3, \"val\": 0.0}, {\"x\": 3, \"y\": 3, \"val\": 0.0}, {\"x\": 4, \"y\": 3, \"val\": 0.0}, {\"x\": 5, \"y\": 3, \"val\": 0.0}, {\"x\": 6, \"y\": 3, \"val\": 0.0}, {\"x\": 7, \"y\": 3, \"val\": 0.0}, {\"x\": 8, \"y\": 3, \"val\": 26.0}, {\"x\": 9, \"y\": 3, \"val\": 0.0}, {\"x\": 10, \"y\": 3, \"val\": 136.0}, {\"x\": 11, \"y\": 3, \"val\": 0.0}, {\"x\": 12, \"y\": 3, \"val\": 0.0}, {\"x\": 13, \"y\": 3, \"val\": 0.0}, {\"x\": 14, \"y\": 3, \"val\": 0.0}, {\"x\": 15, \"y\": 3, \"val\": 0.0}, {\"x\": 16, \"y\": 3, \"val\": 0.0}, {\"x\": 17, \"y\": 3, \"val\": 0.0}, {\"x\": 18, \"y\": 3, \"val\": 0.0}, {\"x\": 19, \"y\": 3, \"val\": 0.0}, {\"x\": 20, \"y\": 3, \"val\": 0.0}, {\"x\": 21, \"y\": 3, \"val\": 0.0}, {\"x\": 22, \"y\": 3, \"val\": 2.0}, {\"x\": 23, \"y\": 3, \"val\": 0.0}, {\"x\": 24, \"y\": 3, \"val\": 0.0}, {\"x\": 25, \"y\": 3, \"val\": 0.0}, {\"x\": 26, \"y\": 3, \"val\": 55.0}, {\"x\": 27, \"y\": 3, \"val\": 0.0}, {\"x\": 28, \"y\": 3, \"val\": 0.0}, {\"x\": 1, \"y\": 4, \"val\": 0.0}, {\"x\": 2, \"y\": 4, \"val\": 0.0}, {\"x\": 3, \"y\": 4, \"val\": 0.0}, {\"x\": 4, \"y\": 4, \"val\": 0.0}, {\"x\": 5, \"y\": 4, \"val\": 0.0}, {\"x\": 6, \"y\": 4, \"val\": 0.0}, {\"x\": 7, \"y\": 4, \"val\": 253.0}, {\"x\": 8, \"y\": 4, \"val\": 0.0}, {\"x\": 9, \"y\": 4, \"val\": 0.0}, {\"x\": 10, \"y\": 4, \"val\": 0.0}, {\"x\": 11, \"y\": 4, \"val\": 0.0}, {\"x\": 12, \"y\": 4, \"val\": 0.0}, {\"x\": 13, \"y\": 4, \"val\": 0.0}, {\"x\": 14, \"y\": 4, \"val\": 0.0}, {\"x\": 15, \"y\": 4, \"val\": 0.0}, {\"x\": 16, \"y\": 4, \"val\": 0.0}, {\"x\": 17, \"y\": 4, \"val\": 18.0}, {\"x\": 18, \"y\": 4, \"val\": 0.0}, {\"x\": 19, \"y\": 4, \"val\": 0.0}, {\"x\": 20, \"y\": 4, \"val\": 0.0}, {\"x\": 21, \"y\": 4, \"val\": 219.0}, {\"x\": 22, \"y\": 4, \"val\": 46.0}, {\"x\": 23, \"y\": 4, \"val\": 166.0}, {\"x\": 24, \"y\": 4, \"val\": 127.0}, {\"x\": 25, \"y\": 4, \"val\": 0.0}, {\"x\": 26, \"y\": 4, \"val\": 0.0}, {\"x\": 27, \"y\": 4, \"val\": 0.0}, {\"x\": 28, \"y\": 4, \"val\": 0.0}, {\"x\": 1, \"y\": 5, \"val\": 0.0}, {\"x\": 2, \"y\": 5, \"val\": 0.0}, {\"x\": 3, \"y\": 5, \"val\": 253.0}, {\"x\": 4, \"y\": 5, \"val\": 0.0}, {\"x\": 5, \"y\": 5, \"val\": 0.0}, {\"x\": 6, \"y\": 5, \"val\": 0.0}, {\"x\": 7, \"y\": 5, \"val\": 0.0}, {\"x\": 8, \"y\": 5, \"val\": 172.0}, {\"x\": 9, \"y\": 5, \"val\": 0.0}, {\"x\": 10, \"y\": 5, \"val\": 0.0}, {\"x\": 11, \"y\": 5, \"val\": 0.0}, {\"x\": 12, \"y\": 5, \"val\": 0.0}, {\"x\": 13, \"y\": 5, \"val\": 0.0}, {\"x\": 14, \"y\": 5, \"val\": 253.0}, {\"x\": 15, \"y\": 5, \"val\": 0.0}, {\"x\": 16, \"y\": 5, \"val\": 0.0}, {\"x\": 17, \"y\": 5, \"val\": 0.0}, {\"x\": 18, \"y\": 5, \"val\": 0.0}, {\"x\": 19, \"y\": 5, \"val\": 93.0}, {\"x\": 20, \"y\": 5, \"val\": 0.0}, {\"x\": 21, \"y\": 5, \"val\": 205.0}, {\"x\": 22, \"y\": 5, \"val\": 0.0}, {\"x\": 23, \"y\": 5, \"val\": 0.0}, {\"x\": 24, \"y\": 5, \"val\": 253.0}, {\"x\": 25, \"y\": 5, \"val\": 0.0}, {\"x\": 26, \"y\": 5, \"val\": 0.0}, {\"x\": 27, \"y\": 5, \"val\": 253.0}, {\"x\": 28, \"y\": 5, \"val\": 0.0}, {\"x\": 1, \"y\": 6, \"val\": 0.0}, {\"x\": 2, \"y\": 6, \"val\": 0.0}, {\"x\": 3, \"y\": 6, \"val\": 82.0}, {\"x\": 4, \"y\": 6, \"val\": 0.0}, {\"x\": 5, \"y\": 6, \"val\": 0.0}, {\"x\": 6, \"y\": 6, \"val\": 0.0}, {\"x\": 7, \"y\": 6, \"val\": 0.0}, {\"x\": 8, \"y\": 6, \"val\": 0.0}, {\"x\": 9, \"y\": 6, \"val\": 0.0}, {\"x\": 10, \"y\": 6, \"val\": 253.0}, {\"x\": 11, \"y\": 6, \"val\": 0.0}, {\"x\": 12, \"y\": 6, \"val\": 0.0}, {\"x\": 13, \"y\": 6, \"val\": 0.0}, {\"x\": 14, \"y\": 6, \"val\": 136.0}, {\"x\": 15, \"y\": 6, \"val\": 0.0}, {\"x\": 16, \"y\": 6, \"val\": 0.0}, {\"x\": 17, \"y\": 6, \"val\": 253.0}, {\"x\": 18, \"y\": 6, \"val\": 0.0}, {\"x\": 19, \"y\": 6, \"val\": 0.0}, {\"x\": 20, \"y\": 6, \"val\": 0.0}, {\"x\": 21, \"y\": 6, \"val\": 0.0}, {\"x\": 22, \"y\": 6, \"val\": 0.0}, {\"x\": 23, \"y\": 6, \"val\": 190.0}, {\"x\": 24, \"y\": 6, \"val\": 0.0}, {\"x\": 25, \"y\": 6, \"val\": 0.0}, {\"x\": 26, \"y\": 6, \"val\": 1.0}, {\"x\": 27, \"y\": 6, \"val\": 0.0}, {\"x\": 28, \"y\": 6, \"val\": 0.0}, {\"x\": 1, \"y\": 7, \"val\": 0.0}, {\"x\": 2, \"y\": 7, \"val\": 253.0}, {\"x\": 3, \"y\": 7, \"val\": 0.0}, {\"x\": 4, \"y\": 7, \"val\": 0.0}, {\"x\": 5, \"y\": 7, \"val\": 0.0}, {\"x\": 6, \"y\": 7, \"val\": 253.0}, {\"x\": 7, \"y\": 7, \"val\": 0.0}, {\"x\": 8, \"y\": 7, \"val\": 213.0}, {\"x\": 9, \"y\": 7, \"val\": 0.0}, {\"x\": 10, \"y\": 7, \"val\": 0.0}, {\"x\": 11, \"y\": 7, \"val\": 0.0}, {\"x\": 12, \"y\": 7, \"val\": 0.0}, {\"x\": 13, \"y\": 7, \"val\": 241.0}, {\"x\": 14, \"y\": 7, \"val\": 253.0}, {\"x\": 15, \"y\": 7, \"val\": 2.0}, {\"x\": 16, \"y\": 7, \"val\": 0.0}, {\"x\": 17, \"y\": 7, \"val\": 0.0}, {\"x\": 18, \"y\": 7, \"val\": 0.0}, {\"x\": 19, \"y\": 7, \"val\": 0.0}, {\"x\": 20, \"y\": 7, \"val\": 0.0}, {\"x\": 21, \"y\": 7, \"val\": 18.0}, {\"x\": 22, \"y\": 7, \"val\": 0.0}, {\"x\": 23, \"y\": 7, \"val\": 0.0}, {\"x\": 24, \"y\": 7, \"val\": 0.0}, {\"x\": 25, \"y\": 7, \"val\": 0.0}, {\"x\": 26, \"y\": 7, \"val\": 39.0}, {\"x\": 27, \"y\": 7, \"val\": 0.0}, {\"x\": 28, \"y\": 7, \"val\": 0.0}, {\"x\": 1, \"y\": 8, \"val\": 0.0}, {\"x\": 2, \"y\": 8, \"val\": 0.0}, {\"x\": 3, \"y\": 8, \"val\": 0.0}, {\"x\": 4, \"y\": 8, \"val\": 0.0}, {\"x\": 5, \"y\": 8, \"val\": 0.0}, {\"x\": 6, \"y\": 8, \"val\": 0.0}, {\"x\": 7, \"y\": 8, \"val\": 0.0}, {\"x\": 8, \"y\": 8, \"val\": 0.0}, {\"x\": 9, \"y\": 8, \"val\": 0.0}, {\"x\": 10, \"y\": 8, \"val\": 0.0}, {\"x\": 11, \"y\": 8, \"val\": 135.0}, {\"x\": 12, \"y\": 8, \"val\": 247.0}, {\"x\": 13, \"y\": 8, \"val\": 0.0}, {\"x\": 14, \"y\": 8, \"val\": 0.0}, {\"x\": 15, \"y\": 8, \"val\": 0.0}, {\"x\": 16, \"y\": 8, \"val\": 0.0}, {\"x\": 17, \"y\": 8, \"val\": 0.0}, {\"x\": 18, \"y\": 8, \"val\": 0.0}, {\"x\": 19, \"y\": 8, \"val\": 0.0}, {\"x\": 20, \"y\": 8, \"val\": 0.0}, {\"x\": 21, \"y\": 8, \"val\": 107.0}, {\"x\": 22, \"y\": 8, \"val\": 0.0}, {\"x\": 23, \"y\": 8, \"val\": 0.0}, {\"x\": 24, \"y\": 8, \"val\": 0.0}, {\"x\": 25, \"y\": 8, \"val\": 0.0}, {\"x\": 26, \"y\": 8, \"val\": 0.0}, {\"x\": 27, \"y\": 8, \"val\": 0.0}, {\"x\": 28, \"y\": 8, \"val\": 0.0}, {\"x\": 1, \"y\": 9, \"val\": 0.0}, {\"x\": 2, \"y\": 9, \"val\": 0.0}, {\"x\": 3, \"y\": 9, \"val\": 0.0}, {\"x\": 4, \"y\": 9, \"val\": 0.0}, {\"x\": 5, \"y\": 9, \"val\": 0.0}, {\"x\": 6, \"y\": 9, \"val\": 0.0}, {\"x\": 7, \"y\": 9, \"val\": 0.0}, {\"x\": 8, \"y\": 9, \"val\": 0.0}, {\"x\": 9, \"y\": 9, \"val\": 195.0}, {\"x\": 10, \"y\": 9, \"val\": 0.0}, {\"x\": 11, \"y\": 9, \"val\": 150.0}, {\"x\": 12, \"y\": 9, \"val\": 0.0}, {\"x\": 13, \"y\": 9, \"val\": 0.0}, {\"x\": 14, \"y\": 9, \"val\": 0.0}, {\"x\": 15, \"y\": 9, \"val\": 0.0}, {\"x\": 16, \"y\": 9, \"val\": 253.0}, {\"x\": 17, \"y\": 9, \"val\": 0.0}, {\"x\": 18, \"y\": 9, \"val\": 0.0}, {\"x\": 19, \"y\": 9, \"val\": 0.0}, {\"x\": 20, \"y\": 9, \"val\": 253.0}, {\"x\": 21, \"y\": 9, \"val\": 0.0}, {\"x\": 22, \"y\": 9, \"val\": 0.0}, {\"x\": 23, \"y\": 9, \"val\": 0.0}, {\"x\": 24, \"y\": 9, \"val\": 0.0}, {\"x\": 25, \"y\": 9, \"val\": 0.0}, {\"x\": 26, \"y\": 9, \"val\": 80.0}, {\"x\": 27, \"y\": 9, \"val\": 0.0}, {\"x\": 28, \"y\": 9, \"val\": 0.0}, {\"x\": 1, \"y\": 10, \"val\": 0.0}, {\"x\": 2, \"y\": 10, \"val\": 0.0}, {\"x\": 3, \"y\": 10, \"val\": 0.0}, {\"x\": 4, \"y\": 10, \"val\": 0.0}, {\"x\": 5, \"y\": 10, \"val\": 0.0}, {\"x\": 6, \"y\": 10, \"val\": 0.0}, {\"x\": 7, \"y\": 10, \"val\": 0.0}, {\"x\": 8, \"y\": 10, \"val\": 11.0}, {\"x\": 9, \"y\": 10, \"val\": 0.0}, {\"x\": 10, \"y\": 10, \"val\": 0.0}, {\"x\": 11, \"y\": 10, \"val\": 0.0}, {\"x\": 12, \"y\": 10, \"val\": 0.0}, {\"x\": 13, \"y\": 10, \"val\": 0.0}, {\"x\": 14, \"y\": 10, \"val\": 172.0}, {\"x\": 15, \"y\": 10, \"val\": 0.0}, {\"x\": 16, \"y\": 10, \"val\": 0.0}, {\"x\": 17, \"y\": 10, \"val\": 0.0}, {\"x\": 18, \"y\": 10, \"val\": 0.0}, {\"x\": 19, \"y\": 10, \"val\": 0.0}, {\"x\": 20, \"y\": 10, \"val\": 114.0}, {\"x\": 21, \"y\": 10, \"val\": 0.0}, {\"x\": 22, \"y\": 10, \"val\": 132.0}, {\"x\": 23, \"y\": 10, \"val\": 0.0}, {\"x\": 24, \"y\": 10, \"val\": 0.0}, {\"x\": 25, \"y\": 10, \"val\": 0.0}, {\"x\": 26, \"y\": 10, \"val\": 0.0}, {\"x\": 27, \"y\": 10, \"val\": 0.0}, {\"x\": 28, \"y\": 10, \"val\": 0.0}, {\"x\": 1, \"y\": 11, \"val\": 0.0}, {\"x\": 2, \"y\": 11, \"val\": 0.0}, {\"x\": 3, \"y\": 11, \"val\": 0.0}, {\"x\": 4, \"y\": 11, \"val\": 11.0}, {\"x\": 5, \"y\": 11, \"val\": 0.0}, {\"x\": 6, \"y\": 11, \"val\": 0.0}, {\"x\": 7, \"y\": 11, \"val\": 0.0}, {\"x\": 8, \"y\": 11, \"val\": 0.0}, {\"x\": 9, \"y\": 11, \"val\": 0.0}, {\"x\": 10, \"y\": 11, \"val\": 0.0}, {\"x\": 11, \"y\": 11, \"val\": 0.0}, {\"x\": 12, \"y\": 11, \"val\": 0.0}, {\"x\": 13, \"y\": 11, \"val\": 0.0}, {\"x\": 14, \"y\": 11, \"val\": 253.0}, {\"x\": 15, \"y\": 11, \"val\": 133.0}, {\"x\": 16, \"y\": 11, \"val\": 0.0}, {\"x\": 17, \"y\": 11, \"val\": 0.0}, {\"x\": 18, \"y\": 11, \"val\": 0.0}, {\"x\": 19, \"y\": 11, \"val\": 0.0}, {\"x\": 20, \"y\": 11, \"val\": 253.0}, {\"x\": 21, \"y\": 11, \"val\": 9.0}, {\"x\": 22, \"y\": 11, \"val\": 0.0}, {\"x\": 23, \"y\": 11, \"val\": 0.0}, {\"x\": 24, \"y\": 11, \"val\": 0.0}, {\"x\": 25, \"y\": 11, \"val\": 0.0}, {\"x\": 26, \"y\": 11, \"val\": 170.0}, {\"x\": 27, \"y\": 11, \"val\": 195.0}, {\"x\": 28, \"y\": 11, \"val\": 0.0}, {\"x\": 1, \"y\": 12, \"val\": 0.0}, {\"x\": 2, \"y\": 12, \"val\": 0.0}, {\"x\": 3, \"y\": 12, \"val\": 0.0}, {\"x\": 4, \"y\": 12, \"val\": 0.0}, {\"x\": 5, \"y\": 12, \"val\": 0.0}, {\"x\": 6, \"y\": 12, \"val\": 0.0}, {\"x\": 7, \"y\": 12, \"val\": 16.0}, {\"x\": 8, \"y\": 12, \"val\": 0.0}, {\"x\": 9, \"y\": 12, \"val\": 0.0}, {\"x\": 10, \"y\": 12, \"val\": 0.0}, {\"x\": 11, \"y\": 12, \"val\": 253.0}, {\"x\": 12, \"y\": 12, \"val\": 0.0}, {\"x\": 13, \"y\": 12, \"val\": 0.0}, {\"x\": 14, \"y\": 12, \"val\": 0.0}, {\"x\": 15, \"y\": 12, \"val\": 0.0}, {\"x\": 16, \"y\": 12, \"val\": 0.0}, {\"x\": 17, \"y\": 12, \"val\": 81.0}, {\"x\": 18, \"y\": 12, \"val\": 182.0}, {\"x\": 19, \"y\": 12, \"val\": 2.0}, {\"x\": 20, \"y\": 12, \"val\": 242.0}, {\"x\": 21, \"y\": 12, \"val\": 0.0}, {\"x\": 22, \"y\": 12, \"val\": 0.0}, {\"x\": 23, \"y\": 12, \"val\": 0.0}, {\"x\": 24, \"y\": 12, \"val\": 0.0}, {\"x\": 25, \"y\": 12, \"val\": 0.0}, {\"x\": 26, \"y\": 12, \"val\": 253.0}, {\"x\": 27, \"y\": 12, \"val\": 0.0}, {\"x\": 28, \"y\": 12, \"val\": 0.0}, {\"x\": 1, \"y\": 13, \"val\": 0.0}, {\"x\": 2, \"y\": 13, \"val\": 0.0}, {\"x\": 3, \"y\": 13, \"val\": 0.0}, {\"x\": 4, \"y\": 13, \"val\": 0.0}, {\"x\": 5, \"y\": 13, \"val\": 0.0}, {\"x\": 6, \"y\": 13, \"val\": 0.0}, {\"x\": 7, \"y\": 13, \"val\": 14.0}, {\"x\": 8, \"y\": 13, \"val\": 0.0}, {\"x\": 9, \"y\": 13, \"val\": 0.0}, {\"x\": 10, \"y\": 13, \"val\": 0.0}, {\"x\": 11, \"y\": 13, \"val\": 0.0}, {\"x\": 12, \"y\": 13, \"val\": 0.0}, {\"x\": 13, \"y\": 13, \"val\": 253.0}, {\"x\": 14, \"y\": 13, \"val\": 82.0}, {\"x\": 15, \"y\": 13, \"val\": 56.0}, {\"x\": 16, \"y\": 13, \"val\": 0.0}, {\"x\": 17, \"y\": 13, \"val\": 0.0}, {\"x\": 18, \"y\": 13, \"val\": 0.0}, {\"x\": 19, \"y\": 13, \"val\": 64.0}, {\"x\": 20, \"y\": 13, \"val\": 0.0}, {\"x\": 21, \"y\": 13, \"val\": 43.0}, {\"x\": 22, \"y\": 13, \"val\": 198.0}, {\"x\": 23, \"y\": 13, \"val\": 0.0}, {\"x\": 24, \"y\": 13, \"val\": 154.0}, {\"x\": 25, \"y\": 13, \"val\": 0.0}, {\"x\": 26, \"y\": 13, \"val\": 0.0}, {\"x\": 27, \"y\": 13, \"val\": 0.0}, {\"x\": 28, \"y\": 13, \"val\": 0.0}, {\"x\": 1, \"y\": 14, \"val\": 0.0}, {\"x\": 2, \"y\": 14, \"val\": 0.0}, {\"x\": 3, \"y\": 14, \"val\": 78.0}, {\"x\": 4, \"y\": 14, \"val\": 18.0}, {\"x\": 5, \"y\": 14, \"val\": 0.0}, {\"x\": 6, \"y\": 14, \"val\": 0.0}, {\"x\": 7, \"y\": 14, \"val\": 3.0}, {\"x\": 8, \"y\": 14, \"val\": 0.0}, {\"x\": 9, \"y\": 14, \"val\": 0.0}, {\"x\": 10, \"y\": 14, \"val\": 156.0}, {\"x\": 11, \"y\": 14, \"val\": 190.0}, {\"x\": 12, \"y\": 14, \"val\": 24.0}, {\"x\": 13, \"y\": 14, \"val\": 0.0}, {\"x\": 14, \"y\": 14, \"val\": 0.0}, {\"x\": 15, \"y\": 14, \"val\": 0.0}, {\"x\": 16, \"y\": 14, \"val\": 0.0}, {\"x\": 17, \"y\": 14, \"val\": 0.0}, {\"x\": 18, \"y\": 14, \"val\": 0.0}, {\"x\": 19, \"y\": 14, \"val\": 0.0}, {\"x\": 20, \"y\": 14, \"val\": 0.0}, {\"x\": 21, \"y\": 14, \"val\": 0.0}, {\"x\": 22, \"y\": 14, \"val\": 0.0}, {\"x\": 23, \"y\": 14, \"val\": 0.0}, {\"x\": 24, \"y\": 14, \"val\": 253.0}, {\"x\": 25, \"y\": 14, \"val\": 0.0}, {\"x\": 26, \"y\": 14, \"val\": 0.0}, {\"x\": 27, \"y\": 14, \"val\": 0.0}, {\"x\": 28, \"y\": 14, \"val\": 0.0}, {\"x\": 1, \"y\": 15, \"val\": 0.0}, {\"x\": 2, \"y\": 15, \"val\": 0.0}, {\"x\": 3, \"y\": 15, \"val\": 0.0}, {\"x\": 4, \"y\": 15, \"val\": 0.0}, {\"x\": 5, \"y\": 15, \"val\": 0.0}, {\"x\": 6, \"y\": 15, \"val\": 0.0}, {\"x\": 7, \"y\": 15, \"val\": 0.0}, {\"x\": 8, \"y\": 15, \"val\": 0.0}, {\"x\": 9, \"y\": 15, \"val\": 0.0}, {\"x\": 10, \"y\": 15, \"val\": 130.0}, {\"x\": 11, \"y\": 15, \"val\": 0.0}, {\"x\": 12, \"y\": 15, \"val\": 253.0}, {\"x\": 13, \"y\": 15, \"val\": 0.0}, {\"x\": 14, \"y\": 15, \"val\": 0.0}, {\"x\": 15, \"y\": 15, \"val\": 0.0}, {\"x\": 16, \"y\": 15, \"val\": 0.0}, {\"x\": 17, \"y\": 15, \"val\": 198.0}, {\"x\": 18, \"y\": 15, \"val\": 251.0}, {\"x\": 19, \"y\": 15, \"val\": 0.0}, {\"x\": 20, \"y\": 15, \"val\": 35.0}, {\"x\": 21, \"y\": 15, \"val\": 0.0}, {\"x\": 22, \"y\": 15, \"val\": 0.0}, {\"x\": 23, \"y\": 15, \"val\": 171.0}, {\"x\": 24, \"y\": 15, \"val\": 253.0}, {\"x\": 25, \"y\": 15, \"val\": 93.0}, {\"x\": 26, \"y\": 15, \"val\": 0.0}, {\"x\": 27, \"y\": 15, \"val\": 0.0}, {\"x\": 28, \"y\": 15, \"val\": 0.0}, {\"x\": 1, \"y\": 16, \"val\": 0.0}, {\"x\": 2, \"y\": 16, \"val\": 0.0}, {\"x\": 3, \"y\": 16, \"val\": 0.0}, {\"x\": 4, \"y\": 16, \"val\": 0.0}, {\"x\": 5, \"y\": 16, \"val\": 0.0}, {\"x\": 6, \"y\": 16, \"val\": 253.0}, {\"x\": 7, \"y\": 16, \"val\": 0.0}, {\"x\": 8, \"y\": 16, \"val\": 0.0}, {\"x\": 9, \"y\": 16, \"val\": 0.0}, {\"x\": 10, \"y\": 16, \"val\": 0.0}, {\"x\": 11, \"y\": 16, \"val\": 0.0}, {\"x\": 12, \"y\": 16, \"val\": 0.0}, {\"x\": 13, \"y\": 16, \"val\": 0.0}, {\"x\": 14, \"y\": 16, \"val\": 0.0}, {\"x\": 15, \"y\": 16, \"val\": 0.0}, {\"x\": 16, \"y\": 16, \"val\": 0.0}, {\"x\": 17, \"y\": 16, \"val\": 0.0}, {\"x\": 18, \"y\": 16, \"val\": 253.0}, {\"x\": 19, \"y\": 16, \"val\": 0.0}, {\"x\": 20, \"y\": 16, \"val\": 0.0}, {\"x\": 21, \"y\": 16, \"val\": 0.0}, {\"x\": 22, \"y\": 16, \"val\": 0.0}, {\"x\": 23, \"y\": 16, \"val\": 81.0}, {\"x\": 24, \"y\": 16, \"val\": 0.0}, {\"x\": 25, \"y\": 16, \"val\": 219.0}, {\"x\": 26, \"y\": 16, \"val\": 0.0}, {\"x\": 27, \"y\": 16, \"val\": 0.0}, {\"x\": 28, \"y\": 16, \"val\": 0.0}, {\"x\": 1, \"y\": 17, \"val\": 11.0}, {\"x\": 2, \"y\": 17, \"val\": 0.0}, {\"x\": 3, \"y\": 17, \"val\": 0.0}, {\"x\": 4, \"y\": 17, \"val\": 0.0}, {\"x\": 5, \"y\": 17, \"val\": 0.0}, {\"x\": 6, \"y\": 17, \"val\": 0.0}, {\"x\": 7, \"y\": 17, \"val\": 0.0}, {\"x\": 8, \"y\": 17, \"val\": 0.0}, {\"x\": 9, \"y\": 17, \"val\": 154.0}, {\"x\": 10, \"y\": 17, \"val\": 253.0}, {\"x\": 11, \"y\": 17, \"val\": 253.0}, {\"x\": 12, \"y\": 17, \"val\": 253.0}, {\"x\": 13, \"y\": 17, \"val\": 0.0}, {\"x\": 14, \"y\": 17, \"val\": 0.0}, {\"x\": 15, \"y\": 17, \"val\": 0.0}, {\"x\": 16, \"y\": 17, \"val\": 0.0}, {\"x\": 17, \"y\": 17, \"val\": 0.0}, {\"x\": 18, \"y\": 17, \"val\": 25.0}, {\"x\": 19, \"y\": 17, \"val\": 0.0}, {\"x\": 20, \"y\": 17, \"val\": 0.0}, {\"x\": 21, \"y\": 17, \"val\": 0.0}, {\"x\": 22, \"y\": 17, \"val\": 247.0}, {\"x\": 23, \"y\": 17, \"val\": 0.0}, {\"x\": 24, \"y\": 17, \"val\": 0.0}, {\"x\": 25, \"y\": 17, \"val\": 0.0}, {\"x\": 26, \"y\": 17, \"val\": 0.0}, {\"x\": 27, \"y\": 17, \"val\": 0.0}, {\"x\": 28, \"y\": 17, \"val\": 0.0}, {\"x\": 1, \"y\": 18, \"val\": 0.0}, {\"x\": 2, \"y\": 18, \"val\": 255.0}, {\"x\": 3, \"y\": 18, \"val\": 0.0}, {\"x\": 4, \"y\": 18, \"val\": 0.0}, {\"x\": 5, \"y\": 18, \"val\": 0.0}, {\"x\": 6, \"y\": 18, \"val\": 0.0}, {\"x\": 7, \"y\": 18, \"val\": 0.0}, {\"x\": 8, \"y\": 18, \"val\": 0.0}, {\"x\": 9, \"y\": 18, \"val\": 0.0}, {\"x\": 10, \"y\": 18, \"val\": 0.0}, {\"x\": 11, \"y\": 18, \"val\": 0.0}, {\"x\": 12, \"y\": 18, \"val\": 0.0}, {\"x\": 13, \"y\": 18, \"val\": 0.0}, {\"x\": 14, \"y\": 18, \"val\": 0.0}, {\"x\": 15, \"y\": 18, \"val\": 0.0}, {\"x\": 16, \"y\": 18, \"val\": 0.0}, {\"x\": 17, \"y\": 18, \"val\": 0.0}, {\"x\": 18, \"y\": 18, \"val\": 0.0}, {\"x\": 19, \"y\": 18, \"val\": 0.0}, {\"x\": 20, \"y\": 18, \"val\": 0.0}, {\"x\": 21, \"y\": 18, \"val\": 0.0}, {\"x\": 22, \"y\": 18, \"val\": 0.0}, {\"x\": 23, \"y\": 18, \"val\": 0.0}, {\"x\": 24, \"y\": 18, \"val\": 0.0}, {\"x\": 25, \"y\": 18, \"val\": 0.0}, {\"x\": 26, \"y\": 18, \"val\": 0.0}, {\"x\": 27, \"y\": 18, \"val\": 226.0}, {\"x\": 28, \"y\": 18, \"val\": 249.0}, {\"x\": 1, \"y\": 19, \"val\": 0.0}, {\"x\": 2, \"y\": 19, \"val\": 207.0}, {\"x\": 3, \"y\": 19, \"val\": 39.0}, {\"x\": 4, \"y\": 19, \"val\": 0.0}, {\"x\": 5, \"y\": 19, \"val\": 0.0}, {\"x\": 6, \"y\": 19, \"val\": 0.0}, {\"x\": 7, \"y\": 19, \"val\": 0.0}, {\"x\": 8, \"y\": 19, \"val\": 0.0}, {\"x\": 9, \"y\": 19, \"val\": 0.0}, {\"x\": 10, \"y\": 19, \"val\": 186.0}, {\"x\": 11, \"y\": 19, \"val\": 0.0}, {\"x\": 12, \"y\": 19, \"val\": 0.0}, {\"x\": 13, \"y\": 19, \"val\": 0.0}, {\"x\": 14, \"y\": 19, \"val\": 0.0}, {\"x\": 15, \"y\": 19, \"val\": 0.0}, {\"x\": 16, \"y\": 19, \"val\": 0.0}, {\"x\": 17, \"y\": 19, \"val\": 119.0}, {\"x\": 18, \"y\": 19, \"val\": 0.0}, {\"x\": 19, \"y\": 19, \"val\": 64.0}, {\"x\": 20, \"y\": 19, \"val\": 0.0}, {\"x\": 21, \"y\": 19, \"val\": 0.0}, {\"x\": 22, \"y\": 19, \"val\": 0.0}, {\"x\": 23, \"y\": 19, \"val\": 36.0}, {\"x\": 24, \"y\": 19, \"val\": 0.0}, {\"x\": 25, \"y\": 19, \"val\": 0.0}, {\"x\": 26, \"y\": 19, \"val\": 0.0}, {\"x\": 27, \"y\": 19, \"val\": 253.0}, {\"x\": 28, \"y\": 19, \"val\": 0.0}, {\"x\": 1, \"y\": 20, \"val\": 0.0}, {\"x\": 2, \"y\": 20, \"val\": 0.0}, {\"x\": 3, \"y\": 20, \"val\": 0.0}, {\"x\": 4, \"y\": 20, \"val\": 0.0}, {\"x\": 5, \"y\": 20, \"val\": 0.0}, {\"x\": 6, \"y\": 20, \"val\": 0.0}, {\"x\": 7, \"y\": 20, \"val\": 0.0}, {\"x\": 8, \"y\": 20, \"val\": 0.0}, {\"x\": 9, \"y\": 20, \"val\": 0.0}, {\"x\": 10, \"y\": 20, \"val\": 0.0}, {\"x\": 11, \"y\": 20, \"val\": 225.0}, {\"x\": 12, \"y\": 20, \"val\": 0.0}, {\"x\": 13, \"y\": 20, \"val\": 0.0}, {\"x\": 14, \"y\": 20, \"val\": 0.0}, {\"x\": 15, \"y\": 20, \"val\": 0.0}, {\"x\": 16, \"y\": 20, \"val\": 0.0}, {\"x\": 17, \"y\": 20, \"val\": 0.0}, {\"x\": 18, \"y\": 20, \"val\": 253.0}, {\"x\": 19, \"y\": 20, \"val\": 1.0}, {\"x\": 20, \"y\": 20, \"val\": 0.0}, {\"x\": 21, \"y\": 20, \"val\": 0.0}, {\"x\": 22, \"y\": 20, \"val\": 0.0}, {\"x\": 23, \"y\": 20, \"val\": 253.0}, {\"x\": 24, \"y\": 20, \"val\": 0.0}, {\"x\": 25, \"y\": 20, \"val\": 49.0}, {\"x\": 26, \"y\": 20, \"val\": 253.0}, {\"x\": 27, \"y\": 20, \"val\": 0.0}, {\"x\": 28, \"y\": 20, \"val\": 0.0}, {\"x\": 1, \"y\": 21, \"val\": 0.0}, {\"x\": 2, \"y\": 21, \"val\": 0.0}, {\"x\": 3, \"y\": 21, \"val\": 0.0}, {\"x\": 4, \"y\": 21, \"val\": 0.0}, {\"x\": 5, \"y\": 21, \"val\": 253.0}, {\"x\": 6, \"y\": 21, \"val\": 0.0}, {\"x\": 7, \"y\": 21, \"val\": 0.0}, {\"x\": 8, \"y\": 21, \"val\": 0.0}, {\"x\": 9, \"y\": 21, \"val\": 0.0}, {\"x\": 10, \"y\": 21, \"val\": 0.0}, {\"x\": 11, \"y\": 21, \"val\": 108.0}, {\"x\": 12, \"y\": 21, \"val\": 0.0}, {\"x\": 13, \"y\": 21, \"val\": 0.0}, {\"x\": 14, \"y\": 21, \"val\": 0.0}, {\"x\": 15, \"y\": 21, \"val\": 253.0}, {\"x\": 16, \"y\": 21, \"val\": 0.0}, {\"x\": 17, \"y\": 21, \"val\": 0.0}, {\"x\": 18, \"y\": 21, \"val\": 0.0}, {\"x\": 19, \"y\": 21, \"val\": 80.0}, {\"x\": 20, \"y\": 21, \"val\": 0.0}, {\"x\": 21, \"y\": 21, \"val\": 0.0}, {\"x\": 22, \"y\": 21, \"val\": 94.0}, {\"x\": 23, \"y\": 21, \"val\": 221.0}, {\"x\": 24, \"y\": 21, \"val\": 0.0}, {\"x\": 25, \"y\": 21, \"val\": 0.0}, {\"x\": 26, \"y\": 21, \"val\": 0.0}, {\"x\": 27, \"y\": 21, \"val\": 70.0}, {\"x\": 28, \"y\": 21, \"val\": 0.0}, {\"x\": 1, \"y\": 22, \"val\": 0.0}, {\"x\": 2, \"y\": 22, \"val\": 0.0}, {\"x\": 3, \"y\": 22, \"val\": 0.0}, {\"x\": 4, \"y\": 22, \"val\": 0.0}, {\"x\": 5, \"y\": 22, \"val\": 253.0}, {\"x\": 6, \"y\": 22, \"val\": 0.0}, {\"x\": 7, \"y\": 22, \"val\": 0.0}, {\"x\": 8, \"y\": 22, \"val\": 0.0}, {\"x\": 9, \"y\": 22, \"val\": 0.0}, {\"x\": 10, \"y\": 22, \"val\": 201.0}, {\"x\": 11, \"y\": 22, \"val\": 0.0}, {\"x\": 12, \"y\": 22, \"val\": 0.0}, {\"x\": 13, \"y\": 22, \"val\": 0.0}, {\"x\": 14, \"y\": 22, \"val\": 253.0}, {\"x\": 15, \"y\": 22, \"val\": 0.0}, {\"x\": 16, \"y\": 22, \"val\": 0.0}, {\"x\": 17, \"y\": 22, \"val\": 250.0}, {\"x\": 18, \"y\": 22, \"val\": 0.0}, {\"x\": 19, \"y\": 22, \"val\": 0.0}, {\"x\": 20, \"y\": 22, \"val\": 0.0}, {\"x\": 21, \"y\": 22, \"val\": 160.0}, {\"x\": 22, \"y\": 22, \"val\": 253.0}, {\"x\": 23, \"y\": 22, \"val\": 0.0}, {\"x\": 24, \"y\": 22, \"val\": 182.0}, {\"x\": 25, \"y\": 22, \"val\": 0.0}, {\"x\": 26, \"y\": 22, \"val\": 0.0}, {\"x\": 27, \"y\": 22, \"val\": 0.0}, {\"x\": 28, \"y\": 22, \"val\": 0.0}, {\"x\": 1, \"y\": 23, \"val\": 0.0}, {\"x\": 2, \"y\": 23, \"val\": 0.0}, {\"x\": 3, \"y\": 23, \"val\": 0.0}, {\"x\": 4, \"y\": 23, \"val\": 0.0}, {\"x\": 5, \"y\": 23, \"val\": 0.0}, {\"x\": 6, \"y\": 23, \"val\": 253.0}, {\"x\": 7, \"y\": 23, \"val\": 0.0}, {\"x\": 8, \"y\": 23, \"val\": 0.0}, {\"x\": 9, \"y\": 23, \"val\": 0.0}, {\"x\": 10, \"y\": 23, \"val\": 0.0}, {\"x\": 11, \"y\": 23, \"val\": 0.0}, {\"x\": 12, \"y\": 23, \"val\": 0.0}, {\"x\": 13, \"y\": 23, \"val\": 0.0}, {\"x\": 14, \"y\": 23, \"val\": 0.0}, {\"x\": 15, \"y\": 23, \"val\": 23.0}, {\"x\": 16, \"y\": 23, \"val\": 0.0}, {\"x\": 17, \"y\": 23, \"val\": 0.0}, {\"x\": 18, \"y\": 23, \"val\": 0.0}, {\"x\": 19, \"y\": 23, \"val\": 0.0}, {\"x\": 20, \"y\": 23, \"val\": 0.0}, {\"x\": 21, \"y\": 23, \"val\": 0.0}, {\"x\": 22, \"y\": 23, \"val\": 0.0}, {\"x\": 23, \"y\": 23, \"val\": 253.0}, {\"x\": 24, \"y\": 23, \"val\": 0.0}, {\"x\": 25, \"y\": 23, \"val\": 253.0}, {\"x\": 26, \"y\": 23, \"val\": 212.0}, {\"x\": 27, \"y\": 23, \"val\": 0.0}, {\"x\": 28, \"y\": 23, \"val\": 0.0}, {\"x\": 1, \"y\": 24, \"val\": 249.0}, {\"x\": 2, \"y\": 24, \"val\": 183.0}, {\"x\": 3, \"y\": 24, \"val\": 253.0}, {\"x\": 4, \"y\": 24, \"val\": 0.0}, {\"x\": 5, \"y\": 24, \"val\": 0.0}, {\"x\": 6, \"y\": 24, \"val\": 0.0}, {\"x\": 7, \"y\": 24, \"val\": 154.0}, {\"x\": 8, \"y\": 24, \"val\": 253.0}, {\"x\": 9, \"y\": 24, \"val\": 0.0}, {\"x\": 10, \"y\": 24, \"val\": 0.0}, {\"x\": 11, \"y\": 24, \"val\": 0.0}, {\"x\": 12, \"y\": 24, \"val\": 0.0}, {\"x\": 13, \"y\": 24, \"val\": 253.0}, {\"x\": 14, \"y\": 24, \"val\": 253.0}, {\"x\": 15, \"y\": 24, \"val\": 27.0}, {\"x\": 16, \"y\": 24, \"val\": 0.0}, {\"x\": 17, \"y\": 24, \"val\": 0.0}, {\"x\": 18, \"y\": 24, \"val\": 0.0}, {\"x\": 19, \"y\": 24, \"val\": 0.0}, {\"x\": 20, \"y\": 24, \"val\": 0.0}, {\"x\": 21, \"y\": 24, \"val\": 0.0}, {\"x\": 22, \"y\": 24, \"val\": 0.0}, {\"x\": 23, \"y\": 24, \"val\": 0.0}, {\"x\": 24, \"y\": 24, \"val\": 0.0}, {\"x\": 25, \"y\": 24, \"val\": 0.0}, {\"x\": 26, \"y\": 24, \"val\": 0.0}, {\"x\": 27, \"y\": 24, \"val\": 0.0}, {\"x\": 28, \"y\": 24, \"val\": 0.0}, {\"x\": 1, \"y\": 25, \"val\": 0.0}, {\"x\": 2, \"y\": 25, \"val\": 0.0}, {\"x\": 3, \"y\": 25, \"val\": 0.0}, {\"x\": 4, \"y\": 25, \"val\": 0.0}, {\"x\": 5, \"y\": 25, \"val\": 253.0}, {\"x\": 6, \"y\": 25, \"val\": 0.0}, {\"x\": 7, \"y\": 25, \"val\": 0.0}, {\"x\": 8, \"y\": 25, \"val\": 0.0}, {\"x\": 9, \"y\": 25, \"val\": 253.0}, {\"x\": 10, \"y\": 25, \"val\": 0.0}, {\"x\": 11, \"y\": 25, \"val\": 0.0}, {\"x\": 12, \"y\": 25, \"val\": 0.0}, {\"x\": 13, \"y\": 25, \"val\": 0.0}, {\"x\": 14, \"y\": 25, \"val\": 0.0}, {\"x\": 15, \"y\": 25, \"val\": 241.0}, {\"x\": 16, \"y\": 25, \"val\": 0.0}, {\"x\": 17, \"y\": 25, \"val\": 0.0}, {\"x\": 18, \"y\": 25, \"val\": 0.0}, {\"x\": 19, \"y\": 25, \"val\": 0.0}, {\"x\": 20, \"y\": 25, \"val\": 0.0}, {\"x\": 21, \"y\": 25, \"val\": 0.0}, {\"x\": 22, \"y\": 25, \"val\": 0.0}, {\"x\": 23, \"y\": 25, \"val\": 253.0}, {\"x\": 24, \"y\": 25, \"val\": 253.0}, {\"x\": 25, \"y\": 25, \"val\": 45.0}, {\"x\": 26, \"y\": 25, \"val\": 0.0}, {\"x\": 27, \"y\": 25, \"val\": 0.0}, {\"x\": 28, \"y\": 25, \"val\": 253.0}, {\"x\": 1, \"y\": 26, \"val\": 0.0}, {\"x\": 2, \"y\": 26, \"val\": 0.0}, {\"x\": 3, \"y\": 26, \"val\": 0.0}, {\"x\": 4, \"y\": 26, \"val\": 0.0}, {\"x\": 5, \"y\": 26, \"val\": 0.0}, {\"x\": 6, \"y\": 26, \"val\": 0.0}, {\"x\": 7, \"y\": 26, \"val\": 0.0}, {\"x\": 8, \"y\": 26, \"val\": 229.0}, {\"x\": 9, \"y\": 26, \"val\": 0.0}, {\"x\": 10, \"y\": 26, \"val\": 0.0}, {\"x\": 11, \"y\": 26, \"val\": 0.0}, {\"x\": 12, \"y\": 26, \"val\": 0.0}, {\"x\": 13, \"y\": 26, \"val\": 0.0}, {\"x\": 14, \"y\": 26, \"val\": 0.0}, {\"x\": 15, \"y\": 26, \"val\": 0.0}, {\"x\": 16, \"y\": 26, \"val\": 0.0}, {\"x\": 17, \"y\": 26, \"val\": 0.0}, {\"x\": 18, \"y\": 26, \"val\": 66.0}, {\"x\": 19, \"y\": 26, \"val\": 0.0}, {\"x\": 20, \"y\": 26, \"val\": 0.0}, {\"x\": 21, \"y\": 26, \"val\": 0.0}, {\"x\": 22, \"y\": 26, \"val\": 0.0}, {\"x\": 23, \"y\": 26, \"val\": 253.0}, {\"x\": 24, \"y\": 26, \"val\": 0.0}, {\"x\": 25, \"y\": 26, \"val\": 0.0}, {\"x\": 26, \"y\": 26, \"val\": 0.0}, {\"x\": 27, \"y\": 26, \"val\": 0.0}, {\"x\": 28, \"y\": 26, \"val\": 0.0}, {\"x\": 1, \"y\": 27, \"val\": 253.0}, {\"x\": 2, \"y\": 27, \"val\": 0.0}, {\"x\": 3, \"y\": 27, \"val\": 253.0}, {\"x\": 4, \"y\": 27, \"val\": 0.0}, {\"x\": 5, \"y\": 27, \"val\": 0.0}, {\"x\": 6, \"y\": 27, \"val\": 0.0}, {\"x\": 7, \"y\": 27, \"val\": 0.0}, {\"x\": 8, \"y\": 27, \"val\": 0.0}, {\"x\": 9, \"y\": 27, \"val\": 0.0}, {\"x\": 10, \"y\": 27, \"val\": 0.0}, {\"x\": 11, \"y\": 27, \"val\": 0.0}, {\"x\": 12, \"y\": 27, \"val\": 0.0}, {\"x\": 13, \"y\": 27, \"val\": 252.0}, {\"x\": 14, \"y\": 27, \"val\": 0.0}, {\"x\": 15, \"y\": 27, \"val\": 0.0}, {\"x\": 16, \"y\": 27, \"val\": 0.0}, {\"x\": 17, \"y\": 27, \"val\": 0.0}, {\"x\": 18, \"y\": 27, \"val\": 0.0}, {\"x\": 19, \"y\": 27, \"val\": 0.0}, {\"x\": 20, \"y\": 27, \"val\": 0.0}, {\"x\": 21, \"y\": 27, \"val\": 0.0}, {\"x\": 22, \"y\": 27, \"val\": 0.0}, {\"x\": 23, \"y\": 27, \"val\": 0.0}, {\"x\": 24, \"y\": 27, \"val\": 0.0}, {\"x\": 25, \"y\": 27, \"val\": 0.0}, {\"x\": 26, \"y\": 27, \"val\": 0.0}, {\"x\": 27, \"y\": 27, \"val\": 90.0}, {\"x\": 28, \"y\": 27, \"val\": 0.0}, {\"x\": 1, \"y\": 28, \"val\": 0.0}, {\"x\": 2, \"y\": 28, \"val\": 0.0}, {\"x\": 3, \"y\": 28, \"val\": 0.0}, {\"x\": 4, \"y\": 28, \"val\": 0.0}, {\"x\": 5, \"y\": 28, \"val\": 0.0}, {\"x\": 6, \"y\": 28, \"val\": 0.0}, {\"x\": 7, \"y\": 28, \"val\": 0.0}, {\"x\": 8, \"y\": 28, \"val\": 0.0}, {\"x\": 9, \"y\": 28, \"val\": 0.0}, {\"x\": 10, \"y\": 28, \"val\": 0.0}, {\"x\": 11, \"y\": 28, \"val\": 0.0}, {\"x\": 12, \"y\": 28, \"val\": 0.0}, {\"x\": 13, \"y\": 28, \"val\": 0.0}, {\"x\": 14, \"y\": 28, \"val\": 175.0}, {\"x\": 15, \"y\": 28, \"val\": 16.0}, {\"x\": 16, \"y\": 28, \"val\": 0.0}, {\"x\": 17, \"y\": 28, \"val\": 18.0}, {\"x\": 18, \"y\": 28, \"val\": 253.0}, {\"x\": 19, \"y\": 28, \"val\": 0.0}, {\"x\": 20, \"y\": 28, \"val\": 0.0}, {\"x\": 21, \"y\": 28, \"val\": 244.0}, {\"x\": 22, \"y\": 28, \"val\": 0.0}, {\"x\": 23, \"y\": 28, \"val\": 0.0}, {\"x\": 24, \"y\": 28, \"val\": 238.0}, {\"x\": 25, \"y\": 28, \"val\": 0.0}, {\"x\": 26, \"y\": 28, \"val\": 0.0}, {\"x\": 27, \"y\": 28, \"val\": 0.0}, {\"x\": 28, \"y\": 28, \"val\": null}]}}, {\"mode\": \"vega-lite\"});\n",
              "</script>"
            ]
          },
          "metadata": {
            "tags": []
          },
          "execution_count": 26
        }
      ]
    },
    {
      "cell_type": "code",
      "metadata": {
        "execution": {
          "iopub.execute_input": "2021-08-02T20:00:57.655436Z",
          "iopub.status.busy": "2021-08-02T20:00:57.654560Z",
          "iopub.status.idle": "2021-08-02T20:00:57.678451Z",
          "shell.execute_reply": "2021-08-02T20:00:57.679159Z"
        },
        "lines_to_next_cell": 2,
        "id": "a096bc94",
        "colab": {
          "base_uri": "https://localhost:8080/",
          "height": 642
        },
        "outputId": "b62c3a52-aa0c-4ebd-e439-1e127a3242d2"
      },
      "source": [
        "im = draw_image(4, shuffle=True)\n",
        "im"
      ],
      "id": "a096bc94",
      "execution_count": null,
      "outputs": [
        {
          "output_type": "execute_result",
          "data": {
            "text/plain": [
              "alt.Chart(...)"
            ],
            "text/html": [
              "\n",
              "<div id=\"altair-viz-00633a7aac3c41a4941d74e0920812e6\"></div>\n",
              "<script type=\"text/javascript\">\n",
              "  (function(spec, embedOpt){\n",
              "    let outputDiv = document.currentScript.previousElementSibling;\n",
              "    if (outputDiv.id !== \"altair-viz-00633a7aac3c41a4941d74e0920812e6\") {\n",
              "      outputDiv = document.getElementById(\"altair-viz-00633a7aac3c41a4941d74e0920812e6\");\n",
              "    }\n",
              "    const paths = {\n",
              "      \"vega\": \"https://cdn.jsdelivr.net/npm//vega@5?noext\",\n",
              "      \"vega-lib\": \"https://cdn.jsdelivr.net/npm//vega-lib?noext\",\n",
              "      \"vega-lite\": \"https://cdn.jsdelivr.net/npm//vega-lite@4.8.1?noext\",\n",
              "      \"vega-embed\": \"https://cdn.jsdelivr.net/npm//vega-embed@6?noext\",\n",
              "    };\n",
              "\n",
              "    function loadScript(lib) {\n",
              "      return new Promise(function(resolve, reject) {\n",
              "        var s = document.createElement('script');\n",
              "        s.src = paths[lib];\n",
              "        s.async = true;\n",
              "        s.onload = () => resolve(paths[lib]);\n",
              "        s.onerror = () => reject(`Error loading script: ${paths[lib]}`);\n",
              "        document.getElementsByTagName(\"head\")[0].appendChild(s);\n",
              "      });\n",
              "    }\n",
              "\n",
              "    function showError(err) {\n",
              "      outputDiv.innerHTML = `<div class=\"error\" style=\"color:red;\">${err}</div>`;\n",
              "      throw err;\n",
              "    }\n",
              "\n",
              "    function displayChart(vegaEmbed) {\n",
              "      vegaEmbed(outputDiv, spec, embedOpt)\n",
              "        .catch(err => showError(`Javascript Error: ${err.message}<br>This usually means there's a typo in your chart specification. See the javascript console for the full traceback.`));\n",
              "    }\n",
              "\n",
              "    if(typeof define === \"function\" && define.amd) {\n",
              "      requirejs.config({paths});\n",
              "      require([\"vega-embed\"], displayChart, err => showError(`Error loading script: ${err.message}`));\n",
              "    } else if (typeof vegaEmbed === \"function\") {\n",
              "      displayChart(vegaEmbed);\n",
              "    } else {\n",
              "      loadScript(\"vega\")\n",
              "        .then(() => loadScript(\"vega-lite\"))\n",
              "        .then(() => loadScript(\"vega-embed\"))\n",
              "        .catch(showError)\n",
              "        .then(() => displayChart(vegaEmbed));\n",
              "    }\n",
              "  })({\"config\": {\"view\": {\"continuousWidth\": 400, \"continuousHeight\": 300}}, \"data\": {\"name\": \"data-e58d5cd03cb4fc1b859576e5aa441312\"}, \"mark\": \"rect\", \"encoding\": {\"color\": {\"type\": \"quantitative\", \"field\": \"val\"}, \"fill\": {\"type\": \"quantitative\", \"field\": \"val\"}, \"tooltip\": [{\"type\": \"quantitative\", \"field\": \"x\"}, {\"type\": \"quantitative\", \"field\": \"y\"}, {\"type\": \"quantitative\", \"field\": \"val\"}], \"x\": {\"type\": \"ordinal\", \"field\": \"x\"}, \"y\": {\"type\": \"ordinal\", \"field\": \"y\"}}, \"title\": \"Shuffled Image of a 9\", \"$schema\": \"https://vega.github.io/schema/vega-lite/v4.8.1.json\", \"datasets\": {\"data-e58d5cd03cb4fc1b859576e5aa441312\": [{\"x\": 1, \"y\": 1, \"val\": 0.0}, {\"x\": 2, \"y\": 1, \"val\": 0.0}, {\"x\": 3, \"y\": 1, \"val\": 0.0}, {\"x\": 4, \"y\": 1, \"val\": 0.0}, {\"x\": 5, \"y\": 1, \"val\": 201.0}, {\"x\": 6, \"y\": 1, \"val\": 0.0}, {\"x\": 7, \"y\": 1, \"val\": 0.0}, {\"x\": 8, \"y\": 1, \"val\": 0.0}, {\"x\": 9, \"y\": 1, \"val\": 0.0}, {\"x\": 10, \"y\": 1, \"val\": 0.0}, {\"x\": 11, \"y\": 1, \"val\": 0.0}, {\"x\": 12, \"y\": 1, \"val\": 0.0}, {\"x\": 13, \"y\": 1, \"val\": 0.0}, {\"x\": 14, \"y\": 1, \"val\": 0.0}, {\"x\": 15, \"y\": 1, \"val\": 0.0}, {\"x\": 16, \"y\": 1, \"val\": 253.0}, {\"x\": 17, \"y\": 1, \"val\": 0.0}, {\"x\": 18, \"y\": 1, \"val\": 0.0}, {\"x\": 19, \"y\": 1, \"val\": 0.0}, {\"x\": 20, \"y\": 1, \"val\": 0.0}, {\"x\": 21, \"y\": 1, \"val\": 0.0}, {\"x\": 22, \"y\": 1, \"val\": 0.0}, {\"x\": 23, \"y\": 1, \"val\": 0.0}, {\"x\": 24, \"y\": 1, \"val\": 0.0}, {\"x\": 25, \"y\": 1, \"val\": 0.0}, {\"x\": 26, \"y\": 1, \"val\": 14.0}, {\"x\": 27, \"y\": 1, \"val\": 0.0}, {\"x\": 28, \"y\": 1, \"val\": 0.0}, {\"x\": 1, \"y\": 2, \"val\": 146.0}, {\"x\": 2, \"y\": 2, \"val\": 253.0}, {\"x\": 3, \"y\": 2, \"val\": 0.0}, {\"x\": 4, \"y\": 2, \"val\": 0.0}, {\"x\": 5, \"y\": 2, \"val\": 0.0}, {\"x\": 6, \"y\": 2, \"val\": 0.0}, {\"x\": 7, \"y\": 2, \"val\": 0.0}, {\"x\": 8, \"y\": 2, \"val\": 0.0}, {\"x\": 9, \"y\": 2, \"val\": 0.0}, {\"x\": 10, \"y\": 2, \"val\": 0.0}, {\"x\": 11, \"y\": 2, \"val\": 231.0}, {\"x\": 12, \"y\": 2, \"val\": 0.0}, {\"x\": 13, \"y\": 2, \"val\": 0.0}, {\"x\": 14, \"y\": 2, \"val\": 0.0}, {\"x\": 15, \"y\": 2, \"val\": 0.0}, {\"x\": 16, \"y\": 2, \"val\": 0.0}, {\"x\": 17, \"y\": 2, \"val\": 0.0}, {\"x\": 18, \"y\": 2, \"val\": 0.0}, {\"x\": 19, \"y\": 2, \"val\": 0.0}, {\"x\": 20, \"y\": 2, \"val\": 0.0}, {\"x\": 21, \"y\": 2, \"val\": 0.0}, {\"x\": 22, \"y\": 2, \"val\": 0.0}, {\"x\": 23, \"y\": 2, \"val\": 11.0}, {\"x\": 24, \"y\": 2, \"val\": 0.0}, {\"x\": 25, \"y\": 2, \"val\": 0.0}, {\"x\": 26, \"y\": 2, \"val\": 0.0}, {\"x\": 27, \"y\": 2, \"val\": 0.0}, {\"x\": 28, \"y\": 2, \"val\": 0.0}, {\"x\": 1, \"y\": 3, \"val\": 0.0}, {\"x\": 2, \"y\": 3, \"val\": 79.0}, {\"x\": 3, \"y\": 3, \"val\": 176.0}, {\"x\": 4, \"y\": 3, \"val\": 0.0}, {\"x\": 5, \"y\": 3, \"val\": 0.0}, {\"x\": 6, \"y\": 3, \"val\": 0.0}, {\"x\": 7, \"y\": 3, \"val\": 0.0}, {\"x\": 8, \"y\": 3, \"val\": 0.0}, {\"x\": 9, \"y\": 3, \"val\": 0.0}, {\"x\": 10, \"y\": 3, \"val\": 0.0}, {\"x\": 11, \"y\": 3, \"val\": 0.0}, {\"x\": 12, \"y\": 3, \"val\": 0.0}, {\"x\": 13, \"y\": 3, \"val\": 0.0}, {\"x\": 14, \"y\": 3, \"val\": 0.0}, {\"x\": 15, \"y\": 3, \"val\": 0.0}, {\"x\": 16, \"y\": 3, \"val\": 0.0}, {\"x\": 17, \"y\": 3, \"val\": 0.0}, {\"x\": 18, \"y\": 3, \"val\": 245.0}, {\"x\": 19, \"y\": 3, \"val\": 0.0}, {\"x\": 20, \"y\": 3, \"val\": 0.0}, {\"x\": 21, \"y\": 3, \"val\": 92.0}, {\"x\": 22, \"y\": 3, \"val\": 0.0}, {\"x\": 23, \"y\": 3, \"val\": 0.0}, {\"x\": 24, \"y\": 3, \"val\": 0.0}, {\"x\": 25, \"y\": 3, \"val\": 0.0}, {\"x\": 26, \"y\": 3, \"val\": 0.0}, {\"x\": 27, \"y\": 3, \"val\": 0.0}, {\"x\": 28, \"y\": 3, \"val\": 116.0}, {\"x\": 1, \"y\": 4, \"val\": 0.0}, {\"x\": 2, \"y\": 4, \"val\": 0.0}, {\"x\": 3, \"y\": 4, \"val\": 0.0}, {\"x\": 4, \"y\": 4, \"val\": 0.0}, {\"x\": 5, \"y\": 4, \"val\": 0.0}, {\"x\": 6, \"y\": 4, \"val\": 0.0}, {\"x\": 7, \"y\": 4, \"val\": 253.0}, {\"x\": 8, \"y\": 4, \"val\": 16.0}, {\"x\": 9, \"y\": 4, \"val\": 0.0}, {\"x\": 10, \"y\": 4, \"val\": 0.0}, {\"x\": 11, \"y\": 4, \"val\": 0.0}, {\"x\": 12, \"y\": 4, \"val\": 0.0}, {\"x\": 13, \"y\": 4, \"val\": 235.0}, {\"x\": 14, \"y\": 4, \"val\": 11.0}, {\"x\": 15, \"y\": 4, \"val\": 253.0}, {\"x\": 16, \"y\": 4, \"val\": 0.0}, {\"x\": 17, \"y\": 4, \"val\": 0.0}, {\"x\": 18, \"y\": 4, \"val\": 0.0}, {\"x\": 19, \"y\": 4, \"val\": 0.0}, {\"x\": 20, \"y\": 4, \"val\": 0.0}, {\"x\": 21, \"y\": 4, \"val\": 0.0}, {\"x\": 22, \"y\": 4, \"val\": 253.0}, {\"x\": 23, \"y\": 4, \"val\": 0.0}, {\"x\": 24, \"y\": 4, \"val\": 0.0}, {\"x\": 25, \"y\": 4, \"val\": 0.0}, {\"x\": 26, \"y\": 4, \"val\": 0.0}, {\"x\": 27, \"y\": 4, \"val\": 0.0}, {\"x\": 28, \"y\": 4, \"val\": 0.0}, {\"x\": 1, \"y\": 5, \"val\": 0.0}, {\"x\": 2, \"y\": 5, \"val\": 109.0}, {\"x\": 3, \"y\": 5, \"val\": 0.0}, {\"x\": 4, \"y\": 5, \"val\": 0.0}, {\"x\": 5, \"y\": 5, \"val\": 0.0}, {\"x\": 6, \"y\": 5, \"val\": 0.0}, {\"x\": 7, \"y\": 5, \"val\": 0.0}, {\"x\": 8, \"y\": 5, \"val\": 0.0}, {\"x\": 9, \"y\": 5, \"val\": 0.0}, {\"x\": 10, \"y\": 5, \"val\": 0.0}, {\"x\": 11, \"y\": 5, \"val\": 0.0}, {\"x\": 12, \"y\": 5, \"val\": 0.0}, {\"x\": 13, \"y\": 5, \"val\": 0.0}, {\"x\": 14, \"y\": 5, \"val\": 252.0}, {\"x\": 15, \"y\": 5, \"val\": 252.0}, {\"x\": 16, \"y\": 5, \"val\": 0.0}, {\"x\": 17, \"y\": 5, \"val\": 0.0}, {\"x\": 18, \"y\": 5, \"val\": 0.0}, {\"x\": 19, \"y\": 5, \"val\": 87.0}, {\"x\": 20, \"y\": 5, \"val\": 0.0}, {\"x\": 21, \"y\": 5, \"val\": 190.0}, {\"x\": 22, \"y\": 5, \"val\": 0.0}, {\"x\": 23, \"y\": 5, \"val\": 0.0}, {\"x\": 24, \"y\": 5, \"val\": 0.0}, {\"x\": 25, \"y\": 5, \"val\": 0.0}, {\"x\": 26, \"y\": 5, \"val\": 0.0}, {\"x\": 27, \"y\": 5, \"val\": 252.0}, {\"x\": 28, \"y\": 5, \"val\": 0.0}, {\"x\": 1, \"y\": 6, \"val\": 0.0}, {\"x\": 2, \"y\": 6, \"val\": 0.0}, {\"x\": 3, \"y\": 6, \"val\": 55.0}, {\"x\": 4, \"y\": 6, \"val\": 0.0}, {\"x\": 5, \"y\": 6, \"val\": 0.0}, {\"x\": 6, \"y\": 6, \"val\": 24.0}, {\"x\": 7, \"y\": 6, \"val\": 0.0}, {\"x\": 8, \"y\": 6, \"val\": 0.0}, {\"x\": 9, \"y\": 6, \"val\": 0.0}, {\"x\": 10, \"y\": 6, \"val\": 0.0}, {\"x\": 11, \"y\": 6, \"val\": 0.0}, {\"x\": 12, \"y\": 6, \"val\": 0.0}, {\"x\": 13, \"y\": 6, \"val\": 0.0}, {\"x\": 14, \"y\": 6, \"val\": 0.0}, {\"x\": 15, \"y\": 6, \"val\": 215.0}, {\"x\": 16, \"y\": 6, \"val\": 0.0}, {\"x\": 17, \"y\": 6, \"val\": 21.0}, {\"x\": 18, \"y\": 6, \"val\": 0.0}, {\"x\": 19, \"y\": 6, \"val\": 0.0}, {\"x\": 20, \"y\": 6, \"val\": 0.0}, {\"x\": 21, \"y\": 6, \"val\": 0.0}, {\"x\": 22, \"y\": 6, \"val\": 0.0}, {\"x\": 23, \"y\": 6, \"val\": 0.0}, {\"x\": 24, \"y\": 6, \"val\": 0.0}, {\"x\": 25, \"y\": 6, \"val\": 0.0}, {\"x\": 26, \"y\": 6, \"val\": 252.0}, {\"x\": 27, \"y\": 6, \"val\": 0.0}, {\"x\": 28, \"y\": 6, \"val\": 0.0}, {\"x\": 1, \"y\": 7, \"val\": 0.0}, {\"x\": 2, \"y\": 7, \"val\": 0.0}, {\"x\": 3, \"y\": 7, \"val\": 0.0}, {\"x\": 4, \"y\": 7, \"val\": 0.0}, {\"x\": 5, \"y\": 7, \"val\": 0.0}, {\"x\": 6, \"y\": 7, \"val\": 21.0}, {\"x\": 7, \"y\": 7, \"val\": 0.0}, {\"x\": 8, \"y\": 7, \"val\": 0.0}, {\"x\": 9, \"y\": 7, \"val\": 0.0}, {\"x\": 10, \"y\": 7, \"val\": 0.0}, {\"x\": 11, \"y\": 7, \"val\": 0.0}, {\"x\": 12, \"y\": 7, \"val\": 0.0}, {\"x\": 13, \"y\": 7, \"val\": 252.0}, {\"x\": 14, \"y\": 7, \"val\": 0.0}, {\"x\": 15, \"y\": 7, \"val\": 0.0}, {\"x\": 16, \"y\": 7, \"val\": 0.0}, {\"x\": 17, \"y\": 7, \"val\": 30.0}, {\"x\": 18, \"y\": 7, \"val\": 0.0}, {\"x\": 19, \"y\": 7, \"val\": 0.0}, {\"x\": 20, \"y\": 7, \"val\": 0.0}, {\"x\": 21, \"y\": 7, \"val\": 0.0}, {\"x\": 22, \"y\": 7, \"val\": 0.0}, {\"x\": 23, \"y\": 7, \"val\": 0.0}, {\"x\": 24, \"y\": 7, \"val\": 16.0}, {\"x\": 25, \"y\": 7, \"val\": 0.0}, {\"x\": 26, \"y\": 7, \"val\": 0.0}, {\"x\": 27, \"y\": 7, \"val\": 0.0}, {\"x\": 28, \"y\": 7, \"val\": 0.0}, {\"x\": 1, \"y\": 8, \"val\": 0.0}, {\"x\": 2, \"y\": 8, \"val\": 253.0}, {\"x\": 3, \"y\": 8, \"val\": 0.0}, {\"x\": 4, \"y\": 8, \"val\": 0.0}, {\"x\": 5, \"y\": 8, \"val\": 0.0}, {\"x\": 6, \"y\": 8, \"val\": 189.0}, {\"x\": 7, \"y\": 8, \"val\": 0.0}, {\"x\": 8, \"y\": 8, \"val\": 0.0}, {\"x\": 9, \"y\": 8, \"val\": 0.0}, {\"x\": 10, \"y\": 8, \"val\": 0.0}, {\"x\": 11, \"y\": 8, \"val\": 0.0}, {\"x\": 12, \"y\": 8, \"val\": 210.0}, {\"x\": 13, \"y\": 8, \"val\": 0.0}, {\"x\": 14, \"y\": 8, \"val\": 0.0}, {\"x\": 15, \"y\": 8, \"val\": 0.0}, {\"x\": 16, \"y\": 8, \"val\": 0.0}, {\"x\": 17, \"y\": 8, \"val\": 0.0}, {\"x\": 18, \"y\": 8, \"val\": 0.0}, {\"x\": 19, \"y\": 8, \"val\": 0.0}, {\"x\": 20, \"y\": 8, \"val\": 0.0}, {\"x\": 21, \"y\": 8, \"val\": 57.0}, {\"x\": 22, \"y\": 8, \"val\": 0.0}, {\"x\": 23, \"y\": 8, \"val\": 0.0}, {\"x\": 24, \"y\": 8, \"val\": 0.0}, {\"x\": 25, \"y\": 8, \"val\": 0.0}, {\"x\": 26, \"y\": 8, \"val\": 0.0}, {\"x\": 27, \"y\": 8, \"val\": 0.0}, {\"x\": 28, \"y\": 8, \"val\": 0.0}, {\"x\": 1, \"y\": 9, \"val\": 0.0}, {\"x\": 2, \"y\": 9, \"val\": 0.0}, {\"x\": 3, \"y\": 9, \"val\": 0.0}, {\"x\": 4, \"y\": 9, \"val\": 0.0}, {\"x\": 5, \"y\": 9, \"val\": 0.0}, {\"x\": 6, \"y\": 9, \"val\": 0.0}, {\"x\": 7, \"y\": 9, \"val\": 0.0}, {\"x\": 8, \"y\": 9, \"val\": 0.0}, {\"x\": 9, \"y\": 9, \"val\": 0.0}, {\"x\": 10, \"y\": 9, \"val\": 0.0}, {\"x\": 11, \"y\": 9, \"val\": 0.0}, {\"x\": 12, \"y\": 9, \"val\": 0.0}, {\"x\": 13, \"y\": 9, \"val\": 0.0}, {\"x\": 14, \"y\": 9, \"val\": 0.0}, {\"x\": 15, \"y\": 9, \"val\": 252.0}, {\"x\": 16, \"y\": 9, \"val\": 0.0}, {\"x\": 17, \"y\": 9, \"val\": 0.0}, {\"x\": 18, \"y\": 9, \"val\": 0.0}, {\"x\": 19, \"y\": 9, \"val\": 0.0}, {\"x\": 20, \"y\": 9, \"val\": 0.0}, {\"x\": 21, \"y\": 9, \"val\": 0.0}, {\"x\": 22, \"y\": 9, \"val\": 0.0}, {\"x\": 23, \"y\": 9, \"val\": 0.0}, {\"x\": 24, \"y\": 9, \"val\": 0.0}, {\"x\": 25, \"y\": 9, \"val\": 0.0}, {\"x\": 26, \"y\": 9, \"val\": 255.0}, {\"x\": 27, \"y\": 9, \"val\": 21.0}, {\"x\": 28, \"y\": 9, \"val\": 42.0}, {\"x\": 1, \"y\": 10, \"val\": 0.0}, {\"x\": 2, \"y\": 10, \"val\": 0.0}, {\"x\": 3, \"y\": 10, \"val\": 0.0}, {\"x\": 4, \"y\": 10, \"val\": 252.0}, {\"x\": 5, \"y\": 10, \"val\": 0.0}, {\"x\": 6, \"y\": 10, \"val\": 0.0}, {\"x\": 7, \"y\": 10, \"val\": 0.0}, {\"x\": 8, \"y\": 10, \"val\": 65.0}, {\"x\": 9, \"y\": 10, \"val\": 0.0}, {\"x\": 10, \"y\": 10, \"val\": 5.0}, {\"x\": 11, \"y\": 10, \"val\": 0.0}, {\"x\": 12, \"y\": 10, \"val\": 0.0}, {\"x\": 13, \"y\": 10, \"val\": 0.0}, {\"x\": 14, \"y\": 10, \"val\": 0.0}, {\"x\": 15, \"y\": 10, \"val\": 0.0}, {\"x\": 16, \"y\": 10, \"val\": 0.0}, {\"x\": 17, \"y\": 10, \"val\": 14.0}, {\"x\": 18, \"y\": 10, \"val\": 0.0}, {\"x\": 19, \"y\": 10, \"val\": 0.0}, {\"x\": 20, \"y\": 10, \"val\": 0.0}, {\"x\": 21, \"y\": 10, \"val\": 0.0}, {\"x\": 22, \"y\": 10, \"val\": 0.0}, {\"x\": 23, \"y\": 10, \"val\": 252.0}, {\"x\": 24, \"y\": 10, \"val\": 0.0}, {\"x\": 25, \"y\": 10, \"val\": 0.0}, {\"x\": 26, \"y\": 10, \"val\": 0.0}, {\"x\": 27, \"y\": 10, \"val\": 0.0}, {\"x\": 28, \"y\": 10, \"val\": 0.0}, {\"x\": 1, \"y\": 11, \"val\": 0.0}, {\"x\": 2, \"y\": 11, \"val\": 0.0}, {\"x\": 3, \"y\": 11, \"val\": 0.0}, {\"x\": 4, \"y\": 11, \"val\": 9.0}, {\"x\": 5, \"y\": 11, \"val\": 0.0}, {\"x\": 6, \"y\": 11, \"val\": 0.0}, {\"x\": 7, \"y\": 11, \"val\": 0.0}, {\"x\": 8, \"y\": 11, \"val\": 0.0}, {\"x\": 9, \"y\": 11, \"val\": 0.0}, {\"x\": 10, \"y\": 11, \"val\": 0.0}, {\"x\": 11, \"y\": 11, \"val\": 0.0}, {\"x\": 12, \"y\": 11, \"val\": 0.0}, {\"x\": 13, \"y\": 11, \"val\": 0.0}, {\"x\": 14, \"y\": 11, \"val\": 0.0}, {\"x\": 15, \"y\": 11, \"val\": 0.0}, {\"x\": 16, \"y\": 11, \"val\": 0.0}, {\"x\": 17, \"y\": 11, \"val\": 0.0}, {\"x\": 18, \"y\": 11, \"val\": 0.0}, {\"x\": 19, \"y\": 11, \"val\": 0.0}, {\"x\": 20, \"y\": 11, \"val\": 0.0}, {\"x\": 21, \"y\": 11, \"val\": 253.0}, {\"x\": 22, \"y\": 11, \"val\": 0.0}, {\"x\": 23, \"y\": 11, \"val\": 0.0}, {\"x\": 24, \"y\": 11, \"val\": 0.0}, {\"x\": 25, \"y\": 11, \"val\": 0.0}, {\"x\": 26, \"y\": 11, \"val\": 0.0}, {\"x\": 27, \"y\": 11, \"val\": 45.0}, {\"x\": 28, \"y\": 11, \"val\": 0.0}, {\"x\": 1, \"y\": 12, \"val\": 0.0}, {\"x\": 2, \"y\": 12, \"val\": 0.0}, {\"x\": 3, \"y\": 12, \"val\": 0.0}, {\"x\": 4, \"y\": 12, \"val\": 0.0}, {\"x\": 5, \"y\": 12, \"val\": 0.0}, {\"x\": 6, \"y\": 12, \"val\": 0.0}, {\"x\": 7, \"y\": 12, \"val\": 252.0}, {\"x\": 8, \"y\": 12, \"val\": 0.0}, {\"x\": 9, \"y\": 12, \"val\": 78.0}, {\"x\": 10, \"y\": 12, \"val\": 0.0}, {\"x\": 11, \"y\": 12, \"val\": 0.0}, {\"x\": 12, \"y\": 12, \"val\": 0.0}, {\"x\": 13, \"y\": 12, \"val\": 0.0}, {\"x\": 14, \"y\": 12, \"val\": 0.0}, {\"x\": 15, \"y\": 12, \"val\": 0.0}, {\"x\": 16, \"y\": 12, \"val\": 0.0}, {\"x\": 17, \"y\": 12, \"val\": 21.0}, {\"x\": 18, \"y\": 12, \"val\": 189.0}, {\"x\": 19, \"y\": 12, \"val\": 0.0}, {\"x\": 20, \"y\": 12, \"val\": 0.0}, {\"x\": 21, \"y\": 12, \"val\": 0.0}, {\"x\": 22, \"y\": 12, \"val\": 0.0}, {\"x\": 23, \"y\": 12, \"val\": 0.0}, {\"x\": 24, \"y\": 12, \"val\": 0.0}, {\"x\": 25, \"y\": 12, \"val\": 0.0}, {\"x\": 26, \"y\": 12, \"val\": 242.0}, {\"x\": 27, \"y\": 12, \"val\": 0.0}, {\"x\": 28, \"y\": 12, \"val\": 0.0}, {\"x\": 1, \"y\": 13, \"val\": 0.0}, {\"x\": 2, \"y\": 13, \"val\": 0.0}, {\"x\": 3, \"y\": 13, \"val\": 0.0}, {\"x\": 4, \"y\": 13, \"val\": 225.0}, {\"x\": 5, \"y\": 13, \"val\": 0.0}, {\"x\": 6, \"y\": 13, \"val\": 0.0}, {\"x\": 7, \"y\": 13, \"val\": 96.0}, {\"x\": 8, \"y\": 13, \"val\": 0.0}, {\"x\": 9, \"y\": 13, \"val\": 0.0}, {\"x\": 10, \"y\": 13, \"val\": 0.0}, {\"x\": 11, \"y\": 13, \"val\": 0.0}, {\"x\": 12, \"y\": 13, \"val\": 0.0}, {\"x\": 13, \"y\": 13, \"val\": 0.0}, {\"x\": 14, \"y\": 13, \"val\": 148.0}, {\"x\": 15, \"y\": 13, \"val\": 0.0}, {\"x\": 16, \"y\": 13, \"val\": 0.0}, {\"x\": 17, \"y\": 13, \"val\": 0.0}, {\"x\": 18, \"y\": 13, \"val\": 0.0}, {\"x\": 19, \"y\": 13, \"val\": 0.0}, {\"x\": 20, \"y\": 13, \"val\": 0.0}, {\"x\": 21, \"y\": 13, \"val\": 12.0}, {\"x\": 22, \"y\": 13, \"val\": 252.0}, {\"x\": 23, \"y\": 13, \"val\": 0.0}, {\"x\": 24, \"y\": 13, \"val\": 182.0}, {\"x\": 25, \"y\": 13, \"val\": 0.0}, {\"x\": 26, \"y\": 13, \"val\": 0.0}, {\"x\": 27, \"y\": 13, \"val\": 0.0}, {\"x\": 28, \"y\": 13, \"val\": 0.0}, {\"x\": 1, \"y\": 14, \"val\": 0.0}, {\"x\": 2, \"y\": 14, \"val\": 0.0}, {\"x\": 3, \"y\": 14, \"val\": 0.0}, {\"x\": 4, \"y\": 14, \"val\": 0.0}, {\"x\": 5, \"y\": 14, \"val\": 0.0}, {\"x\": 6, \"y\": 14, \"val\": 0.0}, {\"x\": 7, \"y\": 14, \"val\": 0.0}, {\"x\": 8, \"y\": 14, \"val\": 0.0}, {\"x\": 9, \"y\": 14, \"val\": 0.0}, {\"x\": 10, \"y\": 14, \"val\": 4.0}, {\"x\": 11, \"y\": 14, \"val\": 0.0}, {\"x\": 12, \"y\": 14, \"val\": 0.0}, {\"x\": 13, \"y\": 14, \"val\": 0.0}, {\"x\": 14, \"y\": 14, \"val\": 22.0}, {\"x\": 15, \"y\": 14, \"val\": 0.0}, {\"x\": 16, \"y\": 14, \"val\": 253.0}, {\"x\": 17, \"y\": 14, \"val\": 0.0}, {\"x\": 18, \"y\": 14, \"val\": 0.0}, {\"x\": 19, \"y\": 14, \"val\": 0.0}, {\"x\": 20, \"y\": 14, \"val\": 0.0}, {\"x\": 21, \"y\": 14, \"val\": 119.0}, {\"x\": 22, \"y\": 14, \"val\": 0.0}, {\"x\": 23, \"y\": 14, \"val\": 0.0}, {\"x\": 24, \"y\": 14, \"val\": 0.0}, {\"x\": 25, \"y\": 14, \"val\": 0.0}, {\"x\": 26, \"y\": 14, \"val\": 0.0}, {\"x\": 27, \"y\": 14, \"val\": 0.0}, {\"x\": 28, \"y\": 14, \"val\": 0.0}, {\"x\": 1, \"y\": 15, \"val\": 0.0}, {\"x\": 2, \"y\": 15, \"val\": 0.0}, {\"x\": 3, \"y\": 15, \"val\": 0.0}, {\"x\": 4, \"y\": 15, \"val\": 170.0}, {\"x\": 5, \"y\": 15, \"val\": 0.0}, {\"x\": 6, \"y\": 15, \"val\": 0.0}, {\"x\": 7, \"y\": 15, \"val\": 0.0}, {\"x\": 8, \"y\": 15, \"val\": 21.0}, {\"x\": 9, \"y\": 15, \"val\": 0.0}, {\"x\": 10, \"y\": 15, \"val\": 252.0}, {\"x\": 11, \"y\": 15, \"val\": 0.0}, {\"x\": 12, \"y\": 15, \"val\": 0.0}, {\"x\": 13, \"y\": 15, \"val\": 0.0}, {\"x\": 14, \"y\": 15, \"val\": 0.0}, {\"x\": 15, \"y\": 15, \"val\": 0.0}, {\"x\": 16, \"y\": 15, \"val\": 0.0}, {\"x\": 17, \"y\": 15, \"val\": 253.0}, {\"x\": 18, \"y\": 15, \"val\": 113.0}, {\"x\": 19, \"y\": 15, \"val\": 0.0}, {\"x\": 20, \"y\": 15, \"val\": 0.0}, {\"x\": 21, \"y\": 15, \"val\": 0.0}, {\"x\": 22, \"y\": 15, \"val\": 0.0}, {\"x\": 23, \"y\": 15, \"val\": 0.0}, {\"x\": 24, \"y\": 15, \"val\": 0.0}, {\"x\": 25, \"y\": 15, \"val\": 143.0}, {\"x\": 26, \"y\": 15, \"val\": 0.0}, {\"x\": 27, \"y\": 15, \"val\": 0.0}, {\"x\": 28, \"y\": 15, \"val\": 0.0}, {\"x\": 1, \"y\": 16, \"val\": 0.0}, {\"x\": 2, \"y\": 16, \"val\": 0.0}, {\"x\": 3, \"y\": 16, \"val\": 56.0}, {\"x\": 4, \"y\": 16, \"val\": 0.0}, {\"x\": 5, \"y\": 16, \"val\": 252.0}, {\"x\": 6, \"y\": 16, \"val\": 0.0}, {\"x\": 7, \"y\": 16, \"val\": 0.0}, {\"x\": 8, \"y\": 16, \"val\": 0.0}, {\"x\": 9, \"y\": 16, \"val\": 0.0}, {\"x\": 10, \"y\": 16, \"val\": 0.0}, {\"x\": 11, \"y\": 16, \"val\": 0.0}, {\"x\": 12, \"y\": 16, \"val\": 0.0}, {\"x\": 13, \"y\": 16, \"val\": 0.0}, {\"x\": 14, \"y\": 16, \"val\": 0.0}, {\"x\": 15, \"y\": 16, \"val\": 0.0}, {\"x\": 16, \"y\": 16, \"val\": 0.0}, {\"x\": 17, \"y\": 16, \"val\": 0.0}, {\"x\": 18, \"y\": 16, \"val\": 0.0}, {\"x\": 19, \"y\": 16, \"val\": 0.0}, {\"x\": 20, \"y\": 16, \"val\": 0.0}, {\"x\": 21, \"y\": 16, \"val\": 0.0}, {\"x\": 22, \"y\": 16, \"val\": 0.0}, {\"x\": 23, \"y\": 16, \"val\": 241.0}, {\"x\": 24, \"y\": 16, \"val\": 0.0}, {\"x\": 25, \"y\": 16, \"val\": 0.0}, {\"x\": 26, \"y\": 16, \"val\": 0.0}, {\"x\": 27, \"y\": 16, \"val\": 0.0}, {\"x\": 28, \"y\": 16, \"val\": 0.0}, {\"x\": 1, \"y\": 17, \"val\": 0.0}, {\"x\": 2, \"y\": 17, \"val\": 0.0}, {\"x\": 3, \"y\": 17, \"val\": 0.0}, {\"x\": 4, \"y\": 17, \"val\": 0.0}, {\"x\": 5, \"y\": 17, \"val\": 0.0}, {\"x\": 6, \"y\": 17, \"val\": 0.0}, {\"x\": 7, \"y\": 17, \"val\": 0.0}, {\"x\": 8, \"y\": 17, \"val\": 0.0}, {\"x\": 9, \"y\": 17, \"val\": 0.0}, {\"x\": 10, \"y\": 17, \"val\": 0.0}, {\"x\": 11, \"y\": 17, \"val\": 0.0}, {\"x\": 12, \"y\": 17, \"val\": 0.0}, {\"x\": 13, \"y\": 17, \"val\": 0.0}, {\"x\": 14, \"y\": 17, \"val\": 253.0}, {\"x\": 15, \"y\": 17, \"val\": 0.0}, {\"x\": 16, \"y\": 17, \"val\": 0.0}, {\"x\": 17, \"y\": 17, \"val\": 0.0}, {\"x\": 18, \"y\": 17, \"val\": 0.0}, {\"x\": 19, \"y\": 17, \"val\": 252.0}, {\"x\": 20, \"y\": 17, \"val\": 0.0}, {\"x\": 21, \"y\": 17, \"val\": 0.0}, {\"x\": 22, \"y\": 17, \"val\": 0.0}, {\"x\": 23, \"y\": 17, \"val\": 0.0}, {\"x\": 24, \"y\": 17, \"val\": 0.0}, {\"x\": 25, \"y\": 17, \"val\": 0.0}, {\"x\": 26, \"y\": 17, \"val\": 252.0}, {\"x\": 27, \"y\": 17, \"val\": 0.0}, {\"x\": 28, \"y\": 17, \"val\": 0.0}, {\"x\": 1, \"y\": 18, \"val\": 0.0}, {\"x\": 2, \"y\": 18, \"val\": 0.0}, {\"x\": 3, \"y\": 18, \"val\": 71.0}, {\"x\": 4, \"y\": 18, \"val\": 0.0}, {\"x\": 5, \"y\": 18, \"val\": 0.0}, {\"x\": 6, \"y\": 18, \"val\": 252.0}, {\"x\": 7, \"y\": 18, \"val\": 0.0}, {\"x\": 8, \"y\": 18, \"val\": 62.0}, {\"x\": 9, \"y\": 18, \"val\": 0.0}, {\"x\": 10, \"y\": 18, \"val\": 0.0}, {\"x\": 11, \"y\": 18, \"val\": 252.0}, {\"x\": 12, \"y\": 18, \"val\": 0.0}, {\"x\": 13, \"y\": 18, \"val\": 0.0}, {\"x\": 14, \"y\": 18, \"val\": 0.0}, {\"x\": 15, \"y\": 18, \"val\": 0.0}, {\"x\": 16, \"y\": 18, \"val\": 0.0}, {\"x\": 17, \"y\": 18, \"val\": 0.0}, {\"x\": 18, \"y\": 18, \"val\": 0.0}, {\"x\": 19, \"y\": 18, \"val\": 0.0}, {\"x\": 20, \"y\": 18, \"val\": 0.0}, {\"x\": 21, \"y\": 18, \"val\": 0.0}, {\"x\": 22, \"y\": 18, \"val\": 0.0}, {\"x\": 23, \"y\": 18, \"val\": 0.0}, {\"x\": 24, \"y\": 18, \"val\": 0.0}, {\"x\": 25, \"y\": 18, \"val\": 0.0}, {\"x\": 26, \"y\": 18, \"val\": 0.0}, {\"x\": 27, \"y\": 18, \"val\": 0.0}, {\"x\": 28, \"y\": 18, \"val\": 0.0}, {\"x\": 1, \"y\": 19, \"val\": 0.0}, {\"x\": 2, \"y\": 19, \"val\": 0.0}, {\"x\": 3, \"y\": 19, \"val\": 0.0}, {\"x\": 4, \"y\": 19, \"val\": 0.0}, {\"x\": 5, \"y\": 19, \"val\": 0.0}, {\"x\": 6, \"y\": 19, \"val\": 0.0}, {\"x\": 7, \"y\": 19, \"val\": 0.0}, {\"x\": 8, \"y\": 19, \"val\": 218.0}, {\"x\": 9, \"y\": 19, \"val\": 0.0}, {\"x\": 10, \"y\": 19, \"val\": 252.0}, {\"x\": 11, \"y\": 19, \"val\": 0.0}, {\"x\": 12, \"y\": 19, \"val\": 0.0}, {\"x\": 13, \"y\": 19, \"val\": 0.0}, {\"x\": 14, \"y\": 19, \"val\": 0.0}, {\"x\": 15, \"y\": 19, \"val\": 0.0}, {\"x\": 16, \"y\": 19, \"val\": 0.0}, {\"x\": 17, \"y\": 19, \"val\": 77.0}, {\"x\": 18, \"y\": 19, \"val\": 0.0}, {\"x\": 19, \"y\": 19, \"val\": 0.0}, {\"x\": 20, \"y\": 19, \"val\": 0.0}, {\"x\": 21, \"y\": 19, \"val\": 0.0}, {\"x\": 22, \"y\": 19, \"val\": 0.0}, {\"x\": 23, \"y\": 19, \"val\": 0.0}, {\"x\": 24, \"y\": 19, \"val\": 0.0}, {\"x\": 25, \"y\": 19, \"val\": 0.0}, {\"x\": 26, \"y\": 19, \"val\": 217.0}, {\"x\": 27, \"y\": 19, \"val\": 0.0}, {\"x\": 28, \"y\": 19, \"val\": 0.0}, {\"x\": 1, \"y\": 20, \"val\": 0.0}, {\"x\": 2, \"y\": 20, \"val\": 0.0}, {\"x\": 3, \"y\": 20, \"val\": 0.0}, {\"x\": 4, \"y\": 20, \"val\": 22.0}, {\"x\": 5, \"y\": 20, \"val\": 0.0}, {\"x\": 6, \"y\": 20, \"val\": 147.0}, {\"x\": 7, \"y\": 20, \"val\": 0.0}, {\"x\": 8, \"y\": 20, \"val\": 192.0}, {\"x\": 9, \"y\": 20, \"val\": 0.0}, {\"x\": 10, \"y\": 20, \"val\": 0.0}, {\"x\": 11, \"y\": 20, \"val\": 0.0}, {\"x\": 12, \"y\": 20, \"val\": 0.0}, {\"x\": 13, \"y\": 20, \"val\": 0.0}, {\"x\": 14, \"y\": 20, \"val\": 252.0}, {\"x\": 15, \"y\": 20, \"val\": 0.0}, {\"x\": 16, \"y\": 20, \"val\": 0.0}, {\"x\": 17, \"y\": 20, \"val\": 0.0}, {\"x\": 18, \"y\": 20, \"val\": 0.0}, {\"x\": 19, \"y\": 20, \"val\": 169.0}, {\"x\": 20, \"y\": 20, \"val\": 0.0}, {\"x\": 21, \"y\": 20, \"val\": 0.0}, {\"x\": 22, \"y\": 20, \"val\": 0.0}, {\"x\": 23, \"y\": 20, \"val\": 0.0}, {\"x\": 24, \"y\": 20, \"val\": 0.0}, {\"x\": 25, \"y\": 20, \"val\": 0.0}, {\"x\": 26, \"y\": 20, \"val\": 252.0}, {\"x\": 27, \"y\": 20, \"val\": 0.0}, {\"x\": 28, \"y\": 20, \"val\": 0.0}, {\"x\": 1, \"y\": 21, \"val\": 0.0}, {\"x\": 2, \"y\": 21, \"val\": 0.0}, {\"x\": 3, \"y\": 21, \"val\": 0.0}, {\"x\": 4, \"y\": 21, \"val\": 0.0}, {\"x\": 5, \"y\": 21, \"val\": 252.0}, {\"x\": 6, \"y\": 21, \"val\": 0.0}, {\"x\": 7, \"y\": 21, \"val\": 0.0}, {\"x\": 8, \"y\": 21, \"val\": 0.0}, {\"x\": 9, \"y\": 21, \"val\": 0.0}, {\"x\": 10, \"y\": 21, \"val\": 0.0}, {\"x\": 11, \"y\": 21, \"val\": 252.0}, {\"x\": 12, \"y\": 21, \"val\": 0.0}, {\"x\": 13, \"y\": 21, \"val\": 0.0}, {\"x\": 14, \"y\": 21, \"val\": 0.0}, {\"x\": 15, \"y\": 21, \"val\": 0.0}, {\"x\": 16, \"y\": 21, \"val\": 0.0}, {\"x\": 17, \"y\": 21, \"val\": 0.0}, {\"x\": 18, \"y\": 21, \"val\": 0.0}, {\"x\": 19, \"y\": 21, \"val\": 0.0}, {\"x\": 20, \"y\": 21, \"val\": 0.0}, {\"x\": 21, \"y\": 21, \"val\": 226.0}, {\"x\": 22, \"y\": 21, \"val\": 0.0}, {\"x\": 23, \"y\": 21, \"val\": 0.0}, {\"x\": 24, \"y\": 21, \"val\": 0.0}, {\"x\": 25, \"y\": 21, \"val\": 0.0}, {\"x\": 26, \"y\": 21, \"val\": 0.0}, {\"x\": 27, \"y\": 21, \"val\": 8.0}, {\"x\": 28, \"y\": 21, \"val\": 0.0}, {\"x\": 1, \"y\": 22, \"val\": 0.0}, {\"x\": 2, \"y\": 22, \"val\": 0.0}, {\"x\": 3, \"y\": 22, \"val\": 0.0}, {\"x\": 4, \"y\": 22, \"val\": 0.0}, {\"x\": 5, \"y\": 22, \"val\": 148.0}, {\"x\": 6, \"y\": 22, \"val\": 0.0}, {\"x\": 7, \"y\": 22, \"val\": 132.0}, {\"x\": 8, \"y\": 22, \"val\": 0.0}, {\"x\": 9, \"y\": 22, \"val\": 0.0}, {\"x\": 10, \"y\": 22, \"val\": 0.0}, {\"x\": 11, \"y\": 22, \"val\": 0.0}, {\"x\": 12, \"y\": 22, \"val\": 0.0}, {\"x\": 13, \"y\": 22, \"val\": 197.0}, {\"x\": 14, \"y\": 22, \"val\": 252.0}, {\"x\": 15, \"y\": 22, \"val\": 0.0}, {\"x\": 16, \"y\": 22, \"val\": 0.0}, {\"x\": 17, \"y\": 22, \"val\": 0.0}, {\"x\": 18, \"y\": 22, \"val\": 0.0}, {\"x\": 19, \"y\": 22, \"val\": 0.0}, {\"x\": 20, \"y\": 22, \"val\": 0.0}, {\"x\": 21, \"y\": 22, \"val\": 252.0}, {\"x\": 22, \"y\": 22, \"val\": 210.0}, {\"x\": 23, \"y\": 22, \"val\": 0.0}, {\"x\": 24, \"y\": 22, \"val\": 0.0}, {\"x\": 25, \"y\": 22, \"val\": 0.0}, {\"x\": 26, \"y\": 22, \"val\": 0.0}, {\"x\": 27, \"y\": 22, \"val\": 0.0}, {\"x\": 28, \"y\": 22, \"val\": 253.0}, {\"x\": 1, \"y\": 23, \"val\": 0.0}, {\"x\": 2, \"y\": 23, \"val\": 0.0}, {\"x\": 3, \"y\": 23, \"val\": 0.0}, {\"x\": 4, \"y\": 23, \"val\": 42.0}, {\"x\": 5, \"y\": 23, \"val\": 0.0}, {\"x\": 6, \"y\": 23, \"val\": 251.0}, {\"x\": 7, \"y\": 23, \"val\": 0.0}, {\"x\": 8, \"y\": 23, \"val\": 0.0}, {\"x\": 9, \"y\": 23, \"val\": 0.0}, {\"x\": 10, \"y\": 23, \"val\": 0.0}, {\"x\": 11, \"y\": 23, \"val\": 0.0}, {\"x\": 12, \"y\": 23, \"val\": 0.0}, {\"x\": 13, \"y\": 23, \"val\": 0.0}, {\"x\": 14, \"y\": 23, \"val\": 253.0}, {\"x\": 15, \"y\": 23, \"val\": 0.0}, {\"x\": 16, \"y\": 23, \"val\": 0.0}, {\"x\": 17, \"y\": 23, \"val\": 0.0}, {\"x\": 18, \"y\": 23, \"val\": 126.0}, {\"x\": 19, \"y\": 23, \"val\": 0.0}, {\"x\": 20, \"y\": 23, \"val\": 252.0}, {\"x\": 21, \"y\": 23, \"val\": 0.0}, {\"x\": 22, \"y\": 23, \"val\": 0.0}, {\"x\": 23, \"y\": 23, \"val\": 253.0}, {\"x\": 24, \"y\": 23, \"val\": 0.0}, {\"x\": 25, \"y\": 23, \"val\": 71.0}, {\"x\": 26, \"y\": 23, \"val\": 0.0}, {\"x\": 27, \"y\": 23, \"val\": 0.0}, {\"x\": 28, \"y\": 23, \"val\": 0.0}, {\"x\": 1, \"y\": 24, \"val\": 0.0}, {\"x\": 2, \"y\": 24, \"val\": 21.0}, {\"x\": 3, \"y\": 24, \"val\": 55.0}, {\"x\": 4, \"y\": 24, \"val\": 0.0}, {\"x\": 5, \"y\": 24, \"val\": 0.0}, {\"x\": 6, \"y\": 24, \"val\": 0.0}, {\"x\": 7, \"y\": 24, \"val\": 252.0}, {\"x\": 8, \"y\": 24, \"val\": 253.0}, {\"x\": 9, \"y\": 24, \"val\": 184.0}, {\"x\": 10, \"y\": 24, \"val\": 0.0}, {\"x\": 11, \"y\": 24, \"val\": 0.0}, {\"x\": 12, \"y\": 24, \"val\": 0.0}, {\"x\": 13, \"y\": 24, \"val\": 0.0}, {\"x\": 14, \"y\": 24, \"val\": 183.0}, {\"x\": 15, \"y\": 24, \"val\": 0.0}, {\"x\": 16, \"y\": 24, \"val\": 252.0}, {\"x\": 17, \"y\": 24, \"val\": 0.0}, {\"x\": 18, \"y\": 24, \"val\": 0.0}, {\"x\": 19, \"y\": 24, \"val\": 0.0}, {\"x\": 20, \"y\": 24, \"val\": 0.0}, {\"x\": 21, \"y\": 24, \"val\": 0.0}, {\"x\": 22, \"y\": 24, \"val\": 252.0}, {\"x\": 23, \"y\": 24, \"val\": 0.0}, {\"x\": 24, \"y\": 24, \"val\": 0.0}, {\"x\": 25, \"y\": 24, \"val\": 0.0}, {\"x\": 26, \"y\": 24, \"val\": 0.0}, {\"x\": 27, \"y\": 24, \"val\": 0.0}, {\"x\": 28, \"y\": 24, \"val\": 0.0}, {\"x\": 1, \"y\": 25, \"val\": 0.0}, {\"x\": 2, \"y\": 25, \"val\": 0.0}, {\"x\": 3, \"y\": 25, \"val\": 0.0}, {\"x\": 4, \"y\": 25, \"val\": 0.0}, {\"x\": 5, \"y\": 25, \"val\": 0.0}, {\"x\": 6, \"y\": 25, \"val\": 0.0}, {\"x\": 7, \"y\": 25, \"val\": 0.0}, {\"x\": 8, \"y\": 25, \"val\": 0.0}, {\"x\": 9, \"y\": 25, \"val\": 231.0}, {\"x\": 10, \"y\": 25, \"val\": 0.0}, {\"x\": 11, \"y\": 25, \"val\": 0.0}, {\"x\": 12, \"y\": 25, \"val\": 0.0}, {\"x\": 13, \"y\": 25, \"val\": 0.0}, {\"x\": 14, \"y\": 25, \"val\": 0.0}, {\"x\": 15, \"y\": 25, \"val\": 36.0}, {\"x\": 16, \"y\": 25, \"val\": 0.0}, {\"x\": 17, \"y\": 25, \"val\": 176.0}, {\"x\": 18, \"y\": 25, \"val\": 129.0}, {\"x\": 19, \"y\": 25, \"val\": 0.0}, {\"x\": 20, \"y\": 25, \"val\": 0.0}, {\"x\": 21, \"y\": 25, \"val\": 0.0}, {\"x\": 22, \"y\": 25, \"val\": 0.0}, {\"x\": 23, \"y\": 25, \"val\": 0.0}, {\"x\": 24, \"y\": 25, \"val\": 253.0}, {\"x\": 25, \"y\": 25, \"val\": 227.0}, {\"x\": 26, \"y\": 25, \"val\": 0.0}, {\"x\": 27, \"y\": 25, \"val\": 0.0}, {\"x\": 28, \"y\": 25, \"val\": 87.0}, {\"x\": 1, \"y\": 26, \"val\": 0.0}, {\"x\": 2, \"y\": 26, \"val\": 247.0}, {\"x\": 3, \"y\": 26, \"val\": 0.0}, {\"x\": 4, \"y\": 26, \"val\": 0.0}, {\"x\": 5, \"y\": 26, \"val\": 0.0}, {\"x\": 6, \"y\": 26, \"val\": 0.0}, {\"x\": 7, \"y\": 26, \"val\": 0.0}, {\"x\": 8, \"y\": 26, \"val\": 253.0}, {\"x\": 9, \"y\": 26, \"val\": 252.0}, {\"x\": 10, \"y\": 26, \"val\": 0.0}, {\"x\": 11, \"y\": 26, \"val\": 168.0}, {\"x\": 12, \"y\": 26, \"val\": 0.0}, {\"x\": 13, \"y\": 26, \"val\": 0.0}, {\"x\": 14, \"y\": 26, \"val\": 0.0}, {\"x\": 15, \"y\": 26, \"val\": 0.0}, {\"x\": 16, \"y\": 26, \"val\": 0.0}, {\"x\": 17, \"y\": 26, \"val\": 96.0}, {\"x\": 18, \"y\": 26, \"val\": 0.0}, {\"x\": 19, \"y\": 26, \"val\": 0.0}, {\"x\": 20, \"y\": 26, \"val\": 0.0}, {\"x\": 21, \"y\": 26, \"val\": 0.0}, {\"x\": 22, \"y\": 26, \"val\": 0.0}, {\"x\": 23, \"y\": 26, \"val\": 232.0}, {\"x\": 24, \"y\": 26, \"val\": 0.0}, {\"x\": 25, \"y\": 26, \"val\": 0.0}, {\"x\": 26, \"y\": 26, \"val\": 0.0}, {\"x\": 27, \"y\": 26, \"val\": 0.0}, {\"x\": 28, \"y\": 26, \"val\": 0.0}, {\"x\": 1, \"y\": 27, \"val\": 106.0}, {\"x\": 2, \"y\": 27, \"val\": 0.0}, {\"x\": 3, \"y\": 27, \"val\": 0.0}, {\"x\": 4, \"y\": 27, \"val\": 0.0}, {\"x\": 5, \"y\": 27, \"val\": 0.0}, {\"x\": 6, \"y\": 27, \"val\": 0.0}, {\"x\": 7, \"y\": 27, \"val\": 0.0}, {\"x\": 8, \"y\": 27, \"val\": 0.0}, {\"x\": 9, \"y\": 27, \"val\": 255.0}, {\"x\": 10, \"y\": 27, \"val\": 55.0}, {\"x\": 11, \"y\": 27, \"val\": 253.0}, {\"x\": 12, \"y\": 27, \"val\": 0.0}, {\"x\": 13, \"y\": 27, \"val\": 0.0}, {\"x\": 14, \"y\": 27, \"val\": 0.0}, {\"x\": 15, \"y\": 27, \"val\": 232.0}, {\"x\": 16, \"y\": 27, \"val\": 138.0}, {\"x\": 17, \"y\": 27, \"val\": 0.0}, {\"x\": 18, \"y\": 27, \"val\": 0.0}, {\"x\": 19, \"y\": 27, \"val\": 0.0}, {\"x\": 20, \"y\": 27, \"val\": 0.0}, {\"x\": 21, \"y\": 27, \"val\": 252.0}, {\"x\": 22, \"y\": 27, \"val\": 0.0}, {\"x\": 23, \"y\": 27, \"val\": 0.0}, {\"x\": 24, \"y\": 27, \"val\": 14.0}, {\"x\": 25, \"y\": 27, \"val\": 0.0}, {\"x\": 26, \"y\": 27, \"val\": 0.0}, {\"x\": 27, \"y\": 27, \"val\": 14.0}, {\"x\": 28, \"y\": 27, \"val\": 0.0}, {\"x\": 1, \"y\": 28, \"val\": 0.0}, {\"x\": 2, \"y\": 28, \"val\": 0.0}, {\"x\": 3, \"y\": 28, \"val\": 252.0}, {\"x\": 4, \"y\": 28, \"val\": 0.0}, {\"x\": 5, \"y\": 28, \"val\": 0.0}, {\"x\": 6, \"y\": 28, \"val\": 0.0}, {\"x\": 7, \"y\": 28, \"val\": 0.0}, {\"x\": 8, \"y\": 28, \"val\": 252.0}, {\"x\": 9, \"y\": 28, \"val\": 0.0}, {\"x\": 10, \"y\": 28, \"val\": 0.0}, {\"x\": 11, \"y\": 28, \"val\": 0.0}, {\"x\": 12, \"y\": 28, \"val\": 0.0}, {\"x\": 13, \"y\": 28, \"val\": 0.0}, {\"x\": 14, \"y\": 28, \"val\": 0.0}, {\"x\": 15, \"y\": 28, \"val\": 0.0}, {\"x\": 16, \"y\": 28, \"val\": 0.0}, {\"x\": 17, \"y\": 28, \"val\": 0.0}, {\"x\": 18, \"y\": 28, \"val\": 0.0}, {\"x\": 19, \"y\": 28, \"val\": 0.0}, {\"x\": 20, \"y\": 28, \"val\": 42.0}, {\"x\": 21, \"y\": 28, \"val\": 0.0}, {\"x\": 22, \"y\": 28, \"val\": 0.0}, {\"x\": 23, \"y\": 28, \"val\": 252.0}, {\"x\": 24, \"y\": 28, \"val\": 0.0}, {\"x\": 25, \"y\": 28, \"val\": 0.0}, {\"x\": 26, \"y\": 28, \"val\": 0.0}, {\"x\": 27, \"y\": 28, \"val\": 0.0}, {\"x\": 28, \"y\": 28, \"val\": null}]}}, {\"mode\": \"vega-lite\"});\n",
              "</script>"
            ]
          },
          "metadata": {
            "tags": []
          },
          "execution_count": 27
        }
      ]
    },
    {
      "cell_type": "code",
      "metadata": {
        "execution": {
          "iopub.execute_input": "2021-08-02T20:00:57.684315Z",
          "iopub.status.busy": "2021-08-02T20:00:57.682503Z",
          "iopub.status.idle": "2021-08-02T20:00:57.754053Z",
          "shell.execute_reply": "2021-08-02T20:00:57.754758Z"
        },
        "lines_to_next_cell": 2,
        "id": "aa30c8ee",
        "colab": {
          "base_uri": "https://localhost:8080/",
          "height": 642
        },
        "outputId": "767d955b-7bbd-4cc9-c5c7-bc1f4db0ecbc"
      },
      "source": [
        "im = draw_image(15, shuffle=True)\n",
        "im"
      ],
      "id": "aa30c8ee",
      "execution_count": null,
      "outputs": [
        {
          "output_type": "execute_result",
          "data": {
            "text/plain": [
              "alt.Chart(...)"
            ],
            "text/html": [
              "\n",
              "<div id=\"altair-viz-0fb07fa577f54f3d8e8f161ad542f5b3\"></div>\n",
              "<script type=\"text/javascript\">\n",
              "  (function(spec, embedOpt){\n",
              "    let outputDiv = document.currentScript.previousElementSibling;\n",
              "    if (outputDiv.id !== \"altair-viz-0fb07fa577f54f3d8e8f161ad542f5b3\") {\n",
              "      outputDiv = document.getElementById(\"altair-viz-0fb07fa577f54f3d8e8f161ad542f5b3\");\n",
              "    }\n",
              "    const paths = {\n",
              "      \"vega\": \"https://cdn.jsdelivr.net/npm//vega@5?noext\",\n",
              "      \"vega-lib\": \"https://cdn.jsdelivr.net/npm//vega-lib?noext\",\n",
              "      \"vega-lite\": \"https://cdn.jsdelivr.net/npm//vega-lite@4.8.1?noext\",\n",
              "      \"vega-embed\": \"https://cdn.jsdelivr.net/npm//vega-embed@6?noext\",\n",
              "    };\n",
              "\n",
              "    function loadScript(lib) {\n",
              "      return new Promise(function(resolve, reject) {\n",
              "        var s = document.createElement('script');\n",
              "        s.src = paths[lib];\n",
              "        s.async = true;\n",
              "        s.onload = () => resolve(paths[lib]);\n",
              "        s.onerror = () => reject(`Error loading script: ${paths[lib]}`);\n",
              "        document.getElementsByTagName(\"head\")[0].appendChild(s);\n",
              "      });\n",
              "    }\n",
              "\n",
              "    function showError(err) {\n",
              "      outputDiv.innerHTML = `<div class=\"error\" style=\"color:red;\">${err}</div>`;\n",
              "      throw err;\n",
              "    }\n",
              "\n",
              "    function displayChart(vegaEmbed) {\n",
              "      vegaEmbed(outputDiv, spec, embedOpt)\n",
              "        .catch(err => showError(`Javascript Error: ${err.message}<br>This usually means there's a typo in your chart specification. See the javascript console for the full traceback.`));\n",
              "    }\n",
              "\n",
              "    if(typeof define === \"function\" && define.amd) {\n",
              "      requirejs.config({paths});\n",
              "      require([\"vega-embed\"], displayChart, err => showError(`Error loading script: ${err.message}`));\n",
              "    } else if (typeof vegaEmbed === \"function\") {\n",
              "      displayChart(vegaEmbed);\n",
              "    } else {\n",
              "      loadScript(\"vega\")\n",
              "        .then(() => loadScript(\"vega-lite\"))\n",
              "        .then(() => loadScript(\"vega-embed\"))\n",
              "        .catch(showError)\n",
              "        .then(() => displayChart(vegaEmbed));\n",
              "    }\n",
              "  })({\"config\": {\"view\": {\"continuousWidth\": 400, \"continuousHeight\": 300}}, \"data\": {\"name\": \"data-111b5230d63953403a60cf1c58c63bde\"}, \"mark\": \"rect\", \"encoding\": {\"color\": {\"type\": \"quantitative\", \"field\": \"val\"}, \"fill\": {\"type\": \"quantitative\", \"field\": \"val\"}, \"tooltip\": [{\"type\": \"quantitative\", \"field\": \"x\"}, {\"type\": \"quantitative\", \"field\": \"y\"}, {\"type\": \"quantitative\", \"field\": \"val\"}], \"x\": {\"type\": \"ordinal\", \"field\": \"x\"}, \"y\": {\"type\": \"ordinal\", \"field\": \"y\"}}, \"title\": \"Shuffled Image of a 7\", \"$schema\": \"https://vega.github.io/schema/vega-lite/v4.8.1.json\", \"datasets\": {\"data-111b5230d63953403a60cf1c58c63bde\": [{\"x\": 1, \"y\": 1, \"val\": 0.0}, {\"x\": 2, \"y\": 1, \"val\": 220.0}, {\"x\": 3, \"y\": 1, \"val\": 0.0}, {\"x\": 4, \"y\": 1, \"val\": 0.0}, {\"x\": 5, \"y\": 1, \"val\": 0.0}, {\"x\": 6, \"y\": 1, \"val\": 0.0}, {\"x\": 7, \"y\": 1, \"val\": 0.0}, {\"x\": 8, \"y\": 1, \"val\": 0.0}, {\"x\": 9, \"y\": 1, \"val\": 0.0}, {\"x\": 10, \"y\": 1, \"val\": 223.0}, {\"x\": 11, \"y\": 1, \"val\": 0.0}, {\"x\": 12, \"y\": 1, \"val\": 0.0}, {\"x\": 13, \"y\": 1, \"val\": 0.0}, {\"x\": 14, \"y\": 1, \"val\": 0.0}, {\"x\": 15, \"y\": 1, \"val\": 0.0}, {\"x\": 16, \"y\": 1, \"val\": 0.0}, {\"x\": 17, \"y\": 1, \"val\": 24.0}, {\"x\": 18, \"y\": 1, \"val\": 0.0}, {\"x\": 19, \"y\": 1, \"val\": 0.0}, {\"x\": 20, \"y\": 1, \"val\": 0.0}, {\"x\": 21, \"y\": 1, \"val\": 0.0}, {\"x\": 22, \"y\": 1, \"val\": 0.0}, {\"x\": 23, \"y\": 1, \"val\": 0.0}, {\"x\": 24, \"y\": 1, \"val\": 0.0}, {\"x\": 25, \"y\": 1, \"val\": 0.0}, {\"x\": 26, \"y\": 1, \"val\": 108.0}, {\"x\": 27, \"y\": 1, \"val\": 0.0}, {\"x\": 28, \"y\": 1, \"val\": 0.0}, {\"x\": 1, \"y\": 2, \"val\": 245.0}, {\"x\": 2, \"y\": 2, \"val\": 252.0}, {\"x\": 3, \"y\": 2, \"val\": 0.0}, {\"x\": 4, \"y\": 2, \"val\": 252.0}, {\"x\": 5, \"y\": 2, \"val\": 0.0}, {\"x\": 6, \"y\": 2, \"val\": 0.0}, {\"x\": 7, \"y\": 2, \"val\": 0.0}, {\"x\": 8, \"y\": 2, \"val\": 0.0}, {\"x\": 9, \"y\": 2, \"val\": 0.0}, {\"x\": 10, \"y\": 2, \"val\": 0.0}, {\"x\": 11, \"y\": 2, \"val\": 0.0}, {\"x\": 12, \"y\": 2, \"val\": 0.0}, {\"x\": 13, \"y\": 2, \"val\": 0.0}, {\"x\": 14, \"y\": 2, \"val\": 0.0}, {\"x\": 15, \"y\": 2, \"val\": 0.0}, {\"x\": 16, \"y\": 2, \"val\": 0.0}, {\"x\": 17, \"y\": 2, \"val\": 0.0}, {\"x\": 18, \"y\": 2, \"val\": 0.0}, {\"x\": 19, \"y\": 2, \"val\": 0.0}, {\"x\": 20, \"y\": 2, \"val\": 0.0}, {\"x\": 21, \"y\": 2, \"val\": 0.0}, {\"x\": 22, \"y\": 2, \"val\": 0.0}, {\"x\": 23, \"y\": 2, \"val\": 252.0}, {\"x\": 24, \"y\": 2, \"val\": 0.0}, {\"x\": 25, \"y\": 2, \"val\": 0.0}, {\"x\": 26, \"y\": 2, \"val\": 0.0}, {\"x\": 27, \"y\": 2, \"val\": 0.0}, {\"x\": 28, \"y\": 2, \"val\": 0.0}, {\"x\": 1, \"y\": 3, \"val\": 0.0}, {\"x\": 2, \"y\": 3, \"val\": 252.0}, {\"x\": 3, \"y\": 3, \"val\": 194.0}, {\"x\": 4, \"y\": 3, \"val\": 0.0}, {\"x\": 5, \"y\": 3, \"val\": 0.0}, {\"x\": 6, \"y\": 3, \"val\": 0.0}, {\"x\": 7, \"y\": 3, \"val\": 39.0}, {\"x\": 8, \"y\": 3, \"val\": 0.0}, {\"x\": 9, \"y\": 3, \"val\": 0.0}, {\"x\": 10, \"y\": 3, \"val\": 0.0}, {\"x\": 11, \"y\": 3, \"val\": 0.0}, {\"x\": 12, \"y\": 3, \"val\": 0.0}, {\"x\": 13, \"y\": 3, \"val\": 0.0}, {\"x\": 14, \"y\": 3, \"val\": 0.0}, {\"x\": 15, \"y\": 3, \"val\": 0.0}, {\"x\": 16, \"y\": 3, \"val\": 0.0}, {\"x\": 17, \"y\": 3, \"val\": 252.0}, {\"x\": 18, \"y\": 3, \"val\": 0.0}, {\"x\": 19, \"y\": 3, \"val\": 0.0}, {\"x\": 20, \"y\": 3, \"val\": 0.0}, {\"x\": 21, \"y\": 3, \"val\": 39.0}, {\"x\": 22, \"y\": 3, \"val\": 0.0}, {\"x\": 23, \"y\": 3, \"val\": 0.0}, {\"x\": 24, \"y\": 3, \"val\": 0.0}, {\"x\": 25, \"y\": 3, \"val\": 0.0}, {\"x\": 26, \"y\": 3, \"val\": 0.0}, {\"x\": 27, \"y\": 3, \"val\": 0.0}, {\"x\": 28, \"y\": 3, \"val\": 252.0}, {\"x\": 1, \"y\": 4, \"val\": 0.0}, {\"x\": 2, \"y\": 4, \"val\": 0.0}, {\"x\": 3, \"y\": 4, \"val\": 0.0}, {\"x\": 4, \"y\": 4, \"val\": 0.0}, {\"x\": 5, \"y\": 4, \"val\": 0.0}, {\"x\": 6, \"y\": 4, \"val\": 0.0}, {\"x\": 7, \"y\": 4, \"val\": 0.0}, {\"x\": 8, \"y\": 4, \"val\": 0.0}, {\"x\": 9, \"y\": 4, \"val\": 0.0}, {\"x\": 10, \"y\": 4, \"val\": 20.0}, {\"x\": 11, \"y\": 4, \"val\": 0.0}, {\"x\": 12, \"y\": 4, \"val\": 0.0}, {\"x\": 13, \"y\": 4, \"val\": 0.0}, {\"x\": 14, \"y\": 4, \"val\": 0.0}, {\"x\": 15, \"y\": 4, \"val\": 252.0}, {\"x\": 16, \"y\": 4, \"val\": 0.0}, {\"x\": 17, \"y\": 4, \"val\": 0.0}, {\"x\": 18, \"y\": 4, \"val\": 0.0}, {\"x\": 19, \"y\": 4, \"val\": 0.0}, {\"x\": 20, \"y\": 4, \"val\": 0.0}, {\"x\": 21, \"y\": 4, \"val\": 0.0}, {\"x\": 22, \"y\": 4, \"val\": 253.0}, {\"x\": 23, \"y\": 4, \"val\": 0.0}, {\"x\": 24, \"y\": 4, \"val\": 0.0}, {\"x\": 25, \"y\": 4, \"val\": 0.0}, {\"x\": 26, \"y\": 4, \"val\": 0.0}, {\"x\": 27, \"y\": 4, \"val\": 0.0}, {\"x\": 28, \"y\": 4, \"val\": 0.0}, {\"x\": 1, \"y\": 5, \"val\": 0.0}, {\"x\": 2, \"y\": 5, \"val\": 253.0}, {\"x\": 3, \"y\": 5, \"val\": 165.0}, {\"x\": 4, \"y\": 5, \"val\": 0.0}, {\"x\": 5, \"y\": 5, \"val\": 0.0}, {\"x\": 6, \"y\": 5, \"val\": 0.0}, {\"x\": 7, \"y\": 5, \"val\": 0.0}, {\"x\": 8, \"y\": 5, \"val\": 0.0}, {\"x\": 9, \"y\": 5, \"val\": 0.0}, {\"x\": 10, \"y\": 5, \"val\": 214.0}, {\"x\": 11, \"y\": 5, \"val\": 0.0}, {\"x\": 12, \"y\": 5, \"val\": 0.0}, {\"x\": 13, \"y\": 5, \"val\": 0.0}, {\"x\": 14, \"y\": 5, \"val\": 2.0}, {\"x\": 15, \"y\": 5, \"val\": 252.0}, {\"x\": 16, \"y\": 5, \"val\": 0.0}, {\"x\": 17, \"y\": 5, \"val\": 0.0}, {\"x\": 18, \"y\": 5, \"val\": 0.0}, {\"x\": 19, \"y\": 5, \"val\": 253.0}, {\"x\": 20, \"y\": 5, \"val\": 0.0}, {\"x\": 21, \"y\": 5, \"val\": 252.0}, {\"x\": 22, \"y\": 5, \"val\": 0.0}, {\"x\": 23, \"y\": 5, \"val\": 0.0}, {\"x\": 24, \"y\": 5, \"val\": 248.0}, {\"x\": 25, \"y\": 5, \"val\": 0.0}, {\"x\": 26, \"y\": 5, \"val\": 252.0}, {\"x\": 27, \"y\": 5, \"val\": 121.0}, {\"x\": 28, \"y\": 5, \"val\": 0.0}, {\"x\": 1, \"y\": 6, \"val\": 0.0}, {\"x\": 2, \"y\": 6, \"val\": 0.0}, {\"x\": 3, \"y\": 6, \"val\": 213.0}, {\"x\": 4, \"y\": 6, \"val\": 0.0}, {\"x\": 5, \"y\": 6, \"val\": 0.0}, {\"x\": 6, \"y\": 6, \"val\": 0.0}, {\"x\": 7, \"y\": 6, \"val\": 0.0}, {\"x\": 8, \"y\": 6, \"val\": 0.0}, {\"x\": 9, \"y\": 6, \"val\": 0.0}, {\"x\": 10, \"y\": 6, \"val\": 0.0}, {\"x\": 11, \"y\": 6, \"val\": 0.0}, {\"x\": 12, \"y\": 6, \"val\": 0.0}, {\"x\": 13, \"y\": 6, \"val\": 0.0}, {\"x\": 14, \"y\": 6, \"val\": 0.0}, {\"x\": 15, \"y\": 6, \"val\": 0.0}, {\"x\": 16, \"y\": 6, \"val\": 0.0}, {\"x\": 17, \"y\": 6, \"val\": 0.0}, {\"x\": 18, \"y\": 6, \"val\": 0.0}, {\"x\": 19, \"y\": 6, \"val\": 70.0}, {\"x\": 20, \"y\": 6, \"val\": 0.0}, {\"x\": 21, \"y\": 6, \"val\": 0.0}, {\"x\": 22, \"y\": 6, \"val\": 0.0}, {\"x\": 23, \"y\": 6, \"val\": 0.0}, {\"x\": 24, \"y\": 6, \"val\": 0.0}, {\"x\": 25, \"y\": 6, \"val\": 0.0}, {\"x\": 26, \"y\": 6, \"val\": 252.0}, {\"x\": 27, \"y\": 6, \"val\": 0.0}, {\"x\": 28, \"y\": 6, \"val\": 0.0}, {\"x\": 1, \"y\": 7, \"val\": 0.0}, {\"x\": 2, \"y\": 7, \"val\": 0.0}, {\"x\": 3, \"y\": 7, \"val\": 0.0}, {\"x\": 4, \"y\": 7, \"val\": 0.0}, {\"x\": 5, \"y\": 7, \"val\": 0.0}, {\"x\": 6, \"y\": 7, \"val\": 16.0}, {\"x\": 7, \"y\": 7, \"val\": 186.0}, {\"x\": 8, \"y\": 7, \"val\": 41.0}, {\"x\": 9, \"y\": 7, \"val\": 0.0}, {\"x\": 10, \"y\": 7, \"val\": 0.0}, {\"x\": 11, \"y\": 7, \"val\": 0.0}, {\"x\": 12, \"y\": 7, \"val\": 0.0}, {\"x\": 13, \"y\": 7, \"val\": 252.0}, {\"x\": 14, \"y\": 7, \"val\": 252.0}, {\"x\": 15, \"y\": 7, \"val\": 0.0}, {\"x\": 16, \"y\": 7, \"val\": 0.0}, {\"x\": 17, \"y\": 7, \"val\": 24.0}, {\"x\": 18, \"y\": 7, \"val\": 0.0}, {\"x\": 19, \"y\": 7, \"val\": 0.0}, {\"x\": 20, \"y\": 7, \"val\": 0.0}, {\"x\": 21, \"y\": 7, \"val\": 0.0}, {\"x\": 22, \"y\": 7, \"val\": 0.0}, {\"x\": 23, \"y\": 7, \"val\": 0.0}, {\"x\": 24, \"y\": 7, \"val\": 185.0}, {\"x\": 25, \"y\": 7, \"val\": 0.0}, {\"x\": 26, \"y\": 7, \"val\": 102.0}, {\"x\": 27, \"y\": 7, \"val\": 0.0}, {\"x\": 28, \"y\": 7, \"val\": 0.0}, {\"x\": 1, \"y\": 8, \"val\": 0.0}, {\"x\": 2, \"y\": 8, \"val\": 253.0}, {\"x\": 3, \"y\": 8, \"val\": 0.0}, {\"x\": 4, \"y\": 8, \"val\": 0.0}, {\"x\": 5, \"y\": 8, \"val\": 0.0}, {\"x\": 6, \"y\": 8, \"val\": 0.0}, {\"x\": 7, \"y\": 8, \"val\": 0.0}, {\"x\": 8, \"y\": 8, \"val\": 0.0}, {\"x\": 9, \"y\": 8, \"val\": 0.0}, {\"x\": 10, \"y\": 8, \"val\": 0.0}, {\"x\": 11, \"y\": 8, \"val\": 179.0}, {\"x\": 12, \"y\": 8, \"val\": 252.0}, {\"x\": 13, \"y\": 8, \"val\": 183.0}, {\"x\": 14, \"y\": 8, \"val\": 0.0}, {\"x\": 15, \"y\": 8, \"val\": 0.0}, {\"x\": 16, \"y\": 8, \"val\": 0.0}, {\"x\": 17, \"y\": 8, \"val\": 0.0}, {\"x\": 18, \"y\": 8, \"val\": 0.0}, {\"x\": 19, \"y\": 8, \"val\": 0.0}, {\"x\": 20, \"y\": 8, \"val\": 0.0}, {\"x\": 21, \"y\": 8, \"val\": 226.0}, {\"x\": 22, \"y\": 8, \"val\": 0.0}, {\"x\": 23, \"y\": 8, \"val\": 0.0}, {\"x\": 24, \"y\": 8, \"val\": 0.0}, {\"x\": 25, \"y\": 8, \"val\": 0.0}, {\"x\": 26, \"y\": 8, \"val\": 0.0}, {\"x\": 27, \"y\": 8, \"val\": 0.0}, {\"x\": 28, \"y\": 8, \"val\": 0.0}, {\"x\": 1, \"y\": 9, \"val\": 0.0}, {\"x\": 2, \"y\": 9, \"val\": 0.0}, {\"x\": 3, \"y\": 9, \"val\": 0.0}, {\"x\": 4, \"y\": 9, \"val\": 141.0}, {\"x\": 5, \"y\": 9, \"val\": 0.0}, {\"x\": 6, \"y\": 9, \"val\": 0.0}, {\"x\": 7, \"y\": 9, \"val\": 0.0}, {\"x\": 8, \"y\": 9, \"val\": 0.0}, {\"x\": 9, \"y\": 9, \"val\": 0.0}, {\"x\": 10, \"y\": 9, \"val\": 0.0}, {\"x\": 11, \"y\": 9, \"val\": 106.0}, {\"x\": 12, \"y\": 9, \"val\": 0.0}, {\"x\": 13, \"y\": 9, \"val\": 0.0}, {\"x\": 14, \"y\": 9, \"val\": 0.0}, {\"x\": 15, \"y\": 9, \"val\": 0.0}, {\"x\": 16, \"y\": 9, \"val\": 0.0}, {\"x\": 17, \"y\": 9, \"val\": 0.0}, {\"x\": 18, \"y\": 9, \"val\": 0.0}, {\"x\": 19, \"y\": 9, \"val\": 0.0}, {\"x\": 20, \"y\": 9, \"val\": 0.0}, {\"x\": 21, \"y\": 9, \"val\": 0.0}, {\"x\": 22, \"y\": 9, \"val\": 0.0}, {\"x\": 23, \"y\": 9, \"val\": 0.0}, {\"x\": 24, \"y\": 9, \"val\": 0.0}, {\"x\": 25, \"y\": 9, \"val\": 0.0}, {\"x\": 26, \"y\": 9, \"val\": 0.0}, {\"x\": 27, \"y\": 9, \"val\": 0.0}, {\"x\": 28, \"y\": 9, \"val\": 0.0}, {\"x\": 1, \"y\": 10, \"val\": 0.0}, {\"x\": 2, \"y\": 10, \"val\": 0.0}, {\"x\": 3, \"y\": 10, \"val\": 0.0}, {\"x\": 4, \"y\": 10, \"val\": 252.0}, {\"x\": 5, \"y\": 10, \"val\": 0.0}, {\"x\": 6, \"y\": 10, \"val\": 0.0}, {\"x\": 7, \"y\": 10, \"val\": 68.0}, {\"x\": 8, \"y\": 10, \"val\": 253.0}, {\"x\": 9, \"y\": 10, \"val\": 0.0}, {\"x\": 10, \"y\": 10, \"val\": 202.0}, {\"x\": 11, \"y\": 10, \"val\": 0.0}, {\"x\": 12, \"y\": 10, \"val\": 0.0}, {\"x\": 13, \"y\": 10, \"val\": 0.0}, {\"x\": 14, \"y\": 10, \"val\": 0.0}, {\"x\": 15, \"y\": 10, \"val\": 0.0}, {\"x\": 16, \"y\": 10, \"val\": 0.0}, {\"x\": 17, \"y\": 10, \"val\": 0.0}, {\"x\": 18, \"y\": 10, \"val\": 0.0}, {\"x\": 19, \"y\": 10, \"val\": 0.0}, {\"x\": 20, \"y\": 10, \"val\": 168.0}, {\"x\": 21, \"y\": 10, \"val\": 0.0}, {\"x\": 22, \"y\": 10, \"val\": 252.0}, {\"x\": 23, \"y\": 10, \"val\": 252.0}, {\"x\": 24, \"y\": 10, \"val\": 0.0}, {\"x\": 25, \"y\": 10, \"val\": 0.0}, {\"x\": 26, \"y\": 10, \"val\": 0.0}, {\"x\": 27, \"y\": 10, \"val\": 0.0}, {\"x\": 28, \"y\": 10, \"val\": 0.0}, {\"x\": 1, \"y\": 11, \"val\": 0.0}, {\"x\": 2, \"y\": 11, \"val\": 0.0}, {\"x\": 3, \"y\": 11, \"val\": 0.0}, {\"x\": 4, \"y\": 11, \"val\": 59.0}, {\"x\": 5, \"y\": 11, \"val\": 0.0}, {\"x\": 6, \"y\": 11, \"val\": 0.0}, {\"x\": 7, \"y\": 11, \"val\": 0.0}, {\"x\": 8, \"y\": 11, \"val\": 0.0}, {\"x\": 9, \"y\": 11, \"val\": 0.0}, {\"x\": 10, \"y\": 11, \"val\": 0.0}, {\"x\": 11, \"y\": 11, \"val\": 0.0}, {\"x\": 12, \"y\": 11, \"val\": 0.0}, {\"x\": 13, \"y\": 11, \"val\": 0.0}, {\"x\": 14, \"y\": 11, \"val\": 0.0}, {\"x\": 15, \"y\": 11, \"val\": 106.0}, {\"x\": 16, \"y\": 11, \"val\": 6.0}, {\"x\": 17, \"y\": 11, \"val\": 0.0}, {\"x\": 18, \"y\": 11, \"val\": 0.0}, {\"x\": 19, \"y\": 11, \"val\": 0.0}, {\"x\": 20, \"y\": 11, \"val\": 0.0}, {\"x\": 21, \"y\": 11, \"val\": 0.0}, {\"x\": 22, \"y\": 11, \"val\": 0.0}, {\"x\": 23, \"y\": 11, \"val\": 0.0}, {\"x\": 24, \"y\": 11, \"val\": 0.0}, {\"x\": 25, \"y\": 11, \"val\": 0.0}, {\"x\": 26, \"y\": 11, \"val\": 0.0}, {\"x\": 27, \"y\": 11, \"val\": 31.0}, {\"x\": 28, \"y\": 11, \"val\": 0.0}, {\"x\": 1, \"y\": 12, \"val\": 0.0}, {\"x\": 2, \"y\": 12, \"val\": 0.0}, {\"x\": 3, \"y\": 12, \"val\": 0.0}, {\"x\": 4, \"y\": 12, \"val\": 0.0}, {\"x\": 5, \"y\": 12, \"val\": 0.0}, {\"x\": 6, \"y\": 12, \"val\": 0.0}, {\"x\": 7, \"y\": 12, \"val\": 252.0}, {\"x\": 8, \"y\": 12, \"val\": 0.0}, {\"x\": 9, \"y\": 12, \"val\": 0.0}, {\"x\": 10, \"y\": 12, \"val\": 0.0}, {\"x\": 11, \"y\": 12, \"val\": 0.0}, {\"x\": 12, \"y\": 12, \"val\": 0.0}, {\"x\": 13, \"y\": 12, \"val\": 0.0}, {\"x\": 14, \"y\": 12, \"val\": 0.0}, {\"x\": 15, \"y\": 12, \"val\": 0.0}, {\"x\": 16, \"y\": 12, \"val\": 0.0}, {\"x\": 17, \"y\": 12, \"val\": 0.0}, {\"x\": 18, \"y\": 12, \"val\": 251.0}, {\"x\": 19, \"y\": 12, \"val\": 0.0}, {\"x\": 20, \"y\": 12, \"val\": 0.0}, {\"x\": 21, \"y\": 12, \"val\": 225.0}, {\"x\": 22, \"y\": 12, \"val\": 0.0}, {\"x\": 23, \"y\": 12, \"val\": 0.0}, {\"x\": 24, \"y\": 12, \"val\": 0.0}, {\"x\": 25, \"y\": 12, \"val\": 0.0}, {\"x\": 26, \"y\": 12, \"val\": 226.0}, {\"x\": 27, \"y\": 12, \"val\": 0.0}, {\"x\": 28, \"y\": 12, \"val\": 0.0}, {\"x\": 1, \"y\": 13, \"val\": 0.0}, {\"x\": 2, \"y\": 13, \"val\": 0.0}, {\"x\": 3, \"y\": 13, \"val\": 0.0}, {\"x\": 4, \"y\": 13, \"val\": 252.0}, {\"x\": 5, \"y\": 13, \"val\": 0.0}, {\"x\": 6, \"y\": 13, \"val\": 0.0}, {\"x\": 7, \"y\": 13, \"val\": 252.0}, {\"x\": 8, \"y\": 13, \"val\": 0.0}, {\"x\": 9, \"y\": 13, \"val\": 39.0}, {\"x\": 10, \"y\": 13, \"val\": 0.0}, {\"x\": 11, \"y\": 13, \"val\": 0.0}, {\"x\": 12, \"y\": 13, \"val\": 0.0}, {\"x\": 13, \"y\": 13, \"val\": 0.0}, {\"x\": 14, \"y\": 13, \"val\": 253.0}, {\"x\": 15, \"y\": 13, \"val\": 0.0}, {\"x\": 16, \"y\": 13, \"val\": 0.0}, {\"x\": 17, \"y\": 13, \"val\": 0.0}, {\"x\": 18, \"y\": 13, \"val\": 0.0}, {\"x\": 19, \"y\": 13, \"val\": 0.0}, {\"x\": 20, \"y\": 13, \"val\": 0.0}, {\"x\": 21, \"y\": 13, \"val\": 252.0}, {\"x\": 22, \"y\": 13, \"val\": 0.0}, {\"x\": 23, \"y\": 13, \"val\": 0.0}, {\"x\": 24, \"y\": 13, \"val\": 252.0}, {\"x\": 25, \"y\": 13, \"val\": 0.0}, {\"x\": 26, \"y\": 13, \"val\": 0.0}, {\"x\": 27, \"y\": 13, \"val\": 0.0}, {\"x\": 28, \"y\": 13, \"val\": 0.0}, {\"x\": 1, \"y\": 14, \"val\": 0.0}, {\"x\": 2, \"y\": 14, \"val\": 0.0}, {\"x\": 3, \"y\": 14, \"val\": 0.0}, {\"x\": 4, \"y\": 14, \"val\": 0.0}, {\"x\": 5, \"y\": 14, \"val\": 0.0}, {\"x\": 6, \"y\": 14, \"val\": 0.0}, {\"x\": 7, \"y\": 14, \"val\": 0.0}, {\"x\": 8, \"y\": 14, \"val\": 0.0}, {\"x\": 9, \"y\": 14, \"val\": 0.0}, {\"x\": 10, \"y\": 14, \"val\": 192.0}, {\"x\": 11, \"y\": 14, \"val\": 53.0}, {\"x\": 12, \"y\": 14, \"val\": 13.0}, {\"x\": 13, \"y\": 14, \"val\": 0.0}, {\"x\": 14, \"y\": 14, \"val\": 83.0}, {\"x\": 15, \"y\": 14, \"val\": 0.0}, {\"x\": 16, \"y\": 14, \"val\": 178.0}, {\"x\": 17, \"y\": 14, \"val\": 0.0}, {\"x\": 18, \"y\": 14, \"val\": 0.0}, {\"x\": 19, \"y\": 14, \"val\": 0.0}, {\"x\": 20, \"y\": 14, \"val\": 0.0}, {\"x\": 21, \"y\": 14, \"val\": 0.0}, {\"x\": 22, \"y\": 14, \"val\": 0.0}, {\"x\": 23, \"y\": 14, \"val\": 0.0}, {\"x\": 24, \"y\": 14, \"val\": 0.0}, {\"x\": 25, \"y\": 14, \"val\": 0.0}, {\"x\": 26, \"y\": 14, \"val\": 0.0}, {\"x\": 27, \"y\": 14, \"val\": 0.0}, {\"x\": 28, \"y\": 14, \"val\": 0.0}, {\"x\": 1, \"y\": 15, \"val\": 137.0}, {\"x\": 2, \"y\": 15, \"val\": 0.0}, {\"x\": 3, \"y\": 15, \"val\": 0.0}, {\"x\": 4, \"y\": 15, \"val\": 0.0}, {\"x\": 5, \"y\": 15, \"val\": 0.0}, {\"x\": 6, \"y\": 15, \"val\": 0.0}, {\"x\": 7, \"y\": 15, \"val\": 0.0}, {\"x\": 8, \"y\": 15, \"val\": 252.0}, {\"x\": 9, \"y\": 15, \"val\": 0.0}, {\"x\": 10, \"y\": 15, \"val\": 252.0}, {\"x\": 11, \"y\": 15, \"val\": 0.0}, {\"x\": 12, \"y\": 15, \"val\": 0.0}, {\"x\": 13, \"y\": 15, \"val\": 0.0}, {\"x\": 14, \"y\": 15, \"val\": 0.0}, {\"x\": 15, \"y\": 15, \"val\": 0.0}, {\"x\": 16, \"y\": 15, \"val\": 0.0}, {\"x\": 17, \"y\": 15, \"val\": 170.0}, {\"x\": 18, \"y\": 15, \"val\": 162.0}, {\"x\": 19, \"y\": 15, \"val\": 0.0}, {\"x\": 20, \"y\": 15, \"val\": 0.0}, {\"x\": 21, \"y\": 15, \"val\": 0.0}, {\"x\": 22, \"y\": 15, \"val\": 0.0}, {\"x\": 23, \"y\": 15, \"val\": 0.0}, {\"x\": 24, \"y\": 15, \"val\": 0.0}, {\"x\": 25, \"y\": 15, \"val\": 252.0}, {\"x\": 26, \"y\": 15, \"val\": 0.0}, {\"x\": 27, \"y\": 15, \"val\": 0.0}, {\"x\": 28, \"y\": 15, \"val\": 0.0}, {\"x\": 1, \"y\": 16, \"val\": 0.0}, {\"x\": 2, \"y\": 16, \"val\": 0.0}, {\"x\": 3, \"y\": 16, \"val\": 0.0}, {\"x\": 4, \"y\": 16, \"val\": 79.0}, {\"x\": 5, \"y\": 16, \"val\": 205.0}, {\"x\": 6, \"y\": 16, \"val\": 0.0}, {\"x\": 7, \"y\": 16, \"val\": 0.0}, {\"x\": 8, \"y\": 16, \"val\": 0.0}, {\"x\": 9, \"y\": 16, \"val\": 0.0}, {\"x\": 10, \"y\": 16, \"val\": 0.0}, {\"x\": 11, \"y\": 16, \"val\": 0.0}, {\"x\": 12, \"y\": 16, \"val\": 0.0}, {\"x\": 13, \"y\": 16, \"val\": 0.0}, {\"x\": 14, \"y\": 16, \"val\": 0.0}, {\"x\": 15, \"y\": 16, \"val\": 0.0}, {\"x\": 16, \"y\": 16, \"val\": 0.0}, {\"x\": 17, \"y\": 16, \"val\": 0.0}, {\"x\": 18, \"y\": 16, \"val\": 0.0}, {\"x\": 19, \"y\": 16, \"val\": 0.0}, {\"x\": 20, \"y\": 16, \"val\": 10.0}, {\"x\": 21, \"y\": 16, \"val\": 0.0}, {\"x\": 22, \"y\": 16, \"val\": 0.0}, {\"x\": 23, \"y\": 16, \"val\": 0.0}, {\"x\": 24, \"y\": 16, \"val\": 0.0}, {\"x\": 25, \"y\": 16, \"val\": 0.0}, {\"x\": 26, \"y\": 16, \"val\": 0.0}, {\"x\": 27, \"y\": 16, \"val\": 0.0}, {\"x\": 28, \"y\": 16, \"val\": 0.0}, {\"x\": 1, \"y\": 17, \"val\": 0.0}, {\"x\": 2, \"y\": 17, \"val\": 0.0}, {\"x\": 3, \"y\": 17, \"val\": 0.0}, {\"x\": 4, \"y\": 17, \"val\": 0.0}, {\"x\": 5, \"y\": 17, \"val\": 0.0}, {\"x\": 6, \"y\": 17, \"val\": 0.0}, {\"x\": 7, \"y\": 17, \"val\": 0.0}, {\"x\": 8, \"y\": 17, \"val\": 0.0}, {\"x\": 9, \"y\": 17, \"val\": 0.0}, {\"x\": 10, \"y\": 17, \"val\": 0.0}, {\"x\": 11, \"y\": 17, \"val\": 214.0}, {\"x\": 12, \"y\": 17, \"val\": 0.0}, {\"x\": 13, \"y\": 17, \"val\": 0.0}, {\"x\": 14, \"y\": 17, \"val\": 0.0}, {\"x\": 15, \"y\": 17, \"val\": 0.0}, {\"x\": 16, \"y\": 17, \"val\": 0.0}, {\"x\": 17, \"y\": 17, \"val\": 0.0}, {\"x\": 18, \"y\": 17, \"val\": 209.0}, {\"x\": 19, \"y\": 17, \"val\": 65.0}, {\"x\": 20, \"y\": 17, \"val\": 0.0}, {\"x\": 21, \"y\": 17, \"val\": 221.0}, {\"x\": 22, \"y\": 17, \"val\": 0.0}, {\"x\": 23, \"y\": 17, \"val\": 0.0}, {\"x\": 24, \"y\": 17, \"val\": 0.0}, {\"x\": 25, \"y\": 17, \"val\": 0.0}, {\"x\": 26, \"y\": 17, \"val\": 0.0}, {\"x\": 27, \"y\": 17, \"val\": 0.0}, {\"x\": 28, \"y\": 17, \"val\": 0.0}, {\"x\": 1, \"y\": 18, \"val\": 0.0}, {\"x\": 2, \"y\": 18, \"val\": 0.0}, {\"x\": 3, \"y\": 18, \"val\": 183.0}, {\"x\": 4, \"y\": 18, \"val\": 0.0}, {\"x\": 5, \"y\": 18, \"val\": 0.0}, {\"x\": 6, \"y\": 18, \"val\": 0.0}, {\"x\": 7, \"y\": 18, \"val\": 0.0}, {\"x\": 8, \"y\": 18, \"val\": 134.0}, {\"x\": 9, \"y\": 18, \"val\": 0.0}, {\"x\": 10, \"y\": 18, \"val\": 0.0}, {\"x\": 11, \"y\": 18, \"val\": 224.0}, {\"x\": 12, \"y\": 18, \"val\": 0.0}, {\"x\": 13, \"y\": 18, \"val\": 0.0}, {\"x\": 14, \"y\": 18, \"val\": 0.0}, {\"x\": 15, \"y\": 18, \"val\": 0.0}, {\"x\": 16, \"y\": 18, \"val\": 0.0}, {\"x\": 17, \"y\": 18, \"val\": 0.0}, {\"x\": 18, \"y\": 18, \"val\": 0.0}, {\"x\": 19, \"y\": 18, \"val\": 0.0}, {\"x\": 20, \"y\": 18, \"val\": 0.0}, {\"x\": 21, \"y\": 18, \"val\": 0.0}, {\"x\": 22, \"y\": 18, \"val\": 0.0}, {\"x\": 23, \"y\": 18, \"val\": 0.0}, {\"x\": 24, \"y\": 18, \"val\": 0.0}, {\"x\": 25, \"y\": 18, \"val\": 0.0}, {\"x\": 26, \"y\": 18, \"val\": 0.0}, {\"x\": 27, \"y\": 18, \"val\": 0.0}, {\"x\": 28, \"y\": 18, \"val\": 0.0}, {\"x\": 1, \"y\": 19, \"val\": 0.0}, {\"x\": 2, \"y\": 19, \"val\": 0.0}, {\"x\": 3, \"y\": 19, \"val\": 0.0}, {\"x\": 4, \"y\": 19, \"val\": 0.0}, {\"x\": 5, \"y\": 19, \"val\": 0.0}, {\"x\": 6, \"y\": 19, \"val\": 0.0}, {\"x\": 7, \"y\": 19, \"val\": 0.0}, {\"x\": 8, \"y\": 19, \"val\": 0.0}, {\"x\": 9, \"y\": 19, \"val\": 0.0}, {\"x\": 10, \"y\": 19, \"val\": 247.0}, {\"x\": 11, \"y\": 19, \"val\": 0.0}, {\"x\": 12, \"y\": 19, \"val\": 0.0}, {\"x\": 13, \"y\": 19, \"val\": 0.0}, {\"x\": 14, \"y\": 19, \"val\": 0.0}, {\"x\": 15, \"y\": 19, \"val\": 0.0}, {\"x\": 16, \"y\": 19, \"val\": 0.0}, {\"x\": 17, \"y\": 19, \"val\": 252.0}, {\"x\": 18, \"y\": 19, \"val\": 0.0}, {\"x\": 19, \"y\": 19, \"val\": 0.0}, {\"x\": 20, \"y\": 19, \"val\": 0.0}, {\"x\": 21, \"y\": 19, \"val\": 0.0}, {\"x\": 22, \"y\": 19, \"val\": 0.0}, {\"x\": 23, \"y\": 19, \"val\": 0.0}, {\"x\": 24, \"y\": 19, \"val\": 67.0}, {\"x\": 25, \"y\": 19, \"val\": 0.0}, {\"x\": 26, \"y\": 19, \"val\": 0.0}, {\"x\": 27, \"y\": 19, \"val\": 252.0}, {\"x\": 28, \"y\": 19, \"val\": 0.0}, {\"x\": 1, \"y\": 20, \"val\": 0.0}, {\"x\": 2, \"y\": 20, \"val\": 0.0}, {\"x\": 3, \"y\": 20, \"val\": 0.0}, {\"x\": 4, \"y\": 20, \"val\": 0.0}, {\"x\": 5, \"y\": 20, \"val\": 0.0}, {\"x\": 6, \"y\": 20, \"val\": 0.0}, {\"x\": 7, \"y\": 20, \"val\": 0.0}, {\"x\": 8, \"y\": 20, \"val\": 253.0}, {\"x\": 9, \"y\": 20, \"val\": 0.0}, {\"x\": 10, \"y\": 20, \"val\": 0.0}, {\"x\": 11, \"y\": 20, \"val\": 0.0}, {\"x\": 12, \"y\": 20, \"val\": 0.0}, {\"x\": 13, \"y\": 20, \"val\": 0.0}, {\"x\": 14, \"y\": 20, \"val\": 0.0}, {\"x\": 15, \"y\": 20, \"val\": 0.0}, {\"x\": 16, \"y\": 20, \"val\": 0.0}, {\"x\": 17, \"y\": 20, \"val\": 0.0}, {\"x\": 18, \"y\": 20, \"val\": 0.0}, {\"x\": 19, \"y\": 20, \"val\": 240.0}, {\"x\": 20, \"y\": 20, \"val\": 0.0}, {\"x\": 21, \"y\": 20, \"val\": 0.0}, {\"x\": 22, \"y\": 20, \"val\": 0.0}, {\"x\": 23, \"y\": 20, \"val\": 2.0}, {\"x\": 24, \"y\": 20, \"val\": 0.0}, {\"x\": 25, \"y\": 20, \"val\": 0.0}, {\"x\": 26, \"y\": 20, \"val\": 107.0}, {\"x\": 27, \"y\": 20, \"val\": 0.0}, {\"x\": 28, \"y\": 20, \"val\": 0.0}, {\"x\": 1, \"y\": 21, \"val\": 0.0}, {\"x\": 2, \"y\": 21, \"val\": 0.0}, {\"x\": 3, \"y\": 21, \"val\": 0.0}, {\"x\": 4, \"y\": 21, \"val\": 0.0}, {\"x\": 5, \"y\": 21, \"val\": 241.0}, {\"x\": 6, \"y\": 21, \"val\": 0.0}, {\"x\": 7, \"y\": 21, \"val\": 0.0}, {\"x\": 8, \"y\": 21, \"val\": 0.0}, {\"x\": 9, \"y\": 21, \"val\": 0.0}, {\"x\": 10, \"y\": 21, \"val\": 0.0}, {\"x\": 11, \"y\": 21, \"val\": 90.0}, {\"x\": 12, \"y\": 21, \"val\": 0.0}, {\"x\": 13, \"y\": 21, \"val\": 0.0}, {\"x\": 14, \"y\": 21, \"val\": 0.0}, {\"x\": 15, \"y\": 21, \"val\": 252.0}, {\"x\": 16, \"y\": 21, \"val\": 0.0}, {\"x\": 17, \"y\": 21, \"val\": 0.0}, {\"x\": 18, \"y\": 21, \"val\": 0.0}, {\"x\": 19, \"y\": 21, \"val\": 25.0}, {\"x\": 20, \"y\": 21, \"val\": 0.0}, {\"x\": 21, \"y\": 21, \"val\": 0.0}, {\"x\": 22, \"y\": 21, \"val\": 0.0}, {\"x\": 23, \"y\": 21, \"val\": 252.0}, {\"x\": 24, \"y\": 21, \"val\": 0.0}, {\"x\": 25, \"y\": 21, \"val\": 0.0}, {\"x\": 26, \"y\": 21, \"val\": 0.0}, {\"x\": 27, \"y\": 21, \"val\": 0.0}, {\"x\": 28, \"y\": 21, \"val\": 0.0}, {\"x\": 1, \"y\": 22, \"val\": 0.0}, {\"x\": 2, \"y\": 22, \"val\": 0.0}, {\"x\": 3, \"y\": 22, \"val\": 0.0}, {\"x\": 4, \"y\": 22, \"val\": 0.0}, {\"x\": 5, \"y\": 22, \"val\": 0.0}, {\"x\": 6, \"y\": 22, \"val\": 0.0}, {\"x\": 7, \"y\": 22, \"val\": 252.0}, {\"x\": 8, \"y\": 22, \"val\": 0.0}, {\"x\": 9, \"y\": 22, \"val\": 0.0}, {\"x\": 10, \"y\": 22, \"val\": 0.0}, {\"x\": 11, \"y\": 22, \"val\": 0.0}, {\"x\": 12, \"y\": 22, \"val\": 0.0}, {\"x\": 13, \"y\": 22, \"val\": 0.0}, {\"x\": 14, \"y\": 22, \"val\": 163.0}, {\"x\": 15, \"y\": 22, \"val\": 0.0}, {\"x\": 16, \"y\": 22, \"val\": 0.0}, {\"x\": 17, \"y\": 22, \"val\": 0.0}, {\"x\": 18, \"y\": 22, \"val\": 0.0}, {\"x\": 19, \"y\": 22, \"val\": 0.0}, {\"x\": 20, \"y\": 22, \"val\": 0.0}, {\"x\": 21, \"y\": 22, \"val\": 17.0}, {\"x\": 22, \"y\": 22, \"val\": 0.0}, {\"x\": 23, \"y\": 22, \"val\": 19.0}, {\"x\": 24, \"y\": 22, \"val\": 0.0}, {\"x\": 25, \"y\": 22, \"val\": 0.0}, {\"x\": 26, \"y\": 22, \"val\": 0.0}, {\"x\": 27, \"y\": 22, \"val\": 0.0}, {\"x\": 28, \"y\": 22, \"val\": 0.0}, {\"x\": 1, \"y\": 23, \"val\": 0.0}, {\"x\": 2, \"y\": 23, \"val\": 0.0}, {\"x\": 3, \"y\": 23, \"val\": 0.0}, {\"x\": 4, \"y\": 23, \"val\": 0.0}, {\"x\": 5, \"y\": 23, \"val\": 0.0}, {\"x\": 6, \"y\": 23, \"val\": 252.0}, {\"x\": 7, \"y\": 23, \"val\": 0.0}, {\"x\": 8, \"y\": 23, \"val\": 0.0}, {\"x\": 9, \"y\": 23, \"val\": 0.0}, {\"x\": 10, \"y\": 23, \"val\": 0.0}, {\"x\": 11, \"y\": 23, \"val\": 0.0}, {\"x\": 12, \"y\": 23, \"val\": 0.0}, {\"x\": 13, \"y\": 23, \"val\": 0.0}, {\"x\": 14, \"y\": 23, \"val\": 252.0}, {\"x\": 15, \"y\": 23, \"val\": 0.0}, {\"x\": 16, \"y\": 23, \"val\": 0.0}, {\"x\": 17, \"y\": 23, \"val\": 0.0}, {\"x\": 18, \"y\": 23, \"val\": 242.0}, {\"x\": 19, \"y\": 23, \"val\": 0.0}, {\"x\": 20, \"y\": 23, \"val\": 252.0}, {\"x\": 21, \"y\": 23, \"val\": 0.0}, {\"x\": 22, \"y\": 23, \"val\": 0.0}, {\"x\": 23, \"y\": 23, \"val\": 115.0}, {\"x\": 24, \"y\": 23, \"val\": 0.0}, {\"x\": 25, \"y\": 23, \"val\": 252.0}, {\"x\": 26, \"y\": 23, \"val\": 43.0}, {\"x\": 27, \"y\": 23, \"val\": 0.0}, {\"x\": 28, \"y\": 23, \"val\": 0.0}, {\"x\": 1, \"y\": 24, \"val\": 39.0}, {\"x\": 2, \"y\": 24, \"val\": 107.0}, {\"x\": 3, \"y\": 24, \"val\": 0.0}, {\"x\": 4, \"y\": 24, \"val\": 0.0}, {\"x\": 5, \"y\": 24, \"val\": 0.0}, {\"x\": 6, \"y\": 24, \"val\": 0.0}, {\"x\": 7, \"y\": 24, \"val\": 252.0}, {\"x\": 8, \"y\": 24, \"val\": 121.0}, {\"x\": 9, \"y\": 24, \"val\": 0.0}, {\"x\": 10, \"y\": 24, \"val\": 0.0}, {\"x\": 11, \"y\": 24, \"val\": 0.0}, {\"x\": 12, \"y\": 24, \"val\": 252.0}, {\"x\": 13, \"y\": 24, \"val\": 252.0}, {\"x\": 14, \"y\": 24, \"val\": 252.0}, {\"x\": 15, \"y\": 24, \"val\": 0.0}, {\"x\": 16, \"y\": 24, \"val\": 0.0}, {\"x\": 17, \"y\": 24, \"val\": 0.0}, {\"x\": 18, \"y\": 24, \"val\": 0.0}, {\"x\": 19, \"y\": 24, \"val\": 0.0}, {\"x\": 20, \"y\": 24, \"val\": 0.0}, {\"x\": 21, \"y\": 24, \"val\": 67.0}, {\"x\": 22, \"y\": 24, \"val\": 190.0}, {\"x\": 23, \"y\": 24, \"val\": 0.0}, {\"x\": 24, \"y\": 24, \"val\": 0.0}, {\"x\": 25, \"y\": 24, \"val\": 0.0}, {\"x\": 26, \"y\": 24, \"val\": 0.0}, {\"x\": 27, \"y\": 24, \"val\": 0.0}, {\"x\": 28, \"y\": 24, \"val\": 0.0}, {\"x\": 1, \"y\": 25, \"val\": 0.0}, {\"x\": 2, \"y\": 25, \"val\": 0.0}, {\"x\": 3, \"y\": 25, \"val\": 0.0}, {\"x\": 4, \"y\": 25, \"val\": 0.0}, {\"x\": 5, \"y\": 25, \"val\": 155.0}, {\"x\": 6, \"y\": 25, \"val\": 0.0}, {\"x\": 7, \"y\": 25, \"val\": 0.0}, {\"x\": 8, \"y\": 25, \"val\": 0.0}, {\"x\": 9, \"y\": 25, \"val\": 252.0}, {\"x\": 10, \"y\": 25, \"val\": 0.0}, {\"x\": 11, \"y\": 25, \"val\": 0.0}, {\"x\": 12, \"y\": 25, \"val\": 0.0}, {\"x\": 13, \"y\": 25, \"val\": 0.0}, {\"x\": 14, \"y\": 25, \"val\": 0.0}, {\"x\": 15, \"y\": 25, \"val\": 0.0}, {\"x\": 16, \"y\": 25, \"val\": 0.0}, {\"x\": 17, \"y\": 25, \"val\": 222.0}, {\"x\": 18, \"y\": 25, \"val\": 252.0}, {\"x\": 19, \"y\": 25, \"val\": 0.0}, {\"x\": 20, \"y\": 25, \"val\": 0.0}, {\"x\": 21, \"y\": 25, \"val\": 0.0}, {\"x\": 22, \"y\": 25, \"val\": 0.0}, {\"x\": 23, \"y\": 25, \"val\": 0.0}, {\"x\": 24, \"y\": 25, \"val\": 110.0}, {\"x\": 25, \"y\": 25, \"val\": 77.0}, {\"x\": 26, \"y\": 25, \"val\": 0.0}, {\"x\": 27, \"y\": 25, \"val\": 0.0}, {\"x\": 28, \"y\": 25, \"val\": 0.0}, {\"x\": 1, \"y\": 26, \"val\": 0.0}, {\"x\": 2, \"y\": 26, \"val\": 252.0}, {\"x\": 3, \"y\": 26, \"val\": 0.0}, {\"x\": 4, \"y\": 26, \"val\": 0.0}, {\"x\": 5, \"y\": 26, \"val\": 0.0}, {\"x\": 6, \"y\": 26, \"val\": 0.0}, {\"x\": 7, \"y\": 26, \"val\": 0.0}, {\"x\": 8, \"y\": 26, \"val\": 253.0}, {\"x\": 9, \"y\": 26, \"val\": 0.0}, {\"x\": 10, \"y\": 26, \"val\": 0.0}, {\"x\": 11, \"y\": 26, \"val\": 250.0}, {\"x\": 12, \"y\": 26, \"val\": 0.0}, {\"x\": 13, \"y\": 26, \"val\": 0.0}, {\"x\": 14, \"y\": 26, \"val\": 0.0}, {\"x\": 15, \"y\": 26, \"val\": 0.0}, {\"x\": 16, \"y\": 26, \"val\": 0.0}, {\"x\": 17, \"y\": 26, \"val\": 0.0}, {\"x\": 18, \"y\": 26, \"val\": 0.0}, {\"x\": 19, \"y\": 26, \"val\": 0.0}, {\"x\": 20, \"y\": 26, \"val\": 0.0}, {\"x\": 21, \"y\": 26, \"val\": 0.0}, {\"x\": 22, \"y\": 26, \"val\": 0.0}, {\"x\": 23, \"y\": 26, \"val\": 63.0}, {\"x\": 24, \"y\": 26, \"val\": 0.0}, {\"x\": 25, \"y\": 26, \"val\": 0.0}, {\"x\": 26, \"y\": 26, \"val\": 0.0}, {\"x\": 27, \"y\": 26, \"val\": 0.0}, {\"x\": 28, \"y\": 26, \"val\": 0.0}, {\"x\": 1, \"y\": 27, \"val\": 217.0}, {\"x\": 2, \"y\": 27, \"val\": 0.0}, {\"x\": 3, \"y\": 27, \"val\": 40.0}, {\"x\": 4, \"y\": 27, \"val\": 0.0}, {\"x\": 5, \"y\": 27, \"val\": 0.0}, {\"x\": 6, \"y\": 27, \"val\": 0.0}, {\"x\": 7, \"y\": 27, \"val\": 0.0}, {\"x\": 8, \"y\": 27, \"val\": 0.0}, {\"x\": 9, \"y\": 27, \"val\": 255.0}, {\"x\": 10, \"y\": 27, \"val\": 0.0}, {\"x\": 11, \"y\": 27, \"val\": 252.0}, {\"x\": 12, \"y\": 27, \"val\": 0.0}, {\"x\": 13, \"y\": 27, \"val\": 102.0}, {\"x\": 14, \"y\": 27, \"val\": 0.0}, {\"x\": 15, \"y\": 27, \"val\": 252.0}, {\"x\": 16, \"y\": 27, \"val\": 0.0}, {\"x\": 17, \"y\": 27, \"val\": 0.0}, {\"x\": 18, \"y\": 27, \"val\": 0.0}, {\"x\": 19, \"y\": 27, \"val\": 0.0}, {\"x\": 20, \"y\": 27, \"val\": 0.0}, {\"x\": 21, \"y\": 27, \"val\": 0.0}, {\"x\": 22, \"y\": 27, \"val\": 0.0}, {\"x\": 23, \"y\": 27, \"val\": 0.0}, {\"x\": 24, \"y\": 27, \"val\": 0.0}, {\"x\": 25, \"y\": 27, \"val\": 0.0}, {\"x\": 26, \"y\": 27, \"val\": 0.0}, {\"x\": 27, \"y\": 27, \"val\": 252.0}, {\"x\": 28, \"y\": 27, \"val\": 0.0}, {\"x\": 1, \"y\": 28, \"val\": 0.0}, {\"x\": 2, \"y\": 28, \"val\": 0.0}, {\"x\": 3, \"y\": 28, \"val\": 0.0}, {\"x\": 4, \"y\": 28, \"val\": 0.0}, {\"x\": 5, \"y\": 28, \"val\": 0.0}, {\"x\": 6, \"y\": 28, \"val\": 194.0}, {\"x\": 7, \"y\": 28, \"val\": 0.0}, {\"x\": 8, \"y\": 28, \"val\": 150.0}, {\"x\": 9, \"y\": 28, \"val\": 0.0}, {\"x\": 10, \"y\": 28, \"val\": 0.0}, {\"x\": 11, \"y\": 28, \"val\": 0.0}, {\"x\": 12, \"y\": 28, \"val\": 67.0}, {\"x\": 13, \"y\": 28, \"val\": 0.0}, {\"x\": 14, \"y\": 28, \"val\": 0.0}, {\"x\": 15, \"y\": 28, \"val\": 150.0}, {\"x\": 16, \"y\": 28, \"val\": 0.0}, {\"x\": 17, \"y\": 28, \"val\": 0.0}, {\"x\": 18, \"y\": 28, \"val\": 0.0}, {\"x\": 19, \"y\": 28, \"val\": 0.0}, {\"x\": 20, \"y\": 28, \"val\": 0.0}, {\"x\": 21, \"y\": 28, \"val\": 252.0}, {\"x\": 22, \"y\": 28, \"val\": 0.0}, {\"x\": 23, \"y\": 28, \"val\": 252.0}, {\"x\": 24, \"y\": 28, \"val\": 0.0}, {\"x\": 25, \"y\": 28, \"val\": 0.0}, {\"x\": 26, \"y\": 28, \"val\": 39.0}, {\"x\": 27, \"y\": 28, \"val\": 0.0}, {\"x\": 28, \"y\": 28, \"val\": null}]}}, {\"mode\": \"vega-lite\"});\n",
              "</script>"
            ]
          },
          "metadata": {
            "tags": []
          },
          "execution_count": 28
        }
      ]
    },
    {
      "cell_type": "markdown",
      "metadata": {
        "lines_to_next_cell": 2,
        "id": "8a1cdd60"
      },
      "source": [
        "Can you recognize what those images are? Let's train an MLP\n",
        "classifier on the shuffled images and report the test\n",
        "accuracy. "
      ],
      "id": "8a1cdd60"
    },
    {
      "cell_type": "code",
      "metadata": {
        "execution": {
          "iopub.execute_input": "2021-08-02T20:00:57.760984Z",
          "iopub.status.busy": "2021-08-02T20:00:57.760130Z",
          "iopub.status.idle": "2021-08-02T20:00:57.761935Z",
          "shell.execute_reply": "2021-08-02T20:00:57.762586Z"
        },
        "id": "0f093ec1"
      },
      "source": [
        "# Create model\n",
        "model = KerasClassifier(build_fn=create_model,\n",
        "                        epochs=2,\n",
        "                        batch_size=20,\n",
        "                        verbose=0)"
      ],
      "id": "0f093ec1",
      "execution_count": null,
      "outputs": []
    },
    {
      "cell_type": "code",
      "metadata": {
        "execution": {
          "iopub.execute_input": "2021-08-02T20:00:57.769131Z",
          "iopub.status.busy": "2021-08-02T20:00:57.768289Z",
          "iopub.status.idle": "2021-08-02T20:00:57.770043Z",
          "shell.execute_reply": "2021-08-02T20:00:57.770734Z"
        },
        "id": "510aa176"
      },
      "source": [
        "shuffled_features = sklearn.utils.shuffle(features, random_state=1234)"
      ],
      "id": "510aa176",
      "execution_count": null,
      "outputs": []
    },
    {
      "cell_type": "code",
      "metadata": {
        "execution": {
          "iopub.execute_input": "2021-08-02T20:00:57.857815Z",
          "iopub.status.busy": "2021-08-02T20:00:57.775293Z",
          "iopub.status.idle": "2021-08-02T20:01:08.371106Z",
          "shell.execute_reply": "2021-08-02T20:01:08.370075Z"
        },
        "id": "e0d99f7c",
        "colab": {
          "base_uri": "https://localhost:8080/"
        },
        "outputId": "6f9c4816-8af1-4bb9-ef25-fb4b57b2fc08"
      },
      "source": [
        "# Fit model\n",
        "model.fit(x=df_train[shuffled_features].astype(float),\n",
        "          y=df_train[\"class\"])"
      ],
      "id": "e0d99f7c",
      "execution_count": null,
      "outputs": [
        {
          "output_type": "execute_result",
          "data": {
            "text/plain": [
              "<keras.callbacks.History at 0x7ff256617b50>"
            ]
          },
          "metadata": {
            "tags": []
          },
          "execution_count": 31
        }
      ]
    },
    {
      "cell_type": "code",
      "metadata": {
        "execution": {
          "iopub.execute_input": "2021-08-02T20:01:08.416363Z",
          "iopub.status.busy": "2021-08-02T20:01:08.380447Z",
          "iopub.status.idle": "2021-08-02T20:01:09.025797Z",
          "shell.execute_reply": "2021-08-02T20:01:09.026512Z"
        },
        "id": "0a038316",
        "colab": {
          "base_uri": "https://localhost:8080/"
        },
        "outputId": "1183ba6b-8475-461b-e867-9257ea65eca6"
      },
      "source": [
        "# Predict on test set\n",
        "df_test[\"predict\"] = model.predict(df_test[shuffled_features])\n",
        "correct = (df_test[\"predict\"] == df_test[\"class\"])\n",
        "accuracy = correct.sum() / correct.size\n",
        "output = \"accuracy: \", accuracy\n",
        "output"
      ],
      "id": "0a038316",
      "execution_count": null,
      "outputs": [
        {
          "output_type": "execute_result",
          "data": {
            "text/plain": [
              "('accuracy: ', 0.9172)"
            ]
          },
          "metadata": {
            "tags": []
          },
          "execution_count": 32
        }
      ]
    },
    {
      "cell_type": "markdown",
      "metadata": {
        "id": "e19c4e1d"
      },
      "source": [
        "If you implemented correctly, you should see that the test accuracy\n",
        "on the shuffled images is similar to that on the original\n",
        "images. Think for a moment why shuffling doesn't change the accuracy\n",
        "much."
      ],
      "id": "e19c4e1d"
    },
    {
      "cell_type": "markdown",
      "metadata": {
        "id": "0915f7e9"
      },
      "source": [
        "NNs do not inherently take into account locations in the input as humans\n",
        "do. For instance, the model is not aware that the feature at position\n",
        "(4, 4) is closer to the feature at position (5, 4) compared to\n",
        "position (14, 4)."
      ],
      "id": "0915f7e9"
    },
    {
      "cell_type": "markdown",
      "metadata": {
        "id": "f732ef88"
      },
      "source": [
        "So we can see that an NN classifier does not take into account the\n",
        "spatial information: it's simply maintaining a input feature, and\n",
        "there is no sense of \"closeness\" between pixels that are spatially\n",
        "close to each other."
      ],
      "id": "f732ef88"
    },
    {
      "cell_type": "markdown",
      "metadata": {
        "id": "f2c5231d"
      },
      "source": [
        "### Convolutions"
      ],
      "id": "f2c5231d"
    },
    {
      "cell_type": "markdown",
      "metadata": {
        "id": "cf892c7e"
      },
      "source": [
        "Instead of standard NNs we are going to instead use Convolutional\n",
        "Neural Networks (CNNS). CNNs are commonly used to learn\n",
        "features from images and time series. They takes into account the\n",
        "spatial information allowing for locality."
      ],
      "id": "cf892c7e"
    },
    {
      "cell_type": "markdown",
      "metadata": {
        "id": "d92884da"
      },
      "source": [
        "Let's first define a CNN layer for images. For now let's assume that\n",
        "the input of the CNN layer is a image, and the output of the\n",
        "CNN layer is also an image, usually of a smaller size compared\n",
        "to the input (without input padding). The `parameters` of a CNN layer\n",
        "consist of a little NN that is trying to draw a separator of a region\n",
        "of the image. This is called the `filter`."
      ],
      "id": "d92884da"
    },
    {
      "cell_type": "markdown",
      "metadata": {
        "id": "54669bda"
      },
      "source": [
        "To get the output of the CNN layer, we overlay the filter on\n",
        "top of the input such that it covers part of the input without\n",
        "crossing the image boundary. We start from the upperleft corner."
      ],
      "id": "54669bda"
    },
    {
      "cell_type": "markdown",
      "metadata": {
        "id": "c360e0dc"
      },
      "source": [
        "![image](https://srush.github.io/BT-AI/notebooks/imgs/1.png)"
      ],
      "id": "c360e0dc"
    },
    {
      "cell_type": "markdown",
      "metadata": {
        "id": "8b3bee08"
      },
      "source": [
        "At each overlay position, we apply the filter with the corresponding\n",
        "portion of the input. The filter is converting the region it looks\n",
        "at into a new feature, the same way that we saw last class."
      ],
      "id": "8b3bee08"
    },
    {
      "cell_type": "markdown",
      "metadata": {
        "id": "86cbaede"
      },
      "source": [
        "In this illustration, the input shown in blue is of size 4x4, and\n",
        "the filter shown in pink is of size 2x2. The output size 3x3 is\n",
        "determined by the input size and the filter size."
      ],
      "id": "86cbaede"
    },
    {
      "cell_type": "markdown",
      "metadata": {
        "id": "beeaad66"
      },
      "source": [
        "Now we shift the filter to the right. "
      ],
      "id": "beeaad66"
    },
    {
      "cell_type": "markdown",
      "metadata": {
        "id": "378c10a2"
      },
      "source": [
        "![image](https://srush.github.io/BT-AI/notebooks/imgs/2.png)"
      ],
      "id": "378c10a2"
    },
    {
      "cell_type": "markdown",
      "metadata": {
        "id": "ee9ab224"
      },
      "source": [
        "We shift the filter to the right again. "
      ],
      "id": "ee9ab224"
    },
    {
      "cell_type": "markdown",
      "metadata": {
        "id": "20d4e497"
      },
      "source": [
        "![image](https://srush.github.io/BT-AI/notebooks/imgs/3.png)"
      ],
      "id": "20d4e497"
    },
    {
      "cell_type": "markdown",
      "metadata": {
        "lines_to_next_cell": 2,
        "id": "2c5fd7a4"
      },
      "source": [
        "We can't shift the filter to the right any more since doing\n",
        "so would cross the boundary. Therefore, we start from the first\n",
        "column of the second row"
      ],
      "id": "2c5fd7a4"
    },
    {
      "cell_type": "markdown",
      "metadata": {
        "id": "37ad67a5"
      },
      "source": [
        "![image](https://srush.github.io/BT-AI/notebooks/imgs/4.png)"
      ],
      "id": "37ad67a5"
    },
    {
      "cell_type": "markdown",
      "metadata": {
        "id": "d609097e"
      },
      "source": [
        "Moving right again."
      ],
      "id": "d609097e"
    },
    {
      "cell_type": "markdown",
      "metadata": {
        "id": "860351f5"
      },
      "source": [
        "![image](https://srush.github.io/BT-AI/notebooks/imgs/5.png)"
      ],
      "id": "860351f5"
    },
    {
      "cell_type": "markdown",
      "metadata": {
        "id": "12f1043d"
      },
      "source": [
        "### Pattern Matching"
      ],
      "id": "12f1043d"
    },
    {
      "cell_type": "markdown",
      "metadata": {
        "id": "a9834824"
      },
      "source": [
        "Last week we saw how neural networks were able to learn to match\n",
        "patterns in the training data. For instance they were able to spot\n",
        "certain features in order to distinguish between red and blue points."
      ],
      "id": "a9834824"
    },
    {
      "cell_type": "markdown",
      "metadata": {
        "id": "0bb14f26"
      },
      "source": [
        "CNNs can be used to do the same thing. However, instead of looking at\n",
        "all the features at once they look at small groups of feature. "
      ],
      "id": "0bb14f26"
    },
    {
      "cell_type": "markdown",
      "metadata": {
        "id": "a5b9e74d"
      },
      "source": [
        "CNNs can match patterns with filter weights. For instance, if\n",
        "we set the filter to be $\\begin{bmatrix}-0.5 & 0.5 \\\\ -0.5 &\n",
        "0.5\\end{bmatrix}$, it can detect vertical edges."
      ],
      "id": "a5b9e74d"
    },
    {
      "cell_type": "markdown",
      "metadata": {
        "id": "368298da"
      },
      "source": [
        "In the below example, the first column of the output takes values 1,\n",
        "corresponding to a line in the original image."
      ],
      "id": "368298da"
    },
    {
      "cell_type": "markdown",
      "metadata": {
        "id": "deefe607"
      },
      "source": [
        "![image](https://srush.github.io/BT-AI/notebooks/imgs/edge1.png)"
      ],
      "id": "deefe607"
    },
    {
      "cell_type": "markdown",
      "metadata": {
        "id": "bf72d05d"
      },
      "source": [
        "What if we shift the edge in the original input to the right by 1\n",
        "pixel? We can see that the 1's in the output also shift to the right\n",
        "by 1."
      ],
      "id": "bf72d05d"
    },
    {
      "cell_type": "markdown",
      "metadata": {
        "id": "c045f606"
      },
      "source": [
        "![image](https://srush.github.io/BT-AI/notebooks/imgs/edge2.png)"
      ],
      "id": "c045f606"
    },
    {
      "cell_type": "markdown",
      "metadata": {
        "id": "dbbba387"
      },
      "source": [
        "Similarly, if we shift the edge to the right by 2 pixels, the 1's in\n",
        "the output shift to the right by 2."
      ],
      "id": "dbbba387"
    },
    {
      "cell_type": "markdown",
      "metadata": {
        "lines_to_next_cell": 2,
        "id": "95825996"
      },
      "source": [
        "![image](https://srush.github.io/BT-AI/notebooks/imgs/edge3.png)"
      ],
      "id": "95825996"
    },
    {
      "cell_type": "markdown",
      "metadata": {
        "id": "c9ab7ee0"
      },
      "source": [
        "# Group Exercise A"
      ],
      "id": "c9ab7ee0"
    },
    {
      "cell_type": "markdown",
      "metadata": {
        "id": "cb5e8f67"
      },
      "source": [
        "## Question 0"
      ],
      "id": "cb5e8f67"
    },
    {
      "cell_type": "markdown",
      "metadata": {
        "id": "1026c303"
      },
      "source": [
        "Icebreakers"
      ],
      "id": "1026c303"
    },
    {
      "cell_type": "markdown",
      "metadata": {
        "id": "d90a733d"
      },
      "source": [
        "Who are other members of your group today?"
      ],
      "id": "d90a733d"
    },
    {
      "cell_type": "markdown",
      "metadata": {
        "id": "T_0MvBkwryt8"
      },
      "source": [
        "Kera McGovern, Grace Leverett and Razan Tatai "
      ],
      "id": "T_0MvBkwryt8"
    },
    {
      "cell_type": "markdown",
      "metadata": {
        "lines_to_next_cell": 2,
        "id": "17653369"
      },
      "source": [
        "📝📝📝📝 FILLME"
      ],
      "id": "17653369"
    },
    {
      "cell_type": "markdown",
      "metadata": {
        "id": "4f695575"
      },
      "source": [
        "* What's their favorite flower or plant?"
      ],
      "id": "4f695575"
    },
    {
      "cell_type": "markdown",
      "metadata": {
        "id": "HPfidNB5sg65"
      },
      "source": [
        "Rose and trees "
      ],
      "id": "HPfidNB5sg65"
    },
    {
      "cell_type": "markdown",
      "metadata": {
        "lines_to_next_cell": 2,
        "id": "9a7cc664"
      },
      "source": [
        "📝📝📝📝 FILLME"
      ],
      "id": "9a7cc664"
    },
    {
      "cell_type": "markdown",
      "metadata": {
        "id": "7319b086"
      },
      "source": [
        "* Do they prefer to work from home or in the office?"
      ],
      "id": "7319b086"
    },
    {
      "cell_type": "markdown",
      "metadata": {
        "id": "xAhiKgqYskOE"
      },
      "source": [
        "Work from home"
      ],
      "id": "xAhiKgqYskOE"
    },
    {
      "cell_type": "markdown",
      "metadata": {
        "id": "0a90f27d"
      },
      "source": [
        "📝📝📝📝 FILLME"
      ],
      "id": "0a90f27d"
    },
    {
      "cell_type": "markdown",
      "metadata": {
        "id": "9c292fe9"
      },
      "source": [
        "## Question 1"
      ],
      "id": "9c292fe9"
    },
    {
      "cell_type": "markdown",
      "metadata": {
        "id": "ee9a2ccd"
      },
      "source": [
        "Brainstorm ways that you might write a program tell apart the digits 5 and 6."
      ],
      "id": "ee9a2ccd"
    },
    {
      "cell_type": "code",
      "metadata": {
        "execution": {
          "iopub.execute_input": "2021-08-02T20:01:09.034873Z",
          "iopub.status.busy": "2021-08-02T20:01:09.034131Z",
          "iopub.status.idle": "2021-08-02T20:01:09.037200Z",
          "shell.execute_reply": "2021-08-02T20:01:09.037770Z"
        },
        "id": "0931c677"
      },
      "source": [
        "#📝📝📝📝 FILLME\n",
        "By writing 2 by 2 functions "
      ],
      "id": "0931c677",
      "execution_count": null,
      "outputs": []
    },
    {
      "cell_type": "markdown",
      "metadata": {
        "id": "27815661"
      },
      "source": [
        "Do these methods need to look at the whole image? Which parts do they need to look at?"
      ],
      "id": "27815661"
    },
    {
      "cell_type": "code",
      "metadata": {
        "execution": {
          "iopub.execute_input": "2021-08-02T20:01:09.043564Z",
          "iopub.status.busy": "2021-08-02T20:01:09.042671Z",
          "iopub.status.idle": "2021-08-02T20:01:09.045469Z",
          "shell.execute_reply": "2021-08-02T20:01:09.046154Z"
        },
        "id": "03a3a219"
      },
      "source": [
        "#📝📝📝📝 FILLME\n",
        "Yes, they need to look at the parts of which the image will appear on."
      ],
      "id": "03a3a219",
      "execution_count": null,
      "outputs": []
    },
    {
      "cell_type": "markdown",
      "metadata": {
        "id": "cb725b91"
      },
      "source": [
        " Would these approaches still work if the digits were bigger or smaller? What if they moved around on the page? "
      ],
      "id": "cb725b91"
    },
    {
      "cell_type": "markdown",
      "metadata": {
        "id": "KzRiHncMQCVm"
      },
      "source": [
        "If the digits were bigger or smaller, these approaches would generally still work. However, if the image is too small, it might not work because it would be more difficult to detect the angle towards the top of the 5 as well. If the digits moved around on the page, we would have to look at the whole image in order to look at the pixels correctly for the methods to apply to determine which digit it is. If our method used relative location to detect where the number is on the page, then these approaches would work, because they would check where the pixels are located in relation to other pixels that makes up the digit."
      ],
      "id": "KzRiHncMQCVm"
    },
    {
      "cell_type": "markdown",
      "metadata": {
        "id": "7ab09c02"
      },
      "source": [
        "## Question 2"
      ],
      "id": "7ab09c02"
    },
    {
      "cell_type": "markdown",
      "metadata": {
        "id": "d66d6c22"
      },
      "source": [
        "Now it is your turn to finish the result of the CNN computations. Write\n",
        "down the full result of applying this CNN layer to the given\n",
        "input."
      ],
      "id": "d66d6c22"
    },
    {
      "cell_type": "code",
      "metadata": {
        "execution": {
          "iopub.execute_input": "2021-08-02T20:01:09.061345Z",
          "iopub.status.busy": "2021-08-02T20:01:09.060442Z",
          "iopub.status.idle": "2021-08-02T20:01:09.064360Z",
          "shell.execute_reply": "2021-08-02T20:01:09.063543Z"
        },
        "id": "a500ba89"
      },
      "source": [
        "#📝📝📝📝 FILLME\n",
        "# 2 2 3, 1 2 1, 1 1 0"
      ],
      "id": "a500ba89",
      "execution_count": null,
      "outputs": []
    },
    {
      "cell_type": "markdown",
      "metadata": {
        "id": "96b66dde"
      },
      "source": [
        "If we increase the height of the input by 1, how would the size of the output change?\n",
        "If we increase the width of the filter by 1, how would the size of the output change?**"
      ],
      "id": "96b66dde"
    },
    {
      "cell_type": "code",
      "metadata": {
        "execution": {
          "iopub.execute_input": "2021-08-02T20:01:09.069938Z",
          "iopub.status.busy": "2021-08-02T20:01:09.069047Z",
          "iopub.status.idle": "2021-08-02T20:01:09.072940Z",
          "shell.execute_reply": "2021-08-02T20:01:09.072139Z"
        },
        "lines_to_next_cell": 2,
        "id": "e7e15386"
      },
      "source": [
        "#📝📝📝📝 FILLME\n",
        "# If the input's height is increased by 1, the output would be 4x3. "
      ],
      "id": "e7e15386",
      "execution_count": null,
      "outputs": []
    },
    {
      "cell_type": "markdown",
      "metadata": {
        "id": "5fba07d7"
      },
      "source": [
        "In the above illustrations, it seems that a CNN layer processes the input image in a sequential order. Are computations at different positions dependent upon each other? Can we use a different order such as starting from the bottom right corner? "
      ],
      "id": "5fba07d7"
    },
    {
      "cell_type": "code",
      "metadata": {
        "execution": {
          "iopub.execute_input": "2021-08-02T20:01:09.078675Z",
          "iopub.status.busy": "2021-08-02T20:01:09.077774Z",
          "iopub.status.idle": "2021-08-02T20:01:09.081697Z",
          "shell.execute_reply": "2021-08-02T20:01:09.080775Z"
        },
        "id": "955a2b5b"
      },
      "source": [
        "#📝📝📝📝 FILLME\n",
        "Computations are at different positions dependent upon each other and we can use a different order such as starting from the bottom right corner. "
      ],
      "id": "955a2b5b",
      "execution_count": null,
      "outputs": []
    },
    {
      "cell_type": "markdown",
      "metadata": {
        "id": "62ae0206"
      },
      "source": [
        "## Question 3"
      ],
      "id": "62ae0206"
    },
    {
      "cell_type": "markdown",
      "metadata": {
        "id": "bd0456b2"
      },
      "source": [
        "Design a filter to detect edges in the horizontal direction.**"
      ],
      "id": "bd0456b2"
    },
    {
      "cell_type": "code",
      "metadata": {
        "execution": {
          "iopub.execute_input": "2021-08-02T20:01:09.087617Z",
          "iopub.status.busy": "2021-08-02T20:01:09.086683Z",
          "iopub.status.idle": "2021-08-02T20:01:09.089624Z",
          "shell.execute_reply": "2021-08-02T20:01:09.090324Z"
        },
        "lines_to_next_cell": 2,
        "id": "44930a60"
      },
      "source": [
        "#📝📝📝📝 FILLME\n",
        "def threshold(img, lowThresholdRatio=0.05, highThresholdRatio=0.09):\n",
        "    \n",
        "    highThreshold = img.max() * highThresholdRatio;\n",
        "    lowThreshold = highThreshold * lowThresholdRatio;\n",
        "    \n",
        "    M, N = img.shape\n",
        "    res = np.zeros((M,N), dtype=np.int32)\n",
        "    \n",
        "    weak = np.int32(25)\n",
        "    strong = np.int32(255)\n",
        "    \n",
        "    strong_i, strong_j = np.where(img >= highThreshold)\n",
        "    zeros_i, zeros_j = np.where(img < lowThreshold)\n",
        "    \n",
        "    weak_i, weak_j = np.where((img <= highThreshold) & (img >= lowThreshold))\n",
        "    \n",
        "    res[strong_i, strong_j] = strong\n",
        "    res[weak_i, weak_j] = weak\n",
        "    \n",
        "    return (res, weak, strong)"
      ],
      "id": "44930a60",
      "execution_count": null,
      "outputs": []
    },
    {
      "cell_type": "markdown",
      "metadata": {
        "id": "1bfbc646"
      },
      "source": [
        "Design a filter to detect edges along a diagonal direction.**"
      ],
      "id": "1bfbc646"
    },
    {
      "cell_type": "code",
      "metadata": {
        "execution": {
          "iopub.execute_input": "2021-08-02T20:01:09.095946Z",
          "iopub.status.busy": "2021-08-02T20:01:09.095129Z",
          "iopub.status.idle": "2021-08-02T20:01:09.098764Z",
          "shell.execute_reply": "2021-08-02T20:01:09.098096Z"
        },
        "id": "2899069f"
      },
      "source": [
        "#📝📝📝📝 FILLME\n",
        "def features_filters(img):\n",
        "    Kx = np.array([[-1, 0, 1], [-2, 0, 2], [-1, 0, 1]], np.float32)\n",
        "    Ky = np.array([[1, 2, 1], [0, 0, 0], [-1, -2, -1]], np.float32)\n",
        "    \n",
        "    Ix = ndimage.filters.convolve(img, Kx)\n",
        "    Iy = ndimage.filters.convolve(img, Ky)\n",
        "    \n",
        "    G = np.hypot(Ix, Iy)\n",
        "    G = G / G.max() * 255\n",
        "    theta = np.arctan2(Iy, Ix)\n",
        "    \n",
        "    return (G, theta)"
      ],
      "id": "2899069f",
      "execution_count": null,
      "outputs": []
    },
    {
      "cell_type": "markdown",
      "metadata": {
        "id": "a3a10a92"
      },
      "source": [
        "Is it possible to design a filter to detect other edges such as curves?"
      ],
      "id": "a3a10a92"
    },
    {
      "cell_type": "code",
      "metadata": {
        "execution": {
          "iopub.execute_input": "2021-08-02T20:01:09.104480Z",
          "iopub.status.busy": "2021-08-02T20:01:09.103552Z",
          "iopub.status.idle": "2021-08-02T20:01:09.106983Z",
          "shell.execute_reply": "2021-08-02T20:01:09.105990Z"
        },
        "lines_to_next_cell": 2,
        "id": "4acf32cf"
      },
      "source": [
        "#📝📝📝📝 FILLME\n",
        "# Yes"
      ],
      "id": "4acf32cf",
      "execution_count": null,
      "outputs": []
    },
    {
      "cell_type": "markdown",
      "metadata": {
        "id": "969fad34"
      },
      "source": [
        "## Unit B"
      ],
      "id": "969fad34"
    },
    {
      "cell_type": "markdown",
      "metadata": {
        "id": "944f4c09"
      },
      "source": [
        "### Multiple Filters"
      ],
      "id": "944f4c09"
    },
    {
      "cell_type": "markdown",
      "metadata": {
        "id": "741e87b3"
      },
      "source": [
        "In practice, we want to go beyond only being able to detect a single\n",
        "type of edge. Therefore, instead of only using a single\n",
        "filter, we use multiple \"output channels\", each with a\n",
        "different filter, such that each output channel can detect a\n",
        "different kind of pattern."
      ],
      "id": "741e87b3"
    },
    {
      "cell_type": "markdown",
      "metadata": {
        "id": "511b8b7d"
      },
      "source": [
        "The output shape is thereby augmented by\n",
        "an output channel dimension, forming a 3-D shape of size (output\n",
        "height, output width, output channels)."
      ],
      "id": "511b8b7d"
    },
    {
      "cell_type": "markdown",
      "metadata": {
        "id": "7158e298"
      },
      "source": [
        "Similarly, the input can also have multiple channels: for example,\n",
        "the input may be color image split into red, green, and blue channels.\n",
        "Or it can be the output of a\n",
        "previous CNN layer with multiple output channels."
      ],
      "id": "7158e298"
    },
    {
      "cell_type": "markdown",
      "metadata": {
        "id": "6e61db2c"
      },
      "source": [
        "Instead of using a single filter, we use one filter per input\n",
        "channel, then apply the convolution operation to each input channel\n",
        "independently. This process is illustrated below, where for\n",
        "simplicity we only use a single output channel."
      ],
      "id": "6e61db2c"
    },
    {
      "cell_type": "markdown",
      "metadata": {
        "id": "c05f9130"
      },
      "source": [
        "![image](https://srush.github.io/BT-AI/notebooks/imgs/multi_input_channels.png)"
      ],
      "id": "c05f9130"
    },
    {
      "cell_type": "markdown",
      "metadata": {
        "id": "54e866a6"
      },
      "source": [
        "One of the tricky parts of CNNs is keeping track of all of the\n",
        "elements grouped together."
      ],
      "id": "54e866a6"
    },
    {
      "cell_type": "markdown",
      "metadata": {
        "lines_to_next_cell": 2,
        "id": "c31efd45"
      },
      "source": [
        "1. input: (num images, input height, input width, input channels).\n",
        "2. output: (num images, output height, output width, output channels).\n",
        "3. filter: (filter height, filter width, input channels, output channels)."
      ],
      "id": "c31efd45"
    },
    {
      "cell_type": "markdown",
      "metadata": {
        "id": "09d3f443"
      },
      "source": [
        "### CNN Visualization "
      ],
      "id": "09d3f443"
    },
    {
      "cell_type": "markdown",
      "metadata": {
        "id": "853beee6"
      },
      "source": [
        "In the above discussions, we can see that a CNN layer can detect\n",
        "edges in the input image. By stacking multiple layers of CNNs\n",
        "together, it can learn to build up more and more sophisticated\n",
        "pattern matchers, detecting not only edges, but also mid-level and\n",
        "high-level patterns."
      ],
      "id": "853beee6"
    },
    {
      "cell_type": "markdown",
      "metadata": {
        "id": "cf95d105"
      },
      "source": [
        "To get a sense of how a CNN works in practice\n",
        "and the types of patterns it can match, let us look at the CNN\n",
        "Explainer. For now let's just play with the demo on the top of the\n",
        "website."
      ],
      "id": "cf95d105"
    },
    {
      "cell_type": "markdown",
      "metadata": {
        "id": "078819b1"
      },
      "source": [
        "[CNN Explainer](https://poloclub.github.io/cnn-explainer/)"
      ],
      "id": "078819b1"
    },
    {
      "cell_type": "markdown",
      "metadata": {
        "id": "d9ad2aa6"
      },
      "source": [
        "There are several things to look at in the tool."
      ],
      "id": "d9ad2aa6"
    },
    {
      "cell_type": "markdown",
      "metadata": {
        "id": "381d4b8c"
      },
      "source": [
        "1. What's the height and width of the input image?\n",
        "2. What's the number of the output channels of conv_1_1?\n",
        "3. What kind of patterns does the model use for each image?"
      ],
      "id": "381d4b8c"
    },
    {
      "cell_type": "markdown",
      "metadata": {
        "id": "cf47c955"
      },
      "source": [
        "### CNN in Keras"
      ],
      "id": "cf47c955"
    },
    {
      "cell_type": "markdown",
      "metadata": {
        "id": "d54cbbb0"
      },
      "source": [
        "Let's take a look at how to create a CNN layer in Keras.\n",
        "```\n",
        "Conv2D(\n",
        "   filters,\n",
        "   kernel_size,\n",
        "   strides=(1, 1),\n",
        "   padding=\"valid\",\n",
        ")\n",
        "```"
      ],
      "id": "d54cbbb0"
    },
    {
      "cell_type": "markdown",
      "metadata": {
        "id": "2767ff45"
      },
      "source": [
        "The argument `filters` specifies the number of output channels. The\n",
        "argument `kernel_size` is a tuple (height, width) specifying the\n",
        "size of the filter."
      ],
      "id": "2767ff45"
    },
    {
      "cell_type": "markdown",
      "metadata": {
        "id": "bcb31f12"
      },
      "source": [
        "Now let's discuss what `strides` does.  In the above convolution\n",
        "layer examples, when we shift the filter to the right, we move by 1\n",
        "pixel; similarly, when we move the filter down, we move down 1\n",
        "pixel."
      ],
      "id": "bcb31f12"
    },
    {
      "cell_type": "markdown",
      "metadata": {
        "id": "2268836a"
      },
      "source": [
        "We can generalize the step size of movements using strides. For\n",
        "example, we can use a stride of 2 along the width dimension, so we\n",
        "move by two pixels each time we move right (note that we still move\n",
        "down by 1 pixel since the stride along the height dimension is 1),\n",
        "resulting an output of size 3 x 2."
      ],
      "id": "2268836a"
    },
    {
      "cell_type": "markdown",
      "metadata": {
        "id": "38a840e7"
      },
      "source": [
        "![image](https://srush.github.io/BT-AI/notebooks/imgs/stride1.png)"
      ],
      "id": "38a840e7"
    },
    {
      "cell_type": "markdown",
      "metadata": {
        "id": "01821146"
      },
      "source": [
        "![image](https://srush.github.io/BT-AI/notebooks/imgs/stride2.png)"
      ],
      "id": "01821146"
    },
    {
      "cell_type": "markdown",
      "metadata": {
        "id": "f0c248d0"
      },
      "source": [
        "![image](https://srush.github.io/BT-AI/notebooks/imgs/stride3.png)"
      ],
      "id": "f0c248d0"
    },
    {
      "cell_type": "markdown",
      "metadata": {
        "id": "1bf1abdf"
      },
      "source": [
        "![image](https://srush.github.io/BT-AI/notebooks/imgs/stride4.png)"
      ],
      "id": "1bf1abdf"
    },
    {
      "cell_type": "markdown",
      "metadata": {
        "id": "ccc32802"
      },
      "source": [
        "![image](https://srush.github.io/BT-AI/notebooks/imgs/stride5.png)"
      ],
      "id": "ccc32802"
    },
    {
      "cell_type": "markdown",
      "metadata": {
        "id": "64108610"
      },
      "source": [
        "![image](https://srush.github.io/BT-AI/notebooks/imgs/stride6.png)"
      ],
      "id": "64108610"
    },
    {
      "cell_type": "markdown",
      "metadata": {
        "lines_to_next_cell": 2,
        "id": "b76d77ef"
      },
      "source": [
        "👩🎓**Student question: What would the output be if we use a stride of 2 both along the width dimension and the height dimension?**"
      ],
      "id": "b76d77ef"
    },
    {
      "cell_type": "code",
      "metadata": {
        "execution": {
          "iopub.execute_input": "2021-08-02T20:01:09.114514Z",
          "iopub.status.busy": "2021-08-02T20:01:09.113720Z",
          "iopub.status.idle": "2021-08-02T20:01:09.117678Z",
          "shell.execute_reply": "2021-08-02T20:01:09.116866Z"
        },
        "id": "ff883a8b"
      },
      "source": [
        "#📝📝📝📝 FILLME\n",
        "pass"
      ],
      "id": "ff883a8b",
      "execution_count": null,
      "outputs": []
    },
    {
      "cell_type": "markdown",
      "metadata": {
        "id": "5006ef29"
      },
      "source": [
        "### Convolution Layers in Keras"
      ],
      "id": "5006ef29"
    },
    {
      "cell_type": "markdown",
      "metadata": {
        "id": "8bc8de7b"
      },
      "source": [
        "Now we are ready to implement a CNN layer in Keras! First, we need to import `Conv2D` from `keras.layers`."
      ],
      "id": "8bc8de7b"
    },
    {
      "cell_type": "code",
      "metadata": {
        "execution": {
          "iopub.execute_input": "2021-08-02T20:01:09.123692Z",
          "iopub.status.busy": "2021-08-02T20:01:09.122834Z",
          "iopub.status.idle": "2021-08-02T20:01:09.126171Z",
          "shell.execute_reply": "2021-08-02T20:01:09.126829Z"
        },
        "id": "b6062935"
      },
      "source": [
        "from keras.layers import Conv2D"
      ],
      "id": "b6062935",
      "execution_count": null,
      "outputs": []
    },
    {
      "cell_type": "markdown",
      "metadata": {
        "id": "b35aa964"
      },
      "source": [
        "Now let's use Keras to verify the convolution results we calculated before."
      ],
      "id": "b35aa964"
    },
    {
      "cell_type": "markdown",
      "metadata": {
        "id": "c5161e1a"
      },
      "source": [
        "![image](https://srush.github.io/BT-AI/notebooks/imgs/9.png)"
      ],
      "id": "c5161e1a"
    },
    {
      "cell_type": "markdown",
      "metadata": {
        "id": "d890c7f2"
      },
      "source": [
        "Note that we need to do lots of reshapes to add the sample\n",
        "dimension, or the input/output channel dimension. To recap, the\n",
        "relevant shapes are:"
      ],
      "id": "d890c7f2"
    },
    {
      "cell_type": "markdown",
      "metadata": {
        "id": "1cc992c0"
      },
      "source": [
        "1. input: (num samples, input height, input width, input channels).\n",
        "2. output: (num samples, output height, output width, output channels).\n",
        "3. filter: (filter height, filter width, input channels, output channels)."
      ],
      "id": "1cc992c0"
    },
    {
      "cell_type": "code",
      "metadata": {
        "execution": {
          "iopub.execute_input": "2021-08-02T20:01:09.134274Z",
          "iopub.status.busy": "2021-08-02T20:01:09.133366Z",
          "iopub.status.idle": "2021-08-02T20:01:09.137048Z",
          "shell.execute_reply": "2021-08-02T20:01:09.136137Z"
        },
        "lines_to_next_cell": 1,
        "id": "1737cb9f"
      },
      "source": [
        "input = [[1, 0, 1, 0],\n",
        "         [0, 1, 1, 1],\n",
        "         [0, 1, 0, 0],\n",
        "         [1, 0, 0, 0]]\n",
        "filter = [[1, 0.],\n",
        "          [1, 1.]] "
      ],
      "id": "1737cb9f",
      "execution_count": null,
      "outputs": []
    },
    {
      "cell_type": "code",
      "metadata": {
        "execution": {
          "iopub.execute_input": "2021-08-02T20:01:09.146321Z",
          "iopub.status.busy": "2021-08-02T20:01:09.145413Z",
          "iopub.status.idle": "2021-08-02T20:01:09.149111Z",
          "shell.execute_reply": "2021-08-02T20:01:09.148359Z"
        },
        "lines_to_next_cell": 1,
        "id": "f9b4e264"
      },
      "source": [
        "def cnn(input, filter):\n",
        "    # Code to shape the correct\n",
        "    filter = tf.convert_to_tensor(filter, dtype=tf.float32)\n",
        "    filter = tf.reshape(filter, (2, 2, 1, 1))\n",
        "    input = tf.convert_to_tensor(input, dtype=tf.float32)\n",
        "    input = tf.reshape(input, (1, 4, 4, 1))\n",
        "\n",
        "    # Call Keras \n",
        "    cnn_layer = Conv2D(filters=1, kernel_size=(2, 2))\n",
        "    cnn_layer(input)\n",
        "    cnn_layer.set_weights((filter, tf.convert_to_tensor([0.])))\n",
        "    output = cnn_layer(input)\n",
        "\n",
        "    # Output\n",
        "    return tf.reshape(output, (3, 3))"
      ],
      "id": "f9b4e264",
      "execution_count": null,
      "outputs": []
    },
    {
      "cell_type": "code",
      "metadata": {
        "execution": {
          "iopub.execute_input": "2021-08-02T20:01:09.162063Z",
          "iopub.status.busy": "2021-08-02T20:01:09.157675Z",
          "iopub.status.idle": "2021-08-02T20:01:09.185157Z",
          "shell.execute_reply": "2021-08-02T20:01:09.184359Z"
        },
        "id": "b733d1a4",
        "colab": {
          "base_uri": "https://localhost:8080/"
        },
        "outputId": "91804ef0-c3f2-4464-ea40-5615f774402f"
      },
      "source": [
        "print(cnn(input, filter))"
      ],
      "id": "b733d1a4",
      "execution_count": null,
      "outputs": [
        {
          "output_type": "stream",
          "text": [
            "tf.Tensor(\n",
            "[[2. 2. 3.]\n",
            " [1. 2. 1.]\n",
            " [1. 1. 0.]], shape=(3, 3), dtype=float32)\n"
          ],
          "name": "stdout"
        }
      ]
    },
    {
      "cell_type": "markdown",
      "metadata": {
        "id": "0d34df62"
      },
      "source": [
        "Nice, our calculations were correct!"
      ],
      "id": "0d34df62"
    },
    {
      "cell_type": "markdown",
      "metadata": {
        "id": "18383022"
      },
      "source": [
        "### Pooling"
      ],
      "id": "18383022"
    },
    {
      "cell_type": "markdown",
      "metadata": {
        "lines_to_next_cell": 2,
        "id": "57e75d56"
      },
      "source": [
        "In a convolution layer, we took the convolution between the filter\n",
        "and a portion of the input to calculate the output. However sometimes\n",
        "these areas are very small. What if we want a feature over a larger\n",
        "area?"
      ],
      "id": "57e75d56"
    },
    {
      "cell_type": "markdown",
      "metadata": {
        "id": "f2a2ecb2"
      },
      "source": [
        "If we simply take the max value of that portion of input instead of\n",
        "using the convolution, we get a max pooling layer, as illustrated\n",
        "below."
      ],
      "id": "f2a2ecb2"
    },
    {
      "cell_type": "markdown",
      "metadata": {
        "id": "1497d305"
      },
      "source": [
        "![image](https://srush.github.io/BT-AI/notebooks/imgs/max1.png)"
      ],
      "id": "1497d305"
    },
    {
      "cell_type": "markdown",
      "metadata": {
        "id": "90f27260"
      },
      "source": [
        "![image](https://srush.github.io/BT-AI/notebooks/imgs/max2.png)"
      ],
      "id": "90f27260"
    },
    {
      "cell_type": "markdown",
      "metadata": {
        "id": "2f4c7471"
      },
      "source": [
        "![image](https://srush.github.io/BT-AI/notebooks/imgs/max3.png)"
      ],
      "id": "2f4c7471"
    },
    {
      "cell_type": "markdown",
      "metadata": {
        "id": "b20d0471"
      },
      "source": [
        "![image](https://srush.github.io/BT-AI/notebooks/imgs/max4.png)"
      ],
      "id": "b20d0471"
    },
    {
      "cell_type": "markdown",
      "metadata": {
        "id": "e2f93565"
      },
      "source": [
        "![image](https://srush.github.io/BT-AI/notebooks/imgs/max5.png)"
      ],
      "id": "e2f93565"
    },
    {
      "cell_type": "markdown",
      "metadata": {
        "id": "5d4f3346"
      },
      "source": [
        "![image](https://srush.github.io/BT-AI/notebooks/imgs/max6.png)"
      ],
      "id": "5d4f3346"
    },
    {
      "cell_type": "markdown",
      "metadata": {
        "id": "dbf06831"
      },
      "source": [
        "![image](https://srush.github.io/BT-AI/notebooks/imgs/max7.png)"
      ],
      "id": "dbf06831"
    },
    {
      "cell_type": "markdown",
      "metadata": {
        "id": "907e05b3"
      },
      "source": [
        "![image](https://srush.github.io/BT-AI/notebooks/imgs/max8.png)"
      ],
      "id": "907e05b3"
    },
    {
      "cell_type": "markdown",
      "metadata": {
        "id": "c588e417"
      },
      "source": [
        "![image](https://srush.github.io/BT-AI/notebooks/imgs/max9.png)"
      ],
      "id": "c588e417"
    },
    {
      "cell_type": "markdown",
      "metadata": {
        "id": "9d8e9cf1"
      },
      "source": [
        "Let's take a look at how to create a max pooling layer in Keras.\n",
        "```\n",
        "MaxPool2D(\n",
        "    pool_size=(2, 2),\n",
        "    strides=None,\n",
        "    **kwargs\n",
        ")\n",
        "```\n",
        "Notice how similar it is to convolution layers? Can you infer what `strides` does here?"
      ],
      "id": "9d8e9cf1"
    },
    {
      "cell_type": "markdown",
      "metadata": {
        "id": "fb9c001b"
      },
      "source": [
        "Now let's use Keras to verify the max pooling results above."
      ],
      "id": "fb9c001b"
    },
    {
      "cell_type": "code",
      "metadata": {
        "execution": {
          "iopub.execute_input": "2021-08-02T20:01:09.191301Z",
          "iopub.status.busy": "2021-08-02T20:01:09.190428Z",
          "iopub.status.idle": "2021-08-02T20:01:09.193421Z",
          "shell.execute_reply": "2021-08-02T20:01:09.192611Z"
        },
        "id": "31998d52"
      },
      "source": [
        "from keras.layers import MaxPool2D"
      ],
      "id": "31998d52",
      "execution_count": null,
      "outputs": []
    },
    {
      "cell_type": "code",
      "metadata": {
        "execution": {
          "iopub.execute_input": "2021-08-02T20:01:09.199183Z",
          "iopub.status.busy": "2021-08-02T20:01:09.198351Z",
          "iopub.status.idle": "2021-08-02T20:01:09.201687Z",
          "shell.execute_reply": "2021-08-02T20:01:09.200960Z"
        },
        "id": "a7eba741"
      },
      "source": [
        "input = [\n",
        "    [1, 0, 1, 0],\n",
        "    [0, 1, 1, 1],\n",
        "    [0, 1, 0, 0],\n",
        "    [1, 0, 0, 0]\n",
        "]"
      ],
      "id": "a7eba741",
      "execution_count": null,
      "outputs": []
    },
    {
      "cell_type": "code",
      "metadata": {
        "execution": {
          "iopub.execute_input": "2021-08-02T20:01:09.211063Z",
          "iopub.status.busy": "2021-08-02T20:01:09.210171Z",
          "iopub.status.idle": "2021-08-02T20:01:09.217389Z",
          "shell.execute_reply": "2021-08-02T20:01:09.216532Z"
        },
        "id": "fb34f923",
        "colab": {
          "base_uri": "https://localhost:8080/"
        },
        "outputId": "481f357b-004a-4cad-ec4a-8f6422cbe68b"
      },
      "source": [
        "input_shape = (1, 4, 4, 1)\n",
        "input = tf.convert_to_tensor(input, dtype=tf.float32)\n",
        "input = tf.reshape(input, input_shape)\n",
        "pooling_layer = MaxPool2D(pool_size=(2, 2),\n",
        "                          strides=(1, 1))\n",
        "output = pooling_layer(input)\n",
        "print (tf.reshape(output, (3, 3)))"
      ],
      "id": "fb34f923",
      "execution_count": null,
      "outputs": [
        {
          "output_type": "stream",
          "text": [
            "tf.Tensor(\n",
            "[[1. 1. 1.]\n",
            " [1. 1. 1.]\n",
            " [1. 1. 0.]], shape=(3, 3), dtype=float32)\n"
          ],
          "name": "stdout"
        }
      ]
    },
    {
      "cell_type": "markdown",
      "metadata": {
        "id": "17549057"
      },
      "source": [
        "In the above example we used `strides=(1,1)`. "
      ],
      "id": "17549057"
    },
    {
      "cell_type": "markdown",
      "metadata": {
        "id": "ae096f17"
      },
      "source": [
        "### Putting Everything Together"
      ],
      "id": "ae096f17"
    },
    {
      "cell_type": "markdown",
      "metadata": {
        "id": "6b8590f8"
      },
      "source": [
        "![image](https://upload.wikimedia.org/wikipedia/commons/6/63/Typical_cnn.png)"
      ],
      "id": "6b8590f8"
    },
    {
      "cell_type": "markdown",
      "metadata": {
        "id": "1081fee3"
      },
      "source": [
        "Now we can put everything together to build a full CNN classifier\n",
        "for MNIST classification. Below shows an example model, where we\n",
        "need to use a `Reshape` layer to reshape the input into a\n",
        "single-channel 2-D image, as well as a `Flatten` layer to flatten\n",
        "the feature map back to a vector."
      ],
      "id": "1081fee3"
    },
    {
      "cell_type": "code",
      "metadata": {
        "execution": {
          "iopub.execute_input": "2021-08-02T20:01:09.223422Z",
          "iopub.status.busy": "2021-08-02T20:01:09.222529Z",
          "iopub.status.idle": "2021-08-02T20:01:09.226355Z",
          "shell.execute_reply": "2021-08-02T20:01:09.225572Z"
        },
        "lines_to_next_cell": 1,
        "id": "8833ff1f"
      },
      "source": [
        "from keras.layers import Flatten, Reshape"
      ],
      "id": "8833ff1f",
      "execution_count": null,
      "outputs": []
    },
    {
      "cell_type": "code",
      "metadata": {
        "execution": {
          "iopub.execute_input": "2021-08-02T20:01:09.240636Z",
          "iopub.status.busy": "2021-08-02T20:01:09.239555Z",
          "iopub.status.idle": "2021-08-02T20:01:57.425629Z",
          "shell.execute_reply": "2021-08-02T20:01:57.424698Z"
        },
        "id": "73c84d42",
        "colab": {
          "base_uri": "https://localhost:8080/"
        },
        "outputId": "b7712ec4-7be8-4579-df2c-9f4201912a1e"
      },
      "source": [
        "def create_cnn_model():\n",
        "    # create model\n",
        "    input_shape = (28, 28, 1)\n",
        "    model = Sequential()\n",
        "    model.add(Reshape(input_shape))\n",
        "    model.add(Conv2D(32, kernel_size=(3, 3), activation=\"relu\"))\n",
        "    model.add(MaxPool2D(pool_size=(2, 2)))\n",
        "    model.add(Conv2D(64, kernel_size=(3, 3), activation=\"relu\"))\n",
        "    model.add(MaxPool2D(pool_size=(2, 2)))\n",
        "    model.add(Flatten())\n",
        "    model.add(Dense(10, activation=\"softmax\")) # output a vector of size 10\n",
        "    # Compile model\n",
        "    model.compile(loss=\"sparse_categorical_crossentropy\",\n",
        "                   optimizer=\"adam\",\n",
        "                   metrics=[\"accuracy\"])\n",
        "    return model\n",
        " #\n",
        " # create model\n",
        "model = KerasClassifier(build_fn=create_cnn_model,\n",
        "                         epochs=2,\n",
        "                         batch_size=20,\n",
        "                         verbose=0)\n",
        "# fit model\n",
        "model.fit(x=df_train[features].astype(float),\n",
        "          y=df_train[\"class\"])\n",
        "df_test[\"predict\"] = model.predict(df_test[features])\n",
        "correct = (df_test[\"predict\"] == df_test[\"class\"])\n",
        "accuracy = correct.sum() / correct.size\n",
        "print (\"accuracy: \", accuracy)"
      ],
      "id": "73c84d42",
      "execution_count": null,
      "outputs": [
        {
          "output_type": "stream",
          "text": [
            "accuracy:  0.9791\n"
          ],
          "name": "stdout"
        }
      ]
    },
    {
      "cell_type": "markdown",
      "metadata": {
        "id": "e41203f6"
      },
      "source": [
        "We are able to get much better accuracy than using basic NNs!"
      ],
      "id": "e41203f6"
    },
    {
      "cell_type": "markdown",
      "metadata": {
        "id": "4b39c703"
      },
      "source": [
        "# Group Exercise B"
      ],
      "id": "4b39c703"
    },
    {
      "cell_type": "markdown",
      "metadata": {
        "id": "d57b4493"
      },
      "source": [
        "## Question 1"
      ],
      "id": "d57b4493"
    },
    {
      "cell_type": "markdown",
      "metadata": {
        "id": "6b273f2b"
      },
      "source": [
        "Apply the CNN model to the shuffled MNIST dataset. What accuracy do\n",
        "you get? Is that what you expected?"
      ],
      "id": "6b273f2b"
    },
    {
      "cell_type": "code",
      "metadata": {
        "execution": {
          "iopub.execute_input": "2021-08-02T20:01:57.432391Z",
          "iopub.status.busy": "2021-08-02T20:01:57.431228Z",
          "iopub.status.idle": "2021-08-02T20:01:57.434679Z",
          "shell.execute_reply": "2021-08-02T20:01:57.433762Z"
        },
        "id": "e89324e5",
        "colab": {
          "base_uri": "https://localhost:8080/"
        },
        "outputId": "51dc17a2-d514-4f65-ed40-3732ccc64dbe"
      },
      "source": [
        "#📝📝📝📝 FILLME\n",
        "shuffled_features1 = sklearn.utils.shuffle(features, random_state=1234)\n",
        "# fit model\n",
        "model.fit(x=df_train[shuffled_features1].astype(float),\n",
        "          y=df_train[\"class\"])\n",
        "df_test[\"predict\"] = model.predict(df_test[shuffled_features1])\n",
        "correct = (df_test[\"predict\"] == df_test[\"class\"])\n",
        "accuracy = correct.sum() / correct.size\n",
        "print (\"accuracy: \", accuracy)"
      ],
      "id": "e89324e5",
      "execution_count": null,
      "outputs": [
        {
          "output_type": "stream",
          "text": [
            "accuracy:  0.9329\n"
          ],
          "name": "stdout"
        }
      ]
    },
    {
      "cell_type": "markdown",
      "metadata": {
        "id": "94fdb6d4"
      },
      "source": [
        "## Question 2"
      ],
      "id": "94fdb6d4"
    },
    {
      "cell_type": "markdown",
      "metadata": {
        "id": "78db9496"
      },
      "source": [
        "For this question we will use the CNN Explainer website."
      ],
      "id": "78db9496"
    },
    {
      "cell_type": "markdown",
      "metadata": {
        "id": "f64b4318"
      },
      "source": [
        "[CNN Explainer](https://poloclub.github.io/cnn-explainer/)"
      ],
      "id": "f64b4318"
    },
    {
      "cell_type": "markdown",
      "metadata": {
        "id": "67d8b0a3"
      },
      "source": [
        "* Use the tool under the section \"Understanding Hyperparameters\" to figure out the output shape of each layer in the above CNN model."
      ],
      "id": "67d8b0a3"
    },
    {
      "cell_type": "code",
      "metadata": {
        "execution": {
          "iopub.execute_input": "2021-08-02T20:01:57.440670Z",
          "iopub.status.busy": "2021-08-02T20:01:57.439737Z",
          "iopub.status.idle": "2021-08-02T20:01:57.443630Z",
          "shell.execute_reply": "2021-08-02T20:01:57.442682Z"
        },
        "id": "913264cf"
      },
      "source": [
        "#📝📝📝📝 FILLME\n",
        "# Layer reshape input - (28, 28)\n",
        "# Layer Conv20 1 - (26, 26)\n",
        "# Layer MaxPool2D 1 - (13, 13)\n",
        "# Layer Conv20 2 - (11, 11)\n",
        "# Layer MaxPool2D 2- (5, 5)"
      ],
      "id": "913264cf",
      "execution_count": null,
      "outputs": []
    },
    {
      "cell_type": "markdown",
      "metadata": {
        "id": "4ea3ef14"
      },
      "source": [
        "* Use `print (model.model.summary())` to print the output shape of each layer. Did you get the same results as above?"
      ],
      "id": "4ea3ef14"
    },
    {
      "cell_type": "code",
      "metadata": {
        "execution": {
          "iopub.execute_input": "2021-08-02T20:01:57.449313Z",
          "iopub.status.busy": "2021-08-02T20:01:57.448405Z",
          "iopub.status.idle": "2021-08-02T20:01:57.452204Z",
          "shell.execute_reply": "2021-08-02T20:01:57.451420Z"
        },
        "id": "84515a53",
        "colab": {
          "base_uri": "https://localhost:8080/"
        },
        "outputId": "f4440dc0-d87d-4656-933c-975edac84b7d"
      },
      "source": [
        "#📝📝📝📝 FILLME\n",
        "print (model.model.summary())"
      ],
      "id": "84515a53",
      "execution_count": null,
      "outputs": [
        {
          "output_type": "stream",
          "text": [
            "Model: \"sequential_7\"\n",
            "_________________________________________________________________\n",
            "Layer (type)                 Output Shape              Param #   \n",
            "=================================================================\n",
            "reshape_4 (Reshape)          (20, 28, 28, 1)           0         \n",
            "_________________________________________________________________\n",
            "conv2d_9 (Conv2D)            (20, 26, 26, 32)          320       \n",
            "_________________________________________________________________\n",
            "max_pooling2d_9 (MaxPooling2 (20, 13, 13, 32)          0         \n",
            "_________________________________________________________________\n",
            "conv2d_10 (Conv2D)           (20, 11, 11, 64)          18496     \n",
            "_________________________________________________________________\n",
            "max_pooling2d_10 (MaxPooling (20, 5, 5, 64)            0         \n",
            "_________________________________________________________________\n",
            "flatten_4 (Flatten)          (20, 1600)                0         \n",
            "_________________________________________________________________\n",
            "dense_11 (Dense)             (20, 10)                  16010     \n",
            "=================================================================\n",
            "Total params: 34,826\n",
            "Trainable params: 34,826\n",
            "Non-trainable params: 0\n",
            "_________________________________________________________________\n",
            "None\n"
          ],
          "name": "stdout"
        }
      ]
    },
    {
      "cell_type": "markdown",
      "metadata": {
        "id": "0206a04e"
      },
      "source": [
        "## Question 3"
      ],
      "id": "0206a04e"
    },
    {
      "cell_type": "markdown",
      "metadata": {
        "id": "6211bd8e"
      },
      "source": [
        "Let's apply our model to a different dataset, [Fashion MNIST](https://github.com/zalandoresearch/fashion-mnist), where the goal is to classify an image into one of the below 10 classes:\n",
        "```\n",
        "Label \tDescription\n",
        "0 \tT-shirt/top\n",
        "1 \tTrouser\n",
        "2 \tPullover\n",
        "3 \tDress\n",
        "4 \tCoat\n",
        "5 \tSandal\n",
        "6 \tShirt\n",
        "7 \tSneaker\n",
        "8 \tBag\n",
        "9 \tAnkle boot\n",
        "```"
      ],
      "id": "6211bd8e"
    },
    {
      "cell_type": "markdown",
      "metadata": {
        "id": "4b772825"
      },
      "source": [
        "Some examples from the dataset are shown below, where each class takes three rows."
      ],
      "id": "4b772825"
    },
    {
      "cell_type": "markdown",
      "metadata": {
        "id": "f77100fe"
      },
      "source": [
        "![image](https://github.com/zalandoresearch/fashion-mnist/raw/master/doc/img/fashion-mnist-sprite.png)"
      ],
      "id": "f77100fe"
    },
    {
      "cell_type": "markdown",
      "metadata": {
        "id": "65de4a68"
      },
      "source": [
        "We have processed the dataset into the same format as MNIST:"
      ],
      "id": "65de4a68"
    },
    {
      "cell_type": "code",
      "metadata": {
        "execution": {
          "iopub.execute_input": "2021-08-02T20:01:57.459660Z",
          "iopub.status.busy": "2021-08-02T20:01:57.458723Z",
          "iopub.status.idle": "2021-08-02T20:02:01.081868Z",
          "shell.execute_reply": "2021-08-02T20:02:01.082584Z"
        },
        "id": "9a0e28bf",
        "colab": {
          "base_uri": "https://localhost:8080/",
          "height": 437
        },
        "outputId": "3463aa12-922a-4301-d14f-c655e3470191"
      },
      "source": [
        "df_train = pd.read_csv('https://srush.github.io/BT-AI/notebooks/fashion_mnist_train.csv.gz', compression='gzip')\n",
        "df_test = pd.read_csv('https://srush.github.io/BT-AI/notebooks/fashion_mnist_test.csv.gz', compression='gzip')\n",
        "df_train"
      ],
      "id": "9a0e28bf",
      "execution_count": null,
      "outputs": [
        {
          "output_type": "execute_result",
          "data": {
            "text/html": [
              "<div>\n",
              "<style scoped>\n",
              "    .dataframe tbody tr th:only-of-type {\n",
              "        vertical-align: middle;\n",
              "    }\n",
              "\n",
              "    .dataframe tbody tr th {\n",
              "        vertical-align: top;\n",
              "    }\n",
              "\n",
              "    .dataframe thead th {\n",
              "        text-align: right;\n",
              "    }\n",
              "</style>\n",
              "<table border=\"1\" class=\"dataframe\">\n",
              "  <thead>\n",
              "    <tr style=\"text-align: right;\">\n",
              "      <th></th>\n",
              "      <th>class</th>\n",
              "      <th>1x1</th>\n",
              "      <th>1x2</th>\n",
              "      <th>1x3</th>\n",
              "      <th>1x4</th>\n",
              "      <th>1x5</th>\n",
              "      <th>1x6</th>\n",
              "      <th>1x7</th>\n",
              "      <th>1x8</th>\n",
              "      <th>1x9</th>\n",
              "      <th>1x10</th>\n",
              "      <th>1x11</th>\n",
              "      <th>1x12</th>\n",
              "      <th>1x13</th>\n",
              "      <th>1x14</th>\n",
              "      <th>1x15</th>\n",
              "      <th>1x16</th>\n",
              "      <th>1x17</th>\n",
              "      <th>1x18</th>\n",
              "      <th>1x19</th>\n",
              "      <th>1x20</th>\n",
              "      <th>1x21</th>\n",
              "      <th>1x22</th>\n",
              "      <th>1x23</th>\n",
              "      <th>1x24</th>\n",
              "      <th>1x25</th>\n",
              "      <th>1x26</th>\n",
              "      <th>1x27</th>\n",
              "      <th>1x28</th>\n",
              "      <th>2x1</th>\n",
              "      <th>2x2</th>\n",
              "      <th>2x3</th>\n",
              "      <th>2x4</th>\n",
              "      <th>2x5</th>\n",
              "      <th>2x6</th>\n",
              "      <th>2x7</th>\n",
              "      <th>2x8</th>\n",
              "      <th>2x9</th>\n",
              "      <th>2x10</th>\n",
              "      <th>2x11</th>\n",
              "      <th>...</th>\n",
              "      <th>27x17</th>\n",
              "      <th>27x18</th>\n",
              "      <th>27x19</th>\n",
              "      <th>27x20</th>\n",
              "      <th>27x21</th>\n",
              "      <th>27x22</th>\n",
              "      <th>27x23</th>\n",
              "      <th>27x24</th>\n",
              "      <th>27x25</th>\n",
              "      <th>27x26</th>\n",
              "      <th>27x27</th>\n",
              "      <th>27x28</th>\n",
              "      <th>28x1</th>\n",
              "      <th>28x2</th>\n",
              "      <th>28x3</th>\n",
              "      <th>28x4</th>\n",
              "      <th>28x5</th>\n",
              "      <th>28x6</th>\n",
              "      <th>28x7</th>\n",
              "      <th>28x8</th>\n",
              "      <th>28x9</th>\n",
              "      <th>28x10</th>\n",
              "      <th>28x11</th>\n",
              "      <th>28x12</th>\n",
              "      <th>28x13</th>\n",
              "      <th>28x14</th>\n",
              "      <th>28x15</th>\n",
              "      <th>28x16</th>\n",
              "      <th>28x17</th>\n",
              "      <th>28x18</th>\n",
              "      <th>28x19</th>\n",
              "      <th>28x20</th>\n",
              "      <th>28x21</th>\n",
              "      <th>28x22</th>\n",
              "      <th>28x23</th>\n",
              "      <th>28x24</th>\n",
              "      <th>28x25</th>\n",
              "      <th>28x26</th>\n",
              "      <th>28x27</th>\n",
              "      <th>28x28</th>\n",
              "    </tr>\n",
              "  </thead>\n",
              "  <tbody>\n",
              "    <tr>\n",
              "      <th>0</th>\n",
              "      <td>2</td>\n",
              "      <td>0</td>\n",
              "      <td>0</td>\n",
              "      <td>0</td>\n",
              "      <td>0</td>\n",
              "      <td>0</td>\n",
              "      <td>0</td>\n",
              "      <td>0</td>\n",
              "      <td>0</td>\n",
              "      <td>0</td>\n",
              "      <td>0</td>\n",
              "      <td>0</td>\n",
              "      <td>0</td>\n",
              "      <td>0</td>\n",
              "      <td>0</td>\n",
              "      <td>0</td>\n",
              "      <td>0</td>\n",
              "      <td>0</td>\n",
              "      <td>0</td>\n",
              "      <td>0</td>\n",
              "      <td>0</td>\n",
              "      <td>0</td>\n",
              "      <td>0</td>\n",
              "      <td>0</td>\n",
              "      <td>0</td>\n",
              "      <td>0</td>\n",
              "      <td>0</td>\n",
              "      <td>0</td>\n",
              "      <td>0</td>\n",
              "      <td>0</td>\n",
              "      <td>0</td>\n",
              "      <td>0</td>\n",
              "      <td>0</td>\n",
              "      <td>0</td>\n",
              "      <td>0</td>\n",
              "      <td>0</td>\n",
              "      <td>0</td>\n",
              "      <td>0</td>\n",
              "      <td>0</td>\n",
              "      <td>0</td>\n",
              "      <td>...</td>\n",
              "      <td>0</td>\n",
              "      <td>0</td>\n",
              "      <td>0</td>\n",
              "      <td>0</td>\n",
              "      <td>0</td>\n",
              "      <td>0</td>\n",
              "      <td>0</td>\n",
              "      <td>0</td>\n",
              "      <td>0</td>\n",
              "      <td>0</td>\n",
              "      <td>0</td>\n",
              "      <td>0</td>\n",
              "      <td>0</td>\n",
              "      <td>0</td>\n",
              "      <td>0</td>\n",
              "      <td>0</td>\n",
              "      <td>0</td>\n",
              "      <td>0</td>\n",
              "      <td>0</td>\n",
              "      <td>0</td>\n",
              "      <td>0</td>\n",
              "      <td>0</td>\n",
              "      <td>0</td>\n",
              "      <td>0</td>\n",
              "      <td>0</td>\n",
              "      <td>0</td>\n",
              "      <td>0</td>\n",
              "      <td>0</td>\n",
              "      <td>0</td>\n",
              "      <td>0</td>\n",
              "      <td>0</td>\n",
              "      <td>0</td>\n",
              "      <td>0</td>\n",
              "      <td>0</td>\n",
              "      <td>0</td>\n",
              "      <td>0</td>\n",
              "      <td>0</td>\n",
              "      <td>0</td>\n",
              "      <td>0</td>\n",
              "      <td>0</td>\n",
              "    </tr>\n",
              "    <tr>\n",
              "      <th>1</th>\n",
              "      <td>9</td>\n",
              "      <td>0</td>\n",
              "      <td>0</td>\n",
              "      <td>0</td>\n",
              "      <td>0</td>\n",
              "      <td>0</td>\n",
              "      <td>0</td>\n",
              "      <td>0</td>\n",
              "      <td>0</td>\n",
              "      <td>0</td>\n",
              "      <td>0</td>\n",
              "      <td>0</td>\n",
              "      <td>0</td>\n",
              "      <td>0</td>\n",
              "      <td>0</td>\n",
              "      <td>0</td>\n",
              "      <td>0</td>\n",
              "      <td>0</td>\n",
              "      <td>0</td>\n",
              "      <td>0</td>\n",
              "      <td>0</td>\n",
              "      <td>0</td>\n",
              "      <td>0</td>\n",
              "      <td>0</td>\n",
              "      <td>0</td>\n",
              "      <td>0</td>\n",
              "      <td>0</td>\n",
              "      <td>0</td>\n",
              "      <td>0</td>\n",
              "      <td>0</td>\n",
              "      <td>0</td>\n",
              "      <td>0</td>\n",
              "      <td>0</td>\n",
              "      <td>0</td>\n",
              "      <td>0</td>\n",
              "      <td>0</td>\n",
              "      <td>0</td>\n",
              "      <td>0</td>\n",
              "      <td>0</td>\n",
              "      <td>0</td>\n",
              "      <td>...</td>\n",
              "      <td>0</td>\n",
              "      <td>0</td>\n",
              "      <td>0</td>\n",
              "      <td>0</td>\n",
              "      <td>0</td>\n",
              "      <td>0</td>\n",
              "      <td>0</td>\n",
              "      <td>0</td>\n",
              "      <td>0</td>\n",
              "      <td>0</td>\n",
              "      <td>0</td>\n",
              "      <td>0</td>\n",
              "      <td>0</td>\n",
              "      <td>0</td>\n",
              "      <td>0</td>\n",
              "      <td>0</td>\n",
              "      <td>0</td>\n",
              "      <td>0</td>\n",
              "      <td>0</td>\n",
              "      <td>0</td>\n",
              "      <td>0</td>\n",
              "      <td>0</td>\n",
              "      <td>0</td>\n",
              "      <td>0</td>\n",
              "      <td>0</td>\n",
              "      <td>0</td>\n",
              "      <td>0</td>\n",
              "      <td>0</td>\n",
              "      <td>0</td>\n",
              "      <td>0</td>\n",
              "      <td>0</td>\n",
              "      <td>0</td>\n",
              "      <td>0</td>\n",
              "      <td>0</td>\n",
              "      <td>0</td>\n",
              "      <td>0</td>\n",
              "      <td>0</td>\n",
              "      <td>0</td>\n",
              "      <td>0</td>\n",
              "      <td>0</td>\n",
              "    </tr>\n",
              "    <tr>\n",
              "      <th>2</th>\n",
              "      <td>6</td>\n",
              "      <td>0</td>\n",
              "      <td>0</td>\n",
              "      <td>0</td>\n",
              "      <td>0</td>\n",
              "      <td>0</td>\n",
              "      <td>0</td>\n",
              "      <td>0</td>\n",
              "      <td>5</td>\n",
              "      <td>0</td>\n",
              "      <td>0</td>\n",
              "      <td>0</td>\n",
              "      <td>105</td>\n",
              "      <td>92</td>\n",
              "      <td>101</td>\n",
              "      <td>107</td>\n",
              "      <td>100</td>\n",
              "      <td>132</td>\n",
              "      <td>0</td>\n",
              "      <td>0</td>\n",
              "      <td>2</td>\n",
              "      <td>4</td>\n",
              "      <td>0</td>\n",
              "      <td>1</td>\n",
              "      <td>0</td>\n",
              "      <td>0</td>\n",
              "      <td>0</td>\n",
              "      <td>0</td>\n",
              "      <td>0</td>\n",
              "      <td>0</td>\n",
              "      <td>0</td>\n",
              "      <td>0</td>\n",
              "      <td>0</td>\n",
              "      <td>0</td>\n",
              "      <td>0</td>\n",
              "      <td>0</td>\n",
              "      <td>0</td>\n",
              "      <td>0</td>\n",
              "      <td>0</td>\n",
              "      <td>150</td>\n",
              "      <td>...</td>\n",
              "      <td>211</td>\n",
              "      <td>220</td>\n",
              "      <td>214</td>\n",
              "      <td>74</td>\n",
              "      <td>0</td>\n",
              "      <td>255</td>\n",
              "      <td>222</td>\n",
              "      <td>128</td>\n",
              "      <td>0</td>\n",
              "      <td>0</td>\n",
              "      <td>0</td>\n",
              "      <td>0</td>\n",
              "      <td>0</td>\n",
              "      <td>0</td>\n",
              "      <td>0</td>\n",
              "      <td>0</td>\n",
              "      <td>0</td>\n",
              "      <td>44</td>\n",
              "      <td>12</td>\n",
              "      <td>0</td>\n",
              "      <td>0</td>\n",
              "      <td>40</td>\n",
              "      <td>134</td>\n",
              "      <td>162</td>\n",
              "      <td>191</td>\n",
              "      <td>214</td>\n",
              "      <td>163</td>\n",
              "      <td>146</td>\n",
              "      <td>165</td>\n",
              "      <td>79</td>\n",
              "      <td>0</td>\n",
              "      <td>0</td>\n",
              "      <td>0</td>\n",
              "      <td>30</td>\n",
              "      <td>43</td>\n",
              "      <td>0</td>\n",
              "      <td>0</td>\n",
              "      <td>0</td>\n",
              "      <td>0</td>\n",
              "      <td>0</td>\n",
              "    </tr>\n",
              "    <tr>\n",
              "      <th>3</th>\n",
              "      <td>0</td>\n",
              "      <td>0</td>\n",
              "      <td>0</td>\n",
              "      <td>0</td>\n",
              "      <td>1</td>\n",
              "      <td>2</td>\n",
              "      <td>0</td>\n",
              "      <td>0</td>\n",
              "      <td>0</td>\n",
              "      <td>0</td>\n",
              "      <td>0</td>\n",
              "      <td>114</td>\n",
              "      <td>183</td>\n",
              "      <td>112</td>\n",
              "      <td>55</td>\n",
              "      <td>23</td>\n",
              "      <td>72</td>\n",
              "      <td>102</td>\n",
              "      <td>165</td>\n",
              "      <td>160</td>\n",
              "      <td>28</td>\n",
              "      <td>0</td>\n",
              "      <td>0</td>\n",
              "      <td>0</td>\n",
              "      <td>1</td>\n",
              "      <td>0</td>\n",
              "      <td>0</td>\n",
              "      <td>0</td>\n",
              "      <td>0</td>\n",
              "      <td>0</td>\n",
              "      <td>0</td>\n",
              "      <td>0</td>\n",
              "      <td>0</td>\n",
              "      <td>1</td>\n",
              "      <td>0</td>\n",
              "      <td>0</td>\n",
              "      <td>24</td>\n",
              "      <td>188</td>\n",
              "      <td>163</td>\n",
              "      <td>93</td>\n",
              "      <td>...</td>\n",
              "      <td>171</td>\n",
              "      <td>249</td>\n",
              "      <td>207</td>\n",
              "      <td>197</td>\n",
              "      <td>202</td>\n",
              "      <td>45</td>\n",
              "      <td>0</td>\n",
              "      <td>3</td>\n",
              "      <td>0</td>\n",
              "      <td>0</td>\n",
              "      <td>0</td>\n",
              "      <td>0</td>\n",
              "      <td>0</td>\n",
              "      <td>0</td>\n",
              "      <td>0</td>\n",
              "      <td>0</td>\n",
              "      <td>0</td>\n",
              "      <td>0</td>\n",
              "      <td>1</td>\n",
              "      <td>0</td>\n",
              "      <td>0</td>\n",
              "      <td>0</td>\n",
              "      <td>22</td>\n",
              "      <td>21</td>\n",
              "      <td>25</td>\n",
              "      <td>69</td>\n",
              "      <td>52</td>\n",
              "      <td>45</td>\n",
              "      <td>74</td>\n",
              "      <td>39</td>\n",
              "      <td>3</td>\n",
              "      <td>0</td>\n",
              "      <td>0</td>\n",
              "      <td>0</td>\n",
              "      <td>0</td>\n",
              "      <td>1</td>\n",
              "      <td>0</td>\n",
              "      <td>0</td>\n",
              "      <td>0</td>\n",
              "      <td>0</td>\n",
              "    </tr>\n",
              "    <tr>\n",
              "      <th>4</th>\n",
              "      <td>3</td>\n",
              "      <td>0</td>\n",
              "      <td>0</td>\n",
              "      <td>0</td>\n",
              "      <td>0</td>\n",
              "      <td>0</td>\n",
              "      <td>0</td>\n",
              "      <td>0</td>\n",
              "      <td>0</td>\n",
              "      <td>0</td>\n",
              "      <td>0</td>\n",
              "      <td>0</td>\n",
              "      <td>0</td>\n",
              "      <td>46</td>\n",
              "      <td>0</td>\n",
              "      <td>21</td>\n",
              "      <td>68</td>\n",
              "      <td>0</td>\n",
              "      <td>0</td>\n",
              "      <td>0</td>\n",
              "      <td>0</td>\n",
              "      <td>0</td>\n",
              "      <td>0</td>\n",
              "      <td>0</td>\n",
              "      <td>0</td>\n",
              "      <td>0</td>\n",
              "      <td>0</td>\n",
              "      <td>0</td>\n",
              "      <td>0</td>\n",
              "      <td>0</td>\n",
              "      <td>0</td>\n",
              "      <td>0</td>\n",
              "      <td>0</td>\n",
              "      <td>0</td>\n",
              "      <td>0</td>\n",
              "      <td>0</td>\n",
              "      <td>0</td>\n",
              "      <td>25</td>\n",
              "      <td>187</td>\n",
              "      <td>189</td>\n",
              "      <td>...</td>\n",
              "      <td>230</td>\n",
              "      <td>237</td>\n",
              "      <td>229</td>\n",
              "      <td>0</td>\n",
              "      <td>0</td>\n",
              "      <td>1</td>\n",
              "      <td>0</td>\n",
              "      <td>0</td>\n",
              "      <td>0</td>\n",
              "      <td>0</td>\n",
              "      <td>0</td>\n",
              "      <td>0</td>\n",
              "      <td>0</td>\n",
              "      <td>0</td>\n",
              "      <td>0</td>\n",
              "      <td>0</td>\n",
              "      <td>0</td>\n",
              "      <td>0</td>\n",
              "      <td>0</td>\n",
              "      <td>0</td>\n",
              "      <td>0</td>\n",
              "      <td>68</td>\n",
              "      <td>116</td>\n",
              "      <td>112</td>\n",
              "      <td>136</td>\n",
              "      <td>147</td>\n",
              "      <td>144</td>\n",
              "      <td>121</td>\n",
              "      <td>102</td>\n",
              "      <td>63</td>\n",
              "      <td>0</td>\n",
              "      <td>0</td>\n",
              "      <td>0</td>\n",
              "      <td>0</td>\n",
              "      <td>0</td>\n",
              "      <td>0</td>\n",
              "      <td>0</td>\n",
              "      <td>0</td>\n",
              "      <td>0</td>\n",
              "      <td>0</td>\n",
              "    </tr>\n",
              "    <tr>\n",
              "      <th>...</th>\n",
              "      <td>...</td>\n",
              "      <td>...</td>\n",
              "      <td>...</td>\n",
              "      <td>...</td>\n",
              "      <td>...</td>\n",
              "      <td>...</td>\n",
              "      <td>...</td>\n",
              "      <td>...</td>\n",
              "      <td>...</td>\n",
              "      <td>...</td>\n",
              "      <td>...</td>\n",
              "      <td>...</td>\n",
              "      <td>...</td>\n",
              "      <td>...</td>\n",
              "      <td>...</td>\n",
              "      <td>...</td>\n",
              "      <td>...</td>\n",
              "      <td>...</td>\n",
              "      <td>...</td>\n",
              "      <td>...</td>\n",
              "      <td>...</td>\n",
              "      <td>...</td>\n",
              "      <td>...</td>\n",
              "      <td>...</td>\n",
              "      <td>...</td>\n",
              "      <td>...</td>\n",
              "      <td>...</td>\n",
              "      <td>...</td>\n",
              "      <td>...</td>\n",
              "      <td>...</td>\n",
              "      <td>...</td>\n",
              "      <td>...</td>\n",
              "      <td>...</td>\n",
              "      <td>...</td>\n",
              "      <td>...</td>\n",
              "      <td>...</td>\n",
              "      <td>...</td>\n",
              "      <td>...</td>\n",
              "      <td>...</td>\n",
              "      <td>...</td>\n",
              "      <td>...</td>\n",
              "      <td>...</td>\n",
              "      <td>...</td>\n",
              "      <td>...</td>\n",
              "      <td>...</td>\n",
              "      <td>...</td>\n",
              "      <td>...</td>\n",
              "      <td>...</td>\n",
              "      <td>...</td>\n",
              "      <td>...</td>\n",
              "      <td>...</td>\n",
              "      <td>...</td>\n",
              "      <td>...</td>\n",
              "      <td>...</td>\n",
              "      <td>...</td>\n",
              "      <td>...</td>\n",
              "      <td>...</td>\n",
              "      <td>...</td>\n",
              "      <td>...</td>\n",
              "      <td>...</td>\n",
              "      <td>...</td>\n",
              "      <td>...</td>\n",
              "      <td>...</td>\n",
              "      <td>...</td>\n",
              "      <td>...</td>\n",
              "      <td>...</td>\n",
              "      <td>...</td>\n",
              "      <td>...</td>\n",
              "      <td>...</td>\n",
              "      <td>...</td>\n",
              "      <td>...</td>\n",
              "      <td>...</td>\n",
              "      <td>...</td>\n",
              "      <td>...</td>\n",
              "      <td>...</td>\n",
              "      <td>...</td>\n",
              "      <td>...</td>\n",
              "      <td>...</td>\n",
              "      <td>...</td>\n",
              "      <td>...</td>\n",
              "      <td>...</td>\n",
              "    </tr>\n",
              "    <tr>\n",
              "      <th>59995</th>\n",
              "      <td>9</td>\n",
              "      <td>0</td>\n",
              "      <td>0</td>\n",
              "      <td>0</td>\n",
              "      <td>0</td>\n",
              "      <td>0</td>\n",
              "      <td>0</td>\n",
              "      <td>0</td>\n",
              "      <td>0</td>\n",
              "      <td>0</td>\n",
              "      <td>0</td>\n",
              "      <td>0</td>\n",
              "      <td>0</td>\n",
              "      <td>0</td>\n",
              "      <td>0</td>\n",
              "      <td>0</td>\n",
              "      <td>0</td>\n",
              "      <td>0</td>\n",
              "      <td>0</td>\n",
              "      <td>0</td>\n",
              "      <td>0</td>\n",
              "      <td>0</td>\n",
              "      <td>0</td>\n",
              "      <td>0</td>\n",
              "      <td>0</td>\n",
              "      <td>0</td>\n",
              "      <td>0</td>\n",
              "      <td>0</td>\n",
              "      <td>0</td>\n",
              "      <td>0</td>\n",
              "      <td>0</td>\n",
              "      <td>0</td>\n",
              "      <td>0</td>\n",
              "      <td>0</td>\n",
              "      <td>0</td>\n",
              "      <td>0</td>\n",
              "      <td>0</td>\n",
              "      <td>0</td>\n",
              "      <td>0</td>\n",
              "      <td>0</td>\n",
              "      <td>...</td>\n",
              "      <td>0</td>\n",
              "      <td>0</td>\n",
              "      <td>0</td>\n",
              "      <td>0</td>\n",
              "      <td>0</td>\n",
              "      <td>0</td>\n",
              "      <td>0</td>\n",
              "      <td>0</td>\n",
              "      <td>0</td>\n",
              "      <td>0</td>\n",
              "      <td>0</td>\n",
              "      <td>0</td>\n",
              "      <td>0</td>\n",
              "      <td>0</td>\n",
              "      <td>0</td>\n",
              "      <td>0</td>\n",
              "      <td>0</td>\n",
              "      <td>0</td>\n",
              "      <td>0</td>\n",
              "      <td>0</td>\n",
              "      <td>0</td>\n",
              "      <td>0</td>\n",
              "      <td>0</td>\n",
              "      <td>0</td>\n",
              "      <td>0</td>\n",
              "      <td>0</td>\n",
              "      <td>0</td>\n",
              "      <td>0</td>\n",
              "      <td>0</td>\n",
              "      <td>0</td>\n",
              "      <td>0</td>\n",
              "      <td>0</td>\n",
              "      <td>0</td>\n",
              "      <td>0</td>\n",
              "      <td>0</td>\n",
              "      <td>0</td>\n",
              "      <td>0</td>\n",
              "      <td>0</td>\n",
              "      <td>0</td>\n",
              "      <td>0</td>\n",
              "    </tr>\n",
              "    <tr>\n",
              "      <th>59996</th>\n",
              "      <td>1</td>\n",
              "      <td>0</td>\n",
              "      <td>0</td>\n",
              "      <td>0</td>\n",
              "      <td>0</td>\n",
              "      <td>0</td>\n",
              "      <td>0</td>\n",
              "      <td>0</td>\n",
              "      <td>0</td>\n",
              "      <td>0</td>\n",
              "      <td>0</td>\n",
              "      <td>83</td>\n",
              "      <td>155</td>\n",
              "      <td>136</td>\n",
              "      <td>116</td>\n",
              "      <td>148</td>\n",
              "      <td>110</td>\n",
              "      <td>118</td>\n",
              "      <td>67</td>\n",
              "      <td>32</td>\n",
              "      <td>0</td>\n",
              "      <td>0</td>\n",
              "      <td>0</td>\n",
              "      <td>0</td>\n",
              "      <td>0</td>\n",
              "      <td>0</td>\n",
              "      <td>0</td>\n",
              "      <td>0</td>\n",
              "      <td>0</td>\n",
              "      <td>0</td>\n",
              "      <td>0</td>\n",
              "      <td>0</td>\n",
              "      <td>0</td>\n",
              "      <td>0</td>\n",
              "      <td>0</td>\n",
              "      <td>0</td>\n",
              "      <td>0</td>\n",
              "      <td>0</td>\n",
              "      <td>0</td>\n",
              "      <td>118</td>\n",
              "      <td>...</td>\n",
              "      <td>199</td>\n",
              "      <td>165</td>\n",
              "      <td>108</td>\n",
              "      <td>108</td>\n",
              "      <td>0</td>\n",
              "      <td>0</td>\n",
              "      <td>0</td>\n",
              "      <td>0</td>\n",
              "      <td>0</td>\n",
              "      <td>0</td>\n",
              "      <td>0</td>\n",
              "      <td>0</td>\n",
              "      <td>0</td>\n",
              "      <td>0</td>\n",
              "      <td>0</td>\n",
              "      <td>0</td>\n",
              "      <td>0</td>\n",
              "      <td>0</td>\n",
              "      <td>0</td>\n",
              "      <td>0</td>\n",
              "      <td>0</td>\n",
              "      <td>32</td>\n",
              "      <td>159</td>\n",
              "      <td>6</td>\n",
              "      <td>91</td>\n",
              "      <td>0</td>\n",
              "      <td>0</td>\n",
              "      <td>85</td>\n",
              "      <td>159</td>\n",
              "      <td>0</td>\n",
              "      <td>73</td>\n",
              "      <td>0</td>\n",
              "      <td>0</td>\n",
              "      <td>0</td>\n",
              "      <td>0</td>\n",
              "      <td>0</td>\n",
              "      <td>0</td>\n",
              "      <td>0</td>\n",
              "      <td>0</td>\n",
              "      <td>0</td>\n",
              "    </tr>\n",
              "    <tr>\n",
              "      <th>59997</th>\n",
              "      <td>8</td>\n",
              "      <td>0</td>\n",
              "      <td>0</td>\n",
              "      <td>0</td>\n",
              "      <td>0</td>\n",
              "      <td>0</td>\n",
              "      <td>0</td>\n",
              "      <td>0</td>\n",
              "      <td>0</td>\n",
              "      <td>0</td>\n",
              "      <td>0</td>\n",
              "      <td>1</td>\n",
              "      <td>0</td>\n",
              "      <td>0</td>\n",
              "      <td>87</td>\n",
              "      <td>114</td>\n",
              "      <td>77</td>\n",
              "      <td>0</td>\n",
              "      <td>4</td>\n",
              "      <td>0</td>\n",
              "      <td>0</td>\n",
              "      <td>0</td>\n",
              "      <td>0</td>\n",
              "      <td>0</td>\n",
              "      <td>0</td>\n",
              "      <td>0</td>\n",
              "      <td>0</td>\n",
              "      <td>0</td>\n",
              "      <td>0</td>\n",
              "      <td>0</td>\n",
              "      <td>0</td>\n",
              "      <td>0</td>\n",
              "      <td>0</td>\n",
              "      <td>0</td>\n",
              "      <td>0</td>\n",
              "      <td>0</td>\n",
              "      <td>0</td>\n",
              "      <td>0</td>\n",
              "      <td>0</td>\n",
              "      <td>5</td>\n",
              "      <td>...</td>\n",
              "      <td>228</td>\n",
              "      <td>229</td>\n",
              "      <td>231</td>\n",
              "      <td>231</td>\n",
              "      <td>218</td>\n",
              "      <td>230</td>\n",
              "      <td>255</td>\n",
              "      <td>0</td>\n",
              "      <td>0</td>\n",
              "      <td>0</td>\n",
              "      <td>0</td>\n",
              "      <td>0</td>\n",
              "      <td>0</td>\n",
              "      <td>0</td>\n",
              "      <td>0</td>\n",
              "      <td>0</td>\n",
              "      <td>0</td>\n",
              "      <td>0</td>\n",
              "      <td>116</td>\n",
              "      <td>140</td>\n",
              "      <td>147</td>\n",
              "      <td>166</td>\n",
              "      <td>176</td>\n",
              "      <td>174</td>\n",
              "      <td>173</td>\n",
              "      <td>173</td>\n",
              "      <td>174</td>\n",
              "      <td>173</td>\n",
              "      <td>177</td>\n",
              "      <td>164</td>\n",
              "      <td>160</td>\n",
              "      <td>162</td>\n",
              "      <td>163</td>\n",
              "      <td>135</td>\n",
              "      <td>94</td>\n",
              "      <td>0</td>\n",
              "      <td>0</td>\n",
              "      <td>0</td>\n",
              "      <td>0</td>\n",
              "      <td>0</td>\n",
              "    </tr>\n",
              "    <tr>\n",
              "      <th>59998</th>\n",
              "      <td>8</td>\n",
              "      <td>0</td>\n",
              "      <td>0</td>\n",
              "      <td>0</td>\n",
              "      <td>0</td>\n",
              "      <td>0</td>\n",
              "      <td>0</td>\n",
              "      <td>0</td>\n",
              "      <td>0</td>\n",
              "      <td>0</td>\n",
              "      <td>0</td>\n",
              "      <td>0</td>\n",
              "      <td>0</td>\n",
              "      <td>0</td>\n",
              "      <td>0</td>\n",
              "      <td>0</td>\n",
              "      <td>0</td>\n",
              "      <td>0</td>\n",
              "      <td>0</td>\n",
              "      <td>0</td>\n",
              "      <td>0</td>\n",
              "      <td>0</td>\n",
              "      <td>0</td>\n",
              "      <td>0</td>\n",
              "      <td>0</td>\n",
              "      <td>0</td>\n",
              "      <td>0</td>\n",
              "      <td>0</td>\n",
              "      <td>0</td>\n",
              "      <td>0</td>\n",
              "      <td>0</td>\n",
              "      <td>0</td>\n",
              "      <td>0</td>\n",
              "      <td>0</td>\n",
              "      <td>0</td>\n",
              "      <td>0</td>\n",
              "      <td>0</td>\n",
              "      <td>0</td>\n",
              "      <td>1</td>\n",
              "      <td>3</td>\n",
              "      <td>...</td>\n",
              "      <td>0</td>\n",
              "      <td>0</td>\n",
              "      <td>0</td>\n",
              "      <td>0</td>\n",
              "      <td>0</td>\n",
              "      <td>0</td>\n",
              "      <td>0</td>\n",
              "      <td>0</td>\n",
              "      <td>0</td>\n",
              "      <td>0</td>\n",
              "      <td>0</td>\n",
              "      <td>1</td>\n",
              "      <td>0</td>\n",
              "      <td>0</td>\n",
              "      <td>0</td>\n",
              "      <td>0</td>\n",
              "      <td>0</td>\n",
              "      <td>0</td>\n",
              "      <td>0</td>\n",
              "      <td>0</td>\n",
              "      <td>0</td>\n",
              "      <td>0</td>\n",
              "      <td>0</td>\n",
              "      <td>0</td>\n",
              "      <td>0</td>\n",
              "      <td>0</td>\n",
              "      <td>0</td>\n",
              "      <td>0</td>\n",
              "      <td>0</td>\n",
              "      <td>0</td>\n",
              "      <td>0</td>\n",
              "      <td>0</td>\n",
              "      <td>0</td>\n",
              "      <td>0</td>\n",
              "      <td>0</td>\n",
              "      <td>0</td>\n",
              "      <td>0</td>\n",
              "      <td>0</td>\n",
              "      <td>0</td>\n",
              "      <td>0</td>\n",
              "    </tr>\n",
              "    <tr>\n",
              "      <th>59999</th>\n",
              "      <td>7</td>\n",
              "      <td>0</td>\n",
              "      <td>0</td>\n",
              "      <td>0</td>\n",
              "      <td>0</td>\n",
              "      <td>0</td>\n",
              "      <td>0</td>\n",
              "      <td>0</td>\n",
              "      <td>0</td>\n",
              "      <td>0</td>\n",
              "      <td>0</td>\n",
              "      <td>0</td>\n",
              "      <td>0</td>\n",
              "      <td>0</td>\n",
              "      <td>0</td>\n",
              "      <td>0</td>\n",
              "      <td>0</td>\n",
              "      <td>0</td>\n",
              "      <td>0</td>\n",
              "      <td>0</td>\n",
              "      <td>0</td>\n",
              "      <td>0</td>\n",
              "      <td>0</td>\n",
              "      <td>0</td>\n",
              "      <td>0</td>\n",
              "      <td>0</td>\n",
              "      <td>0</td>\n",
              "      <td>0</td>\n",
              "      <td>0</td>\n",
              "      <td>0</td>\n",
              "      <td>0</td>\n",
              "      <td>0</td>\n",
              "      <td>0</td>\n",
              "      <td>0</td>\n",
              "      <td>0</td>\n",
              "      <td>0</td>\n",
              "      <td>0</td>\n",
              "      <td>0</td>\n",
              "      <td>0</td>\n",
              "      <td>0</td>\n",
              "      <td>...</td>\n",
              "      <td>0</td>\n",
              "      <td>0</td>\n",
              "      <td>0</td>\n",
              "      <td>0</td>\n",
              "      <td>0</td>\n",
              "      <td>0</td>\n",
              "      <td>0</td>\n",
              "      <td>0</td>\n",
              "      <td>0</td>\n",
              "      <td>0</td>\n",
              "      <td>0</td>\n",
              "      <td>0</td>\n",
              "      <td>0</td>\n",
              "      <td>0</td>\n",
              "      <td>0</td>\n",
              "      <td>0</td>\n",
              "      <td>0</td>\n",
              "      <td>0</td>\n",
              "      <td>0</td>\n",
              "      <td>0</td>\n",
              "      <td>0</td>\n",
              "      <td>0</td>\n",
              "      <td>0</td>\n",
              "      <td>0</td>\n",
              "      <td>0</td>\n",
              "      <td>0</td>\n",
              "      <td>0</td>\n",
              "      <td>0</td>\n",
              "      <td>0</td>\n",
              "      <td>0</td>\n",
              "      <td>0</td>\n",
              "      <td>0</td>\n",
              "      <td>0</td>\n",
              "      <td>0</td>\n",
              "      <td>0</td>\n",
              "      <td>0</td>\n",
              "      <td>0</td>\n",
              "      <td>0</td>\n",
              "      <td>0</td>\n",
              "      <td>0</td>\n",
              "    </tr>\n",
              "  </tbody>\n",
              "</table>\n",
              "<p>60000 rows × 785 columns</p>\n",
              "</div>"
            ],
            "text/plain": [
              "       class  1x1  1x2  1x3  1x4  1x5  ...  28x23  28x24  28x25  28x26  28x27  28x28\n",
              "0          2    0    0    0    0    0  ...      0      0      0      0      0      0\n",
              "1          9    0    0    0    0    0  ...      0      0      0      0      0      0\n",
              "2          6    0    0    0    0    0  ...     43      0      0      0      0      0\n",
              "3          0    0    0    0    1    2  ...      0      1      0      0      0      0\n",
              "4          3    0    0    0    0    0  ...      0      0      0      0      0      0\n",
              "...      ...  ...  ...  ...  ...  ...  ...    ...    ...    ...    ...    ...    ...\n",
              "59995      9    0    0    0    0    0  ...      0      0      0      0      0      0\n",
              "59996      1    0    0    0    0    0  ...      0      0      0      0      0      0\n",
              "59997      8    0    0    0    0    0  ...     94      0      0      0      0      0\n",
              "59998      8    0    0    0    0    0  ...      0      0      0      0      0      0\n",
              "59999      7    0    0    0    0    0  ...      0      0      0      0      0      0\n",
              "\n",
              "[60000 rows x 785 columns]"
            ]
          },
          "metadata": {
            "tags": []
          },
          "execution_count": 54
        }
      ]
    },
    {
      "cell_type": "markdown",
      "metadata": {
        "id": "ff4f78c2"
      },
      "source": [
        "Let's visualize some examples first"
      ],
      "id": "ff4f78c2"
    },
    {
      "cell_type": "code",
      "metadata": {
        "execution": {
          "iopub.execute_input": "2021-08-02T20:02:01.088107Z",
          "iopub.status.busy": "2021-08-02T20:02:01.087240Z",
          "iopub.status.idle": "2021-08-02T20:02:01.140271Z",
          "shell.execute_reply": "2021-08-02T20:02:01.140993Z"
        },
        "id": "4ffef887",
        "colab": {
          "base_uri": "https://localhost:8080/",
          "height": 642
        },
        "outputId": "aabe22f7-ee0c-470c-e608-6dcd57718fcd"
      },
      "source": [
        "draw_image(1)"
      ],
      "id": "4ffef887",
      "execution_count": null,
      "outputs": [
        {
          "output_type": "execute_result",
          "data": {
            "text/plain": [
              "alt.Chart(...)"
            ],
            "text/html": [
              "\n",
              "<div id=\"altair-viz-bbdd593c51fb4a40bb0438a786616916\"></div>\n",
              "<script type=\"text/javascript\">\n",
              "  (function(spec, embedOpt){\n",
              "    let outputDiv = document.currentScript.previousElementSibling;\n",
              "    if (outputDiv.id !== \"altair-viz-bbdd593c51fb4a40bb0438a786616916\") {\n",
              "      outputDiv = document.getElementById(\"altair-viz-bbdd593c51fb4a40bb0438a786616916\");\n",
              "    }\n",
              "    const paths = {\n",
              "      \"vega\": \"https://cdn.jsdelivr.net/npm//vega@5?noext\",\n",
              "      \"vega-lib\": \"https://cdn.jsdelivr.net/npm//vega-lib?noext\",\n",
              "      \"vega-lite\": \"https://cdn.jsdelivr.net/npm//vega-lite@4.8.1?noext\",\n",
              "      \"vega-embed\": \"https://cdn.jsdelivr.net/npm//vega-embed@6?noext\",\n",
              "    };\n",
              "\n",
              "    function loadScript(lib) {\n",
              "      return new Promise(function(resolve, reject) {\n",
              "        var s = document.createElement('script');\n",
              "        s.src = paths[lib];\n",
              "        s.async = true;\n",
              "        s.onload = () => resolve(paths[lib]);\n",
              "        s.onerror = () => reject(`Error loading script: ${paths[lib]}`);\n",
              "        document.getElementsByTagName(\"head\")[0].appendChild(s);\n",
              "      });\n",
              "    }\n",
              "\n",
              "    function showError(err) {\n",
              "      outputDiv.innerHTML = `<div class=\"error\" style=\"color:red;\">${err}</div>`;\n",
              "      throw err;\n",
              "    }\n",
              "\n",
              "    function displayChart(vegaEmbed) {\n",
              "      vegaEmbed(outputDiv, spec, embedOpt)\n",
              "        .catch(err => showError(`Javascript Error: ${err.message}<br>This usually means there's a typo in your chart specification. See the javascript console for the full traceback.`));\n",
              "    }\n",
              "\n",
              "    if(typeof define === \"function\" && define.amd) {\n",
              "      requirejs.config({paths});\n",
              "      require([\"vega-embed\"], displayChart, err => showError(`Error loading script: ${err.message}`));\n",
              "    } else if (typeof vegaEmbed === \"function\") {\n",
              "      displayChart(vegaEmbed);\n",
              "    } else {\n",
              "      loadScript(\"vega\")\n",
              "        .then(() => loadScript(\"vega-lite\"))\n",
              "        .then(() => loadScript(\"vega-embed\"))\n",
              "        .catch(showError)\n",
              "        .then(() => displayChart(vegaEmbed));\n",
              "    }\n",
              "  })({\"config\": {\"view\": {\"continuousWidth\": 400, \"continuousHeight\": 300}}, \"data\": {\"name\": \"data-354bb29170c122f1a1e0763e009020bf\"}, \"mark\": \"rect\", \"encoding\": {\"color\": {\"type\": \"quantitative\", \"field\": \"val\"}, \"fill\": {\"type\": \"quantitative\", \"field\": \"val\"}, \"tooltip\": [{\"type\": \"quantitative\", \"field\": \"x\"}, {\"type\": \"quantitative\", \"field\": \"y\"}, {\"type\": \"quantitative\", \"field\": \"val\"}], \"x\": {\"type\": \"ordinal\", \"field\": \"x\"}, \"y\": {\"type\": \"ordinal\", \"field\": \"y\"}}, \"title\": \"Image of a 9\", \"$schema\": \"https://vega.github.io/schema/vega-lite/v4.8.1.json\", \"datasets\": {\"data-354bb29170c122f1a1e0763e009020bf\": [{\"x\": 1, \"y\": 1, \"val\": 0}, {\"x\": 2, \"y\": 1, \"val\": 0}, {\"x\": 3, \"y\": 1, \"val\": 0}, {\"x\": 4, \"y\": 1, \"val\": 0}, {\"x\": 5, \"y\": 1, \"val\": 0}, {\"x\": 6, \"y\": 1, \"val\": 0}, {\"x\": 7, \"y\": 1, \"val\": 0}, {\"x\": 8, \"y\": 1, \"val\": 0}, {\"x\": 9, \"y\": 1, \"val\": 0}, {\"x\": 10, \"y\": 1, \"val\": 0}, {\"x\": 11, \"y\": 1, \"val\": 0}, {\"x\": 12, \"y\": 1, \"val\": 0}, {\"x\": 13, \"y\": 1, \"val\": 0}, {\"x\": 14, \"y\": 1, \"val\": 0}, {\"x\": 15, \"y\": 1, \"val\": 0}, {\"x\": 16, \"y\": 1, \"val\": 0}, {\"x\": 17, \"y\": 1, \"val\": 0}, {\"x\": 18, \"y\": 1, \"val\": 0}, {\"x\": 19, \"y\": 1, \"val\": 0}, {\"x\": 20, \"y\": 1, \"val\": 0}, {\"x\": 21, \"y\": 1, \"val\": 0}, {\"x\": 22, \"y\": 1, \"val\": 0}, {\"x\": 23, \"y\": 1, \"val\": 0}, {\"x\": 24, \"y\": 1, \"val\": 0}, {\"x\": 25, \"y\": 1, \"val\": 0}, {\"x\": 26, \"y\": 1, \"val\": 0}, {\"x\": 27, \"y\": 1, \"val\": 0}, {\"x\": 28, \"y\": 1, \"val\": 0}, {\"x\": 1, \"y\": 2, \"val\": 0}, {\"x\": 2, \"y\": 2, \"val\": 0}, {\"x\": 3, \"y\": 2, \"val\": 0}, {\"x\": 4, \"y\": 2, \"val\": 0}, {\"x\": 5, \"y\": 2, \"val\": 0}, {\"x\": 6, \"y\": 2, \"val\": 0}, {\"x\": 7, \"y\": 2, \"val\": 0}, {\"x\": 8, \"y\": 2, \"val\": 0}, {\"x\": 9, \"y\": 2, \"val\": 0}, {\"x\": 10, \"y\": 2, \"val\": 0}, {\"x\": 11, \"y\": 2, \"val\": 0}, {\"x\": 12, \"y\": 2, \"val\": 0}, {\"x\": 13, \"y\": 2, \"val\": 0}, {\"x\": 14, \"y\": 2, \"val\": 0}, {\"x\": 15, \"y\": 2, \"val\": 0}, {\"x\": 16, \"y\": 2, \"val\": 0}, {\"x\": 17, \"y\": 2, \"val\": 0}, {\"x\": 18, \"y\": 2, \"val\": 0}, {\"x\": 19, \"y\": 2, \"val\": 0}, {\"x\": 20, \"y\": 2, \"val\": 0}, {\"x\": 21, \"y\": 2, \"val\": 0}, {\"x\": 22, \"y\": 2, \"val\": 0}, {\"x\": 23, \"y\": 2, \"val\": 0}, {\"x\": 24, \"y\": 2, \"val\": 0}, {\"x\": 25, \"y\": 2, \"val\": 0}, {\"x\": 26, \"y\": 2, \"val\": 0}, {\"x\": 27, \"y\": 2, \"val\": 0}, {\"x\": 28, \"y\": 2, \"val\": 0}, {\"x\": 1, \"y\": 3, \"val\": 0}, {\"x\": 2, \"y\": 3, \"val\": 0}, {\"x\": 3, \"y\": 3, \"val\": 0}, {\"x\": 4, \"y\": 3, \"val\": 0}, {\"x\": 5, \"y\": 3, \"val\": 0}, {\"x\": 6, \"y\": 3, \"val\": 0}, {\"x\": 7, \"y\": 3, \"val\": 0}, {\"x\": 8, \"y\": 3, \"val\": 0}, {\"x\": 9, \"y\": 3, \"val\": 0}, {\"x\": 10, \"y\": 3, \"val\": 0}, {\"x\": 11, \"y\": 3, \"val\": 0}, {\"x\": 12, \"y\": 3, \"val\": 0}, {\"x\": 13, \"y\": 3, \"val\": 0}, {\"x\": 14, \"y\": 3, \"val\": 0}, {\"x\": 15, \"y\": 3, \"val\": 0}, {\"x\": 16, \"y\": 3, \"val\": 0}, {\"x\": 17, \"y\": 3, \"val\": 0}, {\"x\": 18, \"y\": 3, \"val\": 0}, {\"x\": 19, \"y\": 3, \"val\": 0}, {\"x\": 20, \"y\": 3, \"val\": 0}, {\"x\": 21, \"y\": 3, \"val\": 0}, {\"x\": 22, \"y\": 3, \"val\": 0}, {\"x\": 23, \"y\": 3, \"val\": 0}, {\"x\": 24, \"y\": 3, \"val\": 0}, {\"x\": 25, \"y\": 3, \"val\": 0}, {\"x\": 26, \"y\": 3, \"val\": 0}, {\"x\": 27, \"y\": 3, \"val\": 0}, {\"x\": 28, \"y\": 3, \"val\": 0}, {\"x\": 1, \"y\": 4, \"val\": 0}, {\"x\": 2, \"y\": 4, \"val\": 0}, {\"x\": 3, \"y\": 4, \"val\": 0}, {\"x\": 4, \"y\": 4, \"val\": 0}, {\"x\": 5, \"y\": 4, \"val\": 0}, {\"x\": 6, \"y\": 4, \"val\": 0}, {\"x\": 7, \"y\": 4, \"val\": 0}, {\"x\": 8, \"y\": 4, \"val\": 0}, {\"x\": 9, \"y\": 4, \"val\": 0}, {\"x\": 10, \"y\": 4, \"val\": 0}, {\"x\": 11, \"y\": 4, \"val\": 0}, {\"x\": 12, \"y\": 4, \"val\": 0}, {\"x\": 13, \"y\": 4, \"val\": 0}, {\"x\": 14, \"y\": 4, \"val\": 0}, {\"x\": 15, \"y\": 4, \"val\": 0}, {\"x\": 16, \"y\": 4, \"val\": 0}, {\"x\": 17, \"y\": 4, \"val\": 0}, {\"x\": 18, \"y\": 4, \"val\": 0}, {\"x\": 19, \"y\": 4, \"val\": 0}, {\"x\": 20, \"y\": 4, \"val\": 0}, {\"x\": 21, \"y\": 4, \"val\": 0}, {\"x\": 22, \"y\": 4, \"val\": 0}, {\"x\": 23, \"y\": 4, \"val\": 0}, {\"x\": 24, \"y\": 4, \"val\": 0}, {\"x\": 25, \"y\": 4, \"val\": 0}, {\"x\": 26, \"y\": 4, \"val\": 0}, {\"x\": 27, \"y\": 4, \"val\": 0}, {\"x\": 28, \"y\": 4, \"val\": 0}, {\"x\": 1, \"y\": 5, \"val\": 0}, {\"x\": 2, \"y\": 5, \"val\": 0}, {\"x\": 3, \"y\": 5, \"val\": 0}, {\"x\": 4, \"y\": 5, \"val\": 0}, {\"x\": 5, \"y\": 5, \"val\": 0}, {\"x\": 6, \"y\": 5, \"val\": 0}, {\"x\": 7, \"y\": 5, \"val\": 0}, {\"x\": 8, \"y\": 5, \"val\": 0}, {\"x\": 9, \"y\": 5, \"val\": 0}, {\"x\": 10, \"y\": 5, \"val\": 0}, {\"x\": 11, \"y\": 5, \"val\": 0}, {\"x\": 12, \"y\": 5, \"val\": 0}, {\"x\": 13, \"y\": 5, \"val\": 0}, {\"x\": 14, \"y\": 5, \"val\": 0}, {\"x\": 15, \"y\": 5, \"val\": 0}, {\"x\": 16, \"y\": 5, \"val\": 0}, {\"x\": 17, \"y\": 5, \"val\": 0}, {\"x\": 18, \"y\": 5, \"val\": 0}, {\"x\": 19, \"y\": 5, \"val\": 0}, {\"x\": 20, \"y\": 5, \"val\": 0}, {\"x\": 21, \"y\": 5, \"val\": 0}, {\"x\": 22, \"y\": 5, \"val\": 0}, {\"x\": 23, \"y\": 5, \"val\": 0}, {\"x\": 24, \"y\": 5, \"val\": 0}, {\"x\": 25, \"y\": 5, \"val\": 0}, {\"x\": 26, \"y\": 5, \"val\": 0}, {\"x\": 27, \"y\": 5, \"val\": 0}, {\"x\": 28, \"y\": 5, \"val\": 0}, {\"x\": 1, \"y\": 6, \"val\": 0}, {\"x\": 2, \"y\": 6, \"val\": 0}, {\"x\": 3, \"y\": 6, \"val\": 0}, {\"x\": 4, \"y\": 6, \"val\": 0}, {\"x\": 5, \"y\": 6, \"val\": 0}, {\"x\": 6, \"y\": 6, \"val\": 0}, {\"x\": 7, \"y\": 6, \"val\": 0}, {\"x\": 8, \"y\": 6, \"val\": 0}, {\"x\": 9, \"y\": 6, \"val\": 0}, {\"x\": 10, \"y\": 6, \"val\": 0}, {\"x\": 11, \"y\": 6, \"val\": 0}, {\"x\": 12, \"y\": 6, \"val\": 0}, {\"x\": 13, \"y\": 6, \"val\": 1}, {\"x\": 14, \"y\": 6, \"val\": 1}, {\"x\": 15, \"y\": 6, \"val\": 0}, {\"x\": 16, \"y\": 6, \"val\": 0}, {\"x\": 17, \"y\": 6, \"val\": 0}, {\"x\": 18, \"y\": 6, \"val\": 0}, {\"x\": 19, \"y\": 6, \"val\": 81}, {\"x\": 20, \"y\": 6, \"val\": 21}, {\"x\": 21, \"y\": 6, \"val\": 0}, {\"x\": 22, \"y\": 6, \"val\": 1}, {\"x\": 23, \"y\": 6, \"val\": 0}, {\"x\": 24, \"y\": 6, \"val\": 1}, {\"x\": 25, \"y\": 6, \"val\": 0}, {\"x\": 26, \"y\": 6, \"val\": 0}, {\"x\": 27, \"y\": 6, \"val\": 0}, {\"x\": 28, \"y\": 6, \"val\": 0}, {\"x\": 1, \"y\": 7, \"val\": 0}, {\"x\": 2, \"y\": 7, \"val\": 0}, {\"x\": 3, \"y\": 7, \"val\": 0}, {\"x\": 4, \"y\": 7, \"val\": 0}, {\"x\": 5, \"y\": 7, \"val\": 0}, {\"x\": 6, \"y\": 7, \"val\": 0}, {\"x\": 7, \"y\": 7, \"val\": 0}, {\"x\": 8, \"y\": 7, \"val\": 0}, {\"x\": 9, \"y\": 7, \"val\": 0}, {\"x\": 10, \"y\": 7, \"val\": 0}, {\"x\": 11, \"y\": 7, \"val\": 0}, {\"x\": 12, \"y\": 7, \"val\": 1}, {\"x\": 13, \"y\": 7, \"val\": 0}, {\"x\": 14, \"y\": 7, \"val\": 0}, {\"x\": 15, \"y\": 7, \"val\": 0}, {\"x\": 16, \"y\": 7, \"val\": 0}, {\"x\": 17, \"y\": 7, \"val\": 0}, {\"x\": 18, \"y\": 7, \"val\": 14}, {\"x\": 19, \"y\": 7, \"val\": 200}, {\"x\": 20, \"y\": 7, \"val\": 49}, {\"x\": 21, \"y\": 7, \"val\": 0}, {\"x\": 22, \"y\": 7, \"val\": 0}, {\"x\": 23, \"y\": 7, \"val\": 0}, {\"x\": 24, \"y\": 7, \"val\": 0}, {\"x\": 25, \"y\": 7, \"val\": 0}, {\"x\": 26, \"y\": 7, \"val\": 0}, {\"x\": 27, \"y\": 7, \"val\": 0}, {\"x\": 28, \"y\": 7, \"val\": 0}, {\"x\": 1, \"y\": 8, \"val\": 0}, {\"x\": 2, \"y\": 8, \"val\": 0}, {\"x\": 3, \"y\": 8, \"val\": 0}, {\"x\": 4, \"y\": 8, \"val\": 0}, {\"x\": 5, \"y\": 8, \"val\": 0}, {\"x\": 6, \"y\": 8, \"val\": 0}, {\"x\": 7, \"y\": 8, \"val\": 0}, {\"x\": 8, \"y\": 8, \"val\": 0}, {\"x\": 9, \"y\": 8, \"val\": 2}, {\"x\": 10, \"y\": 8, \"val\": 1}, {\"x\": 11, \"y\": 8, \"val\": 1}, {\"x\": 12, \"y\": 8, \"val\": 1}, {\"x\": 13, \"y\": 8, \"val\": 0}, {\"x\": 14, \"y\": 8, \"val\": 1}, {\"x\": 15, \"y\": 8, \"val\": 0}, {\"x\": 16, \"y\": 8, \"val\": 0}, {\"x\": 17, \"y\": 8, \"val\": 0}, {\"x\": 18, \"y\": 8, \"val\": 162}, {\"x\": 19, \"y\": 8, \"val\": 184}, {\"x\": 20, \"y\": 8, \"val\": 165}, {\"x\": 21, \"y\": 8, \"val\": 20}, {\"x\": 22, \"y\": 8, \"val\": 0}, {\"x\": 23, \"y\": 8, \"val\": 1}, {\"x\": 24, \"y\": 8, \"val\": 1}, {\"x\": 25, \"y\": 8, \"val\": 3}, {\"x\": 26, \"y\": 8, \"val\": 4}, {\"x\": 27, \"y\": 8, \"val\": 1}, {\"x\": 28, \"y\": 8, \"val\": 0}, {\"x\": 1, \"y\": 9, \"val\": 0}, {\"x\": 2, \"y\": 9, \"val\": 0}, {\"x\": 3, \"y\": 9, \"val\": 0}, {\"x\": 4, \"y\": 9, \"val\": 0}, {\"x\": 5, \"y\": 9, \"val\": 0}, {\"x\": 6, \"y\": 9, \"val\": 0}, {\"x\": 7, \"y\": 9, \"val\": 0}, {\"x\": 8, \"y\": 9, \"val\": 0}, {\"x\": 9, \"y\": 9, \"val\": 0}, {\"x\": 10, \"y\": 9, \"val\": 0}, {\"x\": 11, \"y\": 9, \"val\": 0}, {\"x\": 12, \"y\": 9, \"val\": 1}, {\"x\": 13, \"y\": 9, \"val\": 2}, {\"x\": 14, \"y\": 9, \"val\": 0}, {\"x\": 15, \"y\": 9, \"val\": 2}, {\"x\": 16, \"y\": 9, \"val\": 0}, {\"x\": 17, \"y\": 9, \"val\": 120}, {\"x\": 18, \"y\": 9, \"val\": 183}, {\"x\": 19, \"y\": 9, \"val\": 154}, {\"x\": 20, \"y\": 9, \"val\": 206}, {\"x\": 21, \"y\": 9, \"val\": 32}, {\"x\": 22, \"y\": 9, \"val\": 0}, {\"x\": 23, \"y\": 9, \"val\": 5}, {\"x\": 24, \"y\": 9, \"val\": 5}, {\"x\": 25, \"y\": 9, \"val\": 0}, {\"x\": 26, \"y\": 9, \"val\": 0}, {\"x\": 27, \"y\": 9, \"val\": 0}, {\"x\": 28, \"y\": 9, \"val\": 0}, {\"x\": 1, \"y\": 10, \"val\": 0}, {\"x\": 2, \"y\": 10, \"val\": 0}, {\"x\": 3, \"y\": 10, \"val\": 0}, {\"x\": 4, \"y\": 10, \"val\": 0}, {\"x\": 5, \"y\": 10, \"val\": 0}, {\"x\": 6, \"y\": 10, \"val\": 0}, {\"x\": 7, \"y\": 10, \"val\": 0}, {\"x\": 8, \"y\": 10, \"val\": 0}, {\"x\": 9, \"y\": 10, \"val\": 0}, {\"x\": 10, \"y\": 10, \"val\": 0}, {\"x\": 11, \"y\": 10, \"val\": 0}, {\"x\": 12, \"y\": 10, \"val\": 2}, {\"x\": 13, \"y\": 10, \"val\": 0}, {\"x\": 14, \"y\": 10, \"val\": 3}, {\"x\": 15, \"y\": 10, \"val\": 0}, {\"x\": 16, \"y\": 10, \"val\": 76}, {\"x\": 17, \"y\": 10, \"val\": 227}, {\"x\": 18, \"y\": 10, \"val\": 151}, {\"x\": 19, \"y\": 10, \"val\": 139}, {\"x\": 20, \"y\": 10, \"val\": 158}, {\"x\": 21, \"y\": 10, \"val\": 0}, {\"x\": 22, \"y\": 10, \"val\": 0}, {\"x\": 23, \"y\": 10, \"val\": 0}, {\"x\": 24, \"y\": 10, \"val\": 0}, {\"x\": 25, \"y\": 10, \"val\": 0}, {\"x\": 26, \"y\": 10, \"val\": 66}, {\"x\": 27, \"y\": 10, \"val\": 23}, {\"x\": 28, \"y\": 10, \"val\": 0}, {\"x\": 1, \"y\": 11, \"val\": 0}, {\"x\": 2, \"y\": 11, \"val\": 0}, {\"x\": 3, \"y\": 11, \"val\": 0}, {\"x\": 4, \"y\": 11, \"val\": 0}, {\"x\": 5, \"y\": 11, \"val\": 0}, {\"x\": 6, \"y\": 11, \"val\": 0}, {\"x\": 7, \"y\": 11, \"val\": 0}, {\"x\": 8, \"y\": 11, \"val\": 0}, {\"x\": 9, \"y\": 11, \"val\": 1}, {\"x\": 10, \"y\": 11, \"val\": 0}, {\"x\": 11, \"y\": 11, \"val\": 1}, {\"x\": 12, \"y\": 11, \"val\": 0}, {\"x\": 13, \"y\": 11, \"val\": 0}, {\"x\": 14, \"y\": 11, \"val\": 0}, {\"x\": 15, \"y\": 11, \"val\": 55}, {\"x\": 16, \"y\": 11, \"val\": 224}, {\"x\": 17, \"y\": 11, \"val\": 162}, {\"x\": 18, \"y\": 11, \"val\": 143}, {\"x\": 19, \"y\": 11, \"val\": 121}, {\"x\": 20, \"y\": 11, \"val\": 204}, {\"x\": 21, \"y\": 11, \"val\": 236}, {\"x\": 22, \"y\": 11, \"val\": 144}, {\"x\": 23, \"y\": 11, \"val\": 21}, {\"x\": 24, \"y\": 11, \"val\": 74}, {\"x\": 25, \"y\": 11, \"val\": 90}, {\"x\": 26, \"y\": 11, \"val\": 190}, {\"x\": 27, \"y\": 11, \"val\": 8}, {\"x\": 28, \"y\": 11, \"val\": 0}, {\"x\": 1, \"y\": 12, \"val\": 0}, {\"x\": 2, \"y\": 12, \"val\": 0}, {\"x\": 3, \"y\": 12, \"val\": 0}, {\"x\": 4, \"y\": 12, \"val\": 0}, {\"x\": 5, \"y\": 12, \"val\": 0}, {\"x\": 6, \"y\": 12, \"val\": 0}, {\"x\": 7, \"y\": 12, \"val\": 0}, {\"x\": 8, \"y\": 12, \"val\": 0}, {\"x\": 9, \"y\": 12, \"val\": 0}, {\"x\": 10, \"y\": 12, \"val\": 1}, {\"x\": 11, \"y\": 12, \"val\": 0}, {\"x\": 12, \"y\": 12, \"val\": 0}, {\"x\": 13, \"y\": 12, \"val\": 0}, {\"x\": 14, \"y\": 12, \"val\": 42}, {\"x\": 15, \"y\": 12, \"val\": 228}, {\"x\": 16, \"y\": 12, \"val\": 160}, {\"x\": 17, \"y\": 12, \"val\": 148}, {\"x\": 18, \"y\": 12, \"val\": 125}, {\"x\": 19, \"y\": 12, \"val\": 165}, {\"x\": 20, \"y\": 12, \"val\": 223}, {\"x\": 21, \"y\": 12, \"val\": 208}, {\"x\": 22, \"y\": 12, \"val\": 221}, {\"x\": 23, \"y\": 12, \"val\": 246}, {\"x\": 24, \"y\": 12, \"val\": 211}, {\"x\": 25, \"y\": 12, \"val\": 174}, {\"x\": 26, \"y\": 12, \"val\": 151}, {\"x\": 27, \"y\": 12, \"val\": 0}, {\"x\": 28, \"y\": 12, \"val\": 0}, {\"x\": 1, \"y\": 13, \"val\": 0}, {\"x\": 2, \"y\": 13, \"val\": 0}, {\"x\": 3, \"y\": 13, \"val\": 0}, {\"x\": 4, \"y\": 13, \"val\": 1}, {\"x\": 5, \"y\": 13, \"val\": 3}, {\"x\": 6, \"y\": 13, \"val\": 0}, {\"x\": 7, \"y\": 13, \"val\": 1}, {\"x\": 8, \"y\": 13, \"val\": 0}, {\"x\": 9, \"y\": 13, \"val\": 3}, {\"x\": 10, \"y\": 13, \"val\": 0}, {\"x\": 11, \"y\": 13, \"val\": 9}, {\"x\": 12, \"y\": 13, \"val\": 0}, {\"x\": 13, \"y\": 13, \"val\": 23}, {\"x\": 14, \"y\": 13, \"val\": 230}, {\"x\": 15, \"y\": 13, \"val\": 168}, {\"x\": 16, \"y\": 13, \"val\": 147}, {\"x\": 17, \"y\": 13, \"val\": 119}, {\"x\": 18, \"y\": 13, \"val\": 163}, {\"x\": 19, \"y\": 13, \"val\": 227}, {\"x\": 20, \"y\": 13, \"val\": 206}, {\"x\": 21, \"y\": 13, \"val\": 200}, {\"x\": 22, \"y\": 13, \"val\": 190}, {\"x\": 23, \"y\": 13, \"val\": 206}, {\"x\": 24, \"y\": 13, \"val\": 186}, {\"x\": 25, \"y\": 13, \"val\": 139}, {\"x\": 26, \"y\": 13, \"val\": 171}, {\"x\": 27, \"y\": 13, \"val\": 41}, {\"x\": 28, \"y\": 13, \"val\": 0}, {\"x\": 1, \"y\": 14, \"val\": 0}, {\"x\": 2, \"y\": 14, \"val\": 0}, {\"x\": 3, \"y\": 14, \"val\": 0}, {\"x\": 4, \"y\": 14, \"val\": 0}, {\"x\": 5, \"y\": 14, \"val\": 0}, {\"x\": 6, \"y\": 14, \"val\": 0}, {\"x\": 7, \"y\": 14, \"val\": 0}, {\"x\": 8, \"y\": 14, \"val\": 0}, {\"x\": 9, \"y\": 14, \"val\": 3}, {\"x\": 10, \"y\": 14, \"val\": 4}, {\"x\": 11, \"y\": 14, \"val\": 0}, {\"x\": 12, \"y\": 14, \"val\": 16}, {\"x\": 13, \"y\": 14, \"val\": 209}, {\"x\": 14, \"y\": 14, \"val\": 185}, {\"x\": 15, \"y\": 14, \"val\": 139}, {\"x\": 16, \"y\": 14, \"val\": 118}, {\"x\": 17, \"y\": 14, \"val\": 181}, {\"x\": 18, \"y\": 14, \"val\": 227}, {\"x\": 19, \"y\": 14, \"val\": 209}, {\"x\": 20, \"y\": 14, \"val\": 204}, {\"x\": 21, \"y\": 14, \"val\": 210}, {\"x\": 22, \"y\": 14, \"val\": 199}, {\"x\": 23, \"y\": 14, \"val\": 225}, {\"x\": 24, \"y\": 14, \"val\": 157}, {\"x\": 25, \"y\": 14, \"val\": 127}, {\"x\": 26, \"y\": 14, \"val\": 190}, {\"x\": 27, \"y\": 14, \"val\": 111}, {\"x\": 28, \"y\": 14, \"val\": 0}, {\"x\": 1, \"y\": 15, \"val\": 1}, {\"x\": 2, \"y\": 15, \"val\": 3}, {\"x\": 3, \"y\": 15, \"val\": 2}, {\"x\": 4, \"y\": 15, \"val\": 1}, {\"x\": 5, \"y\": 15, \"val\": 3}, {\"x\": 6, \"y\": 15, \"val\": 2}, {\"x\": 7, \"y\": 15, \"val\": 3}, {\"x\": 8, \"y\": 15, \"val\": 0}, {\"x\": 9, \"y\": 15, \"val\": 0}, {\"x\": 10, \"y\": 15, \"val\": 0}, {\"x\": 11, \"y\": 15, \"val\": 67}, {\"x\": 12, \"y\": 15, \"val\": 214}, {\"x\": 13, \"y\": 15, \"val\": 187}, {\"x\": 14, \"y\": 15, \"val\": 139}, {\"x\": 15, \"y\": 15, \"val\": 111}, {\"x\": 16, \"y\": 15, \"val\": 191}, {\"x\": 17, \"y\": 15, \"val\": 229}, {\"x\": 18, \"y\": 15, \"val\": 203}, {\"x\": 19, \"y\": 15, \"val\": 208}, {\"x\": 20, \"y\": 15, \"val\": 208}, {\"x\": 21, \"y\": 15, \"val\": 196}, {\"x\": 22, \"y\": 15, \"val\": 223}, {\"x\": 23, \"y\": 15, \"val\": 188}, {\"x\": 24, \"y\": 15, \"val\": 100}, {\"x\": 25, \"y\": 15, \"val\": 128}, {\"x\": 26, \"y\": 15, \"val\": 155}, {\"x\": 27, \"y\": 15, \"val\": 112}, {\"x\": 28, \"y\": 15, \"val\": 0}, {\"x\": 1, \"y\": 16, \"val\": 0}, {\"x\": 2, \"y\": 16, \"val\": 0}, {\"x\": 3, \"y\": 16, \"val\": 0}, {\"x\": 4, \"y\": 16, \"val\": 0}, {\"x\": 5, \"y\": 16, \"val\": 0}, {\"x\": 6, \"y\": 16, \"val\": 0}, {\"x\": 7, \"y\": 16, \"val\": 0}, {\"x\": 8, \"y\": 16, \"val\": 0}, {\"x\": 9, \"y\": 16, \"val\": 48}, {\"x\": 10, \"y\": 16, \"val\": 161}, {\"x\": 11, \"y\": 16, \"val\": 218}, {\"x\": 12, \"y\": 16, \"val\": 171}, {\"x\": 13, \"y\": 16, \"val\": 147}, {\"x\": 14, \"y\": 16, \"val\": 116}, {\"x\": 15, \"y\": 16, \"val\": 185}, {\"x\": 16, \"y\": 16, \"val\": 235}, {\"x\": 17, \"y\": 16, \"val\": 201}, {\"x\": 18, \"y\": 16, \"val\": 209}, {\"x\": 19, \"y\": 16, \"val\": 203}, {\"x\": 20, \"y\": 16, \"val\": 204}, {\"x\": 21, \"y\": 16, \"val\": 220}, {\"x\": 22, \"y\": 16, \"val\": 208}, {\"x\": 23, \"y\": 16, \"val\": 126}, {\"x\": 24, \"y\": 16, \"val\": 133}, {\"x\": 25, \"y\": 16, \"val\": 162}, {\"x\": 26, \"y\": 16, \"val\": 164}, {\"x\": 27, \"y\": 16, \"val\": 187}, {\"x\": 28, \"y\": 16, \"val\": 0}, {\"x\": 1, \"y\": 17, \"val\": 0}, {\"x\": 2, \"y\": 17, \"val\": 12}, {\"x\": 3, \"y\": 17, \"val\": 16}, {\"x\": 4, \"y\": 17, \"val\": 9}, {\"x\": 5, \"y\": 17, \"val\": 4}, {\"x\": 6, \"y\": 17, \"val\": 19}, {\"x\": 7, \"y\": 17, \"val\": 73}, {\"x\": 8, \"y\": 17, \"val\": 170}, {\"x\": 9, \"y\": 17, \"val\": 211}, {\"x\": 10, \"y\": 17, \"val\": 188}, {\"x\": 11, \"y\": 17, \"val\": 145}, {\"x\": 12, \"y\": 17, \"val\": 149}, {\"x\": 13, \"y\": 17, \"val\": 148}, {\"x\": 14, \"y\": 17, \"val\": 136}, {\"x\": 15, \"y\": 17, \"val\": 222}, {\"x\": 16, \"y\": 17, \"val\": 218}, {\"x\": 17, \"y\": 17, \"val\": 207}, {\"x\": 18, \"y\": 17, \"val\": 208}, {\"x\": 19, \"y\": 17, \"val\": 215}, {\"x\": 20, \"y\": 17, \"val\": 224}, {\"x\": 21, \"y\": 17, \"val\": 193}, {\"x\": 22, \"y\": 17, \"val\": 140}, {\"x\": 23, \"y\": 17, \"val\": 146}, {\"x\": 24, \"y\": 17, \"val\": 162}, {\"x\": 25, \"y\": 17, \"val\": 156}, {\"x\": 26, \"y\": 17, \"val\": 118}, {\"x\": 27, \"y\": 17, \"val\": 203}, {\"x\": 28, \"y\": 17, \"val\": 37}, {\"x\": 1, \"y\": 18, \"val\": 47}, {\"x\": 2, \"y\": 18, \"val\": 255}, {\"x\": 3, \"y\": 18, \"val\": 188}, {\"x\": 4, \"y\": 18, \"val\": 187}, {\"x\": 5, \"y\": 18, \"val\": 182}, {\"x\": 6, \"y\": 18, \"val\": 203}, {\"x\": 7, \"y\": 18, \"val\": 206}, {\"x\": 8, \"y\": 18, \"val\": 182}, {\"x\": 9, \"y\": 18, \"val\": 147}, {\"x\": 10, \"y\": 18, \"val\": 140}, {\"x\": 11, \"y\": 18, \"val\": 148}, {\"x\": 12, \"y\": 18, \"val\": 148}, {\"x\": 13, \"y\": 18, \"val\": 148}, {\"x\": 14, \"y\": 18, \"val\": 134}, {\"x\": 15, \"y\": 18, \"val\": 180}, {\"x\": 16, \"y\": 18, \"val\": 218}, {\"x\": 17, \"y\": 18, \"val\": 221}, {\"x\": 18, \"y\": 18, \"val\": 225}, {\"x\": 19, \"y\": 18, \"val\": 204}, {\"x\": 20, \"y\": 18, \"val\": 156}, {\"x\": 21, \"y\": 18, \"val\": 134}, {\"x\": 22, \"y\": 18, \"val\": 139}, {\"x\": 23, \"y\": 18, \"val\": 144}, {\"x\": 24, \"y\": 18, \"val\": 140}, {\"x\": 25, \"y\": 18, \"val\": 123}, {\"x\": 26, \"y\": 18, \"val\": 97}, {\"x\": 27, \"y\": 18, \"val\": 206}, {\"x\": 28, \"y\": 18, \"val\": 30}, {\"x\": 1, \"y\": 19, \"val\": 88}, {\"x\": 2, \"y\": 19, \"val\": 203}, {\"x\": 3, \"y\": 19, \"val\": 164}, {\"x\": 4, \"y\": 19, \"val\": 167}, {\"x\": 5, \"y\": 19, \"val\": 170}, {\"x\": 6, \"y\": 19, \"val\": 161}, {\"x\": 7, \"y\": 19, \"val\": 147}, {\"x\": 8, \"y\": 19, \"val\": 147}, {\"x\": 9, \"y\": 19, \"val\": 156}, {\"x\": 10, \"y\": 19, \"val\": 159}, {\"x\": 11, \"y\": 19, \"val\": 153}, {\"x\": 12, \"y\": 19, \"val\": 152}, {\"x\": 13, \"y\": 19, \"val\": 155}, {\"x\": 14, \"y\": 19, \"val\": 150}, {\"x\": 15, \"y\": 19, \"val\": 134}, {\"x\": 16, \"y\": 19, \"val\": 136}, {\"x\": 17, \"y\": 19, \"val\": 153}, {\"x\": 18, \"y\": 19, \"val\": 145}, {\"x\": 19, \"y\": 19, \"val\": 136}, {\"x\": 20, \"y\": 19, \"val\": 151}, {\"x\": 21, \"y\": 19, \"val\": 164}, {\"x\": 22, \"y\": 19, \"val\": 168}, {\"x\": 23, \"y\": 19, \"val\": 170}, {\"x\": 24, \"y\": 19, \"val\": 166}, {\"x\": 25, \"y\": 19, \"val\": 153}, {\"x\": 26, \"y\": 19, \"val\": 130}, {\"x\": 27, \"y\": 19, \"val\": 200}, {\"x\": 28, \"y\": 19, \"val\": 10}, {\"x\": 1, \"y\": 20, \"val\": 131}, {\"x\": 2, \"y\": 20, \"val\": 195}, {\"x\": 3, \"y\": 20, \"val\": 150}, {\"x\": 4, \"y\": 20, \"val\": 133}, {\"x\": 5, \"y\": 20, \"val\": 132}, {\"x\": 6, \"y\": 20, \"val\": 142}, {\"x\": 7, \"y\": 20, \"val\": 160}, {\"x\": 8, \"y\": 20, \"val\": 166}, {\"x\": 9, \"y\": 20, \"val\": 162}, {\"x\": 10, \"y\": 20, \"val\": 153}, {\"x\": 11, \"y\": 20, \"val\": 152}, {\"x\": 12, \"y\": 20, \"val\": 153}, {\"x\": 13, \"y\": 20, \"val\": 151}, {\"x\": 14, \"y\": 20, \"val\": 154}, {\"x\": 15, \"y\": 20, \"val\": 163}, {\"x\": 16, \"y\": 20, \"val\": 147}, {\"x\": 17, \"y\": 20, \"val\": 152}, {\"x\": 18, \"y\": 20, \"val\": 163}, {\"x\": 19, \"y\": 20, \"val\": 205}, {\"x\": 20, \"y\": 20, \"val\": 208}, {\"x\": 21, \"y\": 20, \"val\": 174}, {\"x\": 22, \"y\": 20, \"val\": 175}, {\"x\": 23, \"y\": 20, \"val\": 178}, {\"x\": 24, \"y\": 20, \"val\": 181}, {\"x\": 25, \"y\": 20, \"val\": 168}, {\"x\": 26, \"y\": 20, \"val\": 150}, {\"x\": 27, \"y\": 20, \"val\": 196}, {\"x\": 28, \"y\": 20, \"val\": 1}, {\"x\": 1, \"y\": 21, \"val\": 155}, {\"x\": 2, \"y\": 21, \"val\": 228}, {\"x\": 3, \"y\": 21, \"val\": 197}, {\"x\": 4, \"y\": 21, \"val\": 172}, {\"x\": 5, \"y\": 21, \"val\": 138}, {\"x\": 6, \"y\": 21, \"val\": 123}, {\"x\": 7, \"y\": 21, \"val\": 121}, {\"x\": 8, \"y\": 21, \"val\": 122}, {\"x\": 9, \"y\": 21, \"val\": 126}, {\"x\": 10, \"y\": 21, \"val\": 129}, {\"x\": 11, \"y\": 21, \"val\": 135}, {\"x\": 12, \"y\": 21, \"val\": 139}, {\"x\": 13, \"y\": 21, \"val\": 144}, {\"x\": 14, \"y\": 21, \"val\": 158}, {\"x\": 15, \"y\": 21, \"val\": 177}, {\"x\": 16, \"y\": 21, \"val\": 192}, {\"x\": 17, \"y\": 21, \"val\": 239}, {\"x\": 18, \"y\": 21, \"val\": 244}, {\"x\": 19, \"y\": 21, \"val\": 178}, {\"x\": 20, \"y\": 21, \"val\": 176}, {\"x\": 21, \"y\": 21, \"val\": 183}, {\"x\": 22, \"y\": 21, \"val\": 179}, {\"x\": 23, \"y\": 21, \"val\": 185}, {\"x\": 24, \"y\": 21, \"val\": 177}, {\"x\": 25, \"y\": 21, \"val\": 147}, {\"x\": 26, \"y\": 21, \"val\": 148}, {\"x\": 27, \"y\": 21, \"val\": 192}, {\"x\": 28, \"y\": 21, \"val\": 0}, {\"x\": 1, \"y\": 22, \"val\": 0}, {\"x\": 2, \"y\": 22, \"val\": 80}, {\"x\": 3, \"y\": 22, \"val\": 196}, {\"x\": 4, \"y\": 22, \"val\": 199}, {\"x\": 5, \"y\": 22, \"val\": 212}, {\"x\": 6, \"y\": 22, \"val\": 209}, {\"x\": 7, \"y\": 22, \"val\": 190}, {\"x\": 8, \"y\": 22, \"val\": 176}, {\"x\": 9, \"y\": 22, \"val\": 170}, {\"x\": 10, \"y\": 22, \"val\": 178}, {\"x\": 11, \"y\": 22, \"val\": 183}, {\"x\": 12, \"y\": 22, \"val\": 192}, {\"x\": 13, \"y\": 22, \"val\": 204}, {\"x\": 14, \"y\": 22, \"val\": 204}, {\"x\": 15, \"y\": 22, \"val\": 202}, {\"x\": 16, \"y\": 22, \"val\": 144}, {\"x\": 17, \"y\": 22, \"val\": 59}, {\"x\": 18, \"y\": 22, \"val\": 3}, {\"x\": 19, \"y\": 22, \"val\": 0}, {\"x\": 20, \"y\": 22, \"val\": 67}, {\"x\": 21, \"y\": 22, \"val\": 217}, {\"x\": 22, \"y\": 22, \"val\": 184}, {\"x\": 23, \"y\": 22, \"val\": 188}, {\"x\": 24, \"y\": 22, \"val\": 178}, {\"x\": 25, \"y\": 22, \"val\": 166}, {\"x\": 26, \"y\": 22, \"val\": 160}, {\"x\": 27, \"y\": 22, \"val\": 188}, {\"x\": 28, \"y\": 22, \"val\": 13}, {\"x\": 1, \"y\": 23, \"val\": 0}, {\"x\": 2, \"y\": 23, \"val\": 0}, {\"x\": 3, \"y\": 23, \"val\": 0}, {\"x\": 4, \"y\": 23, \"val\": 3}, {\"x\": 5, \"y\": 23, \"val\": 51}, {\"x\": 6, \"y\": 23, \"val\": 105}, {\"x\": 7, \"y\": 23, \"val\": 179}, {\"x\": 8, \"y\": 23, \"val\": 217}, {\"x\": 9, \"y\": 23, \"val\": 235}, {\"x\": 10, \"y\": 23, \"val\": 227}, {\"x\": 11, \"y\": 23, \"val\": 208}, {\"x\": 12, \"y\": 23, \"val\": 201}, {\"x\": 13, \"y\": 23, \"val\": 133}, {\"x\": 14, \"y\": 23, \"val\": 58}, {\"x\": 15, \"y\": 23, \"val\": 0}, {\"x\": 16, \"y\": 23, \"val\": 0}, {\"x\": 17, \"y\": 23, \"val\": 0}, {\"x\": 18, \"y\": 23, \"val\": 0}, {\"x\": 19, \"y\": 23, \"val\": 0}, {\"x\": 20, \"y\": 23, \"val\": 16}, {\"x\": 21, \"y\": 23, \"val\": 187}, {\"x\": 22, \"y\": 23, \"val\": 194}, {\"x\": 23, \"y\": 23, \"val\": 184}, {\"x\": 24, \"y\": 23, \"val\": 185}, {\"x\": 25, \"y\": 23, \"val\": 175}, {\"x\": 26, \"y\": 23, \"val\": 181}, {\"x\": 27, \"y\": 23, \"val\": 131}, {\"x\": 28, \"y\": 23, \"val\": 0}, {\"x\": 1, \"y\": 24, \"val\": 0}, {\"x\": 2, \"y\": 24, \"val\": 3}, {\"x\": 3, \"y\": 24, \"val\": 0}, {\"x\": 4, \"y\": 24, \"val\": 0}, {\"x\": 5, \"y\": 24, \"val\": 0}, {\"x\": 6, \"y\": 24, \"val\": 0}, {\"x\": 7, \"y\": 24, \"val\": 0}, {\"x\": 8, \"y\": 24, \"val\": 0}, {\"x\": 9, \"y\": 24, \"val\": 0}, {\"x\": 10, \"y\": 24, \"val\": 0}, {\"x\": 11, \"y\": 24, \"val\": 0}, {\"x\": 12, \"y\": 24, \"val\": 0}, {\"x\": 13, \"y\": 24, \"val\": 0}, {\"x\": 14, \"y\": 24, \"val\": 0}, {\"x\": 15, \"y\": 24, \"val\": 0}, {\"x\": 16, \"y\": 24, \"val\": 5}, {\"x\": 17, \"y\": 24, \"val\": 5}, {\"x\": 18, \"y\": 24, \"val\": 5}, {\"x\": 19, \"y\": 24, \"val\": 0}, {\"x\": 20, \"y\": 24, \"val\": 0}, {\"x\": 21, \"y\": 24, \"val\": 0}, {\"x\": 22, \"y\": 24, \"val\": 0}, {\"x\": 23, \"y\": 24, \"val\": 0}, {\"x\": 24, \"y\": 24, \"val\": 0}, {\"x\": 25, \"y\": 24, \"val\": 0}, {\"x\": 26, \"y\": 24, \"val\": 0}, {\"x\": 27, \"y\": 24, \"val\": 0}, {\"x\": 28, \"y\": 24, \"val\": 0}, {\"x\": 1, \"y\": 25, \"val\": 0}, {\"x\": 2, \"y\": 25, \"val\": 0}, {\"x\": 3, \"y\": 25, \"val\": 0}, {\"x\": 4, \"y\": 25, \"val\": 0}, {\"x\": 5, \"y\": 25, \"val\": 0}, {\"x\": 6, \"y\": 25, \"val\": 0}, {\"x\": 7, \"y\": 25, \"val\": 0}, {\"x\": 8, \"y\": 25, \"val\": 0}, {\"x\": 9, \"y\": 25, \"val\": 0}, {\"x\": 10, \"y\": 25, \"val\": 0}, {\"x\": 11, \"y\": 25, \"val\": 0}, {\"x\": 12, \"y\": 25, \"val\": 0}, {\"x\": 13, \"y\": 25, \"val\": 0}, {\"x\": 14, \"y\": 25, \"val\": 0}, {\"x\": 15, \"y\": 25, \"val\": 0}, {\"x\": 16, \"y\": 25, \"val\": 0}, {\"x\": 17, \"y\": 25, \"val\": 0}, {\"x\": 18, \"y\": 25, \"val\": 0}, {\"x\": 19, \"y\": 25, \"val\": 0}, {\"x\": 20, \"y\": 25, \"val\": 0}, {\"x\": 21, \"y\": 25, \"val\": 0}, {\"x\": 22, \"y\": 25, \"val\": 0}, {\"x\": 23, \"y\": 25, \"val\": 0}, {\"x\": 24, \"y\": 25, \"val\": 0}, {\"x\": 25, \"y\": 25, \"val\": 0}, {\"x\": 26, \"y\": 25, \"val\": 0}, {\"x\": 27, \"y\": 25, \"val\": 0}, {\"x\": 28, \"y\": 25, \"val\": 0}, {\"x\": 1, \"y\": 26, \"val\": 0}, {\"x\": 2, \"y\": 26, \"val\": 0}, {\"x\": 3, \"y\": 26, \"val\": 0}, {\"x\": 4, \"y\": 26, \"val\": 0}, {\"x\": 5, \"y\": 26, \"val\": 0}, {\"x\": 6, \"y\": 26, \"val\": 0}, {\"x\": 7, \"y\": 26, \"val\": 0}, {\"x\": 8, \"y\": 26, \"val\": 0}, {\"x\": 9, \"y\": 26, \"val\": 0}, {\"x\": 10, \"y\": 26, \"val\": 0}, {\"x\": 11, \"y\": 26, \"val\": 0}, {\"x\": 12, \"y\": 26, \"val\": 0}, {\"x\": 13, \"y\": 26, \"val\": 0}, {\"x\": 14, \"y\": 26, \"val\": 0}, {\"x\": 15, \"y\": 26, \"val\": 0}, {\"x\": 16, \"y\": 26, \"val\": 0}, {\"x\": 17, \"y\": 26, \"val\": 0}, {\"x\": 18, \"y\": 26, \"val\": 0}, {\"x\": 19, \"y\": 26, \"val\": 0}, {\"x\": 20, \"y\": 26, \"val\": 0}, {\"x\": 21, \"y\": 26, \"val\": 0}, {\"x\": 22, \"y\": 26, \"val\": 0}, {\"x\": 23, \"y\": 26, \"val\": 0}, {\"x\": 24, \"y\": 26, \"val\": 0}, {\"x\": 25, \"y\": 26, \"val\": 0}, {\"x\": 26, \"y\": 26, \"val\": 0}, {\"x\": 27, \"y\": 26, \"val\": 0}, {\"x\": 28, \"y\": 26, \"val\": 0}, {\"x\": 1, \"y\": 27, \"val\": 0}, {\"x\": 2, \"y\": 27, \"val\": 0}, {\"x\": 3, \"y\": 27, \"val\": 0}, {\"x\": 4, \"y\": 27, \"val\": 0}, {\"x\": 5, \"y\": 27, \"val\": 0}, {\"x\": 6, \"y\": 27, \"val\": 0}, {\"x\": 7, \"y\": 27, \"val\": 0}, {\"x\": 8, \"y\": 27, \"val\": 0}, {\"x\": 9, \"y\": 27, \"val\": 0}, {\"x\": 10, \"y\": 27, \"val\": 0}, {\"x\": 11, \"y\": 27, \"val\": 0}, {\"x\": 12, \"y\": 27, \"val\": 0}, {\"x\": 13, \"y\": 27, \"val\": 0}, {\"x\": 14, \"y\": 27, \"val\": 0}, {\"x\": 15, \"y\": 27, \"val\": 0}, {\"x\": 16, \"y\": 27, \"val\": 0}, {\"x\": 17, \"y\": 27, \"val\": 0}, {\"x\": 18, \"y\": 27, \"val\": 0}, {\"x\": 19, \"y\": 27, \"val\": 0}, {\"x\": 20, \"y\": 27, \"val\": 0}, {\"x\": 21, \"y\": 27, \"val\": 0}, {\"x\": 22, \"y\": 27, \"val\": 0}, {\"x\": 23, \"y\": 27, \"val\": 0}, {\"x\": 24, \"y\": 27, \"val\": 0}, {\"x\": 25, \"y\": 27, \"val\": 0}, {\"x\": 26, \"y\": 27, \"val\": 0}, {\"x\": 27, \"y\": 27, \"val\": 0}, {\"x\": 28, \"y\": 27, \"val\": 0}, {\"x\": 1, \"y\": 28, \"val\": 0}, {\"x\": 2, \"y\": 28, \"val\": 0}, {\"x\": 3, \"y\": 28, \"val\": 0}, {\"x\": 4, \"y\": 28, \"val\": 0}, {\"x\": 5, \"y\": 28, \"val\": 0}, {\"x\": 6, \"y\": 28, \"val\": 0}, {\"x\": 7, \"y\": 28, \"val\": 0}, {\"x\": 8, \"y\": 28, \"val\": 0}, {\"x\": 9, \"y\": 28, \"val\": 0}, {\"x\": 10, \"y\": 28, \"val\": 0}, {\"x\": 11, \"y\": 28, \"val\": 0}, {\"x\": 12, \"y\": 28, \"val\": 0}, {\"x\": 13, \"y\": 28, \"val\": 0}, {\"x\": 14, \"y\": 28, \"val\": 0}, {\"x\": 15, \"y\": 28, \"val\": 0}, {\"x\": 16, \"y\": 28, \"val\": 0}, {\"x\": 17, \"y\": 28, \"val\": 0}, {\"x\": 18, \"y\": 28, \"val\": 0}, {\"x\": 19, \"y\": 28, \"val\": 0}, {\"x\": 20, \"y\": 28, \"val\": 0}, {\"x\": 21, \"y\": 28, \"val\": 0}, {\"x\": 22, \"y\": 28, \"val\": 0}, {\"x\": 23, \"y\": 28, \"val\": 0}, {\"x\": 24, \"y\": 28, \"val\": 0}, {\"x\": 25, \"y\": 28, \"val\": 0}, {\"x\": 26, \"y\": 28, \"val\": 0}, {\"x\": 27, \"y\": 28, \"val\": 0}, {\"x\": 28, \"y\": 28, \"val\": 0}]}}, {\"mode\": \"vega-lite\"});\n",
              "</script>"
            ]
          },
          "metadata": {
            "tags": []
          },
          "execution_count": 55
        }
      ]
    },
    {
      "cell_type": "code",
      "metadata": {
        "execution": {
          "iopub.execute_input": "2021-08-02T20:02:01.150026Z",
          "iopub.status.busy": "2021-08-02T20:02:01.149179Z",
          "iopub.status.idle": "2021-08-02T20:02:01.200878Z",
          "shell.execute_reply": "2021-08-02T20:02:01.201622Z"
        },
        "id": "46807932",
        "colab": {
          "base_uri": "https://localhost:8080/",
          "height": 642
        },
        "outputId": "4db5c5a0-44d7-45be-c13e-d69382376e96"
      },
      "source": [
        "draw_image(4)"
      ],
      "id": "46807932",
      "execution_count": null,
      "outputs": [
        {
          "output_type": "execute_result",
          "data": {
            "text/plain": [
              "alt.Chart(...)"
            ],
            "text/html": [
              "\n",
              "<div id=\"altair-viz-1908d35482c64410bd19b292fa49a81b\"></div>\n",
              "<script type=\"text/javascript\">\n",
              "  (function(spec, embedOpt){\n",
              "    let outputDiv = document.currentScript.previousElementSibling;\n",
              "    if (outputDiv.id !== \"altair-viz-1908d35482c64410bd19b292fa49a81b\") {\n",
              "      outputDiv = document.getElementById(\"altair-viz-1908d35482c64410bd19b292fa49a81b\");\n",
              "    }\n",
              "    const paths = {\n",
              "      \"vega\": \"https://cdn.jsdelivr.net/npm//vega@5?noext\",\n",
              "      \"vega-lib\": \"https://cdn.jsdelivr.net/npm//vega-lib?noext\",\n",
              "      \"vega-lite\": \"https://cdn.jsdelivr.net/npm//vega-lite@4.8.1?noext\",\n",
              "      \"vega-embed\": \"https://cdn.jsdelivr.net/npm//vega-embed@6?noext\",\n",
              "    };\n",
              "\n",
              "    function loadScript(lib) {\n",
              "      return new Promise(function(resolve, reject) {\n",
              "        var s = document.createElement('script');\n",
              "        s.src = paths[lib];\n",
              "        s.async = true;\n",
              "        s.onload = () => resolve(paths[lib]);\n",
              "        s.onerror = () => reject(`Error loading script: ${paths[lib]}`);\n",
              "        document.getElementsByTagName(\"head\")[0].appendChild(s);\n",
              "      });\n",
              "    }\n",
              "\n",
              "    function showError(err) {\n",
              "      outputDiv.innerHTML = `<div class=\"error\" style=\"color:red;\">${err}</div>`;\n",
              "      throw err;\n",
              "    }\n",
              "\n",
              "    function displayChart(vegaEmbed) {\n",
              "      vegaEmbed(outputDiv, spec, embedOpt)\n",
              "        .catch(err => showError(`Javascript Error: ${err.message}<br>This usually means there's a typo in your chart specification. See the javascript console for the full traceback.`));\n",
              "    }\n",
              "\n",
              "    if(typeof define === \"function\" && define.amd) {\n",
              "      requirejs.config({paths});\n",
              "      require([\"vega-embed\"], displayChart, err => showError(`Error loading script: ${err.message}`));\n",
              "    } else if (typeof vegaEmbed === \"function\") {\n",
              "      displayChart(vegaEmbed);\n",
              "    } else {\n",
              "      loadScript(\"vega\")\n",
              "        .then(() => loadScript(\"vega-lite\"))\n",
              "        .then(() => loadScript(\"vega-embed\"))\n",
              "        .catch(showError)\n",
              "        .then(() => displayChart(vegaEmbed));\n",
              "    }\n",
              "  })({\"config\": {\"view\": {\"continuousWidth\": 400, \"continuousHeight\": 300}}, \"data\": {\"name\": \"data-fd174f9b1b1173cbf7fa6de3b6d0e776\"}, \"mark\": \"rect\", \"encoding\": {\"color\": {\"type\": \"quantitative\", \"field\": \"val\"}, \"fill\": {\"type\": \"quantitative\", \"field\": \"val\"}, \"tooltip\": [{\"type\": \"quantitative\", \"field\": \"x\"}, {\"type\": \"quantitative\", \"field\": \"y\"}, {\"type\": \"quantitative\", \"field\": \"val\"}], \"x\": {\"type\": \"ordinal\", \"field\": \"x\"}, \"y\": {\"type\": \"ordinal\", \"field\": \"y\"}}, \"title\": \"Image of a 3\", \"$schema\": \"https://vega.github.io/schema/vega-lite/v4.8.1.json\", \"datasets\": {\"data-fd174f9b1b1173cbf7fa6de3b6d0e776\": [{\"x\": 1, \"y\": 1, \"val\": 0}, {\"x\": 2, \"y\": 1, \"val\": 0}, {\"x\": 3, \"y\": 1, \"val\": 0}, {\"x\": 4, \"y\": 1, \"val\": 0}, {\"x\": 5, \"y\": 1, \"val\": 0}, {\"x\": 6, \"y\": 1, \"val\": 0}, {\"x\": 7, \"y\": 1, \"val\": 0}, {\"x\": 8, \"y\": 1, \"val\": 0}, {\"x\": 9, \"y\": 1, \"val\": 0}, {\"x\": 10, \"y\": 1, \"val\": 0}, {\"x\": 11, \"y\": 1, \"val\": 0}, {\"x\": 12, \"y\": 1, \"val\": 0}, {\"x\": 13, \"y\": 1, \"val\": 46}, {\"x\": 14, \"y\": 1, \"val\": 0}, {\"x\": 15, \"y\": 1, \"val\": 21}, {\"x\": 16, \"y\": 1, \"val\": 68}, {\"x\": 17, \"y\": 1, \"val\": 0}, {\"x\": 18, \"y\": 1, \"val\": 0}, {\"x\": 19, \"y\": 1, \"val\": 0}, {\"x\": 20, \"y\": 1, \"val\": 0}, {\"x\": 21, \"y\": 1, \"val\": 0}, {\"x\": 22, \"y\": 1, \"val\": 0}, {\"x\": 23, \"y\": 1, \"val\": 0}, {\"x\": 24, \"y\": 1, \"val\": 0}, {\"x\": 25, \"y\": 1, \"val\": 0}, {\"x\": 26, \"y\": 1, \"val\": 0}, {\"x\": 27, \"y\": 1, \"val\": 0}, {\"x\": 28, \"y\": 1, \"val\": 0}, {\"x\": 1, \"y\": 2, \"val\": 0}, {\"x\": 2, \"y\": 2, \"val\": 0}, {\"x\": 3, \"y\": 2, \"val\": 0}, {\"x\": 4, \"y\": 2, \"val\": 0}, {\"x\": 5, \"y\": 2, \"val\": 0}, {\"x\": 6, \"y\": 2, \"val\": 0}, {\"x\": 7, \"y\": 2, \"val\": 0}, {\"x\": 8, \"y\": 2, \"val\": 0}, {\"x\": 9, \"y\": 2, \"val\": 25}, {\"x\": 10, \"y\": 2, \"val\": 187}, {\"x\": 11, \"y\": 2, \"val\": 189}, {\"x\": 12, \"y\": 2, \"val\": 0}, {\"x\": 13, \"y\": 2, \"val\": 119}, {\"x\": 14, \"y\": 2, \"val\": 173}, {\"x\": 15, \"y\": 2, \"val\": 239}, {\"x\": 16, \"y\": 2, \"val\": 112}, {\"x\": 17, \"y\": 2, \"val\": 0}, {\"x\": 18, \"y\": 2, \"val\": 189}, {\"x\": 19, \"y\": 2, \"val\": 125}, {\"x\": 20, \"y\": 2, \"val\": 0}, {\"x\": 21, \"y\": 2, \"val\": 0}, {\"x\": 22, \"y\": 2, \"val\": 0}, {\"x\": 23, \"y\": 2, \"val\": 0}, {\"x\": 24, \"y\": 2, \"val\": 0}, {\"x\": 25, \"y\": 2, \"val\": 0}, {\"x\": 26, \"y\": 2, \"val\": 0}, {\"x\": 27, \"y\": 2, \"val\": 0}, {\"x\": 28, \"y\": 2, \"val\": 0}, {\"x\": 1, \"y\": 3, \"val\": 0}, {\"x\": 2, \"y\": 3, \"val\": 0}, {\"x\": 3, \"y\": 3, \"val\": 0}, {\"x\": 4, \"y\": 3, \"val\": 0}, {\"x\": 5, \"y\": 3, \"val\": 0}, {\"x\": 6, \"y\": 3, \"val\": 0}, {\"x\": 7, \"y\": 3, \"val\": 0}, {\"x\": 8, \"y\": 3, \"val\": 14}, {\"x\": 9, \"y\": 3, \"val\": 219}, {\"x\": 10, \"y\": 3, \"val\": 224}, {\"x\": 11, \"y\": 3, \"val\": 211}, {\"x\": 12, \"y\": 3, \"val\": 92}, {\"x\": 13, \"y\": 3, \"val\": 52}, {\"x\": 14, \"y\": 3, \"val\": 227}, {\"x\": 15, \"y\": 3, \"val\": 224}, {\"x\": 16, \"y\": 3, \"val\": 127}, {\"x\": 17, \"y\": 3, \"val\": 92}, {\"x\": 18, \"y\": 3, \"val\": 196}, {\"x\": 19, \"y\": 3, \"val\": 237}, {\"x\": 20, \"y\": 3, \"val\": 136}, {\"x\": 21, \"y\": 3, \"val\": 0}, {\"x\": 22, \"y\": 3, \"val\": 0}, {\"x\": 23, \"y\": 3, \"val\": 0}, {\"x\": 24, \"y\": 3, \"val\": 0}, {\"x\": 25, \"y\": 3, \"val\": 0}, {\"x\": 26, \"y\": 3, \"val\": 0}, {\"x\": 27, \"y\": 3, \"val\": 0}, {\"x\": 28, \"y\": 3, \"val\": 0}, {\"x\": 1, \"y\": 4, \"val\": 0}, {\"x\": 2, \"y\": 4, \"val\": 0}, {\"x\": 3, \"y\": 4, \"val\": 0}, {\"x\": 4, \"y\": 4, \"val\": 0}, {\"x\": 5, \"y\": 4, \"val\": 0}, {\"x\": 6, \"y\": 4, \"val\": 0}, {\"x\": 7, \"y\": 4, \"val\": 0}, {\"x\": 8, \"y\": 4, \"val\": 106}, {\"x\": 9, \"y\": 4, \"val\": 238}, {\"x\": 10, \"y\": 4, \"val\": 202}, {\"x\": 11, \"y\": 4, \"val\": 205}, {\"x\": 12, \"y\": 4, \"val\": 224}, {\"x\": 13, \"y\": 4, \"val\": 225}, {\"x\": 14, \"y\": 4, \"val\": 217}, {\"x\": 15, \"y\": 4, \"val\": 218}, {\"x\": 16, \"y\": 4, \"val\": 222}, {\"x\": 17, \"y\": 4, \"val\": 227}, {\"x\": 18, \"y\": 4, \"val\": 202}, {\"x\": 19, \"y\": 4, \"val\": 206}, {\"x\": 20, \"y\": 4, \"val\": 218}, {\"x\": 21, \"y\": 4, \"val\": 0}, {\"x\": 22, \"y\": 4, \"val\": 0}, {\"x\": 23, \"y\": 4, \"val\": 0}, {\"x\": 24, \"y\": 4, \"val\": 0}, {\"x\": 25, \"y\": 4, \"val\": 0}, {\"x\": 26, \"y\": 4, \"val\": 0}, {\"x\": 27, \"y\": 4, \"val\": 0}, {\"x\": 28, \"y\": 4, \"val\": 0}, {\"x\": 1, \"y\": 5, \"val\": 0}, {\"x\": 2, \"y\": 5, \"val\": 0}, {\"x\": 3, \"y\": 5, \"val\": 0}, {\"x\": 4, \"y\": 5, \"val\": 0}, {\"x\": 5, \"y\": 5, \"val\": 0}, {\"x\": 6, \"y\": 5, \"val\": 0}, {\"x\": 7, \"y\": 5, \"val\": 0}, {\"x\": 8, \"y\": 5, \"val\": 166}, {\"x\": 9, \"y\": 5, \"val\": 239}, {\"x\": 10, \"y\": 5, \"val\": 216}, {\"x\": 11, \"y\": 5, \"val\": 214}, {\"x\": 12, \"y\": 5, \"val\": 192}, {\"x\": 13, \"y\": 5, \"val\": 181}, {\"x\": 14, \"y\": 5, \"val\": 205}, {\"x\": 15, \"y\": 5, \"val\": 204}, {\"x\": 16, \"y\": 5, \"val\": 180}, {\"x\": 17, \"y\": 5, \"val\": 187}, {\"x\": 18, \"y\": 5, \"val\": 205}, {\"x\": 19, \"y\": 5, \"val\": 208}, {\"x\": 20, \"y\": 5, \"val\": 230}, {\"x\": 21, \"y\": 5, \"val\": 45}, {\"x\": 22, \"y\": 5, \"val\": 0}, {\"x\": 23, \"y\": 5, \"val\": 0}, {\"x\": 24, \"y\": 5, \"val\": 0}, {\"x\": 25, \"y\": 5, \"val\": 0}, {\"x\": 26, \"y\": 5, \"val\": 0}, {\"x\": 27, \"y\": 5, \"val\": 0}, {\"x\": 28, \"y\": 5, \"val\": 0}, {\"x\": 1, \"y\": 6, \"val\": 0}, {\"x\": 2, \"y\": 6, \"val\": 0}, {\"x\": 3, \"y\": 6, \"val\": 0}, {\"x\": 4, \"y\": 6, \"val\": 0}, {\"x\": 5, \"y\": 6, \"val\": 0}, {\"x\": 6, \"y\": 6, \"val\": 0}, {\"x\": 7, \"y\": 6, \"val\": 0}, {\"x\": 8, \"y\": 6, \"val\": 220}, {\"x\": 9, \"y\": 6, \"val\": 235}, {\"x\": 10, \"y\": 6, \"val\": 233}, {\"x\": 11, \"y\": 6, \"val\": 213}, {\"x\": 12, \"y\": 6, \"val\": 205}, {\"x\": 13, \"y\": 6, \"val\": 201}, {\"x\": 14, \"y\": 6, \"val\": 185}, {\"x\": 15, \"y\": 6, \"val\": 184}, {\"x\": 16, \"y\": 6, \"val\": 200}, {\"x\": 17, \"y\": 6, \"val\": 199}, {\"x\": 18, \"y\": 6, \"val\": 223}, {\"x\": 19, \"y\": 6, \"val\": 224}, {\"x\": 20, \"y\": 6, \"val\": 232}, {\"x\": 21, \"y\": 6, \"val\": 101}, {\"x\": 22, \"y\": 6, \"val\": 0}, {\"x\": 23, \"y\": 6, \"val\": 0}, {\"x\": 24, \"y\": 6, \"val\": 0}, {\"x\": 25, \"y\": 6, \"val\": 0}, {\"x\": 26, \"y\": 6, \"val\": 0}, {\"x\": 27, \"y\": 6, \"val\": 0}, {\"x\": 28, \"y\": 6, \"val\": 0}, {\"x\": 1, \"y\": 7, \"val\": 0}, {\"x\": 2, \"y\": 7, \"val\": 0}, {\"x\": 3, \"y\": 7, \"val\": 0}, {\"x\": 4, \"y\": 7, \"val\": 0}, {\"x\": 5, \"y\": 7, \"val\": 0}, {\"x\": 6, \"y\": 7, \"val\": 0}, {\"x\": 7, \"y\": 7, \"val\": 0}, {\"x\": 8, \"y\": 7, \"val\": 252}, {\"x\": 9, \"y\": 7, \"val\": 238}, {\"x\": 10, \"y\": 7, \"val\": 226}, {\"x\": 11, \"y\": 7, \"val\": 226}, {\"x\": 12, \"y\": 7, \"val\": 221}, {\"x\": 13, \"y\": 7, \"val\": 224}, {\"x\": 14, \"y\": 7, \"val\": 195}, {\"x\": 15, \"y\": 7, \"val\": 198}, {\"x\": 16, \"y\": 7, \"val\": 223}, {\"x\": 17, \"y\": 7, \"val\": 229}, {\"x\": 18, \"y\": 7, \"val\": 205}, {\"x\": 19, \"y\": 7, \"val\": 202}, {\"x\": 20, \"y\": 7, \"val\": 235}, {\"x\": 21, \"y\": 7, \"val\": 158}, {\"x\": 22, \"y\": 7, \"val\": 0}, {\"x\": 23, \"y\": 7, \"val\": 0}, {\"x\": 24, \"y\": 7, \"val\": 0}, {\"x\": 25, \"y\": 7, \"val\": 0}, {\"x\": 26, \"y\": 7, \"val\": 0}, {\"x\": 27, \"y\": 7, \"val\": 0}, {\"x\": 28, \"y\": 7, \"val\": 0}, {\"x\": 1, \"y\": 8, \"val\": 0}, {\"x\": 2, \"y\": 8, \"val\": 0}, {\"x\": 3, \"y\": 8, \"val\": 0}, {\"x\": 4, \"y\": 8, \"val\": 0}, {\"x\": 5, \"y\": 8, \"val\": 0}, {\"x\": 6, \"y\": 8, \"val\": 0}, {\"x\": 7, \"y\": 8, \"val\": 9}, {\"x\": 8, \"y\": 8, \"val\": 228}, {\"x\": 9, \"y\": 8, \"val\": 241}, {\"x\": 10, \"y\": 8, \"val\": 125}, {\"x\": 11, \"y\": 8, \"val\": 238}, {\"x\": 12, \"y\": 8, \"val\": 228}, {\"x\": 13, \"y\": 8, \"val\": 225}, {\"x\": 14, \"y\": 8, \"val\": 212}, {\"x\": 15, \"y\": 8, \"val\": 215}, {\"x\": 16, \"y\": 8, \"val\": 222}, {\"x\": 17, \"y\": 8, \"val\": 250}, {\"x\": 18, \"y\": 8, \"val\": 168}, {\"x\": 19, \"y\": 8, \"val\": 141}, {\"x\": 20, \"y\": 8, \"val\": 243}, {\"x\": 21, \"y\": 8, \"val\": 197}, {\"x\": 22, \"y\": 8, \"val\": 0}, {\"x\": 23, \"y\": 8, \"val\": 0}, {\"x\": 24, \"y\": 8, \"val\": 0}, {\"x\": 25, \"y\": 8, \"val\": 0}, {\"x\": 26, \"y\": 8, \"val\": 0}, {\"x\": 27, \"y\": 8, \"val\": 0}, {\"x\": 28, \"y\": 8, \"val\": 0}, {\"x\": 1, \"y\": 9, \"val\": 0}, {\"x\": 2, \"y\": 9, \"val\": 0}, {\"x\": 3, \"y\": 9, \"val\": 0}, {\"x\": 4, \"y\": 9, \"val\": 0}, {\"x\": 5, \"y\": 9, \"val\": 0}, {\"x\": 6, \"y\": 9, \"val\": 0}, {\"x\": 7, \"y\": 9, \"val\": 51}, {\"x\": 8, \"y\": 9, \"val\": 232}, {\"x\": 9, \"y\": 9, \"val\": 247}, {\"x\": 10, \"y\": 9, \"val\": 34}, {\"x\": 11, \"y\": 9, \"val\": 225}, {\"x\": 12, \"y\": 9, \"val\": 237}, {\"x\": 13, \"y\": 9, \"val\": 219}, {\"x\": 14, \"y\": 9, \"val\": 222}, {\"x\": 15, \"y\": 9, \"val\": 223}, {\"x\": 16, \"y\": 9, \"val\": 216}, {\"x\": 17, \"y\": 9, \"val\": 248}, {\"x\": 18, \"y\": 9, \"val\": 182}, {\"x\": 19, \"y\": 9, \"val\": 124}, {\"x\": 20, \"y\": 9, \"val\": 246}, {\"x\": 21, \"y\": 9, \"val\": 200}, {\"x\": 22, \"y\": 9, \"val\": 0}, {\"x\": 23, \"y\": 9, \"val\": 0}, {\"x\": 24, \"y\": 9, \"val\": 0}, {\"x\": 25, \"y\": 9, \"val\": 0}, {\"x\": 26, \"y\": 9, \"val\": 0}, {\"x\": 27, \"y\": 9, \"val\": 0}, {\"x\": 28, \"y\": 9, \"val\": 0}, {\"x\": 1, \"y\": 10, \"val\": 0}, {\"x\": 2, \"y\": 10, \"val\": 0}, {\"x\": 3, \"y\": 10, \"val\": 0}, {\"x\": 4, \"y\": 10, \"val\": 0}, {\"x\": 5, \"y\": 10, \"val\": 0}, {\"x\": 6, \"y\": 10, \"val\": 0}, {\"x\": 7, \"y\": 10, \"val\": 69}, {\"x\": 8, \"y\": 10, \"val\": 236}, {\"x\": 9, \"y\": 10, \"val\": 255}, {\"x\": 10, \"y\": 10, \"val\": 0}, {\"x\": 11, \"y\": 10, \"val\": 218}, {\"x\": 12, \"y\": 10, \"val\": 240}, {\"x\": 13, \"y\": 10, \"val\": 219}, {\"x\": 14, \"y\": 10, \"val\": 221}, {\"x\": 15, \"y\": 10, \"val\": 222}, {\"x\": 16, \"y\": 10, \"val\": 214}, {\"x\": 17, \"y\": 10, \"val\": 252}, {\"x\": 18, \"y\": 10, \"val\": 153}, {\"x\": 19, \"y\": 10, \"val\": 71}, {\"x\": 20, \"y\": 10, \"val\": 248}, {\"x\": 21, \"y\": 10, \"val\": 215}, {\"x\": 22, \"y\": 10, \"val\": 0}, {\"x\": 23, \"y\": 10, \"val\": 0}, {\"x\": 24, \"y\": 10, \"val\": 0}, {\"x\": 25, \"y\": 10, \"val\": 0}, {\"x\": 26, \"y\": 10, \"val\": 0}, {\"x\": 27, \"y\": 10, \"val\": 0}, {\"x\": 28, \"y\": 10, \"val\": 0}, {\"x\": 1, \"y\": 11, \"val\": 0}, {\"x\": 2, \"y\": 11, \"val\": 0}, {\"x\": 3, \"y\": 11, \"val\": 0}, {\"x\": 4, \"y\": 11, \"val\": 0}, {\"x\": 5, \"y\": 11, \"val\": 0}, {\"x\": 6, \"y\": 11, \"val\": 0}, {\"x\": 7, \"y\": 11, \"val\": 82}, {\"x\": 8, \"y\": 11, \"val\": 248}, {\"x\": 9, \"y\": 11, \"val\": 247}, {\"x\": 10, \"y\": 11, \"val\": 0}, {\"x\": 11, \"y\": 11, \"val\": 231}, {\"x\": 12, \"y\": 11, \"val\": 236}, {\"x\": 13, \"y\": 11, \"val\": 219}, {\"x\": 14, \"y\": 11, \"val\": 221}, {\"x\": 15, \"y\": 11, \"val\": 221}, {\"x\": 16, \"y\": 11, \"val\": 212}, {\"x\": 17, \"y\": 11, \"val\": 253}, {\"x\": 18, \"y\": 11, \"val\": 109}, {\"x\": 19, \"y\": 11, \"val\": 0}, {\"x\": 20, \"y\": 11, \"val\": 247}, {\"x\": 21, \"y\": 11, \"val\": 224}, {\"x\": 22, \"y\": 11, \"val\": 19}, {\"x\": 23, \"y\": 11, \"val\": 0}, {\"x\": 24, \"y\": 11, \"val\": 0}, {\"x\": 25, \"y\": 11, \"val\": 0}, {\"x\": 26, \"y\": 11, \"val\": 0}, {\"x\": 27, \"y\": 11, \"val\": 0}, {\"x\": 28, \"y\": 11, \"val\": 0}, {\"x\": 1, \"y\": 12, \"val\": 0}, {\"x\": 2, \"y\": 12, \"val\": 0}, {\"x\": 3, \"y\": 12, \"val\": 0}, {\"x\": 4, \"y\": 12, \"val\": 0}, {\"x\": 5, \"y\": 12, \"val\": 0}, {\"x\": 6, \"y\": 12, \"val\": 0}, {\"x\": 7, \"y\": 12, \"val\": 106}, {\"x\": 8, \"y\": 12, \"val\": 252}, {\"x\": 9, \"y\": 12, \"val\": 198}, {\"x\": 10, \"y\": 12, \"val\": 0}, {\"x\": 11, \"y\": 12, \"val\": 250}, {\"x\": 12, \"y\": 12, \"val\": 230}, {\"x\": 13, \"y\": 12, \"val\": 220}, {\"x\": 14, \"y\": 12, \"val\": 219}, {\"x\": 15, \"y\": 12, \"val\": 219}, {\"x\": 16, \"y\": 12, \"val\": 212}, {\"x\": 17, \"y\": 12, \"val\": 252}, {\"x\": 18, \"y\": 12, \"val\": 129}, {\"x\": 19, \"y\": 12, \"val\": 0}, {\"x\": 20, \"y\": 12, \"val\": 255}, {\"x\": 21, \"y\": 12, \"val\": 232}, {\"x\": 22, \"y\": 12, \"val\": 59}, {\"x\": 23, \"y\": 12, \"val\": 0}, {\"x\": 24, \"y\": 12, \"val\": 0}, {\"x\": 25, \"y\": 12, \"val\": 0}, {\"x\": 26, \"y\": 12, \"val\": 0}, {\"x\": 27, \"y\": 12, \"val\": 0}, {\"x\": 28, \"y\": 12, \"val\": 0}, {\"x\": 1, \"y\": 13, \"val\": 0}, {\"x\": 2, \"y\": 13, \"val\": 0}, {\"x\": 3, \"y\": 13, \"val\": 0}, {\"x\": 4, \"y\": 13, \"val\": 0}, {\"x\": 5, \"y\": 13, \"val\": 0}, {\"x\": 6, \"y\": 13, \"val\": 0}, {\"x\": 7, \"y\": 13, \"val\": 134}, {\"x\": 8, \"y\": 13, \"val\": 252}, {\"x\": 9, \"y\": 13, \"val\": 150}, {\"x\": 10, \"y\": 13, \"val\": 0}, {\"x\": 11, \"y\": 13, \"val\": 254}, {\"x\": 12, \"y\": 13, \"val\": 215}, {\"x\": 13, \"y\": 13, \"val\": 219}, {\"x\": 14, \"y\": 13, \"val\": 219}, {\"x\": 15, \"y\": 13, \"val\": 219}, {\"x\": 16, \"y\": 13, \"val\": 216}, {\"x\": 17, \"y\": 13, \"val\": 233}, {\"x\": 18, \"y\": 13, \"val\": 222}, {\"x\": 19, \"y\": 13, \"val\": 0}, {\"x\": 20, \"y\": 13, \"val\": 253}, {\"x\": 21, \"y\": 13, \"val\": 237}, {\"x\": 22, \"y\": 13, \"val\": 89}, {\"x\": 23, \"y\": 13, \"val\": 0}, {\"x\": 24, \"y\": 13, \"val\": 0}, {\"x\": 25, \"y\": 13, \"val\": 0}, {\"x\": 26, \"y\": 13, \"val\": 0}, {\"x\": 27, \"y\": 13, \"val\": 0}, {\"x\": 28, \"y\": 13, \"val\": 0}, {\"x\": 1, \"y\": 14, \"val\": 0}, {\"x\": 2, \"y\": 14, \"val\": 0}, {\"x\": 3, \"y\": 14, \"val\": 0}, {\"x\": 4, \"y\": 14, \"val\": 0}, {\"x\": 5, \"y\": 14, \"val\": 0}, {\"x\": 6, \"y\": 14, \"val\": 0}, {\"x\": 7, \"y\": 14, \"val\": 163}, {\"x\": 8, \"y\": 14, \"val\": 253}, {\"x\": 9, \"y\": 14, \"val\": 126}, {\"x\": 10, \"y\": 14, \"val\": 115}, {\"x\": 11, \"y\": 14, \"val\": 253}, {\"x\": 12, \"y\": 14, \"val\": 211}, {\"x\": 13, \"y\": 14, \"val\": 222}, {\"x\": 14, \"y\": 14, \"val\": 220}, {\"x\": 15, \"y\": 14, \"val\": 219}, {\"x\": 16, \"y\": 14, \"val\": 219}, {\"x\": 17, \"y\": 14, \"val\": 213}, {\"x\": 18, \"y\": 14, \"val\": 253}, {\"x\": 19, \"y\": 14, \"val\": 54}, {\"x\": 20, \"y\": 14, \"val\": 206}, {\"x\": 21, \"y\": 14, \"val\": 243}, {\"x\": 22, \"y\": 14, \"val\": 144}, {\"x\": 23, \"y\": 14, \"val\": 0}, {\"x\": 24, \"y\": 14, \"val\": 0}, {\"x\": 25, \"y\": 14, \"val\": 0}, {\"x\": 26, \"y\": 14, \"val\": 0}, {\"x\": 27, \"y\": 14, \"val\": 0}, {\"x\": 28, \"y\": 14, \"val\": 0}, {\"x\": 1, \"y\": 15, \"val\": 0}, {\"x\": 2, \"y\": 15, \"val\": 0}, {\"x\": 3, \"y\": 15, \"val\": 0}, {\"x\": 4, \"y\": 15, \"val\": 0}, {\"x\": 5, \"y\": 15, \"val\": 0}, {\"x\": 6, \"y\": 15, \"val\": 0}, {\"x\": 7, \"y\": 15, \"val\": 205}, {\"x\": 8, \"y\": 15, \"val\": 255}, {\"x\": 9, \"y\": 15, \"val\": 149}, {\"x\": 10, \"y\": 15, \"val\": 209}, {\"x\": 11, \"y\": 15, \"val\": 234}, {\"x\": 12, \"y\": 15, \"val\": 219}, {\"x\": 13, \"y\": 15, \"val\": 221}, {\"x\": 14, \"y\": 15, \"val\": 220}, {\"x\": 15, \"y\": 15, \"val\": 219}, {\"x\": 16, \"y\": 15, \"val\": 219}, {\"x\": 17, \"y\": 15, \"val\": 213}, {\"x\": 18, \"y\": 15, \"val\": 244}, {\"x\": 19, \"y\": 15, \"val\": 164}, {\"x\": 20, \"y\": 15, \"val\": 224}, {\"x\": 21, \"y\": 15, \"val\": 240}, {\"x\": 22, \"y\": 15, \"val\": 195}, {\"x\": 23, \"y\": 15, \"val\": 0}, {\"x\": 24, \"y\": 15, \"val\": 0}, {\"x\": 25, \"y\": 15, \"val\": 0}, {\"x\": 26, \"y\": 15, \"val\": 0}, {\"x\": 27, \"y\": 15, \"val\": 0}, {\"x\": 28, \"y\": 15, \"val\": 0}, {\"x\": 1, \"y\": 16, \"val\": 0}, {\"x\": 2, \"y\": 16, \"val\": 0}, {\"x\": 3, \"y\": 16, \"val\": 0}, {\"x\": 4, \"y\": 16, \"val\": 0}, {\"x\": 5, \"y\": 16, \"val\": 0}, {\"x\": 6, \"y\": 16, \"val\": 0}, {\"x\": 7, \"y\": 16, \"val\": 9}, {\"x\": 8, \"y\": 16, \"val\": 0}, {\"x\": 9, \"y\": 16, \"val\": 20}, {\"x\": 10, \"y\": 16, \"val\": 253}, {\"x\": 11, \"y\": 16, \"val\": 219}, {\"x\": 12, \"y\": 16, \"val\": 221}, {\"x\": 13, \"y\": 16, \"val\": 219}, {\"x\": 14, \"y\": 16, \"val\": 219}, {\"x\": 15, \"y\": 16, \"val\": 219}, {\"x\": 16, \"y\": 16, \"val\": 219}, {\"x\": 17, \"y\": 16, \"val\": 221}, {\"x\": 18, \"y\": 16, \"val\": 224}, {\"x\": 19, \"y\": 16, \"val\": 230}, {\"x\": 20, \"y\": 16, \"val\": 0}, {\"x\": 21, \"y\": 16, \"val\": 0}, {\"x\": 22, \"y\": 16, \"val\": 0}, {\"x\": 23, \"y\": 16, \"val\": 0}, {\"x\": 24, \"y\": 16, \"val\": 0}, {\"x\": 25, \"y\": 16, \"val\": 0}, {\"x\": 26, \"y\": 16, \"val\": 0}, {\"x\": 27, \"y\": 16, \"val\": 0}, {\"x\": 28, \"y\": 16, \"val\": 0}, {\"x\": 1, \"y\": 17, \"val\": 0}, {\"x\": 2, \"y\": 17, \"val\": 0}, {\"x\": 3, \"y\": 17, \"val\": 0}, {\"x\": 4, \"y\": 17, \"val\": 0}, {\"x\": 5, \"y\": 17, \"val\": 0}, {\"x\": 6, \"y\": 17, \"val\": 0}, {\"x\": 7, \"y\": 17, \"val\": 0}, {\"x\": 8, \"y\": 17, \"val\": 0}, {\"x\": 9, \"y\": 17, \"val\": 49}, {\"x\": 10, \"y\": 17, \"val\": 254}, {\"x\": 11, \"y\": 17, \"val\": 217}, {\"x\": 12, \"y\": 17, \"val\": 221}, {\"x\": 13, \"y\": 17, \"val\": 219}, {\"x\": 14, \"y\": 17, \"val\": 219}, {\"x\": 15, \"y\": 17, \"val\": 219}, {\"x\": 16, \"y\": 17, \"val\": 220}, {\"x\": 17, \"y\": 17, \"val\": 221}, {\"x\": 18, \"y\": 17, \"val\": 216}, {\"x\": 19, \"y\": 17, \"val\": 253}, {\"x\": 20, \"y\": 17, \"val\": 7}, {\"x\": 21, \"y\": 17, \"val\": 0}, {\"x\": 22, \"y\": 17, \"val\": 0}, {\"x\": 23, \"y\": 17, \"val\": 0}, {\"x\": 24, \"y\": 17, \"val\": 0}, {\"x\": 25, \"y\": 17, \"val\": 0}, {\"x\": 26, \"y\": 17, \"val\": 0}, {\"x\": 27, \"y\": 17, \"val\": 0}, {\"x\": 28, \"y\": 17, \"val\": 0}, {\"x\": 1, \"y\": 18, \"val\": 0}, {\"x\": 2, \"y\": 18, \"val\": 0}, {\"x\": 3, \"y\": 18, \"val\": 0}, {\"x\": 4, \"y\": 18, \"val\": 0}, {\"x\": 5, \"y\": 18, \"val\": 0}, {\"x\": 6, \"y\": 18, \"val\": 0}, {\"x\": 7, \"y\": 18, \"val\": 6}, {\"x\": 8, \"y\": 18, \"val\": 0}, {\"x\": 9, \"y\": 18, \"val\": 94}, {\"x\": 10, \"y\": 18, \"val\": 229}, {\"x\": 11, \"y\": 18, \"val\": 216}, {\"x\": 12, \"y\": 18, \"val\": 220}, {\"x\": 13, \"y\": 18, \"val\": 218}, {\"x\": 14, \"y\": 18, \"val\": 218}, {\"x\": 15, \"y\": 18, \"val\": 219}, {\"x\": 16, \"y\": 18, \"val\": 220}, {\"x\": 17, \"y\": 18, \"val\": 219}, {\"x\": 18, \"y\": 18, \"val\": 218}, {\"x\": 19, \"y\": 18, \"val\": 226}, {\"x\": 20, \"y\": 18, \"val\": 52}, {\"x\": 21, \"y\": 18, \"val\": 0}, {\"x\": 22, \"y\": 18, \"val\": 5}, {\"x\": 23, \"y\": 18, \"val\": 0}, {\"x\": 24, \"y\": 18, \"val\": 0}, {\"x\": 25, \"y\": 18, \"val\": 0}, {\"x\": 26, \"y\": 18, \"val\": 0}, {\"x\": 27, \"y\": 18, \"val\": 0}, {\"x\": 28, \"y\": 18, \"val\": 0}, {\"x\": 1, \"y\": 19, \"val\": 0}, {\"x\": 2, \"y\": 19, \"val\": 0}, {\"x\": 3, \"y\": 19, \"val\": 0}, {\"x\": 4, \"y\": 19, \"val\": 0}, {\"x\": 5, \"y\": 19, \"val\": 0}, {\"x\": 6, \"y\": 19, \"val\": 0}, {\"x\": 7, \"y\": 19, \"val\": 4}, {\"x\": 8, \"y\": 19, \"val\": 0}, {\"x\": 9, \"y\": 19, \"val\": 119}, {\"x\": 10, \"y\": 19, \"val\": 231}, {\"x\": 11, \"y\": 19, \"val\": 214}, {\"x\": 12, \"y\": 19, \"val\": 220}, {\"x\": 13, \"y\": 19, \"val\": 217}, {\"x\": 14, \"y\": 19, \"val\": 218}, {\"x\": 15, \"y\": 19, \"val\": 219}, {\"x\": 16, \"y\": 19, \"val\": 220}, {\"x\": 17, \"y\": 19, \"val\": 221}, {\"x\": 18, \"y\": 19, \"val\": 217}, {\"x\": 19, \"y\": 19, \"val\": 224}, {\"x\": 20, \"y\": 19, \"val\": 34}, {\"x\": 21, \"y\": 19, \"val\": 0}, {\"x\": 22, \"y\": 19, \"val\": 3}, {\"x\": 23, \"y\": 19, \"val\": 0}, {\"x\": 24, \"y\": 19, \"val\": 0}, {\"x\": 25, \"y\": 19, \"val\": 0}, {\"x\": 26, \"y\": 19, \"val\": 0}, {\"x\": 27, \"y\": 19, \"val\": 0}, {\"x\": 28, \"y\": 19, \"val\": 0}, {\"x\": 1, \"y\": 20, \"val\": 0}, {\"x\": 2, \"y\": 20, \"val\": 0}, {\"x\": 3, \"y\": 20, \"val\": 0}, {\"x\": 4, \"y\": 20, \"val\": 0}, {\"x\": 5, \"y\": 20, \"val\": 0}, {\"x\": 6, \"y\": 20, \"val\": 0}, {\"x\": 7, \"y\": 20, \"val\": 3}, {\"x\": 8, \"y\": 20, \"val\": 0}, {\"x\": 9, \"y\": 20, \"val\": 113}, {\"x\": 10, \"y\": 20, \"val\": 231}, {\"x\": 11, \"y\": 20, \"val\": 213}, {\"x\": 12, \"y\": 20, \"val\": 222}, {\"x\": 13, \"y\": 20, \"val\": 217}, {\"x\": 14, \"y\": 20, \"val\": 218}, {\"x\": 15, \"y\": 20, \"val\": 219}, {\"x\": 16, \"y\": 20, \"val\": 220}, {\"x\": 17, \"y\": 20, \"val\": 219}, {\"x\": 18, \"y\": 20, \"val\": 219}, {\"x\": 19, \"y\": 20, \"val\": 219}, {\"x\": 20, \"y\": 20, \"val\": 10}, {\"x\": 21, \"y\": 20, \"val\": 0}, {\"x\": 22, \"y\": 20, \"val\": 2}, {\"x\": 23, \"y\": 20, \"val\": 0}, {\"x\": 24, \"y\": 20, \"val\": 0}, {\"x\": 25, \"y\": 20, \"val\": 0}, {\"x\": 26, \"y\": 20, \"val\": 0}, {\"x\": 27, \"y\": 20, \"val\": 0}, {\"x\": 28, \"y\": 20, \"val\": 0}, {\"x\": 1, \"y\": 21, \"val\": 0}, {\"x\": 2, \"y\": 21, \"val\": 0}, {\"x\": 3, \"y\": 21, \"val\": 0}, {\"x\": 4, \"y\": 21, \"val\": 0}, {\"x\": 5, \"y\": 21, \"val\": 0}, {\"x\": 6, \"y\": 21, \"val\": 0}, {\"x\": 7, \"y\": 21, \"val\": 3}, {\"x\": 8, \"y\": 21, \"val\": 0}, {\"x\": 9, \"y\": 21, \"val\": 51}, {\"x\": 10, \"y\": 21, \"val\": 227}, {\"x\": 11, \"y\": 21, \"val\": 215}, {\"x\": 12, \"y\": 21, \"val\": 221}, {\"x\": 13, \"y\": 21, \"val\": 217}, {\"x\": 14, \"y\": 21, \"val\": 217}, {\"x\": 15, \"y\": 21, \"val\": 219}, {\"x\": 16, \"y\": 21, \"val\": 220}, {\"x\": 17, \"y\": 21, \"val\": 218}, {\"x\": 18, \"y\": 21, \"val\": 219}, {\"x\": 19, \"y\": 21, \"val\": 213}, {\"x\": 20, \"y\": 21, \"val\": 0}, {\"x\": 21, \"y\": 21, \"val\": 0}, {\"x\": 22, \"y\": 21, \"val\": 1}, {\"x\": 23, \"y\": 21, \"val\": 0}, {\"x\": 24, \"y\": 21, \"val\": 0}, {\"x\": 25, \"y\": 21, \"val\": 0}, {\"x\": 26, \"y\": 21, \"val\": 0}, {\"x\": 27, \"y\": 21, \"val\": 0}, {\"x\": 28, \"y\": 21, \"val\": 0}, {\"x\": 1, \"y\": 22, \"val\": 0}, {\"x\": 2, \"y\": 22, \"val\": 0}, {\"x\": 3, \"y\": 22, \"val\": 0}, {\"x\": 4, \"y\": 22, \"val\": 0}, {\"x\": 5, \"y\": 22, \"val\": 0}, {\"x\": 6, \"y\": 22, \"val\": 0}, {\"x\": 7, \"y\": 22, \"val\": 2}, {\"x\": 8, \"y\": 22, \"val\": 0}, {\"x\": 9, \"y\": 22, \"val\": 0}, {\"x\": 10, \"y\": 22, \"val\": 216}, {\"x\": 11, \"y\": 22, \"val\": 217}, {\"x\": 12, \"y\": 22, \"val\": 219}, {\"x\": 13, \"y\": 22, \"val\": 218}, {\"x\": 14, \"y\": 22, \"val\": 218}, {\"x\": 15, \"y\": 22, \"val\": 219}, {\"x\": 16, \"y\": 22, \"val\": 219}, {\"x\": 17, \"y\": 22, \"val\": 218}, {\"x\": 18, \"y\": 22, \"val\": 220}, {\"x\": 19, \"y\": 22, \"val\": 246}, {\"x\": 20, \"y\": 22, \"val\": 0}, {\"x\": 21, \"y\": 22, \"val\": 0}, {\"x\": 22, \"y\": 22, \"val\": 2}, {\"x\": 23, \"y\": 22, \"val\": 0}, {\"x\": 24, \"y\": 22, \"val\": 0}, {\"x\": 25, \"y\": 22, \"val\": 0}, {\"x\": 26, \"y\": 22, \"val\": 0}, {\"x\": 27, \"y\": 22, \"val\": 0}, {\"x\": 28, \"y\": 22, \"val\": 0}, {\"x\": 1, \"y\": 23, \"val\": 0}, {\"x\": 2, \"y\": 23, \"val\": 0}, {\"x\": 3, \"y\": 23, \"val\": 0}, {\"x\": 4, \"y\": 23, \"val\": 0}, {\"x\": 5, \"y\": 23, \"val\": 0}, {\"x\": 6, \"y\": 23, \"val\": 0}, {\"x\": 7, \"y\": 23, \"val\": 2}, {\"x\": 8, \"y\": 23, \"val\": 0}, {\"x\": 9, \"y\": 23, \"val\": 0}, {\"x\": 10, \"y\": 23, \"val\": 217}, {\"x\": 11, \"y\": 23, \"val\": 216}, {\"x\": 12, \"y\": 23, \"val\": 216}, {\"x\": 13, \"y\": 23, \"val\": 219}, {\"x\": 14, \"y\": 23, \"val\": 218}, {\"x\": 15, \"y\": 23, \"val\": 219}, {\"x\": 16, \"y\": 23, \"val\": 219}, {\"x\": 17, \"y\": 23, \"val\": 217}, {\"x\": 18, \"y\": 23, \"val\": 222}, {\"x\": 19, \"y\": 23, \"val\": 235}, {\"x\": 20, \"y\": 23, \"val\": 0}, {\"x\": 21, \"y\": 23, \"val\": 0}, {\"x\": 22, \"y\": 23, \"val\": 2}, {\"x\": 23, \"y\": 23, \"val\": 0}, {\"x\": 24, \"y\": 23, \"val\": 0}, {\"x\": 25, \"y\": 23, \"val\": 0}, {\"x\": 26, \"y\": 23, \"val\": 0}, {\"x\": 27, \"y\": 23, \"val\": 0}, {\"x\": 28, \"y\": 23, \"val\": 0}, {\"x\": 1, \"y\": 24, \"val\": 0}, {\"x\": 2, \"y\": 24, \"val\": 0}, {\"x\": 3, \"y\": 24, \"val\": 0}, {\"x\": 4, \"y\": 24, \"val\": 0}, {\"x\": 5, \"y\": 24, \"val\": 0}, {\"x\": 6, \"y\": 24, \"val\": 0}, {\"x\": 7, \"y\": 24, \"val\": 2}, {\"x\": 8, \"y\": 24, \"val\": 0}, {\"x\": 9, \"y\": 24, \"val\": 0}, {\"x\": 10, \"y\": 24, \"val\": 212}, {\"x\": 11, \"y\": 24, \"val\": 216}, {\"x\": 12, \"y\": 24, \"val\": 217}, {\"x\": 13, \"y\": 24, \"val\": 219}, {\"x\": 14, \"y\": 24, \"val\": 218}, {\"x\": 15, \"y\": 24, \"val\": 219}, {\"x\": 16, \"y\": 24, \"val\": 219}, {\"x\": 17, \"y\": 24, \"val\": 216}, {\"x\": 18, \"y\": 24, \"val\": 224}, {\"x\": 19, \"y\": 24, \"val\": 204}, {\"x\": 20, \"y\": 24, \"val\": 0}, {\"x\": 21, \"y\": 24, \"val\": 0}, {\"x\": 22, \"y\": 24, \"val\": 2}, {\"x\": 23, \"y\": 24, \"val\": 0}, {\"x\": 24, \"y\": 24, \"val\": 0}, {\"x\": 25, \"y\": 24, \"val\": 0}, {\"x\": 26, \"y\": 24, \"val\": 0}, {\"x\": 27, \"y\": 24, \"val\": 0}, {\"x\": 28, \"y\": 24, \"val\": 0}, {\"x\": 1, \"y\": 25, \"val\": 0}, {\"x\": 2, \"y\": 25, \"val\": 0}, {\"x\": 3, \"y\": 25, \"val\": 0}, {\"x\": 4, \"y\": 25, \"val\": 0}, {\"x\": 5, \"y\": 25, \"val\": 0}, {\"x\": 6, \"y\": 25, \"val\": 0}, {\"x\": 7, \"y\": 25, \"val\": 4}, {\"x\": 8, \"y\": 25, \"val\": 0}, {\"x\": 9, \"y\": 25, \"val\": 3}, {\"x\": 10, \"y\": 25, \"val\": 217}, {\"x\": 11, \"y\": 25, \"val\": 216}, {\"x\": 12, \"y\": 25, \"val\": 217}, {\"x\": 13, \"y\": 25, \"val\": 219}, {\"x\": 14, \"y\": 25, \"val\": 218}, {\"x\": 15, \"y\": 25, \"val\": 220}, {\"x\": 16, \"y\": 25, \"val\": 220}, {\"x\": 17, \"y\": 25, \"val\": 218}, {\"x\": 18, \"y\": 25, \"val\": 222}, {\"x\": 19, \"y\": 25, \"val\": 209}, {\"x\": 20, \"y\": 25, \"val\": 0}, {\"x\": 21, \"y\": 25, \"val\": 0}, {\"x\": 22, \"y\": 25, \"val\": 2}, {\"x\": 23, \"y\": 25, \"val\": 0}, {\"x\": 24, \"y\": 25, \"val\": 0}, {\"x\": 25, \"y\": 25, \"val\": 0}, {\"x\": 26, \"y\": 25, \"val\": 0}, {\"x\": 27, \"y\": 25, \"val\": 0}, {\"x\": 28, \"y\": 25, \"val\": 0}, {\"x\": 1, \"y\": 26, \"val\": 0}, {\"x\": 2, \"y\": 26, \"val\": 0}, {\"x\": 3, \"y\": 26, \"val\": 0}, {\"x\": 4, \"y\": 26, \"val\": 0}, {\"x\": 5, \"y\": 26, \"val\": 0}, {\"x\": 6, \"y\": 26, \"val\": 0}, {\"x\": 7, \"y\": 26, \"val\": 3}, {\"x\": 8, \"y\": 26, \"val\": 0}, {\"x\": 9, \"y\": 26, \"val\": 4}, {\"x\": 10, \"y\": 26, \"val\": 214}, {\"x\": 11, \"y\": 26, \"val\": 211}, {\"x\": 12, \"y\": 26, \"val\": 213}, {\"x\": 13, \"y\": 26, \"val\": 213}, {\"x\": 14, \"y\": 26, \"val\": 215}, {\"x\": 15, \"y\": 26, \"val\": 213}, {\"x\": 16, \"y\": 26, \"val\": 211}, {\"x\": 17, \"y\": 26, \"val\": 214}, {\"x\": 18, \"y\": 26, \"val\": 220}, {\"x\": 19, \"y\": 26, \"val\": 200}, {\"x\": 20, \"y\": 26, \"val\": 0}, {\"x\": 21, \"y\": 26, \"val\": 0}, {\"x\": 22, \"y\": 26, \"val\": 1}, {\"x\": 23, \"y\": 26, \"val\": 0}, {\"x\": 24, \"y\": 26, \"val\": 0}, {\"x\": 25, \"y\": 26, \"val\": 0}, {\"x\": 26, \"y\": 26, \"val\": 0}, {\"x\": 27, \"y\": 26, \"val\": 0}, {\"x\": 28, \"y\": 26, \"val\": 0}, {\"x\": 1, \"y\": 27, \"val\": 0}, {\"x\": 2, \"y\": 27, \"val\": 0}, {\"x\": 3, \"y\": 27, \"val\": 0}, {\"x\": 4, \"y\": 27, \"val\": 0}, {\"x\": 5, \"y\": 27, \"val\": 0}, {\"x\": 6, \"y\": 27, \"val\": 0}, {\"x\": 7, \"y\": 27, \"val\": 3}, {\"x\": 8, \"y\": 27, \"val\": 0}, {\"x\": 9, \"y\": 27, \"val\": 0}, {\"x\": 10, \"y\": 27, \"val\": 214}, {\"x\": 11, \"y\": 27, \"val\": 232}, {\"x\": 12, \"y\": 27, \"val\": 229}, {\"x\": 13, \"y\": 27, \"val\": 249}, {\"x\": 14, \"y\": 27, \"val\": 245}, {\"x\": 15, \"y\": 27, \"val\": 248}, {\"x\": 16, \"y\": 27, \"val\": 252}, {\"x\": 17, \"y\": 27, \"val\": 230}, {\"x\": 18, \"y\": 27, \"val\": 237}, {\"x\": 19, \"y\": 27, \"val\": 229}, {\"x\": 20, \"y\": 27, \"val\": 0}, {\"x\": 21, \"y\": 27, \"val\": 0}, {\"x\": 22, \"y\": 27, \"val\": 1}, {\"x\": 23, \"y\": 27, \"val\": 0}, {\"x\": 24, \"y\": 27, \"val\": 0}, {\"x\": 25, \"y\": 27, \"val\": 0}, {\"x\": 26, \"y\": 27, \"val\": 0}, {\"x\": 27, \"y\": 27, \"val\": 0}, {\"x\": 28, \"y\": 27, \"val\": 0}, {\"x\": 1, \"y\": 28, \"val\": 0}, {\"x\": 2, \"y\": 28, \"val\": 0}, {\"x\": 3, \"y\": 28, \"val\": 0}, {\"x\": 4, \"y\": 28, \"val\": 0}, {\"x\": 5, \"y\": 28, \"val\": 0}, {\"x\": 6, \"y\": 28, \"val\": 0}, {\"x\": 7, \"y\": 28, \"val\": 0}, {\"x\": 8, \"y\": 28, \"val\": 0}, {\"x\": 9, \"y\": 28, \"val\": 0}, {\"x\": 10, \"y\": 28, \"val\": 68}, {\"x\": 11, \"y\": 28, \"val\": 116}, {\"x\": 12, \"y\": 28, \"val\": 112}, {\"x\": 13, \"y\": 28, \"val\": 136}, {\"x\": 14, \"y\": 28, \"val\": 147}, {\"x\": 15, \"y\": 28, \"val\": 144}, {\"x\": 16, \"y\": 28, \"val\": 121}, {\"x\": 17, \"y\": 28, \"val\": 102}, {\"x\": 18, \"y\": 28, \"val\": 63}, {\"x\": 19, \"y\": 28, \"val\": 0}, {\"x\": 20, \"y\": 28, \"val\": 0}, {\"x\": 21, \"y\": 28, \"val\": 0}, {\"x\": 22, \"y\": 28, \"val\": 0}, {\"x\": 23, \"y\": 28, \"val\": 0}, {\"x\": 24, \"y\": 28, \"val\": 0}, {\"x\": 25, \"y\": 28, \"val\": 0}, {\"x\": 26, \"y\": 28, \"val\": 0}, {\"x\": 27, \"y\": 28, \"val\": 0}, {\"x\": 28, \"y\": 28, \"val\": 0}]}}, {\"mode\": \"vega-lite\"});\n",
              "</script>"
            ]
          },
          "metadata": {
            "tags": []
          },
          "execution_count": 56
        }
      ]
    },
    {
      "cell_type": "code",
      "metadata": {
        "execution": {
          "iopub.execute_input": "2021-08-02T20:02:01.236329Z",
          "iopub.status.busy": "2021-08-02T20:02:01.204470Z",
          "iopub.status.idle": "2021-08-02T20:02:01.257895Z",
          "shell.execute_reply": "2021-08-02T20:02:01.258601Z"
        },
        "id": "2be04595",
        "colab": {
          "base_uri": "https://localhost:8080/",
          "height": 642
        },
        "outputId": "374fa642-2277-4013-def6-b71679929abe"
      },
      "source": [
        "draw_image(10)"
      ],
      "id": "2be04595",
      "execution_count": null,
      "outputs": [
        {
          "output_type": "execute_result",
          "data": {
            "text/plain": [
              "alt.Chart(...)"
            ],
            "text/html": [
              "\n",
              "<div id=\"altair-viz-e1b7937728c8487cad78f7b0ada7c83b\"></div>\n",
              "<script type=\"text/javascript\">\n",
              "  (function(spec, embedOpt){\n",
              "    let outputDiv = document.currentScript.previousElementSibling;\n",
              "    if (outputDiv.id !== \"altair-viz-e1b7937728c8487cad78f7b0ada7c83b\") {\n",
              "      outputDiv = document.getElementById(\"altair-viz-e1b7937728c8487cad78f7b0ada7c83b\");\n",
              "    }\n",
              "    const paths = {\n",
              "      \"vega\": \"https://cdn.jsdelivr.net/npm//vega@5?noext\",\n",
              "      \"vega-lib\": \"https://cdn.jsdelivr.net/npm//vega-lib?noext\",\n",
              "      \"vega-lite\": \"https://cdn.jsdelivr.net/npm//vega-lite@4.8.1?noext\",\n",
              "      \"vega-embed\": \"https://cdn.jsdelivr.net/npm//vega-embed@6?noext\",\n",
              "    };\n",
              "\n",
              "    function loadScript(lib) {\n",
              "      return new Promise(function(resolve, reject) {\n",
              "        var s = document.createElement('script');\n",
              "        s.src = paths[lib];\n",
              "        s.async = true;\n",
              "        s.onload = () => resolve(paths[lib]);\n",
              "        s.onerror = () => reject(`Error loading script: ${paths[lib]}`);\n",
              "        document.getElementsByTagName(\"head\")[0].appendChild(s);\n",
              "      });\n",
              "    }\n",
              "\n",
              "    function showError(err) {\n",
              "      outputDiv.innerHTML = `<div class=\"error\" style=\"color:red;\">${err}</div>`;\n",
              "      throw err;\n",
              "    }\n",
              "\n",
              "    function displayChart(vegaEmbed) {\n",
              "      vegaEmbed(outputDiv, spec, embedOpt)\n",
              "        .catch(err => showError(`Javascript Error: ${err.message}<br>This usually means there's a typo in your chart specification. See the javascript console for the full traceback.`));\n",
              "    }\n",
              "\n",
              "    if(typeof define === \"function\" && define.amd) {\n",
              "      requirejs.config({paths});\n",
              "      require([\"vega-embed\"], displayChart, err => showError(`Error loading script: ${err.message}`));\n",
              "    } else if (typeof vegaEmbed === \"function\") {\n",
              "      displayChart(vegaEmbed);\n",
              "    } else {\n",
              "      loadScript(\"vega\")\n",
              "        .then(() => loadScript(\"vega-lite\"))\n",
              "        .then(() => loadScript(\"vega-embed\"))\n",
              "        .catch(showError)\n",
              "        .then(() => displayChart(vegaEmbed));\n",
              "    }\n",
              "  })({\"config\": {\"view\": {\"continuousWidth\": 400, \"continuousHeight\": 300}}, \"data\": {\"name\": \"data-443ca27acab8e07d431ccc1c8b4d707c\"}, \"mark\": \"rect\", \"encoding\": {\"color\": {\"type\": \"quantitative\", \"field\": \"val\"}, \"fill\": {\"type\": \"quantitative\", \"field\": \"val\"}, \"tooltip\": [{\"type\": \"quantitative\", \"field\": \"x\"}, {\"type\": \"quantitative\", \"field\": \"y\"}, {\"type\": \"quantitative\", \"field\": \"val\"}], \"x\": {\"type\": \"ordinal\", \"field\": \"x\"}, \"y\": {\"type\": \"ordinal\", \"field\": \"y\"}}, \"title\": \"Image of a 0\", \"$schema\": \"https://vega.github.io/schema/vega-lite/v4.8.1.json\", \"datasets\": {\"data-443ca27acab8e07d431ccc1c8b4d707c\": [{\"x\": 1, \"y\": 1, \"val\": 0}, {\"x\": 2, \"y\": 1, \"val\": 0}, {\"x\": 3, \"y\": 1, \"val\": 0}, {\"x\": 4, \"y\": 1, \"val\": 0}, {\"x\": 5, \"y\": 1, \"val\": 1}, {\"x\": 6, \"y\": 1, \"val\": 0}, {\"x\": 7, \"y\": 1, \"val\": 0}, {\"x\": 8, \"y\": 1, \"val\": 0}, {\"x\": 9, \"y\": 1, \"val\": 0}, {\"x\": 10, \"y\": 1, \"val\": 41}, {\"x\": 11, \"y\": 1, \"val\": 162}, {\"x\": 12, \"y\": 1, \"val\": 167}, {\"x\": 13, \"y\": 1, \"val\": 84}, {\"x\": 14, \"y\": 1, \"val\": 30}, {\"x\": 15, \"y\": 1, \"val\": 38}, {\"x\": 16, \"y\": 1, \"val\": 94}, {\"x\": 17, \"y\": 1, \"val\": 177}, {\"x\": 18, \"y\": 1, \"val\": 176}, {\"x\": 19, \"y\": 1, \"val\": 26}, {\"x\": 20, \"y\": 1, \"val\": 0}, {\"x\": 21, \"y\": 1, \"val\": 0}, {\"x\": 22, \"y\": 1, \"val\": 0}, {\"x\": 23, \"y\": 1, \"val\": 1}, {\"x\": 24, \"y\": 1, \"val\": 0}, {\"x\": 25, \"y\": 1, \"val\": 0}, {\"x\": 26, \"y\": 1, \"val\": 0}, {\"x\": 27, \"y\": 1, \"val\": 0}, {\"x\": 28, \"y\": 1, \"val\": 0}, {\"x\": 1, \"y\": 2, \"val\": 0}, {\"x\": 2, \"y\": 2, \"val\": 0}, {\"x\": 3, \"y\": 2, \"val\": 0}, {\"x\": 4, \"y\": 2, \"val\": 1}, {\"x\": 5, \"y\": 2, \"val\": 0}, {\"x\": 6, \"y\": 2, \"val\": 0}, {\"x\": 7, \"y\": 2, \"val\": 41}, {\"x\": 8, \"y\": 2, \"val\": 147}, {\"x\": 9, \"y\": 2, \"val\": 228}, {\"x\": 10, \"y\": 2, \"val\": 242}, {\"x\": 11, \"y\": 2, \"val\": 228}, {\"x\": 12, \"y\": 2, \"val\": 236}, {\"x\": 13, \"y\": 2, \"val\": 251}, {\"x\": 14, \"y\": 2, \"val\": 251}, {\"x\": 15, \"y\": 2, \"val\": 251}, {\"x\": 16, \"y\": 2, \"val\": 255}, {\"x\": 17, \"y\": 2, \"val\": 242}, {\"x\": 18, \"y\": 2, \"val\": 230}, {\"x\": 19, \"y\": 2, \"val\": 247}, {\"x\": 20, \"y\": 2, \"val\": 221}, {\"x\": 21, \"y\": 2, \"val\": 125}, {\"x\": 22, \"y\": 2, \"val\": 0}, {\"x\": 23, \"y\": 2, \"val\": 0}, {\"x\": 24, \"y\": 2, \"val\": 0}, {\"x\": 25, \"y\": 2, \"val\": 0}, {\"x\": 26, \"y\": 2, \"val\": 0}, {\"x\": 27, \"y\": 2, \"val\": 0}, {\"x\": 28, \"y\": 2, \"val\": 0}, {\"x\": 1, \"y\": 3, \"val\": 0}, {\"x\": 2, \"y\": 3, \"val\": 0}, {\"x\": 3, \"y\": 3, \"val\": 0}, {\"x\": 4, \"y\": 3, \"val\": 0}, {\"x\": 5, \"y\": 3, \"val\": 0}, {\"x\": 6, \"y\": 3, \"val\": 91}, {\"x\": 7, \"y\": 3, \"val\": 216}, {\"x\": 8, \"y\": 3, \"val\": 228}, {\"x\": 9, \"y\": 3, \"val\": 222}, {\"x\": 10, \"y\": 3, \"val\": 219}, {\"x\": 11, \"y\": 3, \"val\": 219}, {\"x\": 12, \"y\": 3, \"val\": 218}, {\"x\": 13, \"y\": 3, \"val\": 222}, {\"x\": 14, \"y\": 3, \"val\": 200}, {\"x\": 15, \"y\": 3, \"val\": 224}, {\"x\": 16, \"y\": 3, \"val\": 230}, {\"x\": 17, \"y\": 3, \"val\": 221}, {\"x\": 18, \"y\": 3, \"val\": 222}, {\"x\": 19, \"y\": 3, \"val\": 222}, {\"x\": 20, \"y\": 3, \"val\": 227}, {\"x\": 21, \"y\": 3, \"val\": 237}, {\"x\": 22, \"y\": 3, \"val\": 183}, {\"x\": 23, \"y\": 3, \"val\": 0}, {\"x\": 24, \"y\": 3, \"val\": 0}, {\"x\": 25, \"y\": 3, \"val\": 0}, {\"x\": 26, \"y\": 3, \"val\": 0}, {\"x\": 27, \"y\": 3, \"val\": 0}, {\"x\": 28, \"y\": 3, \"val\": 0}, {\"x\": 1, \"y\": 4, \"val\": 0}, {\"x\": 2, \"y\": 4, \"val\": 0}, {\"x\": 3, \"y\": 4, \"val\": 0}, {\"x\": 4, \"y\": 4, \"val\": 0}, {\"x\": 5, \"y\": 4, \"val\": 4}, {\"x\": 6, \"y\": 4, \"val\": 202}, {\"x\": 7, \"y\": 4, \"val\": 208}, {\"x\": 8, \"y\": 4, \"val\": 212}, {\"x\": 9, \"y\": 4, \"val\": 217}, {\"x\": 10, \"y\": 4, \"val\": 219}, {\"x\": 11, \"y\": 4, \"val\": 222}, {\"x\": 12, \"y\": 4, \"val\": 222}, {\"x\": 13, \"y\": 4, \"val\": 219}, {\"x\": 14, \"y\": 4, \"val\": 219}, {\"x\": 15, \"y\": 4, \"val\": 220}, {\"x\": 16, \"y\": 4, \"val\": 218}, {\"x\": 17, \"y\": 4, \"val\": 222}, {\"x\": 18, \"y\": 4, \"val\": 224}, {\"x\": 19, \"y\": 4, \"val\": 224}, {\"x\": 20, \"y\": 4, \"val\": 221}, {\"x\": 21, \"y\": 4, \"val\": 210}, {\"x\": 22, \"y\": 4, \"val\": 227}, {\"x\": 23, \"y\": 4, \"val\": 163}, {\"x\": 24, \"y\": 4, \"val\": 0}, {\"x\": 25, \"y\": 4, \"val\": 0}, {\"x\": 26, \"y\": 4, \"val\": 0}, {\"x\": 27, \"y\": 4, \"val\": 0}, {\"x\": 28, \"y\": 4, \"val\": 0}, {\"x\": 1, \"y\": 5, \"val\": 0}, {\"x\": 2, \"y\": 5, \"val\": 0}, {\"x\": 3, \"y\": 5, \"val\": 0}, {\"x\": 4, \"y\": 5, \"val\": 0}, {\"x\": 5, \"y\": 5, \"val\": 102}, {\"x\": 6, \"y\": 5, \"val\": 225}, {\"x\": 7, \"y\": 5, \"val\": 210}, {\"x\": 8, \"y\": 5, \"val\": 216}, {\"x\": 9, \"y\": 5, \"val\": 218}, {\"x\": 10, \"y\": 5, \"val\": 222}, {\"x\": 11, \"y\": 5, \"val\": 221}, {\"x\": 12, \"y\": 5, \"val\": 219}, {\"x\": 13, \"y\": 5, \"val\": 225}, {\"x\": 14, \"y\": 5, \"val\": 225}, {\"x\": 15, \"y\": 5, \"val\": 221}, {\"x\": 16, \"y\": 5, \"val\": 222}, {\"x\": 17, \"y\": 5, \"val\": 224}, {\"x\": 18, \"y\": 5, \"val\": 222}, {\"x\": 19, \"y\": 5, \"val\": 224}, {\"x\": 20, \"y\": 5, \"val\": 224}, {\"x\": 21, \"y\": 5, \"val\": 215}, {\"x\": 22, \"y\": 5, \"val\": 215}, {\"x\": 23, \"y\": 5, \"val\": 218}, {\"x\": 24, \"y\": 5, \"val\": 28}, {\"x\": 25, \"y\": 5, \"val\": 0}, {\"x\": 26, \"y\": 5, \"val\": 0}, {\"x\": 27, \"y\": 5, \"val\": 0}, {\"x\": 28, \"y\": 5, \"val\": 0}, {\"x\": 1, \"y\": 6, \"val\": 0}, {\"x\": 2, \"y\": 6, \"val\": 0}, {\"x\": 3, \"y\": 6, \"val\": 0}, {\"x\": 4, \"y\": 6, \"val\": 0}, {\"x\": 5, \"y\": 6, \"val\": 189}, {\"x\": 6, \"y\": 6, \"val\": 222}, {\"x\": 7, \"y\": 6, \"val\": 220}, {\"x\": 8, \"y\": 6, \"val\": 213}, {\"x\": 9, \"y\": 6, \"val\": 219}, {\"x\": 10, \"y\": 6, \"val\": 220}, {\"x\": 11, \"y\": 6, \"val\": 218}, {\"x\": 12, \"y\": 6, \"val\": 221}, {\"x\": 13, \"y\": 6, \"val\": 220}, {\"x\": 14, \"y\": 6, \"val\": 219}, {\"x\": 15, \"y\": 6, \"val\": 222}, {\"x\": 16, \"y\": 6, \"val\": 226}, {\"x\": 17, \"y\": 6, \"val\": 222}, {\"x\": 18, \"y\": 6, \"val\": 220}, {\"x\": 19, \"y\": 6, \"val\": 221}, {\"x\": 20, \"y\": 6, \"val\": 216}, {\"x\": 21, \"y\": 6, \"val\": 215}, {\"x\": 22, \"y\": 6, \"val\": 218}, {\"x\": 23, \"y\": 6, \"val\": 229}, {\"x\": 24, \"y\": 6, \"val\": 148}, {\"x\": 25, \"y\": 6, \"val\": 0}, {\"x\": 26, \"y\": 6, \"val\": 0}, {\"x\": 27, \"y\": 6, \"val\": 0}, {\"x\": 28, \"y\": 6, \"val\": 0}, {\"x\": 1, \"y\": 7, \"val\": 0}, {\"x\": 2, \"y\": 7, \"val\": 0}, {\"x\": 3, \"y\": 7, \"val\": 0}, {\"x\": 4, \"y\": 7, \"val\": 11}, {\"x\": 5, \"y\": 7, \"val\": 240}, {\"x\": 6, \"y\": 7, \"val\": 210}, {\"x\": 7, \"y\": 7, \"val\": 227}, {\"x\": 8, \"y\": 7, \"val\": 213}, {\"x\": 9, \"y\": 7, \"val\": 214}, {\"x\": 10, \"y\": 7, \"val\": 220}, {\"x\": 11, \"y\": 7, \"val\": 217}, {\"x\": 12, \"y\": 7, \"val\": 220}, {\"x\": 13, \"y\": 7, \"val\": 224}, {\"x\": 14, \"y\": 7, \"val\": 220}, {\"x\": 15, \"y\": 7, \"val\": 221}, {\"x\": 16, \"y\": 7, \"val\": 217}, {\"x\": 17, \"y\": 7, \"val\": 206}, {\"x\": 18, \"y\": 7, \"val\": 209}, {\"x\": 19, \"y\": 7, \"val\": 208}, {\"x\": 20, \"y\": 7, \"val\": 212}, {\"x\": 21, \"y\": 7, \"val\": 220}, {\"x\": 22, \"y\": 7, \"val\": 224}, {\"x\": 23, \"y\": 7, \"val\": 218}, {\"x\": 24, \"y\": 7, \"val\": 234}, {\"x\": 25, \"y\": 7, \"val\": 0}, {\"x\": 26, \"y\": 7, \"val\": 0}, {\"x\": 27, \"y\": 7, \"val\": 0}, {\"x\": 28, \"y\": 7, \"val\": 0}, {\"x\": 1, \"y\": 8, \"val\": 0}, {\"x\": 2, \"y\": 8, \"val\": 0}, {\"x\": 3, \"y\": 8, \"val\": 0}, {\"x\": 4, \"y\": 8, \"val\": 118}, {\"x\": 5, \"y\": 8, \"val\": 214}, {\"x\": 6, \"y\": 8, \"val\": 208}, {\"x\": 7, \"y\": 8, \"val\": 224}, {\"x\": 8, \"y\": 8, \"val\": 216}, {\"x\": 9, \"y\": 8, \"val\": 211}, {\"x\": 10, \"y\": 8, \"val\": 226}, {\"x\": 11, \"y\": 8, \"val\": 212}, {\"x\": 12, \"y\": 8, \"val\": 219}, {\"x\": 13, \"y\": 8, \"val\": 213}, {\"x\": 14, \"y\": 8, \"val\": 193}, {\"x\": 15, \"y\": 8, \"val\": 192}, {\"x\": 16, \"y\": 8, \"val\": 179}, {\"x\": 17, \"y\": 8, \"val\": 194}, {\"x\": 18, \"y\": 8, \"val\": 213}, {\"x\": 19, \"y\": 8, \"val\": 216}, {\"x\": 20, \"y\": 8, \"val\": 216}, {\"x\": 21, \"y\": 8, \"val\": 217}, {\"x\": 22, \"y\": 8, \"val\": 227}, {\"x\": 23, \"y\": 8, \"val\": 216}, {\"x\": 24, \"y\": 8, \"val\": 221}, {\"x\": 25, \"y\": 8, \"val\": 91}, {\"x\": 26, \"y\": 8, \"val\": 0}, {\"x\": 27, \"y\": 8, \"val\": 0}, {\"x\": 28, \"y\": 8, \"val\": 0}, {\"x\": 1, \"y\": 9, \"val\": 0}, {\"x\": 2, \"y\": 9, \"val\": 0}, {\"x\": 3, \"y\": 9, \"val\": 0}, {\"x\": 4, \"y\": 9, \"val\": 170}, {\"x\": 5, \"y\": 9, \"val\": 221}, {\"x\": 6, \"y\": 9, \"val\": 205}, {\"x\": 7, \"y\": 9, \"val\": 225}, {\"x\": 8, \"y\": 9, \"val\": 219}, {\"x\": 9, \"y\": 9, \"val\": 217}, {\"x\": 10, \"y\": 9, \"val\": 232}, {\"x\": 11, \"y\": 9, \"val\": 232}, {\"x\": 12, \"y\": 9, \"val\": 226}, {\"x\": 13, \"y\": 9, \"val\": 182}, {\"x\": 14, \"y\": 9, \"val\": 182}, {\"x\": 15, \"y\": 9, \"val\": 211}, {\"x\": 16, \"y\": 9, \"val\": 226}, {\"x\": 17, \"y\": 9, \"val\": 220}, {\"x\": 18, \"y\": 9, \"val\": 212}, {\"x\": 19, \"y\": 9, \"val\": 217}, {\"x\": 20, \"y\": 9, \"val\": 216}, {\"x\": 21, \"y\": 9, \"val\": 216}, {\"x\": 22, \"y\": 9, \"val\": 225}, {\"x\": 23, \"y\": 9, \"val\": 213}, {\"x\": 24, \"y\": 9, \"val\": 226}, {\"x\": 25, \"y\": 9, \"val\": 184}, {\"x\": 26, \"y\": 9, \"val\": 0}, {\"x\": 27, \"y\": 9, \"val\": 0}, {\"x\": 28, \"y\": 9, \"val\": 0}, {\"x\": 1, \"y\": 10, \"val\": 0}, {\"x\": 2, \"y\": 10, \"val\": 0}, {\"x\": 3, \"y\": 10, \"val\": 0}, {\"x\": 4, \"y\": 10, \"val\": 0}, {\"x\": 5, \"y\": 10, \"val\": 181}, {\"x\": 6, \"y\": 10, \"val\": 229}, {\"x\": 7, \"y\": 10, \"val\": 219}, {\"x\": 8, \"y\": 10, \"val\": 220}, {\"x\": 9, \"y\": 10, \"val\": 213}, {\"x\": 10, \"y\": 10, \"val\": 227}, {\"x\": 11, \"y\": 10, \"val\": 226}, {\"x\": 12, \"y\": 10, \"val\": 222}, {\"x\": 13, \"y\": 10, \"val\": 214}, {\"x\": 14, \"y\": 10, \"val\": 222}, {\"x\": 15, \"y\": 10, \"val\": 220}, {\"x\": 16, \"y\": 10, \"val\": 216}, {\"x\": 17, \"y\": 10, \"val\": 215}, {\"x\": 18, \"y\": 10, \"val\": 213}, {\"x\": 19, \"y\": 10, \"val\": 214}, {\"x\": 20, \"y\": 10, \"val\": 216}, {\"x\": 21, \"y\": 10, \"val\": 215}, {\"x\": 22, \"y\": 10, \"val\": 220}, {\"x\": 23, \"y\": 10, \"val\": 233}, {\"x\": 24, \"y\": 10, \"val\": 211}, {\"x\": 25, \"y\": 10, \"val\": 0}, {\"x\": 26, \"y\": 10, \"val\": 0}, {\"x\": 27, \"y\": 10, \"val\": 0}, {\"x\": 28, \"y\": 10, \"val\": 0}, {\"x\": 1, \"y\": 11, \"val\": 0}, {\"x\": 2, \"y\": 11, \"val\": 0}, {\"x\": 3, \"y\": 11, \"val\": 0}, {\"x\": 4, \"y\": 11, \"val\": 0}, {\"x\": 5, \"y\": 11, \"val\": 0}, {\"x\": 6, \"y\": 11, \"val\": 164}, {\"x\": 7, \"y\": 11, \"val\": 242}, {\"x\": 8, \"y\": 11, \"val\": 222}, {\"x\": 9, \"y\": 11, \"val\": 210}, {\"x\": 10, \"y\": 11, \"val\": 214}, {\"x\": 11, \"y\": 11, \"val\": 211}, {\"x\": 12, \"y\": 11, \"val\": 215}, {\"x\": 13, \"y\": 11, \"val\": 215}, {\"x\": 14, \"y\": 11, \"val\": 216}, {\"x\": 15, \"y\": 11, \"val\": 217}, {\"x\": 16, \"y\": 11, \"val\": 215}, {\"x\": 17, \"y\": 11, \"val\": 215}, {\"x\": 18, \"y\": 11, \"val\": 215}, {\"x\": 19, \"y\": 11, \"val\": 215}, {\"x\": 20, \"y\": 11, \"val\": 213}, {\"x\": 21, \"y\": 11, \"val\": 222}, {\"x\": 22, \"y\": 11, \"val\": 238}, {\"x\": 23, \"y\": 11, \"val\": 184}, {\"x\": 24, \"y\": 11, \"val\": 0}, {\"x\": 25, \"y\": 11, \"val\": 0}, {\"x\": 26, \"y\": 11, \"val\": 0}, {\"x\": 27, \"y\": 11, \"val\": 0}, {\"x\": 28, \"y\": 11, \"val\": 0}, {\"x\": 1, \"y\": 12, \"val\": 0}, {\"x\": 2, \"y\": 12, \"val\": 0}, {\"x\": 3, \"y\": 12, \"val\": 0}, {\"x\": 4, \"y\": 12, \"val\": 2}, {\"x\": 5, \"y\": 12, \"val\": 0}, {\"x\": 6, \"y\": 12, \"val\": 0}, {\"x\": 7, \"y\": 12, \"val\": 60}, {\"x\": 8, \"y\": 12, \"val\": 222}, {\"x\": 9, \"y\": 12, \"val\": 217}, {\"x\": 10, \"y\": 12, \"val\": 214}, {\"x\": 11, \"y\": 12, \"val\": 214}, {\"x\": 12, \"y\": 12, \"val\": 215}, {\"x\": 13, \"y\": 12, \"val\": 219}, {\"x\": 14, \"y\": 12, \"val\": 202}, {\"x\": 15, \"y\": 12, \"val\": 217}, {\"x\": 16, \"y\": 12, \"val\": 210}, {\"x\": 17, \"y\": 12, \"val\": 203}, {\"x\": 18, \"y\": 12, \"val\": 216}, {\"x\": 19, \"y\": 12, \"val\": 212}, {\"x\": 20, \"y\": 12, \"val\": 221}, {\"x\": 21, \"y\": 12, \"val\": 200}, {\"x\": 22, \"y\": 12, \"val\": 60}, {\"x\": 23, \"y\": 12, \"val\": 0}, {\"x\": 24, \"y\": 12, \"val\": 0}, {\"x\": 25, \"y\": 12, \"val\": 0}, {\"x\": 26, \"y\": 12, \"val\": 0}, {\"x\": 27, \"y\": 12, \"val\": 0}, {\"x\": 28, \"y\": 12, \"val\": 0}, {\"x\": 1, \"y\": 13, \"val\": 0}, {\"x\": 2, \"y\": 13, \"val\": 0}, {\"x\": 3, \"y\": 13, \"val\": 0}, {\"x\": 4, \"y\": 13, \"val\": 0}, {\"x\": 5, \"y\": 13, \"val\": 0}, {\"x\": 6, \"y\": 13, \"val\": 0}, {\"x\": 7, \"y\": 13, \"val\": 0}, {\"x\": 8, \"y\": 13, \"val\": 193}, {\"x\": 9, \"y\": 13, \"val\": 222}, {\"x\": 10, \"y\": 13, \"val\": 208}, {\"x\": 11, \"y\": 13, \"val\": 216}, {\"x\": 12, \"y\": 13, \"val\": 215}, {\"x\": 13, \"y\": 13, \"val\": 216}, {\"x\": 14, \"y\": 13, \"val\": 218}, {\"x\": 15, \"y\": 13, \"val\": 220}, {\"x\": 16, \"y\": 13, \"val\": 219}, {\"x\": 17, \"y\": 13, \"val\": 215}, {\"x\": 18, \"y\": 13, \"val\": 216}, {\"x\": 19, \"y\": 13, \"val\": 204}, {\"x\": 20, \"y\": 13, \"val\": 222}, {\"x\": 21, \"y\": 13, \"val\": 148}, {\"x\": 22, \"y\": 13, \"val\": 0}, {\"x\": 23, \"y\": 13, \"val\": 0}, {\"x\": 24, \"y\": 13, \"val\": 0}, {\"x\": 25, \"y\": 13, \"val\": 0}, {\"x\": 26, \"y\": 13, \"val\": 0}, {\"x\": 27, \"y\": 13, \"val\": 0}, {\"x\": 28, \"y\": 13, \"val\": 0}, {\"x\": 1, \"y\": 14, \"val\": 0}, {\"x\": 2, \"y\": 14, \"val\": 0}, {\"x\": 3, \"y\": 14, \"val\": 0}, {\"x\": 4, \"y\": 14, \"val\": 0}, {\"x\": 5, \"y\": 14, \"val\": 0}, {\"x\": 6, \"y\": 14, \"val\": 0}, {\"x\": 7, \"y\": 14, \"val\": 0}, {\"x\": 8, \"y\": 14, \"val\": 194}, {\"x\": 9, \"y\": 14, \"val\": 222}, {\"x\": 10, \"y\": 14, \"val\": 206}, {\"x\": 11, \"y\": 14, \"val\": 216}, {\"x\": 12, \"y\": 14, \"val\": 216}, {\"x\": 13, \"y\": 14, \"val\": 217}, {\"x\": 14, \"y\": 14, \"val\": 218}, {\"x\": 15, \"y\": 14, \"val\": 217}, {\"x\": 16, \"y\": 14, \"val\": 218}, {\"x\": 17, \"y\": 14, \"val\": 216}, {\"x\": 18, \"y\": 14, \"val\": 218}, {\"x\": 19, \"y\": 14, \"val\": 208}, {\"x\": 20, \"y\": 14, \"val\": 219}, {\"x\": 21, \"y\": 14, \"val\": 179}, {\"x\": 22, \"y\": 14, \"val\": 0}, {\"x\": 23, \"y\": 14, \"val\": 0}, {\"x\": 24, \"y\": 14, \"val\": 0}, {\"x\": 25, \"y\": 14, \"val\": 0}, {\"x\": 26, \"y\": 14, \"val\": 0}, {\"x\": 27, \"y\": 14, \"val\": 0}, {\"x\": 28, \"y\": 14, \"val\": 0}, {\"x\": 1, \"y\": 15, \"val\": 0}, {\"x\": 2, \"y\": 15, \"val\": 0}, {\"x\": 3, \"y\": 15, \"val\": 0}, {\"x\": 4, \"y\": 15, \"val\": 0}, {\"x\": 5, \"y\": 15, \"val\": 1}, {\"x\": 6, \"y\": 15, \"val\": 0}, {\"x\": 7, \"y\": 15, \"val\": 0}, {\"x\": 8, \"y\": 15, \"val\": 192}, {\"x\": 9, \"y\": 15, \"val\": 224}, {\"x\": 10, \"y\": 15, \"val\": 213}, {\"x\": 11, \"y\": 15, \"val\": 217}, {\"x\": 12, \"y\": 15, \"val\": 217}, {\"x\": 13, \"y\": 15, \"val\": 218}, {\"x\": 14, \"y\": 15, \"val\": 217}, {\"x\": 15, \"y\": 15, \"val\": 217}, {\"x\": 16, \"y\": 15, \"val\": 217}, {\"x\": 17, \"y\": 15, \"val\": 215}, {\"x\": 18, \"y\": 15, \"val\": 216}, {\"x\": 19, \"y\": 15, \"val\": 209}, {\"x\": 20, \"y\": 15, \"val\": 215}, {\"x\": 21, \"y\": 15, \"val\": 176}, {\"x\": 22, \"y\": 15, \"val\": 0}, {\"x\": 23, \"y\": 15, \"val\": 0}, {\"x\": 24, \"y\": 15, \"val\": 0}, {\"x\": 25, \"y\": 15, \"val\": 0}, {\"x\": 26, \"y\": 15, \"val\": 0}, {\"x\": 27, \"y\": 15, \"val\": 0}, {\"x\": 28, \"y\": 15, \"val\": 0}, {\"x\": 1, \"y\": 16, \"val\": 0}, {\"x\": 2, \"y\": 16, \"val\": 0}, {\"x\": 3, \"y\": 16, \"val\": 0}, {\"x\": 4, \"y\": 16, \"val\": 0}, {\"x\": 5, \"y\": 16, \"val\": 1}, {\"x\": 6, \"y\": 16, \"val\": 0}, {\"x\": 7, \"y\": 16, \"val\": 0}, {\"x\": 8, \"y\": 16, \"val\": 194}, {\"x\": 9, \"y\": 16, \"val\": 221}, {\"x\": 10, \"y\": 16, \"val\": 214}, {\"x\": 11, \"y\": 16, \"val\": 217}, {\"x\": 12, \"y\": 16, \"val\": 216}, {\"x\": 13, \"y\": 16, \"val\": 216}, {\"x\": 14, \"y\": 16, \"val\": 217}, {\"x\": 15, \"y\": 16, \"val\": 217}, {\"x\": 16, \"y\": 16, \"val\": 217}, {\"x\": 17, \"y\": 16, \"val\": 216}, {\"x\": 18, \"y\": 16, \"val\": 214}, {\"x\": 19, \"y\": 16, \"val\": 210}, {\"x\": 20, \"y\": 16, \"val\": 214}, {\"x\": 21, \"y\": 16, \"val\": 177}, {\"x\": 22, \"y\": 16, \"val\": 0}, {\"x\": 23, \"y\": 16, \"val\": 0}, {\"x\": 24, \"y\": 16, \"val\": 0}, {\"x\": 25, \"y\": 16, \"val\": 0}, {\"x\": 26, \"y\": 16, \"val\": 0}, {\"x\": 27, \"y\": 16, \"val\": 0}, {\"x\": 28, \"y\": 16, \"val\": 0}, {\"x\": 1, \"y\": 17, \"val\": 0}, {\"x\": 2, \"y\": 17, \"val\": 0}, {\"x\": 3, \"y\": 17, \"val\": 0}, {\"x\": 4, \"y\": 17, \"val\": 0}, {\"x\": 5, \"y\": 17, \"val\": 1}, {\"x\": 6, \"y\": 17, \"val\": 0}, {\"x\": 7, \"y\": 17, \"val\": 0}, {\"x\": 8, \"y\": 17, \"val\": 193}, {\"x\": 9, \"y\": 17, \"val\": 220}, {\"x\": 10, \"y\": 17, \"val\": 214}, {\"x\": 11, \"y\": 17, \"val\": 218}, {\"x\": 12, \"y\": 17, \"val\": 217}, {\"x\": 13, \"y\": 17, \"val\": 216}, {\"x\": 14, \"y\": 17, \"val\": 217}, {\"x\": 15, \"y\": 17, \"val\": 217}, {\"x\": 16, \"y\": 17, \"val\": 216}, {\"x\": 17, \"y\": 17, \"val\": 216}, {\"x\": 18, \"y\": 17, \"val\": 215}, {\"x\": 19, \"y\": 17, \"val\": 212}, {\"x\": 20, \"y\": 17, \"val\": 214}, {\"x\": 21, \"y\": 17, \"val\": 183}, {\"x\": 22, \"y\": 17, \"val\": 0}, {\"x\": 23, \"y\": 17, \"val\": 0}, {\"x\": 24, \"y\": 17, \"val\": 0}, {\"x\": 25, \"y\": 17, \"val\": 0}, {\"x\": 26, \"y\": 17, \"val\": 0}, {\"x\": 27, \"y\": 17, \"val\": 0}, {\"x\": 28, \"y\": 17, \"val\": 0}, {\"x\": 1, \"y\": 18, \"val\": 0}, {\"x\": 2, \"y\": 18, \"val\": 0}, {\"x\": 3, \"y\": 18, \"val\": 0}, {\"x\": 4, \"y\": 18, \"val\": 0}, {\"x\": 5, \"y\": 18, \"val\": 1}, {\"x\": 6, \"y\": 18, \"val\": 0}, {\"x\": 7, \"y\": 18, \"val\": 0}, {\"x\": 8, \"y\": 18, \"val\": 197}, {\"x\": 9, \"y\": 18, \"val\": 220}, {\"x\": 10, \"y\": 18, \"val\": 214}, {\"x\": 11, \"y\": 18, \"val\": 219}, {\"x\": 12, \"y\": 18, \"val\": 218}, {\"x\": 13, \"y\": 18, \"val\": 218}, {\"x\": 14, \"y\": 18, \"val\": 218}, {\"x\": 15, \"y\": 18, \"val\": 218}, {\"x\": 16, \"y\": 18, \"val\": 217}, {\"x\": 17, \"y\": 18, \"val\": 217}, {\"x\": 18, \"y\": 18, \"val\": 219}, {\"x\": 19, \"y\": 18, \"val\": 214}, {\"x\": 20, \"y\": 18, \"val\": 217}, {\"x\": 21, \"y\": 18, \"val\": 189}, {\"x\": 22, \"y\": 18, \"val\": 0}, {\"x\": 23, \"y\": 18, \"val\": 0}, {\"x\": 24, \"y\": 18, \"val\": 1}, {\"x\": 25, \"y\": 18, \"val\": 0}, {\"x\": 26, \"y\": 18, \"val\": 0}, {\"x\": 27, \"y\": 18, \"val\": 0}, {\"x\": 28, \"y\": 18, \"val\": 0}, {\"x\": 1, \"y\": 19, \"val\": 0}, {\"x\": 2, \"y\": 19, \"val\": 0}, {\"x\": 3, \"y\": 19, \"val\": 0}, {\"x\": 4, \"y\": 19, \"val\": 0}, {\"x\": 5, \"y\": 19, \"val\": 0}, {\"x\": 6, \"y\": 19, \"val\": 0}, {\"x\": 7, \"y\": 19, \"val\": 0}, {\"x\": 8, \"y\": 19, \"val\": 201}, {\"x\": 9, \"y\": 19, \"val\": 222}, {\"x\": 10, \"y\": 19, \"val\": 214}, {\"x\": 11, \"y\": 19, \"val\": 219}, {\"x\": 12, \"y\": 19, \"val\": 218}, {\"x\": 13, \"y\": 19, \"val\": 219}, {\"x\": 14, \"y\": 19, \"val\": 219}, {\"x\": 15, \"y\": 19, \"val\": 218}, {\"x\": 16, \"y\": 19, \"val\": 218}, {\"x\": 17, \"y\": 19, \"val\": 217}, {\"x\": 18, \"y\": 19, \"val\": 219}, {\"x\": 19, \"y\": 19, \"val\": 216}, {\"x\": 20, \"y\": 19, \"val\": 220}, {\"x\": 21, \"y\": 19, \"val\": 196}, {\"x\": 22, \"y\": 19, \"val\": 0}, {\"x\": 23, \"y\": 19, \"val\": 0}, {\"x\": 24, \"y\": 19, \"val\": 1}, {\"x\": 25, \"y\": 19, \"val\": 0}, {\"x\": 26, \"y\": 19, \"val\": 0}, {\"x\": 27, \"y\": 19, \"val\": 0}, {\"x\": 28, \"y\": 19, \"val\": 0}, {\"x\": 1, \"y\": 20, \"val\": 0}, {\"x\": 2, \"y\": 20, \"val\": 0}, {\"x\": 3, \"y\": 20, \"val\": 0}, {\"x\": 4, \"y\": 20, \"val\": 0}, {\"x\": 5, \"y\": 20, \"val\": 0}, {\"x\": 6, \"y\": 20, \"val\": 0}, {\"x\": 7, \"y\": 20, \"val\": 0}, {\"x\": 8, \"y\": 20, \"val\": 209}, {\"x\": 9, \"y\": 20, \"val\": 222}, {\"x\": 10, \"y\": 20, \"val\": 216}, {\"x\": 11, \"y\": 20, \"val\": 220}, {\"x\": 12, \"y\": 20, \"val\": 219}, {\"x\": 13, \"y\": 20, \"val\": 219}, {\"x\": 14, \"y\": 20, \"val\": 220}, {\"x\": 15, \"y\": 20, \"val\": 220}, {\"x\": 16, \"y\": 20, \"val\": 218}, {\"x\": 17, \"y\": 20, \"val\": 217}, {\"x\": 18, \"y\": 20, \"val\": 219}, {\"x\": 19, \"y\": 20, \"val\": 216}, {\"x\": 20, \"y\": 20, \"val\": 222}, {\"x\": 21, \"y\": 20, \"val\": 203}, {\"x\": 22, \"y\": 20, \"val\": 0}, {\"x\": 23, \"y\": 20, \"val\": 0}, {\"x\": 24, \"y\": 20, \"val\": 1}, {\"x\": 25, \"y\": 20, \"val\": 0}, {\"x\": 26, \"y\": 20, \"val\": 0}, {\"x\": 27, \"y\": 20, \"val\": 0}, {\"x\": 28, \"y\": 20, \"val\": 0}, {\"x\": 1, \"y\": 21, \"val\": 0}, {\"x\": 2, \"y\": 21, \"val\": 0}, {\"x\": 3, \"y\": 21, \"val\": 0}, {\"x\": 4, \"y\": 21, \"val\": 0}, {\"x\": 5, \"y\": 21, \"val\": 0}, {\"x\": 6, \"y\": 21, \"val\": 0}, {\"x\": 7, \"y\": 21, \"val\": 0}, {\"x\": 8, \"y\": 21, \"val\": 209}, {\"x\": 9, \"y\": 21, \"val\": 221}, {\"x\": 10, \"y\": 21, \"val\": 216}, {\"x\": 11, \"y\": 21, \"val\": 220}, {\"x\": 12, \"y\": 21, \"val\": 219}, {\"x\": 13, \"y\": 21, \"val\": 219}, {\"x\": 14, \"y\": 21, \"val\": 221}, {\"x\": 15, \"y\": 21, \"val\": 221}, {\"x\": 16, \"y\": 21, \"val\": 219}, {\"x\": 17, \"y\": 21, \"val\": 219}, {\"x\": 18, \"y\": 21, \"val\": 221}, {\"x\": 19, \"y\": 21, \"val\": 217}, {\"x\": 20, \"y\": 21, \"val\": 222}, {\"x\": 21, \"y\": 21, \"val\": 210}, {\"x\": 22, \"y\": 21, \"val\": 0}, {\"x\": 23, \"y\": 21, \"val\": 0}, {\"x\": 24, \"y\": 21, \"val\": 1}, {\"x\": 25, \"y\": 21, \"val\": 0}, {\"x\": 26, \"y\": 21, \"val\": 0}, {\"x\": 27, \"y\": 21, \"val\": 0}, {\"x\": 28, \"y\": 21, \"val\": 0}, {\"x\": 1, \"y\": 22, \"val\": 0}, {\"x\": 2, \"y\": 22, \"val\": 0}, {\"x\": 3, \"y\": 22, \"val\": 0}, {\"x\": 4, \"y\": 22, \"val\": 0}, {\"x\": 5, \"y\": 22, \"val\": 0}, {\"x\": 6, \"y\": 22, \"val\": 0}, {\"x\": 7, \"y\": 22, \"val\": 0}, {\"x\": 8, \"y\": 22, \"val\": 208}, {\"x\": 9, \"y\": 22, \"val\": 222}, {\"x\": 10, \"y\": 22, \"val\": 218}, {\"x\": 11, \"y\": 22, \"val\": 221}, {\"x\": 12, \"y\": 22, \"val\": 220}, {\"x\": 13, \"y\": 22, \"val\": 220}, {\"x\": 14, \"y\": 22, \"val\": 221}, {\"x\": 15, \"y\": 22, \"val\": 222}, {\"x\": 16, \"y\": 22, \"val\": 220}, {\"x\": 17, \"y\": 22, \"val\": 220}, {\"x\": 18, \"y\": 22, \"val\": 222}, {\"x\": 19, \"y\": 22, \"val\": 219}, {\"x\": 20, \"y\": 22, \"val\": 222}, {\"x\": 21, \"y\": 22, \"val\": 216}, {\"x\": 22, \"y\": 22, \"val\": 0}, {\"x\": 23, \"y\": 22, \"val\": 0}, {\"x\": 24, \"y\": 22, \"val\": 1}, {\"x\": 25, \"y\": 22, \"val\": 0}, {\"x\": 26, \"y\": 22, \"val\": 0}, {\"x\": 27, \"y\": 22, \"val\": 0}, {\"x\": 28, \"y\": 22, \"val\": 0}, {\"x\": 1, \"y\": 23, \"val\": 0}, {\"x\": 2, \"y\": 23, \"val\": 0}, {\"x\": 3, \"y\": 23, \"val\": 0}, {\"x\": 4, \"y\": 23, \"val\": 0}, {\"x\": 5, \"y\": 23, \"val\": 1}, {\"x\": 6, \"y\": 23, \"val\": 0}, {\"x\": 7, \"y\": 23, \"val\": 0}, {\"x\": 8, \"y\": 23, \"val\": 210}, {\"x\": 9, \"y\": 23, \"val\": 226}, {\"x\": 10, \"y\": 23, \"val\": 220}, {\"x\": 11, \"y\": 23, \"val\": 221}, {\"x\": 12, \"y\": 23, \"val\": 220}, {\"x\": 13, \"y\": 23, \"val\": 221}, {\"x\": 14, \"y\": 23, \"val\": 222}, {\"x\": 15, \"y\": 23, \"val\": 222}, {\"x\": 16, \"y\": 23, \"val\": 220}, {\"x\": 17, \"y\": 23, \"val\": 220}, {\"x\": 18, \"y\": 23, \"val\": 224}, {\"x\": 19, \"y\": 23, \"val\": 221}, {\"x\": 20, \"y\": 23, \"val\": 224}, {\"x\": 21, \"y\": 23, \"val\": 221}, {\"x\": 22, \"y\": 23, \"val\": 0}, {\"x\": 23, \"y\": 23, \"val\": 0}, {\"x\": 24, \"y\": 23, \"val\": 0}, {\"x\": 25, \"y\": 23, \"val\": 0}, {\"x\": 26, \"y\": 23, \"val\": 0}, {\"x\": 27, \"y\": 23, \"val\": 0}, {\"x\": 28, \"y\": 23, \"val\": 0}, {\"x\": 1, \"y\": 24, \"val\": 0}, {\"x\": 2, \"y\": 24, \"val\": 0}, {\"x\": 3, \"y\": 24, \"val\": 0}, {\"x\": 4, \"y\": 24, \"val\": 0}, {\"x\": 5, \"y\": 24, \"val\": 1}, {\"x\": 6, \"y\": 24, \"val\": 0}, {\"x\": 7, \"y\": 24, \"val\": 0}, {\"x\": 8, \"y\": 24, \"val\": 217}, {\"x\": 9, \"y\": 24, \"val\": 227}, {\"x\": 10, \"y\": 24, \"val\": 219}, {\"x\": 11, \"y\": 24, \"val\": 222}, {\"x\": 12, \"y\": 24, \"val\": 224}, {\"x\": 13, \"y\": 24, \"val\": 219}, {\"x\": 14, \"y\": 24, \"val\": 219}, {\"x\": 15, \"y\": 24, \"val\": 221}, {\"x\": 16, \"y\": 24, \"val\": 222}, {\"x\": 17, \"y\": 24, \"val\": 220}, {\"x\": 18, \"y\": 24, \"val\": 221}, {\"x\": 19, \"y\": 24, \"val\": 222}, {\"x\": 20, \"y\": 24, \"val\": 225}, {\"x\": 21, \"y\": 24, \"val\": 220}, {\"x\": 22, \"y\": 24, \"val\": 0}, {\"x\": 23, \"y\": 24, \"val\": 0}, {\"x\": 24, \"y\": 24, \"val\": 0}, {\"x\": 25, \"y\": 24, \"val\": 0}, {\"x\": 26, \"y\": 24, \"val\": 0}, {\"x\": 27, \"y\": 24, \"val\": 0}, {\"x\": 28, \"y\": 24, \"val\": 0}, {\"x\": 1, \"y\": 25, \"val\": 0}, {\"x\": 2, \"y\": 25, \"val\": 0}, {\"x\": 3, \"y\": 25, \"val\": 0}, {\"x\": 4, \"y\": 25, \"val\": 0}, {\"x\": 5, \"y\": 25, \"val\": 1}, {\"x\": 6, \"y\": 25, \"val\": 0}, {\"x\": 7, \"y\": 25, \"val\": 0}, {\"x\": 8, \"y\": 25, \"val\": 183}, {\"x\": 9, \"y\": 25, \"val\": 228}, {\"x\": 10, \"y\": 25, \"val\": 221}, {\"x\": 11, \"y\": 25, \"val\": 225}, {\"x\": 12, \"y\": 25, \"val\": 221}, {\"x\": 13, \"y\": 25, \"val\": 215}, {\"x\": 14, \"y\": 25, \"val\": 217}, {\"x\": 15, \"y\": 25, \"val\": 221}, {\"x\": 16, \"y\": 25, \"val\": 222}, {\"x\": 17, \"y\": 25, \"val\": 221}, {\"x\": 18, \"y\": 25, \"val\": 222}, {\"x\": 19, \"y\": 25, \"val\": 224}, {\"x\": 20, \"y\": 25, \"val\": 224}, {\"x\": 21, \"y\": 25, \"val\": 193}, {\"x\": 22, \"y\": 25, \"val\": 0}, {\"x\": 23, \"y\": 25, \"val\": 0}, {\"x\": 24, \"y\": 25, \"val\": 1}, {\"x\": 25, \"y\": 25, \"val\": 0}, {\"x\": 26, \"y\": 25, \"val\": 0}, {\"x\": 27, \"y\": 25, \"val\": 0}, {\"x\": 28, \"y\": 25, \"val\": 0}, {\"x\": 1, \"y\": 26, \"val\": 0}, {\"x\": 2, \"y\": 26, \"val\": 0}, {\"x\": 3, \"y\": 26, \"val\": 0}, {\"x\": 4, \"y\": 26, \"val\": 0}, {\"x\": 5, \"y\": 26, \"val\": 1}, {\"x\": 6, \"y\": 26, \"val\": 0}, {\"x\": 7, \"y\": 26, \"val\": 0}, {\"x\": 8, \"y\": 26, \"val\": 179}, {\"x\": 9, \"y\": 26, \"val\": 225}, {\"x\": 10, \"y\": 26, \"val\": 218}, {\"x\": 11, \"y\": 26, \"val\": 221}, {\"x\": 12, \"y\": 26, \"val\": 219}, {\"x\": 13, \"y\": 26, \"val\": 213}, {\"x\": 14, \"y\": 26, \"val\": 213}, {\"x\": 15, \"y\": 26, \"val\": 217}, {\"x\": 16, \"y\": 26, \"val\": 220}, {\"x\": 17, \"y\": 26, \"val\": 219}, {\"x\": 18, \"y\": 26, \"val\": 218}, {\"x\": 19, \"y\": 26, \"val\": 221}, {\"x\": 20, \"y\": 26, \"val\": 222}, {\"x\": 21, \"y\": 26, \"val\": 197}, {\"x\": 22, \"y\": 26, \"val\": 0}, {\"x\": 23, \"y\": 26, \"val\": 0}, {\"x\": 24, \"y\": 26, \"val\": 2}, {\"x\": 25, \"y\": 26, \"val\": 0}, {\"x\": 26, \"y\": 26, \"val\": 0}, {\"x\": 27, \"y\": 26, \"val\": 0}, {\"x\": 28, \"y\": 26, \"val\": 0}, {\"x\": 1, \"y\": 27, \"val\": 0}, {\"x\": 2, \"y\": 27, \"val\": 0}, {\"x\": 3, \"y\": 27, \"val\": 0}, {\"x\": 4, \"y\": 27, \"val\": 0}, {\"x\": 5, \"y\": 27, \"val\": 1}, {\"x\": 6, \"y\": 27, \"val\": 0}, {\"x\": 7, \"y\": 27, \"val\": 0}, {\"x\": 8, \"y\": 27, \"val\": 240}, {\"x\": 9, \"y\": 27, \"val\": 233}, {\"x\": 10, \"y\": 27, \"val\": 228}, {\"x\": 11, \"y\": 27, \"val\": 235}, {\"x\": 12, \"y\": 27, \"val\": 232}, {\"x\": 13, \"y\": 27, \"val\": 229}, {\"x\": 14, \"y\": 27, \"val\": 228}, {\"x\": 15, \"y\": 27, \"val\": 229}, {\"x\": 16, \"y\": 27, \"val\": 231}, {\"x\": 17, \"y\": 27, \"val\": 231}, {\"x\": 18, \"y\": 27, \"val\": 231}, {\"x\": 19, \"y\": 27, \"val\": 228}, {\"x\": 20, \"y\": 27, \"val\": 229}, {\"x\": 21, \"y\": 27, \"val\": 212}, {\"x\": 22, \"y\": 27, \"val\": 0}, {\"x\": 23, \"y\": 27, \"val\": 0}, {\"x\": 24, \"y\": 27, \"val\": 1}, {\"x\": 25, \"y\": 27, \"val\": 0}, {\"x\": 26, \"y\": 27, \"val\": 0}, {\"x\": 27, \"y\": 27, \"val\": 0}, {\"x\": 28, \"y\": 27, \"val\": 0}, {\"x\": 1, \"y\": 28, \"val\": 0}, {\"x\": 2, \"y\": 28, \"val\": 0}, {\"x\": 3, \"y\": 28, \"val\": 0}, {\"x\": 4, \"y\": 28, \"val\": 0}, {\"x\": 5, \"y\": 28, \"val\": 0}, {\"x\": 6, \"y\": 28, \"val\": 0}, {\"x\": 7, \"y\": 28, \"val\": 0}, {\"x\": 8, \"y\": 28, \"val\": 101}, {\"x\": 9, \"y\": 28, \"val\": 157}, {\"x\": 10, \"y\": 28, \"val\": 148}, {\"x\": 11, \"y\": 28, \"val\": 148}, {\"x\": 12, \"y\": 28, \"val\": 167}, {\"x\": 13, \"y\": 28, \"val\": 180}, {\"x\": 14, \"y\": 28, \"val\": 182}, {\"x\": 15, \"y\": 28, \"val\": 179}, {\"x\": 16, \"y\": 28, \"val\": 176}, {\"x\": 17, \"y\": 28, \"val\": 172}, {\"x\": 18, \"y\": 28, \"val\": 171}, {\"x\": 19, \"y\": 28, \"val\": 164}, {\"x\": 20, \"y\": 28, \"val\": 177}, {\"x\": 21, \"y\": 28, \"val\": 163}, {\"x\": 22, \"y\": 28, \"val\": 0}, {\"x\": 23, \"y\": 28, \"val\": 0}, {\"x\": 24, \"y\": 28, \"val\": 1}, {\"x\": 25, \"y\": 28, \"val\": 0}, {\"x\": 26, \"y\": 28, \"val\": 0}, {\"x\": 27, \"y\": 28, \"val\": 0}, {\"x\": 28, \"y\": 28, \"val\": 0}]}}, {\"mode\": \"vega-lite\"});\n",
              "</script>"
            ]
          },
          "metadata": {
            "tags": []
          },
          "execution_count": 57
        }
      ]
    },
    {
      "cell_type": "markdown",
      "metadata": {
        "id": "1fd02306"
      },
      "source": [
        "Apply the CNN model to this dataset and print out the accuracy."
      ],
      "id": "1fd02306"
    },
    {
      "cell_type": "code",
      "metadata": {
        "execution": {
          "iopub.execute_input": "2021-08-02T20:02:01.262952Z",
          "iopub.status.busy": "2021-08-02T20:02:01.262099Z",
          "iopub.status.idle": "2021-08-02T20:02:01.264873Z",
          "shell.execute_reply": "2021-08-02T20:02:01.265539Z"
        },
        "id": "662beb5c",
        "colab": {
          "base_uri": "https://localhost:8080/"
        },
        "outputId": "54c2398c-ff6d-44c7-80df-6ba241a57d04"
      },
      "source": [
        "#📝📝📝📝 FILLME\n",
        "# fit model\n",
        "model.fit(x=df_train[features].astype(float),\n",
        "          y=df_train[\"class\"])\n",
        "df_test[\"predict\"] = model.predict(df_test[features])\n",
        "correct = (df_test[\"predict\"] == df_test[\"class\"])\n",
        "accuracy = correct.sum() / correct.size\n",
        "print (\"accuracy: \", accuracy)"
      ],
      "id": "662beb5c",
      "execution_count": null,
      "outputs": [
        {
          "output_type": "stream",
          "text": [
            "accuracy:  0.8811\n"
          ],
          "name": "stdout"
        }
      ]
    }
  ]
}