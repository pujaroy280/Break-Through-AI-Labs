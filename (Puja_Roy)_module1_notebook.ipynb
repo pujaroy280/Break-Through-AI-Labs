{
  "nbformat": 4,
  "nbformat_minor": 5,
  "metadata": {
    "jupytext": {
      "cell_metadata_filter": "-all"
    },
    "kernelspec": {
      "display_name": "myenv",
      "language": "python",
      "name": "myenv"
    },
    "language_info": {
      "codemirror_mode": {
        "name": "ipython",
        "version": 3
      },
      "file_extension": ".py",
      "mimetype": "text/x-python",
      "name": "python",
      "nbconvert_exporter": "python",
      "pygments_lexer": "ipython3",
      "version": "3.8.5"
    },
    "colab": {
      "name": "(Puja Roy) module1.notebook.ipynb",
      "provenance": [],
      "collapsed_sections": [],
      "include_colab_link": true
    }
  },
  "cells": [
    {
      "cell_type": "markdown",
      "metadata": {
        "id": "view-in-github",
        "colab_type": "text"
      },
      "source": [
        "<a href=\"https://colab.research.google.com/github/pujaroy280/Break-Through-AI-Labs/blob/main/(Puja_Roy)_module1_notebook.ipynb\" target=\"_parent\"><img src=\"https://colab.research.google.com/assets/colab-badge.svg\" alt=\"Open In Colab\"/></a>"
      ]
    },
    {
      "cell_type": "markdown",
      "metadata": {
        "id": "2592b265"
      },
      "source": [
        "# Lab 1 - Python Basics"
      ],
      "id": "2592b265"
    },
    {
      "cell_type": "markdown",
      "metadata": {
        "lines_to_next_cell": 2,
        "id": "84ad6416"
      },
      "source": [
        "The goal of this weeks lab is to work through the basics of python\n",
        "with a focus on the aspects that are important for datascience and\n",
        "machine learning."
      ],
      "id": "84ad6416"
    },
    {
      "cell_type": "markdown",
      "metadata": {
        "id": "887b4b73"
      },
      "source": [
        "![python](https://upload.wikimedia.org/wikipedia/commons/c/c3/Python-logo-notext.svg)"
      ],
      "id": "887b4b73"
    },
    {
      "cell_type": "markdown",
      "metadata": {
        "id": "c7632b2a"
      },
      "source": [
        "Python is pretty much the standard programming language for AI and\n",
        "machine learning these days. It is widely used in companies like Google\n",
        "or Netflix for their AI systems."
      ],
      "id": "c7632b2a"
    },
    {
      "cell_type": "markdown",
      "metadata": {
        "id": "7328806d"
      },
      "source": [
        "It is also what is used in research\n",
        "and most non-profit organizations. This is lucky because it also\n",
        "one of the most fun programming languages!"
      ],
      "id": "7328806d"
    },
    {
      "cell_type": "markdown",
      "metadata": {
        "lines_to_next_cell": 2,
        "id": "ee85e9aa"
      },
      "source": [
        "This week we will walkthrough the basics of Python and notebooks."
      ],
      "id": "ee85e9aa"
    },
    {
      "cell_type": "markdown",
      "metadata": {
        "id": "c10337c1"
      },
      "source": [
        "* **Unit A**: Types and Documentation\n",
        "* **Unit B**: String and Functions"
      ],
      "id": "c10337c1"
    },
    {
      "cell_type": "markdown",
      "metadata": {
        "id": "e36b4fd3"
      },
      "source": [
        "# Unit A"
      ],
      "id": "e36b4fd3"
    },
    {
      "cell_type": "markdown",
      "metadata": {
        "id": "4b628e03"
      },
      "source": [
        "## Working with types"
      ],
      "id": "4b628e03"
    },
    {
      "cell_type": "markdown",
      "metadata": {
        "id": "48e6b2fe"
      },
      "source": [
        "This summer we will be working with lots of different types of\n",
        "data. Sometimes that data wilil be numerical such as a temperature:"
      ],
      "id": "48e6b2fe"
    },
    {
      "cell_type": "code",
      "metadata": {
        "execution": {
          "iopub.execute_input": "2021-06-10T17:48:54.570527Z",
          "iopub.status.busy": "2021-06-10T17:48:54.569385Z",
          "iopub.status.idle": "2021-06-10T17:48:54.574129Z",
          "shell.execute_reply": "2021-06-10T17:48:54.574887Z"
        },
        "id": "38b5e5ec",
        "colab": {
          "base_uri": "https://localhost:8080/"
        },
        "outputId": "5f908f43-998d-4503-9b6c-4e8234a73956"
      },
      "source": [
        "98.7"
      ],
      "id": "38b5e5ec",
      "execution_count": null,
      "outputs": [
        {
          "output_type": "execute_result",
          "data": {
            "text/plain": [
              "98.7"
            ]
          },
          "metadata": {
            "tags": []
          },
          "execution_count": 1
        }
      ]
    },
    {
      "cell_type": "markdown",
      "metadata": {
        "id": "a8b2978e"
      },
      "source": [
        "Other times it will be a text string such as a name:"
      ],
      "id": "a8b2978e"
    },
    {
      "cell_type": "code",
      "metadata": {
        "execution": {
          "iopub.execute_input": "2021-06-10T17:48:54.581526Z",
          "iopub.status.busy": "2021-06-10T17:48:54.580617Z",
          "iopub.status.idle": "2021-06-10T17:48:54.585184Z",
          "shell.execute_reply": "2021-06-10T17:48:54.584237Z"
        },
        "id": "90325687",
        "colab": {
          "base_uri": "https://localhost:8080/",
          "height": 35
        },
        "outputId": "82001dfb-3193-4f3c-ab3e-26c45f2c82f9"
      },
      "source": [
        "\"New York City\""
      ],
      "id": "90325687",
      "execution_count": null,
      "outputs": [
        {
          "output_type": "execute_result",
          "data": {
            "application/vnd.google.colaboratory.intrinsic+json": {
              "type": "string"
            },
            "text/plain": [
              "'New York City'"
            ]
          },
          "metadata": {
            "tags": []
          },
          "execution_count": 203
        }
      ]
    },
    {
      "cell_type": "markdown",
      "metadata": {
        "id": "cf46fe7d"
      },
      "source": [
        "More advanced cases will have lists of elements such as many names:"
      ],
      "id": "cf46fe7d"
    },
    {
      "cell_type": "code",
      "metadata": {
        "execution": {
          "iopub.execute_input": "2021-06-10T17:48:54.591905Z",
          "iopub.status.busy": "2021-06-10T17:48:54.591055Z",
          "iopub.status.idle": "2021-06-10T17:48:54.596161Z",
          "shell.execute_reply": "2021-06-10T17:48:54.595355Z"
        },
        "id": "8f44d360",
        "colab": {
          "base_uri": "https://localhost:8080/"
        },
        "outputId": "6ac50a3b-14aa-4a44-c28b-34d857133a92"
      },
      "source": [
        "[\"Queens\", \"Brooklyn\", \"Manhattan\", \"Staten Island\", \"The Bronx\"]"
      ],
      "id": "8f44d360",
      "execution_count": null,
      "outputs": [
        {
          "output_type": "execute_result",
          "data": {
            "text/plain": [
              "['Queens', 'Brooklyn', 'Manhattan', 'Staten Island', 'The Bronx']"
            ]
          },
          "metadata": {
            "tags": []
          },
          "execution_count": 204
        }
      ]
    },
    {
      "cell_type": "markdown",
      "metadata": {
        "id": "35937491"
      },
      "source": [
        "![NYC](data:image/jpeg;base64,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)"
      ],
      "id": "35937491"
    },
    {
      "cell_type": "markdown",
      "metadata": {
        "id": "caa14a48"
      },
      "source": [
        "Python has many different types like this. Knowing the type of your\n",
        "data is the first step."
      ],
      "id": "caa14a48"
    },
    {
      "cell_type": "markdown",
      "metadata": {
        "id": "ea36b18b"
      },
      "source": [
        "Let's look at some examples"
      ],
      "id": "ea36b18b"
    },
    {
      "cell_type": "markdown",
      "metadata": {
        "id": "19e80027"
      },
      "source": [
        "### Numbers"
      ],
      "id": "19e80027"
    },
    {
      "cell_type": "markdown",
      "metadata": {
        "id": "585b34bf"
      },
      "source": [
        "Numbers are the simplest type we will work with. Simply make a\n",
        "variable name and assign a number value."
      ],
      "id": "585b34bf"
    },
    {
      "cell_type": "code",
      "metadata": {
        "execution": {
          "iopub.execute_input": "2021-06-10T17:48:54.602267Z",
          "iopub.status.busy": "2021-06-10T17:48:54.601413Z",
          "iopub.status.idle": "2021-06-10T17:48:54.603810Z",
          "shell.execute_reply": "2021-06-10T17:48:54.604510Z"
        },
        "id": "a29cbf99"
      },
      "source": [
        "my_number_variable = 80"
      ],
      "id": "a29cbf99",
      "execution_count": null,
      "outputs": []
    },
    {
      "cell_type": "code",
      "metadata": {
        "execution": {
          "iopub.execute_input": "2021-06-10T17:48:54.610634Z",
          "iopub.status.busy": "2021-06-10T17:48:54.609719Z",
          "iopub.status.idle": "2021-06-10T17:48:54.613364Z",
          "shell.execute_reply": "2021-06-10T17:48:54.614101Z"
        },
        "id": "5633887a",
        "colab": {
          "base_uri": "https://localhost:8080/"
        },
        "outputId": "208c816c-0e3a-4969-bee1-30f2ccaa01bf"
      },
      "source": [
        "my_number_variable"
      ],
      "id": "5633887a",
      "execution_count": null,
      "outputs": [
        {
          "output_type": "execute_result",
          "data": {
            "text/plain": [
              "80"
            ]
          },
          "metadata": {
            "tags": []
          },
          "execution_count": 206
        }
      ]
    },
    {
      "cell_type": "markdown",
      "metadata": {
        "id": "718d325e"
      },
      "source": [
        "Here are two more."
      ],
      "id": "718d325e"
    },
    {
      "cell_type": "code",
      "metadata": {
        "execution": {
          "iopub.execute_input": "2021-06-10T17:48:54.620141Z",
          "iopub.status.busy": "2021-06-10T17:48:54.619244Z",
          "iopub.status.idle": "2021-06-10T17:48:54.622370Z",
          "shell.execute_reply": "2021-06-10T17:48:54.621530Z"
        },
        "id": "9b43bfc2"
      },
      "source": [
        "number1 = 10.5\n",
        "number2 = 20"
      ],
      "id": "9b43bfc2",
      "execution_count": null,
      "outputs": []
    },
    {
      "cell_type": "markdown",
      "metadata": {
        "id": "46799f76"
      },
      "source": [
        "Note: if you have learned a different programming language, such as\n",
        "Java, you might remember having to declare the type of a variables like"
      ],
      "id": "46799f76"
    },
    {
      "cell_type": "markdown",
      "metadata": {
        "id": "4e1983f0"
      },
      "source": [
        "```java\n",
        "int number1 = 10\n",
        "```"
      ],
      "id": "4e1983f0"
    },
    {
      "cell_type": "markdown",
      "metadata": {
        "id": "c8dc1c72"
      },
      "source": [
        "You don't have to do that in Python. The type is still there, but it is\n",
        "added automatically."
      ],
      "id": "c8dc1c72"
    },
    {
      "cell_type": "markdown",
      "metadata": {
        "id": "8429cce2"
      },
      "source": [
        "You can add two numbers together to make a"
      ],
      "id": "8429cce2"
    },
    {
      "cell_type": "code",
      "metadata": {
        "execution": {
          "iopub.execute_input": "2021-06-10T17:48:54.628497Z",
          "iopub.status.busy": "2021-06-10T17:48:54.627622Z",
          "iopub.status.idle": "2021-06-10T17:48:54.631329Z",
          "shell.execute_reply": "2021-06-10T17:48:54.630404Z"
        },
        "lines_to_next_cell": 2,
        "id": "cb3e390b"
      },
      "source": [
        "number3 = number1 + number2"
      ],
      "id": "cb3e390b",
      "execution_count": null,
      "outputs": []
    },
    {
      "cell_type": "markdown",
      "metadata": {
        "id": "e2dff71b"
      },
      "source": [
        "👩‍🎓**Student Question: What value does ```number3``` have?**"
      ],
      "id": "e2dff71b"
    },
    {
      "cell_type": "code",
      "metadata": {
        "execution": {
          "iopub.execute_input": "2021-06-10T17:48:54.636920Z",
          "iopub.status.busy": "2021-06-10T17:48:54.636057Z",
          "iopub.status.idle": "2021-06-10T17:48:54.639755Z",
          "shell.execute_reply": "2021-06-10T17:48:54.638815Z"
        },
        "id": "7f5a25ee"
      },
      "source": [
        "#📝📝📝📝\n",
        "pass"
      ],
      "id": "7f5a25ee",
      "execution_count": null,
      "outputs": []
    },
    {
      "cell_type": "markdown",
      "metadata": {
        "id": "053a23d8"
      },
      "source": [
        "### Strings"
      ],
      "id": "053a23d8"
    },
    {
      "cell_type": "markdown",
      "metadata": {
        "id": "2b767e3d"
      },
      "source": [
        "Strings are very easy to use in python. You can\n",
        "just use quotes to create them."
      ],
      "id": "2b767e3d"
    },
    {
      "cell_type": "code",
      "metadata": {
        "execution": {
          "iopub.execute_input": "2021-06-10T17:48:54.645627Z",
          "iopub.status.busy": "2021-06-10T17:48:54.644798Z",
          "iopub.status.idle": "2021-06-10T17:48:54.648474Z",
          "shell.execute_reply": "2021-06-10T17:48:54.647566Z"
        },
        "id": "b1073997"
      },
      "source": [
        "string1 = \"New York \"\n",
        "string2 = \"City\""
      ],
      "id": "b1073997",
      "execution_count": null,
      "outputs": []
    },
    {
      "cell_type": "markdown",
      "metadata": {
        "id": "37be094a"
      },
      "source": [
        "To combine two strings you simply add them together."
      ],
      "id": "37be094a"
    },
    {
      "cell_type": "code",
      "metadata": {
        "execution": {
          "iopub.execute_input": "2021-06-10T17:48:54.654651Z",
          "iopub.status.busy": "2021-06-10T17:48:54.653479Z",
          "iopub.status.idle": "2021-06-10T17:48:54.657196Z",
          "shell.execute_reply": "2021-06-10T17:48:54.656492Z"
        },
        "lines_to_next_cell": 2,
        "id": "decf5f54"
      },
      "source": [
        "string3 = string1 + string2"
      ],
      "id": "decf5f54",
      "execution_count": null,
      "outputs": []
    },
    {
      "cell_type": "markdown",
      "metadata": {
        "id": "58f0444d"
      },
      "source": [
        "👩‍🎓**Student Question: What value does ```string3``` have?**"
      ],
      "id": "58f0444d"
    },
    {
      "cell_type": "code",
      "metadata": {
        "execution": {
          "iopub.execute_input": "2021-06-10T17:48:54.662803Z",
          "iopub.status.busy": "2021-06-10T17:48:54.661884Z",
          "iopub.status.idle": "2021-06-10T17:48:54.665079Z",
          "shell.execute_reply": "2021-06-10T17:48:54.664182Z"
        },
        "id": "91b7ee65"
      },
      "source": [
        "#📝📝📝📝\n",
        "pass"
      ],
      "id": "91b7ee65",
      "execution_count": null,
      "outputs": []
    },
    {
      "cell_type": "markdown",
      "metadata": {
        "id": "4cdf07ab"
      },
      "source": [
        "### Lists"
      ],
      "id": "4cdf07ab"
    },
    {
      "cell_type": "markdown",
      "metadata": {
        "id": "8204eb41"
      },
      "source": [
        "Python has a simple type for multiple values called a list."
      ],
      "id": "8204eb41"
    },
    {
      "cell_type": "code",
      "metadata": {
        "execution": {
          "iopub.execute_input": "2021-06-10T17:48:54.671437Z",
          "iopub.status.busy": "2021-06-10T17:48:54.670496Z",
          "iopub.status.idle": "2021-06-10T17:48:54.674157Z",
          "shell.execute_reply": "2021-06-10T17:48:54.673359Z"
        },
        "id": "691d8f28"
      },
      "source": [
        "list1 = [1, 2, 3]\n",
        "list2 = [4, 5]"
      ],
      "id": "691d8f28",
      "execution_count": null,
      "outputs": []
    },
    {
      "cell_type": "markdown",
      "metadata": {
        "id": "5c8f218c"
      },
      "source": [
        "Note: if you have learned a different programming language, such as\n",
        "Java, you might remember arrays. Python lists are like arrays but\n",
        "way easier. You don't need to declare their size or type. Just make\n",
        "them."
      ],
      "id": "5c8f218c"
    },
    {
      "cell_type": "markdown",
      "metadata": {
        "id": "46c5b302"
      },
      "source": [
        "Adding two lists together creates a new list combining the two."
      ],
      "id": "46c5b302"
    },
    {
      "cell_type": "code",
      "metadata": {
        "execution": {
          "iopub.execute_input": "2021-06-10T17:48:54.680252Z",
          "iopub.status.busy": "2021-06-10T17:48:54.679347Z",
          "iopub.status.idle": "2021-06-10T17:48:54.683060Z",
          "shell.execute_reply": "2021-06-10T17:48:54.682282Z"
        },
        "id": "4ae05a80"
      },
      "source": [
        "list3 = list1 + list2"
      ],
      "id": "4ae05a80",
      "execution_count": null,
      "outputs": []
    },
    {
      "cell_type": "markdown",
      "metadata": {
        "id": "7443526a"
      },
      "source": [
        "👩‍🎓**Student Question: What value does ```list3``` have?**"
      ],
      "id": "7443526a"
    },
    {
      "cell_type": "code",
      "metadata": {
        "execution": {
          "iopub.execute_input": "2021-06-10T17:48:54.689014Z",
          "iopub.status.busy": "2021-06-10T17:48:54.688073Z",
          "iopub.status.idle": "2021-06-10T17:48:54.691736Z",
          "shell.execute_reply": "2021-06-10T17:48:54.690939Z"
        },
        "id": "3f2cee5f",
        "colab": {
          "base_uri": "https://localhost:8080/",
          "height": 128
        },
        "outputId": "c935fccf-8065-400a-d384-96cfd7e46e4f"
      },
      "source": [
        "#📝📝📝📝\n",
        "list 3"
      ],
      "id": "3f2cee5f",
      "execution_count": null,
      "outputs": [
        {
          "output_type": "error",
          "ename": "SyntaxError",
          "evalue": "ignored",
          "traceback": [
            "\u001b[0;36m  File \u001b[0;32m\"<ipython-input-215-9f14ceb54148>\"\u001b[0;36m, line \u001b[0;32m2\u001b[0m\n\u001b[0;31m    list 3\u001b[0m\n\u001b[0m         ^\u001b[0m\n\u001b[0;31mSyntaxError\u001b[0m\u001b[0;31m:\u001b[0m invalid syntax\n"
          ]
        }
      ]
    },
    {
      "cell_type": "code",
      "metadata": {
        "id": "yXrRCRmgUX1N"
      },
      "source": [
        ""
      ],
      "id": "yXrRCRmgUX1N",
      "execution_count": null,
      "outputs": []
    },
    {
      "cell_type": "markdown",
      "metadata": {
        "id": "b8cddac6"
      },
      "source": [
        "## Dictionaries"
      ],
      "id": "b8cddac6"
    },
    {
      "cell_type": "markdown",
      "metadata": {
        "id": "f2161577"
      },
      "source": [
        "A dictionary type stores \"keys\" and \"values\", and allows you to look up values using their corresponding keys."
      ],
      "id": "f2161577"
    },
    {
      "cell_type": "markdown",
      "metadata": {
        "id": "b2b059b0"
      },
      "source": [
        "You can have as many keys and values as you want, and they can\n",
        "be of most of the types that we have seen so far."
      ],
      "id": "b2b059b0"
    },
    {
      "cell_type": "code",
      "metadata": {
        "execution": {
          "iopub.execute_input": "2021-06-10T17:48:54.698949Z",
          "iopub.status.busy": "2021-06-10T17:48:54.698003Z",
          "iopub.status.idle": "2021-06-10T17:48:54.702353Z",
          "shell.execute_reply": "2021-06-10T17:48:54.701575Z"
        },
        "id": "f3e77ffc"
      },
      "source": [
        "dict1 = {\"apple\": \"red\",\n",
        "         \"banana\": \"yellow\"}\n",
        "dict1"
      ],
      "id": "f3e77ffc",
      "execution_count": null,
      "outputs": []
    },
    {
      "cell_type": "markdown",
      "metadata": {
        "id": "a9KH5IdyWAWO"
      },
      "source": [
        ""
      ],
      "id": "a9KH5IdyWAWO"
    },
    {
      "cell_type": "markdown",
      "metadata": {
        "id": "6d01fad4"
      },
      "source": [
        "To access a value of the dictionary, you use the square bracket notation\n",
        "with the key that you want to access."
      ],
      "id": "6d01fad4"
    },
    {
      "cell_type": "code",
      "metadata": {
        "execution": {
          "iopub.execute_input": "2021-06-10T17:48:54.708724Z",
          "iopub.status.busy": "2021-06-10T17:48:54.707795Z",
          "iopub.status.idle": "2021-06-10T17:48:54.712154Z",
          "shell.execute_reply": "2021-06-10T17:48:54.711223Z"
        },
        "lines_to_next_cell": 2,
        "id": "8d7da975"
      },
      "source": [
        "dict1[\"apple\"]"
      ],
      "id": "8d7da975",
      "execution_count": null,
      "outputs": []
    },
    {
      "cell_type": "code",
      "metadata": {
        "execution": {
          "iopub.execute_input": "2021-06-10T17:48:54.718598Z",
          "iopub.status.busy": "2021-06-10T17:48:54.717624Z",
          "iopub.status.idle": "2021-06-10T17:48:54.721039Z",
          "shell.execute_reply": "2021-06-10T17:48:54.721811Z"
        },
        "id": "f6d3921d"
      },
      "source": [
        "dict1[\"banana\"]"
      ],
      "id": "f6d3921d",
      "execution_count": null,
      "outputs": []
    },
    {
      "cell_type": "markdown",
      "metadata": {
        "id": "6114904a"
      },
      "source": [
        "You can also add a new key to the dictionary by setting its value."
      ],
      "id": "6114904a"
    },
    {
      "cell_type": "code",
      "metadata": {
        "execution": {
          "iopub.execute_input": "2021-06-10T17:48:54.728119Z",
          "iopub.status.busy": "2021-06-10T17:48:54.727145Z",
          "iopub.status.idle": "2021-06-10T17:48:54.729585Z",
          "shell.execute_reply": "2021-06-10T17:48:54.730378Z"
        },
        "id": "e4d33346"
      },
      "source": [
        "dict1[\"pear\"] = \"green\""
      ],
      "id": "e4d33346",
      "execution_count": null,
      "outputs": []
    },
    {
      "cell_type": "markdown",
      "metadata": {
        "id": "58b619aa"
      },
      "source": [
        "👩‍🎓**Student Question: What value does ```dict1``` have?**"
      ],
      "id": "58b619aa"
    },
    {
      "cell_type": "code",
      "metadata": {
        "execution": {
          "iopub.execute_input": "2021-06-10T17:48:54.736134Z",
          "iopub.status.busy": "2021-06-10T17:48:54.735151Z",
          "iopub.status.idle": "2021-06-10T17:48:54.738043Z",
          "shell.execute_reply": "2021-06-10T17:48:54.737203Z"
        },
        "id": "b53d84cc"
      },
      "source": [
        "#📝📝📝📝 FILLME\n",
        "pass"
      ],
      "id": "b53d84cc",
      "execution_count": null,
      "outputs": []
    },
    {
      "cell_type": "markdown",
      "metadata": {
        "id": "c7bb0cb3"
      },
      "source": [
        "## Importing and Reading Docs"
      ],
      "id": "c7bb0cb3"
    },
    {
      "cell_type": "markdown",
      "metadata": {
        "id": "25c7ca4e"
      },
      "source": [
        "Numbers, strings, and lists. These are the most common types of data\n",
        "that we will use throughout the summer. Every programmer should know\n",
        "these basic types."
      ],
      "id": "25c7ca4e"
    },
    {
      "cell_type": "markdown",
      "metadata": {
        "id": "810759cd"
      },
      "source": [
        "However to be a really good, it is important to be able to use types\n",
        "that you don't yet know. Most of the time the problem that you are\n",
        "interested will have a type that is already made by someone else."
      ],
      "id": "810759cd"
    },
    {
      "cell_type": "markdown",
      "metadata": {
        "id": "476eec85"
      },
      "source": [
        "For instance, let's say we want a type for a date. We could try to write our own."
      ],
      "id": "476eec85"
    },
    {
      "cell_type": "code",
      "metadata": {
        "execution": {
          "iopub.execute_input": "2021-06-10T17:48:54.744547Z",
          "iopub.status.busy": "2021-06-10T17:48:54.743594Z",
          "iopub.status.idle": "2021-06-10T17:48:54.747060Z",
          "shell.execute_reply": "2021-06-10T17:48:54.746134Z"
        },
        "id": "914b467d"
      },
      "source": [
        "day = 8\n",
        "month = \"June\"\n",
        "year = 2021"
      ],
      "id": "914b467d",
      "execution_count": null,
      "outputs": []
    },
    {
      "cell_type": "markdown",
      "metadata": {
        "id": "e8b9685b"
      },
      "source": [
        "But there are so many things we would need to add! How do we represent weeks?\n",
        "Leap years? How do we count number of days?"
      ],
      "id": "e8b9685b"
    },
    {
      "cell_type": "markdown",
      "metadata": {
        "id": "76751878"
      },
      "source": [
        "So instead let us use a package. To use a package first we `import` it."
      ],
      "id": "76751878"
    },
    {
      "cell_type": "code",
      "metadata": {
        "execution": {
          "iopub.execute_input": "2021-06-10T17:48:54.753064Z",
          "iopub.status.busy": "2021-06-10T17:48:54.752177Z",
          "iopub.status.idle": "2021-06-10T17:48:54.755918Z",
          "shell.execute_reply": "2021-06-10T17:48:54.754905Z"
        },
        "id": "3dfed8f2"
      },
      "source": [
        "import datetime"
      ],
      "id": "3dfed8f2",
      "execution_count": null,
      "outputs": []
    },
    {
      "cell_type": "markdown",
      "metadata": {
        "id": "43ba4d9b"
      },
      "source": [
        "Then we use `.` notation to use the package. This gives us a date variable for the current day."
      ],
      "id": "43ba4d9b"
    },
    {
      "cell_type": "code",
      "metadata": {
        "execution": {
          "iopub.execute_input": "2021-06-10T17:48:54.762757Z",
          "iopub.status.busy": "2021-06-10T17:48:54.761853Z",
          "iopub.status.idle": "2021-06-10T17:48:54.765471Z",
          "shell.execute_reply": "2021-06-10T17:48:54.766243Z"
        },
        "id": "8c3dad04"
      },
      "source": [
        "date1 = datetime.datetime.now()\n",
        "date1"
      ],
      "id": "8c3dad04",
      "execution_count": null,
      "outputs": []
    },
    {
      "cell_type": "markdown",
      "metadata": {
        "id": "9f511132"
      },
      "source": [
        "How did I know how to do this?"
      ],
      "id": "9f511132"
    },
    {
      "cell_type": "markdown",
      "metadata": {
        "id": "ad40b636"
      },
      "source": [
        "Honestly, I had no idea. I completly forgot how this worked so I did this."
      ],
      "id": "ad40b636"
    },
    {
      "cell_type": "markdown",
      "metadata": {
        "id": "52280a56"
      },
      "source": [
        "\n",
        "1. Google'd \"how do i get the current time in python\"\n",
        "2. Clicked the link we get back here https://stackoverflow.com/questions/415511/how-to-get-the-current-time-in-python\n",
        "\n",
        "This is one of the most important skills to learn Python :)"
      ],
      "id": "52280a56"
    },
    {
      "cell_type": "markdown",
      "metadata": {
        "id": "9c86d7d3"
      },
      "source": [
        "The format of the output of the line above is telling use the we can\n",
        "access the day and month of the current date in the following\n",
        "manner."
      ],
      "id": "9c86d7d3"
    },
    {
      "cell_type": "code",
      "metadata": {
        "execution": {
          "iopub.execute_input": "2021-06-10T17:48:54.772871Z",
          "iopub.status.busy": "2021-06-10T17:48:54.771954Z",
          "iopub.status.idle": "2021-06-10T17:48:54.776566Z",
          "shell.execute_reply": "2021-06-10T17:48:54.775653Z"
        },
        "id": "e5e78bad"
      },
      "source": [
        "date1.day"
      ],
      "id": "e5e78bad",
      "execution_count": null,
      "outputs": []
    },
    {
      "cell_type": "code",
      "metadata": {
        "execution": {
          "iopub.execute_input": "2021-06-10T17:48:54.783098Z",
          "iopub.status.busy": "2021-06-10T17:48:54.782108Z",
          "iopub.status.idle": "2021-06-10T17:48:54.785520Z",
          "shell.execute_reply": "2021-06-10T17:48:54.786301Z"
        },
        "id": "2a745512"
      },
      "source": [
        "date1.month"
      ],
      "id": "2a745512",
      "execution_count": null,
      "outputs": []
    },
    {
      "cell_type": "markdown",
      "metadata": {
        "id": "f489589a"
      },
      "source": [
        "👩‍🎓**Student Question: Can you print the current value of the year**"
      ],
      "id": "f489589a"
    },
    {
      "cell_type": "code",
      "metadata": {
        "execution": {
          "iopub.execute_input": "2021-06-10T17:48:54.792298Z",
          "iopub.status.busy": "2021-06-10T17:48:54.791304Z",
          "iopub.status.idle": "2021-06-10T17:48:54.795615Z",
          "shell.execute_reply": "2021-06-10T17:48:54.794765Z"
        },
        "id": "91a6e238"
      },
      "source": [
        "#📝📝📝📝 FILLME\n",
        "date1.year"
      ],
      "id": "91a6e238",
      "execution_count": null,
      "outputs": []
    },
    {
      "cell_type": "markdown",
      "metadata": {
        "id": "ab948503"
      },
      "source": [
        "# Group Exercise A"
      ],
      "id": "ab948503"
    },
    {
      "cell_type": "markdown",
      "metadata": {
        "id": "1bc157df"
      },
      "source": [
        "## Question 1"
      ],
      "id": "1bc157df"
    },
    {
      "cell_type": "markdown",
      "metadata": {
        "id": "8dbb3433"
      },
      "source": [
        "We saw that when we had a date type that it gave use the month as a number."
      ],
      "id": "8dbb3433"
    },
    {
      "cell_type": "code",
      "metadata": {
        "execution": {
          "iopub.execute_input": "2021-06-10T17:48:54.802236Z",
          "iopub.status.busy": "2021-06-10T17:48:54.801270Z",
          "iopub.status.idle": "2021-06-10T17:48:54.805109Z",
          "shell.execute_reply": "2021-06-10T17:48:54.805893Z"
        },
        "id": "786f61c2"
      },
      "source": [
        "date1.month"
      ],
      "id": "786f61c2",
      "execution_count": null,
      "outputs": []
    },
    {
      "cell_type": "markdown",
      "metadata": {
        "lines_to_next_cell": 2,
        "id": "6a7e3488"
      },
      "source": [
        "If we want to turn the months into more standard names we can\n",
        "do so by making a dictionary."
      ],
      "id": "6a7e3488"
    },
    {
      "cell_type": "markdown",
      "metadata": {
        "lines_to_next_cell": 2,
        "id": "4226e2d6"
      },
      "source": [
        "📝📝📝📝 FILLME\n",
        "months = {\n",
        "   1 : \"Jan\",\n",
        "   ...\n",
        "}"
      ],
      "id": "4226e2d6"
    },
    {
      "cell_type": "markdown",
      "metadata": {
        "id": "8c26ea5f"
      },
      "source": [
        "User your dictionary to convert the current month to a month name."
      ],
      "id": "8c26ea5f"
    },
    {
      "cell_type": "code",
      "metadata": {
        "execution": {
          "iopub.execute_input": "2021-06-10T17:48:54.811862Z",
          "iopub.status.busy": "2021-06-10T17:48:54.810915Z",
          "iopub.status.idle": "2021-06-10T17:48:54.813777Z",
          "shell.execute_reply": "2021-06-10T17:48:54.812945Z"
        },
        "id": "61df3a40"
      },
      "source": [
        "#📝📝📝📝 FILLME\n",
        "date1.year\n",
        "pass_month_name = {1:'Jan', 2: 'Feb', 3: 'Mar', 4:'Apr', 5:'May', 6: 'Jun', 7: 'Jul', 8: 'Aug', 9:'Sep', 10: 'Oct', 11: 'Nov', 12:'Dec'}\n"
      ],
      "id": "61df3a40",
      "execution_count": null,
      "outputs": []
    },
    {
      "cell_type": "code",
      "metadata": {
        "id": "WwO_dF6-ZXPW"
      },
      "source": [
        ""
      ],
      "id": "WwO_dF6-ZXPW",
      "execution_count": null,
      "outputs": []
    },
    {
      "cell_type": "markdown",
      "metadata": {
        "id": "d670e5d5"
      },
      "source": [
        "## Question 2"
      ],
      "id": "d670e5d5"
    },
    {
      "cell_type": "markdown",
      "metadata": {
        "id": "88f9c95f"
      },
      "source": [
        "One common data operations is to `count` unique items. For instance\n",
        "if we are voting we may have a list of votes from each person voting for\n",
        "candidate A, B, or C"
      ],
      "id": "88f9c95f"
    },
    {
      "cell_type": "code",
      "metadata": {
        "execution": {
          "iopub.execute_input": "2021-06-10T17:48:54.819853Z",
          "iopub.status.busy": "2021-06-10T17:48:54.818963Z",
          "iopub.status.idle": "2021-06-10T17:48:54.822464Z",
          "shell.execute_reply": "2021-06-10T17:48:54.821612Z"
        },
        "id": "2538e100"
      },
      "source": [
        "votes = [\"A\", \"B\", \"A\", \"A\", \"C\", \"C\", \"B\", \"A\", \"A\", \"A\"]"
      ],
      "id": "2538e100",
      "execution_count": null,
      "outputs": []
    },
    {
      "cell_type": "markdown",
      "metadata": {
        "id": "bffe11c4"
      },
      "source": [
        "There is a special type in Python that makes this operation really easy known\n",
        "as a Counter. It lives in a package known as `collections`. We can use it\n",
        "by importing it like this"
      ],
      "id": "bffe11c4"
    },
    {
      "cell_type": "code",
      "metadata": {
        "execution": {
          "iopub.execute_input": "2021-06-10T17:48:54.828532Z",
          "iopub.status.busy": "2021-06-10T17:48:54.827644Z",
          "iopub.status.idle": "2021-06-10T17:48:54.831385Z",
          "shell.execute_reply": "2021-06-10T17:48:54.830519Z"
        },
        "id": "2f0aac8b"
      },
      "source": [
        "from collections import Counter"
      ],
      "id": "2f0aac8b",
      "execution_count": null,
      "outputs": []
    },
    {
      "cell_type": "markdown",
      "metadata": {
        "id": "6cd1e9c2"
      },
      "source": [
        "For this exercise, you should google for how to use the Counter.\n",
        "Use what you find to print out the count of each number of votes that\n",
        "each candidate \"A\" received."
      ],
      "id": "6cd1e9c2"
    },
    {
      "cell_type": "code",
      "metadata": {
        "execution": {
          "iopub.execute_input": "2021-06-10T17:48:54.837270Z",
          "iopub.status.busy": "2021-06-10T17:48:54.836371Z",
          "iopub.status.idle": "2021-06-10T17:48:54.840066Z",
          "shell.execute_reply": "2021-06-10T17:48:54.839302Z"
        },
        "id": "5705ed7b"
      },
      "source": [
        "#📝📝📝📝 FILLME\n",
        "Counter ({'A': 6, 'B': 2, 'C': 2})\n",
        "print(Counter(votes))"
      ],
      "id": "5705ed7b",
      "execution_count": null,
      "outputs": []
    },
    {
      "cell_type": "markdown",
      "metadata": {
        "id": "24f32b05"
      },
      "source": [
        "## Question 3"
      ],
      "id": "24f32b05"
    },
    {
      "cell_type": "markdown",
      "metadata": {
        "id": "3c23c9fe"
      },
      "source": [
        "Another useful aspect of the `Counter` is that it can tell you the most common\n",
        "elements in a list. This is particularly useful when there are a ton of different\n",
        "elements to work with. Google for how to find the most common element in a list."
      ],
      "id": "3c23c9fe"
    },
    {
      "cell_type": "markdown",
      "metadata": {
        "id": "d1557a84"
      },
      "source": [
        "For this question, you will tell us the 10th most common letter in the beginning of the \"Wizard of Oz\"."
      ],
      "id": "d1557a84"
    },
    {
      "cell_type": "code",
      "metadata": {
        "execution": {
          "iopub.execute_input": "2021-06-10T17:48:54.864284Z",
          "iopub.status.busy": "2021-06-10T17:48:54.863329Z",
          "iopub.status.idle": "2021-06-10T17:48:54.866994Z",
          "shell.execute_reply": "2021-06-10T17:48:54.867731Z"
        },
        "id": "ab6d8637"
      },
      "source": [
        "wizard_of_oz = list(\"Dorothy lived in the midst of the great Kansas prairies, with Uncle Henry, who was a farmer, and Aunt Em, who was the farmer’s wife. Their house was small, for the lumber to build it had to be carried by wagon many miles. There were four walls, a floor and a roof, which made one room; and this room contained a rusty looking cookstove, a cupboard for the dishes, a table, three or four chairs, and the beds. Uncle Henry and Aunt Em had a big bed in one corner, and Dorothy a little bed in another corner. There was no garret at all, and no cellar—except a small hole dug in the ground, called a cyclone cellar, where the family could go in case one of those great whirlwinds arose, mighty enough to crush any building in its path. It was reached by a trap door in the middle of the floor, from which a ladder led down into the small, dark hole.\")\n",
        "wizard_of_oz"
      ],
      "id": "ab6d8637",
      "execution_count": null,
      "outputs": []
    },
    {
      "cell_type": "markdown",
      "metadata": {
        "id": "8fc7fe47"
      },
      "source": [
        "Print out the 10'th most common element in this list."
      ],
      "id": "8fc7fe47"
    },
    {
      "cell_type": "code",
      "metadata": {
        "execution": {
          "iopub.execute_input": "2021-06-10T17:48:54.872631Z",
          "iopub.status.busy": "2021-06-10T17:48:54.871740Z",
          "iopub.status.idle": "2021-06-10T17:48:54.874430Z",
          "shell.execute_reply": "2021-06-10T17:48:54.873641Z"
        },
        "id": "767ed4e5"
      },
      "source": [
        "#📝📝📝📝 FILLME\n",
        "list(\"Dorothy lived in the midst of the great Kansas prairies, with Uncle Henry, who was a farmer, and Aunt Em, who was the farmer’s wife. Their house was small, for the lumber to build it had to be carried by wagon many miles. There were four walls, a floor and a roof, which made one room; and this room contained a rusty looking cookstove, a cupboard for the dishes, a table, three or four chairs, and the beds. Uncle Henry and Aunt Em had a big bed in one corner, and Dorothy a little bed in another corner. There was no garret at all, and no cellar—except a small hole dug in the ground, called a cyclone cellar, where the family could go in case one of those great whirlwinds arose, mighty enough to crush any building in its path. It was reached by a trap door in the middle of the floor, from which a ladder led down into the small, dark hole.\")\n",
        "a_counter = collections.Counter(list)\n",
        "most_common = a_counter.most_common(10)\n",
        "print(most_common)\n"
      ],
      "id": "767ed4e5",
      "execution_count": null,
      "outputs": []
    },
    {
      "cell_type": "markdown",
      "metadata": {
        "id": "5fd38795"
      },
      "source": [
        "More than anything remember this. The best programmers use help the\n",
        "most! No one wins a prize for memorizing the most functions. If you\n",
        "want to be a good programmer, learn how to look things up quickly and\n",
        "ask the most questions."
      ],
      "id": "5fd38795"
    },
    {
      "cell_type": "markdown",
      "metadata": {
        "id": "b9f0a47a"
      },
      "source": [
        "# Unit B"
      ],
      "id": "b9f0a47a"
    },
    {
      "cell_type": "markdown",
      "metadata": {
        "id": "be976ee9"
      },
      "source": [
        "In addition to the data types and libraries, we will sometimes\n",
        "use Python to write our own code. In general when doing data science\n",
        "you should not have to write very long amounts of code, but there are\n",
        "some cases when it is useful."
      ],
      "id": "be976ee9"
    },
    {
      "cell_type": "markdown",
      "metadata": {
        "id": "4331fa09"
      },
      "source": [
        "## Basic Structures"
      ],
      "id": "4331fa09"
    },
    {
      "cell_type": "markdown",
      "metadata": {
        "id": "3a889016"
      },
      "source": [
        "### `if` statements"
      ],
      "id": "3a889016"
    },
    {
      "cell_type": "markdown",
      "metadata": {
        "id": "b3a3e0ae"
      },
      "source": [
        "If statements check for a condition and run the\n",
        "code if it is true. In Python you need to indent\n",
        "the code under the if statement otherwise it will\n",
        "not run."
      ],
      "id": "b3a3e0ae"
    },
    {
      "cell_type": "code",
      "metadata": {
        "execution": {
          "iopub.execute_input": "2021-06-10T17:48:54.879986Z",
          "iopub.status.busy": "2021-06-10T17:48:54.879031Z",
          "iopub.status.idle": "2021-06-10T17:48:54.882836Z",
          "shell.execute_reply": "2021-06-10T17:48:54.882182Z"
        },
        "id": "5762fcc2"
      },
      "source": [
        "number3 = 10 + 75.0"
      ],
      "id": "5762fcc2",
      "execution_count": null,
      "outputs": []
    },
    {
      "cell_type": "code",
      "metadata": {
        "execution": {
          "iopub.execute_input": "2021-06-10T17:48:54.888953Z",
          "iopub.status.busy": "2021-06-10T17:48:54.888161Z",
          "iopub.status.idle": "2021-06-10T17:48:54.892624Z",
          "shell.execute_reply": "2021-06-10T17:48:54.891961Z"
        },
        "lines_to_next_cell": 2,
        "id": "94f09416"
      },
      "source": [
        "if number3 > 50:\n",
        "    print(\"number is greater than 50\")"
      ],
      "id": "94f09416",
      "execution_count": null,
      "outputs": []
    },
    {
      "cell_type": "code",
      "metadata": {
        "execution": {
          "iopub.execute_input": "2021-06-10T17:48:54.898410Z",
          "iopub.status.busy": "2021-06-10T17:48:54.897573Z",
          "iopub.status.idle": "2021-06-10T17:48:54.901263Z",
          "shell.execute_reply": "2021-06-10T17:48:54.900556Z"
        },
        "lines_to_next_cell": 2,
        "id": "3403faee"
      },
      "source": [
        "if number3 > 100:\n",
        "    print(\"number is greater than 100\")"
      ],
      "id": "3403faee",
      "execution_count": null,
      "outputs": []
    },
    {
      "cell_type": "markdown",
      "metadata": {
        "id": "11d465a6"
      },
      "source": [
        "You can also have a backup `else` code block that will run if\n",
        "the condition is not true."
      ],
      "id": "11d465a6"
    },
    {
      "cell_type": "code",
      "metadata": {
        "execution": {
          "iopub.execute_input": "2021-06-10T17:48:54.907717Z",
          "iopub.status.busy": "2021-06-10T17:48:54.906782Z",
          "iopub.status.idle": "2021-06-10T17:48:54.910684Z",
          "shell.execute_reply": "2021-06-10T17:48:54.909907Z"
        },
        "id": "2dbc0abe"
      },
      "source": [
        "if number3 > 100:\n",
        "    print(\"number is greater than 100\")\n",
        "else:\n",
        "    print(\"number is not greater than 100\")\n",
        "    print(\"Hello\")"
      ],
      "id": "2dbc0abe",
      "execution_count": null,
      "outputs": []
    },
    {
      "cell_type": "code",
      "metadata": {
        "id": "JNCOIIbqheDY"
      },
      "source": [
        "if number3 > 50 and number3 < 100:\n",
        "    print(\"between 50 and 100\")"
      ],
      "id": "JNCOIIbqheDY",
      "execution_count": null,
      "outputs": []
    },
    {
      "cell_type": "markdown",
      "metadata": {
        "id": "4ac246c6"
      },
      "source": [
        "### `for` loops"
      ],
      "id": "4ac246c6"
    },
    {
      "cell_type": "markdown",
      "metadata": {
        "id": "c4749dc5"
      },
      "source": [
        "For loops in python are used to step through the items in a list one by"
      ],
      "id": "c4749dc5"
    },
    {
      "cell_type": "code",
      "metadata": {
        "execution": {
          "iopub.execute_input": "2021-06-10T17:48:54.917364Z",
          "iopub.status.busy": "2021-06-10T17:48:54.916473Z",
          "iopub.status.idle": "2021-06-10T17:48:54.921705Z",
          "shell.execute_reply": "2021-06-10T17:48:54.920846Z"
        },
        "id": "2f9e8520"
      },
      "source": [
        "list3"
      ],
      "id": "2f9e8520",
      "execution_count": null,
      "outputs": []
    },
    {
      "cell_type": "markdown",
      "metadata": {
        "id": "24f7496b"
      },
      "source": [
        "You indicate a for loop in the following manner. The code will be run 5 times\n",
        "with the variable `value` taking on a new value each time through the loop."
      ],
      "id": "24f7496b"
    },
    {
      "cell_type": "code",
      "metadata": {
        "id": "rs3tSajdil5j"
      },
      "source": [
        "list4 = [\"Manhattan\", \"Queens\", \"Brooklyn\"]\n",
        "for value in list4:\n",
        "    print(\"Next value is: \", value)"
      ],
      "id": "rs3tSajdil5j",
      "execution_count": null,
      "outputs": []
    },
    {
      "cell_type": "code",
      "metadata": {
        "execution": {
          "iopub.execute_input": "2021-06-10T17:48:54.928208Z",
          "iopub.status.busy": "2021-06-10T17:48:54.927220Z",
          "iopub.status.idle": "2021-06-10T17:48:54.931790Z",
          "shell.execute_reply": "2021-06-10T17:48:54.932912Z"
        },
        "id": "4a165ff6"
      },
      "source": [
        "for value in list3:\n",
        "    print(\"Next value is: \", value)"
      ],
      "id": "4a165ff6",
      "execution_count": null,
      "outputs": []
    },
    {
      "cell_type": "markdown",
      "metadata": {
        "id": "2b296f5c"
      },
      "source": [
        "Note: unlike other languages Python for loops always need a list to\n",
        "walkthough. This differs from language where you have a counter variable."
      ],
      "id": "2b296f5c"
    },
    {
      "cell_type": "markdown",
      "metadata": {
        "id": "89822246"
      },
      "source": [
        "However, Python also includes a nice shortcut for making it easy to write for\n",
        "loops like this. The command `range` will make a list starting from\n",
        "a value and stop right before the end value."
      ],
      "id": "89822246"
    },
    {
      "cell_type": "code",
      "metadata": {
        "execution": {
          "iopub.execute_input": "2021-06-10T17:48:54.939395Z",
          "iopub.status.busy": "2021-06-10T17:48:54.938457Z",
          "iopub.status.idle": "2021-06-10T17:48:54.943565Z",
          "shell.execute_reply": "2021-06-10T17:48:54.942783Z"
        },
        "id": "850f43da"
      },
      "source": [
        "for val in range(10):\n",
        "    print(val)"
      ],
      "id": "850f43da",
      "execution_count": null,
      "outputs": []
    },
    {
      "cell_type": "markdown",
      "metadata": {
        "id": "91edf2c4"
      },
      "source": [
        "👩‍🎓**Student Question: Print out each month name from your month dictionary.**"
      ],
      "id": "91edf2c4"
    },
    {
      "cell_type": "code",
      "metadata": {
        "execution": {
          "iopub.execute_input": "2021-06-10T17:48:54.950127Z",
          "iopub.status.busy": "2021-06-10T17:48:54.949224Z",
          "iopub.status.idle": "2021-06-10T17:48:54.952914Z",
          "shell.execute_reply": "2021-06-10T17:48:54.952021Z"
        },
        "lines_to_next_cell": 2,
        "id": "477a4828"
      },
      "source": [
        "#📝📝📝📝 FILLME\n",
        "months = {1: \"Jan\", 2:\"Feb\", 3:\"March\", 4:\"April\"}\n",
        "for month in [1, 2, 3, 4]:\n",
        "      print(months[months])"
      ],
      "id": "477a4828",
      "execution_count": null,
      "outputs": []
    },
    {
      "cell_type": "markdown",
      "metadata": {
        "id": "fc7a368f"
      },
      "source": [
        "## Working with Strings"
      ],
      "id": "fc7a368f"
    },
    {
      "cell_type": "markdown",
      "metadata": {
        "id": "5e5bf313"
      },
      "source": [
        "Strings are an importnat special case. Throughout this class we will\n",
        "work a lot with text. We will start with simple examples and work our\n",
        "way up to artificial intelligence over text."
      ],
      "id": "5e5bf313"
    },
    {
      "cell_type": "markdown",
      "metadata": {
        "id": "3a259c53"
      },
      "source": [
        "Text will also be represented with a string type. This is created with\n",
        "quotes."
      ],
      "id": "3a259c53"
    },
    {
      "cell_type": "code",
      "metadata": {
        "execution": {
          "iopub.execute_input": "2021-06-10T17:48:54.959065Z",
          "iopub.status.busy": "2021-06-10T17:48:54.958113Z",
          "iopub.status.idle": "2021-06-10T17:48:54.960423Z",
          "shell.execute_reply": "2021-06-10T17:48:54.961141Z"
        },
        "id": "47ff09cf"
      },
      "source": [
        "str1 = \"A sample string to get started\""
      ],
      "id": "47ff09cf",
      "execution_count": null,
      "outputs": []
    },
    {
      "cell_type": "markdown",
      "metadata": {
        "id": "23717d9b"
      },
      "source": [
        "Just like with lists, we can make a for loop over strings to get individual letters."
      ],
      "id": "23717d9b"
    },
    {
      "cell_type": "code",
      "metadata": {
        "execution": {
          "iopub.execute_input": "2021-06-10T17:48:54.968308Z",
          "iopub.status.busy": "2021-06-10T17:48:54.967374Z",
          "iopub.status.idle": "2021-06-10T17:48:54.974556Z",
          "shell.execute_reply": "2021-06-10T17:48:54.973660Z"
        },
        "id": "022cafb0"
      },
      "source": [
        "for letter in str1:\n",
        "    print(letter)"
      ],
      "id": "022cafb0",
      "execution_count": null,
      "outputs": []
    },
    {
      "cell_type": "code",
      "metadata": {
        "execution": {
          "iopub.execute_input": "2021-06-10T17:48:54.981578Z",
          "iopub.status.busy": "2021-06-10T17:48:54.980684Z",
          "iopub.status.idle": "2021-06-10T17:48:54.985835Z",
          "shell.execute_reply": "2021-06-10T17:48:54.985083Z"
        },
        "id": "ca1183d5"
      },
      "source": [
        "# First create a list of vowels\n",
        "vowels = [\"a\", \"e\", \"i\", \"o\", \"u\"]\n",
        "# For loop over each letter in the string\n",
        "for letter in str1:\n",
        "    # In the for loop\n",
        "    # If statement to check if letter is in vowels.\n",
        "    if letter in vowels:\n",
        "        # Print it only if is a vowel.\n",
        "        print(letter)"
      ],
      "id": "ca1183d5",
      "execution_count": null,
      "outputs": []
    },
    {
      "cell_type": "markdown",
      "metadata": {
        "id": "d558df75"
      },
      "source": [
        "However, most of the time it will be better to use one of the built-in\n",
        "functions in Python. Most of the time it is best to google for these, but\n",
        "here are some important ones to remember"
      ],
      "id": "d558df75"
    },
    {
      "cell_type": "markdown",
      "metadata": {
        "id": "43a2ce1d"
      },
      "source": [
        "### Split\n",
        "Splits a string up into a list of strings based on a separator"
      ],
      "id": "43a2ce1d"
    },
    {
      "cell_type": "code",
      "metadata": {
        "execution": {
          "iopub.execute_input": "2021-06-10T17:48:54.992561Z",
          "iopub.status.busy": "2021-06-10T17:48:54.991667Z",
          "iopub.status.idle": "2021-06-10T17:48:54.995333Z",
          "shell.execute_reply": "2021-06-10T17:48:54.996081Z"
        },
        "id": "f50d6fce"
      },
      "source": [
        "str1 = \"a:b:c\"\n",
        "list_of_splits = str1.split(\":\")\n",
        "list_of_splits[1]"
      ],
      "id": "f50d6fce",
      "execution_count": null,
      "outputs": []
    },
    {
      "cell_type": "markdown",
      "metadata": {
        "id": "5d106b29"
      },
      "source": [
        "### Join\n",
        "Joins a string back together from a list."
      ],
      "id": "5d106b29"
    },
    {
      "cell_type": "code",
      "metadata": {
        "execution": {
          "iopub.execute_input": "2021-06-10T17:48:55.002445Z",
          "iopub.status.busy": "2021-06-10T17:48:55.001540Z",
          "iopub.status.idle": "2021-06-10T17:48:55.005220Z",
          "shell.execute_reply": "2021-06-10T17:48:55.004287Z"
        },
        "id": "3fd14f31"
      },
      "source": [
        "str1 = \",\".join(list_of_splits)"
      ],
      "id": "3fd14f31",
      "execution_count": null,
      "outputs": []
    },
    {
      "cell_type": "markdown",
      "metadata": {
        "id": "f6994c3d"
      },
      "source": [
        "👩‍🎓**Student Question: What value does ```str1``` have?**"
      ],
      "id": "f6994c3d"
    },
    {
      "cell_type": "code",
      "metadata": {
        "execution": {
          "iopub.execute_input": "2021-06-10T17:48:55.011249Z",
          "iopub.status.busy": "2021-06-10T17:48:55.010258Z",
          "iopub.status.idle": "2021-06-10T17:48:55.013813Z",
          "shell.execute_reply": "2021-06-10T17:48:55.012710Z"
        },
        "id": "09f45ed6"
      },
      "source": [
        "#📝📝📝📝 FILLME\n",
        "str1"
      ],
      "id": "09f45ed6",
      "execution_count": null,
      "outputs": []
    },
    {
      "cell_type": "markdown",
      "metadata": {
        "id": "55c99006"
      },
      "source": [
        "### Replace\n",
        "Replaces some part of a string."
      ],
      "id": "55c99006"
    },
    {
      "cell_type": "code",
      "metadata": {
        "execution": {
          "iopub.execute_input": "2021-06-10T17:48:55.020320Z",
          "iopub.status.busy": "2021-06-10T17:48:55.019470Z",
          "iopub.status.idle": "2021-06-10T17:48:55.023405Z",
          "shell.execute_reply": "2021-06-10T17:48:55.024209Z"
        },
        "id": "0f0e8be0"
      },
      "source": [
        "original_str = \"Item 1 | Item 2 | Item 3\"\n",
        "new_str = original_str.replace(\"|\", \",\")\n",
        "new_str"
      ],
      "id": "0f0e8be0",
      "execution_count": null,
      "outputs": []
    },
    {
      "cell_type": "code",
      "metadata": {
        "execution": {
          "iopub.execute_input": "2021-06-10T17:48:55.031083Z",
          "iopub.status.busy": "2021-06-10T17:48:55.030138Z",
          "iopub.status.idle": "2021-06-10T17:48:55.034262Z",
          "shell.execute_reply": "2021-06-10T17:48:55.034971Z"
        },
        "id": "2eb08778"
      },
      "source": [
        "new_str = original_str.replace(\"|\", \" pizza \")\n",
        "new_str"
      ],
      "id": "2eb08778",
      "execution_count": null,
      "outputs": []
    },
    {
      "cell_type": "code",
      "metadata": {
        "id": "CgZq3XnXlzNO"
      },
      "source": [
        "original_str"
      ],
      "id": "CgZq3XnXlzNO",
      "execution_count": null,
      "outputs": []
    },
    {
      "cell_type": "markdown",
      "metadata": {
        "id": "6d224bdd"
      },
      "source": [
        "### In\n",
        "Checks if one string contains another"
      ],
      "id": "6d224bdd"
    },
    {
      "cell_type": "code",
      "metadata": {
        "execution": {
          "iopub.execute_input": "2021-06-10T17:48:55.041056Z",
          "iopub.status.busy": "2021-06-10T17:48:55.040154Z",
          "iopub.status.idle": "2021-06-10T17:48:55.044045Z",
          "shell.execute_reply": "2021-06-10T17:48:55.043193Z"
        },
        "id": "525e85e4"
      },
      "source": [
        "original_str = \"Item 1 | Item 2 | Item 3\"\n",
        "contains1 = \"Item 2\" in original_str"
      ],
      "id": "525e85e4",
      "execution_count": null,
      "outputs": []
    },
    {
      "cell_type": "code",
      "metadata": {
        "execution": {
          "iopub.execute_input": "2021-06-10T17:48:55.049897Z",
          "iopub.status.busy": "2021-06-10T17:48:55.049001Z",
          "iopub.status.idle": "2021-06-10T17:48:55.052653Z",
          "shell.execute_reply": "2021-06-10T17:48:55.051904Z"
        },
        "id": "e0323632"
      },
      "source": [
        "contains2 = \"Item 4\" in original_str"
      ],
      "id": "e0323632",
      "execution_count": null,
      "outputs": []
    },
    {
      "cell_type": "markdown",
      "metadata": {
        "id": "b7f2c3fd"
      },
      "source": [
        "👩‍🎓**Student Question: What values do `contains1` and `contains2` have?**"
      ],
      "id": "b7f2c3fd"
    },
    {
      "cell_type": "code",
      "metadata": {
        "execution": {
          "iopub.execute_input": "2021-06-10T17:48:55.058320Z",
          "iopub.status.busy": "2021-06-10T17:48:55.057412Z",
          "iopub.status.idle": "2021-06-10T17:48:55.060564Z",
          "shell.execute_reply": "2021-06-10T17:48:55.059791Z"
        },
        "id": "8864c7a3"
      },
      "source": [
        "#📝📝📝📝 FILLME\n",
        "pass"
      ],
      "id": "8864c7a3",
      "execution_count": null,
      "outputs": []
    },
    {
      "cell_type": "markdown",
      "metadata": {
        "id": "233ff207"
      },
      "source": [
        "###  Conversions\n",
        "Converts between a string and a number"
      ],
      "id": "233ff207"
    },
    {
      "cell_type": "code",
      "metadata": {
        "execution": {
          "iopub.execute_input": "2021-06-10T17:48:55.067103Z",
          "iopub.status.busy": "2021-06-10T17:48:55.066179Z",
          "iopub.status.idle": "2021-06-10T17:48:55.069626Z",
          "shell.execute_reply": "2021-06-10T17:48:55.070359Z"
        },
        "id": "ef1cc551"
      },
      "source": [
        "int1 = int(\"15\")\n",
        "int1"
      ],
      "id": "ef1cc551",
      "execution_count": null,
      "outputs": []
    },
    {
      "cell_type": "code",
      "metadata": {
        "execution": {
          "iopub.execute_input": "2021-06-10T17:48:55.076563Z",
          "iopub.status.busy": "2021-06-10T17:48:55.075649Z",
          "iopub.status.idle": "2021-06-10T17:48:55.080069Z",
          "shell.execute_reply": "2021-06-10T17:48:55.078954Z"
        },
        "lines_to_next_cell": 1,
        "id": "78cd9d4f"
      },
      "source": [
        "decimal1 = float(\"15.50\")\n",
        "decimal1"
      ],
      "id": "78cd9d4f",
      "execution_count": null,
      "outputs": []
    },
    {
      "cell_type": "markdown",
      "metadata": {
        "id": "676656a8"
      },
      "source": [
        "## Functions"
      ],
      "id": "676656a8"
    },
    {
      "cell_type": "markdown",
      "metadata": {
        "id": "258a29d4"
      },
      "source": [
        "Functions are small snippets of code that you may want to use\n",
        "multiple times."
      ],
      "id": "258a29d4"
    },
    {
      "cell_type": "code",
      "metadata": {
        "execution": {
          "iopub.execute_input": "2021-06-10T17:48:55.086274Z",
          "iopub.status.busy": "2021-06-10T17:48:55.085412Z",
          "iopub.status.idle": "2021-06-10T17:48:55.088644Z",
          "shell.execute_reply": "2021-06-10T17:48:55.087926Z"
        },
        "lines_to_next_cell": 1,
        "id": "459e599e"
      },
      "source": [
        "def add_man(str1):\n",
        "    return str1 + \"man\""
      ],
      "id": "459e599e",
      "execution_count": null,
      "outputs": []
    },
    {
      "cell_type": "code",
      "metadata": {
        "execution": {
          "iopub.execute_input": "2021-06-10T17:48:55.094773Z",
          "iopub.status.busy": "2021-06-10T17:48:55.093930Z",
          "iopub.status.idle": "2021-06-10T17:48:55.098083Z",
          "shell.execute_reply": "2021-06-10T17:48:55.097338Z"
        },
        "id": "06cf4adc",
        "colab": {
          "base_uri": "https://localhost:8080/",
          "height": 35
        },
        "outputId": "bc939569-c05d-43a0-f685-6bbac6c1550e"
      },
      "source": [
        "out = add_man(\"bat\")\n",
        "out2 \n"
      ],
      "id": "06cf4adc",
      "execution_count": null,
      "outputs": [
        {
          "output_type": "execute_result",
          "data": {
            "application/vnd.google.colaboratory.intrinsic+json": {
              "type": "string"
            },
            "text/plain": [
              "'spiderman'"
            ]
          },
          "metadata": {
            "tags": []
          },
          "execution_count": 218
        }
      ]
    },
    {
      "cell_type": "markdown",
      "metadata": {
        "id": "96e2fe5b"
      },
      "source": [
        "Most of the time, functions should not change the variables that\n",
        "are sent to them. For instance here we do not change the variable `y`."
      ],
      "id": "96e2fe5b"
    },
    {
      "cell_type": "code",
      "metadata": {
        "execution": {
          "iopub.execute_input": "2021-06-10T17:48:55.104668Z",
          "iopub.status.busy": "2021-06-10T17:48:55.103780Z",
          "iopub.status.idle": "2021-06-10T17:48:55.107203Z",
          "shell.execute_reply": "2021-06-10T17:48:55.107942Z"
        },
        "id": "12ee63f2",
        "outputId": "d19bc78f-d0ca-408a-8b80-60138f4d7ee8"
      },
      "source": [
        "y = \"bat\"\n",
        "out = add_man(y)\n",
        "out"
      ],
      "id": "12ee63f2",
      "execution_count": null,
      "outputs": [
        {
          "output_type": "execute_result",
          "data": {
            "text/plain": [
              "'batman'"
            ]
          },
          "metadata": {
            "tags": []
          },
          "execution_count": 1
        }
      ]
    },
    {
      "cell_type": "code",
      "metadata": {
        "execution": {
          "iopub.execute_input": "2021-06-10T17:48:55.114021Z",
          "iopub.status.busy": "2021-06-10T17:48:55.113077Z",
          "iopub.status.idle": "2021-06-10T17:48:55.116275Z",
          "shell.execute_reply": "2021-06-10T17:48:55.116950Z"
        },
        "id": "e0ee0c96",
        "outputId": "3e209228-976e-4cdb-a0f0-60e4031ecbcb"
      },
      "source": [
        "y"
      ],
      "id": "e0ee0c96",
      "execution_count": null,
      "outputs": [
        {
          "output_type": "execute_result",
          "data": {
            "text/plain": [
              "'bat'"
            ]
          },
          "metadata": {
            "tags": []
          },
          "execution_count": 1
        }
      ]
    },
    {
      "cell_type": "markdown",
      "metadata": {
        "lines_to_next_cell": 2,
        "id": "750a76b9"
      },
      "source": [
        "One interesting aspect of Python is that it lets your pass functions\n",
        "to functions. For instance, the built-in function `map` is a function\n",
        "applies another function to each element of a list."
      ],
      "id": "750a76b9"
    },
    {
      "cell_type": "markdown",
      "metadata": {
        "id": "81ea9934"
      },
      "source": [
        "Assume we have a list like this."
      ],
      "id": "81ea9934"
    },
    {
      "cell_type": "code",
      "metadata": {
        "execution": {
          "iopub.execute_input": "2021-06-10T17:48:55.122711Z",
          "iopub.status.busy": "2021-06-10T17:48:55.121877Z",
          "iopub.status.idle": "2021-06-10T17:48:55.124824Z",
          "shell.execute_reply": "2021-06-10T17:48:55.124108Z"
        },
        "id": "dd69ee7e"
      },
      "source": [
        "word_list = [\"spider\", \"bat\", \"super\"]"
      ],
      "id": "dd69ee7e",
      "execution_count": null,
      "outputs": []
    },
    {
      "cell_type": "markdown",
      "metadata": {
        "id": "7783a7e1"
      },
      "source": [
        "If we want a list with `man` added to each we cannot run the following:"
      ],
      "id": "7783a7e1"
    },
    {
      "cell_type": "markdown",
      "metadata": {
        "id": "866c5422"
      },
      "source": [
        "Doesn't work:  add_man(word_list)"
      ],
      "id": "866c5422"
    },
    {
      "cell_type": "markdown",
      "metadata": {
        "id": "6109a2a1"
      },
      "source": [
        "However, the map function makes this work, by creating a new list."
      ],
      "id": "6109a2a1"
    },
    {
      "cell_type": "code",
      "metadata": {
        "execution": {
          "iopub.execute_input": "2021-06-10T17:48:55.131147Z",
          "iopub.status.busy": "2021-06-10T17:48:55.130317Z",
          "iopub.status.idle": "2021-06-10T17:48:55.134572Z",
          "shell.execute_reply": "2021-06-10T17:48:55.133770Z"
        },
        "id": "f1a304f1",
        "outputId": "a8b0e0d0-6e6e-4a30-e0a0-95ef62e1c46e"
      },
      "source": [
        "out = map(add_man, word_list)\n",
        "out"
      ],
      "id": "f1a304f1",
      "execution_count": null,
      "outputs": [
        {
          "output_type": "execute_result",
          "data": {
            "text/plain": [
              "<map at 0x7fc83427bdf0>"
            ]
          },
          "metadata": {
            "tags": []
          },
          "execution_count": 1
        }
      ]
    },
    {
      "cell_type": "markdown",
      "metadata": {
        "id": "f8628d25"
      },
      "source": [
        "# Group Exercise B"
      ],
      "id": "f8628d25"
    },
    {
      "cell_type": "markdown",
      "metadata": {
        "id": "6990a653"
      },
      "source": [
        "## Question 1"
      ],
      "id": "6990a653"
    },
    {
      "cell_type": "markdown",
      "metadata": {
        "id": "bfa4b102"
      },
      "source": [
        "When processing real-world data it is very common to be given a\n",
        "complex string. that contains many different items all smashed together. "
      ],
      "id": "bfa4b102"
    },
    {
      "cell_type": "code",
      "metadata": {
        "execution": {
          "iopub.execute_input": "2021-06-10T17:48:55.140043Z",
          "iopub.status.busy": "2021-06-10T17:48:55.139298Z",
          "iopub.status.idle": "2021-06-10T17:48:55.142787Z",
          "shell.execute_reply": "2021-06-10T17:48:55.142017Z"
        },
        "id": "944c94cc"
      },
      "source": [
        "real_word_string1 = \"Sasha Rush,arush@cornell.edu,Roosevelt Island,NYC\""
      ],
      "id": "944c94cc",
      "execution_count": null,
      "outputs": []
    },
    {
      "cell_type": "markdown",
      "metadata": {
        "id": "70913915"
      },
      "source": [
        "Use one of the string functions above to pull out the email from\n",
        "this string and print it."
      ],
      "id": "70913915"
    },
    {
      "cell_type": "code",
      "metadata": {
        "execution": {
          "iopub.execute_input": "2021-06-10T17:48:55.148073Z",
          "iopub.status.busy": "2021-06-10T17:48:55.147169Z",
          "iopub.status.idle": "2021-06-10T17:48:55.151073Z",
          "shell.execute_reply": "2021-06-10T17:48:55.150129Z"
        },
        "id": "47c4dd8d",
        "colab": {
          "base_uri": "https://localhost:8080/"
        },
        "outputId": "3124cb81-7900-457f-98e7-7dbb4aca73c6"
      },
      "source": [
        "#📝📝📝📝 FILLME\n",
        "print(real_word_string1)"
      ],
      "id": "47c4dd8d",
      "execution_count": null,
      "outputs": [
        {
          "output_type": "stream",
          "text": [
            "Sasha Rush,arush@cornell.edu,Roosevelt Island,NYC\n"
          ],
          "name": "stdout"
        }
      ]
    },
    {
      "cell_type": "markdown",
      "metadata": {
        "id": "18105b0c"
      },
      "source": [
        "## Question 2"
      ],
      "id": "18105b0c"
    },
    {
      "cell_type": "markdown",
      "metadata": {
        "id": "0da2d639"
      },
      "source": [
        "Now assume the we have a list of strings."
      ],
      "id": "0da2d639"
    },
    {
      "cell_type": "code",
      "metadata": {
        "execution": {
          "iopub.execute_input": "2021-06-10T17:48:55.156922Z",
          "iopub.status.busy": "2021-06-10T17:48:55.156032Z",
          "iopub.status.idle": "2021-06-10T17:48:55.159538Z",
          "shell.execute_reply": "2021-06-10T17:48:55.158607Z"
        },
        "id": "373f709d"
      },
      "source": [
        "real_word_strings2 = [\"Sasha Rush,arush@cornell.edu,Roosevelt Island,NY\",\n",
        "                     \"Bill Jones,bjones@cornell.edu,Manhattan,NY\",\n",
        "                     \"Sarah Jones,sjones@cornell.edu,Queens,NY\"]"
      ],
      "id": "373f709d",
      "execution_count": null,
      "outputs": []
    },
    {
      "cell_type": "markdown",
      "metadata": {
        "id": "c4e8146e"
      },
      "source": [
        "Write a for loop that does the following."
      ],
      "id": "c4e8146e"
    },
    {
      "cell_type": "markdown",
      "metadata": {
        "id": "a8ca1895"
      },
      "source": [
        "* Steps through each string\n",
        "* Finds the email address\n",
        "* Prints out the email address"
      ],
      "id": "a8ca1895"
    },
    {
      "cell_type": "code",
      "metadata": {
        "execution": {
          "iopub.execute_input": "2021-06-10T17:48:55.165182Z",
          "iopub.status.busy": "2021-06-10T17:48:55.164270Z",
          "iopub.status.idle": "2021-06-10T17:48:55.167367Z",
          "shell.execute_reply": "2021-06-10T17:48:55.166431Z"
        },
        "id": "afbd56ab",
        "colab": {
          "base_uri": "https://localhost:8080/"
        },
        "outputId": "38219187-3f90-4af1-8aec-c68505227608"
      },
      "source": [
        "#📝📝📝📝 FILLME\n",
        "for value in real_word_strings2:\n",
        "  print(\"email address: \", value)"
      ],
      "id": "afbd56ab",
      "execution_count": null,
      "outputs": [
        {
          "output_type": "stream",
          "text": [
            "email address:  Sasha Rush,arush@cornell.edu,Roosevelt Island,NY\n",
            "email address:  Bill Jones,bjones@cornell.edu,Manhattan,NY\n",
            "email address:  Sarah Jones,sjones@cornell.edu,Queens,NY\n"
          ],
          "name": "stdout"
        }
      ]
    },
    {
      "cell_type": "markdown",
      "metadata": {
        "id": "da763ab8"
      },
      "source": [
        "## Question 3"
      ],
      "id": "da763ab8"
    },
    {
      "cell_type": "markdown",
      "metadata": {
        "id": "bLSEHzEps_XK"
      },
      "source": [
        ""
      ],
      "id": "bLSEHzEps_XK"
    },
    {
      "cell_type": "markdown",
      "metadata": {
        "id": "e7e3b989"
      },
      "source": [
        "Next we will assume that we have a list of strings where people come from\n",
        "different locations. Your goal is to step through the list and print out the\n",
        "emails of *only* the people who come from New York."
      ],
      "id": "e7e3b989"
    },
    {
      "cell_type": "code",
      "metadata": {
        "execution": {
          "iopub.execute_input": "2021-06-10T17:48:55.173101Z",
          "iopub.status.busy": "2021-06-10T17:48:55.172302Z",
          "iopub.status.idle": "2021-06-10T17:48:55.175973Z",
          "shell.execute_reply": "2021-06-10T17:48:55.175140Z"
        },
        "id": "6df36b8f"
      },
      "source": [
        "real_word_strings3 = [\"Sasha Rush,arush@cornell.edu,Roosevelt Island,NY\",\n",
        "                      \"Erica Zhou,ezhou@cornell.edu,Manhattan,NY\",\n",
        "                      \"Jessica Peters,jpeters@cornell.edu,Miami,FL\",\n",
        "                      \"Bill Jones,bjones@cornell.edu,Philadelpha,PA\",\n",
        "                      \"Sarah Jones,sjones@cornell.edu,Queens,NY\"]"
      ],
      "id": "6df36b8f",
      "execution_count": null,
      "outputs": []
    },
    {
      "cell_type": "code",
      "metadata": {
        "execution": {
          "iopub.execute_input": "2021-06-10T17:48:55.181245Z",
          "iopub.status.busy": "2021-06-10T17:48:55.180446Z",
          "iopub.status.idle": "2021-06-10T17:48:55.183979Z",
          "shell.execute_reply": "2021-06-10T17:48:55.183304Z"
        },
        "id": "ffa1e570",
        "colab": {
          "base_uri": "https://localhost:8080/",
          "height": 128
        },
        "outputId": "5fe2faa6-eb85-490a-a5d1-1cabca9f7bc3"
      },
      "source": [
        "#📝📝📝📝 FILLMe\n",
        "for item in list:\n",
        "    list_of_item = item.split(',')\n",
        "    if list_of_item[3] == 'NY'\n",
        "    then print list_of_item[1]"
      ],
      "id": "ffa1e570",
      "execution_count": null,
      "outputs": [
        {
          "output_type": "error",
          "ename": "SyntaxError",
          "evalue": "ignored",
          "traceback": [
            "\u001b[0;36m  File \u001b[0;32m\"<ipython-input-23-26db7ee0175f>\"\u001b[0;36m, line \u001b[0;32m4\u001b[0m\n\u001b[0;31m    if list_of_item[3] == 'NY'\u001b[0m\n\u001b[0m                              ^\u001b[0m\n\u001b[0;31mSyntaxError\u001b[0m\u001b[0;31m:\u001b[0m invalid syntax\n"
          ]
        }
      ]
    },
    {
      "cell_type": "markdown",
      "metadata": {
        "id": "4c9400c3"
      },
      "source": [
        "## Question 4"
      ],
      "id": "4c9400c3"
    },
    {
      "cell_type": "markdown",
      "metadata": {
        "id": "b0883424"
      },
      "source": [
        "Finally lets assume that we want to create a new list of strings. We are going to do this\n",
        "by adding one more element to each string."
      ],
      "id": "b0883424"
    },
    {
      "cell_type": "markdown",
      "metadata": {
        "id": "7af8f3ca"
      },
      "source": [
        "Instead of \"Sasha Rush,arush@cornell.edu,Roosevelt Island,NY\"\n",
        "we want it to say =>\n",
        "\"Sasha Rush,arush@cornell.edu,Roosevelt Island,NY,Computer Science\" "
      ],
      "id": "7af8f3ca"
    },
    {
      "cell_type": "markdown",
      "metadata": {
        "id": "9f74f1f1"
      },
      "source": [
        "Your task is to add this last element to each one of the strings"
      ],
      "id": "9f74f1f1"
    },
    {
      "cell_type": "code",
      "metadata": {
        "execution": {
          "iopub.execute_input": "2021-06-10T17:48:55.190335Z",
          "iopub.status.busy": "2021-06-10T17:48:55.189212Z",
          "iopub.status.idle": "2021-06-10T17:48:55.192601Z",
          "shell.execute_reply": "2021-06-10T17:48:55.191606Z"
        },
        "id": "ef9d5634"
      },
      "source": [
        "real_word_strings4 = [\"Sasha Rush,arush@cornell.edu,Roosevelt Island,NY\",\n",
        "                      \"Erica Zhou,ezhou@cornell.edu,Manhattan,NY\",\n",
        "                      \"Jessica Peters,jpeters@cornell.edu,Miami,FL\",\n",
        "                      \"Bill Jones,bjones@cornell.edu,Philadelpha,PA\",\n",
        "                      \"Sarah Jones,sjones@cornell.edu,Queens,NY\"]"
      ],
      "id": "ef9d5634",
      "execution_count": null,
      "outputs": []
    },
    {
      "cell_type": "code",
      "metadata": {
        "execution": {
          "iopub.execute_input": "2021-06-10T17:48:55.198304Z",
          "iopub.status.busy": "2021-06-10T17:48:55.197326Z",
          "iopub.status.idle": "2021-06-10T17:48:55.200985Z",
          "shell.execute_reply": "2021-06-10T17:48:55.199968Z"
        },
        "id": "758c231d",
        "colab": {
          "base_uri": "https://localhost:8080/",
          "height": 128
        },
        "outputId": "600071b7-644d-4f18-8d68-9a6685f6ab23"
      },
      "source": [
        "#📝📝📝📝 FILLME\n",
        "for item in list:\n",
        "    list_of_item = item.split(',')\n",
        "    if list_of_item[3] == 'NY'\n",
        "then print list_of_item[1]"
      ],
      "id": "758c231d",
      "execution_count": null,
      "outputs": [
        {
          "output_type": "error",
          "ename": "SyntaxError",
          "evalue": "ignored",
          "traceback": [
            "\u001b[0;36m  File \u001b[0;32m\"<ipython-input-33-4eaec280ea09>\"\u001b[0;36m, line \u001b[0;32m4\u001b[0m\n\u001b[0;31m    if list_of_item[3] == 'NY'\u001b[0m\n\u001b[0m                              ^\u001b[0m\n\u001b[0;31mSyntaxError\u001b[0m\u001b[0;31m:\u001b[0m invalid syntax\n"
          ]
        }
      ]
    }
  ]
}